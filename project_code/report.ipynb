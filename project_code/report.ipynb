{
 "cells": [
  {
   "cell_type": "markdown",
   "metadata": {},
   "source": [
    "# Data enginner challenge\n"
   ]
  },
  {
   "cell_type": "code",
   "execution_count": 121,
   "metadata": {},
   "outputs": [],
   "source": [
    "import pyspark\n",
    "\n",
    "spark = pyspark.sql.SparkSession.builder.appName(\"inconsistences_report\").getOrCreate()\n",
    "CURRENT_DAY= '2024-12-03'"
   ]
  },
  {
   "cell_type": "code",
   "execution_count": 122,
   "metadata": {},
   "outputs": [],
   "source": [
    "import pyspark.sql.functions as spark_f\n",
    "\n",
    "def flatten_column(df,column):\n",
    "    sub_columns = df.select(f\"{column}.*\").columns\n",
    "    for sub_column in sub_columns:\n",
    "        df = df.withColumn(f\"{column}_{sub_column}\", spark_f.col(f\"{column}.{sub_column}\"))\n",
    "    return df.drop(column)\n",
    "\n",
    "def histogram(df, column,title):\n",
    "    import plotly.express as px\n",
    "    fig = px.histogram(\n",
    "        df,\n",
    "        x=column,\n",
    "        title=title,\n",
    "    )\n",
    "    fig.show()\n",
    "\n",
    "def pie_chart(df, column, title, category_orders=None):\n",
    "    import plotly.express as px\n",
    "    df = df.groupby(column).count().rename(columns={df.columns[0]: \"count\"}).reset_index().sort_values(column)\n",
    "    # print(df.head())\n",
    "    fig = px.pie(\n",
    "        df,\n",
    "        names=column,\n",
    "        values=\"count\",\n",
    "        category_orders = category_orders,\n",
    "        title=title,\n",
    "    )\n",
    "    # fig.update_xaxes(categoryorder=\"category ascending\")\n",
    "    fig.show()"
   ]
  },
  {
   "cell_type": "code",
   "execution_count": 123,
   "metadata": {},
   "outputs": [],
   "source": [
    "raw_allowance_backend_table = spark.read.csv(\"../data/allowance_backend_table.csv\", header=True)\n",
    "raw_allowance_events = spark.read.json(\"../data/allowance_events.json\", multiLine = True)\n",
    "raw_payments_schedule_backend_table = spark.read.csv(\"../data/payments_schedule_backend_table.csv\", header=True)"
   ]
  },
  {
   "cell_type": "markdown",
   "metadata": {},
   "source": [
    "### cleaned allowance events"
   ]
  },
  {
   "cell_type": "code",
   "execution_count": 124,
   "metadata": {},
   "outputs": [
    {
     "name": "stdout",
     "output_type": "stream",
     "text": [
      "[('allowance_amount', 'bigint'), ('allowance_scheduled_day', 'string'), ('allowance_scheduled_frequency', 'string'), ('event_name', 'string'), ('event_timestamp', 'string'), ('user_id', 'string')]\n",
      "+----------------+-----------------------+-----------------------------+-----------------+-------------------+--------------------+\n",
      "|allowance_amount|allowance_scheduled_day|allowance_scheduled_frequency|       event_name|    event_timestamp|             user_id|\n",
      "+----------------+-----------------------+-----------------------------+-----------------+-------------------+--------------------+\n",
      "|              20|               saturday|                       weekly|allowance.created|2024-11-28 07:10:16|38f8d838-ea08-4fd...|\n",
      "|               5|          fifteenth_day|                      monthly|allowance.created|2024-09-05 13:30:38|9748cdad-69a4-400...|\n",
      "|               5|               saturday|                       weekly|allowance.created|2024-10-21 17:27:50|8252c070-2698-49d...|\n",
      "|               3|                 monday|                     biweekly| allowance.edited|2024-11-06 12:53:31|3c700c10-3d42-49a...|\n",
      "|              10|                 friday|                     biweekly|allowance.created|2024-11-23 07:56:18|d6331731-dafe-4bb...|\n",
      "|              20|                  daily|                        daily| allowance.edited|2024-10-14 17:33:57|d299d804-0d05-48c...|\n",
      "|              10|          fifteenth_day|                      monthly| allowance.edited|2024-10-15 18:29:55|d299d804-0d05-48c...|\n",
      "|              20|              first_day|                      monthly| allowance.edited|2024-09-21 17:02:11|113d8189-3ce0-47b...|\n",
      "|               1|                 monday|                     biweekly| allowance.edited|2024-10-15 10:02:59|c3e2b88d-75fc-449...|\n",
      "|               5|                 friday|                       weekly| allowance.edited|2024-08-06 14:03:58|ba179220-3b79-429...|\n",
      "|              15|                 sunday|                       weekly| allowance.edited|2024-08-10 07:21:42|8c212fdf-895b-4d3...|\n",
      "|               4|                 monday|                     biweekly|allowance.created|2024-09-07 08:14:12|138a678d-b0eb-46a...|\n",
      "|              10|                 friday|                       weekly| allowance.edited|2024-08-08 08:12:00|03bc2115-7d48-4be...|\n",
      "|               5|              first_day|                      monthly| allowance.edited|2024-11-10 07:28:22|e48bb548-a87a-406...|\n",
      "|              20|               saturday|                       weekly|allowance.created|2024-08-26 17:05:52|3f046523-49b3-4ef...|\n",
      "|              10|              wednesday|                     biweekly|allowance.created|2024-10-19 05:03:41|9af3c140-86b0-403...|\n",
      "|              10|          fifteenth_day|                      monthly| allowance.edited|2024-09-06 17:54:33|63a03a70-da6b-452...|\n",
      "|              20|                 sunday|                       weekly| allowance.edited|2024-11-15 09:12:13|62023832-c468-45f...|\n",
      "|             200|                 friday|                       weekly| allowance.edited|2024-10-31 03:53:41|560c5cf4-5fd8-447...|\n",
      "|              10|                 friday|                       weekly|allowance.created|2024-10-22 13:59:37|61609771-d5b0-46d...|\n",
      "+----------------+-----------------------+-----------------------------+-----------------+-------------------+--------------------+\n",
      "only showing top 20 rows\n",
      "\n"
     ]
    }
   ],
   "source": [
    "allowance_events = flatten_column(raw_allowance_events, \"allowance\")\n",
    "allowance_events = flatten_column(allowance_events, \"allowance_scheduled\")\n",
    "allowance_events = flatten_column(allowance_events, \"event\")\n",
    "allowance_events = flatten_column(allowance_events, \"user\")\n",
    "\n",
    "print(allowance_events.dtypes)\n",
    "cleaned_events = allowance_events.withColumn(\n",
    "    \"event_timestamp\", allowance_events.event_timestamp.cast(\"timestamp\")\n",
    ").alias(\"cleaned_events\")\n",
    "\n",
    "cleaned_events = cleaned_events.dropDuplicates()\n",
    "cleaned_events.show()\n",
    "\n",
    "\n",
    "# payments_schedule_backend_table.show()"
   ]
  },
  {
   "cell_type": "markdown",
   "metadata": {},
   "source": [
    "### Cleaned allowance bacckend table\n",
    "\n",
    "doing some cleaning and selecting only the enable allowances to build the `cleaned_backend_table`"
   ]
  },
  {
   "cell_type": "code",
   "execution_count": 125,
   "metadata": {},
   "outputs": [
    {
     "name": "stdout",
     "output_type": "stream",
     "text": [
      "+--------+\n",
      "|  status|\n",
      "+--------+\n",
      "| enabled|\n",
      "|disabled|\n",
      "+--------+\n",
      "\n",
      "[('user_id', 'string'), ('creation_date', 'timestamp'), ('frequency', 'string'), ('day', 'string'), ('next_payment_day', 'string'), ('status', 'string'), ('updated_at', 'timestamp')]\n",
      "+------------------------------------+-------------------+---------+-------------+----------------+-------+--------------------------+\n",
      "|user_id                             |creation_date      |frequency|day          |next_payment_day|status |updated_at                |\n",
      "+------------------------------------+-------------------+---------+-------------+----------------+-------+--------------------------+\n",
      "|30f4e25e-3e37-462e-8c3c-42f24f54350f|2024-08-28 06:51:49|monthly  |fifteenth_day|15              |enabled|2024-10-15 05:00:41.445627|\n",
      "|6da398ad-079d-49b9-8668-6d7ce4d22683|2024-08-26 05:10:29|monthly  |fifteenth_day|15              |enabled|2024-08-26 05:10:29       |\n",
      "|2d30fe2d-6c32-4b8a-a19b-906184f64f62|2024-11-11 04:12:39|monthly  |fifteenth_day|15              |enabled|2024-11-11 04:12:39       |\n",
      "|c30180f3-b35c-470c-b25a-f12ec4ce3340|2024-09-03 22:56:22|monthly  |first_day    |1               |enabled|2024-10-01 05:00:37.516552|\n",
      "|35d3d7c2-2a05-4eae-bdf2-7896e611bbc6|2024-09-04 09:42:52|biweekly |monday       |16              |enabled|2024-09-04 09:42:52       |\n",
      "|9295f1b0-c1cf-4dca-b720-84146395e058|2024-09-04 22:59:01|biweekly |monday       |16              |enabled|2024-09-04 22:59:01       |\n",
      "|c398bb9d-8ba5-4f31-9dd2-97d09a289360|2024-09-04 09:43:27|biweekly |monday       |16              |enabled|2024-09-04 09:43:27       |\n",
      "|1958d8e3-cb69-4190-a47e-58008d526fc8|2024-11-14 19:37:25|biweekly |tuesday      |10              |enabled|2024-11-26 05:00:26.493628|\n",
      "|919436cc-5f02-43d1-9636-d72e1490bb3d|2024-11-17 23:07:28|biweekly |monday       |2               |enabled|2024-11-17 23:07:28       |\n",
      "|6b36d785-5958-4469-a438-9b2e09cbf973|2024-11-21 17:50:19|weekly   |thursday     |5               |enabled|2024-11-28 05:00:26.049462|\n",
      "|9097a093-d124-4cbd-b5bc-b27ef6d34f3d|2024-11-07 02:36:17|weekly   |saturday     |7               |enabled|2024-11-30 05:00:32.954405|\n",
      "|a0e18e1a-7d45-4157-ab4a-425749d214bc|2024-11-28 05:46:33|monthly  |first_day    |1               |enabled|2024-12-01 05:01:43.373425|\n",
      "|89fc688d-51ba-4877-92cc-6428cc4d2c4b|2024-10-27 08:20:51|biweekly |friday       |6               |enabled|2024-11-22 05:00:41.160438|\n",
      "|0e835ee0-7305-4890-bdfe-d80754312cd7|2024-11-20 20:45:51|biweekly |thursday     |28              |enabled|2024-11-20 20:45:51       |\n",
      "|7fb21ac5-9ef1-4a8d-ba9a-ec83c7ee14c9|2024-11-20 20:45:59|biweekly |thursday     |28              |enabled|2024-11-20 20:45:59       |\n",
      "|76a558c9-e51e-47a7-9891-dee6041e0bfd|2024-11-28 13:43:28|monthly  |first_day    |1               |enabled|2024-12-01 05:00:35.002747|\n",
      "|6d125ef1-c556-41f3-ab86-911271613e08|2024-11-17 12:27:12|biweekly |friday       |29              |enabled|2024-11-27 22:10:19.339488|\n",
      "|83e1815d-b48f-47e6-89b6-9b52e5875c79|2024-09-27 13:33:44|monthly  |first_day    |1               |enabled|2024-11-09 18:13:51.566857|\n",
      "|c97f1147-1f59-4a0d-a1e2-12c65b4fcd67|2024-11-27 16:40:29|weekly   |thursday     |5               |enabled|2024-11-28 05:00:29.438429|\n",
      "|3cc7a3ee-4691-4f60-a549-268e813e2c22|2024-08-07 20:55:42|monthly  |first_day    |1               |enabled|2024-12-01 05:00:29.034582|\n",
      "+------------------------------------+-------------------+---------+-------------+----------------+-------+--------------------------+\n",
      "only showing top 20 rows\n",
      "\n"
     ]
    }
   ],
   "source": [
    "allowance_backend_table = raw_allowance_backend_table.withColumnRenamed(\n",
    "    \"uuid\", \"user_id\"\n",
    ")\n",
    "# to see all possible values of column status\n",
    "allowance_backend_table.select(\"status\").dropDuplicates().show()\n",
    "\n",
    "# get only the enabled rows\n",
    "allowance_backend_table = allowance_backend_table.filter(\n",
    "    allowance_backend_table.status == \"enabled\"\n",
    ")\n",
    "allowance_backend_table = allowance_backend_table.withColumn(\n",
    "    \"corrected_updated_at\",\n",
    "    spark_f.when(\n",
    "        spark_f.rlike(\n",
    "            allowance_backend_table.updated_at,\n",
    "            spark_f.lit(r\"\\d+-\\d+-\\d+T\\d+:\\d+:\\d+.\\d+Z\"),\n",
    "        ),\n",
    "        spark_f.to_timestamp(allowance_backend_table.updated_at),\n",
    "    )\n",
    "    .otherwise(spark_f.from_unixtime(allowance_backend_table.updated_at))\n",
    "    .cast(\"timestamp\"),\n",
    ")\n",
    "allowance_backend_table = allowance_backend_table.withColumn(\n",
    "    \"creation_date\",\n",
    "    spark_f.from_unixtime(allowance_backend_table.creation_date).cast(\"timestamp\"),\n",
    ")\n",
    "\n",
    "\n",
    "cleaned_backend_table = allowance_backend_table.drop(\"updated_at\").withColumnRenamed(\n",
    "    \"corrected_updated_at\", \"updated_at\"\n",
    ").alias(\"cleaned_backend_table\")\n",
    "print(cleaned_backend_table.dtypes)\n",
    "cleaned_backend_table.show(truncate=False)"
   ]
  },
  {
   "cell_type": "markdown",
   "metadata": {},
   "source": [
    "## truth backend table\n",
    "\n",
    "Building the allowance_backend_table from the events to compare with the actual allowance_backend_table:"
   ]
  },
  {
   "cell_type": "code",
   "execution_count": 126,
   "metadata": {},
   "outputs": [
    {
     "name": "stdout",
     "output_type": "stream",
     "text": [
      "+--------------------+-------------------+------+-------------+---------+-----------------+-----------------+\n",
      "|             user_id|    event_timestamp|amount|          day|frequency|       event_name|  last_event_name|\n",
      "+--------------------+-------------------+------+-------------+---------+-----------------+-----------------+\n",
      "|38f8d838-ea08-4fd...|2024-11-28 07:10:16|    20|     saturday|   weekly|allowance.created|allowance.created|\n",
      "|113d8189-3ce0-47b...|2024-09-21 17:02:11|    20|    first_day|  monthly| allowance.edited| allowance.edited|\n",
      "|8c212fdf-895b-4d3...|2024-08-10 07:21:42|    15|       sunday|   weekly| allowance.edited| allowance.edited|\n",
      "|138a678d-b0eb-46a...|2024-09-07 08:14:12|     4|       monday| biweekly|allowance.created|allowance.created|\n",
      "|03bc2115-7d48-4be...|2024-08-08 08:12:00|    10|       friday|   weekly| allowance.edited| allowance.edited|\n",
      "|e48bb548-a87a-406...|2024-11-10 07:28:22|     5|    first_day|  monthly| allowance.edited| allowance.edited|\n",
      "|9af3c140-86b0-403...|2024-10-19 05:03:41|    10|    wednesday| biweekly|allowance.created|allowance.created|\n",
      "|62023832-c468-45f...|2024-11-15 09:12:13|    20|       sunday|   weekly| allowance.edited| allowance.edited|\n",
      "|61609771-d5b0-46d...|2024-10-22 13:59:37|    10|       friday|   weekly|allowance.created|allowance.created|\n",
      "|804517cc-bf10-464...|2024-09-10 06:08:11|    20|fifteenth_day|  monthly|allowance.created|allowance.created|\n",
      "|4e86cb31-1384-49c...|2024-10-27 15:11:53|     2|       monday| biweekly|allowance.created|allowance.created|\n",
      "|d0287dea-599e-44c...|2024-11-10 07:17:44|     5|    first_day|  monthly| allowance.edited| allowance.edited|\n",
      "|2f92c80d-687a-485...|2024-08-07 13:45:58|    10|     thursday|   weekly|allowance.created|allowance.created|\n",
      "|77cb5202-9e1f-463...|2024-09-19 17:34:33|     5|       sunday|   weekly|allowance.created|allowance.created|\n",
      "|9de6a60f-e75c-402...|2024-09-13 02:38:54|    10|       friday| biweekly| allowance.edited| allowance.edited|\n",
      "|957e0f46-41b7-428...|2024-09-30 16:31:56|    20|fifteenth_day|  monthly|allowance.created|allowance.created|\n",
      "|a50295d7-5c2b-41b...|2024-11-12 18:20:34|     5|       monday|   weekly|allowance.created|allowance.created|\n",
      "|c3e2b88d-75fc-449...|2024-10-15 10:03:00|     1|       monday| biweekly| allowance.edited| allowance.edited|\n",
      "|b92cf73a-c48f-4a4...|2024-12-01 10:53:07|     5|     saturday|   weekly| allowance.edited| allowance.edited|\n",
      "|a47b61f0-bd9c-4b7...|2024-10-20 17:30:33|     2|       monday| biweekly|allowance.created|allowance.created|\n",
      "+--------------------+-------------------+------+-------------+---------+-----------------+-----------------+\n",
      "only showing top 20 rows\n",
      "\n"
     ]
    }
   ],
   "source": [
    "# We have events of creation and edition, so we need to get the most recent event for each user to get\n",
    "# a snapshot of what the table allowance_backend_table should be\n",
    "from pyspark.sql.window import Window\n",
    "\n",
    "# user_window = Window.partitionBy(\"user_id\").orderBy(spark_f.desc(\"event_timestamp\"))\n",
    "\n",
    "# cleaned_events.show()\n",
    "last_event_by_user = (\n",
    "    cleaned_events.groupBy(\"user_id\").agg(\n",
    "        spark_f.max(\"event_timestamp\").alias(\"event_timestamp\")\n",
    "    )\n",
    ").alias(\"last_event_by_user\")\n",
    "\n",
    "truth_backend_table = last_event_by_user.join(\n",
    "    cleaned_events, on=[\"user_id\", \"event_timestamp\"]\n",
    ").selectExpr(\"cleaned_events.*\",\"event_name as last_event_name\")\n",
    "\n",
    "###QUALITY TEST to see if we can have more than one created event per user\n",
    "# If we have some user with more than one created event, the allowance_backend_table could have more than one row\n",
    "# per user and this code to generate the truth table would not have the real truth (only the most \n",
    "# recent created or updated allowance)\n",
    "more_than_one_allowance = (\n",
    "    cleaned_events.groupBy(\"user_id\", \"event_name\")\n",
    "    .count()\n",
    "    .filter(\"count > 1 and event_name = 'allowance.created'\")\n",
    "    .count()\n",
    ")\n",
    "assert (\n",
    "    more_than_one_allowance == 0\n",
    "), f\"we have {more_than_one_allowance} users with more than one allowance.created event\"\n",
    "\n",
    "\n",
    "###QUALITY TEST to see if we have more than one event per user\n",
    "duplicated_users = (\n",
    "    truth_backend_table.groupBy(\"user_id\").count().filter(\"count > 1\").count()\n",
    ")\n",
    "assert (\n",
    "    duplicated_users == 0\n",
    "), f\"we have {duplicated_users} users with more than one line in truth_backend_table\"\n",
    "\n",
    "# cleaned_events.filter(\"user_id = 'ea7a6ea8-ff78-4a5b-848b-9f532a7a653c'\").show(truncate=False)\n",
    "# cleaned_events.filter(\"user_id = 'e7fc3804-fb1e-416e-8788-3dd0256a7d54'\").show(truncate=False)\n",
    "truth_backend_table = truth_backend_table.withColumnRenamed(\"allowance_scheduled_frequency\", \"frequency\")\n",
    "truth_backend_table = truth_backend_table.withColumnRenamed(\"allowance_scheduled_day\", \"day\")\n",
    "truth_backend_table = truth_backend_table.withColumnRenamed(\"allowance_amount\", \"amount\")\n",
    "truth_backend_table = truth_backend_table.alias(\"truth_backend_table\")\n",
    "\n",
    "truth_backend_table.show()\n"
   ]
  },
  {
   "cell_type": "markdown",
   "metadata": {},
   "source": [
    "# Analysing  discrepancies between the events and the backend table "
   ]
  },
  {
   "cell_type": "markdown",
   "metadata": {},
   "source": [
    "There are some allowances that has no events in the events table, as show bellow:"
   ]
  },
  {
   "cell_type": "code",
   "execution_count": 127,
   "metadata": {},
   "outputs": [
    {
     "name": "stdout",
     "output_type": "stream",
     "text": [
      "+--------------------+-------------------+---------+---------+----------------+-------+--------------------+\n",
      "|             user_id|      creation_date|frequency|      day|next_payment_day| status|          updated_at|\n",
      "+--------------------+-------------------+---------+---------+----------------+-------+--------------------+\n",
      "|bb950bcb-0760-417...|2024-09-20 23:53:12|   weekly|   friday|              27|enabled| 2024-09-20 23:53:12|\n",
      "|59a14e2a-27a1-4cb...|2024-11-23 18:50:05|  monthly|first_day|               1|enabled|2024-12-01 05:00:...|\n",
      "|a616b4c6-482d-4e5...|2024-11-23 18:49:36|  monthly|first_day|               1|enabled|2024-12-01 05:01:...|\n",
      "|a6ca6993-3b73-4a8...|2024-11-23 18:49:28|  monthly|first_day|               1|enabled|2024-12-01 05:01:...|\n",
      "|cd2d5904-7ca0-4d0...|2024-11-23 18:49:47|  monthly|first_day|               1|enabled| 2024-11-23 18:49:47|\n",
      "+--------------------+-------------------+---------+---------+----------------+-------+--------------------+\n",
      "\n"
     ]
    }
   ],
   "source": [
    "### Aconding to the events tables it should not be possible for a user to have more than one allowance\n",
    "more_than_one_allowances = cleaned_backend_table.groupBy('user_id').count().filter('count > 1').count()\n",
    "assert more_than_one_allowances == 0 \n",
    "\n",
    "comparisson_backend_table = cleaned_backend_table.join(truth_backend_table, on=\"user_id\", how=\"left\")\n",
    "\n",
    "### This lines of the allowance_backend_table should not exist because there are no events to support them\n",
    "# on the events table\n",
    "comparisson_backend_table.filter(\"truth_backend_table.user_id is null\").select('cleaned_backend_table.*').show()"
   ]
  },
  {
   "cell_type": "markdown",
   "metadata": {},
   "source": [
    "As shown below, there are allowances with different values for the `day` and `frequency` columns compared to the values in the last event for those allowances."
   ]
  },
  {
   "cell_type": "code",
   "execution_count": 128,
   "metadata": {},
   "outputs": [
    {
     "name": "stdout",
     "output_type": "stream",
     "text": [
      "Users with discrepancies in the day column:\n",
      "+------------------------------------+---------+---------+\n",
      "|user_id                             |day      |truth_day|\n",
      "+------------------------------------+---------+---------+\n",
      "|308b2b9c-d49d-4b2d-947c-5b2370da090f|first_day|sunday   |\n",
      "+------------------------------------+---------+---------+\n",
      "\n",
      "Users with discrepancies in the frequency column:\n",
      "+------------------------------------+---------+---------------+\n",
      "|user_id                             |frequency|truth_frequency|\n",
      "+------------------------------------+---------+---------------+\n",
      "|308b2b9c-d49d-4b2d-947c-5b2370da090f|monthly  |weekly         |\n",
      "+------------------------------------+---------+---------------+\n",
      "\n"
     ]
    }
   ],
   "source": [
    "print(\"Users with discrepancies in the day column:\")\n",
    "comparisson_backend_table.filter(\"truth_backend_table.day != cleaned_backend_table.day\").selectExpr(\"user_id\",\"cleaned_backend_table.day\",\"truth_backend_table.day as truth_day\").show(truncate =False)\n",
    "\n",
    "print(\"Users with discrepancies in the frequency column:\")\n",
    "comparisson_backend_table.filter(\"truth_backend_table.frequency != cleaned_backend_table.frequency\").selectExpr(\"user_id\",\"cleaned_backend_table.frequency\", \"truth_backend_table.frequency as truth_frequency\").show(truncate =False)\n",
    "\n"
   ]
  },
  {
   "cell_type": "code",
   "execution_count": 129,
   "metadata": {},
   "outputs": [],
   "source": [
    "def build_backend_truth_table(frequency, truth_function):\n",
    "    return (\n",
    "        comparisson_backend_table.filter(f\"truth_backend_table.frequency = '{frequency}'\")\n",
    "        .withColumn(\n",
    "            \"truth_next_payment_day\",\n",
    "            truth_function(\n",
    "                \"truth_backend_table.day\", \"truth_backend_table.event_timestamp\"\n",
    "            ),\n",
    "        )\n",
    "        .selectExpr(\n",
    "            \"user_id\",\n",
    "            \"cleaned_backend_table.frequency\",\n",
    "            \"cleaned_backend_table.day\",\n",
    "            \"cleaned_backend_table.creation_date\",\n",
    "            \"cleaned_backend_table.updated_at\",\n",
    "            \"cleaned_backend_table.next_payment_day\",\n",
    "            \"last_event_name\",\n",
    "            \"event_timestamp as last_event_timestamp\",\n",
    "            \"truth_next_payment_day\",\n",
    "        )\n",
    "        .withColumn(\n",
    "            \"correct\",\n",
    "            spark_f.when(\n",
    "                spark_f.col(\"truth_next_payment_day\") == spark_f.col(\"next_payment_day\"),\n",
    "                spark_f.lit(\"correct\"),\n",
    "            ).otherwise(spark_f.lit(\"wrong\")),\n",
    "        )\n",
    "        .withColumn(\n",
    "            \"diference_next_payment_day\",\n",
    "            spark_f.col(\"next_payment_day\") - spark_f.col(\"truth_next_payment_day\"),\n",
    "        )\n",
    "    )"
   ]
  },
  {
   "cell_type": "markdown",
   "metadata": {},
   "source": [
    "#### Daily allowancces"
   ]
  },
  {
   "cell_type": "code",
   "execution_count": 130,
   "metadata": {},
   "outputs": [
    {
     "data": {
      "application/vnd.plotly.v1+json": {
       "config": {
        "plotlyServerURL": "https://plot.ly"
       },
       "data": [
        {
         "alignmentgroup": "True",
         "bingroup": "x",
         "hovertemplate": "correct=%{x}<br>count=%{y}<extra></extra>",
         "legendgroup": "",
         "marker": {
          "color": "#636efa",
          "pattern": {
           "shape": ""
          }
         },
         "name": "",
         "offsetgroup": "",
         "orientation": "v",
         "showlegend": false,
         "type": "histogram",
         "x": [
          "wrong",
          "wrong",
          "correct",
          "wrong",
          "wrong",
          "wrong",
          "wrong",
          "wrong",
          "wrong",
          "wrong",
          "correct",
          "wrong",
          "wrong",
          "wrong",
          "wrong",
          "wrong",
          "wrong",
          "wrong",
          "wrong",
          "wrong",
          "wrong",
          "wrong",
          "wrong",
          "wrong",
          "wrong",
          "wrong",
          "wrong",
          "wrong",
          "wrong",
          "wrong",
          "wrong",
          "wrong",
          "wrong",
          "wrong",
          "wrong",
          "wrong",
          "wrong",
          "wrong",
          "wrong",
          "wrong",
          "wrong",
          "wrong",
          "wrong",
          "wrong"
         ],
         "xaxis": "x",
         "yaxis": "y"
        }
       ],
       "layout": {
        "barmode": "relative",
        "legend": {
         "tracegroupgap": 0
        },
        "template": {
         "data": {
          "bar": [
           {
            "error_x": {
             "color": "#2a3f5f"
            },
            "error_y": {
             "color": "#2a3f5f"
            },
            "marker": {
             "line": {
              "color": "#E5ECF6",
              "width": 0.5
             },
             "pattern": {
              "fillmode": "overlay",
              "size": 10,
              "solidity": 0.2
             }
            },
            "type": "bar"
           }
          ],
          "barpolar": [
           {
            "marker": {
             "line": {
              "color": "#E5ECF6",
              "width": 0.5
             },
             "pattern": {
              "fillmode": "overlay",
              "size": 10,
              "solidity": 0.2
             }
            },
            "type": "barpolar"
           }
          ],
          "carpet": [
           {
            "aaxis": {
             "endlinecolor": "#2a3f5f",
             "gridcolor": "white",
             "linecolor": "white",
             "minorgridcolor": "white",
             "startlinecolor": "#2a3f5f"
            },
            "baxis": {
             "endlinecolor": "#2a3f5f",
             "gridcolor": "white",
             "linecolor": "white",
             "minorgridcolor": "white",
             "startlinecolor": "#2a3f5f"
            },
            "type": "carpet"
           }
          ],
          "choropleth": [
           {
            "colorbar": {
             "outlinewidth": 0,
             "ticks": ""
            },
            "type": "choropleth"
           }
          ],
          "contour": [
           {
            "colorbar": {
             "outlinewidth": 0,
             "ticks": ""
            },
            "colorscale": [
             [
              0,
              "#0d0887"
             ],
             [
              0.1111111111111111,
              "#46039f"
             ],
             [
              0.2222222222222222,
              "#7201a8"
             ],
             [
              0.3333333333333333,
              "#9c179e"
             ],
             [
              0.4444444444444444,
              "#bd3786"
             ],
             [
              0.5555555555555556,
              "#d8576b"
             ],
             [
              0.6666666666666666,
              "#ed7953"
             ],
             [
              0.7777777777777778,
              "#fb9f3a"
             ],
             [
              0.8888888888888888,
              "#fdca26"
             ],
             [
              1,
              "#f0f921"
             ]
            ],
            "type": "contour"
           }
          ],
          "contourcarpet": [
           {
            "colorbar": {
             "outlinewidth": 0,
             "ticks": ""
            },
            "type": "contourcarpet"
           }
          ],
          "heatmap": [
           {
            "colorbar": {
             "outlinewidth": 0,
             "ticks": ""
            },
            "colorscale": [
             [
              0,
              "#0d0887"
             ],
             [
              0.1111111111111111,
              "#46039f"
             ],
             [
              0.2222222222222222,
              "#7201a8"
             ],
             [
              0.3333333333333333,
              "#9c179e"
             ],
             [
              0.4444444444444444,
              "#bd3786"
             ],
             [
              0.5555555555555556,
              "#d8576b"
             ],
             [
              0.6666666666666666,
              "#ed7953"
             ],
             [
              0.7777777777777778,
              "#fb9f3a"
             ],
             [
              0.8888888888888888,
              "#fdca26"
             ],
             [
              1,
              "#f0f921"
             ]
            ],
            "type": "heatmap"
           }
          ],
          "heatmapgl": [
           {
            "colorbar": {
             "outlinewidth": 0,
             "ticks": ""
            },
            "colorscale": [
             [
              0,
              "#0d0887"
             ],
             [
              0.1111111111111111,
              "#46039f"
             ],
             [
              0.2222222222222222,
              "#7201a8"
             ],
             [
              0.3333333333333333,
              "#9c179e"
             ],
             [
              0.4444444444444444,
              "#bd3786"
             ],
             [
              0.5555555555555556,
              "#d8576b"
             ],
             [
              0.6666666666666666,
              "#ed7953"
             ],
             [
              0.7777777777777778,
              "#fb9f3a"
             ],
             [
              0.8888888888888888,
              "#fdca26"
             ],
             [
              1,
              "#f0f921"
             ]
            ],
            "type": "heatmapgl"
           }
          ],
          "histogram": [
           {
            "marker": {
             "pattern": {
              "fillmode": "overlay",
              "size": 10,
              "solidity": 0.2
             }
            },
            "type": "histogram"
           }
          ],
          "histogram2d": [
           {
            "colorbar": {
             "outlinewidth": 0,
             "ticks": ""
            },
            "colorscale": [
             [
              0,
              "#0d0887"
             ],
             [
              0.1111111111111111,
              "#46039f"
             ],
             [
              0.2222222222222222,
              "#7201a8"
             ],
             [
              0.3333333333333333,
              "#9c179e"
             ],
             [
              0.4444444444444444,
              "#bd3786"
             ],
             [
              0.5555555555555556,
              "#d8576b"
             ],
             [
              0.6666666666666666,
              "#ed7953"
             ],
             [
              0.7777777777777778,
              "#fb9f3a"
             ],
             [
              0.8888888888888888,
              "#fdca26"
             ],
             [
              1,
              "#f0f921"
             ]
            ],
            "type": "histogram2d"
           }
          ],
          "histogram2dcontour": [
           {
            "colorbar": {
             "outlinewidth": 0,
             "ticks": ""
            },
            "colorscale": [
             [
              0,
              "#0d0887"
             ],
             [
              0.1111111111111111,
              "#46039f"
             ],
             [
              0.2222222222222222,
              "#7201a8"
             ],
             [
              0.3333333333333333,
              "#9c179e"
             ],
             [
              0.4444444444444444,
              "#bd3786"
             ],
             [
              0.5555555555555556,
              "#d8576b"
             ],
             [
              0.6666666666666666,
              "#ed7953"
             ],
             [
              0.7777777777777778,
              "#fb9f3a"
             ],
             [
              0.8888888888888888,
              "#fdca26"
             ],
             [
              1,
              "#f0f921"
             ]
            ],
            "type": "histogram2dcontour"
           }
          ],
          "mesh3d": [
           {
            "colorbar": {
             "outlinewidth": 0,
             "ticks": ""
            },
            "type": "mesh3d"
           }
          ],
          "parcoords": [
           {
            "line": {
             "colorbar": {
              "outlinewidth": 0,
              "ticks": ""
             }
            },
            "type": "parcoords"
           }
          ],
          "pie": [
           {
            "automargin": true,
            "type": "pie"
           }
          ],
          "scatter": [
           {
            "fillpattern": {
             "fillmode": "overlay",
             "size": 10,
             "solidity": 0.2
            },
            "type": "scatter"
           }
          ],
          "scatter3d": [
           {
            "line": {
             "colorbar": {
              "outlinewidth": 0,
              "ticks": ""
             }
            },
            "marker": {
             "colorbar": {
              "outlinewidth": 0,
              "ticks": ""
             }
            },
            "type": "scatter3d"
           }
          ],
          "scattercarpet": [
           {
            "marker": {
             "colorbar": {
              "outlinewidth": 0,
              "ticks": ""
             }
            },
            "type": "scattercarpet"
           }
          ],
          "scattergeo": [
           {
            "marker": {
             "colorbar": {
              "outlinewidth": 0,
              "ticks": ""
             }
            },
            "type": "scattergeo"
           }
          ],
          "scattergl": [
           {
            "marker": {
             "colorbar": {
              "outlinewidth": 0,
              "ticks": ""
             }
            },
            "type": "scattergl"
           }
          ],
          "scattermapbox": [
           {
            "marker": {
             "colorbar": {
              "outlinewidth": 0,
              "ticks": ""
             }
            },
            "type": "scattermapbox"
           }
          ],
          "scatterpolar": [
           {
            "marker": {
             "colorbar": {
              "outlinewidth": 0,
              "ticks": ""
             }
            },
            "type": "scatterpolar"
           }
          ],
          "scatterpolargl": [
           {
            "marker": {
             "colorbar": {
              "outlinewidth": 0,
              "ticks": ""
             }
            },
            "type": "scatterpolargl"
           }
          ],
          "scatterternary": [
           {
            "marker": {
             "colorbar": {
              "outlinewidth": 0,
              "ticks": ""
             }
            },
            "type": "scatterternary"
           }
          ],
          "surface": [
           {
            "colorbar": {
             "outlinewidth": 0,
             "ticks": ""
            },
            "colorscale": [
             [
              0,
              "#0d0887"
             ],
             [
              0.1111111111111111,
              "#46039f"
             ],
             [
              0.2222222222222222,
              "#7201a8"
             ],
             [
              0.3333333333333333,
              "#9c179e"
             ],
             [
              0.4444444444444444,
              "#bd3786"
             ],
             [
              0.5555555555555556,
              "#d8576b"
             ],
             [
              0.6666666666666666,
              "#ed7953"
             ],
             [
              0.7777777777777778,
              "#fb9f3a"
             ],
             [
              0.8888888888888888,
              "#fdca26"
             ],
             [
              1,
              "#f0f921"
             ]
            ],
            "type": "surface"
           }
          ],
          "table": [
           {
            "cells": {
             "fill": {
              "color": "#EBF0F8"
             },
             "line": {
              "color": "white"
             }
            },
            "header": {
             "fill": {
              "color": "#C8D4E3"
             },
             "line": {
              "color": "white"
             }
            },
            "type": "table"
           }
          ]
         },
         "layout": {
          "annotationdefaults": {
           "arrowcolor": "#2a3f5f",
           "arrowhead": 0,
           "arrowwidth": 1
          },
          "autotypenumbers": "strict",
          "coloraxis": {
           "colorbar": {
            "outlinewidth": 0,
            "ticks": ""
           }
          },
          "colorscale": {
           "diverging": [
            [
             0,
             "#8e0152"
            ],
            [
             0.1,
             "#c51b7d"
            ],
            [
             0.2,
             "#de77ae"
            ],
            [
             0.3,
             "#f1b6da"
            ],
            [
             0.4,
             "#fde0ef"
            ],
            [
             0.5,
             "#f7f7f7"
            ],
            [
             0.6,
             "#e6f5d0"
            ],
            [
             0.7,
             "#b8e186"
            ],
            [
             0.8,
             "#7fbc41"
            ],
            [
             0.9,
             "#4d9221"
            ],
            [
             1,
             "#276419"
            ]
           ],
           "sequential": [
            [
             0,
             "#0d0887"
            ],
            [
             0.1111111111111111,
             "#46039f"
            ],
            [
             0.2222222222222222,
             "#7201a8"
            ],
            [
             0.3333333333333333,
             "#9c179e"
            ],
            [
             0.4444444444444444,
             "#bd3786"
            ],
            [
             0.5555555555555556,
             "#d8576b"
            ],
            [
             0.6666666666666666,
             "#ed7953"
            ],
            [
             0.7777777777777778,
             "#fb9f3a"
            ],
            [
             0.8888888888888888,
             "#fdca26"
            ],
            [
             1,
             "#f0f921"
            ]
           ],
           "sequentialminus": [
            [
             0,
             "#0d0887"
            ],
            [
             0.1111111111111111,
             "#46039f"
            ],
            [
             0.2222222222222222,
             "#7201a8"
            ],
            [
             0.3333333333333333,
             "#9c179e"
            ],
            [
             0.4444444444444444,
             "#bd3786"
            ],
            [
             0.5555555555555556,
             "#d8576b"
            ],
            [
             0.6666666666666666,
             "#ed7953"
            ],
            [
             0.7777777777777778,
             "#fb9f3a"
            ],
            [
             0.8888888888888888,
             "#fdca26"
            ],
            [
             1,
             "#f0f921"
            ]
           ]
          },
          "colorway": [
           "#636efa",
           "#EF553B",
           "#00cc96",
           "#ab63fa",
           "#FFA15A",
           "#19d3f3",
           "#FF6692",
           "#B6E880",
           "#FF97FF",
           "#FECB52"
          ],
          "font": {
           "color": "#2a3f5f"
          },
          "geo": {
           "bgcolor": "white",
           "lakecolor": "white",
           "landcolor": "#E5ECF6",
           "showlakes": true,
           "showland": true,
           "subunitcolor": "white"
          },
          "hoverlabel": {
           "align": "left"
          },
          "hovermode": "closest",
          "mapbox": {
           "style": "light"
          },
          "paper_bgcolor": "white",
          "plot_bgcolor": "#E5ECF6",
          "polar": {
           "angularaxis": {
            "gridcolor": "white",
            "linecolor": "white",
            "ticks": ""
           },
           "bgcolor": "#E5ECF6",
           "radialaxis": {
            "gridcolor": "white",
            "linecolor": "white",
            "ticks": ""
           }
          },
          "scene": {
           "xaxis": {
            "backgroundcolor": "#E5ECF6",
            "gridcolor": "white",
            "gridwidth": 2,
            "linecolor": "white",
            "showbackground": true,
            "ticks": "",
            "zerolinecolor": "white"
           },
           "yaxis": {
            "backgroundcolor": "#E5ECF6",
            "gridcolor": "white",
            "gridwidth": 2,
            "linecolor": "white",
            "showbackground": true,
            "ticks": "",
            "zerolinecolor": "white"
           },
           "zaxis": {
            "backgroundcolor": "#E5ECF6",
            "gridcolor": "white",
            "gridwidth": 2,
            "linecolor": "white",
            "showbackground": true,
            "ticks": "",
            "zerolinecolor": "white"
           }
          },
          "shapedefaults": {
           "line": {
            "color": "#2a3f5f"
           }
          },
          "ternary": {
           "aaxis": {
            "gridcolor": "white",
            "linecolor": "white",
            "ticks": ""
           },
           "baxis": {
            "gridcolor": "white",
            "linecolor": "white",
            "ticks": ""
           },
           "bgcolor": "#E5ECF6",
           "caxis": {
            "gridcolor": "white",
            "linecolor": "white",
            "ticks": ""
           }
          },
          "title": {
           "x": 0.05
          },
          "xaxis": {
           "automargin": true,
           "gridcolor": "white",
           "linecolor": "white",
           "ticks": "",
           "title": {
            "standoff": 15
           },
           "zerolinecolor": "white",
           "zerolinewidth": 2
          },
          "yaxis": {
           "automargin": true,
           "gridcolor": "white",
           "linecolor": "white",
           "ticks": "",
           "title": {
            "standoff": 15
           },
           "zerolinecolor": "white",
           "zerolinewidth": 2
          }
         }
        },
        "title": {
         "text": "Correctness of the next_payment_day for daily frequency"
        },
        "xaxis": {
         "anchor": "y",
         "domain": [
          0,
          1
         ],
         "title": {
          "text": "correct"
         }
        },
        "yaxis": {
         "anchor": "x",
         "domain": [
          0,
          1
         ],
         "title": {
          "text": "count"
         }
        }
       }
      }
     },
     "metadata": {},
     "output_type": "display_data"
    },
    {
     "data": {
      "application/vnd.plotly.v1+json": {
       "config": {
        "plotlyServerURL": "https://plot.ly"
       },
       "data": [
        {
         "direction": "clockwise",
         "domain": {
          "x": [
           0,
           1
          ],
          "y": [
           0,
           1
          ]
         },
         "hovertemplate": "correct=%{label}<br>count=%{value}<extra></extra>",
         "labels": [
          "correct",
          "wrong"
         ],
         "legendgroup": "",
         "name": "",
         "showlegend": true,
         "sort": false,
         "type": "pie",
         "values": [
          2,
          42
         ]
        }
       ],
       "layout": {
        "legend": {
         "tracegroupgap": 0
        },
        "template": {
         "data": {
          "bar": [
           {
            "error_x": {
             "color": "#2a3f5f"
            },
            "error_y": {
             "color": "#2a3f5f"
            },
            "marker": {
             "line": {
              "color": "#E5ECF6",
              "width": 0.5
             },
             "pattern": {
              "fillmode": "overlay",
              "size": 10,
              "solidity": 0.2
             }
            },
            "type": "bar"
           }
          ],
          "barpolar": [
           {
            "marker": {
             "line": {
              "color": "#E5ECF6",
              "width": 0.5
             },
             "pattern": {
              "fillmode": "overlay",
              "size": 10,
              "solidity": 0.2
             }
            },
            "type": "barpolar"
           }
          ],
          "carpet": [
           {
            "aaxis": {
             "endlinecolor": "#2a3f5f",
             "gridcolor": "white",
             "linecolor": "white",
             "minorgridcolor": "white",
             "startlinecolor": "#2a3f5f"
            },
            "baxis": {
             "endlinecolor": "#2a3f5f",
             "gridcolor": "white",
             "linecolor": "white",
             "minorgridcolor": "white",
             "startlinecolor": "#2a3f5f"
            },
            "type": "carpet"
           }
          ],
          "choropleth": [
           {
            "colorbar": {
             "outlinewidth": 0,
             "ticks": ""
            },
            "type": "choropleth"
           }
          ],
          "contour": [
           {
            "colorbar": {
             "outlinewidth": 0,
             "ticks": ""
            },
            "colorscale": [
             [
              0,
              "#0d0887"
             ],
             [
              0.1111111111111111,
              "#46039f"
             ],
             [
              0.2222222222222222,
              "#7201a8"
             ],
             [
              0.3333333333333333,
              "#9c179e"
             ],
             [
              0.4444444444444444,
              "#bd3786"
             ],
             [
              0.5555555555555556,
              "#d8576b"
             ],
             [
              0.6666666666666666,
              "#ed7953"
             ],
             [
              0.7777777777777778,
              "#fb9f3a"
             ],
             [
              0.8888888888888888,
              "#fdca26"
             ],
             [
              1,
              "#f0f921"
             ]
            ],
            "type": "contour"
           }
          ],
          "contourcarpet": [
           {
            "colorbar": {
             "outlinewidth": 0,
             "ticks": ""
            },
            "type": "contourcarpet"
           }
          ],
          "heatmap": [
           {
            "colorbar": {
             "outlinewidth": 0,
             "ticks": ""
            },
            "colorscale": [
             [
              0,
              "#0d0887"
             ],
             [
              0.1111111111111111,
              "#46039f"
             ],
             [
              0.2222222222222222,
              "#7201a8"
             ],
             [
              0.3333333333333333,
              "#9c179e"
             ],
             [
              0.4444444444444444,
              "#bd3786"
             ],
             [
              0.5555555555555556,
              "#d8576b"
             ],
             [
              0.6666666666666666,
              "#ed7953"
             ],
             [
              0.7777777777777778,
              "#fb9f3a"
             ],
             [
              0.8888888888888888,
              "#fdca26"
             ],
             [
              1,
              "#f0f921"
             ]
            ],
            "type": "heatmap"
           }
          ],
          "heatmapgl": [
           {
            "colorbar": {
             "outlinewidth": 0,
             "ticks": ""
            },
            "colorscale": [
             [
              0,
              "#0d0887"
             ],
             [
              0.1111111111111111,
              "#46039f"
             ],
             [
              0.2222222222222222,
              "#7201a8"
             ],
             [
              0.3333333333333333,
              "#9c179e"
             ],
             [
              0.4444444444444444,
              "#bd3786"
             ],
             [
              0.5555555555555556,
              "#d8576b"
             ],
             [
              0.6666666666666666,
              "#ed7953"
             ],
             [
              0.7777777777777778,
              "#fb9f3a"
             ],
             [
              0.8888888888888888,
              "#fdca26"
             ],
             [
              1,
              "#f0f921"
             ]
            ],
            "type": "heatmapgl"
           }
          ],
          "histogram": [
           {
            "marker": {
             "pattern": {
              "fillmode": "overlay",
              "size": 10,
              "solidity": 0.2
             }
            },
            "type": "histogram"
           }
          ],
          "histogram2d": [
           {
            "colorbar": {
             "outlinewidth": 0,
             "ticks": ""
            },
            "colorscale": [
             [
              0,
              "#0d0887"
             ],
             [
              0.1111111111111111,
              "#46039f"
             ],
             [
              0.2222222222222222,
              "#7201a8"
             ],
             [
              0.3333333333333333,
              "#9c179e"
             ],
             [
              0.4444444444444444,
              "#bd3786"
             ],
             [
              0.5555555555555556,
              "#d8576b"
             ],
             [
              0.6666666666666666,
              "#ed7953"
             ],
             [
              0.7777777777777778,
              "#fb9f3a"
             ],
             [
              0.8888888888888888,
              "#fdca26"
             ],
             [
              1,
              "#f0f921"
             ]
            ],
            "type": "histogram2d"
           }
          ],
          "histogram2dcontour": [
           {
            "colorbar": {
             "outlinewidth": 0,
             "ticks": ""
            },
            "colorscale": [
             [
              0,
              "#0d0887"
             ],
             [
              0.1111111111111111,
              "#46039f"
             ],
             [
              0.2222222222222222,
              "#7201a8"
             ],
             [
              0.3333333333333333,
              "#9c179e"
             ],
             [
              0.4444444444444444,
              "#bd3786"
             ],
             [
              0.5555555555555556,
              "#d8576b"
             ],
             [
              0.6666666666666666,
              "#ed7953"
             ],
             [
              0.7777777777777778,
              "#fb9f3a"
             ],
             [
              0.8888888888888888,
              "#fdca26"
             ],
             [
              1,
              "#f0f921"
             ]
            ],
            "type": "histogram2dcontour"
           }
          ],
          "mesh3d": [
           {
            "colorbar": {
             "outlinewidth": 0,
             "ticks": ""
            },
            "type": "mesh3d"
           }
          ],
          "parcoords": [
           {
            "line": {
             "colorbar": {
              "outlinewidth": 0,
              "ticks": ""
             }
            },
            "type": "parcoords"
           }
          ],
          "pie": [
           {
            "automargin": true,
            "type": "pie"
           }
          ],
          "scatter": [
           {
            "fillpattern": {
             "fillmode": "overlay",
             "size": 10,
             "solidity": 0.2
            },
            "type": "scatter"
           }
          ],
          "scatter3d": [
           {
            "line": {
             "colorbar": {
              "outlinewidth": 0,
              "ticks": ""
             }
            },
            "marker": {
             "colorbar": {
              "outlinewidth": 0,
              "ticks": ""
             }
            },
            "type": "scatter3d"
           }
          ],
          "scattercarpet": [
           {
            "marker": {
             "colorbar": {
              "outlinewidth": 0,
              "ticks": ""
             }
            },
            "type": "scattercarpet"
           }
          ],
          "scattergeo": [
           {
            "marker": {
             "colorbar": {
              "outlinewidth": 0,
              "ticks": ""
             }
            },
            "type": "scattergeo"
           }
          ],
          "scattergl": [
           {
            "marker": {
             "colorbar": {
              "outlinewidth": 0,
              "ticks": ""
             }
            },
            "type": "scattergl"
           }
          ],
          "scattermapbox": [
           {
            "marker": {
             "colorbar": {
              "outlinewidth": 0,
              "ticks": ""
             }
            },
            "type": "scattermapbox"
           }
          ],
          "scatterpolar": [
           {
            "marker": {
             "colorbar": {
              "outlinewidth": 0,
              "ticks": ""
             }
            },
            "type": "scatterpolar"
           }
          ],
          "scatterpolargl": [
           {
            "marker": {
             "colorbar": {
              "outlinewidth": 0,
              "ticks": ""
             }
            },
            "type": "scatterpolargl"
           }
          ],
          "scatterternary": [
           {
            "marker": {
             "colorbar": {
              "outlinewidth": 0,
              "ticks": ""
             }
            },
            "type": "scatterternary"
           }
          ],
          "surface": [
           {
            "colorbar": {
             "outlinewidth": 0,
             "ticks": ""
            },
            "colorscale": [
             [
              0,
              "#0d0887"
             ],
             [
              0.1111111111111111,
              "#46039f"
             ],
             [
              0.2222222222222222,
              "#7201a8"
             ],
             [
              0.3333333333333333,
              "#9c179e"
             ],
             [
              0.4444444444444444,
              "#bd3786"
             ],
             [
              0.5555555555555556,
              "#d8576b"
             ],
             [
              0.6666666666666666,
              "#ed7953"
             ],
             [
              0.7777777777777778,
              "#fb9f3a"
             ],
             [
              0.8888888888888888,
              "#fdca26"
             ],
             [
              1,
              "#f0f921"
             ]
            ],
            "type": "surface"
           }
          ],
          "table": [
           {
            "cells": {
             "fill": {
              "color": "#EBF0F8"
             },
             "line": {
              "color": "white"
             }
            },
            "header": {
             "fill": {
              "color": "#C8D4E3"
             },
             "line": {
              "color": "white"
             }
            },
            "type": "table"
           }
          ]
         },
         "layout": {
          "annotationdefaults": {
           "arrowcolor": "#2a3f5f",
           "arrowhead": 0,
           "arrowwidth": 1
          },
          "autotypenumbers": "strict",
          "coloraxis": {
           "colorbar": {
            "outlinewidth": 0,
            "ticks": ""
           }
          },
          "colorscale": {
           "diverging": [
            [
             0,
             "#8e0152"
            ],
            [
             0.1,
             "#c51b7d"
            ],
            [
             0.2,
             "#de77ae"
            ],
            [
             0.3,
             "#f1b6da"
            ],
            [
             0.4,
             "#fde0ef"
            ],
            [
             0.5,
             "#f7f7f7"
            ],
            [
             0.6,
             "#e6f5d0"
            ],
            [
             0.7,
             "#b8e186"
            ],
            [
             0.8,
             "#7fbc41"
            ],
            [
             0.9,
             "#4d9221"
            ],
            [
             1,
             "#276419"
            ]
           ],
           "sequential": [
            [
             0,
             "#0d0887"
            ],
            [
             0.1111111111111111,
             "#46039f"
            ],
            [
             0.2222222222222222,
             "#7201a8"
            ],
            [
             0.3333333333333333,
             "#9c179e"
            ],
            [
             0.4444444444444444,
             "#bd3786"
            ],
            [
             0.5555555555555556,
             "#d8576b"
            ],
            [
             0.6666666666666666,
             "#ed7953"
            ],
            [
             0.7777777777777778,
             "#fb9f3a"
            ],
            [
             0.8888888888888888,
             "#fdca26"
            ],
            [
             1,
             "#f0f921"
            ]
           ],
           "sequentialminus": [
            [
             0,
             "#0d0887"
            ],
            [
             0.1111111111111111,
             "#46039f"
            ],
            [
             0.2222222222222222,
             "#7201a8"
            ],
            [
             0.3333333333333333,
             "#9c179e"
            ],
            [
             0.4444444444444444,
             "#bd3786"
            ],
            [
             0.5555555555555556,
             "#d8576b"
            ],
            [
             0.6666666666666666,
             "#ed7953"
            ],
            [
             0.7777777777777778,
             "#fb9f3a"
            ],
            [
             0.8888888888888888,
             "#fdca26"
            ],
            [
             1,
             "#f0f921"
            ]
           ]
          },
          "colorway": [
           "#636efa",
           "#EF553B",
           "#00cc96",
           "#ab63fa",
           "#FFA15A",
           "#19d3f3",
           "#FF6692",
           "#B6E880",
           "#FF97FF",
           "#FECB52"
          ],
          "font": {
           "color": "#2a3f5f"
          },
          "geo": {
           "bgcolor": "white",
           "lakecolor": "white",
           "landcolor": "#E5ECF6",
           "showlakes": true,
           "showland": true,
           "subunitcolor": "white"
          },
          "hoverlabel": {
           "align": "left"
          },
          "hovermode": "closest",
          "mapbox": {
           "style": "light"
          },
          "paper_bgcolor": "white",
          "plot_bgcolor": "#E5ECF6",
          "polar": {
           "angularaxis": {
            "gridcolor": "white",
            "linecolor": "white",
            "ticks": ""
           },
           "bgcolor": "#E5ECF6",
           "radialaxis": {
            "gridcolor": "white",
            "linecolor": "white",
            "ticks": ""
           }
          },
          "scene": {
           "xaxis": {
            "backgroundcolor": "#E5ECF6",
            "gridcolor": "white",
            "gridwidth": 2,
            "linecolor": "white",
            "showbackground": true,
            "ticks": "",
            "zerolinecolor": "white"
           },
           "yaxis": {
            "backgroundcolor": "#E5ECF6",
            "gridcolor": "white",
            "gridwidth": 2,
            "linecolor": "white",
            "showbackground": true,
            "ticks": "",
            "zerolinecolor": "white"
           },
           "zaxis": {
            "backgroundcolor": "#E5ECF6",
            "gridcolor": "white",
            "gridwidth": 2,
            "linecolor": "white",
            "showbackground": true,
            "ticks": "",
            "zerolinecolor": "white"
           }
          },
          "shapedefaults": {
           "line": {
            "color": "#2a3f5f"
           }
          },
          "ternary": {
           "aaxis": {
            "gridcolor": "white",
            "linecolor": "white",
            "ticks": ""
           },
           "baxis": {
            "gridcolor": "white",
            "linecolor": "white",
            "ticks": ""
           },
           "bgcolor": "#E5ECF6",
           "caxis": {
            "gridcolor": "white",
            "linecolor": "white",
            "ticks": ""
           }
          },
          "title": {
           "x": 0.05
          },
          "xaxis": {
           "automargin": true,
           "gridcolor": "white",
           "linecolor": "white",
           "ticks": "",
           "title": {
            "standoff": 15
           },
           "zerolinecolor": "white",
           "zerolinewidth": 2
          },
          "yaxis": {
           "automargin": true,
           "gridcolor": "white",
           "linecolor": "white",
           "ticks": "",
           "title": {
            "standoff": 15
           },
           "zerolinecolor": "white",
           "zerolinewidth": 2
          }
         }
        },
        "title": {
         "text": "proportion"
        }
       }
      }
     },
     "metadata": {},
     "output_type": "display_data"
    }
   ],
   "source": [
    "## daily discrepancies\n",
    "\n",
    "\n",
    "def next_payment_day_daily_frequency(day, event_timestamp, current_day = None):\n",
    "    if current_day is None:\n",
    "        return spark_f.day(spark_f.date_add(spark_f.lit(CURRENT_DAY), 1))\n",
    "    return spark_f.day(spark_f.date_add(spark_f.col(current_day), 1))\n",
    "\n",
    "\n",
    "backend_table_daily_truth = build_backend_truth_table(\"daily\", next_payment_day_daily_frequency)\n",
    "\n",
    "pd_comparisson_backend = backend_table_daily_truth.toPandas()\n",
    "histogram(pd_comparisson_backend, \"correct\", \"Correctness of the next_payment_day for daily frequency\")\n",
    "pie_chart(pd_comparisson_backend, \"correct\", \"proportion\", category_orders={\"correct\": [\"correct\", \"wrong\"]})"
   ]
  },
  {
   "cell_type": "markdown",
   "metadata": {},
   "source": [
    "#### monthly"
   ]
  },
  {
   "cell_type": "code",
   "execution_count": 131,
   "metadata": {},
   "outputs": [
    {
     "name": "stdout",
     "output_type": "stream",
     "text": [
      "+-------------+\n",
      "|          day|\n",
      "+-------------+\n",
      "|fifteenth_day|\n",
      "|    first_day|\n",
      "+-------------+\n",
      "\n"
     ]
    }
   ],
   "source": [
    "comparisson_backend_table.filter(\"truth_backend_table.frequency = 'monthly'\").select(\"cleaned_backend_table.day\").drop_duplicates().show()"
   ]
  },
  {
   "cell_type": "code",
   "execution_count": 132,
   "metadata": {},
   "outputs": [
    {
     "name": "stdout",
     "output_type": "stream",
     "text": [
      "+--------------------+-------------------+---------+-------------+----------------+-------+--------------------+-------------------+------+-------------+---------+-----------------+-----------------+\n",
      "|             user_id|      creation_date|frequency|          day|next_payment_day| status|          updated_at|    event_timestamp|amount|          day|frequency|       event_name|  last_event_name|\n",
      "+--------------------+-------------------+---------+-------------+----------------+-------+--------------------+-------------------+------+-------------+---------+-----------------+-----------------+\n",
      "|0e4ede31-e71b-4c8...|2024-11-13 23:15:30|  monthly|    first_day|               1|enabled|2024-12-01 05:00:...|2024-11-13 18:15:30|    40|    first_day|  monthly|allowance.created|allowance.created|\n",
      "|e7f3a4c3-443d-476...|2024-11-17 13:49:44|  monthly|    first_day|               1|enabled|2024-12-01 05:01:...|2024-11-17 08:49:44|     8|    first_day|  monthly|allowance.created|allowance.created|\n",
      "|5310cba3-e1b2-447...|2024-11-02 15:22:57|  monthly|    first_day|               1|enabled| 2024-11-02 15:22:57|2024-11-02 11:22:57|    30|    first_day|  monthly|allowance.created|allowance.created|\n",
      "|8e5b2fa4-03f2-401...|2024-09-14 22:39:37|  monthly|    first_day|               1|enabled| 2024-09-14 22:39:37|2024-09-14 18:39:37|     1|    first_day|  monthly|allowance.created|allowance.created|\n",
      "|b8125cbd-87b6-41f...|2024-11-16 00:53:22|  monthly|    first_day|               1|enabled| 2024-11-16 00:53:22|2024-11-15 19:53:22|     5|    first_day|  monthly|allowance.created|allowance.created|\n",
      "|573c8fff-fd53-437...|2024-11-19 10:58:47|  monthly|    first_day|               1|enabled|2024-12-01 05:00:...|2024-11-23 20:59:26|     5|    first_day|  monthly| allowance.edited| allowance.edited|\n",
      "|e4f5cb2f-d5bc-4a4...|2024-09-13 15:13:09|  monthly|fifteenth_day|              15|enabled|2024-11-15 05:01:...|2024-09-13 11:13:55|    20|fifteenth_day|  monthly| allowance.edited| allowance.edited|\n",
      "|e4bb1f04-51cb-4ec...|2024-09-16 13:44:19|  monthly|    first_day|               1|enabled| 2024-09-16 13:44:19|2024-09-16 09:44:19|    20|    first_day|  monthly|allowance.created|allowance.created|\n",
      "|6da398ad-079d-49b...|2024-08-26 05:10:29|  monthly|fifteenth_day|              15|enabled| 2024-08-26 05:10:29|2024-08-26 01:10:30|   100|fifteenth_day|  monthly|allowance.created|allowance.created|\n",
      "|1f96bd51-04fe-4aa...|2024-10-31 03:33:38|  monthly|    first_day|               1|enabled| 2024-10-31 03:33:38|2024-10-30 23:33:38|    30|    first_day|  monthly|allowance.created|allowance.created|\n",
      "|990bbac2-b957-428...|2024-09-29 17:24:00|  monthly|    first_day|               1|enabled|2024-09-29 17:24:...|2024-09-29 13:24:54|    50|    first_day|  monthly| allowance.edited| allowance.edited|\n",
      "|40ce49ee-f267-433...|2024-11-21 20:04:02|  monthly|    first_day|               1|enabled|2024-11-21 20:07:...|2024-11-21 15:07:54|     5|    first_day|  monthly| allowance.edited| allowance.edited|\n",
      "|51fc1c62-4a48-4f6...|2024-09-30 14:22:36|  monthly|    first_day|               1|enabled|2024-12-01 05:00:...|2024-10-10 09:28:44|    10|    first_day|  monthly| allowance.edited| allowance.edited|\n",
      "|d0287dea-599e-44c...|2024-10-28 22:25:46|  monthly|    first_day|               1|enabled|2024-12-01 05:01:...|2024-11-10 07:17:44|     5|    first_day|  monthly| allowance.edited| allowance.edited|\n",
      "|958b0105-d0b5-492...|2024-11-29 15:01:27|  monthly|fifteenth_day|              15|enabled| 2024-11-29 15:01:27|2024-11-29 10:01:27|    20|fifteenth_day|  monthly|allowance.created|allowance.created|\n",
      "|30f4e25e-3e37-462...|2024-08-28 06:51:49|  monthly|fifteenth_day|              15|enabled|2024-10-15 05:00:...|2024-08-28 02:51:50|    10|fifteenth_day|  monthly|allowance.created|allowance.created|\n",
      "|79d83e84-e757-484...|2024-09-13 15:27:37|  monthly|    first_day|               1|enabled|2024-12-01 05:00:...|2024-09-13 11:27:36|    20|    first_day|  monthly|allowance.created|allowance.created|\n",
      "|a42d402c-0028-49b...|2024-08-24 15:44:29|  monthly|    first_day|               1|enabled|2024-12-01 05:01:...|2024-08-24 11:44:29|    35|    first_day|  monthly|allowance.created|allowance.created|\n",
      "|5b4618cc-c2e2-431...|2024-11-27 21:23:55|  monthly|fifteenth_day|              15|enabled| 2024-11-27 21:23:55|2024-11-27 16:23:55|    20|fifteenth_day|  monthly|allowance.created|allowance.created|\n",
      "|4c99d3ff-b68f-43e...|2024-09-06 17:30:07|  monthly|fifteenth_day|              15|enabled|2024-11-15 05:00:...|2024-09-06 17:57:10|    10|fifteenth_day|  monthly| allowance.edited| allowance.edited|\n",
      "+--------------------+-------------------+---------+-------------+----------------+-------+--------------------+-------------------+------+-------------+---------+-----------------+-----------------+\n",
      "only showing top 20 rows\n",
      "\n"
     ]
    },
    {
     "data": {
      "application/vnd.plotly.v1+json": {
       "config": {
        "plotlyServerURL": "https://plot.ly"
       },
       "data": [
        {
         "alignmentgroup": "True",
         "bingroup": "x",
         "hovertemplate": "correct=%{x}<br>count=%{y}<extra></extra>",
         "legendgroup": "",
         "marker": {
          "color": "#636efa",
          "pattern": {
           "shape": ""
          }
         },
         "name": "",
         "offsetgroup": "",
         "orientation": "v",
         "showlegend": false,
         "type": "histogram",
         "x": [
          "correct",
          "correct",
          "correct",
          "correct",
          "correct",
          "correct",
          "correct",
          "correct",
          "correct",
          "correct",
          "correct",
          "correct",
          "correct",
          "correct",
          "correct",
          "correct",
          "correct",
          "correct",
          "correct",
          "correct",
          "correct",
          "correct",
          "correct",
          "correct",
          "correct",
          "correct",
          "correct",
          "correct",
          "correct",
          "correct",
          "correct",
          "correct",
          "correct",
          "correct",
          "correct",
          "correct",
          "correct",
          "correct",
          "correct",
          "correct",
          "correct",
          "correct",
          "correct",
          "correct",
          "correct",
          "correct",
          "correct",
          "correct",
          "correct",
          "correct",
          "correct",
          "correct",
          "correct",
          "correct",
          "correct",
          "correct",
          "correct",
          "correct",
          "correct",
          "correct",
          "correct",
          "correct",
          "correct",
          "correct",
          "correct",
          "correct",
          "correct",
          "correct",
          "correct",
          "correct",
          "correct",
          "correct",
          "correct",
          "correct",
          "correct",
          "correct",
          "correct",
          "correct",
          "correct",
          "correct",
          "correct",
          "correct",
          "correct",
          "correct",
          "correct",
          "correct",
          "correct",
          "correct",
          "correct",
          "correct",
          "correct",
          "correct",
          "correct",
          "correct",
          "correct",
          "correct",
          "correct",
          "correct",
          "correct",
          "correct",
          "correct",
          "correct",
          "correct",
          "correct",
          "correct",
          "correct",
          "correct",
          "correct",
          "correct",
          "correct",
          "correct",
          "correct",
          "correct",
          "correct",
          "correct",
          "correct",
          "correct",
          "correct",
          "correct",
          "correct",
          "correct",
          "correct",
          "correct",
          "correct",
          "correct",
          "correct",
          "correct",
          "correct",
          "correct",
          "correct",
          "correct",
          "correct",
          "correct",
          "correct",
          "correct",
          "correct",
          "correct",
          "correct",
          "correct",
          "correct",
          "correct",
          "correct",
          "correct",
          "correct",
          "correct",
          "correct",
          "correct",
          "correct",
          "correct",
          "correct",
          "correct",
          "correct",
          "correct",
          "correct",
          "correct",
          "correct",
          "correct",
          "correct",
          "correct",
          "correct",
          "correct",
          "correct",
          "correct",
          "correct",
          "correct",
          "correct",
          "correct",
          "correct",
          "correct",
          "correct",
          "correct",
          "correct",
          "correct",
          "correct",
          "correct",
          "correct",
          "correct",
          "correct",
          "correct",
          "correct",
          "correct",
          "correct",
          "correct",
          "correct",
          "correct",
          "correct",
          "correct",
          "correct",
          "correct",
          "correct",
          "correct",
          "correct",
          "correct",
          "correct",
          "correct",
          "correct",
          "correct",
          "correct",
          "correct",
          "correct",
          "correct",
          "correct",
          "correct",
          "correct",
          "correct",
          "correct",
          "correct",
          "correct",
          "correct",
          "correct",
          "correct",
          "correct",
          "correct",
          "correct",
          "correct",
          "correct",
          "correct",
          "correct",
          "correct",
          "correct",
          "correct",
          "correct",
          "correct",
          "correct",
          "correct",
          "correct",
          "correct",
          "correct",
          "correct",
          "correct",
          "correct",
          "correct",
          "correct",
          "correct",
          "correct",
          "correct",
          "correct",
          "correct",
          "correct",
          "correct",
          "correct",
          "correct",
          "correct",
          "correct",
          "correct",
          "correct",
          "correct",
          "correct",
          "correct",
          "correct",
          "correct",
          "correct",
          "correct",
          "correct",
          "correct",
          "correct",
          "correct",
          "correct",
          "correct",
          "correct",
          "correct",
          "correct",
          "correct",
          "correct",
          "correct",
          "correct",
          "correct",
          "correct",
          "correct",
          "correct",
          "correct",
          "correct",
          "correct",
          "correct",
          "correct",
          "correct",
          "correct",
          "correct",
          "correct",
          "correct",
          "correct",
          "correct",
          "correct",
          "correct",
          "correct",
          "correct",
          "correct",
          "correct",
          "correct",
          "correct",
          "correct",
          "correct",
          "correct",
          "correct",
          "correct",
          "correct",
          "correct",
          "correct",
          "correct",
          "correct",
          "correct",
          "correct",
          "correct",
          "correct",
          "correct",
          "correct",
          "correct",
          "correct",
          "correct",
          "correct",
          "correct",
          "correct",
          "correct",
          "correct",
          "correct",
          "correct",
          "correct",
          "correct",
          "correct",
          "correct",
          "correct",
          "correct",
          "correct",
          "correct",
          "correct",
          "correct",
          "correct",
          "correct",
          "correct",
          "correct",
          "correct",
          "correct",
          "correct",
          "correct",
          "correct",
          "correct",
          "correct",
          "correct",
          "correct",
          "correct",
          "correct",
          "correct",
          "correct",
          "correct",
          "correct",
          "correct",
          "correct",
          "correct",
          "correct",
          "correct",
          "correct",
          "correct",
          "correct",
          "correct",
          "correct",
          "correct",
          "correct",
          "correct",
          "correct",
          "correct",
          "correct",
          "correct",
          "correct",
          "correct",
          "correct",
          "correct",
          "correct",
          "correct",
          "correct",
          "correct",
          "correct",
          "correct",
          "correct",
          "correct",
          "correct",
          "correct",
          "correct",
          "correct",
          "correct",
          "correct",
          "correct",
          "correct",
          "correct",
          "correct",
          "correct",
          "correct",
          "correct",
          "correct",
          "correct",
          "correct",
          "correct",
          "correct",
          "correct",
          "correct",
          "correct",
          "correct",
          "correct",
          "correct",
          "correct",
          "correct",
          "correct",
          "correct",
          "correct",
          "correct",
          "correct",
          "correct",
          "correct",
          "correct",
          "correct",
          "correct",
          "correct",
          "correct",
          "correct",
          "correct",
          "correct",
          "correct",
          "correct",
          "correct",
          "correct",
          "correct",
          "correct",
          "correct",
          "correct",
          "correct",
          "correct",
          "correct",
          "correct",
          "correct",
          "correct",
          "correct",
          "correct",
          "correct",
          "correct",
          "correct",
          "correct",
          "correct",
          "correct",
          "correct",
          "correct",
          "correct",
          "correct",
          "correct"
         ],
         "xaxis": "x",
         "yaxis": "y"
        }
       ],
       "layout": {
        "barmode": "relative",
        "legend": {
         "tracegroupgap": 0
        },
        "template": {
         "data": {
          "bar": [
           {
            "error_x": {
             "color": "#2a3f5f"
            },
            "error_y": {
             "color": "#2a3f5f"
            },
            "marker": {
             "line": {
              "color": "#E5ECF6",
              "width": 0.5
             },
             "pattern": {
              "fillmode": "overlay",
              "size": 10,
              "solidity": 0.2
             }
            },
            "type": "bar"
           }
          ],
          "barpolar": [
           {
            "marker": {
             "line": {
              "color": "#E5ECF6",
              "width": 0.5
             },
             "pattern": {
              "fillmode": "overlay",
              "size": 10,
              "solidity": 0.2
             }
            },
            "type": "barpolar"
           }
          ],
          "carpet": [
           {
            "aaxis": {
             "endlinecolor": "#2a3f5f",
             "gridcolor": "white",
             "linecolor": "white",
             "minorgridcolor": "white",
             "startlinecolor": "#2a3f5f"
            },
            "baxis": {
             "endlinecolor": "#2a3f5f",
             "gridcolor": "white",
             "linecolor": "white",
             "minorgridcolor": "white",
             "startlinecolor": "#2a3f5f"
            },
            "type": "carpet"
           }
          ],
          "choropleth": [
           {
            "colorbar": {
             "outlinewidth": 0,
             "ticks": ""
            },
            "type": "choropleth"
           }
          ],
          "contour": [
           {
            "colorbar": {
             "outlinewidth": 0,
             "ticks": ""
            },
            "colorscale": [
             [
              0,
              "#0d0887"
             ],
             [
              0.1111111111111111,
              "#46039f"
             ],
             [
              0.2222222222222222,
              "#7201a8"
             ],
             [
              0.3333333333333333,
              "#9c179e"
             ],
             [
              0.4444444444444444,
              "#bd3786"
             ],
             [
              0.5555555555555556,
              "#d8576b"
             ],
             [
              0.6666666666666666,
              "#ed7953"
             ],
             [
              0.7777777777777778,
              "#fb9f3a"
             ],
             [
              0.8888888888888888,
              "#fdca26"
             ],
             [
              1,
              "#f0f921"
             ]
            ],
            "type": "contour"
           }
          ],
          "contourcarpet": [
           {
            "colorbar": {
             "outlinewidth": 0,
             "ticks": ""
            },
            "type": "contourcarpet"
           }
          ],
          "heatmap": [
           {
            "colorbar": {
             "outlinewidth": 0,
             "ticks": ""
            },
            "colorscale": [
             [
              0,
              "#0d0887"
             ],
             [
              0.1111111111111111,
              "#46039f"
             ],
             [
              0.2222222222222222,
              "#7201a8"
             ],
             [
              0.3333333333333333,
              "#9c179e"
             ],
             [
              0.4444444444444444,
              "#bd3786"
             ],
             [
              0.5555555555555556,
              "#d8576b"
             ],
             [
              0.6666666666666666,
              "#ed7953"
             ],
             [
              0.7777777777777778,
              "#fb9f3a"
             ],
             [
              0.8888888888888888,
              "#fdca26"
             ],
             [
              1,
              "#f0f921"
             ]
            ],
            "type": "heatmap"
           }
          ],
          "heatmapgl": [
           {
            "colorbar": {
             "outlinewidth": 0,
             "ticks": ""
            },
            "colorscale": [
             [
              0,
              "#0d0887"
             ],
             [
              0.1111111111111111,
              "#46039f"
             ],
             [
              0.2222222222222222,
              "#7201a8"
             ],
             [
              0.3333333333333333,
              "#9c179e"
             ],
             [
              0.4444444444444444,
              "#bd3786"
             ],
             [
              0.5555555555555556,
              "#d8576b"
             ],
             [
              0.6666666666666666,
              "#ed7953"
             ],
             [
              0.7777777777777778,
              "#fb9f3a"
             ],
             [
              0.8888888888888888,
              "#fdca26"
             ],
             [
              1,
              "#f0f921"
             ]
            ],
            "type": "heatmapgl"
           }
          ],
          "histogram": [
           {
            "marker": {
             "pattern": {
              "fillmode": "overlay",
              "size": 10,
              "solidity": 0.2
             }
            },
            "type": "histogram"
           }
          ],
          "histogram2d": [
           {
            "colorbar": {
             "outlinewidth": 0,
             "ticks": ""
            },
            "colorscale": [
             [
              0,
              "#0d0887"
             ],
             [
              0.1111111111111111,
              "#46039f"
             ],
             [
              0.2222222222222222,
              "#7201a8"
             ],
             [
              0.3333333333333333,
              "#9c179e"
             ],
             [
              0.4444444444444444,
              "#bd3786"
             ],
             [
              0.5555555555555556,
              "#d8576b"
             ],
             [
              0.6666666666666666,
              "#ed7953"
             ],
             [
              0.7777777777777778,
              "#fb9f3a"
             ],
             [
              0.8888888888888888,
              "#fdca26"
             ],
             [
              1,
              "#f0f921"
             ]
            ],
            "type": "histogram2d"
           }
          ],
          "histogram2dcontour": [
           {
            "colorbar": {
             "outlinewidth": 0,
             "ticks": ""
            },
            "colorscale": [
             [
              0,
              "#0d0887"
             ],
             [
              0.1111111111111111,
              "#46039f"
             ],
             [
              0.2222222222222222,
              "#7201a8"
             ],
             [
              0.3333333333333333,
              "#9c179e"
             ],
             [
              0.4444444444444444,
              "#bd3786"
             ],
             [
              0.5555555555555556,
              "#d8576b"
             ],
             [
              0.6666666666666666,
              "#ed7953"
             ],
             [
              0.7777777777777778,
              "#fb9f3a"
             ],
             [
              0.8888888888888888,
              "#fdca26"
             ],
             [
              1,
              "#f0f921"
             ]
            ],
            "type": "histogram2dcontour"
           }
          ],
          "mesh3d": [
           {
            "colorbar": {
             "outlinewidth": 0,
             "ticks": ""
            },
            "type": "mesh3d"
           }
          ],
          "parcoords": [
           {
            "line": {
             "colorbar": {
              "outlinewidth": 0,
              "ticks": ""
             }
            },
            "type": "parcoords"
           }
          ],
          "pie": [
           {
            "automargin": true,
            "type": "pie"
           }
          ],
          "scatter": [
           {
            "fillpattern": {
             "fillmode": "overlay",
             "size": 10,
             "solidity": 0.2
            },
            "type": "scatter"
           }
          ],
          "scatter3d": [
           {
            "line": {
             "colorbar": {
              "outlinewidth": 0,
              "ticks": ""
             }
            },
            "marker": {
             "colorbar": {
              "outlinewidth": 0,
              "ticks": ""
             }
            },
            "type": "scatter3d"
           }
          ],
          "scattercarpet": [
           {
            "marker": {
             "colorbar": {
              "outlinewidth": 0,
              "ticks": ""
             }
            },
            "type": "scattercarpet"
           }
          ],
          "scattergeo": [
           {
            "marker": {
             "colorbar": {
              "outlinewidth": 0,
              "ticks": ""
             }
            },
            "type": "scattergeo"
           }
          ],
          "scattergl": [
           {
            "marker": {
             "colorbar": {
              "outlinewidth": 0,
              "ticks": ""
             }
            },
            "type": "scattergl"
           }
          ],
          "scattermapbox": [
           {
            "marker": {
             "colorbar": {
              "outlinewidth": 0,
              "ticks": ""
             }
            },
            "type": "scattermapbox"
           }
          ],
          "scatterpolar": [
           {
            "marker": {
             "colorbar": {
              "outlinewidth": 0,
              "ticks": ""
             }
            },
            "type": "scatterpolar"
           }
          ],
          "scatterpolargl": [
           {
            "marker": {
             "colorbar": {
              "outlinewidth": 0,
              "ticks": ""
             }
            },
            "type": "scatterpolargl"
           }
          ],
          "scatterternary": [
           {
            "marker": {
             "colorbar": {
              "outlinewidth": 0,
              "ticks": ""
             }
            },
            "type": "scatterternary"
           }
          ],
          "surface": [
           {
            "colorbar": {
             "outlinewidth": 0,
             "ticks": ""
            },
            "colorscale": [
             [
              0,
              "#0d0887"
             ],
             [
              0.1111111111111111,
              "#46039f"
             ],
             [
              0.2222222222222222,
              "#7201a8"
             ],
             [
              0.3333333333333333,
              "#9c179e"
             ],
             [
              0.4444444444444444,
              "#bd3786"
             ],
             [
              0.5555555555555556,
              "#d8576b"
             ],
             [
              0.6666666666666666,
              "#ed7953"
             ],
             [
              0.7777777777777778,
              "#fb9f3a"
             ],
             [
              0.8888888888888888,
              "#fdca26"
             ],
             [
              1,
              "#f0f921"
             ]
            ],
            "type": "surface"
           }
          ],
          "table": [
           {
            "cells": {
             "fill": {
              "color": "#EBF0F8"
             },
             "line": {
              "color": "white"
             }
            },
            "header": {
             "fill": {
              "color": "#C8D4E3"
             },
             "line": {
              "color": "white"
             }
            },
            "type": "table"
           }
          ]
         },
         "layout": {
          "annotationdefaults": {
           "arrowcolor": "#2a3f5f",
           "arrowhead": 0,
           "arrowwidth": 1
          },
          "autotypenumbers": "strict",
          "coloraxis": {
           "colorbar": {
            "outlinewidth": 0,
            "ticks": ""
           }
          },
          "colorscale": {
           "diverging": [
            [
             0,
             "#8e0152"
            ],
            [
             0.1,
             "#c51b7d"
            ],
            [
             0.2,
             "#de77ae"
            ],
            [
             0.3,
             "#f1b6da"
            ],
            [
             0.4,
             "#fde0ef"
            ],
            [
             0.5,
             "#f7f7f7"
            ],
            [
             0.6,
             "#e6f5d0"
            ],
            [
             0.7,
             "#b8e186"
            ],
            [
             0.8,
             "#7fbc41"
            ],
            [
             0.9,
             "#4d9221"
            ],
            [
             1,
             "#276419"
            ]
           ],
           "sequential": [
            [
             0,
             "#0d0887"
            ],
            [
             0.1111111111111111,
             "#46039f"
            ],
            [
             0.2222222222222222,
             "#7201a8"
            ],
            [
             0.3333333333333333,
             "#9c179e"
            ],
            [
             0.4444444444444444,
             "#bd3786"
            ],
            [
             0.5555555555555556,
             "#d8576b"
            ],
            [
             0.6666666666666666,
             "#ed7953"
            ],
            [
             0.7777777777777778,
             "#fb9f3a"
            ],
            [
             0.8888888888888888,
             "#fdca26"
            ],
            [
             1,
             "#f0f921"
            ]
           ],
           "sequentialminus": [
            [
             0,
             "#0d0887"
            ],
            [
             0.1111111111111111,
             "#46039f"
            ],
            [
             0.2222222222222222,
             "#7201a8"
            ],
            [
             0.3333333333333333,
             "#9c179e"
            ],
            [
             0.4444444444444444,
             "#bd3786"
            ],
            [
             0.5555555555555556,
             "#d8576b"
            ],
            [
             0.6666666666666666,
             "#ed7953"
            ],
            [
             0.7777777777777778,
             "#fb9f3a"
            ],
            [
             0.8888888888888888,
             "#fdca26"
            ],
            [
             1,
             "#f0f921"
            ]
           ]
          },
          "colorway": [
           "#636efa",
           "#EF553B",
           "#00cc96",
           "#ab63fa",
           "#FFA15A",
           "#19d3f3",
           "#FF6692",
           "#B6E880",
           "#FF97FF",
           "#FECB52"
          ],
          "font": {
           "color": "#2a3f5f"
          },
          "geo": {
           "bgcolor": "white",
           "lakecolor": "white",
           "landcolor": "#E5ECF6",
           "showlakes": true,
           "showland": true,
           "subunitcolor": "white"
          },
          "hoverlabel": {
           "align": "left"
          },
          "hovermode": "closest",
          "mapbox": {
           "style": "light"
          },
          "paper_bgcolor": "white",
          "plot_bgcolor": "#E5ECF6",
          "polar": {
           "angularaxis": {
            "gridcolor": "white",
            "linecolor": "white",
            "ticks": ""
           },
           "bgcolor": "#E5ECF6",
           "radialaxis": {
            "gridcolor": "white",
            "linecolor": "white",
            "ticks": ""
           }
          },
          "scene": {
           "xaxis": {
            "backgroundcolor": "#E5ECF6",
            "gridcolor": "white",
            "gridwidth": 2,
            "linecolor": "white",
            "showbackground": true,
            "ticks": "",
            "zerolinecolor": "white"
           },
           "yaxis": {
            "backgroundcolor": "#E5ECF6",
            "gridcolor": "white",
            "gridwidth": 2,
            "linecolor": "white",
            "showbackground": true,
            "ticks": "",
            "zerolinecolor": "white"
           },
           "zaxis": {
            "backgroundcolor": "#E5ECF6",
            "gridcolor": "white",
            "gridwidth": 2,
            "linecolor": "white",
            "showbackground": true,
            "ticks": "",
            "zerolinecolor": "white"
           }
          },
          "shapedefaults": {
           "line": {
            "color": "#2a3f5f"
           }
          },
          "ternary": {
           "aaxis": {
            "gridcolor": "white",
            "linecolor": "white",
            "ticks": ""
           },
           "baxis": {
            "gridcolor": "white",
            "linecolor": "white",
            "ticks": ""
           },
           "bgcolor": "#E5ECF6",
           "caxis": {
            "gridcolor": "white",
            "linecolor": "white",
            "ticks": ""
           }
          },
          "title": {
           "x": 0.05
          },
          "xaxis": {
           "automargin": true,
           "gridcolor": "white",
           "linecolor": "white",
           "ticks": "",
           "title": {
            "standoff": 15
           },
           "zerolinecolor": "white",
           "zerolinewidth": 2
          },
          "yaxis": {
           "automargin": true,
           "gridcolor": "white",
           "linecolor": "white",
           "ticks": "",
           "title": {
            "standoff": 15
           },
           "zerolinecolor": "white",
           "zerolinewidth": 2
          }
         }
        },
        "title": {
         "text": "Correctness of the next_payment_day for monthly frequency"
        },
        "xaxis": {
         "anchor": "y",
         "domain": [
          0,
          1
         ],
         "title": {
          "text": "correct"
         }
        },
        "yaxis": {
         "anchor": "x",
         "domain": [
          0,
          1
         ],
         "title": {
          "text": "count"
         }
        }
       }
      }
     },
     "metadata": {},
     "output_type": "display_data"
    },
    {
     "data": {
      "application/vnd.plotly.v1+json": {
       "config": {
        "plotlyServerURL": "https://plot.ly"
       },
       "data": [
        {
         "direction": "clockwise",
         "domain": {
          "x": [
           0,
           1
          ],
          "y": [
           0,
           1
          ]
         },
         "hovertemplate": "correct=%{label}<br>count=%{value}<extra></extra>",
         "labels": [
          "correct"
         ],
         "legendgroup": "",
         "name": "",
         "showlegend": true,
         "sort": false,
         "type": "pie",
         "values": [
          442
         ]
        }
       ],
       "layout": {
        "legend": {
         "tracegroupgap": 0
        },
        "template": {
         "data": {
          "bar": [
           {
            "error_x": {
             "color": "#2a3f5f"
            },
            "error_y": {
             "color": "#2a3f5f"
            },
            "marker": {
             "line": {
              "color": "#E5ECF6",
              "width": 0.5
             },
             "pattern": {
              "fillmode": "overlay",
              "size": 10,
              "solidity": 0.2
             }
            },
            "type": "bar"
           }
          ],
          "barpolar": [
           {
            "marker": {
             "line": {
              "color": "#E5ECF6",
              "width": 0.5
             },
             "pattern": {
              "fillmode": "overlay",
              "size": 10,
              "solidity": 0.2
             }
            },
            "type": "barpolar"
           }
          ],
          "carpet": [
           {
            "aaxis": {
             "endlinecolor": "#2a3f5f",
             "gridcolor": "white",
             "linecolor": "white",
             "minorgridcolor": "white",
             "startlinecolor": "#2a3f5f"
            },
            "baxis": {
             "endlinecolor": "#2a3f5f",
             "gridcolor": "white",
             "linecolor": "white",
             "minorgridcolor": "white",
             "startlinecolor": "#2a3f5f"
            },
            "type": "carpet"
           }
          ],
          "choropleth": [
           {
            "colorbar": {
             "outlinewidth": 0,
             "ticks": ""
            },
            "type": "choropleth"
           }
          ],
          "contour": [
           {
            "colorbar": {
             "outlinewidth": 0,
             "ticks": ""
            },
            "colorscale": [
             [
              0,
              "#0d0887"
             ],
             [
              0.1111111111111111,
              "#46039f"
             ],
             [
              0.2222222222222222,
              "#7201a8"
             ],
             [
              0.3333333333333333,
              "#9c179e"
             ],
             [
              0.4444444444444444,
              "#bd3786"
             ],
             [
              0.5555555555555556,
              "#d8576b"
             ],
             [
              0.6666666666666666,
              "#ed7953"
             ],
             [
              0.7777777777777778,
              "#fb9f3a"
             ],
             [
              0.8888888888888888,
              "#fdca26"
             ],
             [
              1,
              "#f0f921"
             ]
            ],
            "type": "contour"
           }
          ],
          "contourcarpet": [
           {
            "colorbar": {
             "outlinewidth": 0,
             "ticks": ""
            },
            "type": "contourcarpet"
           }
          ],
          "heatmap": [
           {
            "colorbar": {
             "outlinewidth": 0,
             "ticks": ""
            },
            "colorscale": [
             [
              0,
              "#0d0887"
             ],
             [
              0.1111111111111111,
              "#46039f"
             ],
             [
              0.2222222222222222,
              "#7201a8"
             ],
             [
              0.3333333333333333,
              "#9c179e"
             ],
             [
              0.4444444444444444,
              "#bd3786"
             ],
             [
              0.5555555555555556,
              "#d8576b"
             ],
             [
              0.6666666666666666,
              "#ed7953"
             ],
             [
              0.7777777777777778,
              "#fb9f3a"
             ],
             [
              0.8888888888888888,
              "#fdca26"
             ],
             [
              1,
              "#f0f921"
             ]
            ],
            "type": "heatmap"
           }
          ],
          "heatmapgl": [
           {
            "colorbar": {
             "outlinewidth": 0,
             "ticks": ""
            },
            "colorscale": [
             [
              0,
              "#0d0887"
             ],
             [
              0.1111111111111111,
              "#46039f"
             ],
             [
              0.2222222222222222,
              "#7201a8"
             ],
             [
              0.3333333333333333,
              "#9c179e"
             ],
             [
              0.4444444444444444,
              "#bd3786"
             ],
             [
              0.5555555555555556,
              "#d8576b"
             ],
             [
              0.6666666666666666,
              "#ed7953"
             ],
             [
              0.7777777777777778,
              "#fb9f3a"
             ],
             [
              0.8888888888888888,
              "#fdca26"
             ],
             [
              1,
              "#f0f921"
             ]
            ],
            "type": "heatmapgl"
           }
          ],
          "histogram": [
           {
            "marker": {
             "pattern": {
              "fillmode": "overlay",
              "size": 10,
              "solidity": 0.2
             }
            },
            "type": "histogram"
           }
          ],
          "histogram2d": [
           {
            "colorbar": {
             "outlinewidth": 0,
             "ticks": ""
            },
            "colorscale": [
             [
              0,
              "#0d0887"
             ],
             [
              0.1111111111111111,
              "#46039f"
             ],
             [
              0.2222222222222222,
              "#7201a8"
             ],
             [
              0.3333333333333333,
              "#9c179e"
             ],
             [
              0.4444444444444444,
              "#bd3786"
             ],
             [
              0.5555555555555556,
              "#d8576b"
             ],
             [
              0.6666666666666666,
              "#ed7953"
             ],
             [
              0.7777777777777778,
              "#fb9f3a"
             ],
             [
              0.8888888888888888,
              "#fdca26"
             ],
             [
              1,
              "#f0f921"
             ]
            ],
            "type": "histogram2d"
           }
          ],
          "histogram2dcontour": [
           {
            "colorbar": {
             "outlinewidth": 0,
             "ticks": ""
            },
            "colorscale": [
             [
              0,
              "#0d0887"
             ],
             [
              0.1111111111111111,
              "#46039f"
             ],
             [
              0.2222222222222222,
              "#7201a8"
             ],
             [
              0.3333333333333333,
              "#9c179e"
             ],
             [
              0.4444444444444444,
              "#bd3786"
             ],
             [
              0.5555555555555556,
              "#d8576b"
             ],
             [
              0.6666666666666666,
              "#ed7953"
             ],
             [
              0.7777777777777778,
              "#fb9f3a"
             ],
             [
              0.8888888888888888,
              "#fdca26"
             ],
             [
              1,
              "#f0f921"
             ]
            ],
            "type": "histogram2dcontour"
           }
          ],
          "mesh3d": [
           {
            "colorbar": {
             "outlinewidth": 0,
             "ticks": ""
            },
            "type": "mesh3d"
           }
          ],
          "parcoords": [
           {
            "line": {
             "colorbar": {
              "outlinewidth": 0,
              "ticks": ""
             }
            },
            "type": "parcoords"
           }
          ],
          "pie": [
           {
            "automargin": true,
            "type": "pie"
           }
          ],
          "scatter": [
           {
            "fillpattern": {
             "fillmode": "overlay",
             "size": 10,
             "solidity": 0.2
            },
            "type": "scatter"
           }
          ],
          "scatter3d": [
           {
            "line": {
             "colorbar": {
              "outlinewidth": 0,
              "ticks": ""
             }
            },
            "marker": {
             "colorbar": {
              "outlinewidth": 0,
              "ticks": ""
             }
            },
            "type": "scatter3d"
           }
          ],
          "scattercarpet": [
           {
            "marker": {
             "colorbar": {
              "outlinewidth": 0,
              "ticks": ""
             }
            },
            "type": "scattercarpet"
           }
          ],
          "scattergeo": [
           {
            "marker": {
             "colorbar": {
              "outlinewidth": 0,
              "ticks": ""
             }
            },
            "type": "scattergeo"
           }
          ],
          "scattergl": [
           {
            "marker": {
             "colorbar": {
              "outlinewidth": 0,
              "ticks": ""
             }
            },
            "type": "scattergl"
           }
          ],
          "scattermapbox": [
           {
            "marker": {
             "colorbar": {
              "outlinewidth": 0,
              "ticks": ""
             }
            },
            "type": "scattermapbox"
           }
          ],
          "scatterpolar": [
           {
            "marker": {
             "colorbar": {
              "outlinewidth": 0,
              "ticks": ""
             }
            },
            "type": "scatterpolar"
           }
          ],
          "scatterpolargl": [
           {
            "marker": {
             "colorbar": {
              "outlinewidth": 0,
              "ticks": ""
             }
            },
            "type": "scatterpolargl"
           }
          ],
          "scatterternary": [
           {
            "marker": {
             "colorbar": {
              "outlinewidth": 0,
              "ticks": ""
             }
            },
            "type": "scatterternary"
           }
          ],
          "surface": [
           {
            "colorbar": {
             "outlinewidth": 0,
             "ticks": ""
            },
            "colorscale": [
             [
              0,
              "#0d0887"
             ],
             [
              0.1111111111111111,
              "#46039f"
             ],
             [
              0.2222222222222222,
              "#7201a8"
             ],
             [
              0.3333333333333333,
              "#9c179e"
             ],
             [
              0.4444444444444444,
              "#bd3786"
             ],
             [
              0.5555555555555556,
              "#d8576b"
             ],
             [
              0.6666666666666666,
              "#ed7953"
             ],
             [
              0.7777777777777778,
              "#fb9f3a"
             ],
             [
              0.8888888888888888,
              "#fdca26"
             ],
             [
              1,
              "#f0f921"
             ]
            ],
            "type": "surface"
           }
          ],
          "table": [
           {
            "cells": {
             "fill": {
              "color": "#EBF0F8"
             },
             "line": {
              "color": "white"
             }
            },
            "header": {
             "fill": {
              "color": "#C8D4E3"
             },
             "line": {
              "color": "white"
             }
            },
            "type": "table"
           }
          ]
         },
         "layout": {
          "annotationdefaults": {
           "arrowcolor": "#2a3f5f",
           "arrowhead": 0,
           "arrowwidth": 1
          },
          "autotypenumbers": "strict",
          "coloraxis": {
           "colorbar": {
            "outlinewidth": 0,
            "ticks": ""
           }
          },
          "colorscale": {
           "diverging": [
            [
             0,
             "#8e0152"
            ],
            [
             0.1,
             "#c51b7d"
            ],
            [
             0.2,
             "#de77ae"
            ],
            [
             0.3,
             "#f1b6da"
            ],
            [
             0.4,
             "#fde0ef"
            ],
            [
             0.5,
             "#f7f7f7"
            ],
            [
             0.6,
             "#e6f5d0"
            ],
            [
             0.7,
             "#b8e186"
            ],
            [
             0.8,
             "#7fbc41"
            ],
            [
             0.9,
             "#4d9221"
            ],
            [
             1,
             "#276419"
            ]
           ],
           "sequential": [
            [
             0,
             "#0d0887"
            ],
            [
             0.1111111111111111,
             "#46039f"
            ],
            [
             0.2222222222222222,
             "#7201a8"
            ],
            [
             0.3333333333333333,
             "#9c179e"
            ],
            [
             0.4444444444444444,
             "#bd3786"
            ],
            [
             0.5555555555555556,
             "#d8576b"
            ],
            [
             0.6666666666666666,
             "#ed7953"
            ],
            [
             0.7777777777777778,
             "#fb9f3a"
            ],
            [
             0.8888888888888888,
             "#fdca26"
            ],
            [
             1,
             "#f0f921"
            ]
           ],
           "sequentialminus": [
            [
             0,
             "#0d0887"
            ],
            [
             0.1111111111111111,
             "#46039f"
            ],
            [
             0.2222222222222222,
             "#7201a8"
            ],
            [
             0.3333333333333333,
             "#9c179e"
            ],
            [
             0.4444444444444444,
             "#bd3786"
            ],
            [
             0.5555555555555556,
             "#d8576b"
            ],
            [
             0.6666666666666666,
             "#ed7953"
            ],
            [
             0.7777777777777778,
             "#fb9f3a"
            ],
            [
             0.8888888888888888,
             "#fdca26"
            ],
            [
             1,
             "#f0f921"
            ]
           ]
          },
          "colorway": [
           "#636efa",
           "#EF553B",
           "#00cc96",
           "#ab63fa",
           "#FFA15A",
           "#19d3f3",
           "#FF6692",
           "#B6E880",
           "#FF97FF",
           "#FECB52"
          ],
          "font": {
           "color": "#2a3f5f"
          },
          "geo": {
           "bgcolor": "white",
           "lakecolor": "white",
           "landcolor": "#E5ECF6",
           "showlakes": true,
           "showland": true,
           "subunitcolor": "white"
          },
          "hoverlabel": {
           "align": "left"
          },
          "hovermode": "closest",
          "mapbox": {
           "style": "light"
          },
          "paper_bgcolor": "white",
          "plot_bgcolor": "#E5ECF6",
          "polar": {
           "angularaxis": {
            "gridcolor": "white",
            "linecolor": "white",
            "ticks": ""
           },
           "bgcolor": "#E5ECF6",
           "radialaxis": {
            "gridcolor": "white",
            "linecolor": "white",
            "ticks": ""
           }
          },
          "scene": {
           "xaxis": {
            "backgroundcolor": "#E5ECF6",
            "gridcolor": "white",
            "gridwidth": 2,
            "linecolor": "white",
            "showbackground": true,
            "ticks": "",
            "zerolinecolor": "white"
           },
           "yaxis": {
            "backgroundcolor": "#E5ECF6",
            "gridcolor": "white",
            "gridwidth": 2,
            "linecolor": "white",
            "showbackground": true,
            "ticks": "",
            "zerolinecolor": "white"
           },
           "zaxis": {
            "backgroundcolor": "#E5ECF6",
            "gridcolor": "white",
            "gridwidth": 2,
            "linecolor": "white",
            "showbackground": true,
            "ticks": "",
            "zerolinecolor": "white"
           }
          },
          "shapedefaults": {
           "line": {
            "color": "#2a3f5f"
           }
          },
          "ternary": {
           "aaxis": {
            "gridcolor": "white",
            "linecolor": "white",
            "ticks": ""
           },
           "baxis": {
            "gridcolor": "white",
            "linecolor": "white",
            "ticks": ""
           },
           "bgcolor": "#E5ECF6",
           "caxis": {
            "gridcolor": "white",
            "linecolor": "white",
            "ticks": ""
           }
          },
          "title": {
           "x": 0.05
          },
          "xaxis": {
           "automargin": true,
           "gridcolor": "white",
           "linecolor": "white",
           "ticks": "",
           "title": {
            "standoff": 15
           },
           "zerolinecolor": "white",
           "zerolinewidth": 2
          },
          "yaxis": {
           "automargin": true,
           "gridcolor": "white",
           "linecolor": "white",
           "ticks": "",
           "title": {
            "standoff": 15
           },
           "zerolinecolor": "white",
           "zerolinewidth": 2
          }
         }
        },
        "title": {
         "text": "proportion"
        }
       }
      }
     },
     "metadata": {},
     "output_type": "display_data"
    }
   ],
   "source": [
    "# comparisson_backend_table.show()\n",
    "\n",
    "\n",
    "def next_payment_day_montlhy_frequency(day_column, event_timestamp):\n",
    "    # current_day = spark_f.day(spark_f.to_date(spark_f.lit(CURRENT_DAY)))\n",
    "\n",
    "    day_column = (\n",
    "        spark_f.when(spark_f.col(day_column) == \"fifteenth_day\", spark_f.lit(15))\n",
    "        .when(spark_f.col(day_column) == \"first_day\", spark_f.lit(1))\n",
    "        .otherwise(spark_f.lit(None))\n",
    "    )\n",
    "\n",
    "    return day_column\n",
    "\n",
    "\n",
    "backend_table_monthly_truth = build_backend_truth_table(\n",
    "    \"monthly\", next_payment_day_montlhy_frequency\n",
    ")\n",
    "\n",
    "comparisson_backend_table.filter(\"truth_backend_table.frequency = 'monthly'\").show()\n",
    "pd_comparisson_backend = backend_table_monthly_truth.toPandas()\n",
    "\n",
    "histogram(\n",
    "    pd_comparisson_backend,\n",
    "    \"correct\",\n",
    "    \"Correctness of the next_payment_day for monthly frequency\",\n",
    ")\n",
    "\n",
    "pie_chart(\n",
    "    pd_comparisson_backend,\n",
    "    \"correct\",\n",
    "    \"proportion\",\n",
    "    category_orders={\"correct\": [\"correct\", \"wrong\"]},\n",
    ")"
   ]
  },
  {
   "cell_type": "markdown",
   "metadata": {},
   "source": [
    "### weekly"
   ]
  },
  {
   "cell_type": "code",
   "execution_count": 133,
   "metadata": {},
   "outputs": [
    {
     "name": "stdout",
     "output_type": "stream",
     "text": [
      "+---------+\n",
      "|      day|\n",
      "+---------+\n",
      "|   sunday|\n",
      "| thursday|\n",
      "|   monday|\n",
      "|wednesday|\n",
      "|   friday|\n",
      "| saturday|\n",
      "|  tuesday|\n",
      "+---------+\n",
      "\n"
     ]
    }
   ],
   "source": [
    "comparisson_backend_table.filter(\"truth_backend_table.frequency = 'weekly'\").select(\"truth_backend_table.day\").dropDuplicates().show()"
   ]
  },
  {
   "cell_type": "code",
   "execution_count": 134,
   "metadata": {},
   "outputs": [
    {
     "data": {
      "application/vnd.plotly.v1+json": {
       "config": {
        "plotlyServerURL": "https://plot.ly"
       },
       "data": [
        {
         "alignmentgroup": "True",
         "bingroup": "x",
         "hovertemplate": "correct=%{x}<br>count=%{y}<extra></extra>",
         "legendgroup": "",
         "marker": {
          "color": "#636efa",
          "pattern": {
           "shape": ""
          }
         },
         "name": "",
         "offsetgroup": "",
         "orientation": "v",
         "showlegend": false,
         "type": "histogram",
         "x": [
          "correct",
          "correct",
          "correct",
          "wrong",
          "correct",
          "wrong",
          "wrong",
          "wrong",
          "wrong",
          "wrong",
          "wrong",
          "wrong",
          "correct",
          "correct",
          "correct",
          "correct",
          "wrong",
          "wrong",
          "correct",
          "correct",
          "wrong",
          "correct",
          "wrong",
          "correct",
          "correct",
          "wrong",
          "correct",
          "wrong",
          "correct",
          "wrong",
          "correct",
          "correct",
          "wrong",
          "correct",
          "wrong",
          "wrong",
          "correct",
          "correct",
          "wrong",
          "correct",
          "wrong",
          "wrong",
          "correct",
          "correct",
          "correct",
          "correct",
          "wrong",
          "correct",
          "correct",
          "wrong",
          "correct",
          "correct",
          "wrong",
          "correct",
          "correct",
          "correct",
          "correct",
          "wrong",
          "correct",
          "wrong",
          "correct",
          "wrong",
          "wrong",
          "correct",
          "wrong",
          "wrong",
          "correct",
          "correct",
          "correct",
          "wrong",
          "wrong",
          "wrong",
          "correct",
          "wrong",
          "correct",
          "wrong",
          "correct",
          "correct",
          "wrong",
          "correct",
          "wrong",
          "wrong",
          "wrong",
          "correct",
          "correct",
          "correct",
          "correct",
          "correct",
          "correct",
          "wrong",
          "wrong",
          "correct",
          "wrong",
          "correct",
          "correct",
          "wrong",
          "correct",
          "wrong",
          "wrong",
          "correct",
          "wrong",
          "correct",
          "wrong",
          "wrong",
          "correct",
          "correct",
          "wrong",
          "correct",
          "correct",
          "wrong",
          "wrong",
          "wrong",
          "correct",
          "wrong",
          "wrong",
          "correct",
          "correct",
          "correct",
          "wrong",
          "correct",
          "correct",
          "wrong",
          "wrong",
          "wrong",
          "correct",
          "correct",
          "wrong",
          "wrong",
          "wrong",
          "correct",
          "correct",
          "wrong",
          "correct",
          "correct",
          "correct",
          "wrong",
          "wrong",
          "wrong",
          "correct",
          "correct",
          "wrong",
          "correct",
          "wrong",
          "wrong",
          "correct",
          "correct",
          "correct",
          "wrong",
          "wrong",
          "correct",
          "correct",
          "wrong",
          "wrong",
          "wrong",
          "wrong",
          "correct",
          "wrong",
          "correct",
          "wrong",
          "correct",
          "wrong",
          "wrong",
          "correct",
          "wrong",
          "wrong",
          "correct",
          "wrong",
          "correct",
          "correct",
          "wrong",
          "correct",
          "wrong",
          "correct",
          "correct",
          "correct",
          "correct",
          "wrong",
          "correct",
          "wrong",
          "correct",
          "wrong",
          "wrong",
          "wrong",
          "correct",
          "correct",
          "wrong",
          "correct",
          "wrong",
          "correct",
          "correct",
          "wrong",
          "correct",
          "wrong",
          "correct",
          "wrong",
          "correct",
          "correct",
          "wrong",
          "wrong",
          "correct",
          "wrong",
          "correct",
          "correct",
          "wrong",
          "correct",
          "wrong",
          "correct",
          "correct",
          "correct",
          "wrong",
          "correct",
          "wrong",
          "wrong",
          "wrong",
          "wrong",
          "wrong",
          "wrong",
          "correct",
          "correct",
          "wrong",
          "correct",
          "wrong",
          "wrong",
          "wrong",
          "wrong",
          "correct",
          "wrong",
          "correct",
          "correct",
          "correct",
          "wrong",
          "correct",
          "wrong",
          "wrong",
          "correct",
          "wrong",
          "correct",
          "correct",
          "wrong",
          "wrong",
          "wrong",
          "correct",
          "wrong",
          "wrong",
          "correct",
          "correct",
          "wrong",
          "correct",
          "correct",
          "wrong",
          "wrong",
          "correct",
          "correct",
          "correct",
          "wrong",
          "correct",
          "wrong",
          "correct",
          "correct",
          "wrong",
          "correct",
          "wrong",
          "wrong",
          "correct",
          "correct",
          "correct",
          "wrong",
          "wrong",
          "wrong",
          "wrong",
          "correct",
          "wrong",
          "correct",
          "correct",
          "correct",
          "correct",
          "correct",
          "correct",
          "correct",
          "correct",
          "correct",
          "wrong",
          "correct",
          "wrong",
          "correct",
          "wrong",
          "correct",
          "wrong",
          "wrong",
          "wrong",
          "wrong",
          "wrong",
          "wrong",
          "wrong",
          "correct",
          "wrong",
          "wrong",
          "wrong",
          "correct",
          "wrong",
          "wrong",
          "wrong",
          "correct",
          "wrong",
          "wrong",
          "wrong",
          "correct",
          "wrong",
          "wrong",
          "wrong",
          "wrong",
          "correct",
          "correct",
          "wrong",
          "wrong",
          "wrong",
          "wrong",
          "wrong",
          "correct",
          "wrong",
          "correct",
          "wrong",
          "correct",
          "wrong",
          "correct",
          "wrong",
          "correct",
          "correct",
          "wrong",
          "correct",
          "wrong",
          "wrong",
          "wrong",
          "wrong",
          "wrong",
          "wrong",
          "wrong",
          "wrong",
          "correct",
          "wrong",
          "correct",
          "wrong",
          "wrong",
          "wrong",
          "correct",
          "wrong",
          "correct",
          "wrong",
          "wrong",
          "wrong",
          "wrong",
          "correct",
          "correct",
          "correct",
          "correct",
          "wrong",
          "correct",
          "correct",
          "wrong",
          "wrong",
          "correct",
          "correct",
          "correct",
          "wrong",
          "wrong",
          "correct",
          "wrong",
          "wrong",
          "correct",
          "correct",
          "wrong",
          "wrong",
          "correct",
          "wrong",
          "correct",
          "wrong",
          "wrong",
          "wrong",
          "wrong",
          "wrong",
          "correct",
          "correct",
          "wrong",
          "correct",
          "wrong",
          "correct",
          "wrong",
          "correct",
          "correct",
          "wrong",
          "correct",
          "wrong",
          "wrong",
          "wrong",
          "correct",
          "correct",
          "wrong",
          "correct",
          "wrong",
          "wrong",
          "wrong",
          "wrong",
          "correct",
          "wrong",
          "wrong",
          "wrong",
          "correct",
          "wrong",
          "wrong",
          "wrong",
          "correct",
          "correct",
          "correct",
          "wrong",
          "correct",
          "wrong",
          "wrong",
          "wrong",
          "correct",
          "wrong",
          "wrong",
          "correct",
          "wrong",
          "correct",
          "wrong",
          "correct",
          "correct",
          "correct",
          "correct",
          "wrong",
          "correct",
          "correct",
          "correct",
          "wrong",
          "wrong",
          "correct",
          "correct",
          "correct",
          "correct",
          "wrong",
          "wrong",
          "correct",
          "correct",
          "correct",
          "correct",
          "wrong",
          "correct",
          "correct",
          "correct",
          "wrong",
          "correct",
          "correct",
          "correct",
          "wrong",
          "wrong",
          "correct",
          "wrong",
          "wrong",
          "correct",
          "correct",
          "wrong",
          "correct",
          "correct",
          "wrong",
          "correct",
          "correct",
          "wrong",
          "wrong",
          "correct",
          "correct",
          "correct",
          "correct",
          "correct",
          "correct",
          "wrong",
          "wrong",
          "wrong",
          "correct",
          "wrong",
          "correct",
          "correct",
          "correct",
          "wrong",
          "wrong",
          "correct",
          "wrong",
          "wrong",
          "correct",
          "correct",
          "wrong",
          "correct",
          "correct",
          "correct",
          "correct",
          "correct",
          "wrong",
          "wrong",
          "wrong",
          "wrong",
          "correct",
          "correct",
          "correct",
          "wrong",
          "correct",
          "wrong",
          "wrong",
          "correct",
          "correct",
          "wrong",
          "correct",
          "wrong",
          "wrong",
          "correct",
          "correct",
          "correct",
          "wrong",
          "correct",
          "correct",
          "wrong",
          "wrong",
          "wrong",
          "wrong",
          "wrong",
          "correct",
          "correct",
          "wrong",
          "wrong",
          "correct",
          "correct",
          "wrong",
          "wrong",
          "correct",
          "correct",
          "wrong",
          "correct",
          "wrong",
          "correct",
          "correct",
          "wrong",
          "correct",
          "wrong",
          "correct",
          "wrong",
          "wrong",
          "wrong",
          "wrong",
          "correct",
          "wrong",
          "correct",
          "wrong",
          "correct",
          "correct",
          "wrong",
          "wrong",
          "correct",
          "wrong",
          "wrong",
          "correct",
          "wrong",
          "wrong",
          "wrong",
          "correct",
          "wrong",
          "wrong",
          "correct",
          "correct",
          "wrong",
          "wrong",
          "wrong",
          "correct",
          "correct",
          "correct",
          "correct",
          "wrong",
          "correct",
          "correct",
          "correct",
          "correct",
          "correct",
          "wrong",
          "correct",
          "correct",
          "wrong",
          "correct",
          "wrong",
          "correct",
          "wrong",
          "correct",
          "wrong",
          "wrong",
          "wrong",
          "wrong",
          "wrong",
          "correct",
          "correct",
          "wrong",
          "wrong",
          "wrong",
          "wrong",
          "correct",
          "correct",
          "correct",
          "correct",
          "wrong",
          "correct",
          "correct",
          "correct",
          "correct",
          "wrong",
          "correct",
          "wrong",
          "correct",
          "wrong",
          "correct",
          "correct",
          "wrong",
          "correct",
          "correct",
          "wrong",
          "correct",
          "correct",
          "correct",
          "correct",
          "correct",
          "wrong",
          "correct",
          "wrong",
          "correct",
          "correct",
          "wrong",
          "correct",
          "correct",
          "correct",
          "correct",
          "wrong",
          "correct",
          "wrong",
          "wrong",
          "wrong",
          "wrong",
          "wrong",
          "correct",
          "wrong",
          "wrong",
          "correct",
          "wrong",
          "wrong",
          "correct",
          "wrong",
          "wrong",
          "wrong",
          "correct",
          "correct",
          "wrong",
          "correct",
          "correct",
          "correct",
          "correct",
          "wrong",
          "correct",
          "correct",
          "correct",
          "wrong",
          "wrong",
          "wrong",
          "wrong",
          "correct",
          "correct",
          "correct",
          "correct",
          "correct",
          "correct",
          "correct",
          "wrong",
          "correct",
          "wrong",
          "wrong",
          "correct",
          "wrong",
          "wrong",
          "correct",
          "wrong",
          "correct",
          "correct",
          "wrong",
          "correct",
          "wrong",
          "correct",
          "correct",
          "correct",
          "correct",
          "correct",
          "correct",
          "wrong",
          "wrong",
          "wrong",
          "wrong",
          "wrong",
          "wrong",
          "wrong",
          "wrong",
          "wrong",
          "correct",
          "wrong",
          "wrong",
          "correct",
          "wrong",
          "wrong",
          "correct",
          "wrong",
          "wrong",
          "correct",
          "wrong",
          "wrong",
          "correct",
          "correct",
          "correct",
          "wrong",
          "wrong",
          "correct",
          "wrong",
          "correct",
          "correct",
          "wrong",
          "wrong",
          "correct",
          "correct",
          "correct",
          "correct",
          "wrong",
          "correct",
          "correct",
          "correct",
          "wrong",
          "correct",
          "correct",
          "correct",
          "correct",
          "correct",
          "correct",
          "wrong",
          "correct",
          "wrong",
          "wrong",
          "correct",
          "wrong",
          "wrong",
          "correct",
          "correct",
          "wrong",
          "wrong",
          "wrong",
          "correct",
          "correct"
         ],
         "xaxis": "x",
         "yaxis": "y"
        }
       ],
       "layout": {
        "barmode": "relative",
        "legend": {
         "tracegroupgap": 0
        },
        "template": {
         "data": {
          "bar": [
           {
            "error_x": {
             "color": "#2a3f5f"
            },
            "error_y": {
             "color": "#2a3f5f"
            },
            "marker": {
             "line": {
              "color": "#E5ECF6",
              "width": 0.5
             },
             "pattern": {
              "fillmode": "overlay",
              "size": 10,
              "solidity": 0.2
             }
            },
            "type": "bar"
           }
          ],
          "barpolar": [
           {
            "marker": {
             "line": {
              "color": "#E5ECF6",
              "width": 0.5
             },
             "pattern": {
              "fillmode": "overlay",
              "size": 10,
              "solidity": 0.2
             }
            },
            "type": "barpolar"
           }
          ],
          "carpet": [
           {
            "aaxis": {
             "endlinecolor": "#2a3f5f",
             "gridcolor": "white",
             "linecolor": "white",
             "minorgridcolor": "white",
             "startlinecolor": "#2a3f5f"
            },
            "baxis": {
             "endlinecolor": "#2a3f5f",
             "gridcolor": "white",
             "linecolor": "white",
             "minorgridcolor": "white",
             "startlinecolor": "#2a3f5f"
            },
            "type": "carpet"
           }
          ],
          "choropleth": [
           {
            "colorbar": {
             "outlinewidth": 0,
             "ticks": ""
            },
            "type": "choropleth"
           }
          ],
          "contour": [
           {
            "colorbar": {
             "outlinewidth": 0,
             "ticks": ""
            },
            "colorscale": [
             [
              0,
              "#0d0887"
             ],
             [
              0.1111111111111111,
              "#46039f"
             ],
             [
              0.2222222222222222,
              "#7201a8"
             ],
             [
              0.3333333333333333,
              "#9c179e"
             ],
             [
              0.4444444444444444,
              "#bd3786"
             ],
             [
              0.5555555555555556,
              "#d8576b"
             ],
             [
              0.6666666666666666,
              "#ed7953"
             ],
             [
              0.7777777777777778,
              "#fb9f3a"
             ],
             [
              0.8888888888888888,
              "#fdca26"
             ],
             [
              1,
              "#f0f921"
             ]
            ],
            "type": "contour"
           }
          ],
          "contourcarpet": [
           {
            "colorbar": {
             "outlinewidth": 0,
             "ticks": ""
            },
            "type": "contourcarpet"
           }
          ],
          "heatmap": [
           {
            "colorbar": {
             "outlinewidth": 0,
             "ticks": ""
            },
            "colorscale": [
             [
              0,
              "#0d0887"
             ],
             [
              0.1111111111111111,
              "#46039f"
             ],
             [
              0.2222222222222222,
              "#7201a8"
             ],
             [
              0.3333333333333333,
              "#9c179e"
             ],
             [
              0.4444444444444444,
              "#bd3786"
             ],
             [
              0.5555555555555556,
              "#d8576b"
             ],
             [
              0.6666666666666666,
              "#ed7953"
             ],
             [
              0.7777777777777778,
              "#fb9f3a"
             ],
             [
              0.8888888888888888,
              "#fdca26"
             ],
             [
              1,
              "#f0f921"
             ]
            ],
            "type": "heatmap"
           }
          ],
          "heatmapgl": [
           {
            "colorbar": {
             "outlinewidth": 0,
             "ticks": ""
            },
            "colorscale": [
             [
              0,
              "#0d0887"
             ],
             [
              0.1111111111111111,
              "#46039f"
             ],
             [
              0.2222222222222222,
              "#7201a8"
             ],
             [
              0.3333333333333333,
              "#9c179e"
             ],
             [
              0.4444444444444444,
              "#bd3786"
             ],
             [
              0.5555555555555556,
              "#d8576b"
             ],
             [
              0.6666666666666666,
              "#ed7953"
             ],
             [
              0.7777777777777778,
              "#fb9f3a"
             ],
             [
              0.8888888888888888,
              "#fdca26"
             ],
             [
              1,
              "#f0f921"
             ]
            ],
            "type": "heatmapgl"
           }
          ],
          "histogram": [
           {
            "marker": {
             "pattern": {
              "fillmode": "overlay",
              "size": 10,
              "solidity": 0.2
             }
            },
            "type": "histogram"
           }
          ],
          "histogram2d": [
           {
            "colorbar": {
             "outlinewidth": 0,
             "ticks": ""
            },
            "colorscale": [
             [
              0,
              "#0d0887"
             ],
             [
              0.1111111111111111,
              "#46039f"
             ],
             [
              0.2222222222222222,
              "#7201a8"
             ],
             [
              0.3333333333333333,
              "#9c179e"
             ],
             [
              0.4444444444444444,
              "#bd3786"
             ],
             [
              0.5555555555555556,
              "#d8576b"
             ],
             [
              0.6666666666666666,
              "#ed7953"
             ],
             [
              0.7777777777777778,
              "#fb9f3a"
             ],
             [
              0.8888888888888888,
              "#fdca26"
             ],
             [
              1,
              "#f0f921"
             ]
            ],
            "type": "histogram2d"
           }
          ],
          "histogram2dcontour": [
           {
            "colorbar": {
             "outlinewidth": 0,
             "ticks": ""
            },
            "colorscale": [
             [
              0,
              "#0d0887"
             ],
             [
              0.1111111111111111,
              "#46039f"
             ],
             [
              0.2222222222222222,
              "#7201a8"
             ],
             [
              0.3333333333333333,
              "#9c179e"
             ],
             [
              0.4444444444444444,
              "#bd3786"
             ],
             [
              0.5555555555555556,
              "#d8576b"
             ],
             [
              0.6666666666666666,
              "#ed7953"
             ],
             [
              0.7777777777777778,
              "#fb9f3a"
             ],
             [
              0.8888888888888888,
              "#fdca26"
             ],
             [
              1,
              "#f0f921"
             ]
            ],
            "type": "histogram2dcontour"
           }
          ],
          "mesh3d": [
           {
            "colorbar": {
             "outlinewidth": 0,
             "ticks": ""
            },
            "type": "mesh3d"
           }
          ],
          "parcoords": [
           {
            "line": {
             "colorbar": {
              "outlinewidth": 0,
              "ticks": ""
             }
            },
            "type": "parcoords"
           }
          ],
          "pie": [
           {
            "automargin": true,
            "type": "pie"
           }
          ],
          "scatter": [
           {
            "fillpattern": {
             "fillmode": "overlay",
             "size": 10,
             "solidity": 0.2
            },
            "type": "scatter"
           }
          ],
          "scatter3d": [
           {
            "line": {
             "colorbar": {
              "outlinewidth": 0,
              "ticks": ""
             }
            },
            "marker": {
             "colorbar": {
              "outlinewidth": 0,
              "ticks": ""
             }
            },
            "type": "scatter3d"
           }
          ],
          "scattercarpet": [
           {
            "marker": {
             "colorbar": {
              "outlinewidth": 0,
              "ticks": ""
             }
            },
            "type": "scattercarpet"
           }
          ],
          "scattergeo": [
           {
            "marker": {
             "colorbar": {
              "outlinewidth": 0,
              "ticks": ""
             }
            },
            "type": "scattergeo"
           }
          ],
          "scattergl": [
           {
            "marker": {
             "colorbar": {
              "outlinewidth": 0,
              "ticks": ""
             }
            },
            "type": "scattergl"
           }
          ],
          "scattermapbox": [
           {
            "marker": {
             "colorbar": {
              "outlinewidth": 0,
              "ticks": ""
             }
            },
            "type": "scattermapbox"
           }
          ],
          "scatterpolar": [
           {
            "marker": {
             "colorbar": {
              "outlinewidth": 0,
              "ticks": ""
             }
            },
            "type": "scatterpolar"
           }
          ],
          "scatterpolargl": [
           {
            "marker": {
             "colorbar": {
              "outlinewidth": 0,
              "ticks": ""
             }
            },
            "type": "scatterpolargl"
           }
          ],
          "scatterternary": [
           {
            "marker": {
             "colorbar": {
              "outlinewidth": 0,
              "ticks": ""
             }
            },
            "type": "scatterternary"
           }
          ],
          "surface": [
           {
            "colorbar": {
             "outlinewidth": 0,
             "ticks": ""
            },
            "colorscale": [
             [
              0,
              "#0d0887"
             ],
             [
              0.1111111111111111,
              "#46039f"
             ],
             [
              0.2222222222222222,
              "#7201a8"
             ],
             [
              0.3333333333333333,
              "#9c179e"
             ],
             [
              0.4444444444444444,
              "#bd3786"
             ],
             [
              0.5555555555555556,
              "#d8576b"
             ],
             [
              0.6666666666666666,
              "#ed7953"
             ],
             [
              0.7777777777777778,
              "#fb9f3a"
             ],
             [
              0.8888888888888888,
              "#fdca26"
             ],
             [
              1,
              "#f0f921"
             ]
            ],
            "type": "surface"
           }
          ],
          "table": [
           {
            "cells": {
             "fill": {
              "color": "#EBF0F8"
             },
             "line": {
              "color": "white"
             }
            },
            "header": {
             "fill": {
              "color": "#C8D4E3"
             },
             "line": {
              "color": "white"
             }
            },
            "type": "table"
           }
          ]
         },
         "layout": {
          "annotationdefaults": {
           "arrowcolor": "#2a3f5f",
           "arrowhead": 0,
           "arrowwidth": 1
          },
          "autotypenumbers": "strict",
          "coloraxis": {
           "colorbar": {
            "outlinewidth": 0,
            "ticks": ""
           }
          },
          "colorscale": {
           "diverging": [
            [
             0,
             "#8e0152"
            ],
            [
             0.1,
             "#c51b7d"
            ],
            [
             0.2,
             "#de77ae"
            ],
            [
             0.3,
             "#f1b6da"
            ],
            [
             0.4,
             "#fde0ef"
            ],
            [
             0.5,
             "#f7f7f7"
            ],
            [
             0.6,
             "#e6f5d0"
            ],
            [
             0.7,
             "#b8e186"
            ],
            [
             0.8,
             "#7fbc41"
            ],
            [
             0.9,
             "#4d9221"
            ],
            [
             1,
             "#276419"
            ]
           ],
           "sequential": [
            [
             0,
             "#0d0887"
            ],
            [
             0.1111111111111111,
             "#46039f"
            ],
            [
             0.2222222222222222,
             "#7201a8"
            ],
            [
             0.3333333333333333,
             "#9c179e"
            ],
            [
             0.4444444444444444,
             "#bd3786"
            ],
            [
             0.5555555555555556,
             "#d8576b"
            ],
            [
             0.6666666666666666,
             "#ed7953"
            ],
            [
             0.7777777777777778,
             "#fb9f3a"
            ],
            [
             0.8888888888888888,
             "#fdca26"
            ],
            [
             1,
             "#f0f921"
            ]
           ],
           "sequentialminus": [
            [
             0,
             "#0d0887"
            ],
            [
             0.1111111111111111,
             "#46039f"
            ],
            [
             0.2222222222222222,
             "#7201a8"
            ],
            [
             0.3333333333333333,
             "#9c179e"
            ],
            [
             0.4444444444444444,
             "#bd3786"
            ],
            [
             0.5555555555555556,
             "#d8576b"
            ],
            [
             0.6666666666666666,
             "#ed7953"
            ],
            [
             0.7777777777777778,
             "#fb9f3a"
            ],
            [
             0.8888888888888888,
             "#fdca26"
            ],
            [
             1,
             "#f0f921"
            ]
           ]
          },
          "colorway": [
           "#636efa",
           "#EF553B",
           "#00cc96",
           "#ab63fa",
           "#FFA15A",
           "#19d3f3",
           "#FF6692",
           "#B6E880",
           "#FF97FF",
           "#FECB52"
          ],
          "font": {
           "color": "#2a3f5f"
          },
          "geo": {
           "bgcolor": "white",
           "lakecolor": "white",
           "landcolor": "#E5ECF6",
           "showlakes": true,
           "showland": true,
           "subunitcolor": "white"
          },
          "hoverlabel": {
           "align": "left"
          },
          "hovermode": "closest",
          "mapbox": {
           "style": "light"
          },
          "paper_bgcolor": "white",
          "plot_bgcolor": "#E5ECF6",
          "polar": {
           "angularaxis": {
            "gridcolor": "white",
            "linecolor": "white",
            "ticks": ""
           },
           "bgcolor": "#E5ECF6",
           "radialaxis": {
            "gridcolor": "white",
            "linecolor": "white",
            "ticks": ""
           }
          },
          "scene": {
           "xaxis": {
            "backgroundcolor": "#E5ECF6",
            "gridcolor": "white",
            "gridwidth": 2,
            "linecolor": "white",
            "showbackground": true,
            "ticks": "",
            "zerolinecolor": "white"
           },
           "yaxis": {
            "backgroundcolor": "#E5ECF6",
            "gridcolor": "white",
            "gridwidth": 2,
            "linecolor": "white",
            "showbackground": true,
            "ticks": "",
            "zerolinecolor": "white"
           },
           "zaxis": {
            "backgroundcolor": "#E5ECF6",
            "gridcolor": "white",
            "gridwidth": 2,
            "linecolor": "white",
            "showbackground": true,
            "ticks": "",
            "zerolinecolor": "white"
           }
          },
          "shapedefaults": {
           "line": {
            "color": "#2a3f5f"
           }
          },
          "ternary": {
           "aaxis": {
            "gridcolor": "white",
            "linecolor": "white",
            "ticks": ""
           },
           "baxis": {
            "gridcolor": "white",
            "linecolor": "white",
            "ticks": ""
           },
           "bgcolor": "#E5ECF6",
           "caxis": {
            "gridcolor": "white",
            "linecolor": "white",
            "ticks": ""
           }
          },
          "title": {
           "x": 0.05
          },
          "xaxis": {
           "automargin": true,
           "gridcolor": "white",
           "linecolor": "white",
           "ticks": "",
           "title": {
            "standoff": 15
           },
           "zerolinecolor": "white",
           "zerolinewidth": 2
          },
          "yaxis": {
           "automargin": true,
           "gridcolor": "white",
           "linecolor": "white",
           "ticks": "",
           "title": {
            "standoff": 15
           },
           "zerolinecolor": "white",
           "zerolinewidth": 2
          }
         }
        },
        "title": {
         "text": "Correctness of the next_payment_day for monthly frequency"
        },
        "xaxis": {
         "anchor": "y",
         "domain": [
          0,
          1
         ],
         "title": {
          "text": "correct"
         }
        },
        "yaxis": {
         "anchor": "x",
         "domain": [
          0,
          1
         ],
         "title": {
          "text": "count"
         }
        }
       }
      }
     },
     "metadata": {},
     "output_type": "display_data"
    },
    {
     "data": {
      "application/vnd.plotly.v1+json": {
       "config": {
        "plotlyServerURL": "https://plot.ly"
       },
       "data": [
        {
         "direction": "clockwise",
         "domain": {
          "x": [
           0,
           1
          ],
          "y": [
           0,
           1
          ]
         },
         "hovertemplate": "correct=%{label}<br>count=%{value}<extra></extra>",
         "labels": [
          "correct",
          "wrong"
         ],
         "legendgroup": "",
         "name": "",
         "showlegend": true,
         "sort": false,
         "type": "pie",
         "values": [
          382,
          372
         ]
        }
       ],
       "layout": {
        "legend": {
         "tracegroupgap": 0
        },
        "template": {
         "data": {
          "bar": [
           {
            "error_x": {
             "color": "#2a3f5f"
            },
            "error_y": {
             "color": "#2a3f5f"
            },
            "marker": {
             "line": {
              "color": "#E5ECF6",
              "width": 0.5
             },
             "pattern": {
              "fillmode": "overlay",
              "size": 10,
              "solidity": 0.2
             }
            },
            "type": "bar"
           }
          ],
          "barpolar": [
           {
            "marker": {
             "line": {
              "color": "#E5ECF6",
              "width": 0.5
             },
             "pattern": {
              "fillmode": "overlay",
              "size": 10,
              "solidity": 0.2
             }
            },
            "type": "barpolar"
           }
          ],
          "carpet": [
           {
            "aaxis": {
             "endlinecolor": "#2a3f5f",
             "gridcolor": "white",
             "linecolor": "white",
             "minorgridcolor": "white",
             "startlinecolor": "#2a3f5f"
            },
            "baxis": {
             "endlinecolor": "#2a3f5f",
             "gridcolor": "white",
             "linecolor": "white",
             "minorgridcolor": "white",
             "startlinecolor": "#2a3f5f"
            },
            "type": "carpet"
           }
          ],
          "choropleth": [
           {
            "colorbar": {
             "outlinewidth": 0,
             "ticks": ""
            },
            "type": "choropleth"
           }
          ],
          "contour": [
           {
            "colorbar": {
             "outlinewidth": 0,
             "ticks": ""
            },
            "colorscale": [
             [
              0,
              "#0d0887"
             ],
             [
              0.1111111111111111,
              "#46039f"
             ],
             [
              0.2222222222222222,
              "#7201a8"
             ],
             [
              0.3333333333333333,
              "#9c179e"
             ],
             [
              0.4444444444444444,
              "#bd3786"
             ],
             [
              0.5555555555555556,
              "#d8576b"
             ],
             [
              0.6666666666666666,
              "#ed7953"
             ],
             [
              0.7777777777777778,
              "#fb9f3a"
             ],
             [
              0.8888888888888888,
              "#fdca26"
             ],
             [
              1,
              "#f0f921"
             ]
            ],
            "type": "contour"
           }
          ],
          "contourcarpet": [
           {
            "colorbar": {
             "outlinewidth": 0,
             "ticks": ""
            },
            "type": "contourcarpet"
           }
          ],
          "heatmap": [
           {
            "colorbar": {
             "outlinewidth": 0,
             "ticks": ""
            },
            "colorscale": [
             [
              0,
              "#0d0887"
             ],
             [
              0.1111111111111111,
              "#46039f"
             ],
             [
              0.2222222222222222,
              "#7201a8"
             ],
             [
              0.3333333333333333,
              "#9c179e"
             ],
             [
              0.4444444444444444,
              "#bd3786"
             ],
             [
              0.5555555555555556,
              "#d8576b"
             ],
             [
              0.6666666666666666,
              "#ed7953"
             ],
             [
              0.7777777777777778,
              "#fb9f3a"
             ],
             [
              0.8888888888888888,
              "#fdca26"
             ],
             [
              1,
              "#f0f921"
             ]
            ],
            "type": "heatmap"
           }
          ],
          "heatmapgl": [
           {
            "colorbar": {
             "outlinewidth": 0,
             "ticks": ""
            },
            "colorscale": [
             [
              0,
              "#0d0887"
             ],
             [
              0.1111111111111111,
              "#46039f"
             ],
             [
              0.2222222222222222,
              "#7201a8"
             ],
             [
              0.3333333333333333,
              "#9c179e"
             ],
             [
              0.4444444444444444,
              "#bd3786"
             ],
             [
              0.5555555555555556,
              "#d8576b"
             ],
             [
              0.6666666666666666,
              "#ed7953"
             ],
             [
              0.7777777777777778,
              "#fb9f3a"
             ],
             [
              0.8888888888888888,
              "#fdca26"
             ],
             [
              1,
              "#f0f921"
             ]
            ],
            "type": "heatmapgl"
           }
          ],
          "histogram": [
           {
            "marker": {
             "pattern": {
              "fillmode": "overlay",
              "size": 10,
              "solidity": 0.2
             }
            },
            "type": "histogram"
           }
          ],
          "histogram2d": [
           {
            "colorbar": {
             "outlinewidth": 0,
             "ticks": ""
            },
            "colorscale": [
             [
              0,
              "#0d0887"
             ],
             [
              0.1111111111111111,
              "#46039f"
             ],
             [
              0.2222222222222222,
              "#7201a8"
             ],
             [
              0.3333333333333333,
              "#9c179e"
             ],
             [
              0.4444444444444444,
              "#bd3786"
             ],
             [
              0.5555555555555556,
              "#d8576b"
             ],
             [
              0.6666666666666666,
              "#ed7953"
             ],
             [
              0.7777777777777778,
              "#fb9f3a"
             ],
             [
              0.8888888888888888,
              "#fdca26"
             ],
             [
              1,
              "#f0f921"
             ]
            ],
            "type": "histogram2d"
           }
          ],
          "histogram2dcontour": [
           {
            "colorbar": {
             "outlinewidth": 0,
             "ticks": ""
            },
            "colorscale": [
             [
              0,
              "#0d0887"
             ],
             [
              0.1111111111111111,
              "#46039f"
             ],
             [
              0.2222222222222222,
              "#7201a8"
             ],
             [
              0.3333333333333333,
              "#9c179e"
             ],
             [
              0.4444444444444444,
              "#bd3786"
             ],
             [
              0.5555555555555556,
              "#d8576b"
             ],
             [
              0.6666666666666666,
              "#ed7953"
             ],
             [
              0.7777777777777778,
              "#fb9f3a"
             ],
             [
              0.8888888888888888,
              "#fdca26"
             ],
             [
              1,
              "#f0f921"
             ]
            ],
            "type": "histogram2dcontour"
           }
          ],
          "mesh3d": [
           {
            "colorbar": {
             "outlinewidth": 0,
             "ticks": ""
            },
            "type": "mesh3d"
           }
          ],
          "parcoords": [
           {
            "line": {
             "colorbar": {
              "outlinewidth": 0,
              "ticks": ""
             }
            },
            "type": "parcoords"
           }
          ],
          "pie": [
           {
            "automargin": true,
            "type": "pie"
           }
          ],
          "scatter": [
           {
            "fillpattern": {
             "fillmode": "overlay",
             "size": 10,
             "solidity": 0.2
            },
            "type": "scatter"
           }
          ],
          "scatter3d": [
           {
            "line": {
             "colorbar": {
              "outlinewidth": 0,
              "ticks": ""
             }
            },
            "marker": {
             "colorbar": {
              "outlinewidth": 0,
              "ticks": ""
             }
            },
            "type": "scatter3d"
           }
          ],
          "scattercarpet": [
           {
            "marker": {
             "colorbar": {
              "outlinewidth": 0,
              "ticks": ""
             }
            },
            "type": "scattercarpet"
           }
          ],
          "scattergeo": [
           {
            "marker": {
             "colorbar": {
              "outlinewidth": 0,
              "ticks": ""
             }
            },
            "type": "scattergeo"
           }
          ],
          "scattergl": [
           {
            "marker": {
             "colorbar": {
              "outlinewidth": 0,
              "ticks": ""
             }
            },
            "type": "scattergl"
           }
          ],
          "scattermapbox": [
           {
            "marker": {
             "colorbar": {
              "outlinewidth": 0,
              "ticks": ""
             }
            },
            "type": "scattermapbox"
           }
          ],
          "scatterpolar": [
           {
            "marker": {
             "colorbar": {
              "outlinewidth": 0,
              "ticks": ""
             }
            },
            "type": "scatterpolar"
           }
          ],
          "scatterpolargl": [
           {
            "marker": {
             "colorbar": {
              "outlinewidth": 0,
              "ticks": ""
             }
            },
            "type": "scatterpolargl"
           }
          ],
          "scatterternary": [
           {
            "marker": {
             "colorbar": {
              "outlinewidth": 0,
              "ticks": ""
             }
            },
            "type": "scatterternary"
           }
          ],
          "surface": [
           {
            "colorbar": {
             "outlinewidth": 0,
             "ticks": ""
            },
            "colorscale": [
             [
              0,
              "#0d0887"
             ],
             [
              0.1111111111111111,
              "#46039f"
             ],
             [
              0.2222222222222222,
              "#7201a8"
             ],
             [
              0.3333333333333333,
              "#9c179e"
             ],
             [
              0.4444444444444444,
              "#bd3786"
             ],
             [
              0.5555555555555556,
              "#d8576b"
             ],
             [
              0.6666666666666666,
              "#ed7953"
             ],
             [
              0.7777777777777778,
              "#fb9f3a"
             ],
             [
              0.8888888888888888,
              "#fdca26"
             ],
             [
              1,
              "#f0f921"
             ]
            ],
            "type": "surface"
           }
          ],
          "table": [
           {
            "cells": {
             "fill": {
              "color": "#EBF0F8"
             },
             "line": {
              "color": "white"
             }
            },
            "header": {
             "fill": {
              "color": "#C8D4E3"
             },
             "line": {
              "color": "white"
             }
            },
            "type": "table"
           }
          ]
         },
         "layout": {
          "annotationdefaults": {
           "arrowcolor": "#2a3f5f",
           "arrowhead": 0,
           "arrowwidth": 1
          },
          "autotypenumbers": "strict",
          "coloraxis": {
           "colorbar": {
            "outlinewidth": 0,
            "ticks": ""
           }
          },
          "colorscale": {
           "diverging": [
            [
             0,
             "#8e0152"
            ],
            [
             0.1,
             "#c51b7d"
            ],
            [
             0.2,
             "#de77ae"
            ],
            [
             0.3,
             "#f1b6da"
            ],
            [
             0.4,
             "#fde0ef"
            ],
            [
             0.5,
             "#f7f7f7"
            ],
            [
             0.6,
             "#e6f5d0"
            ],
            [
             0.7,
             "#b8e186"
            ],
            [
             0.8,
             "#7fbc41"
            ],
            [
             0.9,
             "#4d9221"
            ],
            [
             1,
             "#276419"
            ]
           ],
           "sequential": [
            [
             0,
             "#0d0887"
            ],
            [
             0.1111111111111111,
             "#46039f"
            ],
            [
             0.2222222222222222,
             "#7201a8"
            ],
            [
             0.3333333333333333,
             "#9c179e"
            ],
            [
             0.4444444444444444,
             "#bd3786"
            ],
            [
             0.5555555555555556,
             "#d8576b"
            ],
            [
             0.6666666666666666,
             "#ed7953"
            ],
            [
             0.7777777777777778,
             "#fb9f3a"
            ],
            [
             0.8888888888888888,
             "#fdca26"
            ],
            [
             1,
             "#f0f921"
            ]
           ],
           "sequentialminus": [
            [
             0,
             "#0d0887"
            ],
            [
             0.1111111111111111,
             "#46039f"
            ],
            [
             0.2222222222222222,
             "#7201a8"
            ],
            [
             0.3333333333333333,
             "#9c179e"
            ],
            [
             0.4444444444444444,
             "#bd3786"
            ],
            [
             0.5555555555555556,
             "#d8576b"
            ],
            [
             0.6666666666666666,
             "#ed7953"
            ],
            [
             0.7777777777777778,
             "#fb9f3a"
            ],
            [
             0.8888888888888888,
             "#fdca26"
            ],
            [
             1,
             "#f0f921"
            ]
           ]
          },
          "colorway": [
           "#636efa",
           "#EF553B",
           "#00cc96",
           "#ab63fa",
           "#FFA15A",
           "#19d3f3",
           "#FF6692",
           "#B6E880",
           "#FF97FF",
           "#FECB52"
          ],
          "font": {
           "color": "#2a3f5f"
          },
          "geo": {
           "bgcolor": "white",
           "lakecolor": "white",
           "landcolor": "#E5ECF6",
           "showlakes": true,
           "showland": true,
           "subunitcolor": "white"
          },
          "hoverlabel": {
           "align": "left"
          },
          "hovermode": "closest",
          "mapbox": {
           "style": "light"
          },
          "paper_bgcolor": "white",
          "plot_bgcolor": "#E5ECF6",
          "polar": {
           "angularaxis": {
            "gridcolor": "white",
            "linecolor": "white",
            "ticks": ""
           },
           "bgcolor": "#E5ECF6",
           "radialaxis": {
            "gridcolor": "white",
            "linecolor": "white",
            "ticks": ""
           }
          },
          "scene": {
           "xaxis": {
            "backgroundcolor": "#E5ECF6",
            "gridcolor": "white",
            "gridwidth": 2,
            "linecolor": "white",
            "showbackground": true,
            "ticks": "",
            "zerolinecolor": "white"
           },
           "yaxis": {
            "backgroundcolor": "#E5ECF6",
            "gridcolor": "white",
            "gridwidth": 2,
            "linecolor": "white",
            "showbackground": true,
            "ticks": "",
            "zerolinecolor": "white"
           },
           "zaxis": {
            "backgroundcolor": "#E5ECF6",
            "gridcolor": "white",
            "gridwidth": 2,
            "linecolor": "white",
            "showbackground": true,
            "ticks": "",
            "zerolinecolor": "white"
           }
          },
          "shapedefaults": {
           "line": {
            "color": "#2a3f5f"
           }
          },
          "ternary": {
           "aaxis": {
            "gridcolor": "white",
            "linecolor": "white",
            "ticks": ""
           },
           "baxis": {
            "gridcolor": "white",
            "linecolor": "white",
            "ticks": ""
           },
           "bgcolor": "#E5ECF6",
           "caxis": {
            "gridcolor": "white",
            "linecolor": "white",
            "ticks": ""
           }
          },
          "title": {
           "x": 0.05
          },
          "xaxis": {
           "automargin": true,
           "gridcolor": "white",
           "linecolor": "white",
           "ticks": "",
           "title": {
            "standoff": 15
           },
           "zerolinecolor": "white",
           "zerolinewidth": 2
          },
          "yaxis": {
           "automargin": true,
           "gridcolor": "white",
           "linecolor": "white",
           "ticks": "",
           "title": {
            "standoff": 15
           },
           "zerolinecolor": "white",
           "zerolinewidth": 2
          }
         }
        },
        "title": {
         "text": "proportion"
        }
       }
      }
     },
     "metadata": {},
     "output_type": "display_data"
    }
   ],
   "source": [
    "# comparisson_backend_table.show()\n",
    "def int_day_of_week(column):\n",
    "    DAYS_OF_WEEK = [\n",
    "        \"sunday\",\n",
    "        \"monday\",\n",
    "        \"tuesday\",\n",
    "        \"wednesday\",\n",
    "        \"thursday\",\n",
    "        \"friday\",\n",
    "        \"saturday\",\n",
    "    ]\n",
    "\n",
    "    day_of_week = spark_f.when(\n",
    "        spark_f.col(column).isin(DAYS_OF_WEEK),\n",
    "        spark_f.expr(f\"array_position(array({','.join([ f\"'{day}'\" for day in DAYS_OF_WEEK])}), {column})\")\n",
    "    ).otherwise(spark_f.lit(None)).cast(\"int\")\n",
    "    return day_of_week\n",
    "\n",
    "def next_day_of_week(timestamp,day_of_week):\n",
    "    \n",
    "    dif = day_of_week - spark_f.dayofweek(timestamp)\n",
    "    next_day = spark_f.when(dif > 0, spark_f.date_add(timestamp,dif)).otherwise(spark_f.date_add(timestamp ,dif+7))\n",
    "    return next_day\n",
    "\n",
    "def next_payment_day_weekly_frequency(day_column, event_timestamp, current_day = None):\n",
    "    if current_day is None:\n",
    "        current_day = spark_f.to_date(spark_f.lit(CURRENT_DAY))\n",
    "    else:\n",
    "        current_day = spark_f.to_date(current_day)\n",
    "    day_of_week = int_day_of_week(day_column)\n",
    "    \n",
    "    next_day = next_day_of_week(current_day,day_of_week)\n",
    "    return spark_f.day(next_day)\n",
    "\n",
    "\n",
    "backend_table_weekly_truth = build_backend_truth_table(\"weekly\", next_payment_day_weekly_frequency)\n",
    "# comparisson_backend_table.filter(\"truth_backend_table.frequency = 'weekly'\").show()\n",
    "pd_comparisson_backend = backend_table_weekly_truth.toPandas()\n",
    "\n",
    "histogram(\n",
    "    pd_comparisson_backend,\n",
    "    \"correct\",\n",
    "    \"Correctness of the next_payment_day for monthly frequency\",\n",
    ")\n",
    "\n",
    "pie_chart(pd_comparisson_backend, \"correct\", \"proportion\",category_orders={\"correct\": [\"correct\", \"wrong\"]})"
   ]
  },
  {
   "cell_type": "markdown",
   "metadata": {},
   "source": [
    "### biweekly"
   ]
  },
  {
   "cell_type": "code",
   "execution_count": 135,
   "metadata": {},
   "outputs": [
    {
     "data": {
      "application/vnd.plotly.v1+json": {
       "config": {
        "plotlyServerURL": "https://plot.ly"
       },
       "data": [
        {
         "alignmentgroup": "True",
         "bingroup": "x",
         "hovertemplate": "correct=%{x}<br>count=%{y}<extra></extra>",
         "legendgroup": "",
         "marker": {
          "color": "#636efa",
          "pattern": {
           "shape": ""
          }
         },
         "name": "",
         "offsetgroup": "",
         "orientation": "v",
         "showlegend": false,
         "type": "histogram",
         "x": [
          "wrong",
          "wrong",
          "wrong",
          "wrong",
          "wrong",
          "wrong",
          "wrong",
          "wrong",
          "wrong",
          "wrong",
          "wrong",
          "wrong",
          "wrong",
          "wrong",
          "wrong",
          "wrong",
          "wrong",
          "wrong",
          "wrong",
          "wrong",
          "correct",
          "wrong",
          "wrong",
          "wrong",
          "wrong",
          "wrong",
          "wrong",
          "wrong",
          "wrong",
          "wrong",
          "wrong",
          "wrong",
          "wrong",
          "wrong",
          "wrong",
          "wrong",
          "wrong",
          "wrong",
          "wrong",
          "wrong",
          "wrong",
          "wrong",
          "wrong",
          "wrong",
          "wrong",
          "wrong",
          "wrong",
          "wrong",
          "wrong",
          "wrong",
          "wrong",
          "wrong",
          "wrong",
          "wrong",
          "wrong",
          "wrong",
          "wrong",
          "wrong",
          "wrong",
          "wrong",
          "wrong",
          "wrong",
          "wrong",
          "wrong",
          "wrong",
          "wrong",
          "wrong",
          "correct",
          "wrong",
          "correct",
          "wrong",
          "wrong",
          "wrong",
          "wrong",
          "wrong",
          "wrong",
          "wrong",
          "correct",
          "wrong",
          "wrong",
          "wrong",
          "wrong",
          "correct",
          "wrong",
          "wrong",
          "wrong",
          "wrong",
          "wrong",
          "wrong",
          "wrong",
          "correct",
          "wrong",
          "wrong",
          "wrong",
          "wrong",
          "wrong",
          "wrong",
          "wrong",
          "wrong",
          "wrong",
          "wrong",
          "wrong",
          "wrong",
          "wrong",
          "wrong",
          "wrong",
          "wrong",
          "wrong",
          "wrong",
          "wrong",
          "wrong",
          "wrong",
          "wrong",
          "wrong",
          "wrong",
          "wrong",
          "wrong",
          "wrong",
          "wrong",
          "wrong",
          "wrong",
          "wrong",
          "wrong",
          "wrong",
          "wrong",
          "wrong",
          "wrong",
          "wrong",
          "correct",
          "wrong",
          "wrong",
          "wrong",
          "wrong",
          "wrong",
          "wrong",
          "wrong",
          "wrong",
          "wrong",
          "wrong",
          "wrong",
          "wrong",
          "wrong",
          "wrong",
          "wrong",
          "wrong",
          "wrong",
          "wrong",
          "wrong",
          "wrong",
          "wrong",
          "wrong",
          "wrong",
          "wrong",
          "wrong",
          "wrong",
          "wrong",
          "wrong",
          "wrong",
          "correct",
          "wrong",
          "wrong",
          "wrong",
          "wrong",
          "wrong",
          "wrong",
          "wrong",
          "wrong",
          "wrong",
          "wrong",
          "wrong",
          "wrong",
          "wrong",
          "wrong",
          "correct",
          "wrong",
          "wrong",
          "wrong",
          "wrong",
          "wrong",
          "wrong",
          "wrong",
          "wrong",
          "wrong",
          "wrong",
          "correct",
          "wrong",
          "wrong",
          "wrong",
          "wrong",
          "wrong",
          "wrong",
          "wrong",
          "wrong",
          "wrong",
          "wrong",
          "wrong",
          "wrong",
          "wrong",
          "correct",
          "wrong",
          "wrong",
          "wrong",
          "wrong",
          "wrong",
          "wrong",
          "wrong",
          "wrong",
          "wrong",
          "wrong",
          "wrong",
          "wrong",
          "wrong",
          "wrong",
          "wrong",
          "wrong",
          "wrong",
          "wrong",
          "wrong",
          "wrong",
          "wrong",
          "wrong",
          "correct",
          "wrong",
          "wrong",
          "wrong",
          "wrong",
          "wrong",
          "wrong",
          "wrong",
          "wrong",
          "wrong",
          "wrong",
          "wrong",
          "wrong",
          "wrong",
          "correct",
          "wrong",
          "wrong",
          "wrong",
          "wrong",
          "wrong",
          "wrong",
          "wrong",
          "wrong",
          "wrong",
          "wrong",
          "wrong",
          "correct",
          "correct",
          "wrong",
          "wrong",
          "correct",
          "wrong",
          "wrong",
          "wrong",
          "wrong",
          "wrong",
          "correct",
          "correct",
          "wrong",
          "wrong",
          "wrong",
          "wrong",
          "wrong",
          "wrong",
          "wrong",
          "wrong",
          "wrong",
          "correct",
          "wrong",
          "wrong",
          "wrong",
          "wrong",
          "wrong",
          "wrong",
          "wrong",
          "wrong",
          "wrong",
          "wrong",
          "wrong",
          "wrong",
          "wrong",
          "wrong",
          "wrong",
          "wrong",
          "wrong",
          "wrong",
          "wrong",
          "wrong",
          "wrong",
          "wrong",
          "wrong",
          "wrong",
          "wrong",
          "wrong",
          "wrong",
          "wrong",
          "wrong",
          "wrong",
          "wrong",
          "wrong",
          "wrong",
          "wrong",
          "wrong",
          "wrong",
          "wrong",
          "wrong",
          "wrong",
          "wrong",
          "correct",
          "wrong",
          "wrong",
          "wrong",
          "wrong",
          "wrong",
          "wrong",
          "wrong",
          "wrong",
          "wrong",
          "wrong",
          "wrong",
          "wrong",
          "wrong",
          "wrong",
          "wrong",
          "correct",
          "wrong",
          "wrong",
          "wrong",
          "wrong",
          "wrong",
          "wrong",
          "wrong",
          "wrong",
          "wrong",
          "wrong",
          "wrong",
          "wrong",
          "wrong",
          "wrong",
          "wrong",
          "wrong",
          "wrong",
          "wrong",
          "wrong",
          "wrong",
          "wrong",
          "wrong",
          "wrong",
          "wrong",
          "wrong",
          "wrong",
          "wrong",
          "wrong",
          "wrong",
          "wrong",
          "wrong",
          "correct",
          "wrong",
          "wrong",
          "wrong",
          "wrong",
          "wrong",
          "wrong",
          "wrong",
          "wrong",
          "wrong",
          "correct",
          "correct",
          "wrong",
          "correct",
          "wrong",
          "wrong",
          "correct",
          "correct",
          "wrong",
          "wrong",
          "wrong",
          "wrong",
          "wrong",
          "wrong",
          "correct",
          "correct",
          "wrong",
          "wrong",
          "wrong",
          "wrong",
          "wrong",
          "wrong",
          "wrong",
          "wrong",
          "wrong",
          "wrong",
          "wrong",
          "wrong",
          "wrong",
          "wrong",
          "wrong",
          "wrong",
          "wrong",
          "wrong",
          "wrong",
          "wrong",
          "correct",
          "wrong",
          "wrong",
          "wrong",
          "wrong",
          "wrong",
          "correct",
          "wrong",
          "wrong",
          "wrong",
          "wrong",
          "wrong",
          "wrong",
          "wrong",
          "wrong",
          "wrong",
          "wrong",
          "wrong",
          "wrong",
          "wrong",
          "wrong",
          "wrong",
          "wrong",
          "correct",
          "wrong",
          "wrong",
          "wrong",
          "wrong",
          "wrong",
          "correct",
          "wrong",
          "wrong",
          "wrong",
          "wrong",
          "wrong",
          "wrong",
          "wrong",
          "wrong",
          "wrong",
          "wrong",
          "wrong",
          "wrong",
          "wrong",
          "wrong",
          "wrong",
          "wrong",
          "wrong",
          "wrong",
          "wrong",
          "wrong",
          "wrong",
          "wrong",
          "wrong",
          "wrong",
          "wrong",
          "wrong",
          "wrong",
          "wrong",
          "wrong",
          "wrong",
          "wrong",
          "wrong",
          "wrong",
          "wrong",
          "wrong",
          "correct",
          "wrong",
          "wrong",
          "correct",
          "wrong",
          "wrong",
          "wrong",
          "wrong",
          "correct",
          "wrong",
          "wrong",
          "wrong",
          "wrong",
          "wrong",
          "wrong",
          "wrong",
          "wrong",
          "wrong",
          "wrong",
          "wrong",
          "wrong",
          "wrong",
          "correct",
          "wrong",
          "wrong",
          "wrong",
          "wrong",
          "wrong",
          "wrong",
          "wrong",
          "wrong",
          "wrong",
          "wrong",
          "correct",
          "wrong",
          "wrong",
          "wrong",
          "wrong",
          "correct",
          "wrong",
          "wrong",
          "wrong",
          "wrong",
          "wrong",
          "wrong",
          "wrong",
          "wrong",
          "wrong",
          "wrong",
          "wrong",
          "wrong",
          "wrong",
          "wrong",
          "wrong",
          "wrong",
          "wrong",
          "wrong",
          "wrong",
          "correct",
          "wrong",
          "wrong",
          "wrong",
          "wrong",
          "wrong",
          "correct",
          "wrong",
          "wrong",
          "wrong",
          "wrong",
          "wrong",
          "correct",
          "wrong",
          "wrong",
          "wrong",
          "wrong",
          "wrong",
          "wrong",
          "wrong",
          "wrong",
          "wrong",
          "wrong",
          "wrong",
          "wrong",
          "wrong",
          "wrong",
          "wrong",
          "wrong",
          "wrong",
          "wrong",
          "wrong",
          "wrong",
          "wrong",
          "wrong",
          "wrong",
          "wrong",
          "wrong",
          "wrong",
          "wrong",
          "wrong",
          "wrong",
          "correct",
          "wrong",
          "wrong",
          "wrong",
          "correct",
          "wrong",
          "wrong",
          "wrong",
          "wrong",
          "wrong",
          "wrong",
          "wrong",
          "wrong",
          "wrong",
          "wrong",
          "wrong",
          "wrong",
          "wrong",
          "correct",
          "wrong",
          "wrong",
          "wrong",
          "wrong",
          "wrong",
          "correct",
          "correct",
          "wrong",
          "wrong",
          "wrong",
          "wrong",
          "wrong",
          "wrong",
          "wrong",
          "wrong",
          "wrong",
          "wrong",
          "wrong",
          "wrong",
          "wrong",
          "wrong",
          "wrong",
          "wrong",
          "wrong",
          "wrong",
          "wrong",
          "wrong",
          "wrong",
          "wrong",
          "wrong",
          "wrong",
          "wrong",
          "wrong",
          "wrong",
          "correct",
          "wrong",
          "wrong",
          "wrong",
          "wrong",
          "wrong",
          "correct",
          "wrong",
          "wrong",
          "wrong",
          "wrong",
          "correct",
          "wrong",
          "wrong",
          "wrong",
          "wrong",
          "wrong",
          "wrong",
          "correct",
          "correct",
          "wrong",
          "wrong",
          "wrong",
          "wrong",
          "wrong",
          "wrong",
          "wrong",
          "wrong",
          "wrong",
          "wrong",
          "wrong",
          "wrong",
          "wrong",
          "wrong",
          "wrong",
          "wrong",
          "wrong",
          "wrong",
          "wrong",
          "wrong",
          "wrong",
          "wrong",
          "wrong",
          "wrong",
          "wrong",
          "wrong",
          "wrong",
          "wrong",
          "wrong",
          "wrong",
          "wrong",
          "wrong",
          "wrong",
          "wrong",
          "wrong",
          "wrong",
          "wrong",
          "correct",
          "wrong",
          "wrong",
          "wrong",
          "wrong",
          "wrong",
          "wrong",
          "wrong",
          "correct",
          "wrong",
          "wrong",
          "correct",
          "wrong",
          "wrong",
          "correct",
          "wrong",
          "wrong",
          "wrong",
          "wrong",
          "wrong",
          "wrong",
          "wrong",
          "wrong",
          "wrong",
          "wrong",
          "wrong",
          "wrong",
          "wrong",
          "wrong",
          "wrong",
          "wrong",
          "wrong",
          "wrong",
          "wrong",
          "wrong",
          "wrong",
          "wrong",
          "wrong",
          "wrong",
          "wrong",
          "wrong",
          "wrong",
          "wrong",
          "wrong",
          "wrong",
          "wrong",
          "wrong",
          "wrong",
          "wrong",
          "wrong",
          "wrong",
          "wrong",
          "wrong",
          "wrong",
          "wrong",
          "wrong",
          "wrong",
          "wrong",
          "correct",
          "wrong",
          "wrong",
          "correct",
          "wrong",
          "wrong",
          "wrong",
          "wrong",
          "wrong",
          "wrong",
          "wrong",
          "wrong",
          "wrong",
          "wrong",
          "correct",
          "wrong",
          "wrong",
          "wrong",
          "wrong",
          "wrong",
          "wrong",
          "wrong",
          "wrong",
          "wrong",
          "wrong",
          "wrong",
          "wrong",
          "wrong",
          "wrong",
          "wrong",
          "wrong",
          "wrong",
          "wrong",
          "wrong",
          "wrong",
          "wrong",
          "wrong",
          "wrong",
          "wrong",
          "wrong",
          "wrong",
          "wrong",
          "wrong",
          "wrong",
          "wrong",
          "wrong",
          "wrong",
          "correct",
          "wrong",
          "wrong",
          "wrong",
          "wrong",
          "wrong",
          "wrong",
          "wrong",
          "correct",
          "wrong",
          "wrong",
          "wrong",
          "wrong",
          "wrong",
          "wrong",
          "wrong",
          "correct",
          "wrong",
          "wrong",
          "wrong",
          "wrong",
          "wrong",
          "correct",
          "wrong",
          "correct",
          "wrong",
          "wrong",
          "wrong",
          "wrong",
          "wrong",
          "wrong",
          "wrong",
          "correct",
          "correct",
          "wrong",
          "correct",
          "wrong",
          "wrong",
          "wrong",
          "wrong",
          "wrong",
          "wrong",
          "wrong",
          "wrong",
          "wrong",
          "wrong",
          "correct",
          "wrong",
          "wrong",
          "wrong",
          "wrong",
          "correct",
          "wrong",
          "wrong",
          "wrong",
          "wrong",
          "wrong",
          "wrong",
          "wrong",
          "wrong",
          "wrong",
          "wrong",
          "wrong",
          "wrong",
          "wrong",
          "wrong",
          "wrong",
          "wrong",
          "wrong",
          "wrong",
          "wrong",
          "wrong",
          "wrong",
          "wrong",
          "wrong",
          "wrong",
          "wrong",
          "wrong",
          "wrong",
          "wrong",
          "wrong",
          "correct",
          "wrong",
          "wrong",
          "wrong",
          "wrong",
          "correct",
          "wrong",
          "wrong",
          "wrong",
          "correct"
         ],
         "xaxis": "x",
         "yaxis": "y"
        }
       ],
       "layout": {
        "barmode": "relative",
        "legend": {
         "tracegroupgap": 0
        },
        "template": {
         "data": {
          "bar": [
           {
            "error_x": {
             "color": "#2a3f5f"
            },
            "error_y": {
             "color": "#2a3f5f"
            },
            "marker": {
             "line": {
              "color": "#E5ECF6",
              "width": 0.5
             },
             "pattern": {
              "fillmode": "overlay",
              "size": 10,
              "solidity": 0.2
             }
            },
            "type": "bar"
           }
          ],
          "barpolar": [
           {
            "marker": {
             "line": {
              "color": "#E5ECF6",
              "width": 0.5
             },
             "pattern": {
              "fillmode": "overlay",
              "size": 10,
              "solidity": 0.2
             }
            },
            "type": "barpolar"
           }
          ],
          "carpet": [
           {
            "aaxis": {
             "endlinecolor": "#2a3f5f",
             "gridcolor": "white",
             "linecolor": "white",
             "minorgridcolor": "white",
             "startlinecolor": "#2a3f5f"
            },
            "baxis": {
             "endlinecolor": "#2a3f5f",
             "gridcolor": "white",
             "linecolor": "white",
             "minorgridcolor": "white",
             "startlinecolor": "#2a3f5f"
            },
            "type": "carpet"
           }
          ],
          "choropleth": [
           {
            "colorbar": {
             "outlinewidth": 0,
             "ticks": ""
            },
            "type": "choropleth"
           }
          ],
          "contour": [
           {
            "colorbar": {
             "outlinewidth": 0,
             "ticks": ""
            },
            "colorscale": [
             [
              0,
              "#0d0887"
             ],
             [
              0.1111111111111111,
              "#46039f"
             ],
             [
              0.2222222222222222,
              "#7201a8"
             ],
             [
              0.3333333333333333,
              "#9c179e"
             ],
             [
              0.4444444444444444,
              "#bd3786"
             ],
             [
              0.5555555555555556,
              "#d8576b"
             ],
             [
              0.6666666666666666,
              "#ed7953"
             ],
             [
              0.7777777777777778,
              "#fb9f3a"
             ],
             [
              0.8888888888888888,
              "#fdca26"
             ],
             [
              1,
              "#f0f921"
             ]
            ],
            "type": "contour"
           }
          ],
          "contourcarpet": [
           {
            "colorbar": {
             "outlinewidth": 0,
             "ticks": ""
            },
            "type": "contourcarpet"
           }
          ],
          "heatmap": [
           {
            "colorbar": {
             "outlinewidth": 0,
             "ticks": ""
            },
            "colorscale": [
             [
              0,
              "#0d0887"
             ],
             [
              0.1111111111111111,
              "#46039f"
             ],
             [
              0.2222222222222222,
              "#7201a8"
             ],
             [
              0.3333333333333333,
              "#9c179e"
             ],
             [
              0.4444444444444444,
              "#bd3786"
             ],
             [
              0.5555555555555556,
              "#d8576b"
             ],
             [
              0.6666666666666666,
              "#ed7953"
             ],
             [
              0.7777777777777778,
              "#fb9f3a"
             ],
             [
              0.8888888888888888,
              "#fdca26"
             ],
             [
              1,
              "#f0f921"
             ]
            ],
            "type": "heatmap"
           }
          ],
          "heatmapgl": [
           {
            "colorbar": {
             "outlinewidth": 0,
             "ticks": ""
            },
            "colorscale": [
             [
              0,
              "#0d0887"
             ],
             [
              0.1111111111111111,
              "#46039f"
             ],
             [
              0.2222222222222222,
              "#7201a8"
             ],
             [
              0.3333333333333333,
              "#9c179e"
             ],
             [
              0.4444444444444444,
              "#bd3786"
             ],
             [
              0.5555555555555556,
              "#d8576b"
             ],
             [
              0.6666666666666666,
              "#ed7953"
             ],
             [
              0.7777777777777778,
              "#fb9f3a"
             ],
             [
              0.8888888888888888,
              "#fdca26"
             ],
             [
              1,
              "#f0f921"
             ]
            ],
            "type": "heatmapgl"
           }
          ],
          "histogram": [
           {
            "marker": {
             "pattern": {
              "fillmode": "overlay",
              "size": 10,
              "solidity": 0.2
             }
            },
            "type": "histogram"
           }
          ],
          "histogram2d": [
           {
            "colorbar": {
             "outlinewidth": 0,
             "ticks": ""
            },
            "colorscale": [
             [
              0,
              "#0d0887"
             ],
             [
              0.1111111111111111,
              "#46039f"
             ],
             [
              0.2222222222222222,
              "#7201a8"
             ],
             [
              0.3333333333333333,
              "#9c179e"
             ],
             [
              0.4444444444444444,
              "#bd3786"
             ],
             [
              0.5555555555555556,
              "#d8576b"
             ],
             [
              0.6666666666666666,
              "#ed7953"
             ],
             [
              0.7777777777777778,
              "#fb9f3a"
             ],
             [
              0.8888888888888888,
              "#fdca26"
             ],
             [
              1,
              "#f0f921"
             ]
            ],
            "type": "histogram2d"
           }
          ],
          "histogram2dcontour": [
           {
            "colorbar": {
             "outlinewidth": 0,
             "ticks": ""
            },
            "colorscale": [
             [
              0,
              "#0d0887"
             ],
             [
              0.1111111111111111,
              "#46039f"
             ],
             [
              0.2222222222222222,
              "#7201a8"
             ],
             [
              0.3333333333333333,
              "#9c179e"
             ],
             [
              0.4444444444444444,
              "#bd3786"
             ],
             [
              0.5555555555555556,
              "#d8576b"
             ],
             [
              0.6666666666666666,
              "#ed7953"
             ],
             [
              0.7777777777777778,
              "#fb9f3a"
             ],
             [
              0.8888888888888888,
              "#fdca26"
             ],
             [
              1,
              "#f0f921"
             ]
            ],
            "type": "histogram2dcontour"
           }
          ],
          "mesh3d": [
           {
            "colorbar": {
             "outlinewidth": 0,
             "ticks": ""
            },
            "type": "mesh3d"
           }
          ],
          "parcoords": [
           {
            "line": {
             "colorbar": {
              "outlinewidth": 0,
              "ticks": ""
             }
            },
            "type": "parcoords"
           }
          ],
          "pie": [
           {
            "automargin": true,
            "type": "pie"
           }
          ],
          "scatter": [
           {
            "fillpattern": {
             "fillmode": "overlay",
             "size": 10,
             "solidity": 0.2
            },
            "type": "scatter"
           }
          ],
          "scatter3d": [
           {
            "line": {
             "colorbar": {
              "outlinewidth": 0,
              "ticks": ""
             }
            },
            "marker": {
             "colorbar": {
              "outlinewidth": 0,
              "ticks": ""
             }
            },
            "type": "scatter3d"
           }
          ],
          "scattercarpet": [
           {
            "marker": {
             "colorbar": {
              "outlinewidth": 0,
              "ticks": ""
             }
            },
            "type": "scattercarpet"
           }
          ],
          "scattergeo": [
           {
            "marker": {
             "colorbar": {
              "outlinewidth": 0,
              "ticks": ""
             }
            },
            "type": "scattergeo"
           }
          ],
          "scattergl": [
           {
            "marker": {
             "colorbar": {
              "outlinewidth": 0,
              "ticks": ""
             }
            },
            "type": "scattergl"
           }
          ],
          "scattermapbox": [
           {
            "marker": {
             "colorbar": {
              "outlinewidth": 0,
              "ticks": ""
             }
            },
            "type": "scattermapbox"
           }
          ],
          "scatterpolar": [
           {
            "marker": {
             "colorbar": {
              "outlinewidth": 0,
              "ticks": ""
             }
            },
            "type": "scatterpolar"
           }
          ],
          "scatterpolargl": [
           {
            "marker": {
             "colorbar": {
              "outlinewidth": 0,
              "ticks": ""
             }
            },
            "type": "scatterpolargl"
           }
          ],
          "scatterternary": [
           {
            "marker": {
             "colorbar": {
              "outlinewidth": 0,
              "ticks": ""
             }
            },
            "type": "scatterternary"
           }
          ],
          "surface": [
           {
            "colorbar": {
             "outlinewidth": 0,
             "ticks": ""
            },
            "colorscale": [
             [
              0,
              "#0d0887"
             ],
             [
              0.1111111111111111,
              "#46039f"
             ],
             [
              0.2222222222222222,
              "#7201a8"
             ],
             [
              0.3333333333333333,
              "#9c179e"
             ],
             [
              0.4444444444444444,
              "#bd3786"
             ],
             [
              0.5555555555555556,
              "#d8576b"
             ],
             [
              0.6666666666666666,
              "#ed7953"
             ],
             [
              0.7777777777777778,
              "#fb9f3a"
             ],
             [
              0.8888888888888888,
              "#fdca26"
             ],
             [
              1,
              "#f0f921"
             ]
            ],
            "type": "surface"
           }
          ],
          "table": [
           {
            "cells": {
             "fill": {
              "color": "#EBF0F8"
             },
             "line": {
              "color": "white"
             }
            },
            "header": {
             "fill": {
              "color": "#C8D4E3"
             },
             "line": {
              "color": "white"
             }
            },
            "type": "table"
           }
          ]
         },
         "layout": {
          "annotationdefaults": {
           "arrowcolor": "#2a3f5f",
           "arrowhead": 0,
           "arrowwidth": 1
          },
          "autotypenumbers": "strict",
          "coloraxis": {
           "colorbar": {
            "outlinewidth": 0,
            "ticks": ""
           }
          },
          "colorscale": {
           "diverging": [
            [
             0,
             "#8e0152"
            ],
            [
             0.1,
             "#c51b7d"
            ],
            [
             0.2,
             "#de77ae"
            ],
            [
             0.3,
             "#f1b6da"
            ],
            [
             0.4,
             "#fde0ef"
            ],
            [
             0.5,
             "#f7f7f7"
            ],
            [
             0.6,
             "#e6f5d0"
            ],
            [
             0.7,
             "#b8e186"
            ],
            [
             0.8,
             "#7fbc41"
            ],
            [
             0.9,
             "#4d9221"
            ],
            [
             1,
             "#276419"
            ]
           ],
           "sequential": [
            [
             0,
             "#0d0887"
            ],
            [
             0.1111111111111111,
             "#46039f"
            ],
            [
             0.2222222222222222,
             "#7201a8"
            ],
            [
             0.3333333333333333,
             "#9c179e"
            ],
            [
             0.4444444444444444,
             "#bd3786"
            ],
            [
             0.5555555555555556,
             "#d8576b"
            ],
            [
             0.6666666666666666,
             "#ed7953"
            ],
            [
             0.7777777777777778,
             "#fb9f3a"
            ],
            [
             0.8888888888888888,
             "#fdca26"
            ],
            [
             1,
             "#f0f921"
            ]
           ],
           "sequentialminus": [
            [
             0,
             "#0d0887"
            ],
            [
             0.1111111111111111,
             "#46039f"
            ],
            [
             0.2222222222222222,
             "#7201a8"
            ],
            [
             0.3333333333333333,
             "#9c179e"
            ],
            [
             0.4444444444444444,
             "#bd3786"
            ],
            [
             0.5555555555555556,
             "#d8576b"
            ],
            [
             0.6666666666666666,
             "#ed7953"
            ],
            [
             0.7777777777777778,
             "#fb9f3a"
            ],
            [
             0.8888888888888888,
             "#fdca26"
            ],
            [
             1,
             "#f0f921"
            ]
           ]
          },
          "colorway": [
           "#636efa",
           "#EF553B",
           "#00cc96",
           "#ab63fa",
           "#FFA15A",
           "#19d3f3",
           "#FF6692",
           "#B6E880",
           "#FF97FF",
           "#FECB52"
          ],
          "font": {
           "color": "#2a3f5f"
          },
          "geo": {
           "bgcolor": "white",
           "lakecolor": "white",
           "landcolor": "#E5ECF6",
           "showlakes": true,
           "showland": true,
           "subunitcolor": "white"
          },
          "hoverlabel": {
           "align": "left"
          },
          "hovermode": "closest",
          "mapbox": {
           "style": "light"
          },
          "paper_bgcolor": "white",
          "plot_bgcolor": "#E5ECF6",
          "polar": {
           "angularaxis": {
            "gridcolor": "white",
            "linecolor": "white",
            "ticks": ""
           },
           "bgcolor": "#E5ECF6",
           "radialaxis": {
            "gridcolor": "white",
            "linecolor": "white",
            "ticks": ""
           }
          },
          "scene": {
           "xaxis": {
            "backgroundcolor": "#E5ECF6",
            "gridcolor": "white",
            "gridwidth": 2,
            "linecolor": "white",
            "showbackground": true,
            "ticks": "",
            "zerolinecolor": "white"
           },
           "yaxis": {
            "backgroundcolor": "#E5ECF6",
            "gridcolor": "white",
            "gridwidth": 2,
            "linecolor": "white",
            "showbackground": true,
            "ticks": "",
            "zerolinecolor": "white"
           },
           "zaxis": {
            "backgroundcolor": "#E5ECF6",
            "gridcolor": "white",
            "gridwidth": 2,
            "linecolor": "white",
            "showbackground": true,
            "ticks": "",
            "zerolinecolor": "white"
           }
          },
          "shapedefaults": {
           "line": {
            "color": "#2a3f5f"
           }
          },
          "ternary": {
           "aaxis": {
            "gridcolor": "white",
            "linecolor": "white",
            "ticks": ""
           },
           "baxis": {
            "gridcolor": "white",
            "linecolor": "white",
            "ticks": ""
           },
           "bgcolor": "#E5ECF6",
           "caxis": {
            "gridcolor": "white",
            "linecolor": "white",
            "ticks": ""
           }
          },
          "title": {
           "x": 0.05
          },
          "xaxis": {
           "automargin": true,
           "gridcolor": "white",
           "linecolor": "white",
           "ticks": "",
           "title": {
            "standoff": 15
           },
           "zerolinecolor": "white",
           "zerolinewidth": 2
          },
          "yaxis": {
           "automargin": true,
           "gridcolor": "white",
           "linecolor": "white",
           "ticks": "",
           "title": {
            "standoff": 15
           },
           "zerolinecolor": "white",
           "zerolinewidth": 2
          }
         }
        },
        "title": {
         "text": "Correctness of the next_payment_day for monthly frequency"
        },
        "xaxis": {
         "anchor": "y",
         "domain": [
          0,
          1
         ],
         "title": {
          "text": "correct"
         }
        },
        "yaxis": {
         "anchor": "x",
         "domain": [
          0,
          1
         ],
         "title": {
          "text": "count"
         }
        }
       }
      }
     },
     "metadata": {},
     "output_type": "display_data"
    },
    {
     "data": {
      "application/vnd.plotly.v1+json": {
       "config": {
        "plotlyServerURL": "https://plot.ly"
       },
       "data": [
        {
         "direction": "clockwise",
         "domain": {
          "x": [
           0,
           1
          ],
          "y": [
           0,
           1
          ]
         },
         "hovertemplate": "correct=%{label}<br>count=%{value}<extra></extra>",
         "labels": [
          "correct",
          "wrong"
         ],
         "legendgroup": "",
         "name": "",
         "showlegend": true,
         "sort": false,
         "type": "pie",
         "values": [
          72,
          802
         ]
        }
       ],
       "layout": {
        "legend": {
         "tracegroupgap": 0
        },
        "template": {
         "data": {
          "bar": [
           {
            "error_x": {
             "color": "#2a3f5f"
            },
            "error_y": {
             "color": "#2a3f5f"
            },
            "marker": {
             "line": {
              "color": "#E5ECF6",
              "width": 0.5
             },
             "pattern": {
              "fillmode": "overlay",
              "size": 10,
              "solidity": 0.2
             }
            },
            "type": "bar"
           }
          ],
          "barpolar": [
           {
            "marker": {
             "line": {
              "color": "#E5ECF6",
              "width": 0.5
             },
             "pattern": {
              "fillmode": "overlay",
              "size": 10,
              "solidity": 0.2
             }
            },
            "type": "barpolar"
           }
          ],
          "carpet": [
           {
            "aaxis": {
             "endlinecolor": "#2a3f5f",
             "gridcolor": "white",
             "linecolor": "white",
             "minorgridcolor": "white",
             "startlinecolor": "#2a3f5f"
            },
            "baxis": {
             "endlinecolor": "#2a3f5f",
             "gridcolor": "white",
             "linecolor": "white",
             "minorgridcolor": "white",
             "startlinecolor": "#2a3f5f"
            },
            "type": "carpet"
           }
          ],
          "choropleth": [
           {
            "colorbar": {
             "outlinewidth": 0,
             "ticks": ""
            },
            "type": "choropleth"
           }
          ],
          "contour": [
           {
            "colorbar": {
             "outlinewidth": 0,
             "ticks": ""
            },
            "colorscale": [
             [
              0,
              "#0d0887"
             ],
             [
              0.1111111111111111,
              "#46039f"
             ],
             [
              0.2222222222222222,
              "#7201a8"
             ],
             [
              0.3333333333333333,
              "#9c179e"
             ],
             [
              0.4444444444444444,
              "#bd3786"
             ],
             [
              0.5555555555555556,
              "#d8576b"
             ],
             [
              0.6666666666666666,
              "#ed7953"
             ],
             [
              0.7777777777777778,
              "#fb9f3a"
             ],
             [
              0.8888888888888888,
              "#fdca26"
             ],
             [
              1,
              "#f0f921"
             ]
            ],
            "type": "contour"
           }
          ],
          "contourcarpet": [
           {
            "colorbar": {
             "outlinewidth": 0,
             "ticks": ""
            },
            "type": "contourcarpet"
           }
          ],
          "heatmap": [
           {
            "colorbar": {
             "outlinewidth": 0,
             "ticks": ""
            },
            "colorscale": [
             [
              0,
              "#0d0887"
             ],
             [
              0.1111111111111111,
              "#46039f"
             ],
             [
              0.2222222222222222,
              "#7201a8"
             ],
             [
              0.3333333333333333,
              "#9c179e"
             ],
             [
              0.4444444444444444,
              "#bd3786"
             ],
             [
              0.5555555555555556,
              "#d8576b"
             ],
             [
              0.6666666666666666,
              "#ed7953"
             ],
             [
              0.7777777777777778,
              "#fb9f3a"
             ],
             [
              0.8888888888888888,
              "#fdca26"
             ],
             [
              1,
              "#f0f921"
             ]
            ],
            "type": "heatmap"
           }
          ],
          "heatmapgl": [
           {
            "colorbar": {
             "outlinewidth": 0,
             "ticks": ""
            },
            "colorscale": [
             [
              0,
              "#0d0887"
             ],
             [
              0.1111111111111111,
              "#46039f"
             ],
             [
              0.2222222222222222,
              "#7201a8"
             ],
             [
              0.3333333333333333,
              "#9c179e"
             ],
             [
              0.4444444444444444,
              "#bd3786"
             ],
             [
              0.5555555555555556,
              "#d8576b"
             ],
             [
              0.6666666666666666,
              "#ed7953"
             ],
             [
              0.7777777777777778,
              "#fb9f3a"
             ],
             [
              0.8888888888888888,
              "#fdca26"
             ],
             [
              1,
              "#f0f921"
             ]
            ],
            "type": "heatmapgl"
           }
          ],
          "histogram": [
           {
            "marker": {
             "pattern": {
              "fillmode": "overlay",
              "size": 10,
              "solidity": 0.2
             }
            },
            "type": "histogram"
           }
          ],
          "histogram2d": [
           {
            "colorbar": {
             "outlinewidth": 0,
             "ticks": ""
            },
            "colorscale": [
             [
              0,
              "#0d0887"
             ],
             [
              0.1111111111111111,
              "#46039f"
             ],
             [
              0.2222222222222222,
              "#7201a8"
             ],
             [
              0.3333333333333333,
              "#9c179e"
             ],
             [
              0.4444444444444444,
              "#bd3786"
             ],
             [
              0.5555555555555556,
              "#d8576b"
             ],
             [
              0.6666666666666666,
              "#ed7953"
             ],
             [
              0.7777777777777778,
              "#fb9f3a"
             ],
             [
              0.8888888888888888,
              "#fdca26"
             ],
             [
              1,
              "#f0f921"
             ]
            ],
            "type": "histogram2d"
           }
          ],
          "histogram2dcontour": [
           {
            "colorbar": {
             "outlinewidth": 0,
             "ticks": ""
            },
            "colorscale": [
             [
              0,
              "#0d0887"
             ],
             [
              0.1111111111111111,
              "#46039f"
             ],
             [
              0.2222222222222222,
              "#7201a8"
             ],
             [
              0.3333333333333333,
              "#9c179e"
             ],
             [
              0.4444444444444444,
              "#bd3786"
             ],
             [
              0.5555555555555556,
              "#d8576b"
             ],
             [
              0.6666666666666666,
              "#ed7953"
             ],
             [
              0.7777777777777778,
              "#fb9f3a"
             ],
             [
              0.8888888888888888,
              "#fdca26"
             ],
             [
              1,
              "#f0f921"
             ]
            ],
            "type": "histogram2dcontour"
           }
          ],
          "mesh3d": [
           {
            "colorbar": {
             "outlinewidth": 0,
             "ticks": ""
            },
            "type": "mesh3d"
           }
          ],
          "parcoords": [
           {
            "line": {
             "colorbar": {
              "outlinewidth": 0,
              "ticks": ""
             }
            },
            "type": "parcoords"
           }
          ],
          "pie": [
           {
            "automargin": true,
            "type": "pie"
           }
          ],
          "scatter": [
           {
            "fillpattern": {
             "fillmode": "overlay",
             "size": 10,
             "solidity": 0.2
            },
            "type": "scatter"
           }
          ],
          "scatter3d": [
           {
            "line": {
             "colorbar": {
              "outlinewidth": 0,
              "ticks": ""
             }
            },
            "marker": {
             "colorbar": {
              "outlinewidth": 0,
              "ticks": ""
             }
            },
            "type": "scatter3d"
           }
          ],
          "scattercarpet": [
           {
            "marker": {
             "colorbar": {
              "outlinewidth": 0,
              "ticks": ""
             }
            },
            "type": "scattercarpet"
           }
          ],
          "scattergeo": [
           {
            "marker": {
             "colorbar": {
              "outlinewidth": 0,
              "ticks": ""
             }
            },
            "type": "scattergeo"
           }
          ],
          "scattergl": [
           {
            "marker": {
             "colorbar": {
              "outlinewidth": 0,
              "ticks": ""
             }
            },
            "type": "scattergl"
           }
          ],
          "scattermapbox": [
           {
            "marker": {
             "colorbar": {
              "outlinewidth": 0,
              "ticks": ""
             }
            },
            "type": "scattermapbox"
           }
          ],
          "scatterpolar": [
           {
            "marker": {
             "colorbar": {
              "outlinewidth": 0,
              "ticks": ""
             }
            },
            "type": "scatterpolar"
           }
          ],
          "scatterpolargl": [
           {
            "marker": {
             "colorbar": {
              "outlinewidth": 0,
              "ticks": ""
             }
            },
            "type": "scatterpolargl"
           }
          ],
          "scatterternary": [
           {
            "marker": {
             "colorbar": {
              "outlinewidth": 0,
              "ticks": ""
             }
            },
            "type": "scatterternary"
           }
          ],
          "surface": [
           {
            "colorbar": {
             "outlinewidth": 0,
             "ticks": ""
            },
            "colorscale": [
             [
              0,
              "#0d0887"
             ],
             [
              0.1111111111111111,
              "#46039f"
             ],
             [
              0.2222222222222222,
              "#7201a8"
             ],
             [
              0.3333333333333333,
              "#9c179e"
             ],
             [
              0.4444444444444444,
              "#bd3786"
             ],
             [
              0.5555555555555556,
              "#d8576b"
             ],
             [
              0.6666666666666666,
              "#ed7953"
             ],
             [
              0.7777777777777778,
              "#fb9f3a"
             ],
             [
              0.8888888888888888,
              "#fdca26"
             ],
             [
              1,
              "#f0f921"
             ]
            ],
            "type": "surface"
           }
          ],
          "table": [
           {
            "cells": {
             "fill": {
              "color": "#EBF0F8"
             },
             "line": {
              "color": "white"
             }
            },
            "header": {
             "fill": {
              "color": "#C8D4E3"
             },
             "line": {
              "color": "white"
             }
            },
            "type": "table"
           }
          ]
         },
         "layout": {
          "annotationdefaults": {
           "arrowcolor": "#2a3f5f",
           "arrowhead": 0,
           "arrowwidth": 1
          },
          "autotypenumbers": "strict",
          "coloraxis": {
           "colorbar": {
            "outlinewidth": 0,
            "ticks": ""
           }
          },
          "colorscale": {
           "diverging": [
            [
             0,
             "#8e0152"
            ],
            [
             0.1,
             "#c51b7d"
            ],
            [
             0.2,
             "#de77ae"
            ],
            [
             0.3,
             "#f1b6da"
            ],
            [
             0.4,
             "#fde0ef"
            ],
            [
             0.5,
             "#f7f7f7"
            ],
            [
             0.6,
             "#e6f5d0"
            ],
            [
             0.7,
             "#b8e186"
            ],
            [
             0.8,
             "#7fbc41"
            ],
            [
             0.9,
             "#4d9221"
            ],
            [
             1,
             "#276419"
            ]
           ],
           "sequential": [
            [
             0,
             "#0d0887"
            ],
            [
             0.1111111111111111,
             "#46039f"
            ],
            [
             0.2222222222222222,
             "#7201a8"
            ],
            [
             0.3333333333333333,
             "#9c179e"
            ],
            [
             0.4444444444444444,
             "#bd3786"
            ],
            [
             0.5555555555555556,
             "#d8576b"
            ],
            [
             0.6666666666666666,
             "#ed7953"
            ],
            [
             0.7777777777777778,
             "#fb9f3a"
            ],
            [
             0.8888888888888888,
             "#fdca26"
            ],
            [
             1,
             "#f0f921"
            ]
           ],
           "sequentialminus": [
            [
             0,
             "#0d0887"
            ],
            [
             0.1111111111111111,
             "#46039f"
            ],
            [
             0.2222222222222222,
             "#7201a8"
            ],
            [
             0.3333333333333333,
             "#9c179e"
            ],
            [
             0.4444444444444444,
             "#bd3786"
            ],
            [
             0.5555555555555556,
             "#d8576b"
            ],
            [
             0.6666666666666666,
             "#ed7953"
            ],
            [
             0.7777777777777778,
             "#fb9f3a"
            ],
            [
             0.8888888888888888,
             "#fdca26"
            ],
            [
             1,
             "#f0f921"
            ]
           ]
          },
          "colorway": [
           "#636efa",
           "#EF553B",
           "#00cc96",
           "#ab63fa",
           "#FFA15A",
           "#19d3f3",
           "#FF6692",
           "#B6E880",
           "#FF97FF",
           "#FECB52"
          ],
          "font": {
           "color": "#2a3f5f"
          },
          "geo": {
           "bgcolor": "white",
           "lakecolor": "white",
           "landcolor": "#E5ECF6",
           "showlakes": true,
           "showland": true,
           "subunitcolor": "white"
          },
          "hoverlabel": {
           "align": "left"
          },
          "hovermode": "closest",
          "mapbox": {
           "style": "light"
          },
          "paper_bgcolor": "white",
          "plot_bgcolor": "#E5ECF6",
          "polar": {
           "angularaxis": {
            "gridcolor": "white",
            "linecolor": "white",
            "ticks": ""
           },
           "bgcolor": "#E5ECF6",
           "radialaxis": {
            "gridcolor": "white",
            "linecolor": "white",
            "ticks": ""
           }
          },
          "scene": {
           "xaxis": {
            "backgroundcolor": "#E5ECF6",
            "gridcolor": "white",
            "gridwidth": 2,
            "linecolor": "white",
            "showbackground": true,
            "ticks": "",
            "zerolinecolor": "white"
           },
           "yaxis": {
            "backgroundcolor": "#E5ECF6",
            "gridcolor": "white",
            "gridwidth": 2,
            "linecolor": "white",
            "showbackground": true,
            "ticks": "",
            "zerolinecolor": "white"
           },
           "zaxis": {
            "backgroundcolor": "#E5ECF6",
            "gridcolor": "white",
            "gridwidth": 2,
            "linecolor": "white",
            "showbackground": true,
            "ticks": "",
            "zerolinecolor": "white"
           }
          },
          "shapedefaults": {
           "line": {
            "color": "#2a3f5f"
           }
          },
          "ternary": {
           "aaxis": {
            "gridcolor": "white",
            "linecolor": "white",
            "ticks": ""
           },
           "baxis": {
            "gridcolor": "white",
            "linecolor": "white",
            "ticks": ""
           },
           "bgcolor": "#E5ECF6",
           "caxis": {
            "gridcolor": "white",
            "linecolor": "white",
            "ticks": ""
           }
          },
          "title": {
           "x": 0.05
          },
          "xaxis": {
           "automargin": true,
           "gridcolor": "white",
           "linecolor": "white",
           "ticks": "",
           "title": {
            "standoff": 15
           },
           "zerolinecolor": "white",
           "zerolinewidth": 2
          },
          "yaxis": {
           "automargin": true,
           "gridcolor": "white",
           "linecolor": "white",
           "ticks": "",
           "title": {
            "standoff": 15
           },
           "zerolinecolor": "white",
           "zerolinewidth": 2
          }
         }
        },
        "title": {
         "text": "proportion"
        }
       }
      }
     },
     "metadata": {},
     "output_type": "display_data"
    }
   ],
   "source": [
    "def next_payment_day_biweekly_frequency(day_column, last_event_date_column,current_day=None):\n",
    "    if current_day is None:\n",
    "        current_day = spark_f.to_date(spark_f.lit(CURRENT_DAY))\n",
    "    else:\n",
    "        current_day = spark_f.to_date(spark_f.col(current_day))\n",
    "    day_of_week = int_day_of_week(day_column)\n",
    "    current_day_of_week = spark_f.dayofweek(current_day)\n",
    "\n",
    "    \n",
    "    ## I'm considering that the first week of the payment is the first occurence of the day\n",
    "    #  after or during the last edition day of the allowance\n",
    "    first_payment_day = next_day_of_week(last_event_date_column, day_of_week)\n",
    "\n",
    "    dif_days = spark_f.date_diff(current_day, first_payment_day)  \n",
    "    \n",
    "    next_biweek_day = spark_f.date_add(current_day,14 - (dif_days % (7*2)))\n",
    "\n",
    "\n",
    "    next_day = spark_f.when(\n",
    "        first_payment_day > current_day, first_payment_day\n",
    "    ).otherwise(next_biweek_day)\n",
    "\n",
    "    return spark_f.day(next_day)\n",
    "\n",
    "\n",
    "backend_table_biweekly_truth = build_backend_truth_table(\"biweekly\", next_payment_day_biweekly_frequency)\n",
    "# comparisson_backend_table.filter(\"truth_backend_table.frequency = 'weekly'\").show()\n",
    "pd_comparisson_backend = backend_table_biweekly_truth.toPandas()\n",
    "\n",
    "histogram(\n",
    "    pd_comparisson_backend,\n",
    "    \"correct\",\n",
    "    \"Correctness of the next_payment_day for monthly frequency\",\n",
    ")\n",
    "\n",
    "pie_chart(pd_comparisson_backend, \"correct\", \"proportion\",category_orders={\"correct\": [\"correct\", \"wrong\"]})"
   ]
  },
  {
   "cell_type": "markdown",
   "metadata": {},
   "source": [
    "Among all possible frequencies, only the `monthly` frequency has no errors. This is likely because the `monthly` frequency does not require updates to change the value of the `next_payment_day` column. It remains the same unless the user edits the schedule day. **All frequencies that require updates to the `next_payment_day` have errors.**"
   ]
  },
  {
   "cell_type": "markdown",
   "metadata": {},
   "source": [
    "Considering that the longest possible period for an allowance is monthly, it is expected that no allowance has an `updated_at` date older than 30 days. However, there are some allowances with an `updated_at` date older than 30 days, as shown in the next graphic. It is possible for an allowance to have an `updated_at` date older than 30 days if the user re-enables an allowance that was previously disabled. Unfortunately, I do not have information about the specific times when allowances were enabled or disabled to confirm this hypothesis."
   ]
  },
  {
   "cell_type": "code",
   "execution_count": 136,
   "metadata": {},
   "outputs": [
    {
     "data": {
      "application/vnd.plotly.v1+json": {
       "config": {
        "plotlyServerURL": "https://plot.ly"
       },
       "data": [
        {
         "alignmentgroup": "True",
         "bingroup": "x",
         "hovertemplate": "how_old_was_last_update=%{x}<br>count=%{y}<extra></extra>",
         "legendgroup": "",
         "marker": {
          "color": "#636efa",
          "pattern": {
           "shape": ""
          }
         },
         "name": "",
         "offsetgroup": "",
         "orientation": "v",
         "showlegend": false,
         "type": "histogram",
         "x": [
          20,
          5,
          83,
          80,
          57,
          20,
          15,
          75,
          49,
          85,
          91,
          84,
          8,
          32,
          18,
          17,
          69,
          58,
          63,
          75,
          14,
          88,
          8,
          5,
          11,
          66,
          3,
          55,
          19,
          3,
          90,
          5,
          8,
          73,
          89,
          62,
          17,
          69,
          87,
          17,
          50,
          72,
          32,
          60,
          2,
          2,
          31,
          80,
          17,
          2,
          18,
          78,
          99,
          33,
          65,
          12,
          2,
          2,
          4,
          49,
          2,
          2,
          6,
          18,
          39,
          1,
          2,
          1,
          54,
          39,
          14,
          24,
          50,
          49,
          65,
          3,
          50,
          2,
          24,
          32,
          2,
          2,
          32,
          60,
          14,
          18,
          0,
          44,
          49,
          16,
          32,
          2,
          2,
          18,
          2,
          101,
          42,
          2,
          10,
          34,
          2,
          7,
          63,
          61,
          2,
          18,
          18,
          18,
          35,
          1,
          50,
          2,
          18,
          18,
          27,
          2,
          6,
          32,
          2,
          49,
          128,
          13,
          2,
          78,
          18,
          50,
          2,
          21,
          49,
          61,
          71,
          2,
          2,
          2,
          2,
          2,
          35,
          23,
          2,
          60,
          2,
          80,
          2,
          2,
          6,
          18,
          18,
          58,
          2,
          51,
          22,
          53,
          2,
          55,
          2,
          23,
          2,
          58,
          18,
          62,
          18,
          32,
          2,
          72,
          2,
          3,
          13,
          18,
          63,
          2,
          2,
          7,
          60,
          32,
          32,
          32,
          38,
          17,
          56,
          2,
          67,
          25,
          55,
          14,
          2,
          47,
          34,
          2,
          69,
          2,
          49,
          5,
          10,
          1,
          84,
          34,
          18,
          18,
          2,
          2,
          18,
          2,
          2,
          35,
          70,
          67,
          4,
          75,
          2,
          15,
          32,
          2,
          2,
          2,
          62,
          2,
          41,
          3,
          54,
          90,
          2,
          2,
          2,
          75,
          18,
          2,
          2,
          50,
          70,
          20,
          2,
          2,
          2,
          14,
          20,
          23,
          45,
          18,
          58,
          97,
          71,
          44,
          57,
          4,
          3,
          57,
          2,
          90,
          63,
          2,
          63,
          56,
          2,
          2,
          2,
          2,
          35,
          2,
          20,
          63,
          25,
          2,
          32,
          18,
          6,
          60,
          2,
          55,
          2,
          27,
          32,
          70,
          18,
          2,
          124,
          24,
          16,
          2,
          80,
          62,
          20,
          2,
          2,
          63,
          2,
          0,
          25,
          7,
          2,
          2,
          18,
          2,
          83,
          103,
          2,
          11,
          18,
          2,
          2,
          2,
          2,
          93,
          2,
          18,
          66,
          63,
          55,
          2,
          2,
          74,
          41,
          18,
          2,
          80,
          2,
          18,
          49,
          4,
          45,
          2,
          49,
          18,
          3,
          70,
          18,
          32,
          16,
          2,
          42,
          2,
          32,
          18,
          63,
          51,
          2,
          2,
          2,
          2,
          18,
          84,
          2,
          82,
          2,
          55,
          2,
          18,
          2,
          32,
          2,
          2,
          87,
          4,
          2,
          59,
          52,
          1,
          7,
          2,
          2,
          49,
          20,
          18,
          32,
          22,
          2,
          2,
          22,
          2,
          67,
          2,
          32,
          2,
          18,
          2,
          79,
          73,
          2,
          1,
          2,
          32,
          2,
          4,
          10,
          31,
          32,
          2,
          2,
          32,
          67,
          18,
          48,
          80,
          103,
          2,
          2,
          8,
          5,
          114,
          32,
          63,
          2,
          2,
          2,
          2,
          32,
          8,
          23,
          2,
          2,
          63,
          2,
          18,
          36,
          10,
          63,
          36,
          38,
          8,
          7,
          11,
          18,
          2,
          66,
          2,
          2,
          5,
          83,
          2,
          7,
          64,
          53,
          32,
          2,
          4,
          76,
          32,
          2,
          9,
          2,
          26,
          1,
          78,
          2,
          68,
          59,
          32,
          8,
          32,
          18,
          2,
          2,
          18,
          32,
          90,
          28,
          2,
          7,
          38,
          2,
          25,
          2,
          2,
          3,
          38,
          18,
          34,
          2,
          18,
          1,
          18,
          32,
          45,
          80,
          45,
          2,
          2,
          59,
          49,
          18,
          20,
          2,
          2,
          75,
          32,
          22,
          18,
          37,
          81,
          49,
          4,
          74,
          13,
          4,
          10,
          4,
          79,
          18,
          36,
          41,
          119,
          8,
          11,
          8,
          4,
          1,
          48,
          91,
          1,
          8,
          1,
          4,
          4,
          10,
          5,
          0,
          30,
          1,
          34,
          6,
          51,
          11,
          4,
          45,
          55,
          11,
          92,
          44,
          15,
          125,
          4,
          73,
          13,
          5,
          81,
          85,
          1,
          8,
          10,
          64,
          48,
          3,
          21,
          12,
          25,
          45,
          1,
          81,
          32,
          11,
          22,
          2,
          8,
          54,
          73,
          89,
          70,
          31,
          75,
          89,
          3,
          16,
          41,
          71,
          69,
          7,
          4,
          0,
          11,
          11,
          33,
          1,
          12,
          7,
          4,
          36,
          67,
          103,
          55,
          74,
          59,
          50,
          76,
          80,
          81,
          0,
          19,
          10,
          4,
          4,
          4,
          7,
          7,
          3,
          35,
          19,
          64,
          11,
          39,
          0,
          60,
          44,
          17,
          2,
          4,
          50,
          84,
          53,
          36,
          26,
          50,
          4,
          8,
          11,
          8,
          4,
          11,
          1,
          5,
          11,
          4,
          7,
          12,
          4,
          63,
          84,
          10,
          4,
          5,
          38,
          5,
          18,
          13,
          31,
          90,
          26,
          11,
          47,
          90,
          1,
          2,
          2,
          90,
          3,
          4,
          4,
          48,
          4,
          28,
          71,
          10,
          99,
          39,
          4,
          34,
          92,
          11,
          53,
          4,
          4,
          88,
          5,
          46,
          5,
          26,
          12,
          26,
          30,
          1,
          8,
          30,
          8,
          41,
          11,
          10,
          44,
          65,
          75,
          64,
          126,
          90,
          5,
          10,
          55,
          11,
          12,
          87,
          5,
          5,
          91,
          129,
          33,
          11,
          74,
          82,
          64,
          0,
          1,
          89,
          69,
          39,
          7,
          11,
          43,
          1,
          80,
          11,
          4,
          1,
          11,
          39,
          16,
          29,
          1,
          57,
          88,
          4,
          11,
          4,
          101,
          89,
          57,
          11,
          77,
          11,
          4,
          44,
          73,
          8,
          64,
          19,
          95,
          4,
          6,
          73,
          59,
          53,
          95,
          17,
          1,
          4,
          11,
          25,
          71,
          19,
          28,
          86,
          1,
          51,
          8,
          4,
          28,
          55,
          85,
          25,
          72,
          51,
          3,
          49,
          4,
          20,
          34,
          51,
          29,
          70,
          7,
          4,
          28,
          59,
          130,
          121,
          55,
          12,
          72,
          27,
          45,
          4,
          1,
          20,
          9,
          60,
          85,
          29,
          88,
          4,
          4,
          20,
          4,
          19,
          40,
          5,
          48,
          21,
          1,
          17,
          117,
          48,
          11,
          55,
          5,
          4,
          89,
          33,
          32,
          37,
          4,
          20,
          69,
          26,
          2,
          11,
          8,
          106,
          7,
          12,
          16,
          2,
          36,
          13,
          39,
          81,
          33,
          68,
          1,
          45,
          68,
          11,
          4,
          10,
          81,
          46,
          1,
          38,
          5,
          6,
          11,
          33,
          6,
          50,
          64,
          81,
          90,
          10,
          4,
          4,
          11,
          4,
          116,
          51,
          4,
          10,
          37,
          47,
          64,
          56,
          3,
          6,
          9,
          11,
          4,
          11,
          9,
          23,
          6,
          32,
          29,
          92,
          11,
          11,
          11,
          11,
          11,
          34,
          18,
          4,
          23,
          22,
          11,
          4,
          7,
          5,
          85,
          4,
          96,
          40,
          3,
          52,
          11,
          17,
          22,
          6,
          26,
          90,
          1,
          50,
          1,
          5,
          68,
          8,
          42,
          2,
          7,
          13,
          4,
          42,
          64,
          39,
          123,
          25,
          123,
          7,
          9,
          5,
          12,
          80,
          4,
          4,
          58,
          8,
          53,
          7,
          5,
          8,
          91,
          5,
          45,
          4,
          62,
          0,
          3,
          82,
          50,
          5,
          69,
          11,
          12,
          74,
          2,
          6,
          11,
          7,
          25,
          9,
          91,
          54,
          8,
          85,
          73,
          19,
          2,
          67,
          45,
          23,
          1,
          5,
          51,
          101,
          102,
          75,
          6,
          34,
          0,
          74,
          11,
          8,
          90,
          1,
          46,
          13,
          4,
          12,
          83,
          9,
          74,
          25,
          4,
          50,
          21,
          11,
          24,
          0,
          0,
          26,
          10,
          1,
          11,
          17,
          64,
          11,
          55,
          9,
          57,
          9,
          49,
          27,
          25,
          30,
          11,
          53,
          12,
          29,
          92,
          104,
          29,
          120,
          3,
          11,
          2,
          11,
          7,
          16,
          21,
          103,
          11,
          67,
          53,
          45,
          6,
          8,
          41,
          13,
          42,
          3,
          3,
          75,
          32,
          67,
          73,
          13,
          21,
          32,
          73,
          118,
          26,
          7,
          4,
          50,
          11,
          11,
          2,
          117,
          6,
          4,
          85,
          99,
          10,
          8,
          8,
          11,
          9,
          25,
          4,
          25,
          113,
          113,
          0,
          11,
          84,
          127,
          73,
          2,
          11,
          11,
          81,
          25,
          99,
          61,
          86,
          120,
          15,
          73,
          53,
          25,
          4,
          11,
          78,
          29,
          80,
          4,
          39,
          8,
          12,
          70,
          11,
          94,
          4,
          18,
          8,
          65,
          11,
          87,
          75,
          4,
          1,
          45,
          51,
          9,
          11,
          58,
          24,
          10,
          79,
          17,
          52,
          74,
          4,
          8,
          51,
          76,
          55,
          25,
          3,
          13,
          67,
          10,
          2,
          39,
          44,
          50,
          11,
          42,
          62,
          6,
          76,
          70,
          9,
          8,
          11,
          60,
          13,
          11,
          11,
          32,
          92,
          65,
          11,
          4,
          11,
          6,
          72,
          15,
          5,
          11,
          4,
          4,
          42,
          58,
          117,
          2,
          64,
          2,
          1,
          4,
          51,
          6,
          80,
          47,
          1,
          58,
          10,
          10,
          1,
          2,
          4,
          51,
          4,
          8,
          64,
          88,
          4,
          19,
          84,
          26,
          13,
          53,
          90,
          5,
          11,
          4,
          10,
          1,
          39,
          42,
          91,
          18,
          9,
          108,
          13,
          9,
          24,
          35,
          119,
          91,
          67,
          27,
          9,
          5,
          72,
          1,
          69,
          30,
          84,
          52,
          3,
          76,
          2,
          6,
          78,
          1,
          39,
          72,
          13,
          4,
          6,
          5,
          1,
          12,
          4,
          82,
          17,
          4,
          12,
          5,
          82,
          25,
          4,
          26,
          1,
          59,
          70,
          93,
          11,
          5,
          42,
          73,
          81,
          40,
          82,
          7,
          11,
          16,
          5,
          13,
          68,
          79,
          9,
          8,
          8,
          78,
          12,
          123,
          92,
          29,
          83,
          6,
          57,
          80,
          5,
          78,
          127,
          39,
          8,
          12,
          57,
          16,
          23,
          4,
          24,
          12,
          84,
          8,
          4,
          89,
          68,
          6,
          10,
          10,
          60,
          38,
          99,
          8,
          39,
          87,
          11,
          10,
          8,
          82,
          4,
          11,
          11,
          2,
          75,
          6,
          11,
          11,
          1,
          10,
          81,
          8,
          8,
          5,
          6,
          16,
          7,
          91,
          33,
          5,
          45,
          2,
          66,
          8,
          3,
          70,
          68,
          4,
          15,
          79,
          81,
          12,
          22,
          27,
          15,
          4,
          9,
          16,
          113,
          11,
          57,
          1,
          1,
          5,
          34,
          66,
          79,
          113,
          2,
          94,
          87,
          2,
          39,
          32,
          6,
          7,
          11,
          9,
          11,
          1,
          4,
          47,
          10,
          3,
          19,
          130,
          4,
          65,
          11,
          26,
          97,
          49,
          11,
          6,
          3,
          115,
          4,
          42,
          5,
          2,
          2,
          122,
          8,
          14,
          4,
          4,
          1,
          1,
          2,
          79,
          54,
          75,
          2,
          52,
          2,
          4,
          4,
          2,
          22,
          4,
          4,
          42,
          2,
          4,
          3,
          3,
          21,
          24,
          4,
          4,
          83,
          2,
          57,
          4,
          6,
          6,
          4,
          1,
          26,
          41,
          26,
          62,
          4,
          7,
          99,
          18,
          1,
          25,
          26,
          4,
          87,
          4,
          2,
          34,
          8,
          53,
          5,
          19,
          24,
          22,
          92,
          1,
          2,
          57,
          40,
          4,
          18,
          32,
          4,
          4,
          12,
          2,
          11,
          3,
          124,
          1,
          4,
          57,
          11,
          10,
          4,
          6,
          4,
          1,
          32,
          39,
          62,
          4,
          74,
          4,
          1,
          29,
          4,
          0,
          73,
          0,
          5,
          6,
          24,
          32,
          46,
          53,
          3,
          5,
          32,
          4,
          5,
          4,
          23,
          122,
          9,
          93,
          17,
          63,
          34,
          2,
          4,
          4,
          4,
          2,
          85,
          89,
          1,
          3,
          19,
          4,
          4,
          2,
          18,
          49,
          4,
          15,
          95,
          8,
          1,
          4,
          4,
          22,
          41,
          25,
          4,
          45,
          18,
          18,
          25,
          27,
          25,
          4,
          64,
          4,
          17,
          2,
          4,
          24,
          16,
          67,
          1,
          4,
          1,
          25,
          72,
          4,
          4,
          1,
          4,
          26,
          3,
          4,
          53,
          38,
          116,
          1,
          15,
          4,
          65,
          4,
          25,
          0,
          4,
          2,
          4,
          11,
          99,
          51,
          9,
          5,
          4,
          11,
          4,
          4,
          96,
          25,
          64,
          3,
          4,
          53,
          4,
          112,
          1,
          3,
          6,
          6,
          60,
          11,
          3,
          15,
          4,
          38,
          54,
          4,
          4,
          3,
          3,
          2,
          4,
          4,
          23,
          3,
          1,
          18,
          67,
          16,
          4,
          3,
          4,
          10,
          63,
          1,
          2,
          8,
          82,
          6,
          100,
          4,
          4,
          1,
          2,
          32,
          4,
          19,
          27,
          4,
          4,
          1,
          69,
          1,
          1,
          96,
          109,
          1,
          67,
          10,
          0,
          51,
          1,
          2,
          54,
          2,
          5,
          2,
          33,
          4,
          25,
          5,
          6,
          4,
          4,
          64,
          46,
          67,
          1,
          3,
          2,
          4,
          4,
          25,
          4,
          8,
          42,
          3,
          53,
          16,
          103,
          19,
          1,
          32,
          0,
          76,
          18,
          2,
          65,
          32,
          5,
          5,
          4,
          4,
          0,
          2,
          10,
          4,
          2,
          22,
          13,
          32,
          3,
          1,
          1,
          4,
          5,
          53,
          4,
          2,
          25,
          1,
          4,
          1,
          3,
          29,
          15,
          60,
          4,
          37,
          53,
          40,
          22,
          21,
          75,
          25,
          16,
          2,
          125,
          4,
          1,
          64,
          19,
          2,
          37,
          106,
          17,
          3,
          60,
          27,
          0,
          25,
          4,
          4,
          6,
          46,
          10,
          53,
          0,
          28,
          74,
          4,
          8,
          2,
          41,
          41,
          4,
          47,
          67,
          4,
          71,
          2,
          10,
          9,
          6,
          64,
          27,
          16,
          4,
          60,
          0,
          11,
          0,
          1,
          2,
          3,
          71,
          6,
          3,
          40,
          40,
          29,
          2,
          68,
          4,
          6,
          27,
          62,
          1,
          26,
          26,
          4,
          1,
          11,
          60,
          1,
          4,
          19,
          53,
          3,
          2,
          109,
          32,
          92,
          2,
          40,
          4,
          61,
          21,
          4,
          23,
          95,
          4,
          125,
          51,
          39,
          70,
          47,
          6,
          6,
          18,
          4,
          2,
          2,
          31,
          67,
          23,
          87,
          4,
          2,
          16,
          26,
          99,
          4,
          4,
          48,
          34,
          64,
          18,
          31,
          2,
          40,
          25,
          1,
          32,
          61,
          85,
          32,
          47,
          48,
          2,
          27,
          4,
          4,
          4,
          3,
          60,
          35,
          128,
          39,
          3,
          4,
          2,
          2,
          4,
          95,
          63,
          4,
          32,
          69,
          1,
          9,
          2,
          15,
          4,
          29,
          0,
          125,
          2,
          11,
          4,
          4,
          48,
          2,
          82,
          4,
          9,
          32,
          0,
          63,
          68,
          4,
          4,
          2,
          35,
          2,
          4,
          4,
          1,
          25,
          4,
          70,
          4,
          3,
          4,
          2,
          4,
          23,
          62,
          49,
          14,
          43,
          4,
          4,
          52,
          25,
          3,
          2,
          2,
          2,
          1,
          4,
          4,
          2,
          3,
          3,
          46,
          19,
          65,
          18,
          87,
          23,
          6,
          0,
          46,
          1,
          2,
          67,
          4,
          1,
          4,
          35,
          1,
          12,
          2,
          4,
          87,
          4,
          11,
          5,
          24,
          0,
          3,
          42,
          18,
          11,
          6,
          60,
          18,
          2,
          2,
          43,
          6,
          2,
          82,
          32,
          11,
          11,
          22,
          2,
          11,
          25,
          2,
          78,
          4,
          2,
          4,
          4,
          3,
          23,
          102,
          1,
          32,
          16,
          28,
          0,
          4,
          46,
          4,
          4,
          46,
          16,
          124,
          4,
          4,
          0,
          4,
          5,
          5,
          64,
          1,
          3,
          23,
          26,
          24,
          64,
          2,
          95,
          18,
          37,
          17,
          4,
          3,
          2,
          2,
          3,
          4,
          47,
          77,
          2,
          3,
          2,
          1,
          3,
          24,
          0,
          17,
          4,
          18,
          4,
          85,
          62,
          2,
          25,
          4,
          3,
          18,
          43,
          7,
          5,
          32,
          3,
          95,
          4,
          18,
          3,
          4,
          58,
          15,
          3,
          118,
          4,
          0,
          32,
          2,
          15,
          89,
          72,
          11,
          6,
          54,
          2,
          2,
          3,
          4,
          61,
          44,
          16,
          46,
          73,
          2,
          54,
          24,
          57,
          67,
          5,
          4,
          3,
          81,
          6,
          25,
          4,
          39,
          72,
          7,
          4,
          65,
          18,
          31,
          52,
          6,
          2,
          1,
          3,
          1,
          53,
          32,
          2,
          41,
          70,
          90,
          4,
          5,
          75,
          4,
          45,
          10,
          18,
          4,
          4,
          1,
          5,
          2,
          1,
          82,
          3,
          53,
          4,
          1,
          44,
          5,
          1,
          4,
          10,
          2,
          1,
          4,
          4,
          2,
          1,
          0,
          18,
          17,
          10,
          11,
          4,
          4,
          4,
          11,
          2,
          44,
          43,
          6,
          4,
          7,
          14
         ],
         "xaxis": "x",
         "yaxis": "y"
        }
       ],
       "layout": {
        "barmode": "relative",
        "legend": {
         "tracegroupgap": 0
        },
        "template": {
         "data": {
          "bar": [
           {
            "error_x": {
             "color": "#2a3f5f"
            },
            "error_y": {
             "color": "#2a3f5f"
            },
            "marker": {
             "line": {
              "color": "#E5ECF6",
              "width": 0.5
             },
             "pattern": {
              "fillmode": "overlay",
              "size": 10,
              "solidity": 0.2
             }
            },
            "type": "bar"
           }
          ],
          "barpolar": [
           {
            "marker": {
             "line": {
              "color": "#E5ECF6",
              "width": 0.5
             },
             "pattern": {
              "fillmode": "overlay",
              "size": 10,
              "solidity": 0.2
             }
            },
            "type": "barpolar"
           }
          ],
          "carpet": [
           {
            "aaxis": {
             "endlinecolor": "#2a3f5f",
             "gridcolor": "white",
             "linecolor": "white",
             "minorgridcolor": "white",
             "startlinecolor": "#2a3f5f"
            },
            "baxis": {
             "endlinecolor": "#2a3f5f",
             "gridcolor": "white",
             "linecolor": "white",
             "minorgridcolor": "white",
             "startlinecolor": "#2a3f5f"
            },
            "type": "carpet"
           }
          ],
          "choropleth": [
           {
            "colorbar": {
             "outlinewidth": 0,
             "ticks": ""
            },
            "type": "choropleth"
           }
          ],
          "contour": [
           {
            "colorbar": {
             "outlinewidth": 0,
             "ticks": ""
            },
            "colorscale": [
             [
              0,
              "#0d0887"
             ],
             [
              0.1111111111111111,
              "#46039f"
             ],
             [
              0.2222222222222222,
              "#7201a8"
             ],
             [
              0.3333333333333333,
              "#9c179e"
             ],
             [
              0.4444444444444444,
              "#bd3786"
             ],
             [
              0.5555555555555556,
              "#d8576b"
             ],
             [
              0.6666666666666666,
              "#ed7953"
             ],
             [
              0.7777777777777778,
              "#fb9f3a"
             ],
             [
              0.8888888888888888,
              "#fdca26"
             ],
             [
              1,
              "#f0f921"
             ]
            ],
            "type": "contour"
           }
          ],
          "contourcarpet": [
           {
            "colorbar": {
             "outlinewidth": 0,
             "ticks": ""
            },
            "type": "contourcarpet"
           }
          ],
          "heatmap": [
           {
            "colorbar": {
             "outlinewidth": 0,
             "ticks": ""
            },
            "colorscale": [
             [
              0,
              "#0d0887"
             ],
             [
              0.1111111111111111,
              "#46039f"
             ],
             [
              0.2222222222222222,
              "#7201a8"
             ],
             [
              0.3333333333333333,
              "#9c179e"
             ],
             [
              0.4444444444444444,
              "#bd3786"
             ],
             [
              0.5555555555555556,
              "#d8576b"
             ],
             [
              0.6666666666666666,
              "#ed7953"
             ],
             [
              0.7777777777777778,
              "#fb9f3a"
             ],
             [
              0.8888888888888888,
              "#fdca26"
             ],
             [
              1,
              "#f0f921"
             ]
            ],
            "type": "heatmap"
           }
          ],
          "heatmapgl": [
           {
            "colorbar": {
             "outlinewidth": 0,
             "ticks": ""
            },
            "colorscale": [
             [
              0,
              "#0d0887"
             ],
             [
              0.1111111111111111,
              "#46039f"
             ],
             [
              0.2222222222222222,
              "#7201a8"
             ],
             [
              0.3333333333333333,
              "#9c179e"
             ],
             [
              0.4444444444444444,
              "#bd3786"
             ],
             [
              0.5555555555555556,
              "#d8576b"
             ],
             [
              0.6666666666666666,
              "#ed7953"
             ],
             [
              0.7777777777777778,
              "#fb9f3a"
             ],
             [
              0.8888888888888888,
              "#fdca26"
             ],
             [
              1,
              "#f0f921"
             ]
            ],
            "type": "heatmapgl"
           }
          ],
          "histogram": [
           {
            "marker": {
             "pattern": {
              "fillmode": "overlay",
              "size": 10,
              "solidity": 0.2
             }
            },
            "type": "histogram"
           }
          ],
          "histogram2d": [
           {
            "colorbar": {
             "outlinewidth": 0,
             "ticks": ""
            },
            "colorscale": [
             [
              0,
              "#0d0887"
             ],
             [
              0.1111111111111111,
              "#46039f"
             ],
             [
              0.2222222222222222,
              "#7201a8"
             ],
             [
              0.3333333333333333,
              "#9c179e"
             ],
             [
              0.4444444444444444,
              "#bd3786"
             ],
             [
              0.5555555555555556,
              "#d8576b"
             ],
             [
              0.6666666666666666,
              "#ed7953"
             ],
             [
              0.7777777777777778,
              "#fb9f3a"
             ],
             [
              0.8888888888888888,
              "#fdca26"
             ],
             [
              1,
              "#f0f921"
             ]
            ],
            "type": "histogram2d"
           }
          ],
          "histogram2dcontour": [
           {
            "colorbar": {
             "outlinewidth": 0,
             "ticks": ""
            },
            "colorscale": [
             [
              0,
              "#0d0887"
             ],
             [
              0.1111111111111111,
              "#46039f"
             ],
             [
              0.2222222222222222,
              "#7201a8"
             ],
             [
              0.3333333333333333,
              "#9c179e"
             ],
             [
              0.4444444444444444,
              "#bd3786"
             ],
             [
              0.5555555555555556,
              "#d8576b"
             ],
             [
              0.6666666666666666,
              "#ed7953"
             ],
             [
              0.7777777777777778,
              "#fb9f3a"
             ],
             [
              0.8888888888888888,
              "#fdca26"
             ],
             [
              1,
              "#f0f921"
             ]
            ],
            "type": "histogram2dcontour"
           }
          ],
          "mesh3d": [
           {
            "colorbar": {
             "outlinewidth": 0,
             "ticks": ""
            },
            "type": "mesh3d"
           }
          ],
          "parcoords": [
           {
            "line": {
             "colorbar": {
              "outlinewidth": 0,
              "ticks": ""
             }
            },
            "type": "parcoords"
           }
          ],
          "pie": [
           {
            "automargin": true,
            "type": "pie"
           }
          ],
          "scatter": [
           {
            "fillpattern": {
             "fillmode": "overlay",
             "size": 10,
             "solidity": 0.2
            },
            "type": "scatter"
           }
          ],
          "scatter3d": [
           {
            "line": {
             "colorbar": {
              "outlinewidth": 0,
              "ticks": ""
             }
            },
            "marker": {
             "colorbar": {
              "outlinewidth": 0,
              "ticks": ""
             }
            },
            "type": "scatter3d"
           }
          ],
          "scattercarpet": [
           {
            "marker": {
             "colorbar": {
              "outlinewidth": 0,
              "ticks": ""
             }
            },
            "type": "scattercarpet"
           }
          ],
          "scattergeo": [
           {
            "marker": {
             "colorbar": {
              "outlinewidth": 0,
              "ticks": ""
             }
            },
            "type": "scattergeo"
           }
          ],
          "scattergl": [
           {
            "marker": {
             "colorbar": {
              "outlinewidth": 0,
              "ticks": ""
             }
            },
            "type": "scattergl"
           }
          ],
          "scattermapbox": [
           {
            "marker": {
             "colorbar": {
              "outlinewidth": 0,
              "ticks": ""
             }
            },
            "type": "scattermapbox"
           }
          ],
          "scatterpolar": [
           {
            "marker": {
             "colorbar": {
              "outlinewidth": 0,
              "ticks": ""
             }
            },
            "type": "scatterpolar"
           }
          ],
          "scatterpolargl": [
           {
            "marker": {
             "colorbar": {
              "outlinewidth": 0,
              "ticks": ""
             }
            },
            "type": "scatterpolargl"
           }
          ],
          "scatterternary": [
           {
            "marker": {
             "colorbar": {
              "outlinewidth": 0,
              "ticks": ""
             }
            },
            "type": "scatterternary"
           }
          ],
          "surface": [
           {
            "colorbar": {
             "outlinewidth": 0,
             "ticks": ""
            },
            "colorscale": [
             [
              0,
              "#0d0887"
             ],
             [
              0.1111111111111111,
              "#46039f"
             ],
             [
              0.2222222222222222,
              "#7201a8"
             ],
             [
              0.3333333333333333,
              "#9c179e"
             ],
             [
              0.4444444444444444,
              "#bd3786"
             ],
             [
              0.5555555555555556,
              "#d8576b"
             ],
             [
              0.6666666666666666,
              "#ed7953"
             ],
             [
              0.7777777777777778,
              "#fb9f3a"
             ],
             [
              0.8888888888888888,
              "#fdca26"
             ],
             [
              1,
              "#f0f921"
             ]
            ],
            "type": "surface"
           }
          ],
          "table": [
           {
            "cells": {
             "fill": {
              "color": "#EBF0F8"
             },
             "line": {
              "color": "white"
             }
            },
            "header": {
             "fill": {
              "color": "#C8D4E3"
             },
             "line": {
              "color": "white"
             }
            },
            "type": "table"
           }
          ]
         },
         "layout": {
          "annotationdefaults": {
           "arrowcolor": "#2a3f5f",
           "arrowhead": 0,
           "arrowwidth": 1
          },
          "autotypenumbers": "strict",
          "coloraxis": {
           "colorbar": {
            "outlinewidth": 0,
            "ticks": ""
           }
          },
          "colorscale": {
           "diverging": [
            [
             0,
             "#8e0152"
            ],
            [
             0.1,
             "#c51b7d"
            ],
            [
             0.2,
             "#de77ae"
            ],
            [
             0.3,
             "#f1b6da"
            ],
            [
             0.4,
             "#fde0ef"
            ],
            [
             0.5,
             "#f7f7f7"
            ],
            [
             0.6,
             "#e6f5d0"
            ],
            [
             0.7,
             "#b8e186"
            ],
            [
             0.8,
             "#7fbc41"
            ],
            [
             0.9,
             "#4d9221"
            ],
            [
             1,
             "#276419"
            ]
           ],
           "sequential": [
            [
             0,
             "#0d0887"
            ],
            [
             0.1111111111111111,
             "#46039f"
            ],
            [
             0.2222222222222222,
             "#7201a8"
            ],
            [
             0.3333333333333333,
             "#9c179e"
            ],
            [
             0.4444444444444444,
             "#bd3786"
            ],
            [
             0.5555555555555556,
             "#d8576b"
            ],
            [
             0.6666666666666666,
             "#ed7953"
            ],
            [
             0.7777777777777778,
             "#fb9f3a"
            ],
            [
             0.8888888888888888,
             "#fdca26"
            ],
            [
             1,
             "#f0f921"
            ]
           ],
           "sequentialminus": [
            [
             0,
             "#0d0887"
            ],
            [
             0.1111111111111111,
             "#46039f"
            ],
            [
             0.2222222222222222,
             "#7201a8"
            ],
            [
             0.3333333333333333,
             "#9c179e"
            ],
            [
             0.4444444444444444,
             "#bd3786"
            ],
            [
             0.5555555555555556,
             "#d8576b"
            ],
            [
             0.6666666666666666,
             "#ed7953"
            ],
            [
             0.7777777777777778,
             "#fb9f3a"
            ],
            [
             0.8888888888888888,
             "#fdca26"
            ],
            [
             1,
             "#f0f921"
            ]
           ]
          },
          "colorway": [
           "#636efa",
           "#EF553B",
           "#00cc96",
           "#ab63fa",
           "#FFA15A",
           "#19d3f3",
           "#FF6692",
           "#B6E880",
           "#FF97FF",
           "#FECB52"
          ],
          "font": {
           "color": "#2a3f5f"
          },
          "geo": {
           "bgcolor": "white",
           "lakecolor": "white",
           "landcolor": "#E5ECF6",
           "showlakes": true,
           "showland": true,
           "subunitcolor": "white"
          },
          "hoverlabel": {
           "align": "left"
          },
          "hovermode": "closest",
          "mapbox": {
           "style": "light"
          },
          "paper_bgcolor": "white",
          "plot_bgcolor": "#E5ECF6",
          "polar": {
           "angularaxis": {
            "gridcolor": "white",
            "linecolor": "white",
            "ticks": ""
           },
           "bgcolor": "#E5ECF6",
           "radialaxis": {
            "gridcolor": "white",
            "linecolor": "white",
            "ticks": ""
           }
          },
          "scene": {
           "xaxis": {
            "backgroundcolor": "#E5ECF6",
            "gridcolor": "white",
            "gridwidth": 2,
            "linecolor": "white",
            "showbackground": true,
            "ticks": "",
            "zerolinecolor": "white"
           },
           "yaxis": {
            "backgroundcolor": "#E5ECF6",
            "gridcolor": "white",
            "gridwidth": 2,
            "linecolor": "white",
            "showbackground": true,
            "ticks": "",
            "zerolinecolor": "white"
           },
           "zaxis": {
            "backgroundcolor": "#E5ECF6",
            "gridcolor": "white",
            "gridwidth": 2,
            "linecolor": "white",
            "showbackground": true,
            "ticks": "",
            "zerolinecolor": "white"
           }
          },
          "shapedefaults": {
           "line": {
            "color": "#2a3f5f"
           }
          },
          "ternary": {
           "aaxis": {
            "gridcolor": "white",
            "linecolor": "white",
            "ticks": ""
           },
           "baxis": {
            "gridcolor": "white",
            "linecolor": "white",
            "ticks": ""
           },
           "bgcolor": "#E5ECF6",
           "caxis": {
            "gridcolor": "white",
            "linecolor": "white",
            "ticks": ""
           }
          },
          "title": {
           "x": 0.05
          },
          "xaxis": {
           "automargin": true,
           "gridcolor": "white",
           "linecolor": "white",
           "ticks": "",
           "title": {
            "standoff": 15
           },
           "zerolinecolor": "white",
           "zerolinewidth": 2
          },
          "yaxis": {
           "automargin": true,
           "gridcolor": "white",
           "linecolor": "white",
           "ticks": "",
           "title": {
            "standoff": 15
           },
           "zerolinecolor": "white",
           "zerolinewidth": 2
          }
         }
        },
        "title": {
         "text": "Time in days from last update"
        },
        "xaxis": {
         "anchor": "y",
         "domain": [
          0,
          1
         ],
         "title": {
          "text": "how_old_was_last_update"
         }
        },
        "yaxis": {
         "anchor": "x",
         "domain": [
          0,
          1
         ],
         "title": {
          "text": "count"
         }
        }
       }
      }
     },
     "metadata": {},
     "output_type": "display_data"
    }
   ],
   "source": [
    "all_backend_table_truth = (\n",
    "    backend_table_daily_truth.unionByName(backend_table_monthly_truth)\n",
    "    .unionByName(backend_table_biweekly_truth)\n",
    "    .unionByName(backend_table_weekly_truth)\n",
    ")\n",
    "all_backend_table_truth= all_backend_table_truth.withColumn(\"how_old_was_last_update\",spark_f.date_diff(spark_f.to_timestamp(spark_f.lit(CURRENT_DAY)),spark_f.col(\"updated_at\")))\n",
    "\n",
    "histogram(\n",
    "    all_backend_table_truth.toPandas(),\n",
    "    \"how_old_was_last_update\",\n",
    "    \"Time in days from last update\",\n",
    ")"
   ]
  },
  {
   "cell_type": "code",
   "execution_count": null,
   "metadata": {},
   "outputs": [],
   "source": []
  },
  {
   "cell_type": "markdown",
   "metadata": {},
   "source": [
    "As observed in the following graphs, the distribution of errors for allowances that were edited is similar to those that were never edited. This indicates that the issue is not related to the edit action of an allowance."
   ]
  },
  {
   "cell_type": "code",
   "execution_count": 137,
   "metadata": {},
   "outputs": [
    {
     "data": {
      "application/vnd.plotly.v1+json": {
       "config": {
        "plotlyServerURL": "https://plot.ly"
       },
       "data": [
        {
         "alignmentgroup": "True",
         "bingroup": "x",
         "hovertemplate": "correct=%{x}<br>count=%{y}<extra></extra>",
         "legendgroup": "",
         "marker": {
          "color": "#636efa",
          "pattern": {
           "shape": ""
          }
         },
         "name": "",
         "offsetgroup": "",
         "orientation": "v",
         "showlegend": false,
         "type": "histogram",
         "x": [
          "wrong",
          "correct",
          "wrong",
          "wrong",
          "wrong",
          "wrong",
          "wrong",
          "wrong",
          "wrong",
          "wrong",
          "wrong",
          "wrong",
          "wrong",
          "wrong",
          "wrong",
          "correct",
          "correct",
          "correct",
          "correct",
          "correct",
          "correct",
          "correct",
          "correct",
          "correct",
          "correct",
          "correct",
          "correct",
          "correct",
          "correct",
          "correct",
          "correct",
          "correct",
          "correct",
          "correct",
          "correct",
          "correct",
          "correct",
          "correct",
          "correct",
          "correct",
          "correct",
          "correct",
          "correct",
          "correct",
          "correct",
          "correct",
          "correct",
          "correct",
          "correct",
          "correct",
          "correct",
          "correct",
          "correct",
          "correct",
          "correct",
          "correct",
          "correct",
          "correct",
          "correct",
          "correct",
          "correct",
          "correct",
          "correct",
          "correct",
          "correct",
          "correct",
          "correct",
          "correct",
          "correct",
          "correct",
          "correct",
          "correct",
          "correct",
          "correct",
          "correct",
          "correct",
          "correct",
          "correct",
          "correct",
          "correct",
          "correct",
          "correct",
          "correct",
          "correct",
          "correct",
          "correct",
          "correct",
          "correct",
          "correct",
          "correct",
          "correct",
          "correct",
          "correct",
          "correct",
          "correct",
          "correct",
          "correct",
          "correct",
          "correct",
          "correct",
          "correct",
          "correct",
          "correct",
          "correct",
          "correct",
          "correct",
          "correct",
          "correct",
          "correct",
          "correct",
          "correct",
          "correct",
          "correct",
          "correct",
          "correct",
          "correct",
          "correct",
          "correct",
          "correct",
          "correct",
          "correct",
          "correct",
          "correct",
          "correct",
          "correct",
          "correct",
          "correct",
          "correct",
          "correct",
          "correct",
          "correct",
          "correct",
          "correct",
          "correct",
          "correct",
          "correct",
          "correct",
          "correct",
          "correct",
          "correct",
          "correct",
          "correct",
          "correct",
          "correct",
          "correct",
          "correct",
          "correct",
          "correct",
          "correct",
          "correct",
          "correct",
          "correct",
          "correct",
          "correct",
          "correct",
          "correct",
          "correct",
          "correct",
          "correct",
          "correct",
          "correct",
          "correct",
          "correct",
          "correct",
          "correct",
          "correct",
          "correct",
          "correct",
          "correct",
          "correct",
          "correct",
          "correct",
          "correct",
          "correct",
          "correct",
          "correct",
          "correct",
          "correct",
          "correct",
          "correct",
          "correct",
          "correct",
          "correct",
          "correct",
          "correct",
          "correct",
          "correct",
          "correct",
          "correct",
          "correct",
          "correct",
          "correct",
          "correct",
          "correct",
          "correct",
          "correct",
          "correct",
          "correct",
          "correct",
          "correct",
          "correct",
          "correct",
          "correct",
          "correct",
          "correct",
          "correct",
          "correct",
          "correct",
          "correct",
          "correct",
          "correct",
          "correct",
          "correct",
          "correct",
          "correct",
          "correct",
          "correct",
          "correct",
          "correct",
          "correct",
          "correct",
          "correct",
          "correct",
          "correct",
          "correct",
          "correct",
          "correct",
          "correct",
          "correct",
          "correct",
          "correct",
          "correct",
          "correct",
          "correct",
          "correct",
          "correct",
          "correct",
          "correct",
          "correct",
          "correct",
          "correct",
          "correct",
          "correct",
          "correct",
          "correct",
          "correct",
          "correct",
          "correct",
          "correct",
          "correct",
          "correct",
          "correct",
          "correct",
          "correct",
          "correct",
          "correct",
          "correct",
          "correct",
          "correct",
          "correct",
          "correct",
          "correct",
          "correct",
          "correct",
          "correct",
          "correct",
          "correct",
          "correct",
          "correct",
          "correct",
          "correct",
          "correct",
          "correct",
          "correct",
          "correct",
          "correct",
          "correct",
          "correct",
          "correct",
          "correct",
          "correct",
          "correct",
          "correct",
          "correct",
          "correct",
          "correct",
          "correct",
          "correct",
          "correct",
          "correct",
          "correct",
          "correct",
          "correct",
          "correct",
          "correct",
          "correct",
          "correct",
          "correct",
          "correct",
          "correct",
          "correct",
          "correct",
          "correct",
          "correct",
          "correct",
          "correct",
          "correct",
          "correct",
          "wrong",
          "wrong",
          "wrong",
          "wrong",
          "wrong",
          "wrong",
          "wrong",
          "wrong",
          "wrong",
          "wrong",
          "wrong",
          "wrong",
          "wrong",
          "wrong",
          "wrong",
          "wrong",
          "wrong",
          "wrong",
          "wrong",
          "wrong",
          "wrong",
          "wrong",
          "wrong",
          "wrong",
          "wrong",
          "wrong",
          "wrong",
          "wrong",
          "wrong",
          "wrong",
          "wrong",
          "wrong",
          "wrong",
          "wrong",
          "wrong",
          "wrong",
          "wrong",
          "wrong",
          "wrong",
          "wrong",
          "wrong",
          "wrong",
          "wrong",
          "wrong",
          "wrong",
          "wrong",
          "wrong",
          "wrong",
          "wrong",
          "wrong",
          "wrong",
          "wrong",
          "wrong",
          "wrong",
          "wrong",
          "correct",
          "correct",
          "wrong",
          "wrong",
          "wrong",
          "wrong",
          "wrong",
          "wrong",
          "correct",
          "wrong",
          "wrong",
          "wrong",
          "wrong",
          "wrong",
          "wrong",
          "wrong",
          "wrong",
          "wrong",
          "wrong",
          "wrong",
          "wrong",
          "wrong",
          "wrong",
          "wrong",
          "wrong",
          "wrong",
          "wrong",
          "wrong",
          "wrong",
          "wrong",
          "wrong",
          "wrong",
          "wrong",
          "wrong",
          "wrong",
          "wrong",
          "wrong",
          "wrong",
          "wrong",
          "wrong",
          "wrong",
          "wrong",
          "wrong",
          "wrong",
          "wrong",
          "wrong",
          "wrong",
          "correct",
          "wrong",
          "wrong",
          "wrong",
          "wrong",
          "wrong",
          "wrong",
          "wrong",
          "wrong",
          "wrong",
          "wrong",
          "wrong",
          "wrong",
          "wrong",
          "wrong",
          "wrong",
          "wrong",
          "wrong",
          "wrong",
          "wrong",
          "wrong",
          "wrong",
          "wrong",
          "wrong",
          "wrong",
          "wrong",
          "wrong",
          "wrong",
          "wrong",
          "wrong",
          "wrong",
          "wrong",
          "wrong",
          "wrong",
          "wrong",
          "wrong",
          "correct",
          "wrong",
          "wrong",
          "wrong",
          "wrong",
          "wrong",
          "wrong",
          "wrong",
          "wrong",
          "wrong",
          "correct",
          "wrong",
          "wrong",
          "wrong",
          "wrong",
          "wrong",
          "wrong",
          "wrong",
          "correct",
          "wrong",
          "wrong",
          "wrong",
          "wrong",
          "wrong",
          "wrong",
          "wrong",
          "wrong",
          "wrong",
          "wrong",
          "wrong",
          "wrong",
          "wrong",
          "wrong",
          "wrong",
          "wrong",
          "wrong",
          "wrong",
          "wrong",
          "wrong",
          "wrong",
          "wrong",
          "wrong",
          "wrong",
          "wrong",
          "wrong",
          "wrong",
          "wrong",
          "wrong",
          "correct",
          "wrong",
          "wrong",
          "wrong",
          "wrong",
          "wrong",
          "wrong",
          "wrong",
          "wrong",
          "wrong",
          "wrong",
          "correct",
          "correct",
          "wrong",
          "wrong",
          "correct",
          "wrong",
          "wrong",
          "wrong",
          "correct",
          "wrong",
          "wrong",
          "wrong",
          "wrong",
          "wrong",
          "wrong",
          "wrong",
          "wrong",
          "wrong",
          "wrong",
          "wrong",
          "wrong",
          "wrong",
          "wrong",
          "wrong",
          "wrong",
          "wrong",
          "wrong",
          "wrong",
          "wrong",
          "wrong",
          "wrong",
          "wrong",
          "wrong",
          "wrong",
          "wrong",
          "wrong",
          "wrong",
          "wrong",
          "wrong",
          "wrong",
          "wrong",
          "wrong",
          "wrong",
          "wrong",
          "correct",
          "wrong",
          "wrong",
          "wrong",
          "wrong",
          "wrong",
          "wrong",
          "wrong",
          "wrong",
          "wrong",
          "wrong",
          "wrong",
          "wrong",
          "wrong",
          "wrong",
          "wrong",
          "wrong",
          "wrong",
          "wrong",
          "wrong",
          "wrong",
          "wrong",
          "wrong",
          "wrong",
          "wrong",
          "wrong",
          "wrong",
          "wrong",
          "wrong",
          "wrong",
          "wrong",
          "wrong",
          "wrong",
          "wrong",
          "wrong",
          "wrong",
          "wrong",
          "wrong",
          "wrong",
          "wrong",
          "wrong",
          "wrong",
          "wrong",
          "correct",
          "correct",
          "wrong",
          "wrong",
          "wrong",
          "wrong",
          "wrong",
          "wrong",
          "wrong",
          "correct",
          "correct",
          "wrong",
          "wrong",
          "wrong",
          "wrong",
          "wrong",
          "wrong",
          "wrong",
          "wrong",
          "wrong",
          "wrong",
          "wrong",
          "wrong",
          "wrong",
          "wrong",
          "wrong",
          "wrong",
          "correct",
          "wrong",
          "wrong",
          "wrong",
          "wrong",
          "correct",
          "wrong",
          "wrong",
          "wrong",
          "wrong",
          "wrong",
          "wrong",
          "wrong",
          "wrong",
          "wrong",
          "wrong",
          "wrong",
          "wrong",
          "wrong",
          "wrong",
          "wrong",
          "wrong",
          "wrong",
          "wrong",
          "wrong",
          "wrong",
          "wrong",
          "wrong",
          "wrong",
          "wrong",
          "wrong",
          "wrong",
          "wrong",
          "wrong",
          "wrong",
          "wrong",
          "wrong",
          "wrong",
          "wrong",
          "wrong",
          "wrong",
          "wrong",
          "wrong",
          "wrong",
          "wrong",
          "wrong",
          "wrong",
          "correct",
          "wrong",
          "correct",
          "wrong",
          "wrong",
          "wrong",
          "wrong",
          "wrong",
          "wrong",
          "wrong",
          "wrong",
          "wrong",
          "wrong",
          "wrong",
          "wrong",
          "wrong",
          "correct",
          "wrong",
          "wrong",
          "wrong",
          "wrong",
          "wrong",
          "wrong",
          "wrong",
          "correct",
          "wrong",
          "wrong",
          "wrong",
          "wrong",
          "wrong",
          "wrong",
          "wrong",
          "wrong",
          "wrong",
          "wrong",
          "wrong",
          "wrong",
          "correct",
          "wrong",
          "wrong",
          "wrong",
          "wrong",
          "wrong",
          "wrong",
          "correct",
          "wrong",
          "wrong",
          "wrong",
          "wrong",
          "wrong",
          "wrong",
          "wrong",
          "wrong",
          "wrong",
          "wrong",
          "wrong",
          "wrong",
          "wrong",
          "wrong",
          "wrong",
          "wrong",
          "wrong",
          "wrong",
          "wrong",
          "wrong",
          "wrong",
          "wrong",
          "wrong",
          "wrong",
          "correct",
          "wrong",
          "wrong",
          "correct",
          "wrong",
          "wrong",
          "wrong",
          "wrong",
          "wrong",
          "wrong",
          "wrong",
          "wrong",
          "wrong",
          "correct",
          "wrong",
          "wrong",
          "wrong",
          "correct",
          "wrong",
          "wrong",
          "wrong",
          "wrong",
          "wrong",
          "wrong",
          "wrong",
          "wrong",
          "wrong",
          "wrong",
          "wrong",
          "wrong",
          "wrong",
          "wrong",
          "wrong",
          "wrong",
          "wrong",
          "wrong",
          "wrong",
          "correct",
          "wrong",
          "wrong",
          "wrong",
          "wrong",
          "wrong",
          "correct",
          "wrong",
          "wrong",
          "wrong",
          "wrong",
          "wrong",
          "wrong",
          "correct",
          "correct",
          "wrong",
          "wrong",
          "wrong",
          "wrong",
          "wrong",
          "wrong",
          "wrong",
          "wrong",
          "wrong",
          "wrong",
          "wrong",
          "wrong",
          "wrong",
          "wrong",
          "wrong",
          "wrong",
          "wrong",
          "wrong",
          "wrong",
          "wrong",
          "wrong",
          "wrong",
          "wrong",
          "wrong",
          "wrong",
          "wrong",
          "wrong",
          "wrong",
          "wrong",
          "wrong",
          "wrong",
          "wrong",
          "wrong",
          "wrong",
          "correct",
          "wrong",
          "wrong",
          "wrong",
          "wrong",
          "correct",
          "wrong",
          "wrong",
          "wrong",
          "wrong",
          "wrong",
          "wrong",
          "wrong",
          "wrong",
          "wrong",
          "wrong",
          "wrong",
          "wrong",
          "wrong",
          "wrong",
          "wrong",
          "wrong",
          "wrong",
          "wrong",
          "wrong",
          "wrong",
          "wrong",
          "wrong",
          "wrong",
          "wrong",
          "wrong",
          "wrong",
          "wrong",
          "wrong",
          "wrong",
          "wrong",
          "wrong",
          "wrong",
          "wrong",
          "wrong",
          "wrong",
          "wrong",
          "wrong",
          "wrong",
          "correct",
          "wrong",
          "wrong",
          "wrong",
          "wrong",
          "wrong",
          "wrong",
          "wrong",
          "wrong",
          "correct",
          "wrong",
          "wrong",
          "wrong",
          "wrong",
          "wrong",
          "wrong",
          "wrong",
          "wrong",
          "wrong",
          "wrong",
          "wrong",
          "wrong",
          "wrong",
          "wrong",
          "wrong",
          "wrong",
          "wrong",
          "wrong",
          "wrong",
          "wrong",
          "wrong",
          "wrong",
          "wrong",
          "correct",
          "wrong",
          "wrong",
          "wrong",
          "wrong",
          "wrong",
          "correct",
          "wrong",
          "wrong",
          "wrong",
          "wrong",
          "wrong",
          "wrong",
          "correct",
          "wrong",
          "wrong",
          "correct",
          "wrong",
          "correct",
          "wrong",
          "wrong",
          "wrong",
          "wrong",
          "wrong",
          "correct",
          "wrong",
          "wrong",
          "wrong",
          "wrong",
          "wrong",
          "wrong",
          "wrong",
          "wrong",
          "wrong",
          "wrong",
          "correct",
          "wrong",
          "wrong",
          "wrong",
          "correct",
          "wrong",
          "wrong",
          "wrong",
          "wrong",
          "wrong",
          "wrong",
          "wrong",
          "wrong",
          "wrong",
          "wrong",
          "wrong",
          "wrong",
          "wrong",
          "wrong",
          "wrong",
          "wrong",
          "wrong",
          "wrong",
          "wrong",
          "correct",
          "wrong",
          "wrong",
          "wrong",
          "wrong",
          "correct",
          "wrong",
          "wrong",
          "wrong",
          "correct",
          "correct",
          "wrong",
          "correct",
          "wrong",
          "wrong",
          "wrong",
          "correct",
          "correct",
          "correct",
          "wrong",
          "wrong",
          "wrong",
          "correct",
          "correct",
          "correct",
          "correct",
          "correct",
          "wrong",
          "correct",
          "correct",
          "wrong",
          "correct",
          "correct",
          "correct",
          "correct",
          "wrong",
          "correct",
          "correct",
          "wrong",
          "wrong",
          "correct",
          "correct",
          "correct",
          "wrong",
          "wrong",
          "wrong",
          "correct",
          "correct",
          "correct",
          "wrong",
          "wrong",
          "correct",
          "correct",
          "wrong",
          "wrong",
          "correct",
          "wrong",
          "correct",
          "wrong",
          "wrong",
          "wrong",
          "correct",
          "correct",
          "wrong",
          "wrong",
          "correct",
          "wrong",
          "correct",
          "correct",
          "correct",
          "correct",
          "wrong",
          "correct",
          "correct",
          "wrong",
          "wrong",
          "wrong",
          "correct",
          "correct",
          "correct",
          "wrong",
          "wrong",
          "correct",
          "wrong",
          "correct",
          "correct",
          "wrong",
          "correct",
          "correct",
          "correct",
          "wrong",
          "wrong",
          "correct",
          "correct",
          "wrong",
          "correct",
          "correct",
          "correct",
          "wrong",
          "correct",
          "wrong",
          "wrong",
          "wrong",
          "correct",
          "correct",
          "wrong",
          "correct",
          "correct",
          "wrong",
          "correct",
          "correct",
          "correct",
          "wrong",
          "correct",
          "correct",
          "correct",
          "correct",
          "correct",
          "wrong",
          "wrong",
          "wrong",
          "correct",
          "wrong",
          "correct",
          "correct",
          "wrong",
          "wrong",
          "correct",
          "wrong",
          "correct",
          "correct",
          "wrong",
          "correct",
          "wrong",
          "correct",
          "wrong",
          "correct",
          "correct",
          "correct",
          "wrong",
          "wrong",
          "correct",
          "correct",
          "correct",
          "wrong",
          "wrong",
          "correct",
          "wrong",
          "correct",
          "wrong",
          "wrong",
          "correct",
          "correct",
          "correct",
          "wrong",
          "correct",
          "wrong",
          "correct",
          "correct",
          "correct",
          "correct",
          "wrong",
          "wrong",
          "correct",
          "wrong",
          "correct",
          "wrong",
          "correct",
          "wrong",
          "correct",
          "wrong",
          "wrong",
          "correct",
          "correct",
          "correct",
          "correct",
          "wrong",
          "wrong",
          "wrong",
          "wrong",
          "wrong",
          "wrong",
          "wrong",
          "correct",
          "wrong",
          "wrong",
          "correct",
          "wrong",
          "wrong",
          "correct",
          "correct",
          "correct",
          "correct",
          "wrong",
          "wrong",
          "correct",
          "correct",
          "correct",
          "correct",
          "correct",
          "correct",
          "wrong",
          "wrong",
          "wrong",
          "wrong",
          "wrong",
          "wrong",
          "wrong",
          "correct",
          "wrong",
          "wrong",
          "wrong",
          "wrong",
          "correct",
          "correct",
          "correct",
          "wrong",
          "wrong",
          "wrong",
          "correct",
          "wrong",
          "correct",
          "wrong",
          "wrong",
          "correct",
          "wrong",
          "wrong",
          "wrong",
          "correct",
          "wrong",
          "correct",
          "correct",
          "correct",
          "correct",
          "wrong",
          "wrong",
          "correct",
          "wrong",
          "wrong",
          "wrong",
          "wrong",
          "correct",
          "wrong",
          "correct",
          "correct",
          "wrong",
          "correct",
          "wrong",
          "wrong",
          "wrong",
          "wrong",
          "correct",
          "correct",
          "wrong",
          "wrong",
          "wrong",
          "correct",
          "correct",
          "wrong",
          "wrong",
          "wrong",
          "correct",
          "wrong",
          "wrong",
          "wrong",
          "wrong",
          "wrong",
          "wrong",
          "wrong",
          "wrong",
          "wrong",
          "wrong",
          "wrong",
          "correct",
          "correct",
          "wrong",
          "wrong",
          "wrong",
          "correct",
          "correct",
          "correct",
          "correct",
          "wrong",
          "correct",
          "wrong",
          "wrong",
          "wrong",
          "correct",
          "wrong",
          "correct",
          "wrong",
          "correct",
          "wrong",
          "correct",
          "correct",
          "wrong",
          "correct",
          "wrong",
          "wrong",
          "correct",
          "correct",
          "correct",
          "correct",
          "correct",
          "wrong",
          "correct",
          "wrong",
          "correct",
          "correct",
          "correct",
          "wrong",
          "wrong",
          "correct",
          "wrong",
          "wrong",
          "correct",
          "correct",
          "correct",
          "correct",
          "correct",
          "correct",
          "correct",
          "wrong",
          "wrong",
          "wrong",
          "wrong",
          "correct",
          "wrong",
          "correct",
          "wrong",
          "correct",
          "correct",
          "correct",
          "wrong",
          "correct",
          "correct",
          "wrong",
          "correct",
          "wrong",
          "wrong",
          "wrong",
          "correct",
          "correct",
          "correct",
          "wrong",
          "correct",
          "wrong",
          "wrong",
          "correct",
          "correct",
          "correct",
          "correct",
          "wrong",
          "wrong",
          "wrong",
          "correct",
          "wrong",
          "wrong",
          "wrong",
          "correct",
          "correct",
          "correct",
          "correct",
          "wrong",
          "correct",
          "correct",
          "wrong",
          "wrong",
          "wrong",
          "wrong",
          "correct",
          "wrong",
          "wrong",
          "wrong",
          "correct",
          "correct",
          "correct",
          "correct",
          "correct",
          "wrong",
          "correct",
          "wrong",
          "correct",
          "wrong",
          "correct",
          "wrong",
          "wrong",
          "wrong",
          "correct",
          "wrong",
          "correct",
          "correct",
          "wrong",
          "correct",
          "wrong",
          "correct",
          "wrong",
          "wrong",
          "correct",
          "wrong",
          "wrong",
          "correct",
          "correct",
          "wrong",
          "wrong",
          "wrong",
          "correct",
          "wrong",
          "wrong",
          "wrong",
          "correct",
          "wrong",
          "correct",
          "correct",
          "wrong",
          "wrong",
          "correct",
          "wrong",
          "wrong",
          "wrong",
          "wrong",
          "correct",
          "correct",
          "wrong",
          "wrong",
          "correct",
          "correct",
          "correct",
          "wrong",
          "wrong",
          "correct",
          "correct",
          "correct",
          "correct",
          "wrong",
          "correct",
          "correct",
          "correct",
          "correct",
          "wrong",
          "wrong",
          "correct",
          "correct",
          "wrong",
          "correct",
          "correct",
          "wrong"
         ],
         "xaxis": "x",
         "yaxis": "y"
        }
       ],
       "layout": {
        "barmode": "relative",
        "legend": {
         "tracegroupgap": 0
        },
        "template": {
         "data": {
          "bar": [
           {
            "error_x": {
             "color": "#2a3f5f"
            },
            "error_y": {
             "color": "#2a3f5f"
            },
            "marker": {
             "line": {
              "color": "#E5ECF6",
              "width": 0.5
             },
             "pattern": {
              "fillmode": "overlay",
              "size": 10,
              "solidity": 0.2
             }
            },
            "type": "bar"
           }
          ],
          "barpolar": [
           {
            "marker": {
             "line": {
              "color": "#E5ECF6",
              "width": 0.5
             },
             "pattern": {
              "fillmode": "overlay",
              "size": 10,
              "solidity": 0.2
             }
            },
            "type": "barpolar"
           }
          ],
          "carpet": [
           {
            "aaxis": {
             "endlinecolor": "#2a3f5f",
             "gridcolor": "white",
             "linecolor": "white",
             "minorgridcolor": "white",
             "startlinecolor": "#2a3f5f"
            },
            "baxis": {
             "endlinecolor": "#2a3f5f",
             "gridcolor": "white",
             "linecolor": "white",
             "minorgridcolor": "white",
             "startlinecolor": "#2a3f5f"
            },
            "type": "carpet"
           }
          ],
          "choropleth": [
           {
            "colorbar": {
             "outlinewidth": 0,
             "ticks": ""
            },
            "type": "choropleth"
           }
          ],
          "contour": [
           {
            "colorbar": {
             "outlinewidth": 0,
             "ticks": ""
            },
            "colorscale": [
             [
              0,
              "#0d0887"
             ],
             [
              0.1111111111111111,
              "#46039f"
             ],
             [
              0.2222222222222222,
              "#7201a8"
             ],
             [
              0.3333333333333333,
              "#9c179e"
             ],
             [
              0.4444444444444444,
              "#bd3786"
             ],
             [
              0.5555555555555556,
              "#d8576b"
             ],
             [
              0.6666666666666666,
              "#ed7953"
             ],
             [
              0.7777777777777778,
              "#fb9f3a"
             ],
             [
              0.8888888888888888,
              "#fdca26"
             ],
             [
              1,
              "#f0f921"
             ]
            ],
            "type": "contour"
           }
          ],
          "contourcarpet": [
           {
            "colorbar": {
             "outlinewidth": 0,
             "ticks": ""
            },
            "type": "contourcarpet"
           }
          ],
          "heatmap": [
           {
            "colorbar": {
             "outlinewidth": 0,
             "ticks": ""
            },
            "colorscale": [
             [
              0,
              "#0d0887"
             ],
             [
              0.1111111111111111,
              "#46039f"
             ],
             [
              0.2222222222222222,
              "#7201a8"
             ],
             [
              0.3333333333333333,
              "#9c179e"
             ],
             [
              0.4444444444444444,
              "#bd3786"
             ],
             [
              0.5555555555555556,
              "#d8576b"
             ],
             [
              0.6666666666666666,
              "#ed7953"
             ],
             [
              0.7777777777777778,
              "#fb9f3a"
             ],
             [
              0.8888888888888888,
              "#fdca26"
             ],
             [
              1,
              "#f0f921"
             ]
            ],
            "type": "heatmap"
           }
          ],
          "heatmapgl": [
           {
            "colorbar": {
             "outlinewidth": 0,
             "ticks": ""
            },
            "colorscale": [
             [
              0,
              "#0d0887"
             ],
             [
              0.1111111111111111,
              "#46039f"
             ],
             [
              0.2222222222222222,
              "#7201a8"
             ],
             [
              0.3333333333333333,
              "#9c179e"
             ],
             [
              0.4444444444444444,
              "#bd3786"
             ],
             [
              0.5555555555555556,
              "#d8576b"
             ],
             [
              0.6666666666666666,
              "#ed7953"
             ],
             [
              0.7777777777777778,
              "#fb9f3a"
             ],
             [
              0.8888888888888888,
              "#fdca26"
             ],
             [
              1,
              "#f0f921"
             ]
            ],
            "type": "heatmapgl"
           }
          ],
          "histogram": [
           {
            "marker": {
             "pattern": {
              "fillmode": "overlay",
              "size": 10,
              "solidity": 0.2
             }
            },
            "type": "histogram"
           }
          ],
          "histogram2d": [
           {
            "colorbar": {
             "outlinewidth": 0,
             "ticks": ""
            },
            "colorscale": [
             [
              0,
              "#0d0887"
             ],
             [
              0.1111111111111111,
              "#46039f"
             ],
             [
              0.2222222222222222,
              "#7201a8"
             ],
             [
              0.3333333333333333,
              "#9c179e"
             ],
             [
              0.4444444444444444,
              "#bd3786"
             ],
             [
              0.5555555555555556,
              "#d8576b"
             ],
             [
              0.6666666666666666,
              "#ed7953"
             ],
             [
              0.7777777777777778,
              "#fb9f3a"
             ],
             [
              0.8888888888888888,
              "#fdca26"
             ],
             [
              1,
              "#f0f921"
             ]
            ],
            "type": "histogram2d"
           }
          ],
          "histogram2dcontour": [
           {
            "colorbar": {
             "outlinewidth": 0,
             "ticks": ""
            },
            "colorscale": [
             [
              0,
              "#0d0887"
             ],
             [
              0.1111111111111111,
              "#46039f"
             ],
             [
              0.2222222222222222,
              "#7201a8"
             ],
             [
              0.3333333333333333,
              "#9c179e"
             ],
             [
              0.4444444444444444,
              "#bd3786"
             ],
             [
              0.5555555555555556,
              "#d8576b"
             ],
             [
              0.6666666666666666,
              "#ed7953"
             ],
             [
              0.7777777777777778,
              "#fb9f3a"
             ],
             [
              0.8888888888888888,
              "#fdca26"
             ],
             [
              1,
              "#f0f921"
             ]
            ],
            "type": "histogram2dcontour"
           }
          ],
          "mesh3d": [
           {
            "colorbar": {
             "outlinewidth": 0,
             "ticks": ""
            },
            "type": "mesh3d"
           }
          ],
          "parcoords": [
           {
            "line": {
             "colorbar": {
              "outlinewidth": 0,
              "ticks": ""
             }
            },
            "type": "parcoords"
           }
          ],
          "pie": [
           {
            "automargin": true,
            "type": "pie"
           }
          ],
          "scatter": [
           {
            "fillpattern": {
             "fillmode": "overlay",
             "size": 10,
             "solidity": 0.2
            },
            "type": "scatter"
           }
          ],
          "scatter3d": [
           {
            "line": {
             "colorbar": {
              "outlinewidth": 0,
              "ticks": ""
             }
            },
            "marker": {
             "colorbar": {
              "outlinewidth": 0,
              "ticks": ""
             }
            },
            "type": "scatter3d"
           }
          ],
          "scattercarpet": [
           {
            "marker": {
             "colorbar": {
              "outlinewidth": 0,
              "ticks": ""
             }
            },
            "type": "scattercarpet"
           }
          ],
          "scattergeo": [
           {
            "marker": {
             "colorbar": {
              "outlinewidth": 0,
              "ticks": ""
             }
            },
            "type": "scattergeo"
           }
          ],
          "scattergl": [
           {
            "marker": {
             "colorbar": {
              "outlinewidth": 0,
              "ticks": ""
             }
            },
            "type": "scattergl"
           }
          ],
          "scattermapbox": [
           {
            "marker": {
             "colorbar": {
              "outlinewidth": 0,
              "ticks": ""
             }
            },
            "type": "scattermapbox"
           }
          ],
          "scatterpolar": [
           {
            "marker": {
             "colorbar": {
              "outlinewidth": 0,
              "ticks": ""
             }
            },
            "type": "scatterpolar"
           }
          ],
          "scatterpolargl": [
           {
            "marker": {
             "colorbar": {
              "outlinewidth": 0,
              "ticks": ""
             }
            },
            "type": "scatterpolargl"
           }
          ],
          "scatterternary": [
           {
            "marker": {
             "colorbar": {
              "outlinewidth": 0,
              "ticks": ""
             }
            },
            "type": "scatterternary"
           }
          ],
          "surface": [
           {
            "colorbar": {
             "outlinewidth": 0,
             "ticks": ""
            },
            "colorscale": [
             [
              0,
              "#0d0887"
             ],
             [
              0.1111111111111111,
              "#46039f"
             ],
             [
              0.2222222222222222,
              "#7201a8"
             ],
             [
              0.3333333333333333,
              "#9c179e"
             ],
             [
              0.4444444444444444,
              "#bd3786"
             ],
             [
              0.5555555555555556,
              "#d8576b"
             ],
             [
              0.6666666666666666,
              "#ed7953"
             ],
             [
              0.7777777777777778,
              "#fb9f3a"
             ],
             [
              0.8888888888888888,
              "#fdca26"
             ],
             [
              1,
              "#f0f921"
             ]
            ],
            "type": "surface"
           }
          ],
          "table": [
           {
            "cells": {
             "fill": {
              "color": "#EBF0F8"
             },
             "line": {
              "color": "white"
             }
            },
            "header": {
             "fill": {
              "color": "#C8D4E3"
             },
             "line": {
              "color": "white"
             }
            },
            "type": "table"
           }
          ]
         },
         "layout": {
          "annotationdefaults": {
           "arrowcolor": "#2a3f5f",
           "arrowhead": 0,
           "arrowwidth": 1
          },
          "autotypenumbers": "strict",
          "coloraxis": {
           "colorbar": {
            "outlinewidth": 0,
            "ticks": ""
           }
          },
          "colorscale": {
           "diverging": [
            [
             0,
             "#8e0152"
            ],
            [
             0.1,
             "#c51b7d"
            ],
            [
             0.2,
             "#de77ae"
            ],
            [
             0.3,
             "#f1b6da"
            ],
            [
             0.4,
             "#fde0ef"
            ],
            [
             0.5,
             "#f7f7f7"
            ],
            [
             0.6,
             "#e6f5d0"
            ],
            [
             0.7,
             "#b8e186"
            ],
            [
             0.8,
             "#7fbc41"
            ],
            [
             0.9,
             "#4d9221"
            ],
            [
             1,
             "#276419"
            ]
           ],
           "sequential": [
            [
             0,
             "#0d0887"
            ],
            [
             0.1111111111111111,
             "#46039f"
            ],
            [
             0.2222222222222222,
             "#7201a8"
            ],
            [
             0.3333333333333333,
             "#9c179e"
            ],
            [
             0.4444444444444444,
             "#bd3786"
            ],
            [
             0.5555555555555556,
             "#d8576b"
            ],
            [
             0.6666666666666666,
             "#ed7953"
            ],
            [
             0.7777777777777778,
             "#fb9f3a"
            ],
            [
             0.8888888888888888,
             "#fdca26"
            ],
            [
             1,
             "#f0f921"
            ]
           ],
           "sequentialminus": [
            [
             0,
             "#0d0887"
            ],
            [
             0.1111111111111111,
             "#46039f"
            ],
            [
             0.2222222222222222,
             "#7201a8"
            ],
            [
             0.3333333333333333,
             "#9c179e"
            ],
            [
             0.4444444444444444,
             "#bd3786"
            ],
            [
             0.5555555555555556,
             "#d8576b"
            ],
            [
             0.6666666666666666,
             "#ed7953"
            ],
            [
             0.7777777777777778,
             "#fb9f3a"
            ],
            [
             0.8888888888888888,
             "#fdca26"
            ],
            [
             1,
             "#f0f921"
            ]
           ]
          },
          "colorway": [
           "#636efa",
           "#EF553B",
           "#00cc96",
           "#ab63fa",
           "#FFA15A",
           "#19d3f3",
           "#FF6692",
           "#B6E880",
           "#FF97FF",
           "#FECB52"
          ],
          "font": {
           "color": "#2a3f5f"
          },
          "geo": {
           "bgcolor": "white",
           "lakecolor": "white",
           "landcolor": "#E5ECF6",
           "showlakes": true,
           "showland": true,
           "subunitcolor": "white"
          },
          "hoverlabel": {
           "align": "left"
          },
          "hovermode": "closest",
          "mapbox": {
           "style": "light"
          },
          "paper_bgcolor": "white",
          "plot_bgcolor": "#E5ECF6",
          "polar": {
           "angularaxis": {
            "gridcolor": "white",
            "linecolor": "white",
            "ticks": ""
           },
           "bgcolor": "#E5ECF6",
           "radialaxis": {
            "gridcolor": "white",
            "linecolor": "white",
            "ticks": ""
           }
          },
          "scene": {
           "xaxis": {
            "backgroundcolor": "#E5ECF6",
            "gridcolor": "white",
            "gridwidth": 2,
            "linecolor": "white",
            "showbackground": true,
            "ticks": "",
            "zerolinecolor": "white"
           },
           "yaxis": {
            "backgroundcolor": "#E5ECF6",
            "gridcolor": "white",
            "gridwidth": 2,
            "linecolor": "white",
            "showbackground": true,
            "ticks": "",
            "zerolinecolor": "white"
           },
           "zaxis": {
            "backgroundcolor": "#E5ECF6",
            "gridcolor": "white",
            "gridwidth": 2,
            "linecolor": "white",
            "showbackground": true,
            "ticks": "",
            "zerolinecolor": "white"
           }
          },
          "shapedefaults": {
           "line": {
            "color": "#2a3f5f"
           }
          },
          "ternary": {
           "aaxis": {
            "gridcolor": "white",
            "linecolor": "white",
            "ticks": ""
           },
           "baxis": {
            "gridcolor": "white",
            "linecolor": "white",
            "ticks": ""
           },
           "bgcolor": "#E5ECF6",
           "caxis": {
            "gridcolor": "white",
            "linecolor": "white",
            "ticks": ""
           }
          },
          "title": {
           "x": 0.05
          },
          "xaxis": {
           "automargin": true,
           "gridcolor": "white",
           "linecolor": "white",
           "ticks": "",
           "title": {
            "standoff": 15
           },
           "zerolinecolor": "white",
           "zerolinewidth": 2
          },
          "yaxis": {
           "automargin": true,
           "gridcolor": "white",
           "linecolor": "white",
           "ticks": "",
           "title": {
            "standoff": 15
           },
           "zerolinecolor": "white",
           "zerolinewidth": 2
          }
         }
        },
        "title": {
         "text": "correctness"
        },
        "xaxis": {
         "anchor": "y",
         "domain": [
          0,
          1
         ],
         "title": {
          "text": "correct"
         }
        },
        "yaxis": {
         "anchor": "x",
         "domain": [
          0,
          1
         ],
         "title": {
          "text": "count"
         }
        }
       }
      }
     },
     "metadata": {},
     "output_type": "display_data"
    },
    {
     "data": {
      "application/vnd.plotly.v1+json": {
       "config": {
        "plotlyServerURL": "https://plot.ly"
       },
       "data": [
        {
         "alignmentgroup": "True",
         "bingroup": "x",
         "hovertemplate": "correct=%{x}<br>count=%{y}<extra></extra>",
         "legendgroup": "",
         "marker": {
          "color": "#636efa",
          "pattern": {
           "shape": ""
          }
         },
         "name": "",
         "offsetgroup": "",
         "orientation": "v",
         "showlegend": false,
         "type": "histogram",
         "x": [
          "wrong",
          "wrong",
          "wrong",
          "wrong",
          "wrong",
          "wrong",
          "wrong",
          "wrong",
          "correct",
          "wrong",
          "wrong",
          "wrong",
          "wrong",
          "wrong",
          "wrong",
          "wrong",
          "wrong",
          "wrong",
          "wrong",
          "wrong",
          "wrong",
          "wrong",
          "wrong",
          "wrong",
          "wrong",
          "wrong",
          "wrong",
          "wrong",
          "wrong",
          "correct",
          "correct",
          "correct",
          "correct",
          "correct",
          "correct",
          "correct",
          "correct",
          "correct",
          "correct",
          "correct",
          "correct",
          "correct",
          "correct",
          "correct",
          "correct",
          "correct",
          "correct",
          "correct",
          "correct",
          "correct",
          "correct",
          "correct",
          "correct",
          "correct",
          "correct",
          "correct",
          "correct",
          "correct",
          "correct",
          "correct",
          "correct",
          "correct",
          "correct",
          "correct",
          "correct",
          "correct",
          "correct",
          "correct",
          "correct",
          "correct",
          "correct",
          "correct",
          "correct",
          "correct",
          "correct",
          "correct",
          "correct",
          "correct",
          "correct",
          "correct",
          "correct",
          "correct",
          "correct",
          "correct",
          "correct",
          "correct",
          "correct",
          "correct",
          "correct",
          "correct",
          "correct",
          "correct",
          "correct",
          "correct",
          "correct",
          "correct",
          "correct",
          "correct",
          "correct",
          "correct",
          "correct",
          "correct",
          "correct",
          "correct",
          "correct",
          "correct",
          "correct",
          "correct",
          "correct",
          "correct",
          "correct",
          "correct",
          "correct",
          "correct",
          "correct",
          "correct",
          "correct",
          "correct",
          "correct",
          "correct",
          "correct",
          "correct",
          "correct",
          "correct",
          "correct",
          "correct",
          "correct",
          "correct",
          "correct",
          "correct",
          "correct",
          "correct",
          "correct",
          "correct",
          "correct",
          "correct",
          "correct",
          "correct",
          "correct",
          "correct",
          "correct",
          "correct",
          "correct",
          "correct",
          "correct",
          "correct",
          "correct",
          "correct",
          "correct",
          "correct",
          "correct",
          "correct",
          "correct",
          "correct",
          "correct",
          "correct",
          "correct",
          "correct",
          "correct",
          "correct",
          "correct",
          "correct",
          "correct",
          "correct",
          "correct",
          "correct",
          "correct",
          "correct",
          "correct",
          "correct",
          "correct",
          "correct",
          "correct",
          "correct",
          "correct",
          "correct",
          "correct",
          "correct",
          "wrong",
          "wrong",
          "correct",
          "wrong",
          "wrong",
          "wrong",
          "wrong",
          "wrong",
          "wrong",
          "wrong",
          "wrong",
          "wrong",
          "wrong",
          "wrong",
          "correct",
          "correct",
          "wrong",
          "wrong",
          "wrong",
          "wrong",
          "wrong",
          "wrong",
          "wrong",
          "wrong",
          "wrong",
          "wrong",
          "wrong",
          "wrong",
          "wrong",
          "wrong",
          "wrong",
          "correct",
          "wrong",
          "wrong",
          "wrong",
          "wrong",
          "wrong",
          "wrong",
          "wrong",
          "wrong",
          "wrong",
          "wrong",
          "wrong",
          "wrong",
          "correct",
          "wrong",
          "wrong",
          "wrong",
          "wrong",
          "wrong",
          "wrong",
          "wrong",
          "correct",
          "wrong",
          "wrong",
          "wrong",
          "correct",
          "wrong",
          "wrong",
          "wrong",
          "wrong",
          "wrong",
          "wrong",
          "wrong",
          "wrong",
          "wrong",
          "wrong",
          "wrong",
          "wrong",
          "wrong",
          "wrong",
          "wrong",
          "correct",
          "wrong",
          "wrong",
          "wrong",
          "wrong",
          "wrong",
          "wrong",
          "wrong",
          "correct",
          "wrong",
          "wrong",
          "wrong",
          "correct",
          "correct",
          "correct",
          "wrong",
          "wrong",
          "wrong",
          "wrong",
          "wrong",
          "wrong",
          "wrong",
          "wrong",
          "wrong",
          "wrong",
          "wrong",
          "wrong",
          "correct",
          "wrong",
          "correct",
          "wrong",
          "wrong",
          "wrong",
          "wrong",
          "wrong",
          "wrong",
          "wrong",
          "wrong",
          "wrong",
          "wrong",
          "correct",
          "wrong",
          "wrong",
          "wrong",
          "wrong",
          "wrong",
          "wrong",
          "wrong",
          "wrong",
          "correct",
          "wrong",
          "wrong",
          "wrong",
          "wrong",
          "wrong",
          "wrong",
          "wrong",
          "wrong",
          "wrong",
          "wrong",
          "correct",
          "wrong",
          "wrong",
          "wrong",
          "wrong",
          "wrong",
          "wrong",
          "wrong",
          "wrong",
          "wrong",
          "wrong",
          "wrong",
          "wrong",
          "wrong",
          "wrong",
          "wrong",
          "correct",
          "wrong",
          "wrong",
          "wrong",
          "wrong",
          "wrong",
          "wrong",
          "wrong",
          "wrong",
          "wrong",
          "correct",
          "wrong",
          "wrong",
          "wrong",
          "wrong",
          "wrong",
          "wrong",
          "wrong",
          "wrong",
          "wrong",
          "wrong",
          "wrong",
          "wrong",
          "correct",
          "wrong",
          "correct",
          "wrong",
          "wrong",
          "wrong",
          "wrong",
          "wrong",
          "wrong",
          "correct",
          "wrong",
          "wrong",
          "wrong",
          "wrong",
          "wrong",
          "wrong",
          "wrong",
          "wrong",
          "wrong",
          "wrong",
          "wrong",
          "wrong",
          "wrong",
          "wrong",
          "wrong",
          "wrong",
          "wrong",
          "wrong",
          "wrong",
          "wrong",
          "correct",
          "correct",
          "wrong",
          "wrong",
          "wrong",
          "wrong",
          "wrong",
          "wrong",
          "wrong",
          "wrong",
          "wrong",
          "wrong",
          "wrong",
          "wrong",
          "correct",
          "correct",
          "correct",
          "wrong",
          "correct",
          "wrong",
          "correct",
          "wrong",
          "correct",
          "correct",
          "wrong",
          "correct",
          "correct",
          "correct",
          "correct",
          "wrong",
          "wrong",
          "wrong",
          "correct",
          "correct",
          "wrong",
          "correct",
          "correct",
          "wrong",
          "correct",
          "wrong",
          "wrong",
          "correct",
          "correct",
          "wrong",
          "wrong",
          "correct",
          "wrong",
          "correct",
          "wrong",
          "correct",
          "correct",
          "wrong",
          "correct",
          "correct",
          "wrong",
          "wrong",
          "correct",
          "wrong",
          "wrong",
          "correct",
          "correct",
          "wrong",
          "wrong",
          "correct",
          "correct",
          "wrong",
          "correct",
          "correct",
          "wrong",
          "wrong",
          "correct",
          "wrong",
          "correct",
          "wrong",
          "wrong",
          "correct",
          "correct",
          "wrong",
          "correct",
          "wrong",
          "wrong",
          "wrong",
          "wrong",
          "correct",
          "wrong",
          "correct",
          "wrong",
          "correct",
          "wrong",
          "correct",
          "wrong",
          "correct",
          "wrong",
          "correct",
          "wrong",
          "wrong",
          "correct",
          "wrong",
          "correct",
          "wrong",
          "wrong",
          "wrong",
          "correct",
          "wrong",
          "wrong",
          "correct",
          "wrong",
          "wrong",
          "wrong",
          "wrong",
          "correct",
          "wrong",
          "wrong",
          "wrong",
          "correct",
          "wrong",
          "correct",
          "wrong",
          "correct",
          "wrong",
          "correct",
          "wrong",
          "correct",
          "wrong",
          "wrong",
          "wrong",
          "correct",
          "correct",
          "correct",
          "correct",
          "correct",
          "correct",
          "wrong",
          "correct",
          "wrong",
          "correct",
          "correct",
          "correct",
          "correct",
          "correct",
          "wrong",
          "wrong",
          "wrong",
          "correct",
          "wrong",
          "wrong",
          "correct",
          "wrong",
          "correct",
          "wrong",
          "wrong",
          "wrong",
          "correct",
          "wrong",
          "correct",
          "wrong",
          "wrong",
          "correct",
          "wrong",
          "wrong",
          "correct",
          "correct",
          "wrong",
          "wrong",
          "correct",
          "wrong",
          "wrong",
          "wrong",
          "correct",
          "correct",
          "correct",
          "correct",
          "wrong",
          "wrong",
          "correct",
          "wrong",
          "correct",
          "correct",
          "wrong",
          "wrong",
          "correct",
          "wrong",
          "correct",
          "wrong",
          "correct",
          "correct",
          "correct",
          "wrong",
          "wrong",
          "wrong",
          "correct",
          "correct",
          "wrong",
          "correct",
          "wrong",
          "correct",
          "wrong",
          "correct",
          "correct",
          "wrong",
          "wrong",
          "correct",
          "wrong",
          "wrong",
          "correct",
          "correct",
          "wrong",
          "correct",
          "wrong",
          "correct",
          "correct",
          "correct",
          "wrong",
          "wrong",
          "correct",
          "correct",
          "wrong",
          "correct",
          "correct",
          "correct",
          "correct",
          "correct",
          "correct",
          "wrong",
          "wrong",
          "correct",
          "correct",
          "correct",
          "wrong",
          "correct",
          "wrong",
          "correct",
          "correct",
          "wrong",
          "wrong",
          "wrong",
          "correct",
          "correct",
          "wrong",
          "correct",
          "wrong",
          "wrong",
          "wrong",
          "wrong",
          "correct",
          "wrong",
          "wrong",
          "correct",
          "wrong",
          "wrong",
          "wrong",
          "correct",
          "correct",
          "wrong",
          "correct",
          "correct",
          "correct",
          "wrong",
          "correct",
          "correct",
          "correct",
          "wrong",
          "correct",
          "correct",
          "wrong",
          "correct",
          "wrong",
          "correct",
          "wrong",
          "correct",
          "wrong",
          "correct",
          "wrong",
          "correct",
          "wrong",
          "correct",
          "correct",
          "wrong",
          "wrong",
          "wrong",
          "wrong",
          "wrong",
          "correct",
          "wrong",
          "wrong",
          "wrong",
          "correct",
          "correct",
          "wrong",
          "correct",
          "wrong",
          "wrong",
          "correct",
          "correct",
          "correct",
          "wrong",
          "correct",
          "correct",
          "wrong",
          "wrong",
          "wrong",
          "correct",
          "wrong",
          "correct",
          "correct",
          "correct",
          "correct",
          "correct",
          "wrong",
          "wrong",
          "wrong",
          "wrong",
          "wrong",
          "wrong",
          "wrong",
          "correct",
          "wrong",
          "correct",
          "correct",
          "correct",
          "correct",
          "correct",
          "correct",
          "correct",
          "correct",
          "wrong",
          "correct",
          "wrong",
          "wrong",
          "wrong",
          "correct"
         ],
         "xaxis": "x",
         "yaxis": "y"
        }
       ],
       "layout": {
        "barmode": "relative",
        "legend": {
         "tracegroupgap": 0
        },
        "template": {
         "data": {
          "bar": [
           {
            "error_x": {
             "color": "#2a3f5f"
            },
            "error_y": {
             "color": "#2a3f5f"
            },
            "marker": {
             "line": {
              "color": "#E5ECF6",
              "width": 0.5
             },
             "pattern": {
              "fillmode": "overlay",
              "size": 10,
              "solidity": 0.2
             }
            },
            "type": "bar"
           }
          ],
          "barpolar": [
           {
            "marker": {
             "line": {
              "color": "#E5ECF6",
              "width": 0.5
             },
             "pattern": {
              "fillmode": "overlay",
              "size": 10,
              "solidity": 0.2
             }
            },
            "type": "barpolar"
           }
          ],
          "carpet": [
           {
            "aaxis": {
             "endlinecolor": "#2a3f5f",
             "gridcolor": "white",
             "linecolor": "white",
             "minorgridcolor": "white",
             "startlinecolor": "#2a3f5f"
            },
            "baxis": {
             "endlinecolor": "#2a3f5f",
             "gridcolor": "white",
             "linecolor": "white",
             "minorgridcolor": "white",
             "startlinecolor": "#2a3f5f"
            },
            "type": "carpet"
           }
          ],
          "choropleth": [
           {
            "colorbar": {
             "outlinewidth": 0,
             "ticks": ""
            },
            "type": "choropleth"
           }
          ],
          "contour": [
           {
            "colorbar": {
             "outlinewidth": 0,
             "ticks": ""
            },
            "colorscale": [
             [
              0,
              "#0d0887"
             ],
             [
              0.1111111111111111,
              "#46039f"
             ],
             [
              0.2222222222222222,
              "#7201a8"
             ],
             [
              0.3333333333333333,
              "#9c179e"
             ],
             [
              0.4444444444444444,
              "#bd3786"
             ],
             [
              0.5555555555555556,
              "#d8576b"
             ],
             [
              0.6666666666666666,
              "#ed7953"
             ],
             [
              0.7777777777777778,
              "#fb9f3a"
             ],
             [
              0.8888888888888888,
              "#fdca26"
             ],
             [
              1,
              "#f0f921"
             ]
            ],
            "type": "contour"
           }
          ],
          "contourcarpet": [
           {
            "colorbar": {
             "outlinewidth": 0,
             "ticks": ""
            },
            "type": "contourcarpet"
           }
          ],
          "heatmap": [
           {
            "colorbar": {
             "outlinewidth": 0,
             "ticks": ""
            },
            "colorscale": [
             [
              0,
              "#0d0887"
             ],
             [
              0.1111111111111111,
              "#46039f"
             ],
             [
              0.2222222222222222,
              "#7201a8"
             ],
             [
              0.3333333333333333,
              "#9c179e"
             ],
             [
              0.4444444444444444,
              "#bd3786"
             ],
             [
              0.5555555555555556,
              "#d8576b"
             ],
             [
              0.6666666666666666,
              "#ed7953"
             ],
             [
              0.7777777777777778,
              "#fb9f3a"
             ],
             [
              0.8888888888888888,
              "#fdca26"
             ],
             [
              1,
              "#f0f921"
             ]
            ],
            "type": "heatmap"
           }
          ],
          "heatmapgl": [
           {
            "colorbar": {
             "outlinewidth": 0,
             "ticks": ""
            },
            "colorscale": [
             [
              0,
              "#0d0887"
             ],
             [
              0.1111111111111111,
              "#46039f"
             ],
             [
              0.2222222222222222,
              "#7201a8"
             ],
             [
              0.3333333333333333,
              "#9c179e"
             ],
             [
              0.4444444444444444,
              "#bd3786"
             ],
             [
              0.5555555555555556,
              "#d8576b"
             ],
             [
              0.6666666666666666,
              "#ed7953"
             ],
             [
              0.7777777777777778,
              "#fb9f3a"
             ],
             [
              0.8888888888888888,
              "#fdca26"
             ],
             [
              1,
              "#f0f921"
             ]
            ],
            "type": "heatmapgl"
           }
          ],
          "histogram": [
           {
            "marker": {
             "pattern": {
              "fillmode": "overlay",
              "size": 10,
              "solidity": 0.2
             }
            },
            "type": "histogram"
           }
          ],
          "histogram2d": [
           {
            "colorbar": {
             "outlinewidth": 0,
             "ticks": ""
            },
            "colorscale": [
             [
              0,
              "#0d0887"
             ],
             [
              0.1111111111111111,
              "#46039f"
             ],
             [
              0.2222222222222222,
              "#7201a8"
             ],
             [
              0.3333333333333333,
              "#9c179e"
             ],
             [
              0.4444444444444444,
              "#bd3786"
             ],
             [
              0.5555555555555556,
              "#d8576b"
             ],
             [
              0.6666666666666666,
              "#ed7953"
             ],
             [
              0.7777777777777778,
              "#fb9f3a"
             ],
             [
              0.8888888888888888,
              "#fdca26"
             ],
             [
              1,
              "#f0f921"
             ]
            ],
            "type": "histogram2d"
           }
          ],
          "histogram2dcontour": [
           {
            "colorbar": {
             "outlinewidth": 0,
             "ticks": ""
            },
            "colorscale": [
             [
              0,
              "#0d0887"
             ],
             [
              0.1111111111111111,
              "#46039f"
             ],
             [
              0.2222222222222222,
              "#7201a8"
             ],
             [
              0.3333333333333333,
              "#9c179e"
             ],
             [
              0.4444444444444444,
              "#bd3786"
             ],
             [
              0.5555555555555556,
              "#d8576b"
             ],
             [
              0.6666666666666666,
              "#ed7953"
             ],
             [
              0.7777777777777778,
              "#fb9f3a"
             ],
             [
              0.8888888888888888,
              "#fdca26"
             ],
             [
              1,
              "#f0f921"
             ]
            ],
            "type": "histogram2dcontour"
           }
          ],
          "mesh3d": [
           {
            "colorbar": {
             "outlinewidth": 0,
             "ticks": ""
            },
            "type": "mesh3d"
           }
          ],
          "parcoords": [
           {
            "line": {
             "colorbar": {
              "outlinewidth": 0,
              "ticks": ""
             }
            },
            "type": "parcoords"
           }
          ],
          "pie": [
           {
            "automargin": true,
            "type": "pie"
           }
          ],
          "scatter": [
           {
            "fillpattern": {
             "fillmode": "overlay",
             "size": 10,
             "solidity": 0.2
            },
            "type": "scatter"
           }
          ],
          "scatter3d": [
           {
            "line": {
             "colorbar": {
              "outlinewidth": 0,
              "ticks": ""
             }
            },
            "marker": {
             "colorbar": {
              "outlinewidth": 0,
              "ticks": ""
             }
            },
            "type": "scatter3d"
           }
          ],
          "scattercarpet": [
           {
            "marker": {
             "colorbar": {
              "outlinewidth": 0,
              "ticks": ""
             }
            },
            "type": "scattercarpet"
           }
          ],
          "scattergeo": [
           {
            "marker": {
             "colorbar": {
              "outlinewidth": 0,
              "ticks": ""
             }
            },
            "type": "scattergeo"
           }
          ],
          "scattergl": [
           {
            "marker": {
             "colorbar": {
              "outlinewidth": 0,
              "ticks": ""
             }
            },
            "type": "scattergl"
           }
          ],
          "scattermapbox": [
           {
            "marker": {
             "colorbar": {
              "outlinewidth": 0,
              "ticks": ""
             }
            },
            "type": "scattermapbox"
           }
          ],
          "scatterpolar": [
           {
            "marker": {
             "colorbar": {
              "outlinewidth": 0,
              "ticks": ""
             }
            },
            "type": "scatterpolar"
           }
          ],
          "scatterpolargl": [
           {
            "marker": {
             "colorbar": {
              "outlinewidth": 0,
              "ticks": ""
             }
            },
            "type": "scatterpolargl"
           }
          ],
          "scatterternary": [
           {
            "marker": {
             "colorbar": {
              "outlinewidth": 0,
              "ticks": ""
             }
            },
            "type": "scatterternary"
           }
          ],
          "surface": [
           {
            "colorbar": {
             "outlinewidth": 0,
             "ticks": ""
            },
            "colorscale": [
             [
              0,
              "#0d0887"
             ],
             [
              0.1111111111111111,
              "#46039f"
             ],
             [
              0.2222222222222222,
              "#7201a8"
             ],
             [
              0.3333333333333333,
              "#9c179e"
             ],
             [
              0.4444444444444444,
              "#bd3786"
             ],
             [
              0.5555555555555556,
              "#d8576b"
             ],
             [
              0.6666666666666666,
              "#ed7953"
             ],
             [
              0.7777777777777778,
              "#fb9f3a"
             ],
             [
              0.8888888888888888,
              "#fdca26"
             ],
             [
              1,
              "#f0f921"
             ]
            ],
            "type": "surface"
           }
          ],
          "table": [
           {
            "cells": {
             "fill": {
              "color": "#EBF0F8"
             },
             "line": {
              "color": "white"
             }
            },
            "header": {
             "fill": {
              "color": "#C8D4E3"
             },
             "line": {
              "color": "white"
             }
            },
            "type": "table"
           }
          ]
         },
         "layout": {
          "annotationdefaults": {
           "arrowcolor": "#2a3f5f",
           "arrowhead": 0,
           "arrowwidth": 1
          },
          "autotypenumbers": "strict",
          "coloraxis": {
           "colorbar": {
            "outlinewidth": 0,
            "ticks": ""
           }
          },
          "colorscale": {
           "diverging": [
            [
             0,
             "#8e0152"
            ],
            [
             0.1,
             "#c51b7d"
            ],
            [
             0.2,
             "#de77ae"
            ],
            [
             0.3,
             "#f1b6da"
            ],
            [
             0.4,
             "#fde0ef"
            ],
            [
             0.5,
             "#f7f7f7"
            ],
            [
             0.6,
             "#e6f5d0"
            ],
            [
             0.7,
             "#b8e186"
            ],
            [
             0.8,
             "#7fbc41"
            ],
            [
             0.9,
             "#4d9221"
            ],
            [
             1,
             "#276419"
            ]
           ],
           "sequential": [
            [
             0,
             "#0d0887"
            ],
            [
             0.1111111111111111,
             "#46039f"
            ],
            [
             0.2222222222222222,
             "#7201a8"
            ],
            [
             0.3333333333333333,
             "#9c179e"
            ],
            [
             0.4444444444444444,
             "#bd3786"
            ],
            [
             0.5555555555555556,
             "#d8576b"
            ],
            [
             0.6666666666666666,
             "#ed7953"
            ],
            [
             0.7777777777777778,
             "#fb9f3a"
            ],
            [
             0.8888888888888888,
             "#fdca26"
            ],
            [
             1,
             "#f0f921"
            ]
           ],
           "sequentialminus": [
            [
             0,
             "#0d0887"
            ],
            [
             0.1111111111111111,
             "#46039f"
            ],
            [
             0.2222222222222222,
             "#7201a8"
            ],
            [
             0.3333333333333333,
             "#9c179e"
            ],
            [
             0.4444444444444444,
             "#bd3786"
            ],
            [
             0.5555555555555556,
             "#d8576b"
            ],
            [
             0.6666666666666666,
             "#ed7953"
            ],
            [
             0.7777777777777778,
             "#fb9f3a"
            ],
            [
             0.8888888888888888,
             "#fdca26"
            ],
            [
             1,
             "#f0f921"
            ]
           ]
          },
          "colorway": [
           "#636efa",
           "#EF553B",
           "#00cc96",
           "#ab63fa",
           "#FFA15A",
           "#19d3f3",
           "#FF6692",
           "#B6E880",
           "#FF97FF",
           "#FECB52"
          ],
          "font": {
           "color": "#2a3f5f"
          },
          "geo": {
           "bgcolor": "white",
           "lakecolor": "white",
           "landcolor": "#E5ECF6",
           "showlakes": true,
           "showland": true,
           "subunitcolor": "white"
          },
          "hoverlabel": {
           "align": "left"
          },
          "hovermode": "closest",
          "mapbox": {
           "style": "light"
          },
          "paper_bgcolor": "white",
          "plot_bgcolor": "#E5ECF6",
          "polar": {
           "angularaxis": {
            "gridcolor": "white",
            "linecolor": "white",
            "ticks": ""
           },
           "bgcolor": "#E5ECF6",
           "radialaxis": {
            "gridcolor": "white",
            "linecolor": "white",
            "ticks": ""
           }
          },
          "scene": {
           "xaxis": {
            "backgroundcolor": "#E5ECF6",
            "gridcolor": "white",
            "gridwidth": 2,
            "linecolor": "white",
            "showbackground": true,
            "ticks": "",
            "zerolinecolor": "white"
           },
           "yaxis": {
            "backgroundcolor": "#E5ECF6",
            "gridcolor": "white",
            "gridwidth": 2,
            "linecolor": "white",
            "showbackground": true,
            "ticks": "",
            "zerolinecolor": "white"
           },
           "zaxis": {
            "backgroundcolor": "#E5ECF6",
            "gridcolor": "white",
            "gridwidth": 2,
            "linecolor": "white",
            "showbackground": true,
            "ticks": "",
            "zerolinecolor": "white"
           }
          },
          "shapedefaults": {
           "line": {
            "color": "#2a3f5f"
           }
          },
          "ternary": {
           "aaxis": {
            "gridcolor": "white",
            "linecolor": "white",
            "ticks": ""
           },
           "baxis": {
            "gridcolor": "white",
            "linecolor": "white",
            "ticks": ""
           },
           "bgcolor": "#E5ECF6",
           "caxis": {
            "gridcolor": "white",
            "linecolor": "white",
            "ticks": ""
           }
          },
          "title": {
           "x": 0.05
          },
          "xaxis": {
           "automargin": true,
           "gridcolor": "white",
           "linecolor": "white",
           "ticks": "",
           "title": {
            "standoff": 15
           },
           "zerolinecolor": "white",
           "zerolinewidth": 2
          },
          "yaxis": {
           "automargin": true,
           "gridcolor": "white",
           "linecolor": "white",
           "ticks": "",
           "title": {
            "standoff": 15
           },
           "zerolinecolor": "white",
           "zerolinewidth": 2
          }
         }
        },
        "title": {
         "text": "correctness"
        },
        "xaxis": {
         "anchor": "y",
         "domain": [
          0,
          1
         ],
         "title": {
          "text": "correct"
         }
        },
        "yaxis": {
         "anchor": "x",
         "domain": [
          0,
          1
         ],
         "title": {
          "text": "count"
         }
        }
       }
      }
     },
     "metadata": {},
     "output_type": "display_data"
    }
   ],
   "source": [
    "to_graph=all_backend_table_truth.filter(\"last_event_name like '%created'\")\n",
    "histogram(to_graph.toPandas(), \"correct\", \"correctness\")\n",
    "\n",
    "to_graph=all_backend_table_truth.filter(\"last_event_name like '%edited'\")\n",
    "histogram(to_graph.toPandas(), \"correct\", \"correctness\")"
   ]
  },
  {
   "cell_type": "code",
   "execution_count": null,
   "metadata": {},
   "outputs": [],
   "source": []
  },
  {
   "cell_type": "markdown",
   "metadata": {},
   "source": [
    "In the daily frequency, 86.4% of the allowances have the `next_payment_day` equal to `updated_at + 1 day`. Considering this and the fact that almost every daily allowance has an incorrect `next_payment_day` when using the current date of `2024-11-03`, it suggests that the backend job responsible for updating the `next_payment_day` column for the daily frequency is either not running every day or is encountering issues. This can be observed in the following graph."
   ]
  },
  {
   "cell_type": "code",
   "execution_count": 138,
   "metadata": {},
   "outputs": [
    {
     "data": {
      "application/vnd.plotly.v1+json": {
       "config": {
        "plotlyServerURL": "https://plot.ly"
       },
       "data": [
        {
         "direction": "clockwise",
         "domain": {
          "x": [
           0,
           1
          ],
          "y": [
           0,
           1
          ]
         },
         "hovertemplate": "update_correct=%{label}<br>count=%{value}<extra></extra>",
         "labels": [
          "correct",
          "wrong"
         ],
         "legendgroup": "",
         "name": "",
         "showlegend": true,
         "sort": false,
         "type": "pie",
         "values": [
          38,
          6
         ]
        }
       ],
       "layout": {
        "legend": {
         "tracegroupgap": 0
        },
        "template": {
         "data": {
          "bar": [
           {
            "error_x": {
             "color": "#2a3f5f"
            },
            "error_y": {
             "color": "#2a3f5f"
            },
            "marker": {
             "line": {
              "color": "#E5ECF6",
              "width": 0.5
             },
             "pattern": {
              "fillmode": "overlay",
              "size": 10,
              "solidity": 0.2
             }
            },
            "type": "bar"
           }
          ],
          "barpolar": [
           {
            "marker": {
             "line": {
              "color": "#E5ECF6",
              "width": 0.5
             },
             "pattern": {
              "fillmode": "overlay",
              "size": 10,
              "solidity": 0.2
             }
            },
            "type": "barpolar"
           }
          ],
          "carpet": [
           {
            "aaxis": {
             "endlinecolor": "#2a3f5f",
             "gridcolor": "white",
             "linecolor": "white",
             "minorgridcolor": "white",
             "startlinecolor": "#2a3f5f"
            },
            "baxis": {
             "endlinecolor": "#2a3f5f",
             "gridcolor": "white",
             "linecolor": "white",
             "minorgridcolor": "white",
             "startlinecolor": "#2a3f5f"
            },
            "type": "carpet"
           }
          ],
          "choropleth": [
           {
            "colorbar": {
             "outlinewidth": 0,
             "ticks": ""
            },
            "type": "choropleth"
           }
          ],
          "contour": [
           {
            "colorbar": {
             "outlinewidth": 0,
             "ticks": ""
            },
            "colorscale": [
             [
              0,
              "#0d0887"
             ],
             [
              0.1111111111111111,
              "#46039f"
             ],
             [
              0.2222222222222222,
              "#7201a8"
             ],
             [
              0.3333333333333333,
              "#9c179e"
             ],
             [
              0.4444444444444444,
              "#bd3786"
             ],
             [
              0.5555555555555556,
              "#d8576b"
             ],
             [
              0.6666666666666666,
              "#ed7953"
             ],
             [
              0.7777777777777778,
              "#fb9f3a"
             ],
             [
              0.8888888888888888,
              "#fdca26"
             ],
             [
              1,
              "#f0f921"
             ]
            ],
            "type": "contour"
           }
          ],
          "contourcarpet": [
           {
            "colorbar": {
             "outlinewidth": 0,
             "ticks": ""
            },
            "type": "contourcarpet"
           }
          ],
          "heatmap": [
           {
            "colorbar": {
             "outlinewidth": 0,
             "ticks": ""
            },
            "colorscale": [
             [
              0,
              "#0d0887"
             ],
             [
              0.1111111111111111,
              "#46039f"
             ],
             [
              0.2222222222222222,
              "#7201a8"
             ],
             [
              0.3333333333333333,
              "#9c179e"
             ],
             [
              0.4444444444444444,
              "#bd3786"
             ],
             [
              0.5555555555555556,
              "#d8576b"
             ],
             [
              0.6666666666666666,
              "#ed7953"
             ],
             [
              0.7777777777777778,
              "#fb9f3a"
             ],
             [
              0.8888888888888888,
              "#fdca26"
             ],
             [
              1,
              "#f0f921"
             ]
            ],
            "type": "heatmap"
           }
          ],
          "heatmapgl": [
           {
            "colorbar": {
             "outlinewidth": 0,
             "ticks": ""
            },
            "colorscale": [
             [
              0,
              "#0d0887"
             ],
             [
              0.1111111111111111,
              "#46039f"
             ],
             [
              0.2222222222222222,
              "#7201a8"
             ],
             [
              0.3333333333333333,
              "#9c179e"
             ],
             [
              0.4444444444444444,
              "#bd3786"
             ],
             [
              0.5555555555555556,
              "#d8576b"
             ],
             [
              0.6666666666666666,
              "#ed7953"
             ],
             [
              0.7777777777777778,
              "#fb9f3a"
             ],
             [
              0.8888888888888888,
              "#fdca26"
             ],
             [
              1,
              "#f0f921"
             ]
            ],
            "type": "heatmapgl"
           }
          ],
          "histogram": [
           {
            "marker": {
             "pattern": {
              "fillmode": "overlay",
              "size": 10,
              "solidity": 0.2
             }
            },
            "type": "histogram"
           }
          ],
          "histogram2d": [
           {
            "colorbar": {
             "outlinewidth": 0,
             "ticks": ""
            },
            "colorscale": [
             [
              0,
              "#0d0887"
             ],
             [
              0.1111111111111111,
              "#46039f"
             ],
             [
              0.2222222222222222,
              "#7201a8"
             ],
             [
              0.3333333333333333,
              "#9c179e"
             ],
             [
              0.4444444444444444,
              "#bd3786"
             ],
             [
              0.5555555555555556,
              "#d8576b"
             ],
             [
              0.6666666666666666,
              "#ed7953"
             ],
             [
              0.7777777777777778,
              "#fb9f3a"
             ],
             [
              0.8888888888888888,
              "#fdca26"
             ],
             [
              1,
              "#f0f921"
             ]
            ],
            "type": "histogram2d"
           }
          ],
          "histogram2dcontour": [
           {
            "colorbar": {
             "outlinewidth": 0,
             "ticks": ""
            },
            "colorscale": [
             [
              0,
              "#0d0887"
             ],
             [
              0.1111111111111111,
              "#46039f"
             ],
             [
              0.2222222222222222,
              "#7201a8"
             ],
             [
              0.3333333333333333,
              "#9c179e"
             ],
             [
              0.4444444444444444,
              "#bd3786"
             ],
             [
              0.5555555555555556,
              "#d8576b"
             ],
             [
              0.6666666666666666,
              "#ed7953"
             ],
             [
              0.7777777777777778,
              "#fb9f3a"
             ],
             [
              0.8888888888888888,
              "#fdca26"
             ],
             [
              1,
              "#f0f921"
             ]
            ],
            "type": "histogram2dcontour"
           }
          ],
          "mesh3d": [
           {
            "colorbar": {
             "outlinewidth": 0,
             "ticks": ""
            },
            "type": "mesh3d"
           }
          ],
          "parcoords": [
           {
            "line": {
             "colorbar": {
              "outlinewidth": 0,
              "ticks": ""
             }
            },
            "type": "parcoords"
           }
          ],
          "pie": [
           {
            "automargin": true,
            "type": "pie"
           }
          ],
          "scatter": [
           {
            "fillpattern": {
             "fillmode": "overlay",
             "size": 10,
             "solidity": 0.2
            },
            "type": "scatter"
           }
          ],
          "scatter3d": [
           {
            "line": {
             "colorbar": {
              "outlinewidth": 0,
              "ticks": ""
             }
            },
            "marker": {
             "colorbar": {
              "outlinewidth": 0,
              "ticks": ""
             }
            },
            "type": "scatter3d"
           }
          ],
          "scattercarpet": [
           {
            "marker": {
             "colorbar": {
              "outlinewidth": 0,
              "ticks": ""
             }
            },
            "type": "scattercarpet"
           }
          ],
          "scattergeo": [
           {
            "marker": {
             "colorbar": {
              "outlinewidth": 0,
              "ticks": ""
             }
            },
            "type": "scattergeo"
           }
          ],
          "scattergl": [
           {
            "marker": {
             "colorbar": {
              "outlinewidth": 0,
              "ticks": ""
             }
            },
            "type": "scattergl"
           }
          ],
          "scattermapbox": [
           {
            "marker": {
             "colorbar": {
              "outlinewidth": 0,
              "ticks": ""
             }
            },
            "type": "scattermapbox"
           }
          ],
          "scatterpolar": [
           {
            "marker": {
             "colorbar": {
              "outlinewidth": 0,
              "ticks": ""
             }
            },
            "type": "scatterpolar"
           }
          ],
          "scatterpolargl": [
           {
            "marker": {
             "colorbar": {
              "outlinewidth": 0,
              "ticks": ""
             }
            },
            "type": "scatterpolargl"
           }
          ],
          "scatterternary": [
           {
            "marker": {
             "colorbar": {
              "outlinewidth": 0,
              "ticks": ""
             }
            },
            "type": "scatterternary"
           }
          ],
          "surface": [
           {
            "colorbar": {
             "outlinewidth": 0,
             "ticks": ""
            },
            "colorscale": [
             [
              0,
              "#0d0887"
             ],
             [
              0.1111111111111111,
              "#46039f"
             ],
             [
              0.2222222222222222,
              "#7201a8"
             ],
             [
              0.3333333333333333,
              "#9c179e"
             ],
             [
              0.4444444444444444,
              "#bd3786"
             ],
             [
              0.5555555555555556,
              "#d8576b"
             ],
             [
              0.6666666666666666,
              "#ed7953"
             ],
             [
              0.7777777777777778,
              "#fb9f3a"
             ],
             [
              0.8888888888888888,
              "#fdca26"
             ],
             [
              1,
              "#f0f921"
             ]
            ],
            "type": "surface"
           }
          ],
          "table": [
           {
            "cells": {
             "fill": {
              "color": "#EBF0F8"
             },
             "line": {
              "color": "white"
             }
            },
            "header": {
             "fill": {
              "color": "#C8D4E3"
             },
             "line": {
              "color": "white"
             }
            },
            "type": "table"
           }
          ]
         },
         "layout": {
          "annotationdefaults": {
           "arrowcolor": "#2a3f5f",
           "arrowhead": 0,
           "arrowwidth": 1
          },
          "autotypenumbers": "strict",
          "coloraxis": {
           "colorbar": {
            "outlinewidth": 0,
            "ticks": ""
           }
          },
          "colorscale": {
           "diverging": [
            [
             0,
             "#8e0152"
            ],
            [
             0.1,
             "#c51b7d"
            ],
            [
             0.2,
             "#de77ae"
            ],
            [
             0.3,
             "#f1b6da"
            ],
            [
             0.4,
             "#fde0ef"
            ],
            [
             0.5,
             "#f7f7f7"
            ],
            [
             0.6,
             "#e6f5d0"
            ],
            [
             0.7,
             "#b8e186"
            ],
            [
             0.8,
             "#7fbc41"
            ],
            [
             0.9,
             "#4d9221"
            ],
            [
             1,
             "#276419"
            ]
           ],
           "sequential": [
            [
             0,
             "#0d0887"
            ],
            [
             0.1111111111111111,
             "#46039f"
            ],
            [
             0.2222222222222222,
             "#7201a8"
            ],
            [
             0.3333333333333333,
             "#9c179e"
            ],
            [
             0.4444444444444444,
             "#bd3786"
            ],
            [
             0.5555555555555556,
             "#d8576b"
            ],
            [
             0.6666666666666666,
             "#ed7953"
            ],
            [
             0.7777777777777778,
             "#fb9f3a"
            ],
            [
             0.8888888888888888,
             "#fdca26"
            ],
            [
             1,
             "#f0f921"
            ]
           ],
           "sequentialminus": [
            [
             0,
             "#0d0887"
            ],
            [
             0.1111111111111111,
             "#46039f"
            ],
            [
             0.2222222222222222,
             "#7201a8"
            ],
            [
             0.3333333333333333,
             "#9c179e"
            ],
            [
             0.4444444444444444,
             "#bd3786"
            ],
            [
             0.5555555555555556,
             "#d8576b"
            ],
            [
             0.6666666666666666,
             "#ed7953"
            ],
            [
             0.7777777777777778,
             "#fb9f3a"
            ],
            [
             0.8888888888888888,
             "#fdca26"
            ],
            [
             1,
             "#f0f921"
            ]
           ]
          },
          "colorway": [
           "#636efa",
           "#EF553B",
           "#00cc96",
           "#ab63fa",
           "#FFA15A",
           "#19d3f3",
           "#FF6692",
           "#B6E880",
           "#FF97FF",
           "#FECB52"
          ],
          "font": {
           "color": "#2a3f5f"
          },
          "geo": {
           "bgcolor": "white",
           "lakecolor": "white",
           "landcolor": "#E5ECF6",
           "showlakes": true,
           "showland": true,
           "subunitcolor": "white"
          },
          "hoverlabel": {
           "align": "left"
          },
          "hovermode": "closest",
          "mapbox": {
           "style": "light"
          },
          "paper_bgcolor": "white",
          "plot_bgcolor": "#E5ECF6",
          "polar": {
           "angularaxis": {
            "gridcolor": "white",
            "linecolor": "white",
            "ticks": ""
           },
           "bgcolor": "#E5ECF6",
           "radialaxis": {
            "gridcolor": "white",
            "linecolor": "white",
            "ticks": ""
           }
          },
          "scene": {
           "xaxis": {
            "backgroundcolor": "#E5ECF6",
            "gridcolor": "white",
            "gridwidth": 2,
            "linecolor": "white",
            "showbackground": true,
            "ticks": "",
            "zerolinecolor": "white"
           },
           "yaxis": {
            "backgroundcolor": "#E5ECF6",
            "gridcolor": "white",
            "gridwidth": 2,
            "linecolor": "white",
            "showbackground": true,
            "ticks": "",
            "zerolinecolor": "white"
           },
           "zaxis": {
            "backgroundcolor": "#E5ECF6",
            "gridcolor": "white",
            "gridwidth": 2,
            "linecolor": "white",
            "showbackground": true,
            "ticks": "",
            "zerolinecolor": "white"
           }
          },
          "shapedefaults": {
           "line": {
            "color": "#2a3f5f"
           }
          },
          "ternary": {
           "aaxis": {
            "gridcolor": "white",
            "linecolor": "white",
            "ticks": ""
           },
           "baxis": {
            "gridcolor": "white",
            "linecolor": "white",
            "ticks": ""
           },
           "bgcolor": "#E5ECF6",
           "caxis": {
            "gridcolor": "white",
            "linecolor": "white",
            "ticks": ""
           }
          },
          "title": {
           "x": 0.05
          },
          "xaxis": {
           "automargin": true,
           "gridcolor": "white",
           "linecolor": "white",
           "ticks": "",
           "title": {
            "standoff": 15
           },
           "zerolinecolor": "white",
           "zerolinewidth": 2
          },
          "yaxis": {
           "automargin": true,
           "gridcolor": "white",
           "linecolor": "white",
           "ticks": "",
           "title": {
            "standoff": 15
           },
           "zerolinecolor": "white",
           "zerolinewidth": 2
          }
         }
        },
        "title": {
         "text": "proportion"
        }
       }
      }
     },
     "metadata": {},
     "output_type": "display_data"
    }
   ],
   "source": [
    "# all_backend_table_truth.filter(\"correct = 'correct' and day = 'daily'\").show()\n",
    "test_next_update_daily = all_backend_table_truth.withColumn(\n",
    "    \"next_day_from_update\", next_payment_day_daily_frequency(None,None,\"updated_at\")\n",
    ").filter(\n",
    "    \"frequency = 'daily'\"\n",
    ")  # .show()\n",
    "test_next_update_daily = test_next_update_daily.withColumn(\n",
    "    \"update_correct\",\n",
    "    spark_f.when(\n",
    "        spark_f.col(\"next_day_from_update\") == spark_f.col(\"next_payment_day\"),\n",
    "        spark_f.lit(\"correct\"),\n",
    "    ).otherwise(spark_f.lit(\"wrong\")),\n",
    ")\n",
    "\n",
    "# test_next_update.show()\n",
    "\n",
    "pie_chart(\n",
    "    test_next_update_daily.toPandas(),\n",
    "    \"update_correct\",\n",
    "    \"proportion\",\n",
    "    category_orders={\"update_correct\": [\"correct\", \"wrong\"]},\n",
    ")\n",
    "# all_backend_table_truth.filter(\"date(updated_at) = '2024-11-03'\").show()"
   ]
  },
  {
   "cell_type": "markdown",
   "metadata": {},
   "source": [
    "The majority of the discrepancies in the `next_payment_day` column, when compared to the `next_day_from_update`, show a difference of 1 day. This suggests that there may have been instances of double updating, where the update process increments the `next_payment_day` without considering the current day."
   ]
  },
  {
   "cell_type": "code",
   "execution_count": 139,
   "metadata": {},
   "outputs": [
    {
     "name": "stdout",
     "output_type": "stream",
     "text": [
      "+--------------------+---------+--------------------+--------------------+----------------+------------------------------------+\n",
      "|             user_id|frequency|          updated_at|next_day_from_update|next_payment_day|next_day_to_next_day_from_update_dif|\n",
      "+--------------------+---------+--------------------+--------------------+----------------+------------------------------------+\n",
      "|ddcfef7f-f431-4d2...|    daily|2024-09-11 10:51:...|                  12|               4|                                -8.0|\n",
      "|9be9e091-4f3a-4a6...|    daily|2024-10-15 22:26:...|                  16|              17|                                 1.0|\n",
      "|e792e7d1-67ae-444...|    daily| 2024-11-25 21:18:00|                  26|              27|                                 1.0|\n",
      "|7f1f0ab3-4eb3-418...|    daily|2024-10-06 21:44:...|                   7|               8|                                 1.0|\n",
      "|337875a6-6c2b-49a...|    daily| 2024-11-25 21:18:13|                  26|              27|                                 1.0|\n",
      "|2cb3cd03-75f8-429...|    daily| 2024-11-14 22:58:18|                  15|              16|                                 1.0|\n",
      "+--------------------+---------+--------------------+--------------------+----------------+------------------------------------+\n",
      "\n"
     ]
    }
   ],
   "source": [
    "test_next_update_errors = test_next_update_daily.filter(\n",
    "    \"update_correct = 'wrong'\"\n",
    ").withColumn(\n",
    "    \"next_day_to_next_day_from_update_dif\",\n",
    "    test_next_update_daily.next_payment_day - test_next_update_daily.next_day_from_update,\n",
    ").select(\n",
    "    \"user_id\",\n",
    "    \"frequency\",\n",
    "    \"updated_at\",\n",
    "    \"next_day_from_update\",\n",
    "    \"next_payment_day\",\n",
    "    \"next_day_to_next_day_from_update_dif\",\n",
    ")\n",
    "test_next_update_errors.show()"
   ]
  },
  {
   "cell_type": "markdown",
   "metadata": {},
   "source": [
    "In the **weekly** frequency, almost all allowances have a correct `next_payment_day` if we consider the current day as the `updated_at` date. This is similar to what happened with the daily frequency. Therefore, it indicates that the job responsible for updating the `next_payment_day` is either not running daily or is encountering issues."
   ]
  },
  {
   "cell_type": "code",
   "execution_count": 140,
   "metadata": {},
   "outputs": [
    {
     "data": {
      "application/vnd.plotly.v1+json": {
       "config": {
        "plotlyServerURL": "https://plot.ly"
       },
       "data": [
        {
         "direction": "clockwise",
         "domain": {
          "x": [
           0,
           1
          ],
          "y": [
           0,
           1
          ]
         },
         "hovertemplate": "update_correct=%{label}<br>count=%{value}<extra></extra>",
         "labels": [
          "correct",
          "wrong"
         ],
         "legendgroup": "",
         "name": "",
         "showlegend": true,
         "sort": false,
         "type": "pie",
         "values": [
          733,
          20
         ]
        }
       ],
       "layout": {
        "legend": {
         "tracegroupgap": 0
        },
        "template": {
         "data": {
          "bar": [
           {
            "error_x": {
             "color": "#2a3f5f"
            },
            "error_y": {
             "color": "#2a3f5f"
            },
            "marker": {
             "line": {
              "color": "#E5ECF6",
              "width": 0.5
             },
             "pattern": {
              "fillmode": "overlay",
              "size": 10,
              "solidity": 0.2
             }
            },
            "type": "bar"
           }
          ],
          "barpolar": [
           {
            "marker": {
             "line": {
              "color": "#E5ECF6",
              "width": 0.5
             },
             "pattern": {
              "fillmode": "overlay",
              "size": 10,
              "solidity": 0.2
             }
            },
            "type": "barpolar"
           }
          ],
          "carpet": [
           {
            "aaxis": {
             "endlinecolor": "#2a3f5f",
             "gridcolor": "white",
             "linecolor": "white",
             "minorgridcolor": "white",
             "startlinecolor": "#2a3f5f"
            },
            "baxis": {
             "endlinecolor": "#2a3f5f",
             "gridcolor": "white",
             "linecolor": "white",
             "minorgridcolor": "white",
             "startlinecolor": "#2a3f5f"
            },
            "type": "carpet"
           }
          ],
          "choropleth": [
           {
            "colorbar": {
             "outlinewidth": 0,
             "ticks": ""
            },
            "type": "choropleth"
           }
          ],
          "contour": [
           {
            "colorbar": {
             "outlinewidth": 0,
             "ticks": ""
            },
            "colorscale": [
             [
              0,
              "#0d0887"
             ],
             [
              0.1111111111111111,
              "#46039f"
             ],
             [
              0.2222222222222222,
              "#7201a8"
             ],
             [
              0.3333333333333333,
              "#9c179e"
             ],
             [
              0.4444444444444444,
              "#bd3786"
             ],
             [
              0.5555555555555556,
              "#d8576b"
             ],
             [
              0.6666666666666666,
              "#ed7953"
             ],
             [
              0.7777777777777778,
              "#fb9f3a"
             ],
             [
              0.8888888888888888,
              "#fdca26"
             ],
             [
              1,
              "#f0f921"
             ]
            ],
            "type": "contour"
           }
          ],
          "contourcarpet": [
           {
            "colorbar": {
             "outlinewidth": 0,
             "ticks": ""
            },
            "type": "contourcarpet"
           }
          ],
          "heatmap": [
           {
            "colorbar": {
             "outlinewidth": 0,
             "ticks": ""
            },
            "colorscale": [
             [
              0,
              "#0d0887"
             ],
             [
              0.1111111111111111,
              "#46039f"
             ],
             [
              0.2222222222222222,
              "#7201a8"
             ],
             [
              0.3333333333333333,
              "#9c179e"
             ],
             [
              0.4444444444444444,
              "#bd3786"
             ],
             [
              0.5555555555555556,
              "#d8576b"
             ],
             [
              0.6666666666666666,
              "#ed7953"
             ],
             [
              0.7777777777777778,
              "#fb9f3a"
             ],
             [
              0.8888888888888888,
              "#fdca26"
             ],
             [
              1,
              "#f0f921"
             ]
            ],
            "type": "heatmap"
           }
          ],
          "heatmapgl": [
           {
            "colorbar": {
             "outlinewidth": 0,
             "ticks": ""
            },
            "colorscale": [
             [
              0,
              "#0d0887"
             ],
             [
              0.1111111111111111,
              "#46039f"
             ],
             [
              0.2222222222222222,
              "#7201a8"
             ],
             [
              0.3333333333333333,
              "#9c179e"
             ],
             [
              0.4444444444444444,
              "#bd3786"
             ],
             [
              0.5555555555555556,
              "#d8576b"
             ],
             [
              0.6666666666666666,
              "#ed7953"
             ],
             [
              0.7777777777777778,
              "#fb9f3a"
             ],
             [
              0.8888888888888888,
              "#fdca26"
             ],
             [
              1,
              "#f0f921"
             ]
            ],
            "type": "heatmapgl"
           }
          ],
          "histogram": [
           {
            "marker": {
             "pattern": {
              "fillmode": "overlay",
              "size": 10,
              "solidity": 0.2
             }
            },
            "type": "histogram"
           }
          ],
          "histogram2d": [
           {
            "colorbar": {
             "outlinewidth": 0,
             "ticks": ""
            },
            "colorscale": [
             [
              0,
              "#0d0887"
             ],
             [
              0.1111111111111111,
              "#46039f"
             ],
             [
              0.2222222222222222,
              "#7201a8"
             ],
             [
              0.3333333333333333,
              "#9c179e"
             ],
             [
              0.4444444444444444,
              "#bd3786"
             ],
             [
              0.5555555555555556,
              "#d8576b"
             ],
             [
              0.6666666666666666,
              "#ed7953"
             ],
             [
              0.7777777777777778,
              "#fb9f3a"
             ],
             [
              0.8888888888888888,
              "#fdca26"
             ],
             [
              1,
              "#f0f921"
             ]
            ],
            "type": "histogram2d"
           }
          ],
          "histogram2dcontour": [
           {
            "colorbar": {
             "outlinewidth": 0,
             "ticks": ""
            },
            "colorscale": [
             [
              0,
              "#0d0887"
             ],
             [
              0.1111111111111111,
              "#46039f"
             ],
             [
              0.2222222222222222,
              "#7201a8"
             ],
             [
              0.3333333333333333,
              "#9c179e"
             ],
             [
              0.4444444444444444,
              "#bd3786"
             ],
             [
              0.5555555555555556,
              "#d8576b"
             ],
             [
              0.6666666666666666,
              "#ed7953"
             ],
             [
              0.7777777777777778,
              "#fb9f3a"
             ],
             [
              0.8888888888888888,
              "#fdca26"
             ],
             [
              1,
              "#f0f921"
             ]
            ],
            "type": "histogram2dcontour"
           }
          ],
          "mesh3d": [
           {
            "colorbar": {
             "outlinewidth": 0,
             "ticks": ""
            },
            "type": "mesh3d"
           }
          ],
          "parcoords": [
           {
            "line": {
             "colorbar": {
              "outlinewidth": 0,
              "ticks": ""
             }
            },
            "type": "parcoords"
           }
          ],
          "pie": [
           {
            "automargin": true,
            "type": "pie"
           }
          ],
          "scatter": [
           {
            "fillpattern": {
             "fillmode": "overlay",
             "size": 10,
             "solidity": 0.2
            },
            "type": "scatter"
           }
          ],
          "scatter3d": [
           {
            "line": {
             "colorbar": {
              "outlinewidth": 0,
              "ticks": ""
             }
            },
            "marker": {
             "colorbar": {
              "outlinewidth": 0,
              "ticks": ""
             }
            },
            "type": "scatter3d"
           }
          ],
          "scattercarpet": [
           {
            "marker": {
             "colorbar": {
              "outlinewidth": 0,
              "ticks": ""
             }
            },
            "type": "scattercarpet"
           }
          ],
          "scattergeo": [
           {
            "marker": {
             "colorbar": {
              "outlinewidth": 0,
              "ticks": ""
             }
            },
            "type": "scattergeo"
           }
          ],
          "scattergl": [
           {
            "marker": {
             "colorbar": {
              "outlinewidth": 0,
              "ticks": ""
             }
            },
            "type": "scattergl"
           }
          ],
          "scattermapbox": [
           {
            "marker": {
             "colorbar": {
              "outlinewidth": 0,
              "ticks": ""
             }
            },
            "type": "scattermapbox"
           }
          ],
          "scatterpolar": [
           {
            "marker": {
             "colorbar": {
              "outlinewidth": 0,
              "ticks": ""
             }
            },
            "type": "scatterpolar"
           }
          ],
          "scatterpolargl": [
           {
            "marker": {
             "colorbar": {
              "outlinewidth": 0,
              "ticks": ""
             }
            },
            "type": "scatterpolargl"
           }
          ],
          "scatterternary": [
           {
            "marker": {
             "colorbar": {
              "outlinewidth": 0,
              "ticks": ""
             }
            },
            "type": "scatterternary"
           }
          ],
          "surface": [
           {
            "colorbar": {
             "outlinewidth": 0,
             "ticks": ""
            },
            "colorscale": [
             [
              0,
              "#0d0887"
             ],
             [
              0.1111111111111111,
              "#46039f"
             ],
             [
              0.2222222222222222,
              "#7201a8"
             ],
             [
              0.3333333333333333,
              "#9c179e"
             ],
             [
              0.4444444444444444,
              "#bd3786"
             ],
             [
              0.5555555555555556,
              "#d8576b"
             ],
             [
              0.6666666666666666,
              "#ed7953"
             ],
             [
              0.7777777777777778,
              "#fb9f3a"
             ],
             [
              0.8888888888888888,
              "#fdca26"
             ],
             [
              1,
              "#f0f921"
             ]
            ],
            "type": "surface"
           }
          ],
          "table": [
           {
            "cells": {
             "fill": {
              "color": "#EBF0F8"
             },
             "line": {
              "color": "white"
             }
            },
            "header": {
             "fill": {
              "color": "#C8D4E3"
             },
             "line": {
              "color": "white"
             }
            },
            "type": "table"
           }
          ]
         },
         "layout": {
          "annotationdefaults": {
           "arrowcolor": "#2a3f5f",
           "arrowhead": 0,
           "arrowwidth": 1
          },
          "autotypenumbers": "strict",
          "coloraxis": {
           "colorbar": {
            "outlinewidth": 0,
            "ticks": ""
           }
          },
          "colorscale": {
           "diverging": [
            [
             0,
             "#8e0152"
            ],
            [
             0.1,
             "#c51b7d"
            ],
            [
             0.2,
             "#de77ae"
            ],
            [
             0.3,
             "#f1b6da"
            ],
            [
             0.4,
             "#fde0ef"
            ],
            [
             0.5,
             "#f7f7f7"
            ],
            [
             0.6,
             "#e6f5d0"
            ],
            [
             0.7,
             "#b8e186"
            ],
            [
             0.8,
             "#7fbc41"
            ],
            [
             0.9,
             "#4d9221"
            ],
            [
             1,
             "#276419"
            ]
           ],
           "sequential": [
            [
             0,
             "#0d0887"
            ],
            [
             0.1111111111111111,
             "#46039f"
            ],
            [
             0.2222222222222222,
             "#7201a8"
            ],
            [
             0.3333333333333333,
             "#9c179e"
            ],
            [
             0.4444444444444444,
             "#bd3786"
            ],
            [
             0.5555555555555556,
             "#d8576b"
            ],
            [
             0.6666666666666666,
             "#ed7953"
            ],
            [
             0.7777777777777778,
             "#fb9f3a"
            ],
            [
             0.8888888888888888,
             "#fdca26"
            ],
            [
             1,
             "#f0f921"
            ]
           ],
           "sequentialminus": [
            [
             0,
             "#0d0887"
            ],
            [
             0.1111111111111111,
             "#46039f"
            ],
            [
             0.2222222222222222,
             "#7201a8"
            ],
            [
             0.3333333333333333,
             "#9c179e"
            ],
            [
             0.4444444444444444,
             "#bd3786"
            ],
            [
             0.5555555555555556,
             "#d8576b"
            ],
            [
             0.6666666666666666,
             "#ed7953"
            ],
            [
             0.7777777777777778,
             "#fb9f3a"
            ],
            [
             0.8888888888888888,
             "#fdca26"
            ],
            [
             1,
             "#f0f921"
            ]
           ]
          },
          "colorway": [
           "#636efa",
           "#EF553B",
           "#00cc96",
           "#ab63fa",
           "#FFA15A",
           "#19d3f3",
           "#FF6692",
           "#B6E880",
           "#FF97FF",
           "#FECB52"
          ],
          "font": {
           "color": "#2a3f5f"
          },
          "geo": {
           "bgcolor": "white",
           "lakecolor": "white",
           "landcolor": "#E5ECF6",
           "showlakes": true,
           "showland": true,
           "subunitcolor": "white"
          },
          "hoverlabel": {
           "align": "left"
          },
          "hovermode": "closest",
          "mapbox": {
           "style": "light"
          },
          "paper_bgcolor": "white",
          "plot_bgcolor": "#E5ECF6",
          "polar": {
           "angularaxis": {
            "gridcolor": "white",
            "linecolor": "white",
            "ticks": ""
           },
           "bgcolor": "#E5ECF6",
           "radialaxis": {
            "gridcolor": "white",
            "linecolor": "white",
            "ticks": ""
           }
          },
          "scene": {
           "xaxis": {
            "backgroundcolor": "#E5ECF6",
            "gridcolor": "white",
            "gridwidth": 2,
            "linecolor": "white",
            "showbackground": true,
            "ticks": "",
            "zerolinecolor": "white"
           },
           "yaxis": {
            "backgroundcolor": "#E5ECF6",
            "gridcolor": "white",
            "gridwidth": 2,
            "linecolor": "white",
            "showbackground": true,
            "ticks": "",
            "zerolinecolor": "white"
           },
           "zaxis": {
            "backgroundcolor": "#E5ECF6",
            "gridcolor": "white",
            "gridwidth": 2,
            "linecolor": "white",
            "showbackground": true,
            "ticks": "",
            "zerolinecolor": "white"
           }
          },
          "shapedefaults": {
           "line": {
            "color": "#2a3f5f"
           }
          },
          "ternary": {
           "aaxis": {
            "gridcolor": "white",
            "linecolor": "white",
            "ticks": ""
           },
           "baxis": {
            "gridcolor": "white",
            "linecolor": "white",
            "ticks": ""
           },
           "bgcolor": "#E5ECF6",
           "caxis": {
            "gridcolor": "white",
            "linecolor": "white",
            "ticks": ""
           }
          },
          "title": {
           "x": 0.05
          },
          "xaxis": {
           "automargin": true,
           "gridcolor": "white",
           "linecolor": "white",
           "ticks": "",
           "title": {
            "standoff": 15
           },
           "zerolinecolor": "white",
           "zerolinewidth": 2
          },
          "yaxis": {
           "automargin": true,
           "gridcolor": "white",
           "linecolor": "white",
           "ticks": "",
           "title": {
            "standoff": 15
           },
           "zerolinecolor": "white",
           "zerolinewidth": 2
          }
         }
        },
        "title": {
         "text": "proportion"
        }
       }
      }
     },
     "metadata": {},
     "output_type": "display_data"
    }
   ],
   "source": [
    "test_next_update_weekly = all_backend_table_truth.filter(\n",
    "    \"frequency = 'weekly'\"\n",
    ").withColumn(\n",
    "    \"next_day_from_update\", next_payment_day_weekly_frequency(\"day\", None, \"updated_at\")\n",
    ")\n",
    "\n",
    "test_next_update_weekly = test_next_update_weekly.withColumn(\n",
    "    \"update_correct\",\n",
    "    spark_f.when(\n",
    "        spark_f.col(\"next_day_from_update\") == spark_f.col(\"next_payment_day\"),\n",
    "        \"correct\",\n",
    "    ).otherwise(\"wrong\"),\n",
    ")\n",
    "\n",
    "\n",
    "pie_chart(\n",
    "    test_next_update_weekly.toPandas(),\n",
    "    \"update_correct\",\n",
    "    \"proportion\",\n",
    "    category_orders={\"update_correct\": [\"correct\", \"wrong\"]},\n",
    ")"
   ]
  },
  {
   "cell_type": "markdown",
   "metadata": {},
   "source": []
  },
  {
   "cell_type": "code",
   "execution_count": 141,
   "metadata": {},
   "outputs": [
    {
     "name": "stdout",
     "output_type": "stream",
     "text": [
      "+--------------------+---------+--------------------+--------------------+----------------+------------------------------------+--------------------+---------+---------+-------------------+--------------------+----------------+-----------------+--------------------+----------------------+-------+--------------------------+-----------------------+--------------------+--------------+------------------------------------+\n",
      "|             user_id|frequency|          updated_at|next_day_from_update|next_payment_day|next_day_to_next_day_from_update_dif|             user_id|frequency|      day|      creation_date|          updated_at|next_payment_day|  last_event_name|last_event_timestamp|truth_next_payment_day|correct|diference_next_payment_day|how_old_was_last_update|next_day_from_update|update_correct|next_day_to_next_day_from_update_dif|\n",
      "+--------------------+---------+--------------------+--------------------+----------------+------------------------------------+--------------------+---------+---------+-------------------+--------------------+----------------+-----------------+--------------------+----------------------+-------+--------------------------+-----------------------+--------------------+--------------+------------------------------------+\n",
      "|4ba547e8-2e7c-443...|   weekly|2024-11-28 21:31:...|                  29|               6|                               -23.0|4ba547e8-2e7c-443...|   weekly|   friday|2024-11-28 21:31:10|2024-11-28 21:31:...|               6| allowance.edited| 2024-11-28 16:31:43|                     6|correct|                       0.0|                      5|                  29|         wrong|                               -23.0|\n",
      "|d9a09694-46e5-4c4...|   weekly|2024-11-29 22:42:...|                  30|               7|                               -23.0|d9a09694-46e5-4c4...|   weekly| saturday|2024-11-24 09:58:01|2024-11-29 22:42:...|               7| allowance.edited| 2024-11-29 17:42:44|                     7|correct|                       0.0|                      4|                  30|         wrong|                               -23.0|\n",
      "|d1935063-ebf8-466...|   weekly|2024-09-23 22:14:...|                  24|               1|                               -23.0|d1935063-ebf8-466...|   weekly|  tuesday|2024-09-19 08:48:16|2024-09-23 22:14:...|               1| allowance.edited| 2024-09-23 18:14:14|                    10|  wrong|                      -9.0|                     71|                  24|         wrong|                               -23.0|\n",
      "|6ca19a12-7b20-425...|   weekly|2024-11-29 21:34:...|                  30|               7|                               -23.0|6ca19a12-7b20-425...|   weekly| saturday|2024-11-29 21:30:07|2024-11-29 21:34:...|               7| allowance.edited| 2024-11-29 16:34:02|                     7|correct|                       0.0|                      4|                  30|         wrong|                               -23.0|\n",
      "|30cc457a-c064-428...|   weekly|2024-11-22 16:44:...|                  29|              15|                               -14.0|30cc457a-c064-428...|   weekly|   friday|2024-11-14 18:11:25|2024-11-22 16:44:...|              15|allowance.created| 2024-11-14 13:11:25|                     6|  wrong|                       9.0|                     11|                  29|         wrong|                               -14.0|\n",
      "|f9c105e9-828d-467...|   weekly|2024-11-17 21:57:...|                  22|               8|                               -14.0|f9c105e9-828d-467...|   weekly|   friday|2024-10-31 18:43:08|2024-11-17 21:57:...|               8|allowance.created| 2024-10-31 14:43:08|                     6|  wrong|                       2.0|                     16|                  22|         wrong|                               -14.0|\n",
      "|acdd1c63-bbc7-41e...|   weekly|2024-11-23 18:31:...|                  29|              15|                               -14.0|acdd1c63-bbc7-41e...|   weekly|   friday|2024-11-08 00:11:18|2024-11-23 18:31:...|              15| allowance.edited| 2024-11-07 19:12:11|                     6|  wrong|                       9.0|                     10|                  29|         wrong|                               -14.0|\n",
      "|bc41c142-da12-43e...|   weekly|2024-11-17 21:57:...|                  22|               8|                               -14.0|bc41c142-da12-43e...|   weekly|   friday|2024-10-31 18:43:19|2024-11-17 21:57:...|               8|allowance.created| 2024-10-31 14:43:19|                     6|  wrong|                       2.0|                     16|                  22|         wrong|                               -14.0|\n",
      "|08868477-f5d2-4f3...|   weekly|2024-11-01 09:52:...|                   8|               1|                                -7.0|08868477-f5d2-4f3...|   weekly|   friday|2024-09-23 22:15:09|2024-11-01 09:52:...|               1|allowance.created| 2024-09-23 18:15:09|                     6|  wrong|                      -5.0|                     32|                   8|         wrong|                                -7.0|\n",
      "|4d50e137-2881-4c2...|   weekly|2024-11-22 22:24:...|                  29|              22|                                -7.0|4d50e137-2881-4c2...|   weekly|   friday|2024-11-20 13:12:36|2024-11-22 22:24:...|              22| allowance.edited| 2024-11-20 08:20:28|                     6|  wrong|                      16.0|                     11|                  29|         wrong|                                -7.0|\n",
      "|17aa6e97-d51d-488...|   weekly|2024-11-17 12:42:...|                  24|              17|                                -7.0|17aa6e97-d51d-488...|   weekly|   sunday|2024-10-28 19:30:20|2024-11-17 12:42:...|              17|allowance.created| 2024-10-28 15:30:20|                     8|  wrong|                       9.0|                     16|                  24|         wrong|                                -7.0|\n",
      "|c060b68f-a5ad-492...|   weekly|2024-11-09 13:25:...|                  10|               6|                                -4.0|c060b68f-a5ad-492...|   weekly|   sunday|2024-08-10 19:20:45|2024-11-09 13:25:...|               6|allowance.created| 2024-08-10 15:20:45|                     8|  wrong|                      -2.0|                     24|                  10|         wrong|                                -4.0|\n",
      "|4720f736-3034-4b6...|   weekly|2024-11-04 21:13:...|                   8|              11|                                 3.0|4720f736-3034-4b6...|   weekly|   friday|2024-09-23 19:48:36|2024-11-04 21:13:...|              11| allowance.edited| 2024-09-23 15:48:46|                     6|  wrong|                       5.0|                     29|                   8|         wrong|                                 3.0|\n",
      "|f741b3eb-ce92-4ea...|   weekly|2024-11-14 22:52:...|                  15|              22|                                 7.0|f741b3eb-ce92-4ea...|   weekly|   friday|2024-10-30 09:37:23|2024-11-14 22:52:...|              22| allowance.edited| 2024-11-14 17:53:00|                     6|  wrong|                      16.0|                     19|                  15|         wrong|                                 7.0|\n",
      "|f1613d85-2abd-426...|   weekly| 2024-12-01 23:45:33|                   2|               9|                                 7.0|f1613d85-2abd-426...|   weekly|   monday|2024-12-01 23:45:33| 2024-12-01 23:45:33|               9|allowance.created| 2024-12-01 18:45:33|                     9|correct|                       0.0|                      2|                   2|         wrong|                                 7.0|\n",
      "|60dc27fa-6ba6-43d...|   weekly|2024-10-15 22:45:...|                  16|              23|                                 7.0|60dc27fa-6ba6-43d...|   weekly|wednesday|2024-10-07 06:44:30|2024-10-15 22:45:...|              23| allowance.edited| 2024-10-15 18:45:43|                     4|  wrong|                      19.0|                     49|                  16|         wrong|                                 7.0|\n",
      "|33444b84-eb01-4ba...|   weekly|2024-10-02 22:23:...|                   3|              10|                                 7.0|33444b84-eb01-4ba...|   weekly| thursday|2024-09-26 14:57:50|2024-10-02 22:23:...|              10| allowance.edited| 2024-10-02 18:23:49|                     5|  wrong|                       5.0|                     62|                   3|         wrong|                                 7.0|\n",
      "|ef83e1ca-eadf-4d4...|   weekly|2024-09-12 23:49:...|                  13|              20|                                 7.0|ef83e1ca-eadf-4d4...|   weekly|   friday|2024-08-11 10:20:54|2024-09-12 23:49:...|              20| allowance.edited| 2024-09-12 19:49:01|                     6|  wrong|                      14.0|                     82|                  13|         wrong|                                 7.0|\n",
      "|1649fee7-c424-4fb...|   weekly|2024-10-12 22:27:...|                  13|              22|                                 9.0|1649fee7-c424-4fb...|   weekly|   sunday|2024-09-03 10:47:33|2024-10-12 22:27:...|              22| allowance.edited| 2024-09-03 06:48:16|                     8|  wrong|                      14.0|                     52|                  13|         wrong|                                 9.0|\n",
      "|a50295d7-5c2b-41b...|   weekly|2024-12-01 23:14:...|                   2|              25|                                23.0|a50295d7-5c2b-41b...|   weekly|   monday|2024-11-12 23:20:34|2024-12-01 23:14:...|              25|allowance.created| 2024-11-12 18:20:34|                     9|  wrong|                      16.0|                      2|                   2|         wrong|                                23.0|\n",
      "+--------------------+---------+--------------------+--------------------+----------------+------------------------------------+--------------------+---------+---------+-------------------+--------------------+----------------+-----------------+--------------------+----------------------+-------+--------------------------+-----------------------+--------------------+--------------+------------------------------------+\n",
      "\n"
     ]
    }
   ],
   "source": [
    "test_next_update_weekly.filter(\n",
    "    \"update_correct = 'wrong'\"\n",
    ").withColumn(\n",
    "    \"next_day_to_next_day_from_update_dif\",\n",
    "    test_next_update_weekly.next_payment_day - test_next_update_weekly.next_day_from_update,\n",
    ").select(\n",
    "    \"user_id\",\n",
    "    \"frequency\",\n",
    "    \"updated_at\",\n",
    "    \"next_day_from_update\",\n",
    "    \"next_payment_day\",\n",
    "    \"next_day_to_next_day_from_update_dif\",\n",
    "    \"*\"\n",
    ").orderBy(\"next_day_to_next_day_from_update_dif\").show()"
   ]
  },
  {
   "cell_type": "markdown",
   "metadata": {},
   "source": [
    "### Conclusion\n",
    "\n",
    "There appears to be a scheduling issue as the update process is not occurring daily. Additionally, there are some anomalies that might be due to the job not being idempotent and running multiple times on certain days."
   ]
  }
 ],
 "metadata": {
  "kernelspec": {
   "display_name": ".venv",
   "language": "python",
   "name": "python3"
  },
  "language_info": {
   "codemirror_mode": {
    "name": "ipython",
    "version": 3
   },
   "file_extension": ".py",
   "mimetype": "text/x-python",
   "name": "python",
   "nbconvert_exporter": "python",
   "pygments_lexer": "ipython3",
   "version": "3.12.3"
  }
 },
 "nbformat": 4,
 "nbformat_minor": 2
}
