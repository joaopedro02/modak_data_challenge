{
 "cells": [
  {
   "cell_type": "code",
   "execution_count": 1,
   "metadata": {},
   "outputs": [],
   "source": [
    "import pyspark\n",
    "\n",
    "spark = pyspark.sql.SparkSession.builder.appName(\"inconsistences_report\").getOrCreate()\n",
    "CURRENT_DAY= '2024-12-03'"
   ]
  },
  {
   "cell_type": "code",
   "execution_count": 2,
   "metadata": {},
   "outputs": [],
   "source": [
    "import pyspark.sql.functions as spark_f\n",
    "\n",
    "def flatten_column(df,column):\n",
    "    sub_columns = df.select(f\"{column}.*\").columns\n",
    "    for sub_column in sub_columns:\n",
    "        df = df.withColumn(f\"{column}_{sub_column}\", spark_f.col(f\"{column}.{sub_column}\"))\n",
    "    return df.drop(column)\n",
    "\n",
    "def histogram(df, column,title):\n",
    "    import plotly.express as px\n",
    "    fig = px.histogram(\n",
    "        df,\n",
    "        x=column,\n",
    "        title=title,\n",
    "    )\n",
    "    fig.show()\n",
    "\n",
    "def pie_chart(df, column, title, category_orders=None):\n",
    "    import plotly.express as px\n",
    "    df = df.groupby(column).count().rename(columns={df.columns[0]: \"count\"}).reset_index().sort_values(column)\n",
    "    # print(df.head())\n",
    "    fig = px.pie(\n",
    "        df,\n",
    "        names=column,\n",
    "        values=\"count\",\n",
    "        category_orders = category_orders,\n",
    "        title=title,\n",
    "    )\n",
    "    # fig.update_xaxes(categoryorder=\"category ascending\")\n",
    "    fig.show()"
   ]
  },
  {
   "cell_type": "code",
   "execution_count": 3,
   "metadata": {},
   "outputs": [],
   "source": [
    "raw_allowance_backend_table = spark.read.csv(\"../data/allowance_backend_table.csv\", header=True)\n",
    "raw_allowance_events = spark.read.json(\"../data/allowance_events.json\", multiLine = True)\n",
    "raw_payments_schedule_backend_table = spark.read.csv(\"../data/payments_schedule_backend_table.csv\", header=True)"
   ]
  },
  {
   "cell_type": "markdown",
   "metadata": {},
   "source": [
    "### cleaned allowance events"
   ]
  },
  {
   "cell_type": "code",
   "execution_count": 4,
   "metadata": {},
   "outputs": [
    {
     "name": "stdout",
     "output_type": "stream",
     "text": [
      "[('allowance_amount', 'bigint'), ('allowance_scheduled_day', 'string'), ('allowance_scheduled_frequency', 'string'), ('event_name', 'string'), ('event_timestamp', 'string'), ('user_id', 'string')]\n",
      "+----------------+-----------------------+-----------------------------+-----------------+-------------------+--------------------+\n",
      "|allowance_amount|allowance_scheduled_day|allowance_scheduled_frequency|       event_name|    event_timestamp|             user_id|\n",
      "+----------------+-----------------------+-----------------------------+-----------------+-------------------+--------------------+\n",
      "|              20|               saturday|                       weekly|allowance.created|2024-11-28 07:10:16|38f8d838-ea08-4fd...|\n",
      "|               5|          fifteenth_day|                      monthly|allowance.created|2024-09-05 13:30:38|9748cdad-69a4-400...|\n",
      "|               5|               saturday|                       weekly|allowance.created|2024-10-21 17:27:50|8252c070-2698-49d...|\n",
      "|               3|                 monday|                     biweekly| allowance.edited|2024-11-06 12:53:31|3c700c10-3d42-49a...|\n",
      "|              10|                 friday|                     biweekly|allowance.created|2024-11-23 07:56:18|d6331731-dafe-4bb...|\n",
      "|              20|                  daily|                        daily| allowance.edited|2024-10-14 17:33:57|d299d804-0d05-48c...|\n",
      "|              10|          fifteenth_day|                      monthly| allowance.edited|2024-10-15 18:29:55|d299d804-0d05-48c...|\n",
      "|              20|              first_day|                      monthly| allowance.edited|2024-09-21 17:02:11|113d8189-3ce0-47b...|\n",
      "|               1|                 monday|                     biweekly| allowance.edited|2024-10-15 10:02:59|c3e2b88d-75fc-449...|\n",
      "|               5|                 friday|                       weekly| allowance.edited|2024-08-06 14:03:58|ba179220-3b79-429...|\n",
      "|              15|                 sunday|                       weekly| allowance.edited|2024-08-10 07:21:42|8c212fdf-895b-4d3...|\n",
      "|               4|                 monday|                     biweekly|allowance.created|2024-09-07 08:14:12|138a678d-b0eb-46a...|\n",
      "|              10|                 friday|                       weekly| allowance.edited|2024-08-08 08:12:00|03bc2115-7d48-4be...|\n",
      "|               5|              first_day|                      monthly| allowance.edited|2024-11-10 07:28:22|e48bb548-a87a-406...|\n",
      "|              20|               saturday|                       weekly|allowance.created|2024-08-26 17:05:52|3f046523-49b3-4ef...|\n",
      "|              10|              wednesday|                     biweekly|allowance.created|2024-10-19 05:03:41|9af3c140-86b0-403...|\n",
      "|              10|          fifteenth_day|                      monthly| allowance.edited|2024-09-06 17:54:33|63a03a70-da6b-452...|\n",
      "|              20|                 sunday|                       weekly| allowance.edited|2024-11-15 09:12:13|62023832-c468-45f...|\n",
      "|             200|                 friday|                       weekly| allowance.edited|2024-10-31 03:53:41|560c5cf4-5fd8-447...|\n",
      "|              10|                 friday|                       weekly|allowance.created|2024-10-22 13:59:37|61609771-d5b0-46d...|\n",
      "+----------------+-----------------------+-----------------------------+-----------------+-------------------+--------------------+\n",
      "only showing top 20 rows\n",
      "\n"
     ]
    }
   ],
   "source": [
    "allowance_events = flatten_column(raw_allowance_events, \"allowance\")\n",
    "allowance_events = flatten_column(allowance_events, \"allowance_scheduled\")\n",
    "allowance_events = flatten_column(allowance_events, \"event\")\n",
    "allowance_events = flatten_column(allowance_events, \"user\")\n",
    "\n",
    "print(allowance_events.dtypes)\n",
    "cleaned_events = allowance_events.withColumn(\n",
    "    \"event_timestamp\", allowance_events.event_timestamp.cast(\"timestamp\")\n",
    ").alias(\"cleaned_events\")\n",
    "\n",
    "cleaned_events = cleaned_events.dropDuplicates()\n",
    "cleaned_events.show()\n",
    "\n",
    "\n",
    "# payments_schedule_backend_table.show()"
   ]
  },
  {
   "cell_type": "markdown",
   "metadata": {},
   "source": [
    "### cleaned allowance bacckend table"
   ]
  },
  {
   "cell_type": "code",
   "execution_count": 5,
   "metadata": {},
   "outputs": [
    {
     "name": "stdout",
     "output_type": "stream",
     "text": [
      "+--------+\n",
      "|  status|\n",
      "+--------+\n",
      "| enabled|\n",
      "|disabled|\n",
      "+--------+\n",
      "\n",
      "[('user_id', 'string'), ('creation_date', 'timestamp'), ('frequency', 'string'), ('day', 'string'), ('next_payment_day', 'string'), ('status', 'string'), ('updated_at', 'timestamp')]\n",
      "+------------------------------------+-------------------+---------+-------------+----------------+-------+--------------------------+\n",
      "|user_id                             |creation_date      |frequency|day          |next_payment_day|status |updated_at                |\n",
      "+------------------------------------+-------------------+---------+-------------+----------------+-------+--------------------------+\n",
      "|30f4e25e-3e37-462e-8c3c-42f24f54350f|2024-08-28 06:51:49|monthly  |fifteenth_day|15              |enabled|2024-10-15 05:00:41.445627|\n",
      "|6da398ad-079d-49b9-8668-6d7ce4d22683|2024-08-26 05:10:29|monthly  |fifteenth_day|15              |enabled|2024-08-26 05:10:29       |\n",
      "|2d30fe2d-6c32-4b8a-a19b-906184f64f62|2024-11-11 04:12:39|monthly  |fifteenth_day|15              |enabled|2024-11-11 04:12:39       |\n",
      "|c30180f3-b35c-470c-b25a-f12ec4ce3340|2024-09-03 22:56:22|monthly  |first_day    |1               |enabled|2024-10-01 05:00:37.516552|\n",
      "|35d3d7c2-2a05-4eae-bdf2-7896e611bbc6|2024-09-04 09:42:52|biweekly |monday       |16              |enabled|2024-09-04 09:42:52       |\n",
      "|9295f1b0-c1cf-4dca-b720-84146395e058|2024-09-04 22:59:01|biweekly |monday       |16              |enabled|2024-09-04 22:59:01       |\n",
      "|c398bb9d-8ba5-4f31-9dd2-97d09a289360|2024-09-04 09:43:27|biweekly |monday       |16              |enabled|2024-09-04 09:43:27       |\n",
      "|1958d8e3-cb69-4190-a47e-58008d526fc8|2024-11-14 19:37:25|biweekly |tuesday      |10              |enabled|2024-11-26 05:00:26.493628|\n",
      "|919436cc-5f02-43d1-9636-d72e1490bb3d|2024-11-17 23:07:28|biweekly |monday       |2               |enabled|2024-11-17 23:07:28       |\n",
      "|6b36d785-5958-4469-a438-9b2e09cbf973|2024-11-21 17:50:19|weekly   |thursday     |5               |enabled|2024-11-28 05:00:26.049462|\n",
      "|9097a093-d124-4cbd-b5bc-b27ef6d34f3d|2024-11-07 02:36:17|weekly   |saturday     |7               |enabled|2024-11-30 05:00:32.954405|\n",
      "|a0e18e1a-7d45-4157-ab4a-425749d214bc|2024-11-28 05:46:33|monthly  |first_day    |1               |enabled|2024-12-01 05:01:43.373425|\n",
      "|89fc688d-51ba-4877-92cc-6428cc4d2c4b|2024-10-27 08:20:51|biweekly |friday       |6               |enabled|2024-11-22 05:00:41.160438|\n",
      "|0e835ee0-7305-4890-bdfe-d80754312cd7|2024-11-20 20:45:51|biweekly |thursday     |28              |enabled|2024-11-20 20:45:51       |\n",
      "|7fb21ac5-9ef1-4a8d-ba9a-ec83c7ee14c9|2024-11-20 20:45:59|biweekly |thursday     |28              |enabled|2024-11-20 20:45:59       |\n",
      "|76a558c9-e51e-47a7-9891-dee6041e0bfd|2024-11-28 13:43:28|monthly  |first_day    |1               |enabled|2024-12-01 05:00:35.002747|\n",
      "|6d125ef1-c556-41f3-ab86-911271613e08|2024-11-17 12:27:12|biweekly |friday       |29              |enabled|2024-11-27 22:10:19.339488|\n",
      "|83e1815d-b48f-47e6-89b6-9b52e5875c79|2024-09-27 13:33:44|monthly  |first_day    |1               |enabled|2024-11-09 18:13:51.566857|\n",
      "|c97f1147-1f59-4a0d-a1e2-12c65b4fcd67|2024-11-27 16:40:29|weekly   |thursday     |5               |enabled|2024-11-28 05:00:29.438429|\n",
      "|3cc7a3ee-4691-4f60-a549-268e813e2c22|2024-08-07 20:55:42|monthly  |first_day    |1               |enabled|2024-12-01 05:00:29.034582|\n",
      "+------------------------------------+-------------------+---------+-------------+----------------+-------+--------------------------+\n",
      "only showing top 20 rows\n",
      "\n"
     ]
    }
   ],
   "source": [
    "allowance_backend_table = raw_allowance_backend_table.withColumnRenamed(\n",
    "    \"uuid\", \"user_id\"\n",
    ")\n",
    "# to see all possible values of column status\n",
    "allowance_backend_table.select(\"status\").dropDuplicates().show()\n",
    "\n",
    "# get only the enabled rows\n",
    "allowance_backend_table = allowance_backend_table.filter(\n",
    "    allowance_backend_table.status == \"enabled\"\n",
    ")\n",
    "allowance_backend_table = allowance_backend_table.withColumn(\n",
    "    \"corrected_updated_at\",\n",
    "    spark_f.when(\n",
    "        spark_f.rlike(\n",
    "            allowance_backend_table.updated_at,\n",
    "            spark_f.lit(r\"\\d+-\\d+-\\d+T\\d+:\\d+:\\d+.\\d+Z\"),\n",
    "        ),\n",
    "        spark_f.to_timestamp(allowance_backend_table.updated_at),\n",
    "    )\n",
    "    .otherwise(spark_f.from_unixtime(allowance_backend_table.updated_at))\n",
    "    .cast(\"timestamp\"),\n",
    ")\n",
    "allowance_backend_table = allowance_backend_table.withColumn(\n",
    "    \"creation_date\",\n",
    "    spark_f.from_unixtime(allowance_backend_table.creation_date).cast(\"timestamp\"),\n",
    ")\n",
    "\n",
    "\n",
    "cleaned_backend_table = allowance_backend_table.drop(\"updated_at\").withColumnRenamed(\n",
    "    \"corrected_updated_at\", \"updated_at\"\n",
    ").alias(\"cleaned_backend_table\")\n",
    "print(cleaned_backend_table.dtypes)\n",
    "cleaned_backend_table.show(truncate=False)"
   ]
  },
  {
   "cell_type": "code",
   "execution_count": 6,
   "metadata": {},
   "outputs": [
    {
     "name": "stdout",
     "output_type": "stream",
     "text": [
      "+--------------------+-------------------+------+-------------+---------+-----------------+-----------------+\n",
      "|             user_id|    event_timestamp|amount|          day|frequency|       event_name|  last_event_name|\n",
      "+--------------------+-------------------+------+-------------+---------+-----------------+-----------------+\n",
      "|38f8d838-ea08-4fd...|2024-11-28 07:10:16|    20|     saturday|   weekly|allowance.created|allowance.created|\n",
      "|113d8189-3ce0-47b...|2024-09-21 17:02:11|    20|    first_day|  monthly| allowance.edited| allowance.edited|\n",
      "|8c212fdf-895b-4d3...|2024-08-10 07:21:42|    15|       sunday|   weekly| allowance.edited| allowance.edited|\n",
      "|138a678d-b0eb-46a...|2024-09-07 08:14:12|     4|       monday| biweekly|allowance.created|allowance.created|\n",
      "|03bc2115-7d48-4be...|2024-08-08 08:12:00|    10|       friday|   weekly| allowance.edited| allowance.edited|\n",
      "|e48bb548-a87a-406...|2024-11-10 07:28:22|     5|    first_day|  monthly| allowance.edited| allowance.edited|\n",
      "|9af3c140-86b0-403...|2024-10-19 05:03:41|    10|    wednesday| biweekly|allowance.created|allowance.created|\n",
      "|62023832-c468-45f...|2024-11-15 09:12:13|    20|       sunday|   weekly| allowance.edited| allowance.edited|\n",
      "|61609771-d5b0-46d...|2024-10-22 13:59:37|    10|       friday|   weekly|allowance.created|allowance.created|\n",
      "|804517cc-bf10-464...|2024-09-10 06:08:11|    20|fifteenth_day|  monthly|allowance.created|allowance.created|\n",
      "|4e86cb31-1384-49c...|2024-10-27 15:11:53|     2|       monday| biweekly|allowance.created|allowance.created|\n",
      "|d0287dea-599e-44c...|2024-11-10 07:17:44|     5|    first_day|  monthly| allowance.edited| allowance.edited|\n",
      "|2f92c80d-687a-485...|2024-08-07 13:45:58|    10|     thursday|   weekly|allowance.created|allowance.created|\n",
      "|77cb5202-9e1f-463...|2024-09-19 17:34:33|     5|       sunday|   weekly|allowance.created|allowance.created|\n",
      "|9de6a60f-e75c-402...|2024-09-13 02:38:54|    10|       friday| biweekly| allowance.edited| allowance.edited|\n",
      "|957e0f46-41b7-428...|2024-09-30 16:31:56|    20|fifteenth_day|  monthly|allowance.created|allowance.created|\n",
      "|a50295d7-5c2b-41b...|2024-11-12 18:20:34|     5|       monday|   weekly|allowance.created|allowance.created|\n",
      "|c3e2b88d-75fc-449...|2024-10-15 10:03:00|     1|       monday| biweekly| allowance.edited| allowance.edited|\n",
      "|b92cf73a-c48f-4a4...|2024-12-01 10:53:07|     5|     saturday|   weekly| allowance.edited| allowance.edited|\n",
      "|a47b61f0-bd9c-4b7...|2024-10-20 17:30:33|     2|       monday| biweekly|allowance.created|allowance.created|\n",
      "+--------------------+-------------------+------+-------------+---------+-----------------+-----------------+\n",
      "only showing top 20 rows\n",
      "\n"
     ]
    }
   ],
   "source": [
    "# We have events of creation and edition, so we need to get the most recent event for each user to get\n",
    "# a snapshot of what the table allowance_backend_table should be\n",
    "from pyspark.sql.window import Window\n",
    "\n",
    "# user_window = Window.partitionBy(\"user_id\").orderBy(spark_f.desc(\"event_timestamp\"))\n",
    "\n",
    "# cleaned_events.show()\n",
    "last_event_by_user = (\n",
    "    cleaned_events.groupBy(\"user_id\").agg(\n",
    "        spark_f.max(\"event_timestamp\").alias(\"event_timestamp\")\n",
    "    )\n",
    ").alias(\"last_event_by_user\")\n",
    "\n",
    "truth_backend_table = last_event_by_user.join(\n",
    "    cleaned_events, on=[\"user_id\", \"event_timestamp\"]\n",
    ").selectExpr(\"cleaned_events.*\",\"event_name as last_event_name\")\n",
    "\n",
    "###QUALITY TEST to see if we can have more than one created event per user\n",
    "# If we have some user with more than one created event, the allowance_backend_table could have more than one row\n",
    "# per user and this code to generate the truth table would not have the real truth (only the most \n",
    "# recent created or updated allowance)\n",
    "more_than_one_allowance = (\n",
    "    cleaned_events.groupBy(\"user_id\", \"event_name\")\n",
    "    .count()\n",
    "    .filter(\"count > 1 and event_name = 'allowance.created'\")\n",
    "    .count()\n",
    ")\n",
    "assert (\n",
    "    more_than_one_allowance == 0\n",
    "), f\"we have {more_than_one_allowance} users with more than one allowance.created event\"\n",
    "\n",
    "\n",
    "###QUALITY TEST to see if we have more than one event per user\n",
    "duplicated_users = (\n",
    "    truth_backend_table.groupBy(\"user_id\").count().filter(\"count > 1\").count()\n",
    ")\n",
    "assert (\n",
    "    duplicated_users == 0\n",
    "), f\"we have {duplicated_users} users with more than one line in truth_backend_table\"\n",
    "\n",
    "# cleaned_events.filter(\"user_id = 'ea7a6ea8-ff78-4a5b-848b-9f532a7a653c'\").show(truncate=False)\n",
    "# cleaned_events.filter(\"user_id = 'e7fc3804-fb1e-416e-8788-3dd0256a7d54'\").show(truncate=False)\n",
    "truth_backend_table = truth_backend_table.withColumnRenamed(\"allowance_scheduled_frequency\", \"frequency\")\n",
    "truth_backend_table = truth_backend_table.withColumnRenamed(\"allowance_scheduled_day\", \"day\")\n",
    "truth_backend_table = truth_backend_table.withColumnRenamed(\"allowance_amount\", \"amount\")\n",
    "truth_backend_table = truth_backend_table.alias(\"truth_backend_table\")\n",
    "\n",
    "truth_backend_table.show()\n",
    "\n",
    "\n",
    "\n",
    "\n",
    "\n",
    "\n",
    "\n"
   ]
  },
  {
   "cell_type": "markdown",
   "metadata": {},
   "source": [
    "# Analysing  discrepancies between the events and the backend table "
   ]
  },
  {
   "cell_type": "code",
   "execution_count": 7,
   "metadata": {},
   "outputs": [
    {
     "name": "stdout",
     "output_type": "stream",
     "text": [
      "+--------------------+-------------------+---------+---------+----------------+-------+--------------------+\n",
      "|             user_id|      creation_date|frequency|      day|next_payment_day| status|          updated_at|\n",
      "+--------------------+-------------------+---------+---------+----------------+-------+--------------------+\n",
      "|bb950bcb-0760-417...|2024-09-20 23:53:12|   weekly|   friday|              27|enabled| 2024-09-20 23:53:12|\n",
      "|59a14e2a-27a1-4cb...|2024-11-23 18:50:05|  monthly|first_day|               1|enabled|2024-12-01 05:00:...|\n",
      "|a616b4c6-482d-4e5...|2024-11-23 18:49:36|  monthly|first_day|               1|enabled|2024-12-01 05:01:...|\n",
      "|a6ca6993-3b73-4a8...|2024-11-23 18:49:28|  monthly|first_day|               1|enabled|2024-12-01 05:01:...|\n",
      "|cd2d5904-7ca0-4d0...|2024-11-23 18:49:47|  monthly|first_day|               1|enabled| 2024-11-23 18:49:47|\n",
      "+--------------------+-------------------+---------+---------+----------------+-------+--------------------+\n",
      "\n"
     ]
    }
   ],
   "source": [
    "### Aconding to the events tables it should not be possible for a user to have more than one allowance\n",
    "more_than_one_allowances = cleaned_backend_table.groupBy('user_id').count().filter('count > 1').count()\n",
    "assert more_than_one_allowances == 0 \n",
    "\n",
    "comparisson_backend_table = cleaned_backend_table.join(truth_backend_table, on=\"user_id\", how=\"left\")\n",
    "\n",
    "### This lines of the allowance_backend_table should not exist because there are no events to support them\n",
    "# on the events table\n",
    "comparisson_backend_table.filter(\"truth_backend_table.user_id is null\").select('cleaned_backend_table.*').show()"
   ]
  },
  {
   "cell_type": "code",
   "execution_count": 8,
   "metadata": {},
   "outputs": [
    {
     "name": "stdout",
     "output_type": "stream",
     "text": [
      "Users with discrepancies in the day column:\n",
      "+------------------------------------+---------+---------+\n",
      "|user_id                             |day      |truth_day|\n",
      "+------------------------------------+---------+---------+\n",
      "|308b2b9c-d49d-4b2d-947c-5b2370da090f|first_day|sunday   |\n",
      "+------------------------------------+---------+---------+\n",
      "\n",
      "Users with discrepancies in the frequency column:\n",
      "+------------------------------------+---------+---------------+\n",
      "|user_id                             |frequency|truth_frequency|\n",
      "+------------------------------------+---------+---------------+\n",
      "|308b2b9c-d49d-4b2d-947c-5b2370da090f|monthly  |weekly         |\n",
      "+------------------------------------+---------+---------------+\n",
      "\n"
     ]
    }
   ],
   "source": [
    "print(\"Users with discrepancies in the day column:\")\n",
    "comparisson_backend_table.filter(\"truth_backend_table.day != cleaned_backend_table.day\").selectExpr(\"user_id\",\"cleaned_backend_table.day\",\"truth_backend_table.day as truth_day\").show(truncate =False)\n",
    "\n",
    "print(\"Users with discrepancies in the frequency column:\")\n",
    "comparisson_backend_table.filter(\"truth_backend_table.frequency != cleaned_backend_table.frequency\").selectExpr(\"user_id\",\"cleaned_backend_table.frequency\", \"truth_backend_table.frequency as truth_frequency\").show(truncate =False)\n",
    "\n"
   ]
  },
  {
   "cell_type": "code",
   "execution_count": 9,
   "metadata": {},
   "outputs": [],
   "source": [
    "def build_backend_truth_table(frequency, truth_function):\n",
    "    return (\n",
    "        comparisson_backend_table.filter(f\"truth_backend_table.frequency = '{frequency}'\")\n",
    "        .withColumn(\n",
    "            \"truth_next_payment_day\",\n",
    "            truth_function(\n",
    "                \"truth_backend_table.day\", \"truth_backend_table.event_timestamp\"\n",
    "            ),\n",
    "        )\n",
    "        .selectExpr(\n",
    "            \"user_id\",\n",
    "            \"cleaned_backend_table.frequency\",\n",
    "            \"cleaned_backend_table.day\",\n",
    "            \"cleaned_backend_table.creation_date\",\n",
    "            \"cleaned_backend_table.updated_at\",\n",
    "            \"cleaned_backend_table.next_payment_day\",\n",
    "            \"last_event_name\",\n",
    "            \"event_timestamp as last_event_timestamp\",\n",
    "            \"truth_next_payment_day\",\n",
    "        )\n",
    "        .withColumn(\n",
    "            \"correct\",\n",
    "            spark_f.when(\n",
    "                spark_f.col(\"truth_next_payment_day\") == spark_f.col(\"next_payment_day\"),\n",
    "                spark_f.lit(\"correct\"),\n",
    "            ).otherwise(spark_f.lit(\"wrong\")),\n",
    "        )\n",
    "        .withColumn(\n",
    "            \"diference_next_payment_day\",\n",
    "            spark_f.col(\"next_payment_day\") - spark_f.col(\"truth_next_payment_day\"),\n",
    "        )\n",
    "    )"
   ]
  },
  {
   "cell_type": "markdown",
   "metadata": {},
   "source": [
    "#### Daily allowancces"
   ]
  },
  {
   "cell_type": "code",
   "execution_count": 10,
   "metadata": {},
   "outputs": [
    {
     "data": {
      "application/vnd.plotly.v1+json": {
       "config": {
        "plotlyServerURL": "https://plot.ly"
       },
       "data": [
        {
         "alignmentgroup": "True",
         "bingroup": "x",
         "hovertemplate": "correct=%{x}<br>count=%{y}<extra></extra>",
         "legendgroup": "",
         "marker": {
          "color": "#636efa",
          "pattern": {
           "shape": ""
          }
         },
         "name": "",
         "offsetgroup": "",
         "orientation": "v",
         "showlegend": false,
         "type": "histogram",
         "x": [
          "wrong",
          "wrong",
          "correct",
          "wrong",
          "wrong",
          "wrong",
          "wrong",
          "wrong",
          "wrong",
          "wrong",
          "correct",
          "wrong",
          "wrong",
          "wrong",
          "wrong",
          "wrong",
          "wrong",
          "wrong",
          "wrong",
          "wrong",
          "wrong",
          "wrong",
          "wrong",
          "wrong",
          "wrong",
          "wrong",
          "wrong",
          "wrong",
          "wrong",
          "wrong",
          "wrong",
          "wrong",
          "wrong",
          "wrong",
          "wrong",
          "wrong",
          "wrong",
          "wrong",
          "wrong",
          "wrong",
          "wrong",
          "wrong",
          "wrong",
          "wrong"
         ],
         "xaxis": "x",
         "yaxis": "y"
        }
       ],
       "layout": {
        "barmode": "relative",
        "legend": {
         "tracegroupgap": 0
        },
        "template": {
         "data": {
          "bar": [
           {
            "error_x": {
             "color": "#2a3f5f"
            },
            "error_y": {
             "color": "#2a3f5f"
            },
            "marker": {
             "line": {
              "color": "#E5ECF6",
              "width": 0.5
             },
             "pattern": {
              "fillmode": "overlay",
              "size": 10,
              "solidity": 0.2
             }
            },
            "type": "bar"
           }
          ],
          "barpolar": [
           {
            "marker": {
             "line": {
              "color": "#E5ECF6",
              "width": 0.5
             },
             "pattern": {
              "fillmode": "overlay",
              "size": 10,
              "solidity": 0.2
             }
            },
            "type": "barpolar"
           }
          ],
          "carpet": [
           {
            "aaxis": {
             "endlinecolor": "#2a3f5f",
             "gridcolor": "white",
             "linecolor": "white",
             "minorgridcolor": "white",
             "startlinecolor": "#2a3f5f"
            },
            "baxis": {
             "endlinecolor": "#2a3f5f",
             "gridcolor": "white",
             "linecolor": "white",
             "minorgridcolor": "white",
             "startlinecolor": "#2a3f5f"
            },
            "type": "carpet"
           }
          ],
          "choropleth": [
           {
            "colorbar": {
             "outlinewidth": 0,
             "ticks": ""
            },
            "type": "choropleth"
           }
          ],
          "contour": [
           {
            "colorbar": {
             "outlinewidth": 0,
             "ticks": ""
            },
            "colorscale": [
             [
              0,
              "#0d0887"
             ],
             [
              0.1111111111111111,
              "#46039f"
             ],
             [
              0.2222222222222222,
              "#7201a8"
             ],
             [
              0.3333333333333333,
              "#9c179e"
             ],
             [
              0.4444444444444444,
              "#bd3786"
             ],
             [
              0.5555555555555556,
              "#d8576b"
             ],
             [
              0.6666666666666666,
              "#ed7953"
             ],
             [
              0.7777777777777778,
              "#fb9f3a"
             ],
             [
              0.8888888888888888,
              "#fdca26"
             ],
             [
              1,
              "#f0f921"
             ]
            ],
            "type": "contour"
           }
          ],
          "contourcarpet": [
           {
            "colorbar": {
             "outlinewidth": 0,
             "ticks": ""
            },
            "type": "contourcarpet"
           }
          ],
          "heatmap": [
           {
            "colorbar": {
             "outlinewidth": 0,
             "ticks": ""
            },
            "colorscale": [
             [
              0,
              "#0d0887"
             ],
             [
              0.1111111111111111,
              "#46039f"
             ],
             [
              0.2222222222222222,
              "#7201a8"
             ],
             [
              0.3333333333333333,
              "#9c179e"
             ],
             [
              0.4444444444444444,
              "#bd3786"
             ],
             [
              0.5555555555555556,
              "#d8576b"
             ],
             [
              0.6666666666666666,
              "#ed7953"
             ],
             [
              0.7777777777777778,
              "#fb9f3a"
             ],
             [
              0.8888888888888888,
              "#fdca26"
             ],
             [
              1,
              "#f0f921"
             ]
            ],
            "type": "heatmap"
           }
          ],
          "heatmapgl": [
           {
            "colorbar": {
             "outlinewidth": 0,
             "ticks": ""
            },
            "colorscale": [
             [
              0,
              "#0d0887"
             ],
             [
              0.1111111111111111,
              "#46039f"
             ],
             [
              0.2222222222222222,
              "#7201a8"
             ],
             [
              0.3333333333333333,
              "#9c179e"
             ],
             [
              0.4444444444444444,
              "#bd3786"
             ],
             [
              0.5555555555555556,
              "#d8576b"
             ],
             [
              0.6666666666666666,
              "#ed7953"
             ],
             [
              0.7777777777777778,
              "#fb9f3a"
             ],
             [
              0.8888888888888888,
              "#fdca26"
             ],
             [
              1,
              "#f0f921"
             ]
            ],
            "type": "heatmapgl"
           }
          ],
          "histogram": [
           {
            "marker": {
             "pattern": {
              "fillmode": "overlay",
              "size": 10,
              "solidity": 0.2
             }
            },
            "type": "histogram"
           }
          ],
          "histogram2d": [
           {
            "colorbar": {
             "outlinewidth": 0,
             "ticks": ""
            },
            "colorscale": [
             [
              0,
              "#0d0887"
             ],
             [
              0.1111111111111111,
              "#46039f"
             ],
             [
              0.2222222222222222,
              "#7201a8"
             ],
             [
              0.3333333333333333,
              "#9c179e"
             ],
             [
              0.4444444444444444,
              "#bd3786"
             ],
             [
              0.5555555555555556,
              "#d8576b"
             ],
             [
              0.6666666666666666,
              "#ed7953"
             ],
             [
              0.7777777777777778,
              "#fb9f3a"
             ],
             [
              0.8888888888888888,
              "#fdca26"
             ],
             [
              1,
              "#f0f921"
             ]
            ],
            "type": "histogram2d"
           }
          ],
          "histogram2dcontour": [
           {
            "colorbar": {
             "outlinewidth": 0,
             "ticks": ""
            },
            "colorscale": [
             [
              0,
              "#0d0887"
             ],
             [
              0.1111111111111111,
              "#46039f"
             ],
             [
              0.2222222222222222,
              "#7201a8"
             ],
             [
              0.3333333333333333,
              "#9c179e"
             ],
             [
              0.4444444444444444,
              "#bd3786"
             ],
             [
              0.5555555555555556,
              "#d8576b"
             ],
             [
              0.6666666666666666,
              "#ed7953"
             ],
             [
              0.7777777777777778,
              "#fb9f3a"
             ],
             [
              0.8888888888888888,
              "#fdca26"
             ],
             [
              1,
              "#f0f921"
             ]
            ],
            "type": "histogram2dcontour"
           }
          ],
          "mesh3d": [
           {
            "colorbar": {
             "outlinewidth": 0,
             "ticks": ""
            },
            "type": "mesh3d"
           }
          ],
          "parcoords": [
           {
            "line": {
             "colorbar": {
              "outlinewidth": 0,
              "ticks": ""
             }
            },
            "type": "parcoords"
           }
          ],
          "pie": [
           {
            "automargin": true,
            "type": "pie"
           }
          ],
          "scatter": [
           {
            "fillpattern": {
             "fillmode": "overlay",
             "size": 10,
             "solidity": 0.2
            },
            "type": "scatter"
           }
          ],
          "scatter3d": [
           {
            "line": {
             "colorbar": {
              "outlinewidth": 0,
              "ticks": ""
             }
            },
            "marker": {
             "colorbar": {
              "outlinewidth": 0,
              "ticks": ""
             }
            },
            "type": "scatter3d"
           }
          ],
          "scattercarpet": [
           {
            "marker": {
             "colorbar": {
              "outlinewidth": 0,
              "ticks": ""
             }
            },
            "type": "scattercarpet"
           }
          ],
          "scattergeo": [
           {
            "marker": {
             "colorbar": {
              "outlinewidth": 0,
              "ticks": ""
             }
            },
            "type": "scattergeo"
           }
          ],
          "scattergl": [
           {
            "marker": {
             "colorbar": {
              "outlinewidth": 0,
              "ticks": ""
             }
            },
            "type": "scattergl"
           }
          ],
          "scattermapbox": [
           {
            "marker": {
             "colorbar": {
              "outlinewidth": 0,
              "ticks": ""
             }
            },
            "type": "scattermapbox"
           }
          ],
          "scatterpolar": [
           {
            "marker": {
             "colorbar": {
              "outlinewidth": 0,
              "ticks": ""
             }
            },
            "type": "scatterpolar"
           }
          ],
          "scatterpolargl": [
           {
            "marker": {
             "colorbar": {
              "outlinewidth": 0,
              "ticks": ""
             }
            },
            "type": "scatterpolargl"
           }
          ],
          "scatterternary": [
           {
            "marker": {
             "colorbar": {
              "outlinewidth": 0,
              "ticks": ""
             }
            },
            "type": "scatterternary"
           }
          ],
          "surface": [
           {
            "colorbar": {
             "outlinewidth": 0,
             "ticks": ""
            },
            "colorscale": [
             [
              0,
              "#0d0887"
             ],
             [
              0.1111111111111111,
              "#46039f"
             ],
             [
              0.2222222222222222,
              "#7201a8"
             ],
             [
              0.3333333333333333,
              "#9c179e"
             ],
             [
              0.4444444444444444,
              "#bd3786"
             ],
             [
              0.5555555555555556,
              "#d8576b"
             ],
             [
              0.6666666666666666,
              "#ed7953"
             ],
             [
              0.7777777777777778,
              "#fb9f3a"
             ],
             [
              0.8888888888888888,
              "#fdca26"
             ],
             [
              1,
              "#f0f921"
             ]
            ],
            "type": "surface"
           }
          ],
          "table": [
           {
            "cells": {
             "fill": {
              "color": "#EBF0F8"
             },
             "line": {
              "color": "white"
             }
            },
            "header": {
             "fill": {
              "color": "#C8D4E3"
             },
             "line": {
              "color": "white"
             }
            },
            "type": "table"
           }
          ]
         },
         "layout": {
          "annotationdefaults": {
           "arrowcolor": "#2a3f5f",
           "arrowhead": 0,
           "arrowwidth": 1
          },
          "autotypenumbers": "strict",
          "coloraxis": {
           "colorbar": {
            "outlinewidth": 0,
            "ticks": ""
           }
          },
          "colorscale": {
           "diverging": [
            [
             0,
             "#8e0152"
            ],
            [
             0.1,
             "#c51b7d"
            ],
            [
             0.2,
             "#de77ae"
            ],
            [
             0.3,
             "#f1b6da"
            ],
            [
             0.4,
             "#fde0ef"
            ],
            [
             0.5,
             "#f7f7f7"
            ],
            [
             0.6,
             "#e6f5d0"
            ],
            [
             0.7,
             "#b8e186"
            ],
            [
             0.8,
             "#7fbc41"
            ],
            [
             0.9,
             "#4d9221"
            ],
            [
             1,
             "#276419"
            ]
           ],
           "sequential": [
            [
             0,
             "#0d0887"
            ],
            [
             0.1111111111111111,
             "#46039f"
            ],
            [
             0.2222222222222222,
             "#7201a8"
            ],
            [
             0.3333333333333333,
             "#9c179e"
            ],
            [
             0.4444444444444444,
             "#bd3786"
            ],
            [
             0.5555555555555556,
             "#d8576b"
            ],
            [
             0.6666666666666666,
             "#ed7953"
            ],
            [
             0.7777777777777778,
             "#fb9f3a"
            ],
            [
             0.8888888888888888,
             "#fdca26"
            ],
            [
             1,
             "#f0f921"
            ]
           ],
           "sequentialminus": [
            [
             0,
             "#0d0887"
            ],
            [
             0.1111111111111111,
             "#46039f"
            ],
            [
             0.2222222222222222,
             "#7201a8"
            ],
            [
             0.3333333333333333,
             "#9c179e"
            ],
            [
             0.4444444444444444,
             "#bd3786"
            ],
            [
             0.5555555555555556,
             "#d8576b"
            ],
            [
             0.6666666666666666,
             "#ed7953"
            ],
            [
             0.7777777777777778,
             "#fb9f3a"
            ],
            [
             0.8888888888888888,
             "#fdca26"
            ],
            [
             1,
             "#f0f921"
            ]
           ]
          },
          "colorway": [
           "#636efa",
           "#EF553B",
           "#00cc96",
           "#ab63fa",
           "#FFA15A",
           "#19d3f3",
           "#FF6692",
           "#B6E880",
           "#FF97FF",
           "#FECB52"
          ],
          "font": {
           "color": "#2a3f5f"
          },
          "geo": {
           "bgcolor": "white",
           "lakecolor": "white",
           "landcolor": "#E5ECF6",
           "showlakes": true,
           "showland": true,
           "subunitcolor": "white"
          },
          "hoverlabel": {
           "align": "left"
          },
          "hovermode": "closest",
          "mapbox": {
           "style": "light"
          },
          "paper_bgcolor": "white",
          "plot_bgcolor": "#E5ECF6",
          "polar": {
           "angularaxis": {
            "gridcolor": "white",
            "linecolor": "white",
            "ticks": ""
           },
           "bgcolor": "#E5ECF6",
           "radialaxis": {
            "gridcolor": "white",
            "linecolor": "white",
            "ticks": ""
           }
          },
          "scene": {
           "xaxis": {
            "backgroundcolor": "#E5ECF6",
            "gridcolor": "white",
            "gridwidth": 2,
            "linecolor": "white",
            "showbackground": true,
            "ticks": "",
            "zerolinecolor": "white"
           },
           "yaxis": {
            "backgroundcolor": "#E5ECF6",
            "gridcolor": "white",
            "gridwidth": 2,
            "linecolor": "white",
            "showbackground": true,
            "ticks": "",
            "zerolinecolor": "white"
           },
           "zaxis": {
            "backgroundcolor": "#E5ECF6",
            "gridcolor": "white",
            "gridwidth": 2,
            "linecolor": "white",
            "showbackground": true,
            "ticks": "",
            "zerolinecolor": "white"
           }
          },
          "shapedefaults": {
           "line": {
            "color": "#2a3f5f"
           }
          },
          "ternary": {
           "aaxis": {
            "gridcolor": "white",
            "linecolor": "white",
            "ticks": ""
           },
           "baxis": {
            "gridcolor": "white",
            "linecolor": "white",
            "ticks": ""
           },
           "bgcolor": "#E5ECF6",
           "caxis": {
            "gridcolor": "white",
            "linecolor": "white",
            "ticks": ""
           }
          },
          "title": {
           "x": 0.05
          },
          "xaxis": {
           "automargin": true,
           "gridcolor": "white",
           "linecolor": "white",
           "ticks": "",
           "title": {
            "standoff": 15
           },
           "zerolinecolor": "white",
           "zerolinewidth": 2
          },
          "yaxis": {
           "automargin": true,
           "gridcolor": "white",
           "linecolor": "white",
           "ticks": "",
           "title": {
            "standoff": 15
           },
           "zerolinecolor": "white",
           "zerolinewidth": 2
          }
         }
        },
        "title": {
         "text": "Correctness of the next_payment_day for daily frequency"
        },
        "xaxis": {
         "anchor": "y",
         "domain": [
          0,
          1
         ],
         "title": {
          "text": "correct"
         }
        },
        "yaxis": {
         "anchor": "x",
         "domain": [
          0,
          1
         ],
         "title": {
          "text": "count"
         }
        }
       }
      }
     },
     "metadata": {},
     "output_type": "display_data"
    },
    {
     "data": {
      "application/vnd.plotly.v1+json": {
       "config": {
        "plotlyServerURL": "https://plot.ly"
       },
       "data": [
        {
         "direction": "clockwise",
         "domain": {
          "x": [
           0,
           1
          ],
          "y": [
           0,
           1
          ]
         },
         "hovertemplate": "correct=%{label}<br>count=%{value}<extra></extra>",
         "labels": [
          "correct",
          "wrong"
         ],
         "legendgroup": "",
         "name": "",
         "showlegend": true,
         "sort": false,
         "type": "pie",
         "values": [
          2,
          42
         ]
        }
       ],
       "layout": {
        "legend": {
         "tracegroupgap": 0
        },
        "template": {
         "data": {
          "bar": [
           {
            "error_x": {
             "color": "#2a3f5f"
            },
            "error_y": {
             "color": "#2a3f5f"
            },
            "marker": {
             "line": {
              "color": "#E5ECF6",
              "width": 0.5
             },
             "pattern": {
              "fillmode": "overlay",
              "size": 10,
              "solidity": 0.2
             }
            },
            "type": "bar"
           }
          ],
          "barpolar": [
           {
            "marker": {
             "line": {
              "color": "#E5ECF6",
              "width": 0.5
             },
             "pattern": {
              "fillmode": "overlay",
              "size": 10,
              "solidity": 0.2
             }
            },
            "type": "barpolar"
           }
          ],
          "carpet": [
           {
            "aaxis": {
             "endlinecolor": "#2a3f5f",
             "gridcolor": "white",
             "linecolor": "white",
             "minorgridcolor": "white",
             "startlinecolor": "#2a3f5f"
            },
            "baxis": {
             "endlinecolor": "#2a3f5f",
             "gridcolor": "white",
             "linecolor": "white",
             "minorgridcolor": "white",
             "startlinecolor": "#2a3f5f"
            },
            "type": "carpet"
           }
          ],
          "choropleth": [
           {
            "colorbar": {
             "outlinewidth": 0,
             "ticks": ""
            },
            "type": "choropleth"
           }
          ],
          "contour": [
           {
            "colorbar": {
             "outlinewidth": 0,
             "ticks": ""
            },
            "colorscale": [
             [
              0,
              "#0d0887"
             ],
             [
              0.1111111111111111,
              "#46039f"
             ],
             [
              0.2222222222222222,
              "#7201a8"
             ],
             [
              0.3333333333333333,
              "#9c179e"
             ],
             [
              0.4444444444444444,
              "#bd3786"
             ],
             [
              0.5555555555555556,
              "#d8576b"
             ],
             [
              0.6666666666666666,
              "#ed7953"
             ],
             [
              0.7777777777777778,
              "#fb9f3a"
             ],
             [
              0.8888888888888888,
              "#fdca26"
             ],
             [
              1,
              "#f0f921"
             ]
            ],
            "type": "contour"
           }
          ],
          "contourcarpet": [
           {
            "colorbar": {
             "outlinewidth": 0,
             "ticks": ""
            },
            "type": "contourcarpet"
           }
          ],
          "heatmap": [
           {
            "colorbar": {
             "outlinewidth": 0,
             "ticks": ""
            },
            "colorscale": [
             [
              0,
              "#0d0887"
             ],
             [
              0.1111111111111111,
              "#46039f"
             ],
             [
              0.2222222222222222,
              "#7201a8"
             ],
             [
              0.3333333333333333,
              "#9c179e"
             ],
             [
              0.4444444444444444,
              "#bd3786"
             ],
             [
              0.5555555555555556,
              "#d8576b"
             ],
             [
              0.6666666666666666,
              "#ed7953"
             ],
             [
              0.7777777777777778,
              "#fb9f3a"
             ],
             [
              0.8888888888888888,
              "#fdca26"
             ],
             [
              1,
              "#f0f921"
             ]
            ],
            "type": "heatmap"
           }
          ],
          "heatmapgl": [
           {
            "colorbar": {
             "outlinewidth": 0,
             "ticks": ""
            },
            "colorscale": [
             [
              0,
              "#0d0887"
             ],
             [
              0.1111111111111111,
              "#46039f"
             ],
             [
              0.2222222222222222,
              "#7201a8"
             ],
             [
              0.3333333333333333,
              "#9c179e"
             ],
             [
              0.4444444444444444,
              "#bd3786"
             ],
             [
              0.5555555555555556,
              "#d8576b"
             ],
             [
              0.6666666666666666,
              "#ed7953"
             ],
             [
              0.7777777777777778,
              "#fb9f3a"
             ],
             [
              0.8888888888888888,
              "#fdca26"
             ],
             [
              1,
              "#f0f921"
             ]
            ],
            "type": "heatmapgl"
           }
          ],
          "histogram": [
           {
            "marker": {
             "pattern": {
              "fillmode": "overlay",
              "size": 10,
              "solidity": 0.2
             }
            },
            "type": "histogram"
           }
          ],
          "histogram2d": [
           {
            "colorbar": {
             "outlinewidth": 0,
             "ticks": ""
            },
            "colorscale": [
             [
              0,
              "#0d0887"
             ],
             [
              0.1111111111111111,
              "#46039f"
             ],
             [
              0.2222222222222222,
              "#7201a8"
             ],
             [
              0.3333333333333333,
              "#9c179e"
             ],
             [
              0.4444444444444444,
              "#bd3786"
             ],
             [
              0.5555555555555556,
              "#d8576b"
             ],
             [
              0.6666666666666666,
              "#ed7953"
             ],
             [
              0.7777777777777778,
              "#fb9f3a"
             ],
             [
              0.8888888888888888,
              "#fdca26"
             ],
             [
              1,
              "#f0f921"
             ]
            ],
            "type": "histogram2d"
           }
          ],
          "histogram2dcontour": [
           {
            "colorbar": {
             "outlinewidth": 0,
             "ticks": ""
            },
            "colorscale": [
             [
              0,
              "#0d0887"
             ],
             [
              0.1111111111111111,
              "#46039f"
             ],
             [
              0.2222222222222222,
              "#7201a8"
             ],
             [
              0.3333333333333333,
              "#9c179e"
             ],
             [
              0.4444444444444444,
              "#bd3786"
             ],
             [
              0.5555555555555556,
              "#d8576b"
             ],
             [
              0.6666666666666666,
              "#ed7953"
             ],
             [
              0.7777777777777778,
              "#fb9f3a"
             ],
             [
              0.8888888888888888,
              "#fdca26"
             ],
             [
              1,
              "#f0f921"
             ]
            ],
            "type": "histogram2dcontour"
           }
          ],
          "mesh3d": [
           {
            "colorbar": {
             "outlinewidth": 0,
             "ticks": ""
            },
            "type": "mesh3d"
           }
          ],
          "parcoords": [
           {
            "line": {
             "colorbar": {
              "outlinewidth": 0,
              "ticks": ""
             }
            },
            "type": "parcoords"
           }
          ],
          "pie": [
           {
            "automargin": true,
            "type": "pie"
           }
          ],
          "scatter": [
           {
            "fillpattern": {
             "fillmode": "overlay",
             "size": 10,
             "solidity": 0.2
            },
            "type": "scatter"
           }
          ],
          "scatter3d": [
           {
            "line": {
             "colorbar": {
              "outlinewidth": 0,
              "ticks": ""
             }
            },
            "marker": {
             "colorbar": {
              "outlinewidth": 0,
              "ticks": ""
             }
            },
            "type": "scatter3d"
           }
          ],
          "scattercarpet": [
           {
            "marker": {
             "colorbar": {
              "outlinewidth": 0,
              "ticks": ""
             }
            },
            "type": "scattercarpet"
           }
          ],
          "scattergeo": [
           {
            "marker": {
             "colorbar": {
              "outlinewidth": 0,
              "ticks": ""
             }
            },
            "type": "scattergeo"
           }
          ],
          "scattergl": [
           {
            "marker": {
             "colorbar": {
              "outlinewidth": 0,
              "ticks": ""
             }
            },
            "type": "scattergl"
           }
          ],
          "scattermapbox": [
           {
            "marker": {
             "colorbar": {
              "outlinewidth": 0,
              "ticks": ""
             }
            },
            "type": "scattermapbox"
           }
          ],
          "scatterpolar": [
           {
            "marker": {
             "colorbar": {
              "outlinewidth": 0,
              "ticks": ""
             }
            },
            "type": "scatterpolar"
           }
          ],
          "scatterpolargl": [
           {
            "marker": {
             "colorbar": {
              "outlinewidth": 0,
              "ticks": ""
             }
            },
            "type": "scatterpolargl"
           }
          ],
          "scatterternary": [
           {
            "marker": {
             "colorbar": {
              "outlinewidth": 0,
              "ticks": ""
             }
            },
            "type": "scatterternary"
           }
          ],
          "surface": [
           {
            "colorbar": {
             "outlinewidth": 0,
             "ticks": ""
            },
            "colorscale": [
             [
              0,
              "#0d0887"
             ],
             [
              0.1111111111111111,
              "#46039f"
             ],
             [
              0.2222222222222222,
              "#7201a8"
             ],
             [
              0.3333333333333333,
              "#9c179e"
             ],
             [
              0.4444444444444444,
              "#bd3786"
             ],
             [
              0.5555555555555556,
              "#d8576b"
             ],
             [
              0.6666666666666666,
              "#ed7953"
             ],
             [
              0.7777777777777778,
              "#fb9f3a"
             ],
             [
              0.8888888888888888,
              "#fdca26"
             ],
             [
              1,
              "#f0f921"
             ]
            ],
            "type": "surface"
           }
          ],
          "table": [
           {
            "cells": {
             "fill": {
              "color": "#EBF0F8"
             },
             "line": {
              "color": "white"
             }
            },
            "header": {
             "fill": {
              "color": "#C8D4E3"
             },
             "line": {
              "color": "white"
             }
            },
            "type": "table"
           }
          ]
         },
         "layout": {
          "annotationdefaults": {
           "arrowcolor": "#2a3f5f",
           "arrowhead": 0,
           "arrowwidth": 1
          },
          "autotypenumbers": "strict",
          "coloraxis": {
           "colorbar": {
            "outlinewidth": 0,
            "ticks": ""
           }
          },
          "colorscale": {
           "diverging": [
            [
             0,
             "#8e0152"
            ],
            [
             0.1,
             "#c51b7d"
            ],
            [
             0.2,
             "#de77ae"
            ],
            [
             0.3,
             "#f1b6da"
            ],
            [
             0.4,
             "#fde0ef"
            ],
            [
             0.5,
             "#f7f7f7"
            ],
            [
             0.6,
             "#e6f5d0"
            ],
            [
             0.7,
             "#b8e186"
            ],
            [
             0.8,
             "#7fbc41"
            ],
            [
             0.9,
             "#4d9221"
            ],
            [
             1,
             "#276419"
            ]
           ],
           "sequential": [
            [
             0,
             "#0d0887"
            ],
            [
             0.1111111111111111,
             "#46039f"
            ],
            [
             0.2222222222222222,
             "#7201a8"
            ],
            [
             0.3333333333333333,
             "#9c179e"
            ],
            [
             0.4444444444444444,
             "#bd3786"
            ],
            [
             0.5555555555555556,
             "#d8576b"
            ],
            [
             0.6666666666666666,
             "#ed7953"
            ],
            [
             0.7777777777777778,
             "#fb9f3a"
            ],
            [
             0.8888888888888888,
             "#fdca26"
            ],
            [
             1,
             "#f0f921"
            ]
           ],
           "sequentialminus": [
            [
             0,
             "#0d0887"
            ],
            [
             0.1111111111111111,
             "#46039f"
            ],
            [
             0.2222222222222222,
             "#7201a8"
            ],
            [
             0.3333333333333333,
             "#9c179e"
            ],
            [
             0.4444444444444444,
             "#bd3786"
            ],
            [
             0.5555555555555556,
             "#d8576b"
            ],
            [
             0.6666666666666666,
             "#ed7953"
            ],
            [
             0.7777777777777778,
             "#fb9f3a"
            ],
            [
             0.8888888888888888,
             "#fdca26"
            ],
            [
             1,
             "#f0f921"
            ]
           ]
          },
          "colorway": [
           "#636efa",
           "#EF553B",
           "#00cc96",
           "#ab63fa",
           "#FFA15A",
           "#19d3f3",
           "#FF6692",
           "#B6E880",
           "#FF97FF",
           "#FECB52"
          ],
          "font": {
           "color": "#2a3f5f"
          },
          "geo": {
           "bgcolor": "white",
           "lakecolor": "white",
           "landcolor": "#E5ECF6",
           "showlakes": true,
           "showland": true,
           "subunitcolor": "white"
          },
          "hoverlabel": {
           "align": "left"
          },
          "hovermode": "closest",
          "mapbox": {
           "style": "light"
          },
          "paper_bgcolor": "white",
          "plot_bgcolor": "#E5ECF6",
          "polar": {
           "angularaxis": {
            "gridcolor": "white",
            "linecolor": "white",
            "ticks": ""
           },
           "bgcolor": "#E5ECF6",
           "radialaxis": {
            "gridcolor": "white",
            "linecolor": "white",
            "ticks": ""
           }
          },
          "scene": {
           "xaxis": {
            "backgroundcolor": "#E5ECF6",
            "gridcolor": "white",
            "gridwidth": 2,
            "linecolor": "white",
            "showbackground": true,
            "ticks": "",
            "zerolinecolor": "white"
           },
           "yaxis": {
            "backgroundcolor": "#E5ECF6",
            "gridcolor": "white",
            "gridwidth": 2,
            "linecolor": "white",
            "showbackground": true,
            "ticks": "",
            "zerolinecolor": "white"
           },
           "zaxis": {
            "backgroundcolor": "#E5ECF6",
            "gridcolor": "white",
            "gridwidth": 2,
            "linecolor": "white",
            "showbackground": true,
            "ticks": "",
            "zerolinecolor": "white"
           }
          },
          "shapedefaults": {
           "line": {
            "color": "#2a3f5f"
           }
          },
          "ternary": {
           "aaxis": {
            "gridcolor": "white",
            "linecolor": "white",
            "ticks": ""
           },
           "baxis": {
            "gridcolor": "white",
            "linecolor": "white",
            "ticks": ""
           },
           "bgcolor": "#E5ECF6",
           "caxis": {
            "gridcolor": "white",
            "linecolor": "white",
            "ticks": ""
           }
          },
          "title": {
           "x": 0.05
          },
          "xaxis": {
           "automargin": true,
           "gridcolor": "white",
           "linecolor": "white",
           "ticks": "",
           "title": {
            "standoff": 15
           },
           "zerolinecolor": "white",
           "zerolinewidth": 2
          },
          "yaxis": {
           "automargin": true,
           "gridcolor": "white",
           "linecolor": "white",
           "ticks": "",
           "title": {
            "standoff": 15
           },
           "zerolinecolor": "white",
           "zerolinewidth": 2
          }
         }
        },
        "title": {
         "text": "proportion"
        }
       }
      }
     },
     "metadata": {},
     "output_type": "display_data"
    }
   ],
   "source": [
    "## daily discrepancies\n",
    "\n",
    "\n",
    "def next_payment_day_daily_frequency(day, event_timestamp):\n",
    "    return spark_f.day(spark_f.date_add(spark_f.lit(CURRENT_DAY), 1))\n",
    "\n",
    "\n",
    "backend_table_daily_truth = build_backend_truth_table(\"daily\", next_payment_day_daily_frequency)\n",
    "\n",
    "pd_comparisson_backend = backend_table_daily_truth.toPandas()\n",
    "histogram(pd_comparisson_backend, \"correct\", \"Correctness of the next_payment_day for daily frequency\")\n",
    "pie_chart(pd_comparisson_backend, \"correct\", \"proportion\", category_orders={\"correct\": [\"correct\", \"wrong\"]})"
   ]
  },
  {
   "cell_type": "markdown",
   "metadata": {},
   "source": [
    "#### monthly"
   ]
  },
  {
   "cell_type": "code",
   "execution_count": 11,
   "metadata": {},
   "outputs": [
    {
     "name": "stdout",
     "output_type": "stream",
     "text": [
      "+-------------+\n",
      "|          day|\n",
      "+-------------+\n",
      "|fifteenth_day|\n",
      "|    first_day|\n",
      "+-------------+\n",
      "\n"
     ]
    }
   ],
   "source": [
    "comparisson_backend_table.filter(\"truth_backend_table.frequency = 'monthly'\").select(\"cleaned_backend_table.day\").drop_duplicates().show()"
   ]
  },
  {
   "cell_type": "code",
   "execution_count": 12,
   "metadata": {},
   "outputs": [
    {
     "name": "stdout",
     "output_type": "stream",
     "text": [
      "+--------------------+-------------------+---------+-------------+----------------+-------+--------------------+-------------------+------+-------------+---------+-----------------+-----------------+\n",
      "|             user_id|      creation_date|frequency|          day|next_payment_day| status|          updated_at|    event_timestamp|amount|          day|frequency|       event_name|  last_event_name|\n",
      "+--------------------+-------------------+---------+-------------+----------------+-------+--------------------+-------------------+------+-------------+---------+-----------------+-----------------+\n",
      "|0e4ede31-e71b-4c8...|2024-11-13 23:15:30|  monthly|    first_day|               1|enabled|2024-12-01 05:00:...|2024-11-13 18:15:30|    40|    first_day|  monthly|allowance.created|allowance.created|\n",
      "|e7f3a4c3-443d-476...|2024-11-17 13:49:44|  monthly|    first_day|               1|enabled|2024-12-01 05:01:...|2024-11-17 08:49:44|     8|    first_day|  monthly|allowance.created|allowance.created|\n",
      "|5310cba3-e1b2-447...|2024-11-02 15:22:57|  monthly|    first_day|               1|enabled| 2024-11-02 15:22:57|2024-11-02 11:22:57|    30|    first_day|  monthly|allowance.created|allowance.created|\n",
      "|8e5b2fa4-03f2-401...|2024-09-14 22:39:37|  monthly|    first_day|               1|enabled| 2024-09-14 22:39:37|2024-09-14 18:39:37|     1|    first_day|  monthly|allowance.created|allowance.created|\n",
      "|b8125cbd-87b6-41f...|2024-11-16 00:53:22|  monthly|    first_day|               1|enabled| 2024-11-16 00:53:22|2024-11-15 19:53:22|     5|    first_day|  monthly|allowance.created|allowance.created|\n",
      "|573c8fff-fd53-437...|2024-11-19 10:58:47|  monthly|    first_day|               1|enabled|2024-12-01 05:00:...|2024-11-23 20:59:26|     5|    first_day|  monthly| allowance.edited| allowance.edited|\n",
      "|e4f5cb2f-d5bc-4a4...|2024-09-13 15:13:09|  monthly|fifteenth_day|              15|enabled|2024-11-15 05:01:...|2024-09-13 11:13:55|    20|fifteenth_day|  monthly| allowance.edited| allowance.edited|\n",
      "|e4bb1f04-51cb-4ec...|2024-09-16 13:44:19|  monthly|    first_day|               1|enabled| 2024-09-16 13:44:19|2024-09-16 09:44:19|    20|    first_day|  monthly|allowance.created|allowance.created|\n",
      "|6da398ad-079d-49b...|2024-08-26 05:10:29|  monthly|fifteenth_day|              15|enabled| 2024-08-26 05:10:29|2024-08-26 01:10:30|   100|fifteenth_day|  monthly|allowance.created|allowance.created|\n",
      "|1f96bd51-04fe-4aa...|2024-10-31 03:33:38|  monthly|    first_day|               1|enabled| 2024-10-31 03:33:38|2024-10-30 23:33:38|    30|    first_day|  monthly|allowance.created|allowance.created|\n",
      "|990bbac2-b957-428...|2024-09-29 17:24:00|  monthly|    first_day|               1|enabled|2024-09-29 17:24:...|2024-09-29 13:24:54|    50|    first_day|  monthly| allowance.edited| allowance.edited|\n",
      "|40ce49ee-f267-433...|2024-11-21 20:04:02|  monthly|    first_day|               1|enabled|2024-11-21 20:07:...|2024-11-21 15:07:54|     5|    first_day|  monthly| allowance.edited| allowance.edited|\n",
      "|51fc1c62-4a48-4f6...|2024-09-30 14:22:36|  monthly|    first_day|               1|enabled|2024-12-01 05:00:...|2024-10-10 09:28:44|    10|    first_day|  monthly| allowance.edited| allowance.edited|\n",
      "|d0287dea-599e-44c...|2024-10-28 22:25:46|  monthly|    first_day|               1|enabled|2024-12-01 05:01:...|2024-11-10 07:17:44|     5|    first_day|  monthly| allowance.edited| allowance.edited|\n",
      "|958b0105-d0b5-492...|2024-11-29 15:01:27|  monthly|fifteenth_day|              15|enabled| 2024-11-29 15:01:27|2024-11-29 10:01:27|    20|fifteenth_day|  monthly|allowance.created|allowance.created|\n",
      "|30f4e25e-3e37-462...|2024-08-28 06:51:49|  monthly|fifteenth_day|              15|enabled|2024-10-15 05:00:...|2024-08-28 02:51:50|    10|fifteenth_day|  monthly|allowance.created|allowance.created|\n",
      "|79d83e84-e757-484...|2024-09-13 15:27:37|  monthly|    first_day|               1|enabled|2024-12-01 05:00:...|2024-09-13 11:27:36|    20|    first_day|  monthly|allowance.created|allowance.created|\n",
      "|a42d402c-0028-49b...|2024-08-24 15:44:29|  monthly|    first_day|               1|enabled|2024-12-01 05:01:...|2024-08-24 11:44:29|    35|    first_day|  monthly|allowance.created|allowance.created|\n",
      "|5b4618cc-c2e2-431...|2024-11-27 21:23:55|  monthly|fifteenth_day|              15|enabled| 2024-11-27 21:23:55|2024-11-27 16:23:55|    20|fifteenth_day|  monthly|allowance.created|allowance.created|\n",
      "|4c99d3ff-b68f-43e...|2024-09-06 17:30:07|  monthly|fifteenth_day|              15|enabled|2024-11-15 05:00:...|2024-09-06 17:57:10|    10|fifteenth_day|  monthly| allowance.edited| allowance.edited|\n",
      "+--------------------+-------------------+---------+-------------+----------------+-------+--------------------+-------------------+------+-------------+---------+-----------------+-----------------+\n",
      "only showing top 20 rows\n",
      "\n"
     ]
    },
    {
     "data": {
      "application/vnd.plotly.v1+json": {
       "config": {
        "plotlyServerURL": "https://plot.ly"
       },
       "data": [
        {
         "alignmentgroup": "True",
         "bingroup": "x",
         "hovertemplate": "correct=%{x}<br>count=%{y}<extra></extra>",
         "legendgroup": "",
         "marker": {
          "color": "#636efa",
          "pattern": {
           "shape": ""
          }
         },
         "name": "",
         "offsetgroup": "",
         "orientation": "v",
         "showlegend": false,
         "type": "histogram",
         "x": [
          "correct",
          "correct",
          "correct",
          "correct",
          "correct",
          "correct",
          "correct",
          "correct",
          "correct",
          "correct",
          "correct",
          "correct",
          "correct",
          "correct",
          "correct",
          "correct",
          "correct",
          "correct",
          "correct",
          "correct",
          "correct",
          "correct",
          "correct",
          "correct",
          "correct",
          "correct",
          "correct",
          "correct",
          "correct",
          "correct",
          "correct",
          "correct",
          "correct",
          "correct",
          "correct",
          "correct",
          "correct",
          "correct",
          "correct",
          "correct",
          "correct",
          "correct",
          "correct",
          "correct",
          "correct",
          "correct",
          "correct",
          "correct",
          "correct",
          "correct",
          "correct",
          "correct",
          "correct",
          "correct",
          "correct",
          "correct",
          "correct",
          "correct",
          "correct",
          "correct",
          "correct",
          "correct",
          "correct",
          "correct",
          "correct",
          "correct",
          "correct",
          "correct",
          "correct",
          "correct",
          "correct",
          "correct",
          "correct",
          "correct",
          "correct",
          "correct",
          "correct",
          "correct",
          "correct",
          "correct",
          "correct",
          "correct",
          "correct",
          "correct",
          "correct",
          "correct",
          "correct",
          "correct",
          "correct",
          "correct",
          "correct",
          "correct",
          "correct",
          "correct",
          "correct",
          "correct",
          "correct",
          "correct",
          "correct",
          "correct",
          "correct",
          "correct",
          "correct",
          "correct",
          "correct",
          "correct",
          "correct",
          "correct",
          "correct",
          "correct",
          "correct",
          "correct",
          "correct",
          "correct",
          "correct",
          "correct",
          "correct",
          "correct",
          "correct",
          "correct",
          "correct",
          "correct",
          "correct",
          "correct",
          "correct",
          "correct",
          "correct",
          "correct",
          "correct",
          "correct",
          "correct",
          "correct",
          "correct",
          "correct",
          "correct",
          "correct",
          "correct",
          "correct",
          "correct",
          "correct",
          "correct",
          "correct",
          "correct",
          "correct",
          "correct",
          "correct",
          "correct",
          "correct",
          "correct",
          "correct",
          "correct",
          "correct",
          "correct",
          "correct",
          "correct",
          "correct",
          "correct",
          "correct",
          "correct",
          "correct",
          "correct",
          "correct",
          "correct",
          "correct",
          "correct",
          "correct",
          "correct",
          "correct",
          "correct",
          "correct",
          "correct",
          "correct",
          "correct",
          "correct",
          "correct",
          "correct",
          "correct",
          "correct",
          "correct",
          "correct",
          "correct",
          "correct",
          "correct",
          "correct",
          "correct",
          "correct",
          "correct",
          "correct",
          "correct",
          "correct",
          "correct",
          "correct",
          "correct",
          "correct",
          "correct",
          "correct",
          "correct",
          "correct",
          "correct",
          "correct",
          "correct",
          "correct",
          "correct",
          "correct",
          "correct",
          "correct",
          "correct",
          "correct",
          "correct",
          "correct",
          "correct",
          "correct",
          "correct",
          "correct",
          "correct",
          "correct",
          "correct",
          "correct",
          "correct",
          "correct",
          "correct",
          "correct",
          "correct",
          "correct",
          "correct",
          "correct",
          "correct",
          "correct",
          "correct",
          "correct",
          "correct",
          "correct",
          "correct",
          "correct",
          "correct",
          "correct",
          "correct",
          "correct",
          "correct",
          "correct",
          "correct",
          "correct",
          "correct",
          "correct",
          "correct",
          "correct",
          "correct",
          "correct",
          "correct",
          "correct",
          "correct",
          "correct",
          "correct",
          "correct",
          "correct",
          "correct",
          "correct",
          "correct",
          "correct",
          "correct",
          "correct",
          "correct",
          "correct",
          "correct",
          "correct",
          "correct",
          "correct",
          "correct",
          "correct",
          "correct",
          "correct",
          "correct",
          "correct",
          "correct",
          "correct",
          "correct",
          "correct",
          "correct",
          "correct",
          "correct",
          "correct",
          "correct",
          "correct",
          "correct",
          "correct",
          "correct",
          "correct",
          "correct",
          "correct",
          "correct",
          "correct",
          "correct",
          "correct",
          "correct",
          "correct",
          "correct",
          "correct",
          "correct",
          "correct",
          "correct",
          "correct",
          "correct",
          "correct",
          "correct",
          "correct",
          "correct",
          "correct",
          "correct",
          "correct",
          "correct",
          "correct",
          "correct",
          "correct",
          "correct",
          "correct",
          "correct",
          "correct",
          "correct",
          "correct",
          "correct",
          "correct",
          "correct",
          "correct",
          "correct",
          "correct",
          "correct",
          "correct",
          "correct",
          "correct",
          "correct",
          "correct",
          "correct",
          "correct",
          "correct",
          "correct",
          "correct",
          "correct",
          "correct",
          "correct",
          "correct",
          "correct",
          "correct",
          "correct",
          "correct",
          "correct",
          "correct",
          "correct",
          "correct",
          "correct",
          "correct",
          "correct",
          "correct",
          "correct",
          "correct",
          "correct",
          "correct",
          "correct",
          "correct",
          "correct",
          "correct",
          "correct",
          "correct",
          "correct",
          "correct",
          "correct",
          "correct",
          "correct",
          "correct",
          "correct",
          "correct",
          "correct",
          "correct",
          "correct",
          "correct",
          "correct",
          "correct",
          "correct",
          "correct",
          "correct",
          "correct",
          "correct",
          "correct",
          "correct",
          "correct",
          "correct",
          "correct",
          "correct",
          "correct",
          "correct",
          "correct",
          "correct",
          "correct",
          "correct",
          "correct",
          "correct",
          "correct",
          "correct",
          "correct",
          "correct",
          "correct",
          "correct",
          "correct",
          "correct",
          "correct",
          "correct",
          "correct",
          "correct",
          "correct",
          "correct",
          "correct",
          "correct",
          "correct",
          "correct",
          "correct",
          "correct",
          "correct",
          "correct",
          "correct",
          "correct",
          "correct",
          "correct",
          "correct",
          "correct",
          "correct",
          "correct",
          "correct",
          "correct",
          "correct",
          "correct",
          "correct",
          "correct",
          "correct",
          "correct",
          "correct",
          "correct",
          "correct",
          "correct",
          "correct",
          "correct",
          "correct",
          "correct",
          "correct"
         ],
         "xaxis": "x",
         "yaxis": "y"
        }
       ],
       "layout": {
        "barmode": "relative",
        "legend": {
         "tracegroupgap": 0
        },
        "template": {
         "data": {
          "bar": [
           {
            "error_x": {
             "color": "#2a3f5f"
            },
            "error_y": {
             "color": "#2a3f5f"
            },
            "marker": {
             "line": {
              "color": "#E5ECF6",
              "width": 0.5
             },
             "pattern": {
              "fillmode": "overlay",
              "size": 10,
              "solidity": 0.2
             }
            },
            "type": "bar"
           }
          ],
          "barpolar": [
           {
            "marker": {
             "line": {
              "color": "#E5ECF6",
              "width": 0.5
             },
             "pattern": {
              "fillmode": "overlay",
              "size": 10,
              "solidity": 0.2
             }
            },
            "type": "barpolar"
           }
          ],
          "carpet": [
           {
            "aaxis": {
             "endlinecolor": "#2a3f5f",
             "gridcolor": "white",
             "linecolor": "white",
             "minorgridcolor": "white",
             "startlinecolor": "#2a3f5f"
            },
            "baxis": {
             "endlinecolor": "#2a3f5f",
             "gridcolor": "white",
             "linecolor": "white",
             "minorgridcolor": "white",
             "startlinecolor": "#2a3f5f"
            },
            "type": "carpet"
           }
          ],
          "choropleth": [
           {
            "colorbar": {
             "outlinewidth": 0,
             "ticks": ""
            },
            "type": "choropleth"
           }
          ],
          "contour": [
           {
            "colorbar": {
             "outlinewidth": 0,
             "ticks": ""
            },
            "colorscale": [
             [
              0,
              "#0d0887"
             ],
             [
              0.1111111111111111,
              "#46039f"
             ],
             [
              0.2222222222222222,
              "#7201a8"
             ],
             [
              0.3333333333333333,
              "#9c179e"
             ],
             [
              0.4444444444444444,
              "#bd3786"
             ],
             [
              0.5555555555555556,
              "#d8576b"
             ],
             [
              0.6666666666666666,
              "#ed7953"
             ],
             [
              0.7777777777777778,
              "#fb9f3a"
             ],
             [
              0.8888888888888888,
              "#fdca26"
             ],
             [
              1,
              "#f0f921"
             ]
            ],
            "type": "contour"
           }
          ],
          "contourcarpet": [
           {
            "colorbar": {
             "outlinewidth": 0,
             "ticks": ""
            },
            "type": "contourcarpet"
           }
          ],
          "heatmap": [
           {
            "colorbar": {
             "outlinewidth": 0,
             "ticks": ""
            },
            "colorscale": [
             [
              0,
              "#0d0887"
             ],
             [
              0.1111111111111111,
              "#46039f"
             ],
             [
              0.2222222222222222,
              "#7201a8"
             ],
             [
              0.3333333333333333,
              "#9c179e"
             ],
             [
              0.4444444444444444,
              "#bd3786"
             ],
             [
              0.5555555555555556,
              "#d8576b"
             ],
             [
              0.6666666666666666,
              "#ed7953"
             ],
             [
              0.7777777777777778,
              "#fb9f3a"
             ],
             [
              0.8888888888888888,
              "#fdca26"
             ],
             [
              1,
              "#f0f921"
             ]
            ],
            "type": "heatmap"
           }
          ],
          "heatmapgl": [
           {
            "colorbar": {
             "outlinewidth": 0,
             "ticks": ""
            },
            "colorscale": [
             [
              0,
              "#0d0887"
             ],
             [
              0.1111111111111111,
              "#46039f"
             ],
             [
              0.2222222222222222,
              "#7201a8"
             ],
             [
              0.3333333333333333,
              "#9c179e"
             ],
             [
              0.4444444444444444,
              "#bd3786"
             ],
             [
              0.5555555555555556,
              "#d8576b"
             ],
             [
              0.6666666666666666,
              "#ed7953"
             ],
             [
              0.7777777777777778,
              "#fb9f3a"
             ],
             [
              0.8888888888888888,
              "#fdca26"
             ],
             [
              1,
              "#f0f921"
             ]
            ],
            "type": "heatmapgl"
           }
          ],
          "histogram": [
           {
            "marker": {
             "pattern": {
              "fillmode": "overlay",
              "size": 10,
              "solidity": 0.2
             }
            },
            "type": "histogram"
           }
          ],
          "histogram2d": [
           {
            "colorbar": {
             "outlinewidth": 0,
             "ticks": ""
            },
            "colorscale": [
             [
              0,
              "#0d0887"
             ],
             [
              0.1111111111111111,
              "#46039f"
             ],
             [
              0.2222222222222222,
              "#7201a8"
             ],
             [
              0.3333333333333333,
              "#9c179e"
             ],
             [
              0.4444444444444444,
              "#bd3786"
             ],
             [
              0.5555555555555556,
              "#d8576b"
             ],
             [
              0.6666666666666666,
              "#ed7953"
             ],
             [
              0.7777777777777778,
              "#fb9f3a"
             ],
             [
              0.8888888888888888,
              "#fdca26"
             ],
             [
              1,
              "#f0f921"
             ]
            ],
            "type": "histogram2d"
           }
          ],
          "histogram2dcontour": [
           {
            "colorbar": {
             "outlinewidth": 0,
             "ticks": ""
            },
            "colorscale": [
             [
              0,
              "#0d0887"
             ],
             [
              0.1111111111111111,
              "#46039f"
             ],
             [
              0.2222222222222222,
              "#7201a8"
             ],
             [
              0.3333333333333333,
              "#9c179e"
             ],
             [
              0.4444444444444444,
              "#bd3786"
             ],
             [
              0.5555555555555556,
              "#d8576b"
             ],
             [
              0.6666666666666666,
              "#ed7953"
             ],
             [
              0.7777777777777778,
              "#fb9f3a"
             ],
             [
              0.8888888888888888,
              "#fdca26"
             ],
             [
              1,
              "#f0f921"
             ]
            ],
            "type": "histogram2dcontour"
           }
          ],
          "mesh3d": [
           {
            "colorbar": {
             "outlinewidth": 0,
             "ticks": ""
            },
            "type": "mesh3d"
           }
          ],
          "parcoords": [
           {
            "line": {
             "colorbar": {
              "outlinewidth": 0,
              "ticks": ""
             }
            },
            "type": "parcoords"
           }
          ],
          "pie": [
           {
            "automargin": true,
            "type": "pie"
           }
          ],
          "scatter": [
           {
            "fillpattern": {
             "fillmode": "overlay",
             "size": 10,
             "solidity": 0.2
            },
            "type": "scatter"
           }
          ],
          "scatter3d": [
           {
            "line": {
             "colorbar": {
              "outlinewidth": 0,
              "ticks": ""
             }
            },
            "marker": {
             "colorbar": {
              "outlinewidth": 0,
              "ticks": ""
             }
            },
            "type": "scatter3d"
           }
          ],
          "scattercarpet": [
           {
            "marker": {
             "colorbar": {
              "outlinewidth": 0,
              "ticks": ""
             }
            },
            "type": "scattercarpet"
           }
          ],
          "scattergeo": [
           {
            "marker": {
             "colorbar": {
              "outlinewidth": 0,
              "ticks": ""
             }
            },
            "type": "scattergeo"
           }
          ],
          "scattergl": [
           {
            "marker": {
             "colorbar": {
              "outlinewidth": 0,
              "ticks": ""
             }
            },
            "type": "scattergl"
           }
          ],
          "scattermapbox": [
           {
            "marker": {
             "colorbar": {
              "outlinewidth": 0,
              "ticks": ""
             }
            },
            "type": "scattermapbox"
           }
          ],
          "scatterpolar": [
           {
            "marker": {
             "colorbar": {
              "outlinewidth": 0,
              "ticks": ""
             }
            },
            "type": "scatterpolar"
           }
          ],
          "scatterpolargl": [
           {
            "marker": {
             "colorbar": {
              "outlinewidth": 0,
              "ticks": ""
             }
            },
            "type": "scatterpolargl"
           }
          ],
          "scatterternary": [
           {
            "marker": {
             "colorbar": {
              "outlinewidth": 0,
              "ticks": ""
             }
            },
            "type": "scatterternary"
           }
          ],
          "surface": [
           {
            "colorbar": {
             "outlinewidth": 0,
             "ticks": ""
            },
            "colorscale": [
             [
              0,
              "#0d0887"
             ],
             [
              0.1111111111111111,
              "#46039f"
             ],
             [
              0.2222222222222222,
              "#7201a8"
             ],
             [
              0.3333333333333333,
              "#9c179e"
             ],
             [
              0.4444444444444444,
              "#bd3786"
             ],
             [
              0.5555555555555556,
              "#d8576b"
             ],
             [
              0.6666666666666666,
              "#ed7953"
             ],
             [
              0.7777777777777778,
              "#fb9f3a"
             ],
             [
              0.8888888888888888,
              "#fdca26"
             ],
             [
              1,
              "#f0f921"
             ]
            ],
            "type": "surface"
           }
          ],
          "table": [
           {
            "cells": {
             "fill": {
              "color": "#EBF0F8"
             },
             "line": {
              "color": "white"
             }
            },
            "header": {
             "fill": {
              "color": "#C8D4E3"
             },
             "line": {
              "color": "white"
             }
            },
            "type": "table"
           }
          ]
         },
         "layout": {
          "annotationdefaults": {
           "arrowcolor": "#2a3f5f",
           "arrowhead": 0,
           "arrowwidth": 1
          },
          "autotypenumbers": "strict",
          "coloraxis": {
           "colorbar": {
            "outlinewidth": 0,
            "ticks": ""
           }
          },
          "colorscale": {
           "diverging": [
            [
             0,
             "#8e0152"
            ],
            [
             0.1,
             "#c51b7d"
            ],
            [
             0.2,
             "#de77ae"
            ],
            [
             0.3,
             "#f1b6da"
            ],
            [
             0.4,
             "#fde0ef"
            ],
            [
             0.5,
             "#f7f7f7"
            ],
            [
             0.6,
             "#e6f5d0"
            ],
            [
             0.7,
             "#b8e186"
            ],
            [
             0.8,
             "#7fbc41"
            ],
            [
             0.9,
             "#4d9221"
            ],
            [
             1,
             "#276419"
            ]
           ],
           "sequential": [
            [
             0,
             "#0d0887"
            ],
            [
             0.1111111111111111,
             "#46039f"
            ],
            [
             0.2222222222222222,
             "#7201a8"
            ],
            [
             0.3333333333333333,
             "#9c179e"
            ],
            [
             0.4444444444444444,
             "#bd3786"
            ],
            [
             0.5555555555555556,
             "#d8576b"
            ],
            [
             0.6666666666666666,
             "#ed7953"
            ],
            [
             0.7777777777777778,
             "#fb9f3a"
            ],
            [
             0.8888888888888888,
             "#fdca26"
            ],
            [
             1,
             "#f0f921"
            ]
           ],
           "sequentialminus": [
            [
             0,
             "#0d0887"
            ],
            [
             0.1111111111111111,
             "#46039f"
            ],
            [
             0.2222222222222222,
             "#7201a8"
            ],
            [
             0.3333333333333333,
             "#9c179e"
            ],
            [
             0.4444444444444444,
             "#bd3786"
            ],
            [
             0.5555555555555556,
             "#d8576b"
            ],
            [
             0.6666666666666666,
             "#ed7953"
            ],
            [
             0.7777777777777778,
             "#fb9f3a"
            ],
            [
             0.8888888888888888,
             "#fdca26"
            ],
            [
             1,
             "#f0f921"
            ]
           ]
          },
          "colorway": [
           "#636efa",
           "#EF553B",
           "#00cc96",
           "#ab63fa",
           "#FFA15A",
           "#19d3f3",
           "#FF6692",
           "#B6E880",
           "#FF97FF",
           "#FECB52"
          ],
          "font": {
           "color": "#2a3f5f"
          },
          "geo": {
           "bgcolor": "white",
           "lakecolor": "white",
           "landcolor": "#E5ECF6",
           "showlakes": true,
           "showland": true,
           "subunitcolor": "white"
          },
          "hoverlabel": {
           "align": "left"
          },
          "hovermode": "closest",
          "mapbox": {
           "style": "light"
          },
          "paper_bgcolor": "white",
          "plot_bgcolor": "#E5ECF6",
          "polar": {
           "angularaxis": {
            "gridcolor": "white",
            "linecolor": "white",
            "ticks": ""
           },
           "bgcolor": "#E5ECF6",
           "radialaxis": {
            "gridcolor": "white",
            "linecolor": "white",
            "ticks": ""
           }
          },
          "scene": {
           "xaxis": {
            "backgroundcolor": "#E5ECF6",
            "gridcolor": "white",
            "gridwidth": 2,
            "linecolor": "white",
            "showbackground": true,
            "ticks": "",
            "zerolinecolor": "white"
           },
           "yaxis": {
            "backgroundcolor": "#E5ECF6",
            "gridcolor": "white",
            "gridwidth": 2,
            "linecolor": "white",
            "showbackground": true,
            "ticks": "",
            "zerolinecolor": "white"
           },
           "zaxis": {
            "backgroundcolor": "#E5ECF6",
            "gridcolor": "white",
            "gridwidth": 2,
            "linecolor": "white",
            "showbackground": true,
            "ticks": "",
            "zerolinecolor": "white"
           }
          },
          "shapedefaults": {
           "line": {
            "color": "#2a3f5f"
           }
          },
          "ternary": {
           "aaxis": {
            "gridcolor": "white",
            "linecolor": "white",
            "ticks": ""
           },
           "baxis": {
            "gridcolor": "white",
            "linecolor": "white",
            "ticks": ""
           },
           "bgcolor": "#E5ECF6",
           "caxis": {
            "gridcolor": "white",
            "linecolor": "white",
            "ticks": ""
           }
          },
          "title": {
           "x": 0.05
          },
          "xaxis": {
           "automargin": true,
           "gridcolor": "white",
           "linecolor": "white",
           "ticks": "",
           "title": {
            "standoff": 15
           },
           "zerolinecolor": "white",
           "zerolinewidth": 2
          },
          "yaxis": {
           "automargin": true,
           "gridcolor": "white",
           "linecolor": "white",
           "ticks": "",
           "title": {
            "standoff": 15
           },
           "zerolinecolor": "white",
           "zerolinewidth": 2
          }
         }
        },
        "title": {
         "text": "Correctness of the next_payment_day for monthly frequency"
        },
        "xaxis": {
         "anchor": "y",
         "domain": [
          0,
          1
         ],
         "title": {
          "text": "correct"
         }
        },
        "yaxis": {
         "anchor": "x",
         "domain": [
          0,
          1
         ],
         "title": {
          "text": "count"
         }
        }
       }
      }
     },
     "metadata": {},
     "output_type": "display_data"
    },
    {
     "data": {
      "application/vnd.plotly.v1+json": {
       "config": {
        "plotlyServerURL": "https://plot.ly"
       },
       "data": [
        {
         "direction": "clockwise",
         "domain": {
          "x": [
           0,
           1
          ],
          "y": [
           0,
           1
          ]
         },
         "hovertemplate": "correct=%{label}<br>count=%{value}<extra></extra>",
         "labels": [
          "correct"
         ],
         "legendgroup": "",
         "name": "",
         "showlegend": true,
         "sort": false,
         "type": "pie",
         "values": [
          442
         ]
        }
       ],
       "layout": {
        "legend": {
         "tracegroupgap": 0
        },
        "template": {
         "data": {
          "bar": [
           {
            "error_x": {
             "color": "#2a3f5f"
            },
            "error_y": {
             "color": "#2a3f5f"
            },
            "marker": {
             "line": {
              "color": "#E5ECF6",
              "width": 0.5
             },
             "pattern": {
              "fillmode": "overlay",
              "size": 10,
              "solidity": 0.2
             }
            },
            "type": "bar"
           }
          ],
          "barpolar": [
           {
            "marker": {
             "line": {
              "color": "#E5ECF6",
              "width": 0.5
             },
             "pattern": {
              "fillmode": "overlay",
              "size": 10,
              "solidity": 0.2
             }
            },
            "type": "barpolar"
           }
          ],
          "carpet": [
           {
            "aaxis": {
             "endlinecolor": "#2a3f5f",
             "gridcolor": "white",
             "linecolor": "white",
             "minorgridcolor": "white",
             "startlinecolor": "#2a3f5f"
            },
            "baxis": {
             "endlinecolor": "#2a3f5f",
             "gridcolor": "white",
             "linecolor": "white",
             "minorgridcolor": "white",
             "startlinecolor": "#2a3f5f"
            },
            "type": "carpet"
           }
          ],
          "choropleth": [
           {
            "colorbar": {
             "outlinewidth": 0,
             "ticks": ""
            },
            "type": "choropleth"
           }
          ],
          "contour": [
           {
            "colorbar": {
             "outlinewidth": 0,
             "ticks": ""
            },
            "colorscale": [
             [
              0,
              "#0d0887"
             ],
             [
              0.1111111111111111,
              "#46039f"
             ],
             [
              0.2222222222222222,
              "#7201a8"
             ],
             [
              0.3333333333333333,
              "#9c179e"
             ],
             [
              0.4444444444444444,
              "#bd3786"
             ],
             [
              0.5555555555555556,
              "#d8576b"
             ],
             [
              0.6666666666666666,
              "#ed7953"
             ],
             [
              0.7777777777777778,
              "#fb9f3a"
             ],
             [
              0.8888888888888888,
              "#fdca26"
             ],
             [
              1,
              "#f0f921"
             ]
            ],
            "type": "contour"
           }
          ],
          "contourcarpet": [
           {
            "colorbar": {
             "outlinewidth": 0,
             "ticks": ""
            },
            "type": "contourcarpet"
           }
          ],
          "heatmap": [
           {
            "colorbar": {
             "outlinewidth": 0,
             "ticks": ""
            },
            "colorscale": [
             [
              0,
              "#0d0887"
             ],
             [
              0.1111111111111111,
              "#46039f"
             ],
             [
              0.2222222222222222,
              "#7201a8"
             ],
             [
              0.3333333333333333,
              "#9c179e"
             ],
             [
              0.4444444444444444,
              "#bd3786"
             ],
             [
              0.5555555555555556,
              "#d8576b"
             ],
             [
              0.6666666666666666,
              "#ed7953"
             ],
             [
              0.7777777777777778,
              "#fb9f3a"
             ],
             [
              0.8888888888888888,
              "#fdca26"
             ],
             [
              1,
              "#f0f921"
             ]
            ],
            "type": "heatmap"
           }
          ],
          "heatmapgl": [
           {
            "colorbar": {
             "outlinewidth": 0,
             "ticks": ""
            },
            "colorscale": [
             [
              0,
              "#0d0887"
             ],
             [
              0.1111111111111111,
              "#46039f"
             ],
             [
              0.2222222222222222,
              "#7201a8"
             ],
             [
              0.3333333333333333,
              "#9c179e"
             ],
             [
              0.4444444444444444,
              "#bd3786"
             ],
             [
              0.5555555555555556,
              "#d8576b"
             ],
             [
              0.6666666666666666,
              "#ed7953"
             ],
             [
              0.7777777777777778,
              "#fb9f3a"
             ],
             [
              0.8888888888888888,
              "#fdca26"
             ],
             [
              1,
              "#f0f921"
             ]
            ],
            "type": "heatmapgl"
           }
          ],
          "histogram": [
           {
            "marker": {
             "pattern": {
              "fillmode": "overlay",
              "size": 10,
              "solidity": 0.2
             }
            },
            "type": "histogram"
           }
          ],
          "histogram2d": [
           {
            "colorbar": {
             "outlinewidth": 0,
             "ticks": ""
            },
            "colorscale": [
             [
              0,
              "#0d0887"
             ],
             [
              0.1111111111111111,
              "#46039f"
             ],
             [
              0.2222222222222222,
              "#7201a8"
             ],
             [
              0.3333333333333333,
              "#9c179e"
             ],
             [
              0.4444444444444444,
              "#bd3786"
             ],
             [
              0.5555555555555556,
              "#d8576b"
             ],
             [
              0.6666666666666666,
              "#ed7953"
             ],
             [
              0.7777777777777778,
              "#fb9f3a"
             ],
             [
              0.8888888888888888,
              "#fdca26"
             ],
             [
              1,
              "#f0f921"
             ]
            ],
            "type": "histogram2d"
           }
          ],
          "histogram2dcontour": [
           {
            "colorbar": {
             "outlinewidth": 0,
             "ticks": ""
            },
            "colorscale": [
             [
              0,
              "#0d0887"
             ],
             [
              0.1111111111111111,
              "#46039f"
             ],
             [
              0.2222222222222222,
              "#7201a8"
             ],
             [
              0.3333333333333333,
              "#9c179e"
             ],
             [
              0.4444444444444444,
              "#bd3786"
             ],
             [
              0.5555555555555556,
              "#d8576b"
             ],
             [
              0.6666666666666666,
              "#ed7953"
             ],
             [
              0.7777777777777778,
              "#fb9f3a"
             ],
             [
              0.8888888888888888,
              "#fdca26"
             ],
             [
              1,
              "#f0f921"
             ]
            ],
            "type": "histogram2dcontour"
           }
          ],
          "mesh3d": [
           {
            "colorbar": {
             "outlinewidth": 0,
             "ticks": ""
            },
            "type": "mesh3d"
           }
          ],
          "parcoords": [
           {
            "line": {
             "colorbar": {
              "outlinewidth": 0,
              "ticks": ""
             }
            },
            "type": "parcoords"
           }
          ],
          "pie": [
           {
            "automargin": true,
            "type": "pie"
           }
          ],
          "scatter": [
           {
            "fillpattern": {
             "fillmode": "overlay",
             "size": 10,
             "solidity": 0.2
            },
            "type": "scatter"
           }
          ],
          "scatter3d": [
           {
            "line": {
             "colorbar": {
              "outlinewidth": 0,
              "ticks": ""
             }
            },
            "marker": {
             "colorbar": {
              "outlinewidth": 0,
              "ticks": ""
             }
            },
            "type": "scatter3d"
           }
          ],
          "scattercarpet": [
           {
            "marker": {
             "colorbar": {
              "outlinewidth": 0,
              "ticks": ""
             }
            },
            "type": "scattercarpet"
           }
          ],
          "scattergeo": [
           {
            "marker": {
             "colorbar": {
              "outlinewidth": 0,
              "ticks": ""
             }
            },
            "type": "scattergeo"
           }
          ],
          "scattergl": [
           {
            "marker": {
             "colorbar": {
              "outlinewidth": 0,
              "ticks": ""
             }
            },
            "type": "scattergl"
           }
          ],
          "scattermapbox": [
           {
            "marker": {
             "colorbar": {
              "outlinewidth": 0,
              "ticks": ""
             }
            },
            "type": "scattermapbox"
           }
          ],
          "scatterpolar": [
           {
            "marker": {
             "colorbar": {
              "outlinewidth": 0,
              "ticks": ""
             }
            },
            "type": "scatterpolar"
           }
          ],
          "scatterpolargl": [
           {
            "marker": {
             "colorbar": {
              "outlinewidth": 0,
              "ticks": ""
             }
            },
            "type": "scatterpolargl"
           }
          ],
          "scatterternary": [
           {
            "marker": {
             "colorbar": {
              "outlinewidth": 0,
              "ticks": ""
             }
            },
            "type": "scatterternary"
           }
          ],
          "surface": [
           {
            "colorbar": {
             "outlinewidth": 0,
             "ticks": ""
            },
            "colorscale": [
             [
              0,
              "#0d0887"
             ],
             [
              0.1111111111111111,
              "#46039f"
             ],
             [
              0.2222222222222222,
              "#7201a8"
             ],
             [
              0.3333333333333333,
              "#9c179e"
             ],
             [
              0.4444444444444444,
              "#bd3786"
             ],
             [
              0.5555555555555556,
              "#d8576b"
             ],
             [
              0.6666666666666666,
              "#ed7953"
             ],
             [
              0.7777777777777778,
              "#fb9f3a"
             ],
             [
              0.8888888888888888,
              "#fdca26"
             ],
             [
              1,
              "#f0f921"
             ]
            ],
            "type": "surface"
           }
          ],
          "table": [
           {
            "cells": {
             "fill": {
              "color": "#EBF0F8"
             },
             "line": {
              "color": "white"
             }
            },
            "header": {
             "fill": {
              "color": "#C8D4E3"
             },
             "line": {
              "color": "white"
             }
            },
            "type": "table"
           }
          ]
         },
         "layout": {
          "annotationdefaults": {
           "arrowcolor": "#2a3f5f",
           "arrowhead": 0,
           "arrowwidth": 1
          },
          "autotypenumbers": "strict",
          "coloraxis": {
           "colorbar": {
            "outlinewidth": 0,
            "ticks": ""
           }
          },
          "colorscale": {
           "diverging": [
            [
             0,
             "#8e0152"
            ],
            [
             0.1,
             "#c51b7d"
            ],
            [
             0.2,
             "#de77ae"
            ],
            [
             0.3,
             "#f1b6da"
            ],
            [
             0.4,
             "#fde0ef"
            ],
            [
             0.5,
             "#f7f7f7"
            ],
            [
             0.6,
             "#e6f5d0"
            ],
            [
             0.7,
             "#b8e186"
            ],
            [
             0.8,
             "#7fbc41"
            ],
            [
             0.9,
             "#4d9221"
            ],
            [
             1,
             "#276419"
            ]
           ],
           "sequential": [
            [
             0,
             "#0d0887"
            ],
            [
             0.1111111111111111,
             "#46039f"
            ],
            [
             0.2222222222222222,
             "#7201a8"
            ],
            [
             0.3333333333333333,
             "#9c179e"
            ],
            [
             0.4444444444444444,
             "#bd3786"
            ],
            [
             0.5555555555555556,
             "#d8576b"
            ],
            [
             0.6666666666666666,
             "#ed7953"
            ],
            [
             0.7777777777777778,
             "#fb9f3a"
            ],
            [
             0.8888888888888888,
             "#fdca26"
            ],
            [
             1,
             "#f0f921"
            ]
           ],
           "sequentialminus": [
            [
             0,
             "#0d0887"
            ],
            [
             0.1111111111111111,
             "#46039f"
            ],
            [
             0.2222222222222222,
             "#7201a8"
            ],
            [
             0.3333333333333333,
             "#9c179e"
            ],
            [
             0.4444444444444444,
             "#bd3786"
            ],
            [
             0.5555555555555556,
             "#d8576b"
            ],
            [
             0.6666666666666666,
             "#ed7953"
            ],
            [
             0.7777777777777778,
             "#fb9f3a"
            ],
            [
             0.8888888888888888,
             "#fdca26"
            ],
            [
             1,
             "#f0f921"
            ]
           ]
          },
          "colorway": [
           "#636efa",
           "#EF553B",
           "#00cc96",
           "#ab63fa",
           "#FFA15A",
           "#19d3f3",
           "#FF6692",
           "#B6E880",
           "#FF97FF",
           "#FECB52"
          ],
          "font": {
           "color": "#2a3f5f"
          },
          "geo": {
           "bgcolor": "white",
           "lakecolor": "white",
           "landcolor": "#E5ECF6",
           "showlakes": true,
           "showland": true,
           "subunitcolor": "white"
          },
          "hoverlabel": {
           "align": "left"
          },
          "hovermode": "closest",
          "mapbox": {
           "style": "light"
          },
          "paper_bgcolor": "white",
          "plot_bgcolor": "#E5ECF6",
          "polar": {
           "angularaxis": {
            "gridcolor": "white",
            "linecolor": "white",
            "ticks": ""
           },
           "bgcolor": "#E5ECF6",
           "radialaxis": {
            "gridcolor": "white",
            "linecolor": "white",
            "ticks": ""
           }
          },
          "scene": {
           "xaxis": {
            "backgroundcolor": "#E5ECF6",
            "gridcolor": "white",
            "gridwidth": 2,
            "linecolor": "white",
            "showbackground": true,
            "ticks": "",
            "zerolinecolor": "white"
           },
           "yaxis": {
            "backgroundcolor": "#E5ECF6",
            "gridcolor": "white",
            "gridwidth": 2,
            "linecolor": "white",
            "showbackground": true,
            "ticks": "",
            "zerolinecolor": "white"
           },
           "zaxis": {
            "backgroundcolor": "#E5ECF6",
            "gridcolor": "white",
            "gridwidth": 2,
            "linecolor": "white",
            "showbackground": true,
            "ticks": "",
            "zerolinecolor": "white"
           }
          },
          "shapedefaults": {
           "line": {
            "color": "#2a3f5f"
           }
          },
          "ternary": {
           "aaxis": {
            "gridcolor": "white",
            "linecolor": "white",
            "ticks": ""
           },
           "baxis": {
            "gridcolor": "white",
            "linecolor": "white",
            "ticks": ""
           },
           "bgcolor": "#E5ECF6",
           "caxis": {
            "gridcolor": "white",
            "linecolor": "white",
            "ticks": ""
           }
          },
          "title": {
           "x": 0.05
          },
          "xaxis": {
           "automargin": true,
           "gridcolor": "white",
           "linecolor": "white",
           "ticks": "",
           "title": {
            "standoff": 15
           },
           "zerolinecolor": "white",
           "zerolinewidth": 2
          },
          "yaxis": {
           "automargin": true,
           "gridcolor": "white",
           "linecolor": "white",
           "ticks": "",
           "title": {
            "standoff": 15
           },
           "zerolinecolor": "white",
           "zerolinewidth": 2
          }
         }
        },
        "title": {
         "text": "proportion"
        }
       }
      }
     },
     "metadata": {},
     "output_type": "display_data"
    }
   ],
   "source": [
    "# comparisson_backend_table.show()\n",
    "\n",
    "\n",
    "def next_payment_day_montlhy_frequency(day_column, event_timestamp):\n",
    "    # current_day = spark_f.day(spark_f.to_date(spark_f.lit(CURRENT_DAY)))\n",
    "\n",
    "    day_column = (\n",
    "        spark_f.when(spark_f.col(day_column) == \"fifteenth_day\", spark_f.lit(15))\n",
    "        .when(spark_f.col(day_column) == \"first_day\", spark_f.lit(1))\n",
    "        .otherwise(spark_f.lit(None))\n",
    "    )\n",
    "\n",
    "    return day_column\n",
    "\n",
    "\n",
    "backend_table_monthly_truth = build_backend_truth_table(\n",
    "    \"monthly\", next_payment_day_montlhy_frequency\n",
    ")\n",
    "\n",
    "comparisson_backend_table.filter(\"truth_backend_table.frequency = 'monthly'\").show()\n",
    "pd_comparisson_backend = backend_table_monthly_truth.toPandas()\n",
    "\n",
    "histogram(\n",
    "    pd_comparisson_backend,\n",
    "    \"correct\",\n",
    "    \"Correctness of the next_payment_day for monthly frequency\",\n",
    ")\n",
    "\n",
    "pie_chart(\n",
    "    pd_comparisson_backend,\n",
    "    \"correct\",\n",
    "    \"proportion\",\n",
    "    category_orders={\"correct\": [\"correct\", \"wrong\"]},\n",
    ")"
   ]
  },
  {
   "cell_type": "markdown",
   "metadata": {},
   "source": [
    "### weekly"
   ]
  },
  {
   "cell_type": "code",
   "execution_count": 13,
   "metadata": {},
   "outputs": [
    {
     "name": "stdout",
     "output_type": "stream",
     "text": [
      "+---------+\n",
      "|      day|\n",
      "+---------+\n",
      "|   sunday|\n",
      "| thursday|\n",
      "|   monday|\n",
      "|wednesday|\n",
      "|   friday|\n",
      "| saturday|\n",
      "|  tuesday|\n",
      "+---------+\n",
      "\n"
     ]
    }
   ],
   "source": [
    "comparisson_backend_table.filter(\"truth_backend_table.frequency = 'weekly'\").select(\"truth_backend_table.day\").dropDuplicates().show()"
   ]
  },
  {
   "cell_type": "code",
   "execution_count": 14,
   "metadata": {},
   "outputs": [
    {
     "data": {
      "application/vnd.plotly.v1+json": {
       "config": {
        "plotlyServerURL": "https://plot.ly"
       },
       "data": [
        {
         "alignmentgroup": "True",
         "bingroup": "x",
         "hovertemplate": "correct=%{x}<br>count=%{y}<extra></extra>",
         "legendgroup": "",
         "marker": {
          "color": "#636efa",
          "pattern": {
           "shape": ""
          }
         },
         "name": "",
         "offsetgroup": "",
         "orientation": "v",
         "showlegend": false,
         "type": "histogram",
         "x": [
          "correct",
          "correct",
          "correct",
          "wrong",
          "correct",
          "wrong",
          "wrong",
          "wrong",
          "wrong",
          "wrong",
          "wrong",
          "wrong",
          "correct",
          "correct",
          "correct",
          "correct",
          "wrong",
          "wrong",
          "correct",
          "correct",
          "wrong",
          "correct",
          "wrong",
          "correct",
          "correct",
          "wrong",
          "correct",
          "wrong",
          "correct",
          "wrong",
          "correct",
          "correct",
          "wrong",
          "correct",
          "wrong",
          "wrong",
          "correct",
          "correct",
          "wrong",
          "correct",
          "wrong",
          "wrong",
          "correct",
          "correct",
          "correct",
          "correct",
          "wrong",
          "correct",
          "correct",
          "wrong",
          "correct",
          "correct",
          "wrong",
          "correct",
          "correct",
          "correct",
          "correct",
          "wrong",
          "correct",
          "wrong",
          "correct",
          "wrong",
          "wrong",
          "correct",
          "wrong",
          "wrong",
          "correct",
          "correct",
          "correct",
          "wrong",
          "wrong",
          "wrong",
          "correct",
          "wrong",
          "correct",
          "wrong",
          "correct",
          "correct",
          "wrong",
          "correct",
          "wrong",
          "wrong",
          "wrong",
          "correct",
          "correct",
          "correct",
          "wrong",
          "correct",
          "correct",
          "wrong",
          "wrong",
          "correct",
          "wrong",
          "correct",
          "correct",
          "wrong",
          "correct",
          "wrong",
          "wrong",
          "correct",
          "wrong",
          "correct",
          "wrong",
          "wrong",
          "correct",
          "correct",
          "wrong",
          "correct",
          "correct",
          "wrong",
          "wrong",
          "wrong",
          "correct",
          "wrong",
          "wrong",
          "wrong",
          "correct",
          "correct",
          "wrong",
          "correct",
          "correct",
          "wrong",
          "wrong",
          "wrong",
          "correct",
          "correct",
          "wrong",
          "wrong",
          "wrong",
          "correct",
          "correct",
          "wrong",
          "correct",
          "correct",
          "correct",
          "wrong",
          "wrong",
          "wrong",
          "correct",
          "correct",
          "wrong",
          "correct",
          "wrong",
          "wrong",
          "correct",
          "correct",
          "correct",
          "wrong",
          "wrong",
          "correct",
          "correct",
          "wrong",
          "wrong",
          "wrong",
          "wrong",
          "correct",
          "wrong",
          "correct",
          "wrong",
          "correct",
          "wrong",
          "wrong",
          "correct",
          "wrong",
          "wrong",
          "correct",
          "wrong",
          "correct",
          "correct",
          "wrong",
          "correct",
          "wrong",
          "correct",
          "correct",
          "correct",
          "correct",
          "correct",
          "correct",
          "wrong",
          "correct",
          "wrong",
          "wrong",
          "wrong",
          "correct",
          "correct",
          "wrong",
          "correct",
          "wrong",
          "correct",
          "correct",
          "wrong",
          "correct",
          "wrong",
          "correct",
          "wrong",
          "correct",
          "correct",
          "wrong",
          "wrong",
          "correct",
          "wrong",
          "correct",
          "correct",
          "wrong",
          "correct",
          "wrong",
          "correct",
          "correct",
          "correct",
          "wrong",
          "correct",
          "wrong",
          "wrong",
          "wrong",
          "wrong",
          "wrong",
          "wrong",
          "correct",
          "correct",
          "wrong",
          "correct",
          "wrong",
          "wrong",
          "wrong",
          "wrong",
          "correct",
          "wrong",
          "correct",
          "correct",
          "correct",
          "wrong",
          "correct",
          "wrong",
          "wrong",
          "correct",
          "wrong",
          "correct",
          "correct",
          "wrong",
          "wrong",
          "wrong",
          "correct",
          "wrong",
          "wrong",
          "correct",
          "correct",
          "wrong",
          "correct",
          "correct",
          "wrong",
          "wrong",
          "correct",
          "correct",
          "correct",
          "wrong",
          "correct",
          "wrong",
          "correct",
          "correct",
          "wrong",
          "correct",
          "wrong",
          "wrong",
          "correct",
          "correct",
          "wrong",
          "wrong",
          "wrong",
          "wrong",
          "wrong",
          "correct",
          "wrong",
          "correct",
          "correct",
          "correct",
          "correct",
          "correct",
          "correct",
          "correct",
          "correct",
          "correct",
          "wrong",
          "correct",
          "wrong",
          "correct",
          "wrong",
          "correct",
          "wrong",
          "wrong",
          "wrong",
          "wrong",
          "wrong",
          "wrong",
          "wrong",
          "correct",
          "wrong",
          "wrong",
          "wrong",
          "correct",
          "wrong",
          "wrong",
          "correct",
          "correct",
          "wrong",
          "wrong",
          "wrong",
          "correct",
          "wrong",
          "wrong",
          "wrong",
          "wrong",
          "correct",
          "correct",
          "wrong",
          "wrong",
          "wrong",
          "wrong",
          "wrong",
          "correct",
          "wrong",
          "correct",
          "wrong",
          "correct",
          "wrong",
          "correct",
          "wrong",
          "correct",
          "correct",
          "wrong",
          "correct",
          "wrong",
          "wrong",
          "wrong",
          "wrong",
          "wrong",
          "wrong",
          "wrong",
          "wrong",
          "correct",
          "wrong",
          "correct",
          "wrong",
          "correct",
          "wrong",
          "correct",
          "wrong",
          "correct",
          "wrong",
          "wrong",
          "wrong",
          "wrong",
          "wrong",
          "correct",
          "correct",
          "correct",
          "wrong",
          "correct",
          "correct",
          "wrong",
          "wrong",
          "correct",
          "correct",
          "correct",
          "wrong",
          "wrong",
          "correct",
          "wrong",
          "wrong",
          "correct",
          "correct",
          "wrong",
          "wrong",
          "correct",
          "wrong",
          "correct",
          "wrong",
          "wrong",
          "wrong",
          "wrong",
          "wrong",
          "correct",
          "correct",
          "wrong",
          "correct",
          "wrong",
          "correct",
          "wrong",
          "correct",
          "correct",
          "wrong",
          "wrong",
          "wrong",
          "wrong",
          "wrong",
          "correct",
          "correct",
          "wrong",
          "correct",
          "wrong",
          "wrong",
          "wrong",
          "wrong",
          "correct",
          "wrong",
          "wrong",
          "wrong",
          "correct",
          "wrong",
          "wrong",
          "wrong",
          "correct",
          "correct",
          "correct",
          "wrong",
          "correct",
          "wrong",
          "wrong",
          "wrong",
          "correct",
          "wrong",
          "wrong",
          "correct",
          "wrong",
          "correct",
          "wrong",
          "correct",
          "correct",
          "correct",
          "correct",
          "wrong",
          "correct",
          "correct",
          "correct",
          "wrong",
          "wrong",
          "correct",
          "correct",
          "correct",
          "correct",
          "wrong",
          "wrong",
          "correct",
          "correct",
          "correct",
          "correct",
          "wrong",
          "correct",
          "correct",
          "correct",
          "wrong",
          "correct",
          "correct",
          "correct",
          "wrong",
          "wrong",
          "correct",
          "wrong",
          "wrong",
          "correct",
          "correct",
          "wrong",
          "correct",
          "correct",
          "wrong",
          "correct",
          "correct",
          "wrong",
          "wrong",
          "correct",
          "correct",
          "correct",
          "correct",
          "correct",
          "correct",
          "wrong",
          "wrong",
          "wrong",
          "correct",
          "wrong",
          "wrong",
          "correct",
          "correct",
          "wrong",
          "wrong",
          "correct",
          "wrong",
          "wrong",
          "correct",
          "correct",
          "wrong",
          "correct",
          "correct",
          "correct",
          "correct",
          "correct",
          "wrong",
          "wrong",
          "wrong",
          "wrong",
          "correct",
          "correct",
          "correct",
          "wrong",
          "correct",
          "wrong",
          "wrong",
          "correct",
          "correct",
          "wrong",
          "correct",
          "wrong",
          "wrong",
          "correct",
          "correct",
          "correct",
          "wrong",
          "correct",
          "correct",
          "wrong",
          "wrong",
          "wrong",
          "wrong",
          "wrong",
          "correct",
          "correct",
          "wrong",
          "wrong",
          "correct",
          "correct",
          "wrong",
          "wrong",
          "correct",
          "correct",
          "wrong",
          "correct",
          "wrong",
          "correct",
          "correct",
          "wrong",
          "correct",
          "wrong",
          "correct",
          "wrong",
          "wrong",
          "wrong",
          "wrong",
          "correct",
          "wrong",
          "correct",
          "wrong",
          "correct",
          "correct",
          "wrong",
          "wrong",
          "correct",
          "wrong",
          "wrong",
          "correct",
          "wrong",
          "wrong",
          "wrong",
          "correct",
          "wrong",
          "wrong",
          "correct",
          "correct",
          "wrong",
          "wrong",
          "wrong",
          "correct",
          "correct",
          "wrong",
          "correct",
          "wrong",
          "correct",
          "correct",
          "correct",
          "correct",
          "correct",
          "wrong",
          "correct",
          "correct",
          "wrong",
          "correct",
          "wrong",
          "correct",
          "wrong",
          "correct",
          "wrong",
          "wrong",
          "wrong",
          "wrong",
          "wrong",
          "correct",
          "correct",
          "wrong",
          "wrong",
          "wrong",
          "wrong",
          "correct",
          "correct",
          "correct",
          "correct",
          "wrong",
          "correct",
          "correct",
          "correct",
          "correct",
          "wrong",
          "correct",
          "wrong",
          "correct",
          "wrong",
          "correct",
          "correct",
          "wrong",
          "correct",
          "correct",
          "wrong",
          "correct",
          "correct",
          "correct",
          "correct",
          "correct",
          "wrong",
          "correct",
          "wrong",
          "correct",
          "correct",
          "wrong",
          "correct",
          "wrong",
          "correct",
          "correct",
          "wrong",
          "correct",
          "wrong",
          "wrong",
          "wrong",
          "wrong",
          "wrong",
          "correct",
          "wrong",
          "wrong",
          "correct",
          "wrong",
          "wrong",
          "correct",
          "wrong",
          "wrong",
          "wrong",
          "correct",
          "correct",
          "wrong",
          "correct",
          "correct",
          "correct",
          "correct",
          "wrong",
          "correct",
          "correct",
          "correct",
          "wrong",
          "wrong",
          "wrong",
          "wrong",
          "correct",
          "correct",
          "correct",
          "correct",
          "correct",
          "correct",
          "correct",
          "wrong",
          "wrong",
          "wrong",
          "wrong",
          "correct",
          "wrong",
          "wrong",
          "correct",
          "wrong",
          "correct",
          "correct",
          "wrong",
          "correct",
          "wrong",
          "correct",
          "correct",
          "correct",
          "correct",
          "correct",
          "correct",
          "wrong",
          "wrong",
          "wrong",
          "wrong",
          "wrong",
          "wrong",
          "wrong",
          "wrong",
          "wrong",
          "correct",
          "wrong",
          "wrong",
          "correct",
          "wrong",
          "wrong",
          "correct",
          "wrong",
          "wrong",
          "correct",
          "wrong",
          "wrong",
          "correct",
          "correct",
          "correct",
          "wrong",
          "wrong",
          "correct",
          "wrong",
          "correct",
          "correct",
          "wrong",
          "wrong",
          "correct",
          "correct",
          "correct",
          "correct",
          "wrong",
          "correct",
          "correct",
          "correct",
          "wrong",
          "correct",
          "correct",
          "correct",
          "correct",
          "correct",
          "correct",
          "wrong",
          "correct",
          "wrong",
          "wrong",
          "correct",
          "wrong",
          "wrong",
          "correct",
          "correct",
          "wrong",
          "wrong",
          "correct",
          "correct",
          "correct"
         ],
         "xaxis": "x",
         "yaxis": "y"
        }
       ],
       "layout": {
        "barmode": "relative",
        "legend": {
         "tracegroupgap": 0
        },
        "template": {
         "data": {
          "bar": [
           {
            "error_x": {
             "color": "#2a3f5f"
            },
            "error_y": {
             "color": "#2a3f5f"
            },
            "marker": {
             "line": {
              "color": "#E5ECF6",
              "width": 0.5
             },
             "pattern": {
              "fillmode": "overlay",
              "size": 10,
              "solidity": 0.2
             }
            },
            "type": "bar"
           }
          ],
          "barpolar": [
           {
            "marker": {
             "line": {
              "color": "#E5ECF6",
              "width": 0.5
             },
             "pattern": {
              "fillmode": "overlay",
              "size": 10,
              "solidity": 0.2
             }
            },
            "type": "barpolar"
           }
          ],
          "carpet": [
           {
            "aaxis": {
             "endlinecolor": "#2a3f5f",
             "gridcolor": "white",
             "linecolor": "white",
             "minorgridcolor": "white",
             "startlinecolor": "#2a3f5f"
            },
            "baxis": {
             "endlinecolor": "#2a3f5f",
             "gridcolor": "white",
             "linecolor": "white",
             "minorgridcolor": "white",
             "startlinecolor": "#2a3f5f"
            },
            "type": "carpet"
           }
          ],
          "choropleth": [
           {
            "colorbar": {
             "outlinewidth": 0,
             "ticks": ""
            },
            "type": "choropleth"
           }
          ],
          "contour": [
           {
            "colorbar": {
             "outlinewidth": 0,
             "ticks": ""
            },
            "colorscale": [
             [
              0,
              "#0d0887"
             ],
             [
              0.1111111111111111,
              "#46039f"
             ],
             [
              0.2222222222222222,
              "#7201a8"
             ],
             [
              0.3333333333333333,
              "#9c179e"
             ],
             [
              0.4444444444444444,
              "#bd3786"
             ],
             [
              0.5555555555555556,
              "#d8576b"
             ],
             [
              0.6666666666666666,
              "#ed7953"
             ],
             [
              0.7777777777777778,
              "#fb9f3a"
             ],
             [
              0.8888888888888888,
              "#fdca26"
             ],
             [
              1,
              "#f0f921"
             ]
            ],
            "type": "contour"
           }
          ],
          "contourcarpet": [
           {
            "colorbar": {
             "outlinewidth": 0,
             "ticks": ""
            },
            "type": "contourcarpet"
           }
          ],
          "heatmap": [
           {
            "colorbar": {
             "outlinewidth": 0,
             "ticks": ""
            },
            "colorscale": [
             [
              0,
              "#0d0887"
             ],
             [
              0.1111111111111111,
              "#46039f"
             ],
             [
              0.2222222222222222,
              "#7201a8"
             ],
             [
              0.3333333333333333,
              "#9c179e"
             ],
             [
              0.4444444444444444,
              "#bd3786"
             ],
             [
              0.5555555555555556,
              "#d8576b"
             ],
             [
              0.6666666666666666,
              "#ed7953"
             ],
             [
              0.7777777777777778,
              "#fb9f3a"
             ],
             [
              0.8888888888888888,
              "#fdca26"
             ],
             [
              1,
              "#f0f921"
             ]
            ],
            "type": "heatmap"
           }
          ],
          "heatmapgl": [
           {
            "colorbar": {
             "outlinewidth": 0,
             "ticks": ""
            },
            "colorscale": [
             [
              0,
              "#0d0887"
             ],
             [
              0.1111111111111111,
              "#46039f"
             ],
             [
              0.2222222222222222,
              "#7201a8"
             ],
             [
              0.3333333333333333,
              "#9c179e"
             ],
             [
              0.4444444444444444,
              "#bd3786"
             ],
             [
              0.5555555555555556,
              "#d8576b"
             ],
             [
              0.6666666666666666,
              "#ed7953"
             ],
             [
              0.7777777777777778,
              "#fb9f3a"
             ],
             [
              0.8888888888888888,
              "#fdca26"
             ],
             [
              1,
              "#f0f921"
             ]
            ],
            "type": "heatmapgl"
           }
          ],
          "histogram": [
           {
            "marker": {
             "pattern": {
              "fillmode": "overlay",
              "size": 10,
              "solidity": 0.2
             }
            },
            "type": "histogram"
           }
          ],
          "histogram2d": [
           {
            "colorbar": {
             "outlinewidth": 0,
             "ticks": ""
            },
            "colorscale": [
             [
              0,
              "#0d0887"
             ],
             [
              0.1111111111111111,
              "#46039f"
             ],
             [
              0.2222222222222222,
              "#7201a8"
             ],
             [
              0.3333333333333333,
              "#9c179e"
             ],
             [
              0.4444444444444444,
              "#bd3786"
             ],
             [
              0.5555555555555556,
              "#d8576b"
             ],
             [
              0.6666666666666666,
              "#ed7953"
             ],
             [
              0.7777777777777778,
              "#fb9f3a"
             ],
             [
              0.8888888888888888,
              "#fdca26"
             ],
             [
              1,
              "#f0f921"
             ]
            ],
            "type": "histogram2d"
           }
          ],
          "histogram2dcontour": [
           {
            "colorbar": {
             "outlinewidth": 0,
             "ticks": ""
            },
            "colorscale": [
             [
              0,
              "#0d0887"
             ],
             [
              0.1111111111111111,
              "#46039f"
             ],
             [
              0.2222222222222222,
              "#7201a8"
             ],
             [
              0.3333333333333333,
              "#9c179e"
             ],
             [
              0.4444444444444444,
              "#bd3786"
             ],
             [
              0.5555555555555556,
              "#d8576b"
             ],
             [
              0.6666666666666666,
              "#ed7953"
             ],
             [
              0.7777777777777778,
              "#fb9f3a"
             ],
             [
              0.8888888888888888,
              "#fdca26"
             ],
             [
              1,
              "#f0f921"
             ]
            ],
            "type": "histogram2dcontour"
           }
          ],
          "mesh3d": [
           {
            "colorbar": {
             "outlinewidth": 0,
             "ticks": ""
            },
            "type": "mesh3d"
           }
          ],
          "parcoords": [
           {
            "line": {
             "colorbar": {
              "outlinewidth": 0,
              "ticks": ""
             }
            },
            "type": "parcoords"
           }
          ],
          "pie": [
           {
            "automargin": true,
            "type": "pie"
           }
          ],
          "scatter": [
           {
            "fillpattern": {
             "fillmode": "overlay",
             "size": 10,
             "solidity": 0.2
            },
            "type": "scatter"
           }
          ],
          "scatter3d": [
           {
            "line": {
             "colorbar": {
              "outlinewidth": 0,
              "ticks": ""
             }
            },
            "marker": {
             "colorbar": {
              "outlinewidth": 0,
              "ticks": ""
             }
            },
            "type": "scatter3d"
           }
          ],
          "scattercarpet": [
           {
            "marker": {
             "colorbar": {
              "outlinewidth": 0,
              "ticks": ""
             }
            },
            "type": "scattercarpet"
           }
          ],
          "scattergeo": [
           {
            "marker": {
             "colorbar": {
              "outlinewidth": 0,
              "ticks": ""
             }
            },
            "type": "scattergeo"
           }
          ],
          "scattergl": [
           {
            "marker": {
             "colorbar": {
              "outlinewidth": 0,
              "ticks": ""
             }
            },
            "type": "scattergl"
           }
          ],
          "scattermapbox": [
           {
            "marker": {
             "colorbar": {
              "outlinewidth": 0,
              "ticks": ""
             }
            },
            "type": "scattermapbox"
           }
          ],
          "scatterpolar": [
           {
            "marker": {
             "colorbar": {
              "outlinewidth": 0,
              "ticks": ""
             }
            },
            "type": "scatterpolar"
           }
          ],
          "scatterpolargl": [
           {
            "marker": {
             "colorbar": {
              "outlinewidth": 0,
              "ticks": ""
             }
            },
            "type": "scatterpolargl"
           }
          ],
          "scatterternary": [
           {
            "marker": {
             "colorbar": {
              "outlinewidth": 0,
              "ticks": ""
             }
            },
            "type": "scatterternary"
           }
          ],
          "surface": [
           {
            "colorbar": {
             "outlinewidth": 0,
             "ticks": ""
            },
            "colorscale": [
             [
              0,
              "#0d0887"
             ],
             [
              0.1111111111111111,
              "#46039f"
             ],
             [
              0.2222222222222222,
              "#7201a8"
             ],
             [
              0.3333333333333333,
              "#9c179e"
             ],
             [
              0.4444444444444444,
              "#bd3786"
             ],
             [
              0.5555555555555556,
              "#d8576b"
             ],
             [
              0.6666666666666666,
              "#ed7953"
             ],
             [
              0.7777777777777778,
              "#fb9f3a"
             ],
             [
              0.8888888888888888,
              "#fdca26"
             ],
             [
              1,
              "#f0f921"
             ]
            ],
            "type": "surface"
           }
          ],
          "table": [
           {
            "cells": {
             "fill": {
              "color": "#EBF0F8"
             },
             "line": {
              "color": "white"
             }
            },
            "header": {
             "fill": {
              "color": "#C8D4E3"
             },
             "line": {
              "color": "white"
             }
            },
            "type": "table"
           }
          ]
         },
         "layout": {
          "annotationdefaults": {
           "arrowcolor": "#2a3f5f",
           "arrowhead": 0,
           "arrowwidth": 1
          },
          "autotypenumbers": "strict",
          "coloraxis": {
           "colorbar": {
            "outlinewidth": 0,
            "ticks": ""
           }
          },
          "colorscale": {
           "diverging": [
            [
             0,
             "#8e0152"
            ],
            [
             0.1,
             "#c51b7d"
            ],
            [
             0.2,
             "#de77ae"
            ],
            [
             0.3,
             "#f1b6da"
            ],
            [
             0.4,
             "#fde0ef"
            ],
            [
             0.5,
             "#f7f7f7"
            ],
            [
             0.6,
             "#e6f5d0"
            ],
            [
             0.7,
             "#b8e186"
            ],
            [
             0.8,
             "#7fbc41"
            ],
            [
             0.9,
             "#4d9221"
            ],
            [
             1,
             "#276419"
            ]
           ],
           "sequential": [
            [
             0,
             "#0d0887"
            ],
            [
             0.1111111111111111,
             "#46039f"
            ],
            [
             0.2222222222222222,
             "#7201a8"
            ],
            [
             0.3333333333333333,
             "#9c179e"
            ],
            [
             0.4444444444444444,
             "#bd3786"
            ],
            [
             0.5555555555555556,
             "#d8576b"
            ],
            [
             0.6666666666666666,
             "#ed7953"
            ],
            [
             0.7777777777777778,
             "#fb9f3a"
            ],
            [
             0.8888888888888888,
             "#fdca26"
            ],
            [
             1,
             "#f0f921"
            ]
           ],
           "sequentialminus": [
            [
             0,
             "#0d0887"
            ],
            [
             0.1111111111111111,
             "#46039f"
            ],
            [
             0.2222222222222222,
             "#7201a8"
            ],
            [
             0.3333333333333333,
             "#9c179e"
            ],
            [
             0.4444444444444444,
             "#bd3786"
            ],
            [
             0.5555555555555556,
             "#d8576b"
            ],
            [
             0.6666666666666666,
             "#ed7953"
            ],
            [
             0.7777777777777778,
             "#fb9f3a"
            ],
            [
             0.8888888888888888,
             "#fdca26"
            ],
            [
             1,
             "#f0f921"
            ]
           ]
          },
          "colorway": [
           "#636efa",
           "#EF553B",
           "#00cc96",
           "#ab63fa",
           "#FFA15A",
           "#19d3f3",
           "#FF6692",
           "#B6E880",
           "#FF97FF",
           "#FECB52"
          ],
          "font": {
           "color": "#2a3f5f"
          },
          "geo": {
           "bgcolor": "white",
           "lakecolor": "white",
           "landcolor": "#E5ECF6",
           "showlakes": true,
           "showland": true,
           "subunitcolor": "white"
          },
          "hoverlabel": {
           "align": "left"
          },
          "hovermode": "closest",
          "mapbox": {
           "style": "light"
          },
          "paper_bgcolor": "white",
          "plot_bgcolor": "#E5ECF6",
          "polar": {
           "angularaxis": {
            "gridcolor": "white",
            "linecolor": "white",
            "ticks": ""
           },
           "bgcolor": "#E5ECF6",
           "radialaxis": {
            "gridcolor": "white",
            "linecolor": "white",
            "ticks": ""
           }
          },
          "scene": {
           "xaxis": {
            "backgroundcolor": "#E5ECF6",
            "gridcolor": "white",
            "gridwidth": 2,
            "linecolor": "white",
            "showbackground": true,
            "ticks": "",
            "zerolinecolor": "white"
           },
           "yaxis": {
            "backgroundcolor": "#E5ECF6",
            "gridcolor": "white",
            "gridwidth": 2,
            "linecolor": "white",
            "showbackground": true,
            "ticks": "",
            "zerolinecolor": "white"
           },
           "zaxis": {
            "backgroundcolor": "#E5ECF6",
            "gridcolor": "white",
            "gridwidth": 2,
            "linecolor": "white",
            "showbackground": true,
            "ticks": "",
            "zerolinecolor": "white"
           }
          },
          "shapedefaults": {
           "line": {
            "color": "#2a3f5f"
           }
          },
          "ternary": {
           "aaxis": {
            "gridcolor": "white",
            "linecolor": "white",
            "ticks": ""
           },
           "baxis": {
            "gridcolor": "white",
            "linecolor": "white",
            "ticks": ""
           },
           "bgcolor": "#E5ECF6",
           "caxis": {
            "gridcolor": "white",
            "linecolor": "white",
            "ticks": ""
           }
          },
          "title": {
           "x": 0.05
          },
          "xaxis": {
           "automargin": true,
           "gridcolor": "white",
           "linecolor": "white",
           "ticks": "",
           "title": {
            "standoff": 15
           },
           "zerolinecolor": "white",
           "zerolinewidth": 2
          },
          "yaxis": {
           "automargin": true,
           "gridcolor": "white",
           "linecolor": "white",
           "ticks": "",
           "title": {
            "standoff": 15
           },
           "zerolinecolor": "white",
           "zerolinewidth": 2
          }
         }
        },
        "title": {
         "text": "Correctness of the next_payment_day for monthly frequency"
        },
        "xaxis": {
         "anchor": "y",
         "domain": [
          0,
          1
         ],
         "title": {
          "text": "correct"
         }
        },
        "yaxis": {
         "anchor": "x",
         "domain": [
          0,
          1
         ],
         "title": {
          "text": "count"
         }
        }
       }
      }
     },
     "metadata": {},
     "output_type": "display_data"
    },
    {
     "data": {
      "application/vnd.plotly.v1+json": {
       "config": {
        "plotlyServerURL": "https://plot.ly"
       },
       "data": [
        {
         "direction": "clockwise",
         "domain": {
          "x": [
           0,
           1
          ],
          "y": [
           0,
           1
          ]
         },
         "hovertemplate": "correct=%{label}<br>count=%{value}<extra></extra>",
         "labels": [
          "correct",
          "wrong"
         ],
         "legendgroup": "",
         "name": "",
         "showlegend": true,
         "sort": false,
         "type": "pie",
         "values": [
          377,
          377
         ]
        }
       ],
       "layout": {
        "legend": {
         "tracegroupgap": 0
        },
        "template": {
         "data": {
          "bar": [
           {
            "error_x": {
             "color": "#2a3f5f"
            },
            "error_y": {
             "color": "#2a3f5f"
            },
            "marker": {
             "line": {
              "color": "#E5ECF6",
              "width": 0.5
             },
             "pattern": {
              "fillmode": "overlay",
              "size": 10,
              "solidity": 0.2
             }
            },
            "type": "bar"
           }
          ],
          "barpolar": [
           {
            "marker": {
             "line": {
              "color": "#E5ECF6",
              "width": 0.5
             },
             "pattern": {
              "fillmode": "overlay",
              "size": 10,
              "solidity": 0.2
             }
            },
            "type": "barpolar"
           }
          ],
          "carpet": [
           {
            "aaxis": {
             "endlinecolor": "#2a3f5f",
             "gridcolor": "white",
             "linecolor": "white",
             "minorgridcolor": "white",
             "startlinecolor": "#2a3f5f"
            },
            "baxis": {
             "endlinecolor": "#2a3f5f",
             "gridcolor": "white",
             "linecolor": "white",
             "minorgridcolor": "white",
             "startlinecolor": "#2a3f5f"
            },
            "type": "carpet"
           }
          ],
          "choropleth": [
           {
            "colorbar": {
             "outlinewidth": 0,
             "ticks": ""
            },
            "type": "choropleth"
           }
          ],
          "contour": [
           {
            "colorbar": {
             "outlinewidth": 0,
             "ticks": ""
            },
            "colorscale": [
             [
              0,
              "#0d0887"
             ],
             [
              0.1111111111111111,
              "#46039f"
             ],
             [
              0.2222222222222222,
              "#7201a8"
             ],
             [
              0.3333333333333333,
              "#9c179e"
             ],
             [
              0.4444444444444444,
              "#bd3786"
             ],
             [
              0.5555555555555556,
              "#d8576b"
             ],
             [
              0.6666666666666666,
              "#ed7953"
             ],
             [
              0.7777777777777778,
              "#fb9f3a"
             ],
             [
              0.8888888888888888,
              "#fdca26"
             ],
             [
              1,
              "#f0f921"
             ]
            ],
            "type": "contour"
           }
          ],
          "contourcarpet": [
           {
            "colorbar": {
             "outlinewidth": 0,
             "ticks": ""
            },
            "type": "contourcarpet"
           }
          ],
          "heatmap": [
           {
            "colorbar": {
             "outlinewidth": 0,
             "ticks": ""
            },
            "colorscale": [
             [
              0,
              "#0d0887"
             ],
             [
              0.1111111111111111,
              "#46039f"
             ],
             [
              0.2222222222222222,
              "#7201a8"
             ],
             [
              0.3333333333333333,
              "#9c179e"
             ],
             [
              0.4444444444444444,
              "#bd3786"
             ],
             [
              0.5555555555555556,
              "#d8576b"
             ],
             [
              0.6666666666666666,
              "#ed7953"
             ],
             [
              0.7777777777777778,
              "#fb9f3a"
             ],
             [
              0.8888888888888888,
              "#fdca26"
             ],
             [
              1,
              "#f0f921"
             ]
            ],
            "type": "heatmap"
           }
          ],
          "heatmapgl": [
           {
            "colorbar": {
             "outlinewidth": 0,
             "ticks": ""
            },
            "colorscale": [
             [
              0,
              "#0d0887"
             ],
             [
              0.1111111111111111,
              "#46039f"
             ],
             [
              0.2222222222222222,
              "#7201a8"
             ],
             [
              0.3333333333333333,
              "#9c179e"
             ],
             [
              0.4444444444444444,
              "#bd3786"
             ],
             [
              0.5555555555555556,
              "#d8576b"
             ],
             [
              0.6666666666666666,
              "#ed7953"
             ],
             [
              0.7777777777777778,
              "#fb9f3a"
             ],
             [
              0.8888888888888888,
              "#fdca26"
             ],
             [
              1,
              "#f0f921"
             ]
            ],
            "type": "heatmapgl"
           }
          ],
          "histogram": [
           {
            "marker": {
             "pattern": {
              "fillmode": "overlay",
              "size": 10,
              "solidity": 0.2
             }
            },
            "type": "histogram"
           }
          ],
          "histogram2d": [
           {
            "colorbar": {
             "outlinewidth": 0,
             "ticks": ""
            },
            "colorscale": [
             [
              0,
              "#0d0887"
             ],
             [
              0.1111111111111111,
              "#46039f"
             ],
             [
              0.2222222222222222,
              "#7201a8"
             ],
             [
              0.3333333333333333,
              "#9c179e"
             ],
             [
              0.4444444444444444,
              "#bd3786"
             ],
             [
              0.5555555555555556,
              "#d8576b"
             ],
             [
              0.6666666666666666,
              "#ed7953"
             ],
             [
              0.7777777777777778,
              "#fb9f3a"
             ],
             [
              0.8888888888888888,
              "#fdca26"
             ],
             [
              1,
              "#f0f921"
             ]
            ],
            "type": "histogram2d"
           }
          ],
          "histogram2dcontour": [
           {
            "colorbar": {
             "outlinewidth": 0,
             "ticks": ""
            },
            "colorscale": [
             [
              0,
              "#0d0887"
             ],
             [
              0.1111111111111111,
              "#46039f"
             ],
             [
              0.2222222222222222,
              "#7201a8"
             ],
             [
              0.3333333333333333,
              "#9c179e"
             ],
             [
              0.4444444444444444,
              "#bd3786"
             ],
             [
              0.5555555555555556,
              "#d8576b"
             ],
             [
              0.6666666666666666,
              "#ed7953"
             ],
             [
              0.7777777777777778,
              "#fb9f3a"
             ],
             [
              0.8888888888888888,
              "#fdca26"
             ],
             [
              1,
              "#f0f921"
             ]
            ],
            "type": "histogram2dcontour"
           }
          ],
          "mesh3d": [
           {
            "colorbar": {
             "outlinewidth": 0,
             "ticks": ""
            },
            "type": "mesh3d"
           }
          ],
          "parcoords": [
           {
            "line": {
             "colorbar": {
              "outlinewidth": 0,
              "ticks": ""
             }
            },
            "type": "parcoords"
           }
          ],
          "pie": [
           {
            "automargin": true,
            "type": "pie"
           }
          ],
          "scatter": [
           {
            "fillpattern": {
             "fillmode": "overlay",
             "size": 10,
             "solidity": 0.2
            },
            "type": "scatter"
           }
          ],
          "scatter3d": [
           {
            "line": {
             "colorbar": {
              "outlinewidth": 0,
              "ticks": ""
             }
            },
            "marker": {
             "colorbar": {
              "outlinewidth": 0,
              "ticks": ""
             }
            },
            "type": "scatter3d"
           }
          ],
          "scattercarpet": [
           {
            "marker": {
             "colorbar": {
              "outlinewidth": 0,
              "ticks": ""
             }
            },
            "type": "scattercarpet"
           }
          ],
          "scattergeo": [
           {
            "marker": {
             "colorbar": {
              "outlinewidth": 0,
              "ticks": ""
             }
            },
            "type": "scattergeo"
           }
          ],
          "scattergl": [
           {
            "marker": {
             "colorbar": {
              "outlinewidth": 0,
              "ticks": ""
             }
            },
            "type": "scattergl"
           }
          ],
          "scattermapbox": [
           {
            "marker": {
             "colorbar": {
              "outlinewidth": 0,
              "ticks": ""
             }
            },
            "type": "scattermapbox"
           }
          ],
          "scatterpolar": [
           {
            "marker": {
             "colorbar": {
              "outlinewidth": 0,
              "ticks": ""
             }
            },
            "type": "scatterpolar"
           }
          ],
          "scatterpolargl": [
           {
            "marker": {
             "colorbar": {
              "outlinewidth": 0,
              "ticks": ""
             }
            },
            "type": "scatterpolargl"
           }
          ],
          "scatterternary": [
           {
            "marker": {
             "colorbar": {
              "outlinewidth": 0,
              "ticks": ""
             }
            },
            "type": "scatterternary"
           }
          ],
          "surface": [
           {
            "colorbar": {
             "outlinewidth": 0,
             "ticks": ""
            },
            "colorscale": [
             [
              0,
              "#0d0887"
             ],
             [
              0.1111111111111111,
              "#46039f"
             ],
             [
              0.2222222222222222,
              "#7201a8"
             ],
             [
              0.3333333333333333,
              "#9c179e"
             ],
             [
              0.4444444444444444,
              "#bd3786"
             ],
             [
              0.5555555555555556,
              "#d8576b"
             ],
             [
              0.6666666666666666,
              "#ed7953"
             ],
             [
              0.7777777777777778,
              "#fb9f3a"
             ],
             [
              0.8888888888888888,
              "#fdca26"
             ],
             [
              1,
              "#f0f921"
             ]
            ],
            "type": "surface"
           }
          ],
          "table": [
           {
            "cells": {
             "fill": {
              "color": "#EBF0F8"
             },
             "line": {
              "color": "white"
             }
            },
            "header": {
             "fill": {
              "color": "#C8D4E3"
             },
             "line": {
              "color": "white"
             }
            },
            "type": "table"
           }
          ]
         },
         "layout": {
          "annotationdefaults": {
           "arrowcolor": "#2a3f5f",
           "arrowhead": 0,
           "arrowwidth": 1
          },
          "autotypenumbers": "strict",
          "coloraxis": {
           "colorbar": {
            "outlinewidth": 0,
            "ticks": ""
           }
          },
          "colorscale": {
           "diverging": [
            [
             0,
             "#8e0152"
            ],
            [
             0.1,
             "#c51b7d"
            ],
            [
             0.2,
             "#de77ae"
            ],
            [
             0.3,
             "#f1b6da"
            ],
            [
             0.4,
             "#fde0ef"
            ],
            [
             0.5,
             "#f7f7f7"
            ],
            [
             0.6,
             "#e6f5d0"
            ],
            [
             0.7,
             "#b8e186"
            ],
            [
             0.8,
             "#7fbc41"
            ],
            [
             0.9,
             "#4d9221"
            ],
            [
             1,
             "#276419"
            ]
           ],
           "sequential": [
            [
             0,
             "#0d0887"
            ],
            [
             0.1111111111111111,
             "#46039f"
            ],
            [
             0.2222222222222222,
             "#7201a8"
            ],
            [
             0.3333333333333333,
             "#9c179e"
            ],
            [
             0.4444444444444444,
             "#bd3786"
            ],
            [
             0.5555555555555556,
             "#d8576b"
            ],
            [
             0.6666666666666666,
             "#ed7953"
            ],
            [
             0.7777777777777778,
             "#fb9f3a"
            ],
            [
             0.8888888888888888,
             "#fdca26"
            ],
            [
             1,
             "#f0f921"
            ]
           ],
           "sequentialminus": [
            [
             0,
             "#0d0887"
            ],
            [
             0.1111111111111111,
             "#46039f"
            ],
            [
             0.2222222222222222,
             "#7201a8"
            ],
            [
             0.3333333333333333,
             "#9c179e"
            ],
            [
             0.4444444444444444,
             "#bd3786"
            ],
            [
             0.5555555555555556,
             "#d8576b"
            ],
            [
             0.6666666666666666,
             "#ed7953"
            ],
            [
             0.7777777777777778,
             "#fb9f3a"
            ],
            [
             0.8888888888888888,
             "#fdca26"
            ],
            [
             1,
             "#f0f921"
            ]
           ]
          },
          "colorway": [
           "#636efa",
           "#EF553B",
           "#00cc96",
           "#ab63fa",
           "#FFA15A",
           "#19d3f3",
           "#FF6692",
           "#B6E880",
           "#FF97FF",
           "#FECB52"
          ],
          "font": {
           "color": "#2a3f5f"
          },
          "geo": {
           "bgcolor": "white",
           "lakecolor": "white",
           "landcolor": "#E5ECF6",
           "showlakes": true,
           "showland": true,
           "subunitcolor": "white"
          },
          "hoverlabel": {
           "align": "left"
          },
          "hovermode": "closest",
          "mapbox": {
           "style": "light"
          },
          "paper_bgcolor": "white",
          "plot_bgcolor": "#E5ECF6",
          "polar": {
           "angularaxis": {
            "gridcolor": "white",
            "linecolor": "white",
            "ticks": ""
           },
           "bgcolor": "#E5ECF6",
           "radialaxis": {
            "gridcolor": "white",
            "linecolor": "white",
            "ticks": ""
           }
          },
          "scene": {
           "xaxis": {
            "backgroundcolor": "#E5ECF6",
            "gridcolor": "white",
            "gridwidth": 2,
            "linecolor": "white",
            "showbackground": true,
            "ticks": "",
            "zerolinecolor": "white"
           },
           "yaxis": {
            "backgroundcolor": "#E5ECF6",
            "gridcolor": "white",
            "gridwidth": 2,
            "linecolor": "white",
            "showbackground": true,
            "ticks": "",
            "zerolinecolor": "white"
           },
           "zaxis": {
            "backgroundcolor": "#E5ECF6",
            "gridcolor": "white",
            "gridwidth": 2,
            "linecolor": "white",
            "showbackground": true,
            "ticks": "",
            "zerolinecolor": "white"
           }
          },
          "shapedefaults": {
           "line": {
            "color": "#2a3f5f"
           }
          },
          "ternary": {
           "aaxis": {
            "gridcolor": "white",
            "linecolor": "white",
            "ticks": ""
           },
           "baxis": {
            "gridcolor": "white",
            "linecolor": "white",
            "ticks": ""
           },
           "bgcolor": "#E5ECF6",
           "caxis": {
            "gridcolor": "white",
            "linecolor": "white",
            "ticks": ""
           }
          },
          "title": {
           "x": 0.05
          },
          "xaxis": {
           "automargin": true,
           "gridcolor": "white",
           "linecolor": "white",
           "ticks": "",
           "title": {
            "standoff": 15
           },
           "zerolinecolor": "white",
           "zerolinewidth": 2
          },
          "yaxis": {
           "automargin": true,
           "gridcolor": "white",
           "linecolor": "white",
           "ticks": "",
           "title": {
            "standoff": 15
           },
           "zerolinecolor": "white",
           "zerolinewidth": 2
          }
         }
        },
        "title": {
         "text": "proportion"
        }
       }
      }
     },
     "metadata": {},
     "output_type": "display_data"
    }
   ],
   "source": [
    "# comparisson_backend_table.show()\n",
    "def int_day_of_week(column):\n",
    "    DAYS_OF_WEEK = [\n",
    "        \"sunday\",\n",
    "        \"monday\",\n",
    "        \"tuesday\",\n",
    "        \"wednesday\",\n",
    "        \"thursday\",\n",
    "        \"friday\",\n",
    "        \"saturday\",\n",
    "    ]\n",
    "\n",
    "    day_of_week = spark_f.when(\n",
    "        spark_f.col(column).isin(DAYS_OF_WEEK),\n",
    "        spark_f.expr(f\"array_position(array({','.join([ f\"'{day}'\" for day in DAYS_OF_WEEK])}), {column})\")\n",
    "    ).otherwise(spark_f.lit(None)).cast(\"int\")\n",
    "    return day_of_week\n",
    "\n",
    "def next_day_of_week(timestamp,day_of_week):\n",
    "    \n",
    "    dif = day_of_week - spark_f.dayofweek(timestamp)\n",
    "    next_day = spark_f.when(dif >= 0, spark_f.date_add(timestamp,dif)).otherwise(spark_f.date_add(timestamp ,dif+7))\n",
    "    return next_day\n",
    "\n",
    "def next_payment_day_weekly_frequency(day_column, event_timestamp, current_day = None):\n",
    "    if current_day is None:\n",
    "        current_day = spark_f.to_date(spark_f.lit(CURRENT_DAY))\n",
    "    else:\n",
    "        current_day = spark_f.to_date(current_day)\n",
    "    day_of_week = int_day_of_week(day_column)\n",
    "    \n",
    "    next_day = next_day_of_week(current_day,day_of_week)\n",
    "    return spark_f.day(next_day)\n",
    "\n",
    "\n",
    "backend_table_weekly_truth = build_backend_truth_table(\"weekly\", next_payment_day_weekly_frequency)\n",
    "# comparisson_backend_table.filter(\"truth_backend_table.frequency = 'weekly'\").show()\n",
    "pd_comparisson_backend = backend_table_weekly_truth.toPandas()\n",
    "\n",
    "histogram(\n",
    "    pd_comparisson_backend,\n",
    "    \"correct\",\n",
    "    \"Correctness of the next_payment_day for monthly frequency\",\n",
    ")\n",
    "\n",
    "pie_chart(pd_comparisson_backend, \"correct\", \"proportion\",category_orders={\"correct\": [\"correct\", \"wrong\"]})"
   ]
  },
  {
   "cell_type": "markdown",
   "metadata": {},
   "source": [
    "### biweekly"
   ]
  },
  {
   "cell_type": "code",
   "execution_count": 15,
   "metadata": {},
   "outputs": [
    {
     "data": {
      "application/vnd.plotly.v1+json": {
       "config": {
        "plotlyServerURL": "https://plot.ly"
       },
       "data": [
        {
         "alignmentgroup": "True",
         "bingroup": "x",
         "hovertemplate": "correct=%{x}<br>count=%{y}<extra></extra>",
         "legendgroup": "",
         "marker": {
          "color": "#636efa",
          "pattern": {
           "shape": ""
          }
         },
         "name": "",
         "offsetgroup": "",
         "orientation": "v",
         "showlegend": false,
         "type": "histogram",
         "x": [
          "wrong",
          "wrong",
          "correct",
          "wrong",
          "wrong",
          "wrong",
          "wrong",
          "wrong",
          "wrong",
          "wrong",
          "wrong",
          "wrong",
          "wrong",
          "wrong",
          "wrong",
          "wrong",
          "wrong",
          "wrong",
          "wrong",
          "wrong",
          "correct",
          "wrong",
          "wrong",
          "wrong",
          "wrong",
          "wrong",
          "wrong",
          "wrong",
          "wrong",
          "wrong",
          "correct",
          "wrong",
          "wrong",
          "correct",
          "wrong",
          "wrong",
          "wrong",
          "wrong",
          "wrong",
          "wrong",
          "correct",
          "wrong",
          "wrong",
          "wrong",
          "wrong",
          "wrong",
          "wrong",
          "wrong",
          "wrong",
          "wrong",
          "wrong",
          "wrong",
          "wrong",
          "wrong",
          "correct",
          "correct",
          "wrong",
          "wrong",
          "wrong",
          "correct",
          "correct",
          "wrong",
          "correct",
          "wrong",
          "wrong",
          "wrong",
          "wrong",
          "correct",
          "wrong",
          "wrong",
          "wrong",
          "wrong",
          "wrong",
          "wrong",
          "wrong",
          "wrong",
          "wrong",
          "wrong",
          "wrong",
          "wrong",
          "wrong",
          "wrong",
          "wrong",
          "wrong",
          "wrong",
          "wrong",
          "wrong",
          "wrong",
          "wrong",
          "wrong",
          "correct",
          "wrong",
          "wrong",
          "wrong",
          "wrong",
          "wrong",
          "wrong",
          "wrong",
          "correct",
          "wrong",
          "wrong",
          "wrong",
          "wrong",
          "correct",
          "correct",
          "wrong",
          "wrong",
          "correct",
          "wrong",
          "wrong",
          "wrong",
          "wrong",
          "wrong",
          "wrong",
          "wrong",
          "wrong",
          "wrong",
          "correct",
          "wrong",
          "wrong",
          "wrong",
          "wrong",
          "wrong",
          "wrong",
          "wrong",
          "wrong",
          "wrong",
          "wrong",
          "correct",
          "wrong",
          "wrong",
          "wrong",
          "wrong",
          "wrong",
          "wrong",
          "wrong",
          "wrong",
          "wrong",
          "wrong",
          "wrong",
          "wrong",
          "wrong",
          "wrong",
          "wrong",
          "correct",
          "wrong",
          "wrong",
          "wrong",
          "wrong",
          "wrong",
          "wrong",
          "wrong",
          "wrong",
          "wrong",
          "wrong",
          "wrong",
          "wrong",
          "wrong",
          "correct",
          "wrong",
          "wrong",
          "wrong",
          "wrong",
          "wrong",
          "wrong",
          "wrong",
          "wrong",
          "correct",
          "wrong",
          "wrong",
          "wrong",
          "wrong",
          "wrong",
          "wrong",
          "wrong",
          "correct",
          "wrong",
          "wrong",
          "wrong",
          "correct",
          "wrong",
          "wrong",
          "wrong",
          "wrong",
          "correct",
          "wrong",
          "wrong",
          "correct",
          "wrong",
          "wrong",
          "wrong",
          "correct",
          "wrong",
          "wrong",
          "wrong",
          "wrong",
          "wrong",
          "wrong",
          "correct",
          "wrong",
          "wrong",
          "correct",
          "wrong",
          "wrong",
          "wrong",
          "wrong",
          "wrong",
          "wrong",
          "correct",
          "wrong",
          "wrong",
          "wrong",
          "wrong",
          "wrong",
          "wrong",
          "wrong",
          "wrong",
          "wrong",
          "wrong",
          "wrong",
          "wrong",
          "correct",
          "wrong",
          "wrong",
          "wrong",
          "wrong",
          "wrong",
          "wrong",
          "wrong",
          "wrong",
          "wrong",
          "wrong",
          "wrong",
          "wrong",
          "correct",
          "correct",
          "correct",
          "wrong",
          "wrong",
          "wrong",
          "wrong",
          "wrong",
          "wrong",
          "wrong",
          "wrong",
          "wrong",
          "wrong",
          "correct",
          "correct",
          "wrong",
          "wrong",
          "correct",
          "wrong",
          "correct",
          "wrong",
          "wrong",
          "wrong",
          "correct",
          "correct",
          "correct",
          "correct",
          "wrong",
          "wrong",
          "wrong",
          "wrong",
          "wrong",
          "correct",
          "wrong",
          "correct",
          "wrong",
          "wrong",
          "wrong",
          "wrong",
          "wrong",
          "wrong",
          "wrong",
          "correct",
          "wrong",
          "wrong",
          "wrong",
          "wrong",
          "correct",
          "wrong",
          "wrong",
          "wrong",
          "wrong",
          "wrong",
          "wrong",
          "correct",
          "wrong",
          "wrong",
          "wrong",
          "wrong",
          "correct",
          "wrong",
          "wrong",
          "wrong",
          "wrong",
          "wrong",
          "wrong",
          "wrong",
          "wrong",
          "wrong",
          "correct",
          "wrong",
          "wrong",
          "wrong",
          "wrong",
          "wrong",
          "correct",
          "wrong",
          "wrong",
          "wrong",
          "wrong",
          "correct",
          "wrong",
          "wrong",
          "wrong",
          "wrong",
          "wrong",
          "wrong",
          "correct",
          "wrong",
          "wrong",
          "correct",
          "wrong",
          "wrong",
          "wrong",
          "wrong",
          "wrong",
          "wrong",
          "wrong",
          "correct",
          "wrong",
          "wrong",
          "wrong",
          "wrong",
          "wrong",
          "correct",
          "wrong",
          "wrong",
          "wrong",
          "wrong",
          "wrong",
          "correct",
          "wrong",
          "correct",
          "wrong",
          "wrong",
          "wrong",
          "wrong",
          "correct",
          "wrong",
          "wrong",
          "wrong",
          "wrong",
          "wrong",
          "correct",
          "wrong",
          "wrong",
          "wrong",
          "wrong",
          "wrong",
          "wrong",
          "wrong",
          "wrong",
          "wrong",
          "correct",
          "correct",
          "wrong",
          "correct",
          "wrong",
          "wrong",
          "correct",
          "correct",
          "wrong",
          "wrong",
          "wrong",
          "wrong",
          "wrong",
          "wrong",
          "correct",
          "correct",
          "wrong",
          "wrong",
          "wrong",
          "wrong",
          "wrong",
          "wrong",
          "wrong",
          "wrong",
          "correct",
          "wrong",
          "wrong",
          "correct",
          "wrong",
          "wrong",
          "wrong",
          "wrong",
          "wrong",
          "wrong",
          "wrong",
          "correct",
          "correct",
          "wrong",
          "wrong",
          "wrong",
          "wrong",
          "wrong",
          "correct",
          "wrong",
          "wrong",
          "wrong",
          "wrong",
          "wrong",
          "wrong",
          "wrong",
          "wrong",
          "wrong",
          "wrong",
          "wrong",
          "wrong",
          "wrong",
          "wrong",
          "wrong",
          "wrong",
          "wrong",
          "wrong",
          "wrong",
          "wrong",
          "wrong",
          "correct",
          "correct",
          "wrong",
          "wrong",
          "wrong",
          "wrong",
          "correct",
          "wrong",
          "wrong",
          "wrong",
          "correct",
          "correct",
          "wrong",
          "wrong",
          "correct",
          "wrong",
          "wrong",
          "wrong",
          "wrong",
          "wrong",
          "wrong",
          "wrong",
          "wrong",
          "wrong",
          "wrong",
          "wrong",
          "wrong",
          "wrong",
          "wrong",
          "wrong",
          "wrong",
          "wrong",
          "wrong",
          "wrong",
          "wrong",
          "wrong",
          "wrong",
          "correct",
          "correct",
          "wrong",
          "correct",
          "correct",
          "wrong",
          "wrong",
          "wrong",
          "wrong",
          "correct",
          "wrong",
          "wrong",
          "wrong",
          "wrong",
          "wrong",
          "wrong",
          "wrong",
          "wrong",
          "correct",
          "wrong",
          "wrong",
          "wrong",
          "correct",
          "wrong",
          "correct",
          "wrong",
          "wrong",
          "wrong",
          "wrong",
          "wrong",
          "wrong",
          "wrong",
          "wrong",
          "correct",
          "correct",
          "wrong",
          "correct",
          "correct",
          "correct",
          "wrong",
          "wrong",
          "wrong",
          "wrong",
          "correct",
          "wrong",
          "wrong",
          "correct",
          "wrong",
          "wrong",
          "wrong",
          "wrong",
          "wrong",
          "wrong",
          "wrong",
          "wrong",
          "wrong",
          "wrong",
          "wrong",
          "correct",
          "wrong",
          "wrong",
          "wrong",
          "wrong",
          "wrong",
          "wrong",
          "wrong",
          "correct",
          "wrong",
          "wrong",
          "wrong",
          "correct",
          "wrong",
          "correct",
          "wrong",
          "wrong",
          "wrong",
          "wrong",
          "wrong",
          "correct",
          "wrong",
          "wrong",
          "wrong",
          "wrong",
          "wrong",
          "wrong",
          "wrong",
          "wrong",
          "wrong",
          "wrong",
          "wrong",
          "wrong",
          "wrong",
          "wrong",
          "wrong",
          "wrong",
          "wrong",
          "wrong",
          "correct",
          "wrong",
          "correct",
          "correct",
          "wrong",
          "wrong",
          "correct",
          "wrong",
          "wrong",
          "wrong",
          "wrong",
          "wrong",
          "wrong",
          "wrong",
          "wrong",
          "wrong",
          "wrong",
          "wrong",
          "wrong",
          "wrong",
          "wrong",
          "correct",
          "wrong",
          "wrong",
          "wrong",
          "wrong",
          "wrong",
          "correct",
          "correct",
          "wrong",
          "wrong",
          "wrong",
          "wrong",
          "correct",
          "correct",
          "correct",
          "wrong",
          "wrong",
          "wrong",
          "wrong",
          "wrong",
          "wrong",
          "wrong",
          "wrong",
          "wrong",
          "wrong",
          "wrong",
          "wrong",
          "correct",
          "wrong",
          "wrong",
          "wrong",
          "correct",
          "wrong",
          "wrong",
          "wrong",
          "wrong",
          "correct",
          "correct",
          "correct",
          "wrong",
          "correct",
          "correct",
          "wrong",
          "wrong",
          "wrong",
          "correct",
          "correct",
          "wrong",
          "wrong",
          "wrong",
          "wrong",
          "wrong",
          "wrong",
          "correct",
          "correct",
          "wrong",
          "wrong",
          "wrong",
          "wrong",
          "wrong",
          "wrong",
          "wrong",
          "wrong",
          "wrong",
          "wrong",
          "wrong",
          "wrong",
          "correct",
          "wrong",
          "correct",
          "wrong",
          "wrong",
          "correct",
          "wrong",
          "wrong",
          "wrong",
          "wrong",
          "wrong",
          "wrong",
          "wrong",
          "wrong",
          "wrong",
          "wrong",
          "wrong",
          "correct",
          "correct",
          "wrong",
          "wrong",
          "wrong",
          "wrong",
          "wrong",
          "wrong",
          "correct",
          "correct",
          "wrong",
          "wrong",
          "wrong",
          "wrong",
          "wrong",
          "wrong",
          "correct",
          "wrong",
          "wrong",
          "correct",
          "wrong",
          "wrong",
          "correct",
          "wrong",
          "wrong",
          "correct",
          "wrong",
          "wrong",
          "wrong",
          "wrong",
          "wrong",
          "wrong",
          "wrong",
          "wrong",
          "wrong",
          "wrong",
          "correct",
          "wrong",
          "correct",
          "wrong",
          "wrong",
          "wrong",
          "wrong",
          "wrong",
          "wrong",
          "wrong",
          "wrong",
          "wrong",
          "wrong",
          "wrong",
          "wrong",
          "wrong",
          "wrong",
          "wrong",
          "wrong",
          "wrong",
          "correct",
          "correct",
          "wrong",
          "correct",
          "wrong",
          "wrong",
          "wrong",
          "correct",
          "wrong",
          "wrong",
          "correct",
          "wrong",
          "wrong",
          "correct",
          "wrong",
          "wrong",
          "wrong",
          "wrong",
          "wrong",
          "wrong",
          "wrong",
          "wrong",
          "wrong",
          "wrong",
          "correct",
          "wrong",
          "wrong",
          "wrong",
          "wrong",
          "wrong",
          "wrong",
          "wrong",
          "wrong",
          "wrong",
          "wrong",
          "correct",
          "correct",
          "wrong",
          "wrong",
          "wrong",
          "wrong",
          "correct",
          "wrong",
          "wrong",
          "wrong",
          "wrong",
          "wrong",
          "wrong",
          "wrong",
          "wrong",
          "wrong",
          "wrong",
          "wrong",
          "wrong",
          "wrong",
          "wrong",
          "wrong",
          "correct",
          "wrong",
          "correct",
          "wrong",
          "wrong",
          "correct",
          "wrong",
          "wrong",
          "correct",
          "wrong",
          "correct",
          "wrong",
          "wrong",
          "wrong",
          "wrong",
          "correct",
          "correct",
          "wrong",
          "wrong",
          "wrong",
          "wrong",
          "wrong",
          "correct",
          "wrong",
          "correct",
          "wrong",
          "wrong",
          "wrong",
          "wrong",
          "wrong",
          "wrong",
          "wrong",
          "correct",
          "wrong",
          "wrong",
          "correct",
          "wrong",
          "wrong",
          "wrong",
          "correct",
          "correct",
          "wrong",
          "wrong",
          "wrong",
          "wrong",
          "wrong",
          "correct",
          "correct",
          "wrong",
          "wrong",
          "correct",
          "correct",
          "correct",
          "wrong",
          "wrong",
          "wrong",
          "wrong",
          "wrong",
          "wrong",
          "wrong",
          "wrong",
          "wrong",
          "wrong",
          "correct",
          "wrong",
          "wrong",
          "wrong",
          "correct",
          "wrong",
          "wrong",
          "correct",
          "wrong",
          "wrong",
          "wrong",
          "wrong",
          "wrong",
          "correct",
          "correct",
          "wrong",
          "correct",
          "wrong",
          "correct",
          "wrong",
          "wrong",
          "correct",
          "correct",
          "correct",
          "wrong",
          "wrong",
          "wrong",
          "correct"
         ],
         "xaxis": "x",
         "yaxis": "y"
        }
       ],
       "layout": {
        "barmode": "relative",
        "legend": {
         "tracegroupgap": 0
        },
        "template": {
         "data": {
          "bar": [
           {
            "error_x": {
             "color": "#2a3f5f"
            },
            "error_y": {
             "color": "#2a3f5f"
            },
            "marker": {
             "line": {
              "color": "#E5ECF6",
              "width": 0.5
             },
             "pattern": {
              "fillmode": "overlay",
              "size": 10,
              "solidity": 0.2
             }
            },
            "type": "bar"
           }
          ],
          "barpolar": [
           {
            "marker": {
             "line": {
              "color": "#E5ECF6",
              "width": 0.5
             },
             "pattern": {
              "fillmode": "overlay",
              "size": 10,
              "solidity": 0.2
             }
            },
            "type": "barpolar"
           }
          ],
          "carpet": [
           {
            "aaxis": {
             "endlinecolor": "#2a3f5f",
             "gridcolor": "white",
             "linecolor": "white",
             "minorgridcolor": "white",
             "startlinecolor": "#2a3f5f"
            },
            "baxis": {
             "endlinecolor": "#2a3f5f",
             "gridcolor": "white",
             "linecolor": "white",
             "minorgridcolor": "white",
             "startlinecolor": "#2a3f5f"
            },
            "type": "carpet"
           }
          ],
          "choropleth": [
           {
            "colorbar": {
             "outlinewidth": 0,
             "ticks": ""
            },
            "type": "choropleth"
           }
          ],
          "contour": [
           {
            "colorbar": {
             "outlinewidth": 0,
             "ticks": ""
            },
            "colorscale": [
             [
              0,
              "#0d0887"
             ],
             [
              0.1111111111111111,
              "#46039f"
             ],
             [
              0.2222222222222222,
              "#7201a8"
             ],
             [
              0.3333333333333333,
              "#9c179e"
             ],
             [
              0.4444444444444444,
              "#bd3786"
             ],
             [
              0.5555555555555556,
              "#d8576b"
             ],
             [
              0.6666666666666666,
              "#ed7953"
             ],
             [
              0.7777777777777778,
              "#fb9f3a"
             ],
             [
              0.8888888888888888,
              "#fdca26"
             ],
             [
              1,
              "#f0f921"
             ]
            ],
            "type": "contour"
           }
          ],
          "contourcarpet": [
           {
            "colorbar": {
             "outlinewidth": 0,
             "ticks": ""
            },
            "type": "contourcarpet"
           }
          ],
          "heatmap": [
           {
            "colorbar": {
             "outlinewidth": 0,
             "ticks": ""
            },
            "colorscale": [
             [
              0,
              "#0d0887"
             ],
             [
              0.1111111111111111,
              "#46039f"
             ],
             [
              0.2222222222222222,
              "#7201a8"
             ],
             [
              0.3333333333333333,
              "#9c179e"
             ],
             [
              0.4444444444444444,
              "#bd3786"
             ],
             [
              0.5555555555555556,
              "#d8576b"
             ],
             [
              0.6666666666666666,
              "#ed7953"
             ],
             [
              0.7777777777777778,
              "#fb9f3a"
             ],
             [
              0.8888888888888888,
              "#fdca26"
             ],
             [
              1,
              "#f0f921"
             ]
            ],
            "type": "heatmap"
           }
          ],
          "heatmapgl": [
           {
            "colorbar": {
             "outlinewidth": 0,
             "ticks": ""
            },
            "colorscale": [
             [
              0,
              "#0d0887"
             ],
             [
              0.1111111111111111,
              "#46039f"
             ],
             [
              0.2222222222222222,
              "#7201a8"
             ],
             [
              0.3333333333333333,
              "#9c179e"
             ],
             [
              0.4444444444444444,
              "#bd3786"
             ],
             [
              0.5555555555555556,
              "#d8576b"
             ],
             [
              0.6666666666666666,
              "#ed7953"
             ],
             [
              0.7777777777777778,
              "#fb9f3a"
             ],
             [
              0.8888888888888888,
              "#fdca26"
             ],
             [
              1,
              "#f0f921"
             ]
            ],
            "type": "heatmapgl"
           }
          ],
          "histogram": [
           {
            "marker": {
             "pattern": {
              "fillmode": "overlay",
              "size": 10,
              "solidity": 0.2
             }
            },
            "type": "histogram"
           }
          ],
          "histogram2d": [
           {
            "colorbar": {
             "outlinewidth": 0,
             "ticks": ""
            },
            "colorscale": [
             [
              0,
              "#0d0887"
             ],
             [
              0.1111111111111111,
              "#46039f"
             ],
             [
              0.2222222222222222,
              "#7201a8"
             ],
             [
              0.3333333333333333,
              "#9c179e"
             ],
             [
              0.4444444444444444,
              "#bd3786"
             ],
             [
              0.5555555555555556,
              "#d8576b"
             ],
             [
              0.6666666666666666,
              "#ed7953"
             ],
             [
              0.7777777777777778,
              "#fb9f3a"
             ],
             [
              0.8888888888888888,
              "#fdca26"
             ],
             [
              1,
              "#f0f921"
             ]
            ],
            "type": "histogram2d"
           }
          ],
          "histogram2dcontour": [
           {
            "colorbar": {
             "outlinewidth": 0,
             "ticks": ""
            },
            "colorscale": [
             [
              0,
              "#0d0887"
             ],
             [
              0.1111111111111111,
              "#46039f"
             ],
             [
              0.2222222222222222,
              "#7201a8"
             ],
             [
              0.3333333333333333,
              "#9c179e"
             ],
             [
              0.4444444444444444,
              "#bd3786"
             ],
             [
              0.5555555555555556,
              "#d8576b"
             ],
             [
              0.6666666666666666,
              "#ed7953"
             ],
             [
              0.7777777777777778,
              "#fb9f3a"
             ],
             [
              0.8888888888888888,
              "#fdca26"
             ],
             [
              1,
              "#f0f921"
             ]
            ],
            "type": "histogram2dcontour"
           }
          ],
          "mesh3d": [
           {
            "colorbar": {
             "outlinewidth": 0,
             "ticks": ""
            },
            "type": "mesh3d"
           }
          ],
          "parcoords": [
           {
            "line": {
             "colorbar": {
              "outlinewidth": 0,
              "ticks": ""
             }
            },
            "type": "parcoords"
           }
          ],
          "pie": [
           {
            "automargin": true,
            "type": "pie"
           }
          ],
          "scatter": [
           {
            "fillpattern": {
             "fillmode": "overlay",
             "size": 10,
             "solidity": 0.2
            },
            "type": "scatter"
           }
          ],
          "scatter3d": [
           {
            "line": {
             "colorbar": {
              "outlinewidth": 0,
              "ticks": ""
             }
            },
            "marker": {
             "colorbar": {
              "outlinewidth": 0,
              "ticks": ""
             }
            },
            "type": "scatter3d"
           }
          ],
          "scattercarpet": [
           {
            "marker": {
             "colorbar": {
              "outlinewidth": 0,
              "ticks": ""
             }
            },
            "type": "scattercarpet"
           }
          ],
          "scattergeo": [
           {
            "marker": {
             "colorbar": {
              "outlinewidth": 0,
              "ticks": ""
             }
            },
            "type": "scattergeo"
           }
          ],
          "scattergl": [
           {
            "marker": {
             "colorbar": {
              "outlinewidth": 0,
              "ticks": ""
             }
            },
            "type": "scattergl"
           }
          ],
          "scattermapbox": [
           {
            "marker": {
             "colorbar": {
              "outlinewidth": 0,
              "ticks": ""
             }
            },
            "type": "scattermapbox"
           }
          ],
          "scatterpolar": [
           {
            "marker": {
             "colorbar": {
              "outlinewidth": 0,
              "ticks": ""
             }
            },
            "type": "scatterpolar"
           }
          ],
          "scatterpolargl": [
           {
            "marker": {
             "colorbar": {
              "outlinewidth": 0,
              "ticks": ""
             }
            },
            "type": "scatterpolargl"
           }
          ],
          "scatterternary": [
           {
            "marker": {
             "colorbar": {
              "outlinewidth": 0,
              "ticks": ""
             }
            },
            "type": "scatterternary"
           }
          ],
          "surface": [
           {
            "colorbar": {
             "outlinewidth": 0,
             "ticks": ""
            },
            "colorscale": [
             [
              0,
              "#0d0887"
             ],
             [
              0.1111111111111111,
              "#46039f"
             ],
             [
              0.2222222222222222,
              "#7201a8"
             ],
             [
              0.3333333333333333,
              "#9c179e"
             ],
             [
              0.4444444444444444,
              "#bd3786"
             ],
             [
              0.5555555555555556,
              "#d8576b"
             ],
             [
              0.6666666666666666,
              "#ed7953"
             ],
             [
              0.7777777777777778,
              "#fb9f3a"
             ],
             [
              0.8888888888888888,
              "#fdca26"
             ],
             [
              1,
              "#f0f921"
             ]
            ],
            "type": "surface"
           }
          ],
          "table": [
           {
            "cells": {
             "fill": {
              "color": "#EBF0F8"
             },
             "line": {
              "color": "white"
             }
            },
            "header": {
             "fill": {
              "color": "#C8D4E3"
             },
             "line": {
              "color": "white"
             }
            },
            "type": "table"
           }
          ]
         },
         "layout": {
          "annotationdefaults": {
           "arrowcolor": "#2a3f5f",
           "arrowhead": 0,
           "arrowwidth": 1
          },
          "autotypenumbers": "strict",
          "coloraxis": {
           "colorbar": {
            "outlinewidth": 0,
            "ticks": ""
           }
          },
          "colorscale": {
           "diverging": [
            [
             0,
             "#8e0152"
            ],
            [
             0.1,
             "#c51b7d"
            ],
            [
             0.2,
             "#de77ae"
            ],
            [
             0.3,
             "#f1b6da"
            ],
            [
             0.4,
             "#fde0ef"
            ],
            [
             0.5,
             "#f7f7f7"
            ],
            [
             0.6,
             "#e6f5d0"
            ],
            [
             0.7,
             "#b8e186"
            ],
            [
             0.8,
             "#7fbc41"
            ],
            [
             0.9,
             "#4d9221"
            ],
            [
             1,
             "#276419"
            ]
           ],
           "sequential": [
            [
             0,
             "#0d0887"
            ],
            [
             0.1111111111111111,
             "#46039f"
            ],
            [
             0.2222222222222222,
             "#7201a8"
            ],
            [
             0.3333333333333333,
             "#9c179e"
            ],
            [
             0.4444444444444444,
             "#bd3786"
            ],
            [
             0.5555555555555556,
             "#d8576b"
            ],
            [
             0.6666666666666666,
             "#ed7953"
            ],
            [
             0.7777777777777778,
             "#fb9f3a"
            ],
            [
             0.8888888888888888,
             "#fdca26"
            ],
            [
             1,
             "#f0f921"
            ]
           ],
           "sequentialminus": [
            [
             0,
             "#0d0887"
            ],
            [
             0.1111111111111111,
             "#46039f"
            ],
            [
             0.2222222222222222,
             "#7201a8"
            ],
            [
             0.3333333333333333,
             "#9c179e"
            ],
            [
             0.4444444444444444,
             "#bd3786"
            ],
            [
             0.5555555555555556,
             "#d8576b"
            ],
            [
             0.6666666666666666,
             "#ed7953"
            ],
            [
             0.7777777777777778,
             "#fb9f3a"
            ],
            [
             0.8888888888888888,
             "#fdca26"
            ],
            [
             1,
             "#f0f921"
            ]
           ]
          },
          "colorway": [
           "#636efa",
           "#EF553B",
           "#00cc96",
           "#ab63fa",
           "#FFA15A",
           "#19d3f3",
           "#FF6692",
           "#B6E880",
           "#FF97FF",
           "#FECB52"
          ],
          "font": {
           "color": "#2a3f5f"
          },
          "geo": {
           "bgcolor": "white",
           "lakecolor": "white",
           "landcolor": "#E5ECF6",
           "showlakes": true,
           "showland": true,
           "subunitcolor": "white"
          },
          "hoverlabel": {
           "align": "left"
          },
          "hovermode": "closest",
          "mapbox": {
           "style": "light"
          },
          "paper_bgcolor": "white",
          "plot_bgcolor": "#E5ECF6",
          "polar": {
           "angularaxis": {
            "gridcolor": "white",
            "linecolor": "white",
            "ticks": ""
           },
           "bgcolor": "#E5ECF6",
           "radialaxis": {
            "gridcolor": "white",
            "linecolor": "white",
            "ticks": ""
           }
          },
          "scene": {
           "xaxis": {
            "backgroundcolor": "#E5ECF6",
            "gridcolor": "white",
            "gridwidth": 2,
            "linecolor": "white",
            "showbackground": true,
            "ticks": "",
            "zerolinecolor": "white"
           },
           "yaxis": {
            "backgroundcolor": "#E5ECF6",
            "gridcolor": "white",
            "gridwidth": 2,
            "linecolor": "white",
            "showbackground": true,
            "ticks": "",
            "zerolinecolor": "white"
           },
           "zaxis": {
            "backgroundcolor": "#E5ECF6",
            "gridcolor": "white",
            "gridwidth": 2,
            "linecolor": "white",
            "showbackground": true,
            "ticks": "",
            "zerolinecolor": "white"
           }
          },
          "shapedefaults": {
           "line": {
            "color": "#2a3f5f"
           }
          },
          "ternary": {
           "aaxis": {
            "gridcolor": "white",
            "linecolor": "white",
            "ticks": ""
           },
           "baxis": {
            "gridcolor": "white",
            "linecolor": "white",
            "ticks": ""
           },
           "bgcolor": "#E5ECF6",
           "caxis": {
            "gridcolor": "white",
            "linecolor": "white",
            "ticks": ""
           }
          },
          "title": {
           "x": 0.05
          },
          "xaxis": {
           "automargin": true,
           "gridcolor": "white",
           "linecolor": "white",
           "ticks": "",
           "title": {
            "standoff": 15
           },
           "zerolinecolor": "white",
           "zerolinewidth": 2
          },
          "yaxis": {
           "automargin": true,
           "gridcolor": "white",
           "linecolor": "white",
           "ticks": "",
           "title": {
            "standoff": 15
           },
           "zerolinecolor": "white",
           "zerolinewidth": 2
          }
         }
        },
        "title": {
         "text": "Correctness of the next_payment_day for monthly frequency"
        },
        "xaxis": {
         "anchor": "y",
         "domain": [
          0,
          1
         ],
         "title": {
          "text": "correct"
         }
        },
        "yaxis": {
         "anchor": "x",
         "domain": [
          0,
          1
         ],
         "title": {
          "text": "count"
         }
        }
       }
      }
     },
     "metadata": {},
     "output_type": "display_data"
    },
    {
     "data": {
      "application/vnd.plotly.v1+json": {
       "config": {
        "plotlyServerURL": "https://plot.ly"
       },
       "data": [
        {
         "direction": "clockwise",
         "domain": {
          "x": [
           0,
           1
          ],
          "y": [
           0,
           1
          ]
         },
         "hovertemplate": "correct=%{label}<br>count=%{value}<extra></extra>",
         "labels": [
          "correct",
          "wrong"
         ],
         "legendgroup": "",
         "name": "",
         "showlegend": true,
         "sort": false,
         "type": "pie",
         "values": [
          169,
          705
         ]
        }
       ],
       "layout": {
        "legend": {
         "tracegroupgap": 0
        },
        "template": {
         "data": {
          "bar": [
           {
            "error_x": {
             "color": "#2a3f5f"
            },
            "error_y": {
             "color": "#2a3f5f"
            },
            "marker": {
             "line": {
              "color": "#E5ECF6",
              "width": 0.5
             },
             "pattern": {
              "fillmode": "overlay",
              "size": 10,
              "solidity": 0.2
             }
            },
            "type": "bar"
           }
          ],
          "barpolar": [
           {
            "marker": {
             "line": {
              "color": "#E5ECF6",
              "width": 0.5
             },
             "pattern": {
              "fillmode": "overlay",
              "size": 10,
              "solidity": 0.2
             }
            },
            "type": "barpolar"
           }
          ],
          "carpet": [
           {
            "aaxis": {
             "endlinecolor": "#2a3f5f",
             "gridcolor": "white",
             "linecolor": "white",
             "minorgridcolor": "white",
             "startlinecolor": "#2a3f5f"
            },
            "baxis": {
             "endlinecolor": "#2a3f5f",
             "gridcolor": "white",
             "linecolor": "white",
             "minorgridcolor": "white",
             "startlinecolor": "#2a3f5f"
            },
            "type": "carpet"
           }
          ],
          "choropleth": [
           {
            "colorbar": {
             "outlinewidth": 0,
             "ticks": ""
            },
            "type": "choropleth"
           }
          ],
          "contour": [
           {
            "colorbar": {
             "outlinewidth": 0,
             "ticks": ""
            },
            "colorscale": [
             [
              0,
              "#0d0887"
             ],
             [
              0.1111111111111111,
              "#46039f"
             ],
             [
              0.2222222222222222,
              "#7201a8"
             ],
             [
              0.3333333333333333,
              "#9c179e"
             ],
             [
              0.4444444444444444,
              "#bd3786"
             ],
             [
              0.5555555555555556,
              "#d8576b"
             ],
             [
              0.6666666666666666,
              "#ed7953"
             ],
             [
              0.7777777777777778,
              "#fb9f3a"
             ],
             [
              0.8888888888888888,
              "#fdca26"
             ],
             [
              1,
              "#f0f921"
             ]
            ],
            "type": "contour"
           }
          ],
          "contourcarpet": [
           {
            "colorbar": {
             "outlinewidth": 0,
             "ticks": ""
            },
            "type": "contourcarpet"
           }
          ],
          "heatmap": [
           {
            "colorbar": {
             "outlinewidth": 0,
             "ticks": ""
            },
            "colorscale": [
             [
              0,
              "#0d0887"
             ],
             [
              0.1111111111111111,
              "#46039f"
             ],
             [
              0.2222222222222222,
              "#7201a8"
             ],
             [
              0.3333333333333333,
              "#9c179e"
             ],
             [
              0.4444444444444444,
              "#bd3786"
             ],
             [
              0.5555555555555556,
              "#d8576b"
             ],
             [
              0.6666666666666666,
              "#ed7953"
             ],
             [
              0.7777777777777778,
              "#fb9f3a"
             ],
             [
              0.8888888888888888,
              "#fdca26"
             ],
             [
              1,
              "#f0f921"
             ]
            ],
            "type": "heatmap"
           }
          ],
          "heatmapgl": [
           {
            "colorbar": {
             "outlinewidth": 0,
             "ticks": ""
            },
            "colorscale": [
             [
              0,
              "#0d0887"
             ],
             [
              0.1111111111111111,
              "#46039f"
             ],
             [
              0.2222222222222222,
              "#7201a8"
             ],
             [
              0.3333333333333333,
              "#9c179e"
             ],
             [
              0.4444444444444444,
              "#bd3786"
             ],
             [
              0.5555555555555556,
              "#d8576b"
             ],
             [
              0.6666666666666666,
              "#ed7953"
             ],
             [
              0.7777777777777778,
              "#fb9f3a"
             ],
             [
              0.8888888888888888,
              "#fdca26"
             ],
             [
              1,
              "#f0f921"
             ]
            ],
            "type": "heatmapgl"
           }
          ],
          "histogram": [
           {
            "marker": {
             "pattern": {
              "fillmode": "overlay",
              "size": 10,
              "solidity": 0.2
             }
            },
            "type": "histogram"
           }
          ],
          "histogram2d": [
           {
            "colorbar": {
             "outlinewidth": 0,
             "ticks": ""
            },
            "colorscale": [
             [
              0,
              "#0d0887"
             ],
             [
              0.1111111111111111,
              "#46039f"
             ],
             [
              0.2222222222222222,
              "#7201a8"
             ],
             [
              0.3333333333333333,
              "#9c179e"
             ],
             [
              0.4444444444444444,
              "#bd3786"
             ],
             [
              0.5555555555555556,
              "#d8576b"
             ],
             [
              0.6666666666666666,
              "#ed7953"
             ],
             [
              0.7777777777777778,
              "#fb9f3a"
             ],
             [
              0.8888888888888888,
              "#fdca26"
             ],
             [
              1,
              "#f0f921"
             ]
            ],
            "type": "histogram2d"
           }
          ],
          "histogram2dcontour": [
           {
            "colorbar": {
             "outlinewidth": 0,
             "ticks": ""
            },
            "colorscale": [
             [
              0,
              "#0d0887"
             ],
             [
              0.1111111111111111,
              "#46039f"
             ],
             [
              0.2222222222222222,
              "#7201a8"
             ],
             [
              0.3333333333333333,
              "#9c179e"
             ],
             [
              0.4444444444444444,
              "#bd3786"
             ],
             [
              0.5555555555555556,
              "#d8576b"
             ],
             [
              0.6666666666666666,
              "#ed7953"
             ],
             [
              0.7777777777777778,
              "#fb9f3a"
             ],
             [
              0.8888888888888888,
              "#fdca26"
             ],
             [
              1,
              "#f0f921"
             ]
            ],
            "type": "histogram2dcontour"
           }
          ],
          "mesh3d": [
           {
            "colorbar": {
             "outlinewidth": 0,
             "ticks": ""
            },
            "type": "mesh3d"
           }
          ],
          "parcoords": [
           {
            "line": {
             "colorbar": {
              "outlinewidth": 0,
              "ticks": ""
             }
            },
            "type": "parcoords"
           }
          ],
          "pie": [
           {
            "automargin": true,
            "type": "pie"
           }
          ],
          "scatter": [
           {
            "fillpattern": {
             "fillmode": "overlay",
             "size": 10,
             "solidity": 0.2
            },
            "type": "scatter"
           }
          ],
          "scatter3d": [
           {
            "line": {
             "colorbar": {
              "outlinewidth": 0,
              "ticks": ""
             }
            },
            "marker": {
             "colorbar": {
              "outlinewidth": 0,
              "ticks": ""
             }
            },
            "type": "scatter3d"
           }
          ],
          "scattercarpet": [
           {
            "marker": {
             "colorbar": {
              "outlinewidth": 0,
              "ticks": ""
             }
            },
            "type": "scattercarpet"
           }
          ],
          "scattergeo": [
           {
            "marker": {
             "colorbar": {
              "outlinewidth": 0,
              "ticks": ""
             }
            },
            "type": "scattergeo"
           }
          ],
          "scattergl": [
           {
            "marker": {
             "colorbar": {
              "outlinewidth": 0,
              "ticks": ""
             }
            },
            "type": "scattergl"
           }
          ],
          "scattermapbox": [
           {
            "marker": {
             "colorbar": {
              "outlinewidth": 0,
              "ticks": ""
             }
            },
            "type": "scattermapbox"
           }
          ],
          "scatterpolar": [
           {
            "marker": {
             "colorbar": {
              "outlinewidth": 0,
              "ticks": ""
             }
            },
            "type": "scatterpolar"
           }
          ],
          "scatterpolargl": [
           {
            "marker": {
             "colorbar": {
              "outlinewidth": 0,
              "ticks": ""
             }
            },
            "type": "scatterpolargl"
           }
          ],
          "scatterternary": [
           {
            "marker": {
             "colorbar": {
              "outlinewidth": 0,
              "ticks": ""
             }
            },
            "type": "scatterternary"
           }
          ],
          "surface": [
           {
            "colorbar": {
             "outlinewidth": 0,
             "ticks": ""
            },
            "colorscale": [
             [
              0,
              "#0d0887"
             ],
             [
              0.1111111111111111,
              "#46039f"
             ],
             [
              0.2222222222222222,
              "#7201a8"
             ],
             [
              0.3333333333333333,
              "#9c179e"
             ],
             [
              0.4444444444444444,
              "#bd3786"
             ],
             [
              0.5555555555555556,
              "#d8576b"
             ],
             [
              0.6666666666666666,
              "#ed7953"
             ],
             [
              0.7777777777777778,
              "#fb9f3a"
             ],
             [
              0.8888888888888888,
              "#fdca26"
             ],
             [
              1,
              "#f0f921"
             ]
            ],
            "type": "surface"
           }
          ],
          "table": [
           {
            "cells": {
             "fill": {
              "color": "#EBF0F8"
             },
             "line": {
              "color": "white"
             }
            },
            "header": {
             "fill": {
              "color": "#C8D4E3"
             },
             "line": {
              "color": "white"
             }
            },
            "type": "table"
           }
          ]
         },
         "layout": {
          "annotationdefaults": {
           "arrowcolor": "#2a3f5f",
           "arrowhead": 0,
           "arrowwidth": 1
          },
          "autotypenumbers": "strict",
          "coloraxis": {
           "colorbar": {
            "outlinewidth": 0,
            "ticks": ""
           }
          },
          "colorscale": {
           "diverging": [
            [
             0,
             "#8e0152"
            ],
            [
             0.1,
             "#c51b7d"
            ],
            [
             0.2,
             "#de77ae"
            ],
            [
             0.3,
             "#f1b6da"
            ],
            [
             0.4,
             "#fde0ef"
            ],
            [
             0.5,
             "#f7f7f7"
            ],
            [
             0.6,
             "#e6f5d0"
            ],
            [
             0.7,
             "#b8e186"
            ],
            [
             0.8,
             "#7fbc41"
            ],
            [
             0.9,
             "#4d9221"
            ],
            [
             1,
             "#276419"
            ]
           ],
           "sequential": [
            [
             0,
             "#0d0887"
            ],
            [
             0.1111111111111111,
             "#46039f"
            ],
            [
             0.2222222222222222,
             "#7201a8"
            ],
            [
             0.3333333333333333,
             "#9c179e"
            ],
            [
             0.4444444444444444,
             "#bd3786"
            ],
            [
             0.5555555555555556,
             "#d8576b"
            ],
            [
             0.6666666666666666,
             "#ed7953"
            ],
            [
             0.7777777777777778,
             "#fb9f3a"
            ],
            [
             0.8888888888888888,
             "#fdca26"
            ],
            [
             1,
             "#f0f921"
            ]
           ],
           "sequentialminus": [
            [
             0,
             "#0d0887"
            ],
            [
             0.1111111111111111,
             "#46039f"
            ],
            [
             0.2222222222222222,
             "#7201a8"
            ],
            [
             0.3333333333333333,
             "#9c179e"
            ],
            [
             0.4444444444444444,
             "#bd3786"
            ],
            [
             0.5555555555555556,
             "#d8576b"
            ],
            [
             0.6666666666666666,
             "#ed7953"
            ],
            [
             0.7777777777777778,
             "#fb9f3a"
            ],
            [
             0.8888888888888888,
             "#fdca26"
            ],
            [
             1,
             "#f0f921"
            ]
           ]
          },
          "colorway": [
           "#636efa",
           "#EF553B",
           "#00cc96",
           "#ab63fa",
           "#FFA15A",
           "#19d3f3",
           "#FF6692",
           "#B6E880",
           "#FF97FF",
           "#FECB52"
          ],
          "font": {
           "color": "#2a3f5f"
          },
          "geo": {
           "bgcolor": "white",
           "lakecolor": "white",
           "landcolor": "#E5ECF6",
           "showlakes": true,
           "showland": true,
           "subunitcolor": "white"
          },
          "hoverlabel": {
           "align": "left"
          },
          "hovermode": "closest",
          "mapbox": {
           "style": "light"
          },
          "paper_bgcolor": "white",
          "plot_bgcolor": "#E5ECF6",
          "polar": {
           "angularaxis": {
            "gridcolor": "white",
            "linecolor": "white",
            "ticks": ""
           },
           "bgcolor": "#E5ECF6",
           "radialaxis": {
            "gridcolor": "white",
            "linecolor": "white",
            "ticks": ""
           }
          },
          "scene": {
           "xaxis": {
            "backgroundcolor": "#E5ECF6",
            "gridcolor": "white",
            "gridwidth": 2,
            "linecolor": "white",
            "showbackground": true,
            "ticks": "",
            "zerolinecolor": "white"
           },
           "yaxis": {
            "backgroundcolor": "#E5ECF6",
            "gridcolor": "white",
            "gridwidth": 2,
            "linecolor": "white",
            "showbackground": true,
            "ticks": "",
            "zerolinecolor": "white"
           },
           "zaxis": {
            "backgroundcolor": "#E5ECF6",
            "gridcolor": "white",
            "gridwidth": 2,
            "linecolor": "white",
            "showbackground": true,
            "ticks": "",
            "zerolinecolor": "white"
           }
          },
          "shapedefaults": {
           "line": {
            "color": "#2a3f5f"
           }
          },
          "ternary": {
           "aaxis": {
            "gridcolor": "white",
            "linecolor": "white",
            "ticks": ""
           },
           "baxis": {
            "gridcolor": "white",
            "linecolor": "white",
            "ticks": ""
           },
           "bgcolor": "#E5ECF6",
           "caxis": {
            "gridcolor": "white",
            "linecolor": "white",
            "ticks": ""
           }
          },
          "title": {
           "x": 0.05
          },
          "xaxis": {
           "automargin": true,
           "gridcolor": "white",
           "linecolor": "white",
           "ticks": "",
           "title": {
            "standoff": 15
           },
           "zerolinecolor": "white",
           "zerolinewidth": 2
          },
          "yaxis": {
           "automargin": true,
           "gridcolor": "white",
           "linecolor": "white",
           "ticks": "",
           "title": {
            "standoff": 15
           },
           "zerolinecolor": "white",
           "zerolinewidth": 2
          }
         }
        },
        "title": {
         "text": "proportion"
        }
       }
      }
     },
     "metadata": {},
     "output_type": "display_data"
    }
   ],
   "source": [
    "# comparisson_backend_table.show()\n",
    "\n",
    "\n",
    "\n",
    "def next_payment_day_biweekly_frequency(day_column, last_event_date_column):\n",
    "    current_day = spark_f.to_date(spark_f.lit(CURRENT_DAY))\n",
    "    day_of_week = int_day_of_week(day_column)\n",
    "    current_day_of_week = spark_f.dayofweek(current_day)\n",
    "\n",
    "    \n",
    "    ## I'm considering that the first week of the payment is the first occurence of the day\n",
    "    #  after or during the last edition day of the allowance\n",
    "    first_payment_day = next_day_of_week(last_event_date_column, day_of_week)\n",
    "\n",
    "    dif_days = spark_f.date_diff(current_day, first_payment_day)  \n",
    "    \n",
    "    next_biweek_day = spark_f.date_add(current_day,14 - (dif_days % (7*2)))\n",
    "\n",
    "\n",
    "    next_day = spark_f.when(\n",
    "        first_payment_day > current_day, first_payment_day\n",
    "    ).otherwise(next_biweek_day)\n",
    "\n",
    "    return spark_f.day(next_day)\n",
    "\n",
    "\n",
    "backend_table_biweekly_truth = build_backend_truth_table(\"biweekly\", next_payment_day_biweekly_frequency)\n",
    "# comparisson_backend_table.filter(\"truth_backend_table.frequency = 'weekly'\").show()\n",
    "pd_comparisson_backend = backend_table_biweekly_truth.toPandas()\n",
    "\n",
    "histogram(\n",
    "    pd_comparisson_backend,\n",
    "    \"correct\",\n",
    "    \"Correctness of the next_payment_day for monthly frequency\",\n",
    ")\n",
    "\n",
    "pie_chart(pd_comparisson_backend, \"correct\", \"proportion\",category_orders={\"correct\": [\"correct\", \"wrong\"]})"
   ]
  },
  {
   "cell_type": "markdown",
   "metadata": {},
   "source": [
    "From all possible frequencys, only the `monthly` frequency has no errors. I think this is because the monthly frequency is the only one that don't need updates to change the value of `next_payment_day` column. Because it will always be the same unless the user do some editing on the day of the schedule. **All frequencies that requires some kind of update on the `next_payment_day` has errors.**"
   ]
  },
  {
   "cell_type": "markdown",
   "metadata": {},
   "source": [
    "Considering that the biggest possible period for an allowance is monthly, is expected that no allowance has an updated_at older than 30 days past. There are some that are older than 30 days as we can see on the next graphic. I think it's possible for one to have an updated_at older than 30 days when the user enables some allowance tha was previosly disabled. But i don't have information about the time when the allowances where enabled or disabled to confirm that."
   ]
  },
  {
   "cell_type": "code",
   "execution_count": 16,
   "metadata": {},
   "outputs": [
    {
     "data": {
      "application/vnd.plotly.v1+json": {
       "config": {
        "plotlyServerURL": "https://plot.ly"
       },
       "data": [
        {
         "alignmentgroup": "True",
         "bingroup": "x",
         "hovertemplate": "how_old_was_last_update=%{x}<br>count=%{y}<extra></extra>",
         "legendgroup": "",
         "marker": {
          "color": "#636efa",
          "pattern": {
           "shape": ""
          }
         },
         "name": "",
         "offsetgroup": "",
         "orientation": "v",
         "showlegend": false,
         "type": "histogram",
         "x": [
          20,
          5,
          83,
          80,
          57,
          20,
          15,
          75,
          49,
          85,
          91,
          84,
          8,
          32,
          18,
          17,
          69,
          58,
          63,
          75,
          14,
          88,
          8,
          5,
          11,
          66,
          3,
          55,
          19,
          3,
          90,
          5,
          8,
          73,
          89,
          62,
          17,
          69,
          87,
          17,
          50,
          72,
          32,
          60,
          2,
          2,
          84,
          2,
          18,
          16,
          90,
          2,
          22,
          2,
          17,
          2,
          18,
          2,
          2,
          2,
          2,
          83,
          5,
          18,
          4,
          18,
          2,
          4,
          32,
          2,
          50,
          2,
          18,
          45,
          2,
          56,
          10,
          70,
          78,
          55,
          18,
          18,
          2,
          2,
          2,
          35,
          2,
          103,
          63,
          59,
          47,
          32,
          18,
          68,
          2,
          58,
          2,
          2,
          2,
          60,
          2,
          18,
          2,
          50,
          18,
          55,
          49,
          2,
          18,
          52,
          18,
          36,
          2,
          55,
          18,
          60,
          6,
          2,
          80,
          39,
          90,
          18,
          18,
          2,
          2,
          38,
          2,
          2,
          2,
          63,
          32,
          71,
          2,
          1,
          32,
          7,
          2,
          2,
          75,
          67,
          2,
          45,
          8,
          2,
          4,
          63,
          2,
          32,
          18,
          5,
          2,
          65,
          61,
          69,
          4,
          7,
          2,
          2,
          2,
          14,
          14,
          2,
          7,
          18,
          2,
          32,
          23,
          63,
          2,
          2,
          2,
          35,
          49,
          93,
          2,
          103,
          18,
          1,
          2,
          2,
          2,
          58,
          0,
          44,
          28,
          2,
          2,
          32,
          80,
          2,
          7,
          70,
          7,
          2,
          2,
          72,
          23,
          42,
          21,
          13,
          3,
          8,
          25,
          2,
          50,
          63,
          6,
          66,
          32,
          78,
          2,
          2,
          32,
          2,
          23,
          31,
          7,
          32,
          32,
          2,
          39,
          18,
          50,
          18,
          15,
          63,
          2,
          75,
          2,
          53,
          82,
          18,
          2,
          22,
          83,
          99,
          2,
          70,
          1,
          2,
          49,
          128,
          2,
          63,
          2,
          2,
          49,
          2,
          20,
          2,
          2,
          2,
          13,
          12,
          2,
          76,
          2,
          34,
          2,
          25,
          32,
          60,
          74,
          10,
          2,
          56,
          32,
          2,
          4,
          63,
          10,
          2,
          42,
          2,
          2,
          18,
          38,
          2,
          18,
          2,
          32,
          22,
          67,
          18,
          14,
          2,
          6,
          2,
          18,
          11,
          2,
          59,
          2,
          2,
          2,
          31,
          24,
          2,
          32,
          32,
          2,
          54,
          2,
          32,
          84,
          2,
          35,
          32,
          2,
          48,
          44,
          2,
          61,
          2,
          114,
          2,
          63,
          2,
          41,
          2,
          32,
          2,
          18,
          32,
          32,
          18,
          18,
          2,
          20,
          8,
          2,
          2,
          2,
          4,
          2,
          49,
          25,
          2,
          73,
          38,
          3,
          80,
          27,
          7,
          25,
          18,
          1,
          2,
          18,
          2,
          32,
          97,
          1,
          3,
          16,
          18,
          32,
          2,
          32,
          2,
          80,
          62,
          2,
          45,
          20,
          34,
          62,
          24,
          62,
          36,
          9,
          18,
          51,
          20,
          101,
          124,
          60,
          65,
          4,
          8,
          2,
          78,
          67,
          24,
          2,
          26,
          2,
          55,
          11,
          1,
          2,
          2,
          1,
          67,
          49,
          58,
          87,
          2,
          2,
          2,
          50,
          57,
          38,
          2,
          2,
          14,
          23,
          70,
          49,
          80,
          51,
          64,
          18,
          18,
          2,
          22,
          2,
          2,
          18,
          54,
          53,
          2,
          2,
          90,
          49,
          2,
          2,
          2,
          18,
          3,
          2,
          2,
          35,
          2,
          71,
          41,
          18,
          2,
          3,
          20,
          2,
          34,
          32,
          2,
          63,
          0,
          2,
          32,
          18,
          16,
          33,
          59,
          2,
          79,
          10,
          34,
          18,
          18,
          27,
          45,
          57,
          2,
          17,
          32,
          18,
          18,
          2,
          20,
          49,
          55,
          80,
          2,
          5,
          6,
          66,
          63,
          18,
          18,
          2,
          2,
          75,
          2,
          49,
          3,
          1,
          32,
          37,
          81,
          49,
          4,
          74,
          13,
          4,
          10,
          4,
          79,
          18,
          36,
          41,
          119,
          8,
          11,
          8,
          4,
          1,
          48,
          91,
          1,
          8,
          1,
          4,
          4,
          10,
          5,
          0,
          30,
          1,
          34,
          6,
          51,
          11,
          4,
          45,
          55,
          11,
          92,
          44,
          15,
          125,
          4,
          73,
          13,
          5,
          81,
          85,
          1,
          8,
          10,
          64,
          48,
          3,
          21,
          12,
          25,
          45,
          1,
          81,
          32,
          11,
          22,
          2,
          8,
          54,
          73,
          89,
          70,
          31,
          75,
          89,
          3,
          16,
          41,
          71,
          69,
          7,
          4,
          0,
          11,
          11,
          33,
          1,
          12,
          7,
          4,
          36,
          67,
          103,
          55,
          74,
          59,
          50,
          76,
          80,
          81,
          0,
          19,
          10,
          4,
          4,
          4,
          7,
          7,
          3,
          35,
          19,
          64,
          11,
          39,
          0,
          60,
          44,
          17,
          2,
          4,
          50,
          84,
          53,
          36,
          26,
          50,
          4,
          8,
          11,
          8,
          4,
          11,
          1,
          5,
          11,
          4,
          7,
          12,
          4,
          63,
          84,
          10,
          4,
          5,
          38,
          5,
          18,
          13,
          31,
          90,
          26,
          11,
          47,
          90,
          1,
          2,
          2,
          90,
          3,
          4,
          4,
          48,
          4,
          28,
          71,
          10,
          99,
          39,
          4,
          34,
          92,
          11,
          53,
          4,
          4,
          88,
          5,
          46,
          5,
          26,
          12,
          26,
          30,
          1,
          8,
          30,
          8,
          41,
          11,
          10,
          44,
          65,
          75,
          64,
          126,
          90,
          5,
          10,
          55,
          11,
          12,
          87,
          5,
          5,
          91,
          129,
          33,
          11,
          74,
          82,
          64,
          0,
          1,
          89,
          69,
          39,
          7,
          11,
          43,
          1,
          80,
          11,
          4,
          1,
          11,
          39,
          16,
          29,
          1,
          57,
          88,
          4,
          11,
          4,
          101,
          89,
          57,
          11,
          77,
          11,
          4,
          44,
          73,
          8,
          64,
          19,
          95,
          4,
          6,
          73,
          59,
          53,
          95,
          17,
          1,
          4,
          11,
          25,
          71,
          19,
          28,
          86,
          1,
          51,
          8,
          4,
          28,
          55,
          85,
          25,
          72,
          51,
          3,
          49,
          4,
          20,
          34,
          51,
          29,
          70,
          7,
          4,
          28,
          59,
          130,
          121,
          55,
          12,
          72,
          27,
          45,
          4,
          1,
          20,
          9,
          60,
          85,
          29,
          88,
          4,
          4,
          20,
          4,
          19,
          40,
          5,
          48,
          21,
          1,
          17,
          117,
          48,
          11,
          55,
          5,
          4,
          89,
          33,
          32,
          37,
          4,
          20,
          69,
          26,
          2,
          11,
          8,
          106,
          7,
          12,
          16,
          2,
          36,
          13,
          39,
          81,
          33,
          68,
          1,
          45,
          68,
          11,
          4,
          10,
          81,
          46,
          1,
          38,
          5,
          6,
          11,
          33,
          6,
          50,
          64,
          81,
          90,
          10,
          4,
          4,
          11,
          4,
          116,
          51,
          4,
          10,
          37,
          47,
          64,
          56,
          3,
          6,
          9,
          11,
          4,
          11,
          9,
          23,
          6,
          32,
          29,
          92,
          11,
          11,
          11,
          11,
          11,
          34,
          18,
          4,
          23,
          22,
          11,
          4,
          7,
          5,
          85,
          4,
          96,
          40,
          3,
          52,
          11,
          17,
          22,
          6,
          26,
          90,
          1,
          50,
          1,
          5,
          68,
          8,
          42,
          2,
          7,
          13,
          4,
          42,
          64,
          39,
          123,
          25,
          123,
          7,
          9,
          5,
          12,
          80,
          4,
          4,
          58,
          8,
          53,
          7,
          5,
          8,
          91,
          5,
          45,
          4,
          62,
          0,
          3,
          82,
          50,
          5,
          69,
          11,
          12,
          74,
          2,
          6,
          11,
          7,
          25,
          9,
          91,
          54,
          8,
          85,
          73,
          19,
          2,
          67,
          45,
          23,
          1,
          5,
          51,
          101,
          102,
          75,
          6,
          34,
          0,
          74,
          11,
          8,
          90,
          1,
          46,
          13,
          4,
          12,
          83,
          9,
          74,
          25,
          4,
          50,
          21,
          11,
          24,
          0,
          0,
          26,
          10,
          1,
          11,
          17,
          64,
          11,
          55,
          9,
          57,
          9,
          49,
          27,
          25,
          30,
          11,
          53,
          12,
          29,
          92,
          104,
          29,
          120,
          3,
          11,
          2,
          11,
          7,
          16,
          21,
          103,
          11,
          67,
          53,
          45,
          6,
          8,
          41,
          13,
          42,
          3,
          3,
          75,
          32,
          67,
          73,
          13,
          21,
          32,
          73,
          118,
          26,
          7,
          4,
          50,
          11,
          11,
          2,
          117,
          6,
          4,
          85,
          99,
          10,
          8,
          8,
          11,
          9,
          25,
          4,
          25,
          113,
          113,
          0,
          11,
          84,
          127,
          73,
          2,
          11,
          11,
          81,
          25,
          99,
          61,
          86,
          120,
          15,
          73,
          53,
          25,
          4,
          11,
          78,
          29,
          80,
          4,
          39,
          8,
          12,
          70,
          11,
          94,
          4,
          18,
          8,
          65,
          11,
          87,
          75,
          4,
          1,
          45,
          51,
          9,
          11,
          58,
          24,
          10,
          79,
          17,
          52,
          74,
          4,
          8,
          51,
          76,
          55,
          25,
          3,
          13,
          67,
          10,
          2,
          39,
          44,
          50,
          11,
          42,
          62,
          6,
          76,
          70,
          9,
          8,
          11,
          60,
          13,
          11,
          11,
          32,
          92,
          65,
          11,
          4,
          11,
          6,
          72,
          15,
          5,
          11,
          4,
          4,
          42,
          58,
          117,
          2,
          64,
          2,
          1,
          4,
          51,
          6,
          80,
          47,
          1,
          58,
          10,
          10,
          1,
          2,
          4,
          51,
          4,
          8,
          64,
          88,
          4,
          19,
          84,
          26,
          13,
          53,
          90,
          5,
          11,
          4,
          10,
          1,
          39,
          42,
          91,
          18,
          9,
          108,
          13,
          9,
          24,
          35,
          119,
          91,
          67,
          27,
          9,
          5,
          72,
          1,
          69,
          30,
          84,
          52,
          3,
          76,
          2,
          6,
          78,
          1,
          39,
          72,
          13,
          4,
          6,
          5,
          1,
          12,
          4,
          82,
          17,
          4,
          12,
          5,
          82,
          25,
          4,
          26,
          1,
          59,
          70,
          93,
          11,
          5,
          42,
          73,
          81,
          40,
          82,
          7,
          11,
          16,
          5,
          13,
          68,
          79,
          9,
          8,
          8,
          78,
          12,
          123,
          92,
          29,
          83,
          6,
          57,
          80,
          5,
          78,
          127,
          39,
          8,
          12,
          57,
          16,
          23,
          4,
          24,
          12,
          84,
          8,
          4,
          89,
          68,
          6,
          10,
          10,
          60,
          38,
          99,
          8,
          39,
          87,
          11,
          10,
          8,
          82,
          4,
          11,
          11,
          2,
          75,
          6,
          11,
          11,
          1,
          10,
          81,
          8,
          8,
          5,
          6,
          16,
          7,
          91,
          33,
          5,
          45,
          2,
          66,
          8,
          3,
          70,
          68,
          4,
          15,
          79,
          81,
          12,
          22,
          27,
          15,
          4,
          9,
          16,
          113,
          11,
          57,
          1,
          1,
          5,
          34,
          66,
          79,
          113,
          2,
          94,
          87,
          2,
          39,
          32,
          6,
          7,
          11,
          9,
          11,
          1,
          4,
          47,
          10,
          3,
          19,
          130,
          4,
          65,
          11,
          26,
          97,
          49,
          11,
          6,
          3,
          115,
          4,
          42,
          5,
          2,
          2,
          122,
          8,
          14,
          4,
          4,
          1,
          1,
          2,
          79,
          54,
          75,
          2,
          52,
          2,
          4,
          4,
          2,
          22,
          4,
          4,
          42,
          2,
          4,
          3,
          3,
          21,
          24,
          4,
          4,
          83,
          2,
          57,
          4,
          6,
          6,
          4,
          1,
          26,
          41,
          26,
          62,
          4,
          7,
          99,
          18,
          1,
          25,
          26,
          4,
          87,
          4,
          2,
          34,
          8,
          53,
          5,
          19,
          24,
          22,
          92,
          1,
          2,
          57,
          40,
          4,
          18,
          32,
          4,
          4,
          12,
          2,
          11,
          3,
          124,
          1,
          4,
          57,
          11,
          10,
          4,
          6,
          4,
          1,
          32,
          39,
          62,
          4,
          74,
          4,
          1,
          29,
          4,
          0,
          73,
          0,
          5,
          6,
          24,
          32,
          46,
          53,
          3,
          5,
          32,
          4,
          5,
          4,
          23,
          122,
          9,
          93,
          17,
          63,
          34,
          2,
          4,
          4,
          4,
          2,
          85,
          89,
          1,
          3,
          19,
          4,
          4,
          2,
          18,
          49,
          4,
          15,
          95,
          8,
          1,
          4,
          4,
          22,
          41,
          25,
          4,
          45,
          18,
          18,
          25,
          27,
          25,
          4,
          64,
          4,
          17,
          2,
          4,
          24,
          16,
          67,
          1,
          4,
          1,
          25,
          72,
          4,
          4,
          1,
          4,
          26,
          3,
          4,
          53,
          38,
          116,
          1,
          15,
          4,
          65,
          4,
          25,
          0,
          4,
          2,
          4,
          11,
          99,
          51,
          9,
          5,
          4,
          11,
          4,
          4,
          96,
          25,
          64,
          3,
          4,
          53,
          4,
          112,
          1,
          3,
          6,
          6,
          60,
          11,
          3,
          15,
          4,
          38,
          54,
          4,
          4,
          3,
          3,
          2,
          4,
          4,
          23,
          3,
          1,
          18,
          67,
          16,
          4,
          3,
          4,
          10,
          63,
          1,
          2,
          8,
          82,
          6,
          100,
          4,
          4,
          1,
          2,
          32,
          4,
          19,
          27,
          4,
          4,
          1,
          69,
          1,
          1,
          96,
          109,
          1,
          67,
          10,
          0,
          51,
          1,
          2,
          54,
          2,
          5,
          2,
          33,
          4,
          25,
          5,
          6,
          4,
          4,
          64,
          46,
          67,
          1,
          3,
          2,
          4,
          4,
          25,
          4,
          8,
          42,
          3,
          53,
          16,
          103,
          19,
          1,
          32,
          0,
          76,
          18,
          2,
          65,
          32,
          5,
          5,
          4,
          4,
          0,
          2,
          10,
          4,
          2,
          22,
          13,
          32,
          3,
          1,
          1,
          4,
          5,
          53,
          4,
          2,
          25,
          1,
          4,
          1,
          3,
          29,
          15,
          60,
          4,
          37,
          53,
          40,
          22,
          21,
          75,
          25,
          16,
          2,
          125,
          4,
          1,
          64,
          19,
          2,
          37,
          106,
          17,
          3,
          60,
          27,
          0,
          25,
          4,
          4,
          6,
          46,
          10,
          53,
          0,
          28,
          74,
          4,
          8,
          2,
          41,
          41,
          4,
          47,
          67,
          4,
          71,
          2,
          10,
          9,
          6,
          64,
          27,
          16,
          4,
          60,
          0,
          11,
          0,
          1,
          2,
          3,
          71,
          6,
          3,
          40,
          40,
          29,
          2,
          68,
          4,
          6,
          27,
          62,
          1,
          26,
          26,
          4,
          1,
          11,
          60,
          1,
          4,
          19,
          53,
          3,
          2,
          109,
          32,
          92,
          2,
          40,
          4,
          61,
          21,
          4,
          23,
          95,
          4,
          125,
          51,
          39,
          70,
          47,
          6,
          6,
          18,
          4,
          2,
          2,
          31,
          67,
          23,
          87,
          4,
          2,
          16,
          26,
          99,
          4,
          4,
          48,
          34,
          64,
          18,
          31,
          2,
          40,
          25,
          1,
          32,
          61,
          85,
          32,
          47,
          48,
          2,
          27,
          4,
          4,
          4,
          3,
          60,
          35,
          128,
          39,
          3,
          4,
          2,
          2,
          4,
          95,
          63,
          4,
          32,
          69,
          1,
          9,
          2,
          15,
          4,
          29,
          0,
          125,
          2,
          11,
          4,
          4,
          48,
          2,
          82,
          4,
          9,
          32,
          0,
          63,
          68,
          4,
          4,
          2,
          35,
          2,
          4,
          4,
          1,
          25,
          4,
          70,
          4,
          3,
          4,
          2,
          4,
          23,
          62,
          49,
          14,
          43,
          4,
          4,
          52,
          25,
          3,
          2,
          2,
          2,
          1,
          4,
          4,
          2,
          3,
          3,
          46,
          19,
          65,
          18,
          87,
          23,
          6,
          0,
          46,
          1,
          2,
          67,
          4,
          1,
          4,
          35,
          1,
          12,
          2,
          4,
          87,
          4,
          11,
          5,
          24,
          0,
          3,
          42,
          18,
          11,
          6,
          60,
          18,
          2,
          2,
          43,
          6,
          2,
          82,
          32,
          11,
          11,
          22,
          2,
          11,
          25,
          2,
          78,
          4,
          2,
          4,
          4,
          3,
          23,
          102,
          1,
          32,
          16,
          28,
          0,
          4,
          46,
          4,
          4,
          46,
          16,
          124,
          4,
          4,
          0,
          4,
          5,
          5,
          64,
          1,
          3,
          23,
          26,
          24,
          64,
          2,
          95,
          18,
          37,
          17,
          4,
          3,
          2,
          2,
          3,
          4,
          47,
          77,
          2,
          3,
          2,
          1,
          3,
          24,
          0,
          17,
          4,
          18,
          4,
          85,
          62,
          2,
          25,
          4,
          3,
          18,
          43,
          7,
          5,
          32,
          3,
          95,
          4,
          18,
          3,
          4,
          58,
          15,
          3,
          118,
          4,
          0,
          32,
          2,
          15,
          89,
          72,
          11,
          6,
          54,
          2,
          2,
          3,
          4,
          61,
          44,
          16,
          46,
          73,
          2,
          54,
          24,
          57,
          67,
          5,
          4,
          3,
          81,
          6,
          25,
          4,
          39,
          72,
          7,
          4,
          65,
          18,
          31,
          52,
          6,
          2,
          1,
          3,
          1,
          53,
          32,
          2,
          41,
          70,
          90,
          4,
          5,
          75,
          4,
          45,
          10,
          18,
          4,
          4,
          1,
          5,
          2,
          1,
          82,
          3,
          53,
          4,
          1,
          44,
          5,
          1,
          4,
          10,
          2,
          1,
          4,
          4,
          2,
          1,
          0,
          18,
          17,
          10,
          11,
          4,
          4,
          4,
          11,
          2,
          44,
          43,
          6,
          4,
          7,
          14
         ],
         "xaxis": "x",
         "yaxis": "y"
        }
       ],
       "layout": {
        "barmode": "relative",
        "legend": {
         "tracegroupgap": 0
        },
        "template": {
         "data": {
          "bar": [
           {
            "error_x": {
             "color": "#2a3f5f"
            },
            "error_y": {
             "color": "#2a3f5f"
            },
            "marker": {
             "line": {
              "color": "#E5ECF6",
              "width": 0.5
             },
             "pattern": {
              "fillmode": "overlay",
              "size": 10,
              "solidity": 0.2
             }
            },
            "type": "bar"
           }
          ],
          "barpolar": [
           {
            "marker": {
             "line": {
              "color": "#E5ECF6",
              "width": 0.5
             },
             "pattern": {
              "fillmode": "overlay",
              "size": 10,
              "solidity": 0.2
             }
            },
            "type": "barpolar"
           }
          ],
          "carpet": [
           {
            "aaxis": {
             "endlinecolor": "#2a3f5f",
             "gridcolor": "white",
             "linecolor": "white",
             "minorgridcolor": "white",
             "startlinecolor": "#2a3f5f"
            },
            "baxis": {
             "endlinecolor": "#2a3f5f",
             "gridcolor": "white",
             "linecolor": "white",
             "minorgridcolor": "white",
             "startlinecolor": "#2a3f5f"
            },
            "type": "carpet"
           }
          ],
          "choropleth": [
           {
            "colorbar": {
             "outlinewidth": 0,
             "ticks": ""
            },
            "type": "choropleth"
           }
          ],
          "contour": [
           {
            "colorbar": {
             "outlinewidth": 0,
             "ticks": ""
            },
            "colorscale": [
             [
              0,
              "#0d0887"
             ],
             [
              0.1111111111111111,
              "#46039f"
             ],
             [
              0.2222222222222222,
              "#7201a8"
             ],
             [
              0.3333333333333333,
              "#9c179e"
             ],
             [
              0.4444444444444444,
              "#bd3786"
             ],
             [
              0.5555555555555556,
              "#d8576b"
             ],
             [
              0.6666666666666666,
              "#ed7953"
             ],
             [
              0.7777777777777778,
              "#fb9f3a"
             ],
             [
              0.8888888888888888,
              "#fdca26"
             ],
             [
              1,
              "#f0f921"
             ]
            ],
            "type": "contour"
           }
          ],
          "contourcarpet": [
           {
            "colorbar": {
             "outlinewidth": 0,
             "ticks": ""
            },
            "type": "contourcarpet"
           }
          ],
          "heatmap": [
           {
            "colorbar": {
             "outlinewidth": 0,
             "ticks": ""
            },
            "colorscale": [
             [
              0,
              "#0d0887"
             ],
             [
              0.1111111111111111,
              "#46039f"
             ],
             [
              0.2222222222222222,
              "#7201a8"
             ],
             [
              0.3333333333333333,
              "#9c179e"
             ],
             [
              0.4444444444444444,
              "#bd3786"
             ],
             [
              0.5555555555555556,
              "#d8576b"
             ],
             [
              0.6666666666666666,
              "#ed7953"
             ],
             [
              0.7777777777777778,
              "#fb9f3a"
             ],
             [
              0.8888888888888888,
              "#fdca26"
             ],
             [
              1,
              "#f0f921"
             ]
            ],
            "type": "heatmap"
           }
          ],
          "heatmapgl": [
           {
            "colorbar": {
             "outlinewidth": 0,
             "ticks": ""
            },
            "colorscale": [
             [
              0,
              "#0d0887"
             ],
             [
              0.1111111111111111,
              "#46039f"
             ],
             [
              0.2222222222222222,
              "#7201a8"
             ],
             [
              0.3333333333333333,
              "#9c179e"
             ],
             [
              0.4444444444444444,
              "#bd3786"
             ],
             [
              0.5555555555555556,
              "#d8576b"
             ],
             [
              0.6666666666666666,
              "#ed7953"
             ],
             [
              0.7777777777777778,
              "#fb9f3a"
             ],
             [
              0.8888888888888888,
              "#fdca26"
             ],
             [
              1,
              "#f0f921"
             ]
            ],
            "type": "heatmapgl"
           }
          ],
          "histogram": [
           {
            "marker": {
             "pattern": {
              "fillmode": "overlay",
              "size": 10,
              "solidity": 0.2
             }
            },
            "type": "histogram"
           }
          ],
          "histogram2d": [
           {
            "colorbar": {
             "outlinewidth": 0,
             "ticks": ""
            },
            "colorscale": [
             [
              0,
              "#0d0887"
             ],
             [
              0.1111111111111111,
              "#46039f"
             ],
             [
              0.2222222222222222,
              "#7201a8"
             ],
             [
              0.3333333333333333,
              "#9c179e"
             ],
             [
              0.4444444444444444,
              "#bd3786"
             ],
             [
              0.5555555555555556,
              "#d8576b"
             ],
             [
              0.6666666666666666,
              "#ed7953"
             ],
             [
              0.7777777777777778,
              "#fb9f3a"
             ],
             [
              0.8888888888888888,
              "#fdca26"
             ],
             [
              1,
              "#f0f921"
             ]
            ],
            "type": "histogram2d"
           }
          ],
          "histogram2dcontour": [
           {
            "colorbar": {
             "outlinewidth": 0,
             "ticks": ""
            },
            "colorscale": [
             [
              0,
              "#0d0887"
             ],
             [
              0.1111111111111111,
              "#46039f"
             ],
             [
              0.2222222222222222,
              "#7201a8"
             ],
             [
              0.3333333333333333,
              "#9c179e"
             ],
             [
              0.4444444444444444,
              "#bd3786"
             ],
             [
              0.5555555555555556,
              "#d8576b"
             ],
             [
              0.6666666666666666,
              "#ed7953"
             ],
             [
              0.7777777777777778,
              "#fb9f3a"
             ],
             [
              0.8888888888888888,
              "#fdca26"
             ],
             [
              1,
              "#f0f921"
             ]
            ],
            "type": "histogram2dcontour"
           }
          ],
          "mesh3d": [
           {
            "colorbar": {
             "outlinewidth": 0,
             "ticks": ""
            },
            "type": "mesh3d"
           }
          ],
          "parcoords": [
           {
            "line": {
             "colorbar": {
              "outlinewidth": 0,
              "ticks": ""
             }
            },
            "type": "parcoords"
           }
          ],
          "pie": [
           {
            "automargin": true,
            "type": "pie"
           }
          ],
          "scatter": [
           {
            "fillpattern": {
             "fillmode": "overlay",
             "size": 10,
             "solidity": 0.2
            },
            "type": "scatter"
           }
          ],
          "scatter3d": [
           {
            "line": {
             "colorbar": {
              "outlinewidth": 0,
              "ticks": ""
             }
            },
            "marker": {
             "colorbar": {
              "outlinewidth": 0,
              "ticks": ""
             }
            },
            "type": "scatter3d"
           }
          ],
          "scattercarpet": [
           {
            "marker": {
             "colorbar": {
              "outlinewidth": 0,
              "ticks": ""
             }
            },
            "type": "scattercarpet"
           }
          ],
          "scattergeo": [
           {
            "marker": {
             "colorbar": {
              "outlinewidth": 0,
              "ticks": ""
             }
            },
            "type": "scattergeo"
           }
          ],
          "scattergl": [
           {
            "marker": {
             "colorbar": {
              "outlinewidth": 0,
              "ticks": ""
             }
            },
            "type": "scattergl"
           }
          ],
          "scattermapbox": [
           {
            "marker": {
             "colorbar": {
              "outlinewidth": 0,
              "ticks": ""
             }
            },
            "type": "scattermapbox"
           }
          ],
          "scatterpolar": [
           {
            "marker": {
             "colorbar": {
              "outlinewidth": 0,
              "ticks": ""
             }
            },
            "type": "scatterpolar"
           }
          ],
          "scatterpolargl": [
           {
            "marker": {
             "colorbar": {
              "outlinewidth": 0,
              "ticks": ""
             }
            },
            "type": "scatterpolargl"
           }
          ],
          "scatterternary": [
           {
            "marker": {
             "colorbar": {
              "outlinewidth": 0,
              "ticks": ""
             }
            },
            "type": "scatterternary"
           }
          ],
          "surface": [
           {
            "colorbar": {
             "outlinewidth": 0,
             "ticks": ""
            },
            "colorscale": [
             [
              0,
              "#0d0887"
             ],
             [
              0.1111111111111111,
              "#46039f"
             ],
             [
              0.2222222222222222,
              "#7201a8"
             ],
             [
              0.3333333333333333,
              "#9c179e"
             ],
             [
              0.4444444444444444,
              "#bd3786"
             ],
             [
              0.5555555555555556,
              "#d8576b"
             ],
             [
              0.6666666666666666,
              "#ed7953"
             ],
             [
              0.7777777777777778,
              "#fb9f3a"
             ],
             [
              0.8888888888888888,
              "#fdca26"
             ],
             [
              1,
              "#f0f921"
             ]
            ],
            "type": "surface"
           }
          ],
          "table": [
           {
            "cells": {
             "fill": {
              "color": "#EBF0F8"
             },
             "line": {
              "color": "white"
             }
            },
            "header": {
             "fill": {
              "color": "#C8D4E3"
             },
             "line": {
              "color": "white"
             }
            },
            "type": "table"
           }
          ]
         },
         "layout": {
          "annotationdefaults": {
           "arrowcolor": "#2a3f5f",
           "arrowhead": 0,
           "arrowwidth": 1
          },
          "autotypenumbers": "strict",
          "coloraxis": {
           "colorbar": {
            "outlinewidth": 0,
            "ticks": ""
           }
          },
          "colorscale": {
           "diverging": [
            [
             0,
             "#8e0152"
            ],
            [
             0.1,
             "#c51b7d"
            ],
            [
             0.2,
             "#de77ae"
            ],
            [
             0.3,
             "#f1b6da"
            ],
            [
             0.4,
             "#fde0ef"
            ],
            [
             0.5,
             "#f7f7f7"
            ],
            [
             0.6,
             "#e6f5d0"
            ],
            [
             0.7,
             "#b8e186"
            ],
            [
             0.8,
             "#7fbc41"
            ],
            [
             0.9,
             "#4d9221"
            ],
            [
             1,
             "#276419"
            ]
           ],
           "sequential": [
            [
             0,
             "#0d0887"
            ],
            [
             0.1111111111111111,
             "#46039f"
            ],
            [
             0.2222222222222222,
             "#7201a8"
            ],
            [
             0.3333333333333333,
             "#9c179e"
            ],
            [
             0.4444444444444444,
             "#bd3786"
            ],
            [
             0.5555555555555556,
             "#d8576b"
            ],
            [
             0.6666666666666666,
             "#ed7953"
            ],
            [
             0.7777777777777778,
             "#fb9f3a"
            ],
            [
             0.8888888888888888,
             "#fdca26"
            ],
            [
             1,
             "#f0f921"
            ]
           ],
           "sequentialminus": [
            [
             0,
             "#0d0887"
            ],
            [
             0.1111111111111111,
             "#46039f"
            ],
            [
             0.2222222222222222,
             "#7201a8"
            ],
            [
             0.3333333333333333,
             "#9c179e"
            ],
            [
             0.4444444444444444,
             "#bd3786"
            ],
            [
             0.5555555555555556,
             "#d8576b"
            ],
            [
             0.6666666666666666,
             "#ed7953"
            ],
            [
             0.7777777777777778,
             "#fb9f3a"
            ],
            [
             0.8888888888888888,
             "#fdca26"
            ],
            [
             1,
             "#f0f921"
            ]
           ]
          },
          "colorway": [
           "#636efa",
           "#EF553B",
           "#00cc96",
           "#ab63fa",
           "#FFA15A",
           "#19d3f3",
           "#FF6692",
           "#B6E880",
           "#FF97FF",
           "#FECB52"
          ],
          "font": {
           "color": "#2a3f5f"
          },
          "geo": {
           "bgcolor": "white",
           "lakecolor": "white",
           "landcolor": "#E5ECF6",
           "showlakes": true,
           "showland": true,
           "subunitcolor": "white"
          },
          "hoverlabel": {
           "align": "left"
          },
          "hovermode": "closest",
          "mapbox": {
           "style": "light"
          },
          "paper_bgcolor": "white",
          "plot_bgcolor": "#E5ECF6",
          "polar": {
           "angularaxis": {
            "gridcolor": "white",
            "linecolor": "white",
            "ticks": ""
           },
           "bgcolor": "#E5ECF6",
           "radialaxis": {
            "gridcolor": "white",
            "linecolor": "white",
            "ticks": ""
           }
          },
          "scene": {
           "xaxis": {
            "backgroundcolor": "#E5ECF6",
            "gridcolor": "white",
            "gridwidth": 2,
            "linecolor": "white",
            "showbackground": true,
            "ticks": "",
            "zerolinecolor": "white"
           },
           "yaxis": {
            "backgroundcolor": "#E5ECF6",
            "gridcolor": "white",
            "gridwidth": 2,
            "linecolor": "white",
            "showbackground": true,
            "ticks": "",
            "zerolinecolor": "white"
           },
           "zaxis": {
            "backgroundcolor": "#E5ECF6",
            "gridcolor": "white",
            "gridwidth": 2,
            "linecolor": "white",
            "showbackground": true,
            "ticks": "",
            "zerolinecolor": "white"
           }
          },
          "shapedefaults": {
           "line": {
            "color": "#2a3f5f"
           }
          },
          "ternary": {
           "aaxis": {
            "gridcolor": "white",
            "linecolor": "white",
            "ticks": ""
           },
           "baxis": {
            "gridcolor": "white",
            "linecolor": "white",
            "ticks": ""
           },
           "bgcolor": "#E5ECF6",
           "caxis": {
            "gridcolor": "white",
            "linecolor": "white",
            "ticks": ""
           }
          },
          "title": {
           "x": 0.05
          },
          "xaxis": {
           "automargin": true,
           "gridcolor": "white",
           "linecolor": "white",
           "ticks": "",
           "title": {
            "standoff": 15
           },
           "zerolinecolor": "white",
           "zerolinewidth": 2
          },
          "yaxis": {
           "automargin": true,
           "gridcolor": "white",
           "linecolor": "white",
           "ticks": "",
           "title": {
            "standoff": 15
           },
           "zerolinecolor": "white",
           "zerolinewidth": 2
          }
         }
        },
        "title": {
         "text": "Time in days from last update"
        },
        "xaxis": {
         "anchor": "y",
         "domain": [
          0,
          1
         ],
         "title": {
          "text": "how_old_was_last_update"
         }
        },
        "yaxis": {
         "anchor": "x",
         "domain": [
          0,
          1
         ],
         "title": {
          "text": "count"
         }
        }
       }
      }
     },
     "metadata": {},
     "output_type": "display_data"
    }
   ],
   "source": [
    "all_backend_table_truth = (\n",
    "    backend_table_daily_truth.unionByName(backend_table_monthly_truth)\n",
    "    .unionByName(backend_table_biweekly_truth)\n",
    "    .unionByName(backend_table_weekly_truth)\n",
    ")\n",
    "all_backend_table_truth= all_backend_table_truth.withColumn(\"how_old_was_last_update\",spark_f.date_diff(spark_f.to_timestamp(spark_f.lit(CURRENT_DAY)),spark_f.col(\"updated_at\")))\n",
    "\n",
    "histogram(\n",
    "    all_backend_table_truth.toPandas(),\n",
    "    \"how_old_was_last_update\",\n",
    "    \"Time in days from last update\",\n",
    ")"
   ]
  },
  {
   "cell_type": "code",
   "execution_count": null,
   "metadata": {},
   "outputs": [],
   "source": []
  },
  {
   "cell_type": "markdown",
   "metadata": {},
   "source": [
    "As we can see on the next graphs, the allowances that were edited has a similar distribution of errors than the allowances that were never edited. So, it seems that the problem its not related with the edit action of an allowance.   "
   ]
  },
  {
   "cell_type": "code",
   "execution_count": 17,
   "metadata": {},
   "outputs": [
    {
     "data": {
      "application/vnd.plotly.v1+json": {
       "config": {
        "plotlyServerURL": "https://plot.ly"
       },
       "data": [
        {
         "alignmentgroup": "True",
         "bingroup": "x",
         "hovertemplate": "correct=%{x}<br>count=%{y}<extra></extra>",
         "legendgroup": "",
         "marker": {
          "color": "#636efa",
          "pattern": {
           "shape": ""
          }
         },
         "name": "",
         "offsetgroup": "",
         "orientation": "v",
         "showlegend": false,
         "type": "histogram",
         "x": [
          "wrong",
          "correct",
          "wrong",
          "wrong",
          "wrong",
          "wrong",
          "wrong",
          "wrong",
          "wrong",
          "wrong",
          "wrong",
          "wrong",
          "wrong",
          "wrong",
          "wrong",
          "correct",
          "correct",
          "correct",
          "correct",
          "correct",
          "correct",
          "correct",
          "correct",
          "correct",
          "correct",
          "correct",
          "correct",
          "correct",
          "correct",
          "correct",
          "correct",
          "correct",
          "correct",
          "correct",
          "correct",
          "correct",
          "correct",
          "correct",
          "correct",
          "correct",
          "correct",
          "correct",
          "correct",
          "correct",
          "correct",
          "correct",
          "correct",
          "correct",
          "correct",
          "correct",
          "correct",
          "correct",
          "correct",
          "correct",
          "correct",
          "correct",
          "correct",
          "correct",
          "correct",
          "correct",
          "correct",
          "correct",
          "correct",
          "correct",
          "correct",
          "correct",
          "correct",
          "correct",
          "correct",
          "correct",
          "correct",
          "correct",
          "correct",
          "correct",
          "correct",
          "correct",
          "correct",
          "correct",
          "correct",
          "correct",
          "correct",
          "correct",
          "correct",
          "correct",
          "correct",
          "correct",
          "correct",
          "correct",
          "correct",
          "correct",
          "correct",
          "correct",
          "correct",
          "correct",
          "correct",
          "correct",
          "correct",
          "correct",
          "correct",
          "correct",
          "correct",
          "correct",
          "correct",
          "correct",
          "correct",
          "correct",
          "correct",
          "correct",
          "correct",
          "correct",
          "correct",
          "correct",
          "correct",
          "correct",
          "correct",
          "correct",
          "correct",
          "correct",
          "correct",
          "correct",
          "correct",
          "correct",
          "correct",
          "correct",
          "correct",
          "correct",
          "correct",
          "correct",
          "correct",
          "correct",
          "correct",
          "correct",
          "correct",
          "correct",
          "correct",
          "correct",
          "correct",
          "correct",
          "correct",
          "correct",
          "correct",
          "correct",
          "correct",
          "correct",
          "correct",
          "correct",
          "correct",
          "correct",
          "correct",
          "correct",
          "correct",
          "correct",
          "correct",
          "correct",
          "correct",
          "correct",
          "correct",
          "correct",
          "correct",
          "correct",
          "correct",
          "correct",
          "correct",
          "correct",
          "correct",
          "correct",
          "correct",
          "correct",
          "correct",
          "correct",
          "correct",
          "correct",
          "correct",
          "correct",
          "correct",
          "correct",
          "correct",
          "correct",
          "correct",
          "correct",
          "correct",
          "correct",
          "correct",
          "correct",
          "correct",
          "correct",
          "correct",
          "correct",
          "correct",
          "correct",
          "correct",
          "correct",
          "correct",
          "correct",
          "correct",
          "correct",
          "correct",
          "correct",
          "correct",
          "correct",
          "correct",
          "correct",
          "correct",
          "correct",
          "correct",
          "correct",
          "correct",
          "correct",
          "correct",
          "correct",
          "correct",
          "correct",
          "correct",
          "correct",
          "correct",
          "correct",
          "correct",
          "correct",
          "correct",
          "correct",
          "correct",
          "correct",
          "correct",
          "correct",
          "correct",
          "correct",
          "correct",
          "correct",
          "correct",
          "correct",
          "correct",
          "correct",
          "correct",
          "correct",
          "correct",
          "correct",
          "correct",
          "correct",
          "correct",
          "correct",
          "correct",
          "correct",
          "correct",
          "correct",
          "correct",
          "correct",
          "correct",
          "correct",
          "correct",
          "correct",
          "correct",
          "correct",
          "correct",
          "correct",
          "correct",
          "correct",
          "correct",
          "correct",
          "correct",
          "correct",
          "correct",
          "correct",
          "correct",
          "correct",
          "correct",
          "correct",
          "correct",
          "correct",
          "correct",
          "correct",
          "correct",
          "correct",
          "correct",
          "correct",
          "correct",
          "correct",
          "correct",
          "correct",
          "correct",
          "correct",
          "correct",
          "correct",
          "correct",
          "correct",
          "correct",
          "correct",
          "correct",
          "correct",
          "correct",
          "correct",
          "correct",
          "correct",
          "correct",
          "correct",
          "correct",
          "correct",
          "correct",
          "correct",
          "correct",
          "correct",
          "correct",
          "correct",
          "correct",
          "correct",
          "correct",
          "correct",
          "correct",
          "correct",
          "wrong",
          "correct",
          "wrong",
          "wrong",
          "wrong",
          "wrong",
          "wrong",
          "wrong",
          "wrong",
          "correct",
          "wrong",
          "wrong",
          "correct",
          "wrong",
          "wrong",
          "correct",
          "wrong",
          "wrong",
          "wrong",
          "wrong",
          "wrong",
          "wrong",
          "wrong",
          "wrong",
          "wrong",
          "correct",
          "wrong",
          "wrong",
          "wrong",
          "wrong",
          "wrong",
          "wrong",
          "wrong",
          "wrong",
          "wrong",
          "wrong",
          "wrong",
          "wrong",
          "wrong",
          "wrong",
          "wrong",
          "wrong",
          "wrong",
          "wrong",
          "wrong",
          "wrong",
          "wrong",
          "correct",
          "wrong",
          "wrong",
          "wrong",
          "wrong",
          "correct",
          "correct",
          "wrong",
          "correct",
          "correct",
          "wrong",
          "wrong",
          "wrong",
          "wrong",
          "wrong",
          "wrong",
          "wrong",
          "wrong",
          "wrong",
          "wrong",
          "correct",
          "wrong",
          "wrong",
          "wrong",
          "wrong",
          "correct",
          "wrong",
          "wrong",
          "wrong",
          "wrong",
          "wrong",
          "wrong",
          "wrong",
          "wrong",
          "wrong",
          "correct",
          "wrong",
          "wrong",
          "wrong",
          "wrong",
          "correct",
          "wrong",
          "wrong",
          "correct",
          "wrong",
          "correct",
          "wrong",
          "correct",
          "correct",
          "correct",
          "wrong",
          "wrong",
          "wrong",
          "wrong",
          "wrong",
          "wrong",
          "wrong",
          "wrong",
          "correct",
          "correct",
          "wrong",
          "correct",
          "wrong",
          "wrong",
          "correct",
          "wrong",
          "wrong",
          "wrong",
          "wrong",
          "wrong",
          "correct",
          "wrong",
          "correct",
          "wrong",
          "correct",
          "wrong",
          "wrong",
          "wrong",
          "wrong",
          "wrong",
          "wrong",
          "correct",
          "wrong",
          "wrong",
          "wrong",
          "wrong",
          "wrong",
          "correct",
          "wrong",
          "wrong",
          "wrong",
          "wrong",
          "correct",
          "wrong",
          "correct",
          "wrong",
          "wrong",
          "wrong",
          "wrong",
          "correct",
          "wrong",
          "correct",
          "wrong",
          "wrong",
          "wrong",
          "correct",
          "wrong",
          "correct",
          "wrong",
          "wrong",
          "wrong",
          "wrong",
          "wrong",
          "wrong",
          "wrong",
          "wrong",
          "wrong",
          "wrong",
          "wrong",
          "wrong",
          "wrong",
          "wrong",
          "wrong",
          "correct",
          "wrong",
          "wrong",
          "wrong",
          "wrong",
          "wrong",
          "wrong",
          "wrong",
          "wrong",
          "wrong",
          "correct",
          "correct",
          "wrong",
          "wrong",
          "wrong",
          "wrong",
          "wrong",
          "wrong",
          "wrong",
          "correct",
          "correct",
          "wrong",
          "wrong",
          "wrong",
          "wrong",
          "wrong",
          "wrong",
          "wrong",
          "correct",
          "wrong",
          "wrong",
          "wrong",
          "wrong",
          "wrong",
          "wrong",
          "correct",
          "wrong",
          "wrong",
          "wrong",
          "wrong",
          "wrong",
          "wrong",
          "correct",
          "wrong",
          "wrong",
          "wrong",
          "wrong",
          "wrong",
          "wrong",
          "wrong",
          "correct",
          "wrong",
          "wrong",
          "correct",
          "wrong",
          "wrong",
          "wrong",
          "wrong",
          "correct",
          "wrong",
          "wrong",
          "wrong",
          "correct",
          "wrong",
          "wrong",
          "wrong",
          "correct",
          "wrong",
          "wrong",
          "correct",
          "wrong",
          "wrong",
          "wrong",
          "wrong",
          "wrong",
          "wrong",
          "correct",
          "wrong",
          "wrong",
          "wrong",
          "wrong",
          "wrong",
          "wrong",
          "wrong",
          "wrong",
          "wrong",
          "wrong",
          "wrong",
          "wrong",
          "wrong",
          "wrong",
          "correct",
          "wrong",
          "wrong",
          "wrong",
          "wrong",
          "wrong",
          "wrong",
          "wrong",
          "wrong",
          "wrong",
          "wrong",
          "wrong",
          "wrong",
          "wrong",
          "wrong",
          "correct",
          "wrong",
          "wrong",
          "wrong",
          "wrong",
          "wrong",
          "wrong",
          "wrong",
          "wrong",
          "wrong",
          "correct",
          "wrong",
          "wrong",
          "wrong",
          "wrong",
          "wrong",
          "correct",
          "wrong",
          "wrong",
          "wrong",
          "correct",
          "wrong",
          "wrong",
          "wrong",
          "wrong",
          "wrong",
          "wrong",
          "wrong",
          "correct",
          "wrong",
          "wrong",
          "wrong",
          "wrong",
          "wrong",
          "wrong",
          "wrong",
          "wrong",
          "wrong",
          "wrong",
          "wrong",
          "wrong",
          "wrong",
          "wrong",
          "wrong",
          "wrong",
          "wrong",
          "wrong",
          "wrong",
          "wrong",
          "correct",
          "wrong",
          "wrong",
          "correct",
          "correct",
          "wrong",
          "wrong",
          "wrong",
          "wrong",
          "wrong",
          "wrong",
          "wrong",
          "wrong",
          "wrong",
          "wrong",
          "correct",
          "wrong",
          "wrong",
          "correct",
          "correct",
          "wrong",
          "wrong",
          "wrong",
          "wrong",
          "wrong",
          "wrong",
          "wrong",
          "wrong",
          "correct",
          "wrong",
          "wrong",
          "wrong",
          "correct",
          "correct",
          "wrong",
          "wrong",
          "wrong",
          "wrong",
          "correct",
          "wrong",
          "wrong",
          "correct",
          "wrong",
          "wrong",
          "correct",
          "wrong",
          "correct",
          "wrong",
          "wrong",
          "wrong",
          "wrong",
          "correct",
          "wrong",
          "wrong",
          "wrong",
          "wrong",
          "wrong",
          "wrong",
          "wrong",
          "wrong",
          "wrong",
          "wrong",
          "wrong",
          "wrong",
          "wrong",
          "wrong",
          "wrong",
          "correct",
          "correct",
          "wrong",
          "wrong",
          "wrong",
          "wrong",
          "wrong",
          "wrong",
          "wrong",
          "wrong",
          "wrong",
          "wrong",
          "wrong",
          "wrong",
          "wrong",
          "wrong",
          "wrong",
          "wrong",
          "wrong",
          "wrong",
          "wrong",
          "correct",
          "correct",
          "wrong",
          "wrong",
          "wrong",
          "wrong",
          "correct",
          "correct",
          "wrong",
          "wrong",
          "wrong",
          "wrong",
          "wrong",
          "wrong",
          "wrong",
          "wrong",
          "wrong",
          "wrong",
          "wrong",
          "correct",
          "correct",
          "wrong",
          "wrong",
          "wrong",
          "wrong",
          "wrong",
          "wrong",
          "wrong",
          "wrong",
          "wrong",
          "wrong",
          "correct",
          "wrong",
          "wrong",
          "wrong",
          "correct",
          "wrong",
          "correct",
          "wrong",
          "correct",
          "wrong",
          "wrong",
          "wrong",
          "wrong",
          "wrong",
          "wrong",
          "correct",
          "wrong",
          "wrong",
          "wrong",
          "wrong",
          "wrong",
          "wrong",
          "wrong",
          "wrong",
          "correct",
          "wrong",
          "wrong",
          "wrong",
          "wrong",
          "correct",
          "correct",
          "wrong",
          "wrong",
          "wrong",
          "wrong",
          "wrong",
          "wrong",
          "wrong",
          "wrong",
          "wrong",
          "wrong",
          "wrong",
          "wrong",
          "wrong",
          "wrong",
          "wrong",
          "correct",
          "wrong",
          "wrong",
          "wrong",
          "wrong",
          "wrong",
          "wrong",
          "wrong",
          "wrong",
          "wrong",
          "wrong",
          "wrong",
          "wrong",
          "correct",
          "wrong",
          "wrong",
          "correct",
          "correct",
          "correct",
          "wrong",
          "wrong",
          "wrong",
          "wrong",
          "correct",
          "wrong",
          "wrong",
          "wrong",
          "wrong",
          "wrong",
          "wrong",
          "correct",
          "wrong",
          "wrong",
          "correct",
          "correct",
          "correct",
          "wrong",
          "wrong",
          "wrong",
          "wrong",
          "wrong",
          "wrong",
          "wrong",
          "wrong",
          "correct",
          "wrong",
          "wrong",
          "correct",
          "wrong",
          "wrong",
          "wrong",
          "wrong",
          "wrong",
          "wrong",
          "wrong",
          "wrong",
          "wrong",
          "wrong",
          "wrong",
          "wrong",
          "wrong",
          "wrong",
          "wrong",
          "wrong",
          "correct",
          "wrong",
          "wrong",
          "correct",
          "correct",
          "wrong",
          "wrong",
          "wrong",
          "wrong",
          "wrong",
          "correct",
          "wrong",
          "wrong",
          "correct",
          "wrong",
          "wrong",
          "wrong",
          "wrong",
          "wrong",
          "wrong",
          "wrong",
          "wrong",
          "wrong",
          "wrong",
          "wrong",
          "wrong",
          "wrong",
          "wrong",
          "wrong",
          "correct",
          "correct",
          "wrong",
          "wrong",
          "wrong",
          "wrong",
          "wrong",
          "wrong",
          "wrong",
          "wrong",
          "wrong",
          "correct",
          "correct",
          "correct",
          "wrong",
          "wrong",
          "wrong",
          "wrong",
          "wrong",
          "wrong",
          "correct",
          "wrong",
          "correct",
          "wrong",
          "wrong",
          "correct",
          "correct",
          "wrong",
          "wrong",
          "wrong",
          "correct",
          "wrong",
          "correct",
          "wrong",
          "correct",
          "wrong",
          "correct",
          "wrong",
          "correct",
          "wrong",
          "correct",
          "wrong",
          "wrong",
          "wrong",
          "wrong",
          "wrong",
          "wrong",
          "wrong",
          "wrong",
          "wrong",
          "wrong",
          "wrong",
          "wrong",
          "wrong",
          "wrong",
          "wrong",
          "wrong",
          "wrong",
          "correct",
          "correct",
          "wrong",
          "wrong",
          "wrong",
          "wrong",
          "wrong",
          "wrong",
          "wrong",
          "wrong",
          "wrong",
          "wrong",
          "correct",
          "wrong",
          "correct",
          "correct",
          "wrong",
          "wrong",
          "correct",
          "wrong",
          "correct",
          "wrong",
          "wrong",
          "wrong",
          "correct",
          "correct",
          "correct",
          "wrong",
          "wrong",
          "wrong",
          "correct",
          "correct",
          "correct",
          "correct",
          "correct",
          "wrong",
          "correct",
          "correct",
          "wrong",
          "correct",
          "correct",
          "correct",
          "correct",
          "wrong",
          "correct",
          "correct",
          "wrong",
          "wrong",
          "correct",
          "correct",
          "correct",
          "wrong",
          "wrong",
          "wrong",
          "correct",
          "correct",
          "correct",
          "wrong",
          "wrong",
          "correct",
          "correct",
          "wrong",
          "wrong",
          "correct",
          "wrong",
          "correct",
          "wrong",
          "wrong",
          "wrong",
          "correct",
          "correct",
          "wrong",
          "wrong",
          "correct",
          "wrong",
          "correct",
          "correct",
          "correct",
          "wrong",
          "wrong",
          "wrong",
          "correct",
          "wrong",
          "wrong",
          "wrong",
          "correct",
          "correct",
          "correct",
          "wrong",
          "wrong",
          "correct",
          "wrong",
          "correct",
          "correct",
          "wrong",
          "correct",
          "correct",
          "correct",
          "wrong",
          "wrong",
          "correct",
          "correct",
          "wrong",
          "correct",
          "correct",
          "correct",
          "wrong",
          "correct",
          "wrong",
          "wrong",
          "wrong",
          "correct",
          "correct",
          "wrong",
          "correct",
          "correct",
          "wrong",
          "correct",
          "correct",
          "correct",
          "wrong",
          "correct",
          "correct",
          "correct",
          "correct",
          "correct",
          "wrong",
          "wrong",
          "wrong",
          "correct",
          "wrong",
          "wrong",
          "correct",
          "wrong",
          "wrong",
          "correct",
          "wrong",
          "correct",
          "correct",
          "wrong",
          "correct",
          "wrong",
          "correct",
          "wrong",
          "correct",
          "correct",
          "correct",
          "wrong",
          "wrong",
          "correct",
          "correct",
          "correct",
          "wrong",
          "wrong",
          "correct",
          "wrong",
          "correct",
          "wrong",
          "wrong",
          "correct",
          "correct",
          "correct",
          "wrong",
          "correct",
          "wrong",
          "correct",
          "correct",
          "correct",
          "correct",
          "wrong",
          "wrong",
          "correct",
          "wrong",
          "correct",
          "wrong",
          "correct",
          "wrong",
          "correct",
          "wrong",
          "wrong",
          "correct",
          "correct",
          "correct",
          "correct",
          "wrong",
          "wrong",
          "wrong",
          "wrong",
          "wrong",
          "wrong",
          "wrong",
          "correct",
          "wrong",
          "wrong",
          "correct",
          "wrong",
          "wrong",
          "correct",
          "correct",
          "correct",
          "correct",
          "wrong",
          "wrong",
          "correct",
          "correct",
          "correct",
          "correct",
          "correct",
          "correct",
          "wrong",
          "wrong",
          "wrong",
          "wrong",
          "wrong",
          "wrong",
          "wrong",
          "correct",
          "wrong",
          "wrong",
          "wrong",
          "wrong",
          "correct",
          "correct",
          "correct",
          "wrong",
          "wrong",
          "wrong",
          "correct",
          "wrong",
          "correct",
          "wrong",
          "wrong",
          "correct",
          "wrong",
          "wrong",
          "wrong",
          "correct",
          "wrong",
          "correct",
          "correct",
          "correct",
          "correct",
          "wrong",
          "wrong",
          "correct",
          "wrong",
          "wrong",
          "wrong",
          "wrong",
          "correct",
          "wrong",
          "correct",
          "correct",
          "wrong",
          "correct",
          "wrong",
          "wrong",
          "wrong",
          "wrong",
          "correct",
          "correct",
          "wrong",
          "wrong",
          "wrong",
          "correct",
          "correct",
          "wrong",
          "wrong",
          "wrong",
          "correct",
          "wrong",
          "wrong",
          "wrong",
          "wrong",
          "wrong",
          "wrong",
          "wrong",
          "wrong",
          "wrong",
          "wrong",
          "wrong",
          "correct",
          "correct",
          "wrong",
          "wrong",
          "wrong",
          "correct",
          "correct",
          "correct",
          "correct",
          "wrong",
          "correct",
          "wrong",
          "wrong",
          "wrong",
          "correct",
          "wrong",
          "correct",
          "wrong",
          "correct",
          "wrong",
          "correct",
          "correct",
          "wrong",
          "correct",
          "wrong",
          "wrong",
          "correct",
          "correct",
          "correct",
          "correct",
          "correct",
          "wrong",
          "correct",
          "wrong",
          "correct",
          "correct",
          "correct",
          "wrong",
          "wrong",
          "correct",
          "wrong",
          "wrong",
          "correct",
          "correct",
          "correct",
          "correct",
          "correct",
          "correct",
          "correct",
          "wrong",
          "wrong",
          "wrong",
          "wrong",
          "correct",
          "wrong",
          "correct",
          "wrong",
          "correct",
          "correct",
          "correct",
          "wrong",
          "correct",
          "correct",
          "wrong",
          "correct",
          "wrong",
          "wrong",
          "wrong",
          "correct",
          "correct",
          "correct",
          "wrong",
          "correct",
          "wrong",
          "wrong",
          "correct",
          "correct",
          "correct",
          "correct",
          "wrong",
          "wrong",
          "wrong",
          "correct",
          "wrong",
          "wrong",
          "wrong",
          "correct",
          "wrong",
          "correct",
          "correct",
          "wrong",
          "correct",
          "correct",
          "wrong",
          "wrong",
          "wrong",
          "wrong",
          "correct",
          "wrong",
          "wrong",
          "wrong",
          "correct",
          "correct",
          "correct",
          "correct",
          "correct",
          "wrong",
          "correct",
          "wrong",
          "correct",
          "wrong",
          "correct",
          "wrong",
          "wrong",
          "wrong",
          "correct",
          "wrong",
          "correct",
          "correct",
          "wrong",
          "correct",
          "wrong",
          "correct",
          "wrong",
          "wrong",
          "correct",
          "wrong",
          "wrong",
          "correct",
          "correct",
          "wrong",
          "wrong",
          "wrong",
          "correct",
          "wrong",
          "wrong",
          "wrong",
          "correct",
          "wrong",
          "correct",
          "correct",
          "wrong",
          "correct",
          "correct",
          "wrong",
          "wrong",
          "wrong",
          "wrong",
          "correct",
          "correct",
          "wrong",
          "wrong",
          "correct",
          "correct",
          "correct",
          "wrong",
          "wrong",
          "correct",
          "correct",
          "correct",
          "correct",
          "wrong",
          "correct",
          "correct",
          "correct",
          "correct",
          "wrong",
          "wrong",
          "correct",
          "correct",
          "wrong",
          "correct",
          "correct",
          "wrong"
         ],
         "xaxis": "x",
         "yaxis": "y"
        }
       ],
       "layout": {
        "barmode": "relative",
        "legend": {
         "tracegroupgap": 0
        },
        "template": {
         "data": {
          "bar": [
           {
            "error_x": {
             "color": "#2a3f5f"
            },
            "error_y": {
             "color": "#2a3f5f"
            },
            "marker": {
             "line": {
              "color": "#E5ECF6",
              "width": 0.5
             },
             "pattern": {
              "fillmode": "overlay",
              "size": 10,
              "solidity": 0.2
             }
            },
            "type": "bar"
           }
          ],
          "barpolar": [
           {
            "marker": {
             "line": {
              "color": "#E5ECF6",
              "width": 0.5
             },
             "pattern": {
              "fillmode": "overlay",
              "size": 10,
              "solidity": 0.2
             }
            },
            "type": "barpolar"
           }
          ],
          "carpet": [
           {
            "aaxis": {
             "endlinecolor": "#2a3f5f",
             "gridcolor": "white",
             "linecolor": "white",
             "minorgridcolor": "white",
             "startlinecolor": "#2a3f5f"
            },
            "baxis": {
             "endlinecolor": "#2a3f5f",
             "gridcolor": "white",
             "linecolor": "white",
             "minorgridcolor": "white",
             "startlinecolor": "#2a3f5f"
            },
            "type": "carpet"
           }
          ],
          "choropleth": [
           {
            "colorbar": {
             "outlinewidth": 0,
             "ticks": ""
            },
            "type": "choropleth"
           }
          ],
          "contour": [
           {
            "colorbar": {
             "outlinewidth": 0,
             "ticks": ""
            },
            "colorscale": [
             [
              0,
              "#0d0887"
             ],
             [
              0.1111111111111111,
              "#46039f"
             ],
             [
              0.2222222222222222,
              "#7201a8"
             ],
             [
              0.3333333333333333,
              "#9c179e"
             ],
             [
              0.4444444444444444,
              "#bd3786"
             ],
             [
              0.5555555555555556,
              "#d8576b"
             ],
             [
              0.6666666666666666,
              "#ed7953"
             ],
             [
              0.7777777777777778,
              "#fb9f3a"
             ],
             [
              0.8888888888888888,
              "#fdca26"
             ],
             [
              1,
              "#f0f921"
             ]
            ],
            "type": "contour"
           }
          ],
          "contourcarpet": [
           {
            "colorbar": {
             "outlinewidth": 0,
             "ticks": ""
            },
            "type": "contourcarpet"
           }
          ],
          "heatmap": [
           {
            "colorbar": {
             "outlinewidth": 0,
             "ticks": ""
            },
            "colorscale": [
             [
              0,
              "#0d0887"
             ],
             [
              0.1111111111111111,
              "#46039f"
             ],
             [
              0.2222222222222222,
              "#7201a8"
             ],
             [
              0.3333333333333333,
              "#9c179e"
             ],
             [
              0.4444444444444444,
              "#bd3786"
             ],
             [
              0.5555555555555556,
              "#d8576b"
             ],
             [
              0.6666666666666666,
              "#ed7953"
             ],
             [
              0.7777777777777778,
              "#fb9f3a"
             ],
             [
              0.8888888888888888,
              "#fdca26"
             ],
             [
              1,
              "#f0f921"
             ]
            ],
            "type": "heatmap"
           }
          ],
          "heatmapgl": [
           {
            "colorbar": {
             "outlinewidth": 0,
             "ticks": ""
            },
            "colorscale": [
             [
              0,
              "#0d0887"
             ],
             [
              0.1111111111111111,
              "#46039f"
             ],
             [
              0.2222222222222222,
              "#7201a8"
             ],
             [
              0.3333333333333333,
              "#9c179e"
             ],
             [
              0.4444444444444444,
              "#bd3786"
             ],
             [
              0.5555555555555556,
              "#d8576b"
             ],
             [
              0.6666666666666666,
              "#ed7953"
             ],
             [
              0.7777777777777778,
              "#fb9f3a"
             ],
             [
              0.8888888888888888,
              "#fdca26"
             ],
             [
              1,
              "#f0f921"
             ]
            ],
            "type": "heatmapgl"
           }
          ],
          "histogram": [
           {
            "marker": {
             "pattern": {
              "fillmode": "overlay",
              "size": 10,
              "solidity": 0.2
             }
            },
            "type": "histogram"
           }
          ],
          "histogram2d": [
           {
            "colorbar": {
             "outlinewidth": 0,
             "ticks": ""
            },
            "colorscale": [
             [
              0,
              "#0d0887"
             ],
             [
              0.1111111111111111,
              "#46039f"
             ],
             [
              0.2222222222222222,
              "#7201a8"
             ],
             [
              0.3333333333333333,
              "#9c179e"
             ],
             [
              0.4444444444444444,
              "#bd3786"
             ],
             [
              0.5555555555555556,
              "#d8576b"
             ],
             [
              0.6666666666666666,
              "#ed7953"
             ],
             [
              0.7777777777777778,
              "#fb9f3a"
             ],
             [
              0.8888888888888888,
              "#fdca26"
             ],
             [
              1,
              "#f0f921"
             ]
            ],
            "type": "histogram2d"
           }
          ],
          "histogram2dcontour": [
           {
            "colorbar": {
             "outlinewidth": 0,
             "ticks": ""
            },
            "colorscale": [
             [
              0,
              "#0d0887"
             ],
             [
              0.1111111111111111,
              "#46039f"
             ],
             [
              0.2222222222222222,
              "#7201a8"
             ],
             [
              0.3333333333333333,
              "#9c179e"
             ],
             [
              0.4444444444444444,
              "#bd3786"
             ],
             [
              0.5555555555555556,
              "#d8576b"
             ],
             [
              0.6666666666666666,
              "#ed7953"
             ],
             [
              0.7777777777777778,
              "#fb9f3a"
             ],
             [
              0.8888888888888888,
              "#fdca26"
             ],
             [
              1,
              "#f0f921"
             ]
            ],
            "type": "histogram2dcontour"
           }
          ],
          "mesh3d": [
           {
            "colorbar": {
             "outlinewidth": 0,
             "ticks": ""
            },
            "type": "mesh3d"
           }
          ],
          "parcoords": [
           {
            "line": {
             "colorbar": {
              "outlinewidth": 0,
              "ticks": ""
             }
            },
            "type": "parcoords"
           }
          ],
          "pie": [
           {
            "automargin": true,
            "type": "pie"
           }
          ],
          "scatter": [
           {
            "fillpattern": {
             "fillmode": "overlay",
             "size": 10,
             "solidity": 0.2
            },
            "type": "scatter"
           }
          ],
          "scatter3d": [
           {
            "line": {
             "colorbar": {
              "outlinewidth": 0,
              "ticks": ""
             }
            },
            "marker": {
             "colorbar": {
              "outlinewidth": 0,
              "ticks": ""
             }
            },
            "type": "scatter3d"
           }
          ],
          "scattercarpet": [
           {
            "marker": {
             "colorbar": {
              "outlinewidth": 0,
              "ticks": ""
             }
            },
            "type": "scattercarpet"
           }
          ],
          "scattergeo": [
           {
            "marker": {
             "colorbar": {
              "outlinewidth": 0,
              "ticks": ""
             }
            },
            "type": "scattergeo"
           }
          ],
          "scattergl": [
           {
            "marker": {
             "colorbar": {
              "outlinewidth": 0,
              "ticks": ""
             }
            },
            "type": "scattergl"
           }
          ],
          "scattermapbox": [
           {
            "marker": {
             "colorbar": {
              "outlinewidth": 0,
              "ticks": ""
             }
            },
            "type": "scattermapbox"
           }
          ],
          "scatterpolar": [
           {
            "marker": {
             "colorbar": {
              "outlinewidth": 0,
              "ticks": ""
             }
            },
            "type": "scatterpolar"
           }
          ],
          "scatterpolargl": [
           {
            "marker": {
             "colorbar": {
              "outlinewidth": 0,
              "ticks": ""
             }
            },
            "type": "scatterpolargl"
           }
          ],
          "scatterternary": [
           {
            "marker": {
             "colorbar": {
              "outlinewidth": 0,
              "ticks": ""
             }
            },
            "type": "scatterternary"
           }
          ],
          "surface": [
           {
            "colorbar": {
             "outlinewidth": 0,
             "ticks": ""
            },
            "colorscale": [
             [
              0,
              "#0d0887"
             ],
             [
              0.1111111111111111,
              "#46039f"
             ],
             [
              0.2222222222222222,
              "#7201a8"
             ],
             [
              0.3333333333333333,
              "#9c179e"
             ],
             [
              0.4444444444444444,
              "#bd3786"
             ],
             [
              0.5555555555555556,
              "#d8576b"
             ],
             [
              0.6666666666666666,
              "#ed7953"
             ],
             [
              0.7777777777777778,
              "#fb9f3a"
             ],
             [
              0.8888888888888888,
              "#fdca26"
             ],
             [
              1,
              "#f0f921"
             ]
            ],
            "type": "surface"
           }
          ],
          "table": [
           {
            "cells": {
             "fill": {
              "color": "#EBF0F8"
             },
             "line": {
              "color": "white"
             }
            },
            "header": {
             "fill": {
              "color": "#C8D4E3"
             },
             "line": {
              "color": "white"
             }
            },
            "type": "table"
           }
          ]
         },
         "layout": {
          "annotationdefaults": {
           "arrowcolor": "#2a3f5f",
           "arrowhead": 0,
           "arrowwidth": 1
          },
          "autotypenumbers": "strict",
          "coloraxis": {
           "colorbar": {
            "outlinewidth": 0,
            "ticks": ""
           }
          },
          "colorscale": {
           "diverging": [
            [
             0,
             "#8e0152"
            ],
            [
             0.1,
             "#c51b7d"
            ],
            [
             0.2,
             "#de77ae"
            ],
            [
             0.3,
             "#f1b6da"
            ],
            [
             0.4,
             "#fde0ef"
            ],
            [
             0.5,
             "#f7f7f7"
            ],
            [
             0.6,
             "#e6f5d0"
            ],
            [
             0.7,
             "#b8e186"
            ],
            [
             0.8,
             "#7fbc41"
            ],
            [
             0.9,
             "#4d9221"
            ],
            [
             1,
             "#276419"
            ]
           ],
           "sequential": [
            [
             0,
             "#0d0887"
            ],
            [
             0.1111111111111111,
             "#46039f"
            ],
            [
             0.2222222222222222,
             "#7201a8"
            ],
            [
             0.3333333333333333,
             "#9c179e"
            ],
            [
             0.4444444444444444,
             "#bd3786"
            ],
            [
             0.5555555555555556,
             "#d8576b"
            ],
            [
             0.6666666666666666,
             "#ed7953"
            ],
            [
             0.7777777777777778,
             "#fb9f3a"
            ],
            [
             0.8888888888888888,
             "#fdca26"
            ],
            [
             1,
             "#f0f921"
            ]
           ],
           "sequentialminus": [
            [
             0,
             "#0d0887"
            ],
            [
             0.1111111111111111,
             "#46039f"
            ],
            [
             0.2222222222222222,
             "#7201a8"
            ],
            [
             0.3333333333333333,
             "#9c179e"
            ],
            [
             0.4444444444444444,
             "#bd3786"
            ],
            [
             0.5555555555555556,
             "#d8576b"
            ],
            [
             0.6666666666666666,
             "#ed7953"
            ],
            [
             0.7777777777777778,
             "#fb9f3a"
            ],
            [
             0.8888888888888888,
             "#fdca26"
            ],
            [
             1,
             "#f0f921"
            ]
           ]
          },
          "colorway": [
           "#636efa",
           "#EF553B",
           "#00cc96",
           "#ab63fa",
           "#FFA15A",
           "#19d3f3",
           "#FF6692",
           "#B6E880",
           "#FF97FF",
           "#FECB52"
          ],
          "font": {
           "color": "#2a3f5f"
          },
          "geo": {
           "bgcolor": "white",
           "lakecolor": "white",
           "landcolor": "#E5ECF6",
           "showlakes": true,
           "showland": true,
           "subunitcolor": "white"
          },
          "hoverlabel": {
           "align": "left"
          },
          "hovermode": "closest",
          "mapbox": {
           "style": "light"
          },
          "paper_bgcolor": "white",
          "plot_bgcolor": "#E5ECF6",
          "polar": {
           "angularaxis": {
            "gridcolor": "white",
            "linecolor": "white",
            "ticks": ""
           },
           "bgcolor": "#E5ECF6",
           "radialaxis": {
            "gridcolor": "white",
            "linecolor": "white",
            "ticks": ""
           }
          },
          "scene": {
           "xaxis": {
            "backgroundcolor": "#E5ECF6",
            "gridcolor": "white",
            "gridwidth": 2,
            "linecolor": "white",
            "showbackground": true,
            "ticks": "",
            "zerolinecolor": "white"
           },
           "yaxis": {
            "backgroundcolor": "#E5ECF6",
            "gridcolor": "white",
            "gridwidth": 2,
            "linecolor": "white",
            "showbackground": true,
            "ticks": "",
            "zerolinecolor": "white"
           },
           "zaxis": {
            "backgroundcolor": "#E5ECF6",
            "gridcolor": "white",
            "gridwidth": 2,
            "linecolor": "white",
            "showbackground": true,
            "ticks": "",
            "zerolinecolor": "white"
           }
          },
          "shapedefaults": {
           "line": {
            "color": "#2a3f5f"
           }
          },
          "ternary": {
           "aaxis": {
            "gridcolor": "white",
            "linecolor": "white",
            "ticks": ""
           },
           "baxis": {
            "gridcolor": "white",
            "linecolor": "white",
            "ticks": ""
           },
           "bgcolor": "#E5ECF6",
           "caxis": {
            "gridcolor": "white",
            "linecolor": "white",
            "ticks": ""
           }
          },
          "title": {
           "x": 0.05
          },
          "xaxis": {
           "automargin": true,
           "gridcolor": "white",
           "linecolor": "white",
           "ticks": "",
           "title": {
            "standoff": 15
           },
           "zerolinecolor": "white",
           "zerolinewidth": 2
          },
          "yaxis": {
           "automargin": true,
           "gridcolor": "white",
           "linecolor": "white",
           "ticks": "",
           "title": {
            "standoff": 15
           },
           "zerolinecolor": "white",
           "zerolinewidth": 2
          }
         }
        },
        "title": {
         "text": "correctness"
        },
        "xaxis": {
         "anchor": "y",
         "domain": [
          0,
          1
         ],
         "title": {
          "text": "correct"
         }
        },
        "yaxis": {
         "anchor": "x",
         "domain": [
          0,
          1
         ],
         "title": {
          "text": "count"
         }
        }
       }
      }
     },
     "metadata": {},
     "output_type": "display_data"
    },
    {
     "data": {
      "application/vnd.plotly.v1+json": {
       "config": {
        "plotlyServerURL": "https://plot.ly"
       },
       "data": [
        {
         "alignmentgroup": "True",
         "bingroup": "x",
         "hovertemplate": "correct=%{x}<br>count=%{y}<extra></extra>",
         "legendgroup": "",
         "marker": {
          "color": "#636efa",
          "pattern": {
           "shape": ""
          }
         },
         "name": "",
         "offsetgroup": "",
         "orientation": "v",
         "showlegend": false,
         "type": "histogram",
         "x": [
          "wrong",
          "wrong",
          "wrong",
          "wrong",
          "wrong",
          "wrong",
          "wrong",
          "wrong",
          "correct",
          "wrong",
          "wrong",
          "wrong",
          "wrong",
          "wrong",
          "wrong",
          "wrong",
          "wrong",
          "wrong",
          "wrong",
          "wrong",
          "wrong",
          "wrong",
          "wrong",
          "wrong",
          "wrong",
          "wrong",
          "wrong",
          "wrong",
          "wrong",
          "correct",
          "correct",
          "correct",
          "correct",
          "correct",
          "correct",
          "correct",
          "correct",
          "correct",
          "correct",
          "correct",
          "correct",
          "correct",
          "correct",
          "correct",
          "correct",
          "correct",
          "correct",
          "correct",
          "correct",
          "correct",
          "correct",
          "correct",
          "correct",
          "correct",
          "correct",
          "correct",
          "correct",
          "correct",
          "correct",
          "correct",
          "correct",
          "correct",
          "correct",
          "correct",
          "correct",
          "correct",
          "correct",
          "correct",
          "correct",
          "correct",
          "correct",
          "correct",
          "correct",
          "correct",
          "correct",
          "correct",
          "correct",
          "correct",
          "correct",
          "correct",
          "correct",
          "correct",
          "correct",
          "correct",
          "correct",
          "correct",
          "correct",
          "correct",
          "correct",
          "correct",
          "correct",
          "correct",
          "correct",
          "correct",
          "correct",
          "correct",
          "correct",
          "correct",
          "correct",
          "correct",
          "correct",
          "correct",
          "correct",
          "correct",
          "correct",
          "correct",
          "correct",
          "correct",
          "correct",
          "correct",
          "correct",
          "correct",
          "correct",
          "correct",
          "correct",
          "correct",
          "correct",
          "correct",
          "correct",
          "correct",
          "correct",
          "correct",
          "correct",
          "correct",
          "correct",
          "correct",
          "correct",
          "correct",
          "correct",
          "correct",
          "correct",
          "correct",
          "correct",
          "correct",
          "correct",
          "correct",
          "correct",
          "correct",
          "correct",
          "correct",
          "correct",
          "correct",
          "correct",
          "correct",
          "correct",
          "correct",
          "correct",
          "correct",
          "correct",
          "correct",
          "correct",
          "correct",
          "correct",
          "correct",
          "correct",
          "correct",
          "correct",
          "correct",
          "correct",
          "correct",
          "correct",
          "correct",
          "correct",
          "correct",
          "correct",
          "correct",
          "correct",
          "correct",
          "correct",
          "correct",
          "correct",
          "correct",
          "correct",
          "correct",
          "correct",
          "correct",
          "correct",
          "correct",
          "wrong",
          "wrong",
          "correct",
          "wrong",
          "wrong",
          "wrong",
          "wrong",
          "correct",
          "wrong",
          "correct",
          "wrong",
          "wrong",
          "wrong",
          "wrong",
          "wrong",
          "correct",
          "wrong",
          "wrong",
          "correct",
          "correct",
          "wrong",
          "wrong",
          "correct",
          "wrong",
          "wrong",
          "wrong",
          "wrong",
          "wrong",
          "wrong",
          "wrong",
          "wrong",
          "correct",
          "wrong",
          "wrong",
          "wrong",
          "wrong",
          "wrong",
          "correct",
          "wrong",
          "wrong",
          "wrong",
          "wrong",
          "correct",
          "wrong",
          "correct",
          "wrong",
          "wrong",
          "wrong",
          "wrong",
          "wrong",
          "wrong",
          "wrong",
          "correct",
          "correct",
          "wrong",
          "wrong",
          "correct",
          "wrong",
          "wrong",
          "wrong",
          "correct",
          "correct",
          "wrong",
          "wrong",
          "wrong",
          "wrong",
          "wrong",
          "wrong",
          "wrong",
          "wrong",
          "correct",
          "wrong",
          "wrong",
          "correct",
          "correct",
          "wrong",
          "wrong",
          "wrong",
          "correct",
          "correct",
          "correct",
          "wrong",
          "wrong",
          "wrong",
          "correct",
          "correct",
          "correct",
          "wrong",
          "wrong",
          "correct",
          "wrong",
          "wrong",
          "wrong",
          "wrong",
          "wrong",
          "wrong",
          "wrong",
          "wrong",
          "wrong",
          "wrong",
          "wrong",
          "correct",
          "wrong",
          "wrong",
          "wrong",
          "wrong",
          "wrong",
          "wrong",
          "wrong",
          "wrong",
          "wrong",
          "wrong",
          "wrong",
          "wrong",
          "wrong",
          "wrong",
          "wrong",
          "wrong",
          "wrong",
          "wrong",
          "wrong",
          "correct",
          "correct",
          "correct",
          "wrong",
          "wrong",
          "wrong",
          "wrong",
          "wrong",
          "wrong",
          "wrong",
          "wrong",
          "wrong",
          "wrong",
          "wrong",
          "wrong",
          "wrong",
          "wrong",
          "wrong",
          "wrong",
          "wrong",
          "correct",
          "wrong",
          "wrong",
          "wrong",
          "wrong",
          "wrong",
          "wrong",
          "correct",
          "wrong",
          "wrong",
          "wrong",
          "wrong",
          "wrong",
          "wrong",
          "wrong",
          "wrong",
          "wrong",
          "correct",
          "wrong",
          "wrong",
          "wrong",
          "wrong",
          "wrong",
          "wrong",
          "correct",
          "wrong",
          "wrong",
          "wrong",
          "wrong",
          "wrong",
          "correct",
          "wrong",
          "correct",
          "wrong",
          "wrong",
          "correct",
          "wrong",
          "correct",
          "wrong",
          "correct",
          "wrong",
          "wrong",
          "wrong",
          "wrong",
          "wrong",
          "correct",
          "wrong",
          "correct",
          "wrong",
          "wrong",
          "wrong",
          "wrong",
          "wrong",
          "correct",
          "wrong",
          "wrong",
          "wrong",
          "wrong",
          "wrong",
          "wrong",
          "wrong",
          "correct",
          "wrong",
          "correct",
          "correct",
          "wrong",
          "wrong",
          "correct",
          "wrong",
          "wrong",
          "correct",
          "wrong",
          "wrong",
          "wrong",
          "correct",
          "correct",
          "correct",
          "wrong",
          "correct",
          "wrong",
          "correct",
          "wrong",
          "correct",
          "correct",
          "wrong",
          "correct",
          "correct",
          "correct",
          "correct",
          "wrong",
          "wrong",
          "wrong",
          "correct",
          "correct",
          "wrong",
          "correct",
          "correct",
          "wrong",
          "correct",
          "wrong",
          "wrong",
          "correct",
          "correct",
          "wrong",
          "wrong",
          "correct",
          "wrong",
          "correct",
          "wrong",
          "correct",
          "correct",
          "wrong",
          "correct",
          "correct",
          "wrong",
          "wrong",
          "correct",
          "wrong",
          "wrong",
          "correct",
          "correct",
          "wrong",
          "wrong",
          "correct",
          "correct",
          "wrong",
          "correct",
          "correct",
          "wrong",
          "wrong",
          "correct",
          "wrong",
          "correct",
          "wrong",
          "wrong",
          "correct",
          "correct",
          "wrong",
          "correct",
          "wrong",
          "wrong",
          "wrong",
          "wrong",
          "correct",
          "wrong",
          "correct",
          "wrong",
          "correct",
          "wrong",
          "correct",
          "wrong",
          "correct",
          "correct",
          "correct",
          "wrong",
          "wrong",
          "correct",
          "wrong",
          "correct",
          "wrong",
          "wrong",
          "wrong",
          "correct",
          "wrong",
          "wrong",
          "correct",
          "wrong",
          "wrong",
          "wrong",
          "wrong",
          "correct",
          "wrong",
          "wrong",
          "wrong",
          "correct",
          "wrong",
          "correct",
          "wrong",
          "correct",
          "wrong",
          "correct",
          "wrong",
          "correct",
          "wrong",
          "wrong",
          "wrong",
          "correct",
          "correct",
          "correct",
          "correct",
          "correct",
          "correct",
          "wrong",
          "wrong",
          "wrong",
          "correct",
          "correct",
          "correct",
          "correct",
          "correct",
          "wrong",
          "wrong",
          "wrong",
          "correct",
          "wrong",
          "wrong",
          "correct",
          "wrong",
          "correct",
          "wrong",
          "wrong",
          "wrong",
          "correct",
          "wrong",
          "correct",
          "wrong",
          "wrong",
          "correct",
          "wrong",
          "wrong",
          "correct",
          "correct",
          "wrong",
          "wrong",
          "correct",
          "wrong",
          "wrong",
          "correct",
          "correct",
          "wrong",
          "correct",
          "correct",
          "wrong",
          "wrong",
          "correct",
          "wrong",
          "correct",
          "correct",
          "wrong",
          "wrong",
          "correct",
          "wrong",
          "correct",
          "wrong",
          "correct",
          "correct",
          "wrong",
          "wrong",
          "wrong",
          "wrong",
          "correct",
          "correct",
          "wrong",
          "correct",
          "wrong",
          "correct",
          "wrong",
          "correct",
          "correct",
          "wrong",
          "wrong",
          "correct",
          "wrong",
          "wrong",
          "correct",
          "correct",
          "wrong",
          "correct",
          "wrong",
          "correct",
          "correct",
          "correct",
          "wrong",
          "wrong",
          "correct",
          "wrong",
          "wrong",
          "correct",
          "correct",
          "correct",
          "correct",
          "correct",
          "correct",
          "wrong",
          "wrong",
          "correct",
          "correct",
          "correct",
          "wrong",
          "correct",
          "wrong",
          "correct",
          "correct",
          "wrong",
          "wrong",
          "wrong",
          "correct",
          "correct",
          "wrong",
          "correct",
          "wrong",
          "wrong",
          "wrong",
          "wrong",
          "correct",
          "wrong",
          "wrong",
          "correct",
          "wrong",
          "wrong",
          "wrong",
          "correct",
          "correct",
          "wrong",
          "correct",
          "correct",
          "correct",
          "wrong",
          "correct",
          "correct",
          "correct",
          "wrong",
          "correct",
          "correct",
          "wrong",
          "correct",
          "wrong",
          "correct",
          "wrong",
          "correct",
          "wrong",
          "correct",
          "wrong",
          "correct",
          "wrong",
          "correct",
          "correct",
          "wrong",
          "wrong",
          "wrong",
          "wrong",
          "wrong",
          "correct",
          "wrong",
          "wrong",
          "wrong",
          "correct",
          "correct",
          "wrong",
          "correct",
          "wrong",
          "wrong",
          "correct",
          "correct",
          "correct",
          "wrong",
          "wrong",
          "correct",
          "wrong",
          "wrong",
          "wrong",
          "correct",
          "wrong",
          "correct",
          "correct",
          "correct",
          "correct",
          "correct",
          "wrong",
          "wrong",
          "wrong",
          "wrong",
          "wrong",
          "wrong",
          "wrong",
          "correct",
          "wrong",
          "correct",
          "correct",
          "correct",
          "correct",
          "correct",
          "correct",
          "correct",
          "correct",
          "wrong",
          "correct",
          "wrong",
          "wrong",
          "correct",
          "correct"
         ],
         "xaxis": "x",
         "yaxis": "y"
        }
       ],
       "layout": {
        "barmode": "relative",
        "legend": {
         "tracegroupgap": 0
        },
        "template": {
         "data": {
          "bar": [
           {
            "error_x": {
             "color": "#2a3f5f"
            },
            "error_y": {
             "color": "#2a3f5f"
            },
            "marker": {
             "line": {
              "color": "#E5ECF6",
              "width": 0.5
             },
             "pattern": {
              "fillmode": "overlay",
              "size": 10,
              "solidity": 0.2
             }
            },
            "type": "bar"
           }
          ],
          "barpolar": [
           {
            "marker": {
             "line": {
              "color": "#E5ECF6",
              "width": 0.5
             },
             "pattern": {
              "fillmode": "overlay",
              "size": 10,
              "solidity": 0.2
             }
            },
            "type": "barpolar"
           }
          ],
          "carpet": [
           {
            "aaxis": {
             "endlinecolor": "#2a3f5f",
             "gridcolor": "white",
             "linecolor": "white",
             "minorgridcolor": "white",
             "startlinecolor": "#2a3f5f"
            },
            "baxis": {
             "endlinecolor": "#2a3f5f",
             "gridcolor": "white",
             "linecolor": "white",
             "minorgridcolor": "white",
             "startlinecolor": "#2a3f5f"
            },
            "type": "carpet"
           }
          ],
          "choropleth": [
           {
            "colorbar": {
             "outlinewidth": 0,
             "ticks": ""
            },
            "type": "choropleth"
           }
          ],
          "contour": [
           {
            "colorbar": {
             "outlinewidth": 0,
             "ticks": ""
            },
            "colorscale": [
             [
              0,
              "#0d0887"
             ],
             [
              0.1111111111111111,
              "#46039f"
             ],
             [
              0.2222222222222222,
              "#7201a8"
             ],
             [
              0.3333333333333333,
              "#9c179e"
             ],
             [
              0.4444444444444444,
              "#bd3786"
             ],
             [
              0.5555555555555556,
              "#d8576b"
             ],
             [
              0.6666666666666666,
              "#ed7953"
             ],
             [
              0.7777777777777778,
              "#fb9f3a"
             ],
             [
              0.8888888888888888,
              "#fdca26"
             ],
             [
              1,
              "#f0f921"
             ]
            ],
            "type": "contour"
           }
          ],
          "contourcarpet": [
           {
            "colorbar": {
             "outlinewidth": 0,
             "ticks": ""
            },
            "type": "contourcarpet"
           }
          ],
          "heatmap": [
           {
            "colorbar": {
             "outlinewidth": 0,
             "ticks": ""
            },
            "colorscale": [
             [
              0,
              "#0d0887"
             ],
             [
              0.1111111111111111,
              "#46039f"
             ],
             [
              0.2222222222222222,
              "#7201a8"
             ],
             [
              0.3333333333333333,
              "#9c179e"
             ],
             [
              0.4444444444444444,
              "#bd3786"
             ],
             [
              0.5555555555555556,
              "#d8576b"
             ],
             [
              0.6666666666666666,
              "#ed7953"
             ],
             [
              0.7777777777777778,
              "#fb9f3a"
             ],
             [
              0.8888888888888888,
              "#fdca26"
             ],
             [
              1,
              "#f0f921"
             ]
            ],
            "type": "heatmap"
           }
          ],
          "heatmapgl": [
           {
            "colorbar": {
             "outlinewidth": 0,
             "ticks": ""
            },
            "colorscale": [
             [
              0,
              "#0d0887"
             ],
             [
              0.1111111111111111,
              "#46039f"
             ],
             [
              0.2222222222222222,
              "#7201a8"
             ],
             [
              0.3333333333333333,
              "#9c179e"
             ],
             [
              0.4444444444444444,
              "#bd3786"
             ],
             [
              0.5555555555555556,
              "#d8576b"
             ],
             [
              0.6666666666666666,
              "#ed7953"
             ],
             [
              0.7777777777777778,
              "#fb9f3a"
             ],
             [
              0.8888888888888888,
              "#fdca26"
             ],
             [
              1,
              "#f0f921"
             ]
            ],
            "type": "heatmapgl"
           }
          ],
          "histogram": [
           {
            "marker": {
             "pattern": {
              "fillmode": "overlay",
              "size": 10,
              "solidity": 0.2
             }
            },
            "type": "histogram"
           }
          ],
          "histogram2d": [
           {
            "colorbar": {
             "outlinewidth": 0,
             "ticks": ""
            },
            "colorscale": [
             [
              0,
              "#0d0887"
             ],
             [
              0.1111111111111111,
              "#46039f"
             ],
             [
              0.2222222222222222,
              "#7201a8"
             ],
             [
              0.3333333333333333,
              "#9c179e"
             ],
             [
              0.4444444444444444,
              "#bd3786"
             ],
             [
              0.5555555555555556,
              "#d8576b"
             ],
             [
              0.6666666666666666,
              "#ed7953"
             ],
             [
              0.7777777777777778,
              "#fb9f3a"
             ],
             [
              0.8888888888888888,
              "#fdca26"
             ],
             [
              1,
              "#f0f921"
             ]
            ],
            "type": "histogram2d"
           }
          ],
          "histogram2dcontour": [
           {
            "colorbar": {
             "outlinewidth": 0,
             "ticks": ""
            },
            "colorscale": [
             [
              0,
              "#0d0887"
             ],
             [
              0.1111111111111111,
              "#46039f"
             ],
             [
              0.2222222222222222,
              "#7201a8"
             ],
             [
              0.3333333333333333,
              "#9c179e"
             ],
             [
              0.4444444444444444,
              "#bd3786"
             ],
             [
              0.5555555555555556,
              "#d8576b"
             ],
             [
              0.6666666666666666,
              "#ed7953"
             ],
             [
              0.7777777777777778,
              "#fb9f3a"
             ],
             [
              0.8888888888888888,
              "#fdca26"
             ],
             [
              1,
              "#f0f921"
             ]
            ],
            "type": "histogram2dcontour"
           }
          ],
          "mesh3d": [
           {
            "colorbar": {
             "outlinewidth": 0,
             "ticks": ""
            },
            "type": "mesh3d"
           }
          ],
          "parcoords": [
           {
            "line": {
             "colorbar": {
              "outlinewidth": 0,
              "ticks": ""
             }
            },
            "type": "parcoords"
           }
          ],
          "pie": [
           {
            "automargin": true,
            "type": "pie"
           }
          ],
          "scatter": [
           {
            "fillpattern": {
             "fillmode": "overlay",
             "size": 10,
             "solidity": 0.2
            },
            "type": "scatter"
           }
          ],
          "scatter3d": [
           {
            "line": {
             "colorbar": {
              "outlinewidth": 0,
              "ticks": ""
             }
            },
            "marker": {
             "colorbar": {
              "outlinewidth": 0,
              "ticks": ""
             }
            },
            "type": "scatter3d"
           }
          ],
          "scattercarpet": [
           {
            "marker": {
             "colorbar": {
              "outlinewidth": 0,
              "ticks": ""
             }
            },
            "type": "scattercarpet"
           }
          ],
          "scattergeo": [
           {
            "marker": {
             "colorbar": {
              "outlinewidth": 0,
              "ticks": ""
             }
            },
            "type": "scattergeo"
           }
          ],
          "scattergl": [
           {
            "marker": {
             "colorbar": {
              "outlinewidth": 0,
              "ticks": ""
             }
            },
            "type": "scattergl"
           }
          ],
          "scattermapbox": [
           {
            "marker": {
             "colorbar": {
              "outlinewidth": 0,
              "ticks": ""
             }
            },
            "type": "scattermapbox"
           }
          ],
          "scatterpolar": [
           {
            "marker": {
             "colorbar": {
              "outlinewidth": 0,
              "ticks": ""
             }
            },
            "type": "scatterpolar"
           }
          ],
          "scatterpolargl": [
           {
            "marker": {
             "colorbar": {
              "outlinewidth": 0,
              "ticks": ""
             }
            },
            "type": "scatterpolargl"
           }
          ],
          "scatterternary": [
           {
            "marker": {
             "colorbar": {
              "outlinewidth": 0,
              "ticks": ""
             }
            },
            "type": "scatterternary"
           }
          ],
          "surface": [
           {
            "colorbar": {
             "outlinewidth": 0,
             "ticks": ""
            },
            "colorscale": [
             [
              0,
              "#0d0887"
             ],
             [
              0.1111111111111111,
              "#46039f"
             ],
             [
              0.2222222222222222,
              "#7201a8"
             ],
             [
              0.3333333333333333,
              "#9c179e"
             ],
             [
              0.4444444444444444,
              "#bd3786"
             ],
             [
              0.5555555555555556,
              "#d8576b"
             ],
             [
              0.6666666666666666,
              "#ed7953"
             ],
             [
              0.7777777777777778,
              "#fb9f3a"
             ],
             [
              0.8888888888888888,
              "#fdca26"
             ],
             [
              1,
              "#f0f921"
             ]
            ],
            "type": "surface"
           }
          ],
          "table": [
           {
            "cells": {
             "fill": {
              "color": "#EBF0F8"
             },
             "line": {
              "color": "white"
             }
            },
            "header": {
             "fill": {
              "color": "#C8D4E3"
             },
             "line": {
              "color": "white"
             }
            },
            "type": "table"
           }
          ]
         },
         "layout": {
          "annotationdefaults": {
           "arrowcolor": "#2a3f5f",
           "arrowhead": 0,
           "arrowwidth": 1
          },
          "autotypenumbers": "strict",
          "coloraxis": {
           "colorbar": {
            "outlinewidth": 0,
            "ticks": ""
           }
          },
          "colorscale": {
           "diverging": [
            [
             0,
             "#8e0152"
            ],
            [
             0.1,
             "#c51b7d"
            ],
            [
             0.2,
             "#de77ae"
            ],
            [
             0.3,
             "#f1b6da"
            ],
            [
             0.4,
             "#fde0ef"
            ],
            [
             0.5,
             "#f7f7f7"
            ],
            [
             0.6,
             "#e6f5d0"
            ],
            [
             0.7,
             "#b8e186"
            ],
            [
             0.8,
             "#7fbc41"
            ],
            [
             0.9,
             "#4d9221"
            ],
            [
             1,
             "#276419"
            ]
           ],
           "sequential": [
            [
             0,
             "#0d0887"
            ],
            [
             0.1111111111111111,
             "#46039f"
            ],
            [
             0.2222222222222222,
             "#7201a8"
            ],
            [
             0.3333333333333333,
             "#9c179e"
            ],
            [
             0.4444444444444444,
             "#bd3786"
            ],
            [
             0.5555555555555556,
             "#d8576b"
            ],
            [
             0.6666666666666666,
             "#ed7953"
            ],
            [
             0.7777777777777778,
             "#fb9f3a"
            ],
            [
             0.8888888888888888,
             "#fdca26"
            ],
            [
             1,
             "#f0f921"
            ]
           ],
           "sequentialminus": [
            [
             0,
             "#0d0887"
            ],
            [
             0.1111111111111111,
             "#46039f"
            ],
            [
             0.2222222222222222,
             "#7201a8"
            ],
            [
             0.3333333333333333,
             "#9c179e"
            ],
            [
             0.4444444444444444,
             "#bd3786"
            ],
            [
             0.5555555555555556,
             "#d8576b"
            ],
            [
             0.6666666666666666,
             "#ed7953"
            ],
            [
             0.7777777777777778,
             "#fb9f3a"
            ],
            [
             0.8888888888888888,
             "#fdca26"
            ],
            [
             1,
             "#f0f921"
            ]
           ]
          },
          "colorway": [
           "#636efa",
           "#EF553B",
           "#00cc96",
           "#ab63fa",
           "#FFA15A",
           "#19d3f3",
           "#FF6692",
           "#B6E880",
           "#FF97FF",
           "#FECB52"
          ],
          "font": {
           "color": "#2a3f5f"
          },
          "geo": {
           "bgcolor": "white",
           "lakecolor": "white",
           "landcolor": "#E5ECF6",
           "showlakes": true,
           "showland": true,
           "subunitcolor": "white"
          },
          "hoverlabel": {
           "align": "left"
          },
          "hovermode": "closest",
          "mapbox": {
           "style": "light"
          },
          "paper_bgcolor": "white",
          "plot_bgcolor": "#E5ECF6",
          "polar": {
           "angularaxis": {
            "gridcolor": "white",
            "linecolor": "white",
            "ticks": ""
           },
           "bgcolor": "#E5ECF6",
           "radialaxis": {
            "gridcolor": "white",
            "linecolor": "white",
            "ticks": ""
           }
          },
          "scene": {
           "xaxis": {
            "backgroundcolor": "#E5ECF6",
            "gridcolor": "white",
            "gridwidth": 2,
            "linecolor": "white",
            "showbackground": true,
            "ticks": "",
            "zerolinecolor": "white"
           },
           "yaxis": {
            "backgroundcolor": "#E5ECF6",
            "gridcolor": "white",
            "gridwidth": 2,
            "linecolor": "white",
            "showbackground": true,
            "ticks": "",
            "zerolinecolor": "white"
           },
           "zaxis": {
            "backgroundcolor": "#E5ECF6",
            "gridcolor": "white",
            "gridwidth": 2,
            "linecolor": "white",
            "showbackground": true,
            "ticks": "",
            "zerolinecolor": "white"
           }
          },
          "shapedefaults": {
           "line": {
            "color": "#2a3f5f"
           }
          },
          "ternary": {
           "aaxis": {
            "gridcolor": "white",
            "linecolor": "white",
            "ticks": ""
           },
           "baxis": {
            "gridcolor": "white",
            "linecolor": "white",
            "ticks": ""
           },
           "bgcolor": "#E5ECF6",
           "caxis": {
            "gridcolor": "white",
            "linecolor": "white",
            "ticks": ""
           }
          },
          "title": {
           "x": 0.05
          },
          "xaxis": {
           "automargin": true,
           "gridcolor": "white",
           "linecolor": "white",
           "ticks": "",
           "title": {
            "standoff": 15
           },
           "zerolinecolor": "white",
           "zerolinewidth": 2
          },
          "yaxis": {
           "automargin": true,
           "gridcolor": "white",
           "linecolor": "white",
           "ticks": "",
           "title": {
            "standoff": 15
           },
           "zerolinecolor": "white",
           "zerolinewidth": 2
          }
         }
        },
        "title": {
         "text": "correctness"
        },
        "xaxis": {
         "anchor": "y",
         "domain": [
          0,
          1
         ],
         "title": {
          "text": "correct"
         }
        },
        "yaxis": {
         "anchor": "x",
         "domain": [
          0,
          1
         ],
         "title": {
          "text": "count"
         }
        }
       }
      }
     },
     "metadata": {},
     "output_type": "display_data"
    }
   ],
   "source": [
    "to_graph=all_backend_table_truth.filter(\"last_event_name like '%created'\")\n",
    "histogram(to_graph.toPandas(), \"correct\", \"correctness\")\n",
    "\n",
    "to_graph=all_backend_table_truth.filter(\"last_event_name like '%edited'\")\n",
    "histogram(to_graph.toPandas(), \"correct\", \"correctness\")"
   ]
  },
  {
   "cell_type": "code",
   "execution_count": null,
   "metadata": {},
   "outputs": [],
   "source": []
  },
  {
   "cell_type": "markdown",
   "metadata": {},
   "source": [
    "In the daily frequency, 86.4% of the allowances has the `next_payment_day` equal to `updated_at + 1 day`. Considering that and the fact that almost every daily allowance has a wrong value of `next_payment_day` getting the current day as `2024-11-03`, this may be because the backend job that updates the next_payment_day column for the daily frequency is not running every day or is breaking somehow. We can see this on the next graph."
   ]
  },
  {
   "cell_type": "code",
   "execution_count": 24,
   "metadata": {},
   "outputs": [
    {
     "data": {
      "application/vnd.plotly.v1+json": {
       "config": {
        "plotlyServerURL": "https://plot.ly"
       },
       "data": [
        {
         "direction": "clockwise",
         "domain": {
          "x": [
           0,
           1
          ],
          "y": [
           0,
           1
          ]
         },
         "hovertemplate": "update_correct=%{label}<br>count=%{value}<extra></extra>",
         "labels": [
          "correct",
          "wrong"
         ],
         "legendgroup": "",
         "name": "",
         "showlegend": true,
         "sort": false,
         "type": "pie",
         "values": [
          38,
          6
         ]
        }
       ],
       "layout": {
        "legend": {
         "tracegroupgap": 0
        },
        "template": {
         "data": {
          "bar": [
           {
            "error_x": {
             "color": "#2a3f5f"
            },
            "error_y": {
             "color": "#2a3f5f"
            },
            "marker": {
             "line": {
              "color": "#E5ECF6",
              "width": 0.5
             },
             "pattern": {
              "fillmode": "overlay",
              "size": 10,
              "solidity": 0.2
             }
            },
            "type": "bar"
           }
          ],
          "barpolar": [
           {
            "marker": {
             "line": {
              "color": "#E5ECF6",
              "width": 0.5
             },
             "pattern": {
              "fillmode": "overlay",
              "size": 10,
              "solidity": 0.2
             }
            },
            "type": "barpolar"
           }
          ],
          "carpet": [
           {
            "aaxis": {
             "endlinecolor": "#2a3f5f",
             "gridcolor": "white",
             "linecolor": "white",
             "minorgridcolor": "white",
             "startlinecolor": "#2a3f5f"
            },
            "baxis": {
             "endlinecolor": "#2a3f5f",
             "gridcolor": "white",
             "linecolor": "white",
             "minorgridcolor": "white",
             "startlinecolor": "#2a3f5f"
            },
            "type": "carpet"
           }
          ],
          "choropleth": [
           {
            "colorbar": {
             "outlinewidth": 0,
             "ticks": ""
            },
            "type": "choropleth"
           }
          ],
          "contour": [
           {
            "colorbar": {
             "outlinewidth": 0,
             "ticks": ""
            },
            "colorscale": [
             [
              0,
              "#0d0887"
             ],
             [
              0.1111111111111111,
              "#46039f"
             ],
             [
              0.2222222222222222,
              "#7201a8"
             ],
             [
              0.3333333333333333,
              "#9c179e"
             ],
             [
              0.4444444444444444,
              "#bd3786"
             ],
             [
              0.5555555555555556,
              "#d8576b"
             ],
             [
              0.6666666666666666,
              "#ed7953"
             ],
             [
              0.7777777777777778,
              "#fb9f3a"
             ],
             [
              0.8888888888888888,
              "#fdca26"
             ],
             [
              1,
              "#f0f921"
             ]
            ],
            "type": "contour"
           }
          ],
          "contourcarpet": [
           {
            "colorbar": {
             "outlinewidth": 0,
             "ticks": ""
            },
            "type": "contourcarpet"
           }
          ],
          "heatmap": [
           {
            "colorbar": {
             "outlinewidth": 0,
             "ticks": ""
            },
            "colorscale": [
             [
              0,
              "#0d0887"
             ],
             [
              0.1111111111111111,
              "#46039f"
             ],
             [
              0.2222222222222222,
              "#7201a8"
             ],
             [
              0.3333333333333333,
              "#9c179e"
             ],
             [
              0.4444444444444444,
              "#bd3786"
             ],
             [
              0.5555555555555556,
              "#d8576b"
             ],
             [
              0.6666666666666666,
              "#ed7953"
             ],
             [
              0.7777777777777778,
              "#fb9f3a"
             ],
             [
              0.8888888888888888,
              "#fdca26"
             ],
             [
              1,
              "#f0f921"
             ]
            ],
            "type": "heatmap"
           }
          ],
          "heatmapgl": [
           {
            "colorbar": {
             "outlinewidth": 0,
             "ticks": ""
            },
            "colorscale": [
             [
              0,
              "#0d0887"
             ],
             [
              0.1111111111111111,
              "#46039f"
             ],
             [
              0.2222222222222222,
              "#7201a8"
             ],
             [
              0.3333333333333333,
              "#9c179e"
             ],
             [
              0.4444444444444444,
              "#bd3786"
             ],
             [
              0.5555555555555556,
              "#d8576b"
             ],
             [
              0.6666666666666666,
              "#ed7953"
             ],
             [
              0.7777777777777778,
              "#fb9f3a"
             ],
             [
              0.8888888888888888,
              "#fdca26"
             ],
             [
              1,
              "#f0f921"
             ]
            ],
            "type": "heatmapgl"
           }
          ],
          "histogram": [
           {
            "marker": {
             "pattern": {
              "fillmode": "overlay",
              "size": 10,
              "solidity": 0.2
             }
            },
            "type": "histogram"
           }
          ],
          "histogram2d": [
           {
            "colorbar": {
             "outlinewidth": 0,
             "ticks": ""
            },
            "colorscale": [
             [
              0,
              "#0d0887"
             ],
             [
              0.1111111111111111,
              "#46039f"
             ],
             [
              0.2222222222222222,
              "#7201a8"
             ],
             [
              0.3333333333333333,
              "#9c179e"
             ],
             [
              0.4444444444444444,
              "#bd3786"
             ],
             [
              0.5555555555555556,
              "#d8576b"
             ],
             [
              0.6666666666666666,
              "#ed7953"
             ],
             [
              0.7777777777777778,
              "#fb9f3a"
             ],
             [
              0.8888888888888888,
              "#fdca26"
             ],
             [
              1,
              "#f0f921"
             ]
            ],
            "type": "histogram2d"
           }
          ],
          "histogram2dcontour": [
           {
            "colorbar": {
             "outlinewidth": 0,
             "ticks": ""
            },
            "colorscale": [
             [
              0,
              "#0d0887"
             ],
             [
              0.1111111111111111,
              "#46039f"
             ],
             [
              0.2222222222222222,
              "#7201a8"
             ],
             [
              0.3333333333333333,
              "#9c179e"
             ],
             [
              0.4444444444444444,
              "#bd3786"
             ],
             [
              0.5555555555555556,
              "#d8576b"
             ],
             [
              0.6666666666666666,
              "#ed7953"
             ],
             [
              0.7777777777777778,
              "#fb9f3a"
             ],
             [
              0.8888888888888888,
              "#fdca26"
             ],
             [
              1,
              "#f0f921"
             ]
            ],
            "type": "histogram2dcontour"
           }
          ],
          "mesh3d": [
           {
            "colorbar": {
             "outlinewidth": 0,
             "ticks": ""
            },
            "type": "mesh3d"
           }
          ],
          "parcoords": [
           {
            "line": {
             "colorbar": {
              "outlinewidth": 0,
              "ticks": ""
             }
            },
            "type": "parcoords"
           }
          ],
          "pie": [
           {
            "automargin": true,
            "type": "pie"
           }
          ],
          "scatter": [
           {
            "fillpattern": {
             "fillmode": "overlay",
             "size": 10,
             "solidity": 0.2
            },
            "type": "scatter"
           }
          ],
          "scatter3d": [
           {
            "line": {
             "colorbar": {
              "outlinewidth": 0,
              "ticks": ""
             }
            },
            "marker": {
             "colorbar": {
              "outlinewidth": 0,
              "ticks": ""
             }
            },
            "type": "scatter3d"
           }
          ],
          "scattercarpet": [
           {
            "marker": {
             "colorbar": {
              "outlinewidth": 0,
              "ticks": ""
             }
            },
            "type": "scattercarpet"
           }
          ],
          "scattergeo": [
           {
            "marker": {
             "colorbar": {
              "outlinewidth": 0,
              "ticks": ""
             }
            },
            "type": "scattergeo"
           }
          ],
          "scattergl": [
           {
            "marker": {
             "colorbar": {
              "outlinewidth": 0,
              "ticks": ""
             }
            },
            "type": "scattergl"
           }
          ],
          "scattermapbox": [
           {
            "marker": {
             "colorbar": {
              "outlinewidth": 0,
              "ticks": ""
             }
            },
            "type": "scattermapbox"
           }
          ],
          "scatterpolar": [
           {
            "marker": {
             "colorbar": {
              "outlinewidth": 0,
              "ticks": ""
             }
            },
            "type": "scatterpolar"
           }
          ],
          "scatterpolargl": [
           {
            "marker": {
             "colorbar": {
              "outlinewidth": 0,
              "ticks": ""
             }
            },
            "type": "scatterpolargl"
           }
          ],
          "scatterternary": [
           {
            "marker": {
             "colorbar": {
              "outlinewidth": 0,
              "ticks": ""
             }
            },
            "type": "scatterternary"
           }
          ],
          "surface": [
           {
            "colorbar": {
             "outlinewidth": 0,
             "ticks": ""
            },
            "colorscale": [
             [
              0,
              "#0d0887"
             ],
             [
              0.1111111111111111,
              "#46039f"
             ],
             [
              0.2222222222222222,
              "#7201a8"
             ],
             [
              0.3333333333333333,
              "#9c179e"
             ],
             [
              0.4444444444444444,
              "#bd3786"
             ],
             [
              0.5555555555555556,
              "#d8576b"
             ],
             [
              0.6666666666666666,
              "#ed7953"
             ],
             [
              0.7777777777777778,
              "#fb9f3a"
             ],
             [
              0.8888888888888888,
              "#fdca26"
             ],
             [
              1,
              "#f0f921"
             ]
            ],
            "type": "surface"
           }
          ],
          "table": [
           {
            "cells": {
             "fill": {
              "color": "#EBF0F8"
             },
             "line": {
              "color": "white"
             }
            },
            "header": {
             "fill": {
              "color": "#C8D4E3"
             },
             "line": {
              "color": "white"
             }
            },
            "type": "table"
           }
          ]
         },
         "layout": {
          "annotationdefaults": {
           "arrowcolor": "#2a3f5f",
           "arrowhead": 0,
           "arrowwidth": 1
          },
          "autotypenumbers": "strict",
          "coloraxis": {
           "colorbar": {
            "outlinewidth": 0,
            "ticks": ""
           }
          },
          "colorscale": {
           "diverging": [
            [
             0,
             "#8e0152"
            ],
            [
             0.1,
             "#c51b7d"
            ],
            [
             0.2,
             "#de77ae"
            ],
            [
             0.3,
             "#f1b6da"
            ],
            [
             0.4,
             "#fde0ef"
            ],
            [
             0.5,
             "#f7f7f7"
            ],
            [
             0.6,
             "#e6f5d0"
            ],
            [
             0.7,
             "#b8e186"
            ],
            [
             0.8,
             "#7fbc41"
            ],
            [
             0.9,
             "#4d9221"
            ],
            [
             1,
             "#276419"
            ]
           ],
           "sequential": [
            [
             0,
             "#0d0887"
            ],
            [
             0.1111111111111111,
             "#46039f"
            ],
            [
             0.2222222222222222,
             "#7201a8"
            ],
            [
             0.3333333333333333,
             "#9c179e"
            ],
            [
             0.4444444444444444,
             "#bd3786"
            ],
            [
             0.5555555555555556,
             "#d8576b"
            ],
            [
             0.6666666666666666,
             "#ed7953"
            ],
            [
             0.7777777777777778,
             "#fb9f3a"
            ],
            [
             0.8888888888888888,
             "#fdca26"
            ],
            [
             1,
             "#f0f921"
            ]
           ],
           "sequentialminus": [
            [
             0,
             "#0d0887"
            ],
            [
             0.1111111111111111,
             "#46039f"
            ],
            [
             0.2222222222222222,
             "#7201a8"
            ],
            [
             0.3333333333333333,
             "#9c179e"
            ],
            [
             0.4444444444444444,
             "#bd3786"
            ],
            [
             0.5555555555555556,
             "#d8576b"
            ],
            [
             0.6666666666666666,
             "#ed7953"
            ],
            [
             0.7777777777777778,
             "#fb9f3a"
            ],
            [
             0.8888888888888888,
             "#fdca26"
            ],
            [
             1,
             "#f0f921"
            ]
           ]
          },
          "colorway": [
           "#636efa",
           "#EF553B",
           "#00cc96",
           "#ab63fa",
           "#FFA15A",
           "#19d3f3",
           "#FF6692",
           "#B6E880",
           "#FF97FF",
           "#FECB52"
          ],
          "font": {
           "color": "#2a3f5f"
          },
          "geo": {
           "bgcolor": "white",
           "lakecolor": "white",
           "landcolor": "#E5ECF6",
           "showlakes": true,
           "showland": true,
           "subunitcolor": "white"
          },
          "hoverlabel": {
           "align": "left"
          },
          "hovermode": "closest",
          "mapbox": {
           "style": "light"
          },
          "paper_bgcolor": "white",
          "plot_bgcolor": "#E5ECF6",
          "polar": {
           "angularaxis": {
            "gridcolor": "white",
            "linecolor": "white",
            "ticks": ""
           },
           "bgcolor": "#E5ECF6",
           "radialaxis": {
            "gridcolor": "white",
            "linecolor": "white",
            "ticks": ""
           }
          },
          "scene": {
           "xaxis": {
            "backgroundcolor": "#E5ECF6",
            "gridcolor": "white",
            "gridwidth": 2,
            "linecolor": "white",
            "showbackground": true,
            "ticks": "",
            "zerolinecolor": "white"
           },
           "yaxis": {
            "backgroundcolor": "#E5ECF6",
            "gridcolor": "white",
            "gridwidth": 2,
            "linecolor": "white",
            "showbackground": true,
            "ticks": "",
            "zerolinecolor": "white"
           },
           "zaxis": {
            "backgroundcolor": "#E5ECF6",
            "gridcolor": "white",
            "gridwidth": 2,
            "linecolor": "white",
            "showbackground": true,
            "ticks": "",
            "zerolinecolor": "white"
           }
          },
          "shapedefaults": {
           "line": {
            "color": "#2a3f5f"
           }
          },
          "ternary": {
           "aaxis": {
            "gridcolor": "white",
            "linecolor": "white",
            "ticks": ""
           },
           "baxis": {
            "gridcolor": "white",
            "linecolor": "white",
            "ticks": ""
           },
           "bgcolor": "#E5ECF6",
           "caxis": {
            "gridcolor": "white",
            "linecolor": "white",
            "ticks": ""
           }
          },
          "title": {
           "x": 0.05
          },
          "xaxis": {
           "automargin": true,
           "gridcolor": "white",
           "linecolor": "white",
           "ticks": "",
           "title": {
            "standoff": 15
           },
           "zerolinecolor": "white",
           "zerolinewidth": 2
          },
          "yaxis": {
           "automargin": true,
           "gridcolor": "white",
           "linecolor": "white",
           "ticks": "",
           "title": {
            "standoff": 15
           },
           "zerolinecolor": "white",
           "zerolinewidth": 2
          }
         }
        },
        "title": {
         "text": "proportion"
        }
       }
      }
     },
     "metadata": {},
     "output_type": "display_data"
    }
   ],
   "source": [
    "# all_backend_table_truth.filter(\"correct = 'correct' and day = 'daily'\").show()\n",
    "test_next_update_daily = all_backend_table_truth.withColumn(\n",
    "    \"update_next_day\", spark_f.day(spark_f.date_add(spark_f.col(\"updated_at\"), 1))\n",
    ").filter(\n",
    "    \"frequency = 'daily'\"\n",
    ")  # .show()\n",
    "test_next_update_daily = test_next_update_daily.withColumn(\n",
    "    \"update_correct\",\n",
    "    spark_f.when(\n",
    "        spark_f.col(\"update_next_day\") == spark_f.col(\"next_payment_day\"),\n",
    "        spark_f.lit(\"correct\"),\n",
    "    ).otherwise(spark_f.lit(\"wrong\")),\n",
    ")\n",
    "\n",
    "# test_next_update.show()\n",
    "\n",
    "pie_chart(\n",
    "    test_next_update_daily.toPandas(),\n",
    "    \"update_correct\",\n",
    "    \"proportion\",\n",
    "    category_orders={\"update_correct\": [\"correct\", \"wrong\"]},\n",
    ")\n",
    "# all_backend_table_truth.filter(\"date(updated_at) = '2024-11-03'\").show()"
   ]
  },
  {
   "cell_type": "markdown",
   "metadata": {},
   "source": [
    "The majority of the cases that are wrong considering the next day of the updated_at (`update_next_day`) are wrong by a diference of 1 as we can see in the next table,  this could indicate that there has been some double updating if the update process only increments the `next_payment_day` column without regards to the current day."
   ]
  },
  {
   "cell_type": "code",
   "execution_count": null,
   "metadata": {},
   "outputs": [
    {
     "name": "stdout",
     "output_type": "stream",
     "text": [
      "+--------------------+---------+--------------------+---------------+----------------+-------------------------------+\n",
      "|             user_id|frequency|          updated_at|update_next_day|next_payment_day|next_day_to_update_next_day_dif|\n",
      "+--------------------+---------+--------------------+---------------+----------------+-------------------------------+\n",
      "|ddcfef7f-f431-4d2...|    daily|2024-09-11 10:51:...|             12|               4|                           -8.0|\n",
      "|9be9e091-4f3a-4a6...|    daily|2024-10-15 22:26:...|             16|              17|                            1.0|\n",
      "|e792e7d1-67ae-444...|    daily| 2024-11-25 21:18:00|             26|              27|                            1.0|\n",
      "|7f1f0ab3-4eb3-418...|    daily|2024-10-06 21:44:...|              7|               8|                            1.0|\n",
      "|337875a6-6c2b-49a...|    daily| 2024-11-25 21:18:13|             26|              27|                            1.0|\n",
      "|2cb3cd03-75f8-429...|    daily| 2024-11-14 22:58:18|             15|              16|                            1.0|\n",
      "+--------------------+---------+--------------------+---------------+----------------+-------------------------------+\n",
      "\n"
     ]
    }
   ],
   "source": [
    "test_next_update_errors = test_next_update_daily.filter(\n",
    "    \"update_correct = 'wrong'\"\n",
    ").withColumn(\n",
    "    \"next_day_to_update_next_day_dif\",\n",
    "    test_next_update_daily.next_payment_day - test_next_update_daily.update_next_day,\n",
    ").select(\n",
    "    \"user_id\",\n",
    "    \"frequency\",\n",
    "    \"updated_at\",\n",
    "    \"update_next_day\",\n",
    "    \"next_payment_day\",\n",
    "    \"next_day_to_update_next_day_dif\",\n",
    ")\n",
    "test_next_update_errors.show()"
   ]
  },
  {
   "cell_type": "code",
   "execution_count": null,
   "metadata": {},
   "outputs": [],
   "source": []
  },
  {
   "cell_type": "code",
   "execution_count": 32,
   "metadata": {},
   "outputs": [
    {
     "ename": "AnalysisException",
     "evalue": "[DATATYPE_MISMATCH.ARRAY_FUNCTION_DIFF_TYPES] Cannot resolve \"array_position(array(sunday, monday, tuesday, wednesday, thursday, friday, saturday), updated_at)\" due to data type mismatch: Input to `array_position` should have been \"ARRAY\" followed by a value with same element type, but it's [\"ARRAY<STRING>\", \"TIMESTAMP\"].; line 1 pos 0;\n'Project [user_id#183, frequency#19, day#20, creation_date#208, updated_at#224, next_payment_day#22, last_event_name#289, last_event_timestamp#574, truth_next_payment_day#559, correct#584, diference_next_payment_day#595, how_old_was_last_update#1033, 'day(CASE WHEN ((cast(CASE WHEN cast(updated_at#224 as string) IN (cast(sunday as string),cast(monday as string),cast(tuesday as string),cast(wednesday as string),cast(thursday as string),cast(friday as string),cast(saturday as string)) THEN array_position(array(sunday, monday, tuesday, wednesday, thursday, friday, saturday), updated_at#224) ELSE null END as int) - dayofweek(to_date(2024-12-03, None, Some(America/Sao_Paulo), false))) >= 0) THEN date_add(to_date(2024-12-03, None, Some(America/Sao_Paulo), false), (cast(CASE WHEN cast(updated_at#224 as string) IN (cast(sunday as string),cast(monday as string),cast(tuesday as string),cast(wednesday as string),cast(thursday as string),cast(friday as string),cast(saturday as string)) THEN array_position(array(sunday, monday, tuesday, wednesday, thursday, friday, saturday), updated_at#224) ELSE null END as int) - dayofweek(to_date(2024-12-03, None, Some(America/Sao_Paulo), false)))) ELSE date_add(to_date(2024-12-03, None, Some(America/Sao_Paulo), false), ((cast(CASE WHEN cast(updated_at#224 as string) IN (cast(sunday as string),cast(monday as string),cast(tuesday as string),cast(wednesday as string),cast(thursday as string),cast(friday as string),cast(saturday as string)) THEN array_position(array(sunday, monday, tuesday, wednesday, thursday, friday, saturday), updated_at#224) ELSE null END as int) - dayofweek(to_date(2024-12-03, None, Some(America/Sao_Paulo), false))) + 7)) END) AS update_next_day#2127]\n+- Project [user_id#183, frequency#19, day#20, creation_date#208, updated_at#224, next_payment_day#22, last_event_name#289, last_event_timestamp#574, truth_next_payment_day#559, correct#584, diference_next_payment_day#595, date_diff(cast(to_timestamp(2024-12-03, None, TimestampType, Some(America/Sao_Paulo), false) as date), cast(updated_at#224 as date)) AS how_old_was_last_update#1033]\n   +- Union false, false\n      :- Project [user_id#183, frequency#19, day#20, creation_date#208, updated_at#224, next_payment_day#22, last_event_name#289, last_event_timestamp#574, truth_next_payment_day#559, correct#584, (cast(next_payment_day#22 as double) - cast(truth_next_payment_day#559 as double)) AS diference_next_payment_day#595]\n      :  +- Project [user_id#183, frequency#19, day#20, creation_date#208, updated_at#224, next_payment_day#22, last_event_name#289, last_event_timestamp#574, truth_next_payment_day#559, CASE WHEN (truth_next_payment_day#559 = cast(next_payment_day#22 as int)) THEN correct ELSE wrong END AS correct#584]\n      :     +- Project [user_id#183, frequency#19, day#20, creation_date#208, updated_at#224, next_payment_day#22, last_event_name#289, event_timestamp#148 AS last_event_timestamp#574, truth_next_payment_day#559]\n      :        +- Project [user_id#183, creation_date#208, frequency#19, day#20, next_payment_day#22, status#23, updated_at#224, event_timestamp#148, amount#368L, day#360, frequency#352, event_name#108, last_event_name#289, day(date_add(cast(2024-12-03 as date), 1)) AS truth_next_payment_day#559]\n      :           +- Filter (frequency#352 = daily)\n      :              +- Project [user_id#183, creation_date#208, frequency#19, day#20, next_payment_day#22, status#23, updated_at#224, event_timestamp#148, amount#368L, day#360, frequency#352, event_name#108, last_event_name#289]\n      :                 +- Join LeftOuter, (user_id#183 = user_id#281)\n      :                    :- SubqueryAlias cleaned_backend_table\n      :                    :  +- Project [user_id#183, creation_date#208, frequency#19, day#20, next_payment_day#22, status#23, corrected_updated_at#199 AS updated_at#224]\n      :                    :     +- Project [user_id#183, creation_date#208, frequency#19, day#20, next_payment_day#22, status#23, corrected_updated_at#199]\n      :                    :        +- Project [user_id#183, cast(from_unixtime(cast(creation_date#18 as bigint), yyyy-MM-dd HH:mm:ss, Some(America/Sao_Paulo)) as timestamp) AS creation_date#208, frequency#19, day#20, updated_at#21, next_payment_day#22, status#23, corrected_updated_at#199]\n      :                    :           +- Project [user_id#183, creation_date#18, frequency#19, day#20, updated_at#21, next_payment_day#22, status#23, cast(CASE WHEN RLIKE(updated_at#21, \\d+-\\d+-\\d+T\\d+:\\d+:\\d+.\\d+Z) THEN cast(to_timestamp(updated_at#21, None, TimestampType, Some(America/Sao_Paulo), false) as string) ELSE from_unixtime(cast(updated_at#21 as bigint), yyyy-MM-dd HH:mm:ss, Some(America/Sao_Paulo)) END as timestamp) AS corrected_updated_at#199]\n      :                    :              +- Filter (status#23 = enabled)\n      :                    :                 +- Project [uuid#17 AS user_id#183, creation_date#18, frequency#19, day#20, updated_at#21, next_payment_day#22, status#23]\n      :                    :                    +- Relation [uuid#17,creation_date#18,frequency#19,day#20,updated_at#21,next_payment_day#22,status#23] csv\n      :                    +- SubqueryAlias truth_backend_table\n      :                       +- Project [user_id#281, event_timestamp#148, allowance_amount#63L AS amount#368L, day#360, frequency#352, event_name#108, last_event_name#289]\n      :                          +- Project [user_id#281, event_timestamp#148, allowance_amount#63L, allowance_scheduled_day#84 AS day#360, frequency#352, event_name#108, last_event_name#289]\n      :                             +- Project [user_id#281, event_timestamp#148, allowance_amount#63L, allowance_scheduled_day#84, allowance_scheduled_frequency#91 AS frequency#352, event_name#108, last_event_name#289]\n      :                                +- Project [user_id#281, event_timestamp#148, allowance_amount#63L, allowance_scheduled_day#84, allowance_scheduled_frequency#91, event_name#108, event_name#108 AS last_event_name#289]\n      :                                   +- Project [user_id#133, event_timestamp#275, allowance_amount#63L, allowance_scheduled_day#84, allowance_scheduled_frequency#91, event_name#108, user_id#281, event_timestamp#148]\n      :                                      +- Join Inner, ((user_id#133 = user_id#281) AND (event_timestamp#275 = event_timestamp#148))\n      :                                         :- SubqueryAlias last_event_by_user\n      :                                         :  +- Aggregate [user_id#133], [user_id#133, max(event_timestamp#148) AS event_timestamp#275]\n      :                                         :     +- Deduplicate [allowance_amount#63L, allowance_scheduled_day#84, event_name#108, event_timestamp#148, user_id#133, allowance_scheduled_frequency#91]\n      :                                         :        +- SubqueryAlias cleaned_events\n      :                                         :           +- Project [allowance_amount#63L, allowance_scheduled_day#84, allowance_scheduled_frequency#91, event_name#108, cast(event_timestamp#116 as timestamp) AS event_timestamp#148, user_id#133]\n      :                                         :              +- Project [allowance_amount#63L, allowance_scheduled_day#84, allowance_scheduled_frequency#91, event_name#108, event_timestamp#116, user_id#133]\n      :                                         :                 +- Project [user#33, allowance_amount#63L, allowance_scheduled_day#84, allowance_scheduled_frequency#91, event_name#108, event_timestamp#116, user#33.id AS user_id#133]\n      :                                         :                    +- Project [user#33, allowance_amount#63L, allowance_scheduled_day#84, allowance_scheduled_frequency#91, event_name#108, event_timestamp#116]\n      :                                         :                       +- Project [event#32, user#33, allowance_amount#63L, allowance_scheduled_day#84, allowance_scheduled_frequency#91, event_name#108, event#32.timestamp AS event_timestamp#116]\n      :                                         :                          +- Project [event#32, user#33, allowance_amount#63L, allowance_scheduled_day#84, allowance_scheduled_frequency#91, event#32.name AS event_name#108]\n      :                                         :                             +- Project [event#32, user#33, allowance_amount#63L, allowance_scheduled_day#84, allowance_scheduled_frequency#91]\n      :                                         :                                +- Project [event#32, user#33, allowance_amount#63L, allowance_scheduled#69, allowance_scheduled_day#84, allowance_scheduled#69.frequency AS allowance_scheduled_frequency#91]\n      :                                         :                                   +- Project [event#32, user#33, allowance_amount#63L, allowance_scheduled#69, allowance_scheduled#69.day AS allowance_scheduled_day#84]\n      :                                         :                                      +- Project [event#32, user#33, allowance_amount#63L, allowance_scheduled#69]\n      :                                         :                                         +- Project [allowance#31, event#32, user#33, allowance_amount#63L, allowance#31.scheduled AS allowance_scheduled#69]\n      :                                         :                                            +- Project [allowance#31, event#32, user#33, allowance#31.amount AS allowance_amount#63L]\n      :                                         :                                               +- Relation [allowance#31,event#32,user#33] json\n      :                                         +- Deduplicate [allowance_amount#63L, allowance_scheduled_day#84, event_name#108, event_timestamp#148, user_id#281, allowance_scheduled_frequency#91]\n      :                                            +- SubqueryAlias cleaned_events\n      :                                               +- Project [allowance_amount#63L, allowance_scheduled_day#84, allowance_scheduled_frequency#91, event_name#108, cast(event_timestamp#116 as timestamp) AS event_timestamp#148, user_id#281]\n      :                                                  +- Project [allowance_amount#63L, allowance_scheduled_day#84, allowance_scheduled_frequency#91, event_name#108, event_timestamp#116, user_id#281]\n      :                                                     +- Project [user#280, allowance_amount#63L, allowance_scheduled_day#84, allowance_scheduled_frequency#91, event_name#108, event_timestamp#116, user#280.id AS user_id#281]\n      :                                                        +- Project [user#280, allowance_amount#63L, allowance_scheduled_day#84, allowance_scheduled_frequency#91, event_name#108, event_timestamp#116]\n      :                                                           +- Project [event#279, user#280, allowance_amount#63L, allowance_scheduled_day#84, allowance_scheduled_frequency#91, event_name#108, event#279.timestamp AS event_timestamp#116]\n      :                                                              +- Project [event#279, user#280, allowance_amount#63L, allowance_scheduled_day#84, allowance_scheduled_frequency#91, event#279.name AS event_name#108]\n      :                                                                 +- Project [event#279, user#280, allowance_amount#63L, allowance_scheduled_day#84, allowance_scheduled_frequency#91]\n      :                                                                    +- Project [event#279, user#280, allowance_amount#63L, allowance_scheduled#69, allowance_scheduled_day#84, allowance_scheduled#69.frequency AS allowance_scheduled_frequency#91]\n      :                                                                       +- Project [event#279, user#280, allowance_amount#63L, allowance_scheduled#69, allowance_scheduled#69.day AS allowance_scheduled_day#84]\n      :                                                                          +- Project [event#279, user#280, allowance_amount#63L, allowance_scheduled#69]\n      :                                                                             +- Project [allowance#278, event#279, user#280, allowance_amount#63L, allowance#278.scheduled AS allowance_scheduled#69]\n      :                                                                                +- Project [allowance#278, event#279, user#280, allowance#278.amount AS allowance_amount#63L]\n      :                                                                                   +- Relation [allowance#278,event#279,user#280] json\n      :- Project [user_id#183 AS user_id#935, frequency#921 AS frequency#936, day#922 AS day#937, creation_date#208 AS creation_date#938, updated_at#224 AS updated_at#939, next_payment_day#924 AS next_payment_day#940, last_event_name#289 AS last_event_name#941, last_event_timestamp#656 AS last_event_timestamp#942, truth_next_payment_day#641 AS truth_next_payment_day#943, correct#666 AS correct#944, diference_next_payment_day#677 AS diference_next_payment_day#945]\n      :  +- Project [user_id#183, frequency#921, day#922, creation_date#208, updated_at#224, next_payment_day#924, last_event_name#289, last_event_timestamp#656, truth_next_payment_day#641, correct#666, diference_next_payment_day#677]\n      :     +- Project [user_id#183, frequency#921, day#922, creation_date#208, updated_at#224, next_payment_day#924, last_event_name#289, last_event_timestamp#656, truth_next_payment_day#641, correct#666, (cast(next_payment_day#924 as double) - cast(truth_next_payment_day#641 as double)) AS diference_next_payment_day#677]\n      :        +- Project [user_id#183, frequency#921, day#922, creation_date#208, updated_at#224, next_payment_day#924, last_event_name#289, last_event_timestamp#656, truth_next_payment_day#641, CASE WHEN (truth_next_payment_day#641 = cast(next_payment_day#924 as int)) THEN correct ELSE wrong END AS correct#666]\n      :           +- Project [user_id#183, frequency#921, day#922, creation_date#208, updated_at#224, next_payment_day#924, last_event_name#289, event_timestamp#148 AS last_event_timestamp#656, truth_next_payment_day#641]\n      :              +- Project [user_id#183, creation_date#208, frequency#921, day#922, next_payment_day#924, status#925, updated_at#224, event_timestamp#148, amount#368L, day#360, frequency#352, event_name#108, last_event_name#289, CASE WHEN (day#360 = fifteenth_day) THEN 15 WHEN (day#360 = first_day) THEN 1 ELSE cast(null as int) END AS truth_next_payment_day#641]\n      :                 +- Filter (frequency#352 = monthly)\n      :                    +- Project [user_id#183, creation_date#208, frequency#921, day#922, next_payment_day#924, status#925, updated_at#224, event_timestamp#148, amount#368L, day#360, frequency#352, event_name#108, last_event_name#289]\n      :                       +- Join LeftOuter, (user_id#183 = user_id#281)\n      :                          :- SubqueryAlias cleaned_backend_table\n      :                          :  +- Project [user_id#183, creation_date#208, frequency#921, day#922, next_payment_day#924, status#925, corrected_updated_at#199 AS updated_at#224]\n      :                          :     +- Project [user_id#183, creation_date#208, frequency#921, day#922, next_payment_day#924, status#925, corrected_updated_at#199]\n      :                          :        +- Project [user_id#183, cast(from_unixtime(cast(creation_date#920 as bigint), yyyy-MM-dd HH:mm:ss, Some(America/Sao_Paulo)) as timestamp) AS creation_date#208, frequency#921, day#922, updated_at#923, next_payment_day#924, status#925, corrected_updated_at#199]\n      :                          :           +- Project [user_id#183, creation_date#920, frequency#921, day#922, updated_at#923, next_payment_day#924, status#925, cast(CASE WHEN RLIKE(updated_at#923, \\d+-\\d+-\\d+T\\d+:\\d+:\\d+.\\d+Z) THEN cast(to_timestamp(updated_at#923, None, TimestampType, Some(America/Sao_Paulo), false) as string) ELSE from_unixtime(cast(updated_at#923 as bigint), yyyy-MM-dd HH:mm:ss, Some(America/Sao_Paulo)) END as timestamp) AS corrected_updated_at#199]\n      :                          :              +- Filter (status#925 = enabled)\n      :                          :                 +- Project [uuid#919 AS user_id#183, creation_date#920, frequency#921, day#922, updated_at#923, next_payment_day#924, status#925]\n      :                          :                    +- Relation [uuid#919,creation_date#920,frequency#921,day#922,updated_at#923,next_payment_day#924,status#925] csv\n      :                          +- SubqueryAlias truth_backend_table\n      :                             +- Project [user_id#281, event_timestamp#148, allowance_amount#63L AS amount#368L, day#360, frequency#352, event_name#108, last_event_name#289]\n      :                                +- Project [user_id#281, event_timestamp#148, allowance_amount#63L, allowance_scheduled_day#84 AS day#360, frequency#352, event_name#108, last_event_name#289]\n      :                                   +- Project [user_id#281, event_timestamp#148, allowance_amount#63L, allowance_scheduled_day#84, allowance_scheduled_frequency#91 AS frequency#352, event_name#108, last_event_name#289]\n      :                                      +- Project [user_id#281, event_timestamp#148, allowance_amount#63L, allowance_scheduled_day#84, allowance_scheduled_frequency#91, event_name#108, event_name#108 AS last_event_name#289]\n      :                                         +- Project [user_id#133, event_timestamp#275, allowance_amount#63L, allowance_scheduled_day#84, allowance_scheduled_frequency#91, event_name#108, user_id#281, event_timestamp#148]\n      :                                            +- Join Inner, ((user_id#133 = user_id#281) AND (event_timestamp#275 = event_timestamp#148))\n      :                                               :- SubqueryAlias last_event_by_user\n      :                                               :  +- Aggregate [user_id#133], [user_id#133, max(event_timestamp#148) AS event_timestamp#275]\n      :                                               :     +- Deduplicate [allowance_amount#63L, allowance_scheduled_day#84, event_name#108, event_timestamp#148, user_id#133, allowance_scheduled_frequency#91]\n      :                                               :        +- SubqueryAlias cleaned_events\n      :                                               :           +- Project [allowance_amount#63L, allowance_scheduled_day#84, allowance_scheduled_frequency#91, event_name#108, cast(event_timestamp#116 as timestamp) AS event_timestamp#148, user_id#133]\n      :                                               :              +- Project [allowance_amount#63L, allowance_scheduled_day#84, allowance_scheduled_frequency#91, event_name#108, event_timestamp#116, user_id#133]\n      :                                               :                 +- Project [user#928, allowance_amount#63L, allowance_scheduled_day#84, allowance_scheduled_frequency#91, event_name#108, event_timestamp#116, user#928.id AS user_id#133]\n      :                                               :                    +- Project [user#928, allowance_amount#63L, allowance_scheduled_day#84, allowance_scheduled_frequency#91, event_name#108, event_timestamp#116]\n      :                                               :                       +- Project [event#927, user#928, allowance_amount#63L, allowance_scheduled_day#84, allowance_scheduled_frequency#91, event_name#108, event#927.timestamp AS event_timestamp#116]\n      :                                               :                          +- Project [event#927, user#928, allowance_amount#63L, allowance_scheduled_day#84, allowance_scheduled_frequency#91, event#927.name AS event_name#108]\n      :                                               :                             +- Project [event#927, user#928, allowance_amount#63L, allowance_scheduled_day#84, allowance_scheduled_frequency#91]\n      :                                               :                                +- Project [event#927, user#928, allowance_amount#63L, allowance_scheduled#69, allowance_scheduled_day#84, allowance_scheduled#69.frequency AS allowance_scheduled_frequency#91]\n      :                                               :                                   +- Project [event#927, user#928, allowance_amount#63L, allowance_scheduled#69, allowance_scheduled#69.day AS allowance_scheduled_day#84]\n      :                                               :                                      +- Project [event#927, user#928, allowance_amount#63L, allowance_scheduled#69]\n      :                                               :                                         +- Project [allowance#926, event#927, user#928, allowance_amount#63L, allowance#926.scheduled AS allowance_scheduled#69]\n      :                                               :                                            +- Project [allowance#926, event#927, user#928, allowance#926.amount AS allowance_amount#63L]\n      :                                               :                                               +- Relation [allowance#926,event#927,user#928] json\n      :                                               +- Deduplicate [allowance_amount#63L, allowance_scheduled_day#84, event_name#108, event_timestamp#148, user_id#281, allowance_scheduled_frequency#91]\n      :                                                  +- SubqueryAlias cleaned_events\n      :                                                     +- Project [allowance_amount#63L, allowance_scheduled_day#84, allowance_scheduled_frequency#91, event_name#108, cast(event_timestamp#116 as timestamp) AS event_timestamp#148, user_id#281]\n      :                                                        +- Project [allowance_amount#63L, allowance_scheduled_day#84, allowance_scheduled_frequency#91, event_name#108, event_timestamp#116, user_id#281]\n      :                                                           +- Project [user#931, allowance_amount#63L, allowance_scheduled_day#84, allowance_scheduled_frequency#91, event_name#108, event_timestamp#116, user#931.id AS user_id#281]\n      :                                                              +- Project [user#931, allowance_amount#63L, allowance_scheduled_day#84, allowance_scheduled_frequency#91, event_name#108, event_timestamp#116]\n      :                                                                 +- Project [event#930, user#931, allowance_amount#63L, allowance_scheduled_day#84, allowance_scheduled_frequency#91, event_name#108, event#930.timestamp AS event_timestamp#116]\n      :                                                                    +- Project [event#930, user#931, allowance_amount#63L, allowance_scheduled_day#84, allowance_scheduled_frequency#91, event#930.name AS event_name#108]\n      :                                                                       +- Project [event#930, user#931, allowance_amount#63L, allowance_scheduled_day#84, allowance_scheduled_frequency#91]\n      :                                                                          +- Project [event#930, user#931, allowance_amount#63L, allowance_scheduled#69, allowance_scheduled_day#84, allowance_scheduled#69.frequency AS allowance_scheduled_frequency#91]\n      :                                                                             +- Project [event#930, user#931, allowance_amount#63L, allowance_scheduled#69, allowance_scheduled#69.day AS allowance_scheduled_day#84]\n      :                                                                                +- Project [event#930, user#931, allowance_amount#63L, allowance_scheduled#69]\n      :                                                                                   +- Project [allowance#929, event#930, user#931, allowance_amount#63L, allowance#929.scheduled AS allowance_scheduled#69]\n      :                                                                                      +- Project [allowance#929, event#930, user#931, allowance#929.amount AS allowance_amount#63L]\n      :                                                                                         +- Relation [allowance#929,event#930,user#931] json\n      :- Project [user_id#183 AS user_id#973, frequency#959 AS frequency#974, day#960 AS day#975, creation_date#208 AS creation_date#976, updated_at#224 AS updated_at#977, next_payment_day#962 AS next_payment_day#978, last_event_name#289 AS last_event_name#979, last_event_timestamp#870 AS last_event_timestamp#980, truth_next_payment_day#855 AS truth_next_payment_day#981, correct#880 AS correct#982, diference_next_payment_day#891 AS diference_next_payment_day#983]\n      :  +- Project [user_id#183, frequency#959, day#960, creation_date#208, updated_at#224, next_payment_day#962, last_event_name#289, last_event_timestamp#870, truth_next_payment_day#855, correct#880, diference_next_payment_day#891]\n      :     +- Project [user_id#183, frequency#959, day#960, creation_date#208, updated_at#224, next_payment_day#962, last_event_name#289, last_event_timestamp#870, truth_next_payment_day#855, correct#880, (cast(next_payment_day#962 as double) - cast(truth_next_payment_day#855 as double)) AS diference_next_payment_day#891]\n      :        +- Project [user_id#183, frequency#959, day#960, creation_date#208, updated_at#224, next_payment_day#962, last_event_name#289, last_event_timestamp#870, truth_next_payment_day#855, CASE WHEN (truth_next_payment_day#855 = cast(next_payment_day#962 as int)) THEN correct ELSE wrong END AS correct#880]\n      :           +- Project [user_id#183, frequency#959, day#960, creation_date#208, updated_at#224, next_payment_day#962, last_event_name#289, event_timestamp#148 AS last_event_timestamp#870, truth_next_payment_day#855]\n      :              +- Project [user_id#183, creation_date#208, frequency#959, day#960, next_payment_day#962, status#963, updated_at#224, event_timestamp#148, amount#368L, day#360, frequency#352, event_name#108, last_event_name#289, day(CASE WHEN (CASE WHEN ((cast(CASE WHEN day#360 IN (sunday,monday,tuesday,wednesday,thursday,friday,saturday) THEN array_position(array(sunday, monday, tuesday, wednesday, thursday, friday, saturday), day#360) ELSE cast(null as bigint) END as int) - dayofweek(cast(event_timestamp#148 as date))) >= 0) THEN date_add(cast(event_timestamp#148 as date), (cast(CASE WHEN day#360 IN (sunday,monday,tuesday,wednesday,thursday,friday,saturday) THEN array_position(array(sunday, monday, tuesday, wednesday, thursday, friday, saturday), day#360) ELSE cast(null as bigint) END as int) - dayofweek(cast(event_timestamp#148 as date)))) ELSE date_add(cast(event_timestamp#148 as date), ((cast(CASE WHEN day#360 IN (sunday,monday,tuesday,wednesday,thursday,friday,saturday) THEN array_position(array(sunday, monday, tuesday, wednesday, thursday, friday, saturday), day#360) ELSE cast(null as bigint) END as int) - dayofweek(cast(event_timestamp#148 as date))) + 7)) END > to_date(2024-12-03, None, Some(America/Sao_Paulo), false)) THEN CASE WHEN ((cast(CASE WHEN day#360 IN (sunday,monday,tuesday,wednesday,thursday,friday,saturday) THEN array_position(array(sunday, monday, tuesday, wednesday, thursday, friday, saturday), day#360) ELSE cast(null as bigint) END as int) - dayofweek(cast(event_timestamp#148 as date))) >= 0) THEN date_add(cast(event_timestamp#148 as date), (cast(CASE WHEN day#360 IN (sunday,monday,tuesday,wednesday,thursday,friday,saturday) THEN array_position(array(sunday, monday, tuesday, wednesday, thursday, friday, saturday), day#360) ELSE cast(null as bigint) END as int) - dayofweek(cast(event_timestamp#148 as date)))) ELSE date_add(cast(event_timestamp#148 as date), ((cast(CASE WHEN day#360 IN (sunday,monday,tuesday,wednesday,thursday,friday,saturday) THEN array_position(array(sunday, monday, tuesday, wednesday, thursday, friday, saturday), day#360) ELSE cast(null as bigint) END as int) - dayofweek(cast(event_timestamp#148 as date))) + 7)) END ELSE date_add(to_date(2024-12-03, None, Some(America/Sao_Paulo), false), (14 - (date_diff(to_date(2024-12-03, None, Some(America/Sao_Paulo), false), CASE WHEN ((cast(CASE WHEN day#360 IN (sunday,monday,tuesday,wednesday,thursday,friday,saturday) THEN array_position(array(sunday, monday, tuesday, wednesday, thursday, friday, saturday), day#360) ELSE cast(null as bigint) END as int) - dayofweek(cast(event_timestamp#148 as date))) >= 0) THEN date_add(cast(event_timestamp#148 as date), (cast(CASE WHEN day#360 IN (sunday,monday,tuesday,wednesday,thursday,friday,saturday) THEN array_position(array(sunday, monday, tuesday, wednesday, thursday, friday, saturday), day#360) ELSE cast(null as bigint) END as int) - dayofweek(cast(event_timestamp#148 as date)))) ELSE date_add(cast(event_timestamp#148 as date), ((cast(CASE WHEN day#360 IN (sunday,monday,tuesday,wednesday,thursday,friday,saturday) THEN array_position(array(sunday, monday, tuesday, wednesday, thursday, friday, saturday), day#360) ELSE cast(null as bigint) END as int) - dayofweek(cast(event_timestamp#148 as date))) + 7)) END) % 14))) END) AS truth_next_payment_day#855]\n      :                 +- Filter (frequency#352 = biweekly)\n      :                    +- Project [user_id#183, creation_date#208, frequency#959, day#960, next_payment_day#962, status#963, updated_at#224, event_timestamp#148, amount#368L, day#360, frequency#352, event_name#108, last_event_name#289]\n      :                       +- Join LeftOuter, (user_id#183 = user_id#281)\n      :                          :- SubqueryAlias cleaned_backend_table\n      :                          :  +- Project [user_id#183, creation_date#208, frequency#959, day#960, next_payment_day#962, status#963, corrected_updated_at#199 AS updated_at#224]\n      :                          :     +- Project [user_id#183, creation_date#208, frequency#959, day#960, next_payment_day#962, status#963, corrected_updated_at#199]\n      :                          :        +- Project [user_id#183, cast(from_unixtime(cast(creation_date#958 as bigint), yyyy-MM-dd HH:mm:ss, Some(America/Sao_Paulo)) as timestamp) AS creation_date#208, frequency#959, day#960, updated_at#961, next_payment_day#962, status#963, corrected_updated_at#199]\n      :                          :           +- Project [user_id#183, creation_date#958, frequency#959, day#960, updated_at#961, next_payment_day#962, status#963, cast(CASE WHEN RLIKE(updated_at#961, \\d+-\\d+-\\d+T\\d+:\\d+:\\d+.\\d+Z) THEN cast(to_timestamp(updated_at#961, None, TimestampType, Some(America/Sao_Paulo), false) as string) ELSE from_unixtime(cast(updated_at#961 as bigint), yyyy-MM-dd HH:mm:ss, Some(America/Sao_Paulo)) END as timestamp) AS corrected_updated_at#199]\n      :                          :              +- Filter (status#963 = enabled)\n      :                          :                 +- Project [uuid#957 AS user_id#183, creation_date#958, frequency#959, day#960, updated_at#961, next_payment_day#962, status#963]\n      :                          :                    +- Relation [uuid#957,creation_date#958,frequency#959,day#960,updated_at#961,next_payment_day#962,status#963] csv\n      :                          +- SubqueryAlias truth_backend_table\n      :                             +- Project [user_id#281, event_timestamp#148, allowance_amount#63L AS amount#368L, day#360, frequency#352, event_name#108, last_event_name#289]\n      :                                +- Project [user_id#281, event_timestamp#148, allowance_amount#63L, allowance_scheduled_day#84 AS day#360, frequency#352, event_name#108, last_event_name#289]\n      :                                   +- Project [user_id#281, event_timestamp#148, allowance_amount#63L, allowance_scheduled_day#84, allowance_scheduled_frequency#91 AS frequency#352, event_name#108, last_event_name#289]\n      :                                      +- Project [user_id#281, event_timestamp#148, allowance_amount#63L, allowance_scheduled_day#84, allowance_scheduled_frequency#91, event_name#108, event_name#108 AS last_event_name#289]\n      :                                         +- Project [user_id#133, event_timestamp#275, allowance_amount#63L, allowance_scheduled_day#84, allowance_scheduled_frequency#91, event_name#108, user_id#281, event_timestamp#148]\n      :                                            +- Join Inner, ((user_id#133 = user_id#281) AND (event_timestamp#275 = event_timestamp#148))\n      :                                               :- SubqueryAlias last_event_by_user\n      :                                               :  +- Aggregate [user_id#133], [user_id#133, max(event_timestamp#148) AS event_timestamp#275]\n      :                                               :     +- Deduplicate [allowance_amount#63L, allowance_scheduled_day#84, event_name#108, event_timestamp#148, user_id#133, allowance_scheduled_frequency#91]\n      :                                               :        +- SubqueryAlias cleaned_events\n      :                                               :           +- Project [allowance_amount#63L, allowance_scheduled_day#84, allowance_scheduled_frequency#91, event_name#108, cast(event_timestamp#116 as timestamp) AS event_timestamp#148, user_id#133]\n      :                                               :              +- Project [allowance_amount#63L, allowance_scheduled_day#84, allowance_scheduled_frequency#91, event_name#108, event_timestamp#116, user_id#133]\n      :                                               :                 +- Project [user#966, allowance_amount#63L, allowance_scheduled_day#84, allowance_scheduled_frequency#91, event_name#108, event_timestamp#116, user#966.id AS user_id#133]\n      :                                               :                    +- Project [user#966, allowance_amount#63L, allowance_scheduled_day#84, allowance_scheduled_frequency#91, event_name#108, event_timestamp#116]\n      :                                               :                       +- Project [event#965, user#966, allowance_amount#63L, allowance_scheduled_day#84, allowance_scheduled_frequency#91, event_name#108, event#965.timestamp AS event_timestamp#116]\n      :                                               :                          +- Project [event#965, user#966, allowance_amount#63L, allowance_scheduled_day#84, allowance_scheduled_frequency#91, event#965.name AS event_name#108]\n      :                                               :                             +- Project [event#965, user#966, allowance_amount#63L, allowance_scheduled_day#84, allowance_scheduled_frequency#91]\n      :                                               :                                +- Project [event#965, user#966, allowance_amount#63L, allowance_scheduled#69, allowance_scheduled_day#84, allowance_scheduled#69.frequency AS allowance_scheduled_frequency#91]\n      :                                               :                                   +- Project [event#965, user#966, allowance_amount#63L, allowance_scheduled#69, allowance_scheduled#69.day AS allowance_scheduled_day#84]\n      :                                               :                                      +- Project [event#965, user#966, allowance_amount#63L, allowance_scheduled#69]\n      :                                               :                                         +- Project [allowance#964, event#965, user#966, allowance_amount#63L, allowance#964.scheduled AS allowance_scheduled#69]\n      :                                               :                                            +- Project [allowance#964, event#965, user#966, allowance#964.amount AS allowance_amount#63L]\n      :                                               :                                               +- Relation [allowance#964,event#965,user#966] json\n      :                                               +- Deduplicate [allowance_amount#63L, allowance_scheduled_day#84, event_name#108, event_timestamp#148, user_id#281, allowance_scheduled_frequency#91]\n      :                                                  +- SubqueryAlias cleaned_events\n      :                                                     +- Project [allowance_amount#63L, allowance_scheduled_day#84, allowance_scheduled_frequency#91, event_name#108, cast(event_timestamp#116 as timestamp) AS event_timestamp#148, user_id#281]\n      :                                                        +- Project [allowance_amount#63L, allowance_scheduled_day#84, allowance_scheduled_frequency#91, event_name#108, event_timestamp#116, user_id#281]\n      :                                                           +- Project [user#969, allowance_amount#63L, allowance_scheduled_day#84, allowance_scheduled_frequency#91, event_name#108, event_timestamp#116, user#969.id AS user_id#281]\n      :                                                              +- Project [user#969, allowance_amount#63L, allowance_scheduled_day#84, allowance_scheduled_frequency#91, event_name#108, event_timestamp#116]\n      :                                                                 +- Project [event#968, user#969, allowance_amount#63L, allowance_scheduled_day#84, allowance_scheduled_frequency#91, event_name#108, event#968.timestamp AS event_timestamp#116]\n      :                                                                    +- Project [event#968, user#969, allowance_amount#63L, allowance_scheduled_day#84, allowance_scheduled_frequency#91, event#968.name AS event_name#108]\n      :                                                                       +- Project [event#968, user#969, allowance_amount#63L, allowance_scheduled_day#84, allowance_scheduled_frequency#91]\n      :                                                                          +- Project [event#968, user#969, allowance_amount#63L, allowance_scheduled#69, allowance_scheduled_day#84, allowance_scheduled#69.frequency AS allowance_scheduled_frequency#91]\n      :                                                                             +- Project [event#968, user#969, allowance_amount#63L, allowance_scheduled#69, allowance_scheduled#69.day AS allowance_scheduled_day#84]\n      :                                                                                +- Project [event#968, user#969, allowance_amount#63L, allowance_scheduled#69]\n      :                                                                                   +- Project [allowance#967, event#968, user#969, allowance_amount#63L, allowance#967.scheduled AS allowance_scheduled#69]\n      :                                                                                      +- Project [allowance#967, event#968, user#969, allowance#967.amount AS allowance_amount#63L]\n      :                                                                                         +- Relation [allowance#967,event#968,user#969] json\n      +- Project [user_id#183 AS user_id#1011, frequency#997 AS frequency#1012, day#998 AS day#1013, creation_date#208 AS creation_date#1014, updated_at#224 AS updated_at#1015, next_payment_day#1000 AS next_payment_day#1016, last_event_name#289 AS last_event_name#1017, last_event_timestamp#806 AS last_event_timestamp#1018, truth_next_payment_day#791 AS truth_next_payment_day#1019, correct#816 AS correct#1020, diference_next_payment_day#827 AS diference_next_payment_day#1021]\n         +- Project [user_id#183, frequency#997, day#998, creation_date#208, updated_at#224, next_payment_day#1000, last_event_name#289, last_event_timestamp#806, truth_next_payment_day#791, correct#816, diference_next_payment_day#827]\n            +- Project [user_id#183, frequency#997, day#998, creation_date#208, updated_at#224, next_payment_day#1000, last_event_name#289, last_event_timestamp#806, truth_next_payment_day#791, correct#816, (cast(next_payment_day#1000 as double) - cast(truth_next_payment_day#791 as double)) AS diference_next_payment_day#827]\n               +- Project [user_id#183, frequency#997, day#998, creation_date#208, updated_at#224, next_payment_day#1000, last_event_name#289, last_event_timestamp#806, truth_next_payment_day#791, CASE WHEN (truth_next_payment_day#791 = cast(next_payment_day#1000 as int)) THEN correct ELSE wrong END AS correct#816]\n                  +- Project [user_id#183, frequency#997, day#998, creation_date#208, updated_at#224, next_payment_day#1000, last_event_name#289, event_timestamp#148 AS last_event_timestamp#806, truth_next_payment_day#791]\n                     +- Project [user_id#183, creation_date#208, frequency#997, day#998, next_payment_day#1000, status#1001, updated_at#224, event_timestamp#148, amount#368L, day#360, frequency#352, event_name#108, last_event_name#289, day(CASE WHEN ((cast(CASE WHEN day#360 IN (sunday,monday,tuesday,wednesday,thursday,friday,saturday) THEN array_position(array(sunday, monday, tuesday, wednesday, thursday, friday, saturday), day#360) ELSE cast(null as bigint) END as int) - dayofweek(to_date(2024-12-03, None, Some(America/Sao_Paulo), false))) >= 0) THEN date_add(to_date(2024-12-03, None, Some(America/Sao_Paulo), false), (cast(CASE WHEN day#360 IN (sunday,monday,tuesday,wednesday,thursday,friday,saturday) THEN array_position(array(sunday, monday, tuesday, wednesday, thursday, friday, saturday), day#360) ELSE cast(null as bigint) END as int) - dayofweek(to_date(2024-12-03, None, Some(America/Sao_Paulo), false)))) ELSE date_add(to_date(2024-12-03, None, Some(America/Sao_Paulo), false), ((cast(CASE WHEN day#360 IN (sunday,monday,tuesday,wednesday,thursday,friday,saturday) THEN array_position(array(sunday, monday, tuesday, wednesday, thursday, friday, saturday), day#360) ELSE cast(null as bigint) END as int) - dayofweek(to_date(2024-12-03, None, Some(America/Sao_Paulo), false))) + 7)) END) AS truth_next_payment_day#791]\n                        +- Filter (frequency#352 = weekly)\n                           +- Project [user_id#183, creation_date#208, frequency#997, day#998, next_payment_day#1000, status#1001, updated_at#224, event_timestamp#148, amount#368L, day#360, frequency#352, event_name#108, last_event_name#289]\n                              +- Join LeftOuter, (user_id#183 = user_id#281)\n                                 :- SubqueryAlias cleaned_backend_table\n                                 :  +- Project [user_id#183, creation_date#208, frequency#997, day#998, next_payment_day#1000, status#1001, corrected_updated_at#199 AS updated_at#224]\n                                 :     +- Project [user_id#183, creation_date#208, frequency#997, day#998, next_payment_day#1000, status#1001, corrected_updated_at#199]\n                                 :        +- Project [user_id#183, cast(from_unixtime(cast(creation_date#996 as bigint), yyyy-MM-dd HH:mm:ss, Some(America/Sao_Paulo)) as timestamp) AS creation_date#208, frequency#997, day#998, updated_at#999, next_payment_day#1000, status#1001, corrected_updated_at#199]\n                                 :           +- Project [user_id#183, creation_date#996, frequency#997, day#998, updated_at#999, next_payment_day#1000, status#1001, cast(CASE WHEN RLIKE(updated_at#999, \\d+-\\d+-\\d+T\\d+:\\d+:\\d+.\\d+Z) THEN cast(to_timestamp(updated_at#999, None, TimestampType, Some(America/Sao_Paulo), false) as string) ELSE from_unixtime(cast(updated_at#999 as bigint), yyyy-MM-dd HH:mm:ss, Some(America/Sao_Paulo)) END as timestamp) AS corrected_updated_at#199]\n                                 :              +- Filter (status#1001 = enabled)\n                                 :                 +- Project [uuid#995 AS user_id#183, creation_date#996, frequency#997, day#998, updated_at#999, next_payment_day#1000, status#1001]\n                                 :                    +- Relation [uuid#995,creation_date#996,frequency#997,day#998,updated_at#999,next_payment_day#1000,status#1001] csv\n                                 +- SubqueryAlias truth_backend_table\n                                    +- Project [user_id#281, event_timestamp#148, allowance_amount#63L AS amount#368L, day#360, frequency#352, event_name#108, last_event_name#289]\n                                       +- Project [user_id#281, event_timestamp#148, allowance_amount#63L, allowance_scheduled_day#84 AS day#360, frequency#352, event_name#108, last_event_name#289]\n                                          +- Project [user_id#281, event_timestamp#148, allowance_amount#63L, allowance_scheduled_day#84, allowance_scheduled_frequency#91 AS frequency#352, event_name#108, last_event_name#289]\n                                             +- Project [user_id#281, event_timestamp#148, allowance_amount#63L, allowance_scheduled_day#84, allowance_scheduled_frequency#91, event_name#108, event_name#108 AS last_event_name#289]\n                                                +- Project [user_id#133, event_timestamp#275, allowance_amount#63L, allowance_scheduled_day#84, allowance_scheduled_frequency#91, event_name#108, user_id#281, event_timestamp#148]\n                                                   +- Join Inner, ((user_id#133 = user_id#281) AND (event_timestamp#275 = event_timestamp#148))\n                                                      :- SubqueryAlias last_event_by_user\n                                                      :  +- Aggregate [user_id#133], [user_id#133, max(event_timestamp#148) AS event_timestamp#275]\n                                                      :     +- Deduplicate [allowance_amount#63L, allowance_scheduled_day#84, event_name#108, event_timestamp#148, user_id#133, allowance_scheduled_frequency#91]\n                                                      :        +- SubqueryAlias cleaned_events\n                                                      :           +- Project [allowance_amount#63L, allowance_scheduled_day#84, allowance_scheduled_frequency#91, event_name#108, cast(event_timestamp#116 as timestamp) AS event_timestamp#148, user_id#133]\n                                                      :              +- Project [allowance_amount#63L, allowance_scheduled_day#84, allowance_scheduled_frequency#91, event_name#108, event_timestamp#116, user_id#133]\n                                                      :                 +- Project [user#1004, allowance_amount#63L, allowance_scheduled_day#84, allowance_scheduled_frequency#91, event_name#108, event_timestamp#116, user#1004.id AS user_id#133]\n                                                      :                    +- Project [user#1004, allowance_amount#63L, allowance_scheduled_day#84, allowance_scheduled_frequency#91, event_name#108, event_timestamp#116]\n                                                      :                       +- Project [event#1003, user#1004, allowance_amount#63L, allowance_scheduled_day#84, allowance_scheduled_frequency#91, event_name#108, event#1003.timestamp AS event_timestamp#116]\n                                                      :                          +- Project [event#1003, user#1004, allowance_amount#63L, allowance_scheduled_day#84, allowance_scheduled_frequency#91, event#1003.name AS event_name#108]\n                                                      :                             +- Project [event#1003, user#1004, allowance_amount#63L, allowance_scheduled_day#84, allowance_scheduled_frequency#91]\n                                                      :                                +- Project [event#1003, user#1004, allowance_amount#63L, allowance_scheduled#69, allowance_scheduled_day#84, allowance_scheduled#69.frequency AS allowance_scheduled_frequency#91]\n                                                      :                                   +- Project [event#1003, user#1004, allowance_amount#63L, allowance_scheduled#69, allowance_scheduled#69.day AS allowance_scheduled_day#84]\n                                                      :                                      +- Project [event#1003, user#1004, allowance_amount#63L, allowance_scheduled#69]\n                                                      :                                         +- Project [allowance#1002, event#1003, user#1004, allowance_amount#63L, allowance#1002.scheduled AS allowance_scheduled#69]\n                                                      :                                            +- Project [allowance#1002, event#1003, user#1004, allowance#1002.amount AS allowance_amount#63L]\n                                                      :                                               +- Relation [allowance#1002,event#1003,user#1004] json\n                                                      +- Deduplicate [allowance_amount#63L, allowance_scheduled_day#84, event_name#108, event_timestamp#148, user_id#281, allowance_scheduled_frequency#91]\n                                                         +- SubqueryAlias cleaned_events\n                                                            +- Project [allowance_amount#63L, allowance_scheduled_day#84, allowance_scheduled_frequency#91, event_name#108, cast(event_timestamp#116 as timestamp) AS event_timestamp#148, user_id#281]\n                                                               +- Project [allowance_amount#63L, allowance_scheduled_day#84, allowance_scheduled_frequency#91, event_name#108, event_timestamp#116, user_id#281]\n                                                                  +- Project [user#1007, allowance_amount#63L, allowance_scheduled_day#84, allowance_scheduled_frequency#91, event_name#108, event_timestamp#116, user#1007.id AS user_id#281]\n                                                                     +- Project [user#1007, allowance_amount#63L, allowance_scheduled_day#84, allowance_scheduled_frequency#91, event_name#108, event_timestamp#116]\n                                                                        +- Project [event#1006, user#1007, allowance_amount#63L, allowance_scheduled_day#84, allowance_scheduled_frequency#91, event_name#108, event#1006.timestamp AS event_timestamp#116]\n                                                                           +- Project [event#1006, user#1007, allowance_amount#63L, allowance_scheduled_day#84, allowance_scheduled_frequency#91, event#1006.name AS event_name#108]\n                                                                              +- Project [event#1006, user#1007, allowance_amount#63L, allowance_scheduled_day#84, allowance_scheduled_frequency#91]\n                                                                                 +- Project [event#1006, user#1007, allowance_amount#63L, allowance_scheduled#69, allowance_scheduled_day#84, allowance_scheduled#69.frequency AS allowance_scheduled_frequency#91]\n                                                                                    +- Project [event#1006, user#1007, allowance_amount#63L, allowance_scheduled#69, allowance_scheduled#69.day AS allowance_scheduled_day#84]\n                                                                                       +- Project [event#1006, user#1007, allowance_amount#63L, allowance_scheduled#69]\n                                                                                          +- Project [allowance#1005, event#1006, user#1007, allowance_amount#63L, allowance#1005.scheduled AS allowance_scheduled#69]\n                                                                                             +- Project [allowance#1005, event#1006, user#1007, allowance#1005.amount AS allowance_amount#63L]\n                                                                                                +- Relation [allowance#1005,event#1006,user#1007] json\n",
     "output_type": "error",
     "traceback": [
      "\u001b[1;31m---------------------------------------------------------------------------\u001b[0m",
      "\u001b[1;31mAnalysisException\u001b[0m                         Traceback (most recent call last)",
      "Cell \u001b[1;32mIn[32], line 1\u001b[0m\n\u001b[1;32m----> 1\u001b[0m \u001b[43mall_backend_table_truth\u001b[49m\u001b[38;5;241;43m.\u001b[39;49m\u001b[43mwithColumn\u001b[49m\u001b[43m(\u001b[49m\u001b[38;5;124;43m\"\u001b[39;49m\u001b[38;5;124;43mupdate_next_day\u001b[39;49m\u001b[38;5;124;43m\"\u001b[39;49m\u001b[43m,\u001b[49m\u001b[43mnext_payment_day_weekly_frequency\u001b[49m\u001b[43m(\u001b[49m\u001b[38;5;124;43m\"\u001b[39;49m\u001b[38;5;124;43mupdated_at\u001b[39;49m\u001b[38;5;124;43m\"\u001b[39;49m\u001b[43m,\u001b[49m\u001b[38;5;28;43;01mNone\u001b[39;49;00m\u001b[43m)\u001b[49m\u001b[43m \u001b[49m\u001b[43m)\u001b[49m\u001b[38;5;241m.\u001b[39mshow()\n\u001b[0;32m      4\u001b[0m \u001b[38;5;66;03m# test_next_update.show()\u001b[39;00m\n\u001b[0;32m      5\u001b[0m \n\u001b[0;32m      6\u001b[0m \u001b[38;5;66;03m# pie_chart(\u001b[39;00m\n\u001b[1;32m   (...)\u001b[0m\n\u001b[0;32m     10\u001b[0m \u001b[38;5;66;03m#     category_orders={\"update_correct\": [\"correct\", \"wrong\"]},\u001b[39;00m\n\u001b[0;32m     11\u001b[0m \u001b[38;5;66;03m# )\u001b[39;00m\n",
      "File \u001b[1;32mj:\\git_versioned_projects\\data_challenge_modak\\.venv\\Lib\\site-packages\\pyspark\\sql\\dataframe.py:5176\u001b[0m, in \u001b[0;36mDataFrame.withColumn\u001b[1;34m(self, colName, col)\u001b[0m\n\u001b[0;32m   5171\u001b[0m \u001b[38;5;28;01mif\u001b[39;00m \u001b[38;5;129;01mnot\u001b[39;00m \u001b[38;5;28misinstance\u001b[39m(col, Column):\n\u001b[0;32m   5172\u001b[0m     \u001b[38;5;28;01mraise\u001b[39;00m PySparkTypeError(\n\u001b[0;32m   5173\u001b[0m         error_class\u001b[38;5;241m=\u001b[39m\u001b[38;5;124m\"\u001b[39m\u001b[38;5;124mNOT_COLUMN\u001b[39m\u001b[38;5;124m\"\u001b[39m,\n\u001b[0;32m   5174\u001b[0m         message_parameters\u001b[38;5;241m=\u001b[39m{\u001b[38;5;124m\"\u001b[39m\u001b[38;5;124marg_name\u001b[39m\u001b[38;5;124m\"\u001b[39m: \u001b[38;5;124m\"\u001b[39m\u001b[38;5;124mcol\u001b[39m\u001b[38;5;124m\"\u001b[39m, \u001b[38;5;124m\"\u001b[39m\u001b[38;5;124marg_type\u001b[39m\u001b[38;5;124m\"\u001b[39m: \u001b[38;5;28mtype\u001b[39m(col)\u001b[38;5;241m.\u001b[39m\u001b[38;5;18m__name__\u001b[39m},\n\u001b[0;32m   5175\u001b[0m     )\n\u001b[1;32m-> 5176\u001b[0m \u001b[38;5;28;01mreturn\u001b[39;00m DataFrame(\u001b[38;5;28;43mself\u001b[39;49m\u001b[38;5;241;43m.\u001b[39;49m\u001b[43m_jdf\u001b[49m\u001b[38;5;241;43m.\u001b[39;49m\u001b[43mwithColumn\u001b[49m\u001b[43m(\u001b[49m\u001b[43mcolName\u001b[49m\u001b[43m,\u001b[49m\u001b[43m \u001b[49m\u001b[43mcol\u001b[49m\u001b[38;5;241;43m.\u001b[39;49m\u001b[43m_jc\u001b[49m\u001b[43m)\u001b[49m, \u001b[38;5;28mself\u001b[39m\u001b[38;5;241m.\u001b[39msparkSession)\n",
      "File \u001b[1;32mj:\\git_versioned_projects\\data_challenge_modak\\.venv\\Lib\\site-packages\\py4j\\java_gateway.py:1322\u001b[0m, in \u001b[0;36mJavaMember.__call__\u001b[1;34m(self, *args)\u001b[0m\n\u001b[0;32m   1316\u001b[0m command \u001b[38;5;241m=\u001b[39m proto\u001b[38;5;241m.\u001b[39mCALL_COMMAND_NAME \u001b[38;5;241m+\u001b[39m\\\n\u001b[0;32m   1317\u001b[0m     \u001b[38;5;28mself\u001b[39m\u001b[38;5;241m.\u001b[39mcommand_header \u001b[38;5;241m+\u001b[39m\\\n\u001b[0;32m   1318\u001b[0m     args_command \u001b[38;5;241m+\u001b[39m\\\n\u001b[0;32m   1319\u001b[0m     proto\u001b[38;5;241m.\u001b[39mEND_COMMAND_PART\n\u001b[0;32m   1321\u001b[0m answer \u001b[38;5;241m=\u001b[39m \u001b[38;5;28mself\u001b[39m\u001b[38;5;241m.\u001b[39mgateway_client\u001b[38;5;241m.\u001b[39msend_command(command)\n\u001b[1;32m-> 1322\u001b[0m return_value \u001b[38;5;241m=\u001b[39m \u001b[43mget_return_value\u001b[49m\u001b[43m(\u001b[49m\n\u001b[0;32m   1323\u001b[0m \u001b[43m    \u001b[49m\u001b[43manswer\u001b[49m\u001b[43m,\u001b[49m\u001b[43m \u001b[49m\u001b[38;5;28;43mself\u001b[39;49m\u001b[38;5;241;43m.\u001b[39;49m\u001b[43mgateway_client\u001b[49m\u001b[43m,\u001b[49m\u001b[43m \u001b[49m\u001b[38;5;28;43mself\u001b[39;49m\u001b[38;5;241;43m.\u001b[39;49m\u001b[43mtarget_id\u001b[49m\u001b[43m,\u001b[49m\u001b[43m \u001b[49m\u001b[38;5;28;43mself\u001b[39;49m\u001b[38;5;241;43m.\u001b[39;49m\u001b[43mname\u001b[49m\u001b[43m)\u001b[49m\n\u001b[0;32m   1325\u001b[0m \u001b[38;5;28;01mfor\u001b[39;00m temp_arg \u001b[38;5;129;01min\u001b[39;00m temp_args:\n\u001b[0;32m   1326\u001b[0m     \u001b[38;5;28;01mif\u001b[39;00m \u001b[38;5;28mhasattr\u001b[39m(temp_arg, \u001b[38;5;124m\"\u001b[39m\u001b[38;5;124m_detach\u001b[39m\u001b[38;5;124m\"\u001b[39m):\n",
      "File \u001b[1;32mj:\\git_versioned_projects\\data_challenge_modak\\.venv\\Lib\\site-packages\\pyspark\\errors\\exceptions\\captured.py:185\u001b[0m, in \u001b[0;36mcapture_sql_exception.<locals>.deco\u001b[1;34m(*a, **kw)\u001b[0m\n\u001b[0;32m    181\u001b[0m converted \u001b[38;5;241m=\u001b[39m convert_exception(e\u001b[38;5;241m.\u001b[39mjava_exception)\n\u001b[0;32m    182\u001b[0m \u001b[38;5;28;01mif\u001b[39;00m \u001b[38;5;129;01mnot\u001b[39;00m \u001b[38;5;28misinstance\u001b[39m(converted, UnknownException):\n\u001b[0;32m    183\u001b[0m     \u001b[38;5;66;03m# Hide where the exception came from that shows a non-Pythonic\u001b[39;00m\n\u001b[0;32m    184\u001b[0m     \u001b[38;5;66;03m# JVM exception message.\u001b[39;00m\n\u001b[1;32m--> 185\u001b[0m     \u001b[38;5;28;01mraise\u001b[39;00m converted \u001b[38;5;28;01mfrom\u001b[39;00m\u001b[38;5;250m \u001b[39m\u001b[38;5;28;01mNone\u001b[39;00m\n\u001b[0;32m    186\u001b[0m \u001b[38;5;28;01melse\u001b[39;00m:\n\u001b[0;32m    187\u001b[0m     \u001b[38;5;28;01mraise\u001b[39;00m\n",
      "\u001b[1;31mAnalysisException\u001b[0m: [DATATYPE_MISMATCH.ARRAY_FUNCTION_DIFF_TYPES] Cannot resolve \"array_position(array(sunday, monday, tuesday, wednesday, thursday, friday, saturday), updated_at)\" due to data type mismatch: Input to `array_position` should have been \"ARRAY\" followed by a value with same element type, but it's [\"ARRAY<STRING>\", \"TIMESTAMP\"].; line 1 pos 0;\n'Project [user_id#183, frequency#19, day#20, creation_date#208, updated_at#224, next_payment_day#22, last_event_name#289, last_event_timestamp#574, truth_next_payment_day#559, correct#584, diference_next_payment_day#595, how_old_was_last_update#1033, 'day(CASE WHEN ((cast(CASE WHEN cast(updated_at#224 as string) IN (cast(sunday as string),cast(monday as string),cast(tuesday as string),cast(wednesday as string),cast(thursday as string),cast(friday as string),cast(saturday as string)) THEN array_position(array(sunday, monday, tuesday, wednesday, thursday, friday, saturday), updated_at#224) ELSE null END as int) - dayofweek(to_date(2024-12-03, None, Some(America/Sao_Paulo), false))) >= 0) THEN date_add(to_date(2024-12-03, None, Some(America/Sao_Paulo), false), (cast(CASE WHEN cast(updated_at#224 as string) IN (cast(sunday as string),cast(monday as string),cast(tuesday as string),cast(wednesday as string),cast(thursday as string),cast(friday as string),cast(saturday as string)) THEN array_position(array(sunday, monday, tuesday, wednesday, thursday, friday, saturday), updated_at#224) ELSE null END as int) - dayofweek(to_date(2024-12-03, None, Some(America/Sao_Paulo), false)))) ELSE date_add(to_date(2024-12-03, None, Some(America/Sao_Paulo), false), ((cast(CASE WHEN cast(updated_at#224 as string) IN (cast(sunday as string),cast(monday as string),cast(tuesday as string),cast(wednesday as string),cast(thursday as string),cast(friday as string),cast(saturday as string)) THEN array_position(array(sunday, monday, tuesday, wednesday, thursday, friday, saturday), updated_at#224) ELSE null END as int) - dayofweek(to_date(2024-12-03, None, Some(America/Sao_Paulo), false))) + 7)) END) AS update_next_day#2127]\n+- Project [user_id#183, frequency#19, day#20, creation_date#208, updated_at#224, next_payment_day#22, last_event_name#289, last_event_timestamp#574, truth_next_payment_day#559, correct#584, diference_next_payment_day#595, date_diff(cast(to_timestamp(2024-12-03, None, TimestampType, Some(America/Sao_Paulo), false) as date), cast(updated_at#224 as date)) AS how_old_was_last_update#1033]\n   +- Union false, false\n      :- Project [user_id#183, frequency#19, day#20, creation_date#208, updated_at#224, next_payment_day#22, last_event_name#289, last_event_timestamp#574, truth_next_payment_day#559, correct#584, (cast(next_payment_day#22 as double) - cast(truth_next_payment_day#559 as double)) AS diference_next_payment_day#595]\n      :  +- Project [user_id#183, frequency#19, day#20, creation_date#208, updated_at#224, next_payment_day#22, last_event_name#289, last_event_timestamp#574, truth_next_payment_day#559, CASE WHEN (truth_next_payment_day#559 = cast(next_payment_day#22 as int)) THEN correct ELSE wrong END AS correct#584]\n      :     +- Project [user_id#183, frequency#19, day#20, creation_date#208, updated_at#224, next_payment_day#22, last_event_name#289, event_timestamp#148 AS last_event_timestamp#574, truth_next_payment_day#559]\n      :        +- Project [user_id#183, creation_date#208, frequency#19, day#20, next_payment_day#22, status#23, updated_at#224, event_timestamp#148, amount#368L, day#360, frequency#352, event_name#108, last_event_name#289, day(date_add(cast(2024-12-03 as date), 1)) AS truth_next_payment_day#559]\n      :           +- Filter (frequency#352 = daily)\n      :              +- Project [user_id#183, creation_date#208, frequency#19, day#20, next_payment_day#22, status#23, updated_at#224, event_timestamp#148, amount#368L, day#360, frequency#352, event_name#108, last_event_name#289]\n      :                 +- Join LeftOuter, (user_id#183 = user_id#281)\n      :                    :- SubqueryAlias cleaned_backend_table\n      :                    :  +- Project [user_id#183, creation_date#208, frequency#19, day#20, next_payment_day#22, status#23, corrected_updated_at#199 AS updated_at#224]\n      :                    :     +- Project [user_id#183, creation_date#208, frequency#19, day#20, next_payment_day#22, status#23, corrected_updated_at#199]\n      :                    :        +- Project [user_id#183, cast(from_unixtime(cast(creation_date#18 as bigint), yyyy-MM-dd HH:mm:ss, Some(America/Sao_Paulo)) as timestamp) AS creation_date#208, frequency#19, day#20, updated_at#21, next_payment_day#22, status#23, corrected_updated_at#199]\n      :                    :           +- Project [user_id#183, creation_date#18, frequency#19, day#20, updated_at#21, next_payment_day#22, status#23, cast(CASE WHEN RLIKE(updated_at#21, \\d+-\\d+-\\d+T\\d+:\\d+:\\d+.\\d+Z) THEN cast(to_timestamp(updated_at#21, None, TimestampType, Some(America/Sao_Paulo), false) as string) ELSE from_unixtime(cast(updated_at#21 as bigint), yyyy-MM-dd HH:mm:ss, Some(America/Sao_Paulo)) END as timestamp) AS corrected_updated_at#199]\n      :                    :              +- Filter (status#23 = enabled)\n      :                    :                 +- Project [uuid#17 AS user_id#183, creation_date#18, frequency#19, day#20, updated_at#21, next_payment_day#22, status#23]\n      :                    :                    +- Relation [uuid#17,creation_date#18,frequency#19,day#20,updated_at#21,next_payment_day#22,status#23] csv\n      :                    +- SubqueryAlias truth_backend_table\n      :                       +- Project [user_id#281, event_timestamp#148, allowance_amount#63L AS amount#368L, day#360, frequency#352, event_name#108, last_event_name#289]\n      :                          +- Project [user_id#281, event_timestamp#148, allowance_amount#63L, allowance_scheduled_day#84 AS day#360, frequency#352, event_name#108, last_event_name#289]\n      :                             +- Project [user_id#281, event_timestamp#148, allowance_amount#63L, allowance_scheduled_day#84, allowance_scheduled_frequency#91 AS frequency#352, event_name#108, last_event_name#289]\n      :                                +- Project [user_id#281, event_timestamp#148, allowance_amount#63L, allowance_scheduled_day#84, allowance_scheduled_frequency#91, event_name#108, event_name#108 AS last_event_name#289]\n      :                                   +- Project [user_id#133, event_timestamp#275, allowance_amount#63L, allowance_scheduled_day#84, allowance_scheduled_frequency#91, event_name#108, user_id#281, event_timestamp#148]\n      :                                      +- Join Inner, ((user_id#133 = user_id#281) AND (event_timestamp#275 = event_timestamp#148))\n      :                                         :- SubqueryAlias last_event_by_user\n      :                                         :  +- Aggregate [user_id#133], [user_id#133, max(event_timestamp#148) AS event_timestamp#275]\n      :                                         :     +- Deduplicate [allowance_amount#63L, allowance_scheduled_day#84, event_name#108, event_timestamp#148, user_id#133, allowance_scheduled_frequency#91]\n      :                                         :        +- SubqueryAlias cleaned_events\n      :                                         :           +- Project [allowance_amount#63L, allowance_scheduled_day#84, allowance_scheduled_frequency#91, event_name#108, cast(event_timestamp#116 as timestamp) AS event_timestamp#148, user_id#133]\n      :                                         :              +- Project [allowance_amount#63L, allowance_scheduled_day#84, allowance_scheduled_frequency#91, event_name#108, event_timestamp#116, user_id#133]\n      :                                         :                 +- Project [user#33, allowance_amount#63L, allowance_scheduled_day#84, allowance_scheduled_frequency#91, event_name#108, event_timestamp#116, user#33.id AS user_id#133]\n      :                                         :                    +- Project [user#33, allowance_amount#63L, allowance_scheduled_day#84, allowance_scheduled_frequency#91, event_name#108, event_timestamp#116]\n      :                                         :                       +- Project [event#32, user#33, allowance_amount#63L, allowance_scheduled_day#84, allowance_scheduled_frequency#91, event_name#108, event#32.timestamp AS event_timestamp#116]\n      :                                         :                          +- Project [event#32, user#33, allowance_amount#63L, allowance_scheduled_day#84, allowance_scheduled_frequency#91, event#32.name AS event_name#108]\n      :                                         :                             +- Project [event#32, user#33, allowance_amount#63L, allowance_scheduled_day#84, allowance_scheduled_frequency#91]\n      :                                         :                                +- Project [event#32, user#33, allowance_amount#63L, allowance_scheduled#69, allowance_scheduled_day#84, allowance_scheduled#69.frequency AS allowance_scheduled_frequency#91]\n      :                                         :                                   +- Project [event#32, user#33, allowance_amount#63L, allowance_scheduled#69, allowance_scheduled#69.day AS allowance_scheduled_day#84]\n      :                                         :                                      +- Project [event#32, user#33, allowance_amount#63L, allowance_scheduled#69]\n      :                                         :                                         +- Project [allowance#31, event#32, user#33, allowance_amount#63L, allowance#31.scheduled AS allowance_scheduled#69]\n      :                                         :                                            +- Project [allowance#31, event#32, user#33, allowance#31.amount AS allowance_amount#63L]\n      :                                         :                                               +- Relation [allowance#31,event#32,user#33] json\n      :                                         +- Deduplicate [allowance_amount#63L, allowance_scheduled_day#84, event_name#108, event_timestamp#148, user_id#281, allowance_scheduled_frequency#91]\n      :                                            +- SubqueryAlias cleaned_events\n      :                                               +- Project [allowance_amount#63L, allowance_scheduled_day#84, allowance_scheduled_frequency#91, event_name#108, cast(event_timestamp#116 as timestamp) AS event_timestamp#148, user_id#281]\n      :                                                  +- Project [allowance_amount#63L, allowance_scheduled_day#84, allowance_scheduled_frequency#91, event_name#108, event_timestamp#116, user_id#281]\n      :                                                     +- Project [user#280, allowance_amount#63L, allowance_scheduled_day#84, allowance_scheduled_frequency#91, event_name#108, event_timestamp#116, user#280.id AS user_id#281]\n      :                                                        +- Project [user#280, allowance_amount#63L, allowance_scheduled_day#84, allowance_scheduled_frequency#91, event_name#108, event_timestamp#116]\n      :                                                           +- Project [event#279, user#280, allowance_amount#63L, allowance_scheduled_day#84, allowance_scheduled_frequency#91, event_name#108, event#279.timestamp AS event_timestamp#116]\n      :                                                              +- Project [event#279, user#280, allowance_amount#63L, allowance_scheduled_day#84, allowance_scheduled_frequency#91, event#279.name AS event_name#108]\n      :                                                                 +- Project [event#279, user#280, allowance_amount#63L, allowance_scheduled_day#84, allowance_scheduled_frequency#91]\n      :                                                                    +- Project [event#279, user#280, allowance_amount#63L, allowance_scheduled#69, allowance_scheduled_day#84, allowance_scheduled#69.frequency AS allowance_scheduled_frequency#91]\n      :                                                                       +- Project [event#279, user#280, allowance_amount#63L, allowance_scheduled#69, allowance_scheduled#69.day AS allowance_scheduled_day#84]\n      :                                                                          +- Project [event#279, user#280, allowance_amount#63L, allowance_scheduled#69]\n      :                                                                             +- Project [allowance#278, event#279, user#280, allowance_amount#63L, allowance#278.scheduled AS allowance_scheduled#69]\n      :                                                                                +- Project [allowance#278, event#279, user#280, allowance#278.amount AS allowance_amount#63L]\n      :                                                                                   +- Relation [allowance#278,event#279,user#280] json\n      :- Project [user_id#183 AS user_id#935, frequency#921 AS frequency#936, day#922 AS day#937, creation_date#208 AS creation_date#938, updated_at#224 AS updated_at#939, next_payment_day#924 AS next_payment_day#940, last_event_name#289 AS last_event_name#941, last_event_timestamp#656 AS last_event_timestamp#942, truth_next_payment_day#641 AS truth_next_payment_day#943, correct#666 AS correct#944, diference_next_payment_day#677 AS diference_next_payment_day#945]\n      :  +- Project [user_id#183, frequency#921, day#922, creation_date#208, updated_at#224, next_payment_day#924, last_event_name#289, last_event_timestamp#656, truth_next_payment_day#641, correct#666, diference_next_payment_day#677]\n      :     +- Project [user_id#183, frequency#921, day#922, creation_date#208, updated_at#224, next_payment_day#924, last_event_name#289, last_event_timestamp#656, truth_next_payment_day#641, correct#666, (cast(next_payment_day#924 as double) - cast(truth_next_payment_day#641 as double)) AS diference_next_payment_day#677]\n      :        +- Project [user_id#183, frequency#921, day#922, creation_date#208, updated_at#224, next_payment_day#924, last_event_name#289, last_event_timestamp#656, truth_next_payment_day#641, CASE WHEN (truth_next_payment_day#641 = cast(next_payment_day#924 as int)) THEN correct ELSE wrong END AS correct#666]\n      :           +- Project [user_id#183, frequency#921, day#922, creation_date#208, updated_at#224, next_payment_day#924, last_event_name#289, event_timestamp#148 AS last_event_timestamp#656, truth_next_payment_day#641]\n      :              +- Project [user_id#183, creation_date#208, frequency#921, day#922, next_payment_day#924, status#925, updated_at#224, event_timestamp#148, amount#368L, day#360, frequency#352, event_name#108, last_event_name#289, CASE WHEN (day#360 = fifteenth_day) THEN 15 WHEN (day#360 = first_day) THEN 1 ELSE cast(null as int) END AS truth_next_payment_day#641]\n      :                 +- Filter (frequency#352 = monthly)\n      :                    +- Project [user_id#183, creation_date#208, frequency#921, day#922, next_payment_day#924, status#925, updated_at#224, event_timestamp#148, amount#368L, day#360, frequency#352, event_name#108, last_event_name#289]\n      :                       +- Join LeftOuter, (user_id#183 = user_id#281)\n      :                          :- SubqueryAlias cleaned_backend_table\n      :                          :  +- Project [user_id#183, creation_date#208, frequency#921, day#922, next_payment_day#924, status#925, corrected_updated_at#199 AS updated_at#224]\n      :                          :     +- Project [user_id#183, creation_date#208, frequency#921, day#922, next_payment_day#924, status#925, corrected_updated_at#199]\n      :                          :        +- Project [user_id#183, cast(from_unixtime(cast(creation_date#920 as bigint), yyyy-MM-dd HH:mm:ss, Some(America/Sao_Paulo)) as timestamp) AS creation_date#208, frequency#921, day#922, updated_at#923, next_payment_day#924, status#925, corrected_updated_at#199]\n      :                          :           +- Project [user_id#183, creation_date#920, frequency#921, day#922, updated_at#923, next_payment_day#924, status#925, cast(CASE WHEN RLIKE(updated_at#923, \\d+-\\d+-\\d+T\\d+:\\d+:\\d+.\\d+Z) THEN cast(to_timestamp(updated_at#923, None, TimestampType, Some(America/Sao_Paulo), false) as string) ELSE from_unixtime(cast(updated_at#923 as bigint), yyyy-MM-dd HH:mm:ss, Some(America/Sao_Paulo)) END as timestamp) AS corrected_updated_at#199]\n      :                          :              +- Filter (status#925 = enabled)\n      :                          :                 +- Project [uuid#919 AS user_id#183, creation_date#920, frequency#921, day#922, updated_at#923, next_payment_day#924, status#925]\n      :                          :                    +- Relation [uuid#919,creation_date#920,frequency#921,day#922,updated_at#923,next_payment_day#924,status#925] csv\n      :                          +- SubqueryAlias truth_backend_table\n      :                             +- Project [user_id#281, event_timestamp#148, allowance_amount#63L AS amount#368L, day#360, frequency#352, event_name#108, last_event_name#289]\n      :                                +- Project [user_id#281, event_timestamp#148, allowance_amount#63L, allowance_scheduled_day#84 AS day#360, frequency#352, event_name#108, last_event_name#289]\n      :                                   +- Project [user_id#281, event_timestamp#148, allowance_amount#63L, allowance_scheduled_day#84, allowance_scheduled_frequency#91 AS frequency#352, event_name#108, last_event_name#289]\n      :                                      +- Project [user_id#281, event_timestamp#148, allowance_amount#63L, allowance_scheduled_day#84, allowance_scheduled_frequency#91, event_name#108, event_name#108 AS last_event_name#289]\n      :                                         +- Project [user_id#133, event_timestamp#275, allowance_amount#63L, allowance_scheduled_day#84, allowance_scheduled_frequency#91, event_name#108, user_id#281, event_timestamp#148]\n      :                                            +- Join Inner, ((user_id#133 = user_id#281) AND (event_timestamp#275 = event_timestamp#148))\n      :                                               :- SubqueryAlias last_event_by_user\n      :                                               :  +- Aggregate [user_id#133], [user_id#133, max(event_timestamp#148) AS event_timestamp#275]\n      :                                               :     +- Deduplicate [allowance_amount#63L, allowance_scheduled_day#84, event_name#108, event_timestamp#148, user_id#133, allowance_scheduled_frequency#91]\n      :                                               :        +- SubqueryAlias cleaned_events\n      :                                               :           +- Project [allowance_amount#63L, allowance_scheduled_day#84, allowance_scheduled_frequency#91, event_name#108, cast(event_timestamp#116 as timestamp) AS event_timestamp#148, user_id#133]\n      :                                               :              +- Project [allowance_amount#63L, allowance_scheduled_day#84, allowance_scheduled_frequency#91, event_name#108, event_timestamp#116, user_id#133]\n      :                                               :                 +- Project [user#928, allowance_amount#63L, allowance_scheduled_day#84, allowance_scheduled_frequency#91, event_name#108, event_timestamp#116, user#928.id AS user_id#133]\n      :                                               :                    +- Project [user#928, allowance_amount#63L, allowance_scheduled_day#84, allowance_scheduled_frequency#91, event_name#108, event_timestamp#116]\n      :                                               :                       +- Project [event#927, user#928, allowance_amount#63L, allowance_scheduled_day#84, allowance_scheduled_frequency#91, event_name#108, event#927.timestamp AS event_timestamp#116]\n      :                                               :                          +- Project [event#927, user#928, allowance_amount#63L, allowance_scheduled_day#84, allowance_scheduled_frequency#91, event#927.name AS event_name#108]\n      :                                               :                             +- Project [event#927, user#928, allowance_amount#63L, allowance_scheduled_day#84, allowance_scheduled_frequency#91]\n      :                                               :                                +- Project [event#927, user#928, allowance_amount#63L, allowance_scheduled#69, allowance_scheduled_day#84, allowance_scheduled#69.frequency AS allowance_scheduled_frequency#91]\n      :                                               :                                   +- Project [event#927, user#928, allowance_amount#63L, allowance_scheduled#69, allowance_scheduled#69.day AS allowance_scheduled_day#84]\n      :                                               :                                      +- Project [event#927, user#928, allowance_amount#63L, allowance_scheduled#69]\n      :                                               :                                         +- Project [allowance#926, event#927, user#928, allowance_amount#63L, allowance#926.scheduled AS allowance_scheduled#69]\n      :                                               :                                            +- Project [allowance#926, event#927, user#928, allowance#926.amount AS allowance_amount#63L]\n      :                                               :                                               +- Relation [allowance#926,event#927,user#928] json\n      :                                               +- Deduplicate [allowance_amount#63L, allowance_scheduled_day#84, event_name#108, event_timestamp#148, user_id#281, allowance_scheduled_frequency#91]\n      :                                                  +- SubqueryAlias cleaned_events\n      :                                                     +- Project [allowance_amount#63L, allowance_scheduled_day#84, allowance_scheduled_frequency#91, event_name#108, cast(event_timestamp#116 as timestamp) AS event_timestamp#148, user_id#281]\n      :                                                        +- Project [allowance_amount#63L, allowance_scheduled_day#84, allowance_scheduled_frequency#91, event_name#108, event_timestamp#116, user_id#281]\n      :                                                           +- Project [user#931, allowance_amount#63L, allowance_scheduled_day#84, allowance_scheduled_frequency#91, event_name#108, event_timestamp#116, user#931.id AS user_id#281]\n      :                                                              +- Project [user#931, allowance_amount#63L, allowance_scheduled_day#84, allowance_scheduled_frequency#91, event_name#108, event_timestamp#116]\n      :                                                                 +- Project [event#930, user#931, allowance_amount#63L, allowance_scheduled_day#84, allowance_scheduled_frequency#91, event_name#108, event#930.timestamp AS event_timestamp#116]\n      :                                                                    +- Project [event#930, user#931, allowance_amount#63L, allowance_scheduled_day#84, allowance_scheduled_frequency#91, event#930.name AS event_name#108]\n      :                                                                       +- Project [event#930, user#931, allowance_amount#63L, allowance_scheduled_day#84, allowance_scheduled_frequency#91]\n      :                                                                          +- Project [event#930, user#931, allowance_amount#63L, allowance_scheduled#69, allowance_scheduled_day#84, allowance_scheduled#69.frequency AS allowance_scheduled_frequency#91]\n      :                                                                             +- Project [event#930, user#931, allowance_amount#63L, allowance_scheduled#69, allowance_scheduled#69.day AS allowance_scheduled_day#84]\n      :                                                                                +- Project [event#930, user#931, allowance_amount#63L, allowance_scheduled#69]\n      :                                                                                   +- Project [allowance#929, event#930, user#931, allowance_amount#63L, allowance#929.scheduled AS allowance_scheduled#69]\n      :                                                                                      +- Project [allowance#929, event#930, user#931, allowance#929.amount AS allowance_amount#63L]\n      :                                                                                         +- Relation [allowance#929,event#930,user#931] json\n      :- Project [user_id#183 AS user_id#973, frequency#959 AS frequency#974, day#960 AS day#975, creation_date#208 AS creation_date#976, updated_at#224 AS updated_at#977, next_payment_day#962 AS next_payment_day#978, last_event_name#289 AS last_event_name#979, last_event_timestamp#870 AS last_event_timestamp#980, truth_next_payment_day#855 AS truth_next_payment_day#981, correct#880 AS correct#982, diference_next_payment_day#891 AS diference_next_payment_day#983]\n      :  +- Project [user_id#183, frequency#959, day#960, creation_date#208, updated_at#224, next_payment_day#962, last_event_name#289, last_event_timestamp#870, truth_next_payment_day#855, correct#880, diference_next_payment_day#891]\n      :     +- Project [user_id#183, frequency#959, day#960, creation_date#208, updated_at#224, next_payment_day#962, last_event_name#289, last_event_timestamp#870, truth_next_payment_day#855, correct#880, (cast(next_payment_day#962 as double) - cast(truth_next_payment_day#855 as double)) AS diference_next_payment_day#891]\n      :        +- Project [user_id#183, frequency#959, day#960, creation_date#208, updated_at#224, next_payment_day#962, last_event_name#289, last_event_timestamp#870, truth_next_payment_day#855, CASE WHEN (truth_next_payment_day#855 = cast(next_payment_day#962 as int)) THEN correct ELSE wrong END AS correct#880]\n      :           +- Project [user_id#183, frequency#959, day#960, creation_date#208, updated_at#224, next_payment_day#962, last_event_name#289, event_timestamp#148 AS last_event_timestamp#870, truth_next_payment_day#855]\n      :              +- Project [user_id#183, creation_date#208, frequency#959, day#960, next_payment_day#962, status#963, updated_at#224, event_timestamp#148, amount#368L, day#360, frequency#352, event_name#108, last_event_name#289, day(CASE WHEN (CASE WHEN ((cast(CASE WHEN day#360 IN (sunday,monday,tuesday,wednesday,thursday,friday,saturday) THEN array_position(array(sunday, monday, tuesday, wednesday, thursday, friday, saturday), day#360) ELSE cast(null as bigint) END as int) - dayofweek(cast(event_timestamp#148 as date))) >= 0) THEN date_add(cast(event_timestamp#148 as date), (cast(CASE WHEN day#360 IN (sunday,monday,tuesday,wednesday,thursday,friday,saturday) THEN array_position(array(sunday, monday, tuesday, wednesday, thursday, friday, saturday), day#360) ELSE cast(null as bigint) END as int) - dayofweek(cast(event_timestamp#148 as date)))) ELSE date_add(cast(event_timestamp#148 as date), ((cast(CASE WHEN day#360 IN (sunday,monday,tuesday,wednesday,thursday,friday,saturday) THEN array_position(array(sunday, monday, tuesday, wednesday, thursday, friday, saturday), day#360) ELSE cast(null as bigint) END as int) - dayofweek(cast(event_timestamp#148 as date))) + 7)) END > to_date(2024-12-03, None, Some(America/Sao_Paulo), false)) THEN CASE WHEN ((cast(CASE WHEN day#360 IN (sunday,monday,tuesday,wednesday,thursday,friday,saturday) THEN array_position(array(sunday, monday, tuesday, wednesday, thursday, friday, saturday), day#360) ELSE cast(null as bigint) END as int) - dayofweek(cast(event_timestamp#148 as date))) >= 0) THEN date_add(cast(event_timestamp#148 as date), (cast(CASE WHEN day#360 IN (sunday,monday,tuesday,wednesday,thursday,friday,saturday) THEN array_position(array(sunday, monday, tuesday, wednesday, thursday, friday, saturday), day#360) ELSE cast(null as bigint) END as int) - dayofweek(cast(event_timestamp#148 as date)))) ELSE date_add(cast(event_timestamp#148 as date), ((cast(CASE WHEN day#360 IN (sunday,monday,tuesday,wednesday,thursday,friday,saturday) THEN array_position(array(sunday, monday, tuesday, wednesday, thursday, friday, saturday), day#360) ELSE cast(null as bigint) END as int) - dayofweek(cast(event_timestamp#148 as date))) + 7)) END ELSE date_add(to_date(2024-12-03, None, Some(America/Sao_Paulo), false), (14 - (date_diff(to_date(2024-12-03, None, Some(America/Sao_Paulo), false), CASE WHEN ((cast(CASE WHEN day#360 IN (sunday,monday,tuesday,wednesday,thursday,friday,saturday) THEN array_position(array(sunday, monday, tuesday, wednesday, thursday, friday, saturday), day#360) ELSE cast(null as bigint) END as int) - dayofweek(cast(event_timestamp#148 as date))) >= 0) THEN date_add(cast(event_timestamp#148 as date), (cast(CASE WHEN day#360 IN (sunday,monday,tuesday,wednesday,thursday,friday,saturday) THEN array_position(array(sunday, monday, tuesday, wednesday, thursday, friday, saturday), day#360) ELSE cast(null as bigint) END as int) - dayofweek(cast(event_timestamp#148 as date)))) ELSE date_add(cast(event_timestamp#148 as date), ((cast(CASE WHEN day#360 IN (sunday,monday,tuesday,wednesday,thursday,friday,saturday) THEN array_position(array(sunday, monday, tuesday, wednesday, thursday, friday, saturday), day#360) ELSE cast(null as bigint) END as int) - dayofweek(cast(event_timestamp#148 as date))) + 7)) END) % 14))) END) AS truth_next_payment_day#855]\n      :                 +- Filter (frequency#352 = biweekly)\n      :                    +- Project [user_id#183, creation_date#208, frequency#959, day#960, next_payment_day#962, status#963, updated_at#224, event_timestamp#148, amount#368L, day#360, frequency#352, event_name#108, last_event_name#289]\n      :                       +- Join LeftOuter, (user_id#183 = user_id#281)\n      :                          :- SubqueryAlias cleaned_backend_table\n      :                          :  +- Project [user_id#183, creation_date#208, frequency#959, day#960, next_payment_day#962, status#963, corrected_updated_at#199 AS updated_at#224]\n      :                          :     +- Project [user_id#183, creation_date#208, frequency#959, day#960, next_payment_day#962, status#963, corrected_updated_at#199]\n      :                          :        +- Project [user_id#183, cast(from_unixtime(cast(creation_date#958 as bigint), yyyy-MM-dd HH:mm:ss, Some(America/Sao_Paulo)) as timestamp) AS creation_date#208, frequency#959, day#960, updated_at#961, next_payment_day#962, status#963, corrected_updated_at#199]\n      :                          :           +- Project [user_id#183, creation_date#958, frequency#959, day#960, updated_at#961, next_payment_day#962, status#963, cast(CASE WHEN RLIKE(updated_at#961, \\d+-\\d+-\\d+T\\d+:\\d+:\\d+.\\d+Z) THEN cast(to_timestamp(updated_at#961, None, TimestampType, Some(America/Sao_Paulo), false) as string) ELSE from_unixtime(cast(updated_at#961 as bigint), yyyy-MM-dd HH:mm:ss, Some(America/Sao_Paulo)) END as timestamp) AS corrected_updated_at#199]\n      :                          :              +- Filter (status#963 = enabled)\n      :                          :                 +- Project [uuid#957 AS user_id#183, creation_date#958, frequency#959, day#960, updated_at#961, next_payment_day#962, status#963]\n      :                          :                    +- Relation [uuid#957,creation_date#958,frequency#959,day#960,updated_at#961,next_payment_day#962,status#963] csv\n      :                          +- SubqueryAlias truth_backend_table\n      :                             +- Project [user_id#281, event_timestamp#148, allowance_amount#63L AS amount#368L, day#360, frequency#352, event_name#108, last_event_name#289]\n      :                                +- Project [user_id#281, event_timestamp#148, allowance_amount#63L, allowance_scheduled_day#84 AS day#360, frequency#352, event_name#108, last_event_name#289]\n      :                                   +- Project [user_id#281, event_timestamp#148, allowance_amount#63L, allowance_scheduled_day#84, allowance_scheduled_frequency#91 AS frequency#352, event_name#108, last_event_name#289]\n      :                                      +- Project [user_id#281, event_timestamp#148, allowance_amount#63L, allowance_scheduled_day#84, allowance_scheduled_frequency#91, event_name#108, event_name#108 AS last_event_name#289]\n      :                                         +- Project [user_id#133, event_timestamp#275, allowance_amount#63L, allowance_scheduled_day#84, allowance_scheduled_frequency#91, event_name#108, user_id#281, event_timestamp#148]\n      :                                            +- Join Inner, ((user_id#133 = user_id#281) AND (event_timestamp#275 = event_timestamp#148))\n      :                                               :- SubqueryAlias last_event_by_user\n      :                                               :  +- Aggregate [user_id#133], [user_id#133, max(event_timestamp#148) AS event_timestamp#275]\n      :                                               :     +- Deduplicate [allowance_amount#63L, allowance_scheduled_day#84, event_name#108, event_timestamp#148, user_id#133, allowance_scheduled_frequency#91]\n      :                                               :        +- SubqueryAlias cleaned_events\n      :                                               :           +- Project [allowance_amount#63L, allowance_scheduled_day#84, allowance_scheduled_frequency#91, event_name#108, cast(event_timestamp#116 as timestamp) AS event_timestamp#148, user_id#133]\n      :                                               :              +- Project [allowance_amount#63L, allowance_scheduled_day#84, allowance_scheduled_frequency#91, event_name#108, event_timestamp#116, user_id#133]\n      :                                               :                 +- Project [user#966, allowance_amount#63L, allowance_scheduled_day#84, allowance_scheduled_frequency#91, event_name#108, event_timestamp#116, user#966.id AS user_id#133]\n      :                                               :                    +- Project [user#966, allowance_amount#63L, allowance_scheduled_day#84, allowance_scheduled_frequency#91, event_name#108, event_timestamp#116]\n      :                                               :                       +- Project [event#965, user#966, allowance_amount#63L, allowance_scheduled_day#84, allowance_scheduled_frequency#91, event_name#108, event#965.timestamp AS event_timestamp#116]\n      :                                               :                          +- Project [event#965, user#966, allowance_amount#63L, allowance_scheduled_day#84, allowance_scheduled_frequency#91, event#965.name AS event_name#108]\n      :                                               :                             +- Project [event#965, user#966, allowance_amount#63L, allowance_scheduled_day#84, allowance_scheduled_frequency#91]\n      :                                               :                                +- Project [event#965, user#966, allowance_amount#63L, allowance_scheduled#69, allowance_scheduled_day#84, allowance_scheduled#69.frequency AS allowance_scheduled_frequency#91]\n      :                                               :                                   +- Project [event#965, user#966, allowance_amount#63L, allowance_scheduled#69, allowance_scheduled#69.day AS allowance_scheduled_day#84]\n      :                                               :                                      +- Project [event#965, user#966, allowance_amount#63L, allowance_scheduled#69]\n      :                                               :                                         +- Project [allowance#964, event#965, user#966, allowance_amount#63L, allowance#964.scheduled AS allowance_scheduled#69]\n      :                                               :                                            +- Project [allowance#964, event#965, user#966, allowance#964.amount AS allowance_amount#63L]\n      :                                               :                                               +- Relation [allowance#964,event#965,user#966] json\n      :                                               +- Deduplicate [allowance_amount#63L, allowance_scheduled_day#84, event_name#108, event_timestamp#148, user_id#281, allowance_scheduled_frequency#91]\n      :                                                  +- SubqueryAlias cleaned_events\n      :                                                     +- Project [allowance_amount#63L, allowance_scheduled_day#84, allowance_scheduled_frequency#91, event_name#108, cast(event_timestamp#116 as timestamp) AS event_timestamp#148, user_id#281]\n      :                                                        +- Project [allowance_amount#63L, allowance_scheduled_day#84, allowance_scheduled_frequency#91, event_name#108, event_timestamp#116, user_id#281]\n      :                                                           +- Project [user#969, allowance_amount#63L, allowance_scheduled_day#84, allowance_scheduled_frequency#91, event_name#108, event_timestamp#116, user#969.id AS user_id#281]\n      :                                                              +- Project [user#969, allowance_amount#63L, allowance_scheduled_day#84, allowance_scheduled_frequency#91, event_name#108, event_timestamp#116]\n      :                                                                 +- Project [event#968, user#969, allowance_amount#63L, allowance_scheduled_day#84, allowance_scheduled_frequency#91, event_name#108, event#968.timestamp AS event_timestamp#116]\n      :                                                                    +- Project [event#968, user#969, allowance_amount#63L, allowance_scheduled_day#84, allowance_scheduled_frequency#91, event#968.name AS event_name#108]\n      :                                                                       +- Project [event#968, user#969, allowance_amount#63L, allowance_scheduled_day#84, allowance_scheduled_frequency#91]\n      :                                                                          +- Project [event#968, user#969, allowance_amount#63L, allowance_scheduled#69, allowance_scheduled_day#84, allowance_scheduled#69.frequency AS allowance_scheduled_frequency#91]\n      :                                                                             +- Project [event#968, user#969, allowance_amount#63L, allowance_scheduled#69, allowance_scheduled#69.day AS allowance_scheduled_day#84]\n      :                                                                                +- Project [event#968, user#969, allowance_amount#63L, allowance_scheduled#69]\n      :                                                                                   +- Project [allowance#967, event#968, user#969, allowance_amount#63L, allowance#967.scheduled AS allowance_scheduled#69]\n      :                                                                                      +- Project [allowance#967, event#968, user#969, allowance#967.amount AS allowance_amount#63L]\n      :                                                                                         +- Relation [allowance#967,event#968,user#969] json\n      +- Project [user_id#183 AS user_id#1011, frequency#997 AS frequency#1012, day#998 AS day#1013, creation_date#208 AS creation_date#1014, updated_at#224 AS updated_at#1015, next_payment_day#1000 AS next_payment_day#1016, last_event_name#289 AS last_event_name#1017, last_event_timestamp#806 AS last_event_timestamp#1018, truth_next_payment_day#791 AS truth_next_payment_day#1019, correct#816 AS correct#1020, diference_next_payment_day#827 AS diference_next_payment_day#1021]\n         +- Project [user_id#183, frequency#997, day#998, creation_date#208, updated_at#224, next_payment_day#1000, last_event_name#289, last_event_timestamp#806, truth_next_payment_day#791, correct#816, diference_next_payment_day#827]\n            +- Project [user_id#183, frequency#997, day#998, creation_date#208, updated_at#224, next_payment_day#1000, last_event_name#289, last_event_timestamp#806, truth_next_payment_day#791, correct#816, (cast(next_payment_day#1000 as double) - cast(truth_next_payment_day#791 as double)) AS diference_next_payment_day#827]\n               +- Project [user_id#183, frequency#997, day#998, creation_date#208, updated_at#224, next_payment_day#1000, last_event_name#289, last_event_timestamp#806, truth_next_payment_day#791, CASE WHEN (truth_next_payment_day#791 = cast(next_payment_day#1000 as int)) THEN correct ELSE wrong END AS correct#816]\n                  +- Project [user_id#183, frequency#997, day#998, creation_date#208, updated_at#224, next_payment_day#1000, last_event_name#289, event_timestamp#148 AS last_event_timestamp#806, truth_next_payment_day#791]\n                     +- Project [user_id#183, creation_date#208, frequency#997, day#998, next_payment_day#1000, status#1001, updated_at#224, event_timestamp#148, amount#368L, day#360, frequency#352, event_name#108, last_event_name#289, day(CASE WHEN ((cast(CASE WHEN day#360 IN (sunday,monday,tuesday,wednesday,thursday,friday,saturday) THEN array_position(array(sunday, monday, tuesday, wednesday, thursday, friday, saturday), day#360) ELSE cast(null as bigint) END as int) - dayofweek(to_date(2024-12-03, None, Some(America/Sao_Paulo), false))) >= 0) THEN date_add(to_date(2024-12-03, None, Some(America/Sao_Paulo), false), (cast(CASE WHEN day#360 IN (sunday,monday,tuesday,wednesday,thursday,friday,saturday) THEN array_position(array(sunday, monday, tuesday, wednesday, thursday, friday, saturday), day#360) ELSE cast(null as bigint) END as int) - dayofweek(to_date(2024-12-03, None, Some(America/Sao_Paulo), false)))) ELSE date_add(to_date(2024-12-03, None, Some(America/Sao_Paulo), false), ((cast(CASE WHEN day#360 IN (sunday,monday,tuesday,wednesday,thursday,friday,saturday) THEN array_position(array(sunday, monday, tuesday, wednesday, thursday, friday, saturday), day#360) ELSE cast(null as bigint) END as int) - dayofweek(to_date(2024-12-03, None, Some(America/Sao_Paulo), false))) + 7)) END) AS truth_next_payment_day#791]\n                        +- Filter (frequency#352 = weekly)\n                           +- Project [user_id#183, creation_date#208, frequency#997, day#998, next_payment_day#1000, status#1001, updated_at#224, event_timestamp#148, amount#368L, day#360, frequency#352, event_name#108, last_event_name#289]\n                              +- Join LeftOuter, (user_id#183 = user_id#281)\n                                 :- SubqueryAlias cleaned_backend_table\n                                 :  +- Project [user_id#183, creation_date#208, frequency#997, day#998, next_payment_day#1000, status#1001, corrected_updated_at#199 AS updated_at#224]\n                                 :     +- Project [user_id#183, creation_date#208, frequency#997, day#998, next_payment_day#1000, status#1001, corrected_updated_at#199]\n                                 :        +- Project [user_id#183, cast(from_unixtime(cast(creation_date#996 as bigint), yyyy-MM-dd HH:mm:ss, Some(America/Sao_Paulo)) as timestamp) AS creation_date#208, frequency#997, day#998, updated_at#999, next_payment_day#1000, status#1001, corrected_updated_at#199]\n                                 :           +- Project [user_id#183, creation_date#996, frequency#997, day#998, updated_at#999, next_payment_day#1000, status#1001, cast(CASE WHEN RLIKE(updated_at#999, \\d+-\\d+-\\d+T\\d+:\\d+:\\d+.\\d+Z) THEN cast(to_timestamp(updated_at#999, None, TimestampType, Some(America/Sao_Paulo), false) as string) ELSE from_unixtime(cast(updated_at#999 as bigint), yyyy-MM-dd HH:mm:ss, Some(America/Sao_Paulo)) END as timestamp) AS corrected_updated_at#199]\n                                 :              +- Filter (status#1001 = enabled)\n                                 :                 +- Project [uuid#995 AS user_id#183, creation_date#996, frequency#997, day#998, updated_at#999, next_payment_day#1000, status#1001]\n                                 :                    +- Relation [uuid#995,creation_date#996,frequency#997,day#998,updated_at#999,next_payment_day#1000,status#1001] csv\n                                 +- SubqueryAlias truth_backend_table\n                                    +- Project [user_id#281, event_timestamp#148, allowance_amount#63L AS amount#368L, day#360, frequency#352, event_name#108, last_event_name#289]\n                                       +- Project [user_id#281, event_timestamp#148, allowance_amount#63L, allowance_scheduled_day#84 AS day#360, frequency#352, event_name#108, last_event_name#289]\n                                          +- Project [user_id#281, event_timestamp#148, allowance_amount#63L, allowance_scheduled_day#84, allowance_scheduled_frequency#91 AS frequency#352, event_name#108, last_event_name#289]\n                                             +- Project [user_id#281, event_timestamp#148, allowance_amount#63L, allowance_scheduled_day#84, allowance_scheduled_frequency#91, event_name#108, event_name#108 AS last_event_name#289]\n                                                +- Project [user_id#133, event_timestamp#275, allowance_amount#63L, allowance_scheduled_day#84, allowance_scheduled_frequency#91, event_name#108, user_id#281, event_timestamp#148]\n                                                   +- Join Inner, ((user_id#133 = user_id#281) AND (event_timestamp#275 = event_timestamp#148))\n                                                      :- SubqueryAlias last_event_by_user\n                                                      :  +- Aggregate [user_id#133], [user_id#133, max(event_timestamp#148) AS event_timestamp#275]\n                                                      :     +- Deduplicate [allowance_amount#63L, allowance_scheduled_day#84, event_name#108, event_timestamp#148, user_id#133, allowance_scheduled_frequency#91]\n                                                      :        +- SubqueryAlias cleaned_events\n                                                      :           +- Project [allowance_amount#63L, allowance_scheduled_day#84, allowance_scheduled_frequency#91, event_name#108, cast(event_timestamp#116 as timestamp) AS event_timestamp#148, user_id#133]\n                                                      :              +- Project [allowance_amount#63L, allowance_scheduled_day#84, allowance_scheduled_frequency#91, event_name#108, event_timestamp#116, user_id#133]\n                                                      :                 +- Project [user#1004, allowance_amount#63L, allowance_scheduled_day#84, allowance_scheduled_frequency#91, event_name#108, event_timestamp#116, user#1004.id AS user_id#133]\n                                                      :                    +- Project [user#1004, allowance_amount#63L, allowance_scheduled_day#84, allowance_scheduled_frequency#91, event_name#108, event_timestamp#116]\n                                                      :                       +- Project [event#1003, user#1004, allowance_amount#63L, allowance_scheduled_day#84, allowance_scheduled_frequency#91, event_name#108, event#1003.timestamp AS event_timestamp#116]\n                                                      :                          +- Project [event#1003, user#1004, allowance_amount#63L, allowance_scheduled_day#84, allowance_scheduled_frequency#91, event#1003.name AS event_name#108]\n                                                      :                             +- Project [event#1003, user#1004, allowance_amount#63L, allowance_scheduled_day#84, allowance_scheduled_frequency#91]\n                                                      :                                +- Project [event#1003, user#1004, allowance_amount#63L, allowance_scheduled#69, allowance_scheduled_day#84, allowance_scheduled#69.frequency AS allowance_scheduled_frequency#91]\n                                                      :                                   +- Project [event#1003, user#1004, allowance_amount#63L, allowance_scheduled#69, allowance_scheduled#69.day AS allowance_scheduled_day#84]\n                                                      :                                      +- Project [event#1003, user#1004, allowance_amount#63L, allowance_scheduled#69]\n                                                      :                                         +- Project [allowance#1002, event#1003, user#1004, allowance_amount#63L, allowance#1002.scheduled AS allowance_scheduled#69]\n                                                      :                                            +- Project [allowance#1002, event#1003, user#1004, allowance#1002.amount AS allowance_amount#63L]\n                                                      :                                               +- Relation [allowance#1002,event#1003,user#1004] json\n                                                      +- Deduplicate [allowance_amount#63L, allowance_scheduled_day#84, event_name#108, event_timestamp#148, user_id#281, allowance_scheduled_frequency#91]\n                                                         +- SubqueryAlias cleaned_events\n                                                            +- Project [allowance_amount#63L, allowance_scheduled_day#84, allowance_scheduled_frequency#91, event_name#108, cast(event_timestamp#116 as timestamp) AS event_timestamp#148, user_id#281]\n                                                               +- Project [allowance_amount#63L, allowance_scheduled_day#84, allowance_scheduled_frequency#91, event_name#108, event_timestamp#116, user_id#281]\n                                                                  +- Project [user#1007, allowance_amount#63L, allowance_scheduled_day#84, allowance_scheduled_frequency#91, event_name#108, event_timestamp#116, user#1007.id AS user_id#281]\n                                                                     +- Project [user#1007, allowance_amount#63L, allowance_scheduled_day#84, allowance_scheduled_frequency#91, event_name#108, event_timestamp#116]\n                                                                        +- Project [event#1006, user#1007, allowance_amount#63L, allowance_scheduled_day#84, allowance_scheduled_frequency#91, event_name#108, event#1006.timestamp AS event_timestamp#116]\n                                                                           +- Project [event#1006, user#1007, allowance_amount#63L, allowance_scheduled_day#84, allowance_scheduled_frequency#91, event#1006.name AS event_name#108]\n                                                                              +- Project [event#1006, user#1007, allowance_amount#63L, allowance_scheduled_day#84, allowance_scheduled_frequency#91]\n                                                                                 +- Project [event#1006, user#1007, allowance_amount#63L, allowance_scheduled#69, allowance_scheduled_day#84, allowance_scheduled#69.frequency AS allowance_scheduled_frequency#91]\n                                                                                    +- Project [event#1006, user#1007, allowance_amount#63L, allowance_scheduled#69, allowance_scheduled#69.day AS allowance_scheduled_day#84]\n                                                                                       +- Project [event#1006, user#1007, allowance_amount#63L, allowance_scheduled#69]\n                                                                                          +- Project [allowance#1005, event#1006, user#1007, allowance_amount#63L, allowance#1005.scheduled AS allowance_scheduled#69]\n                                                                                             +- Project [allowance#1005, event#1006, user#1007, allowance#1005.amount AS allowance_amount#63L]\n                                                                                                +- Relation [allowance#1005,event#1006,user#1007] json\n"
     ]
    }
   ],
   "source": [
    "all_backend_table_truth.withColumn(\"update_next_day\",next_payment_day_weekly_frequency(\"updated_at\",None) ).show()\n",
    "\n",
    "\n",
    "# test_next_update.show()\n",
    "\n",
    "# pie_chart(\n",
    "#     test_next_update_daily.toPandas(),\n",
    "#     \"update_correct\",\n",
    "#     \"proportion\",\n",
    "#     category_orders={\"update_correct\": [\"correct\", \"wrong\"]},\n",
    "# )"
   ]
  },
  {
   "cell_type": "code",
   "execution_count": null,
   "metadata": {},
   "outputs": [
    {
     "name": "stdout",
     "output_type": "stream",
     "text": [
      "+----------------+-----------------------+-----------------------------+-----------------+-------------------+--------------------+\n",
      "|allowance_amount|allowance_scheduled_day|allowance_scheduled_frequency|       event_name|    event_timestamp|             user_id|\n",
      "+----------------+-----------------------+-----------------------------+-----------------+-------------------+--------------------+\n",
      "|              20|               saturday|                       weekly|allowance.created|2024-11-28 07:10:16|38f8d838-ea08-4fd...|\n",
      "|               5|          fifteenth_day|                      monthly|allowance.created|2024-09-05 13:30:38|9748cdad-69a4-400...|\n",
      "|               5|               saturday|                       weekly|allowance.created|2024-10-21 17:27:50|8252c070-2698-49d...|\n",
      "|               3|                 monday|                     biweekly| allowance.edited|2024-11-06 12:53:31|3c700c10-3d42-49a...|\n",
      "|              10|                 friday|                     biweekly|allowance.created|2024-11-23 07:56:18|d6331731-dafe-4bb...|\n",
      "|              20|                  daily|                        daily| allowance.edited|2024-10-14 17:33:57|d299d804-0d05-48c...|\n",
      "|              10|          fifteenth_day|                      monthly| allowance.edited|2024-10-15 18:29:55|d299d804-0d05-48c...|\n",
      "|              20|              first_day|                      monthly| allowance.edited|2024-09-21 17:02:11|113d8189-3ce0-47b...|\n",
      "|               1|                 monday|                     biweekly| allowance.edited|2024-10-15 10:02:59|c3e2b88d-75fc-449...|\n",
      "|               5|                 friday|                       weekly| allowance.edited|2024-08-06 14:03:58|ba179220-3b79-429...|\n",
      "|              15|                 sunday|                       weekly| allowance.edited|2024-08-10 07:21:42|8c212fdf-895b-4d3...|\n",
      "|               4|                 monday|                     biweekly|allowance.created|2024-09-07 08:14:12|138a678d-b0eb-46a...|\n",
      "|              10|                 friday|                       weekly| allowance.edited|2024-08-08 08:12:00|03bc2115-7d48-4be...|\n",
      "|               5|              first_day|                      monthly| allowance.edited|2024-11-10 07:28:22|e48bb548-a87a-406...|\n",
      "|              20|               saturday|                       weekly|allowance.created|2024-08-26 17:05:52|3f046523-49b3-4ef...|\n",
      "|              10|              wednesday|                     biweekly|allowance.created|2024-10-19 05:03:41|9af3c140-86b0-403...|\n",
      "|              10|          fifteenth_day|                      monthly| allowance.edited|2024-09-06 17:54:33|63a03a70-da6b-452...|\n",
      "|              20|                 sunday|                       weekly| allowance.edited|2024-11-15 09:12:13|62023832-c468-45f...|\n",
      "|             200|                 friday|                       weekly| allowance.edited|2024-10-31 03:53:41|560c5cf4-5fd8-447...|\n",
      "|              10|                 friday|                       weekly|allowance.created|2024-10-22 13:59:37|61609771-d5b0-46d...|\n",
      "+----------------+-----------------------+-----------------------------+-----------------+-------------------+--------------------+\n",
      "only showing top 20 rows\n",
      "\n"
     ]
    }
   ],
   "source": [
    "cleaned_events.show()"
   ]
  },
  {
   "cell_type": "code",
   "execution_count": null,
   "metadata": {},
   "outputs": [],
   "source": []
  },
  {
   "cell_type": "code",
   "execution_count": 189,
   "metadata": {},
   "outputs": [
    {
     "data": {
      "application/vnd.plotly.v1+json": {
       "config": {
        "plotlyServerURL": "https://plot.ly"
       },
       "data": [
        {
         "alignmentgroup": "True",
         "bingroup": "x",
         "hovertemplate": "how_old_was_last_update=%{x}<br>count=%{y}<extra></extra>",
         "legendgroup": "",
         "marker": {
          "color": "#636efa",
          "pattern": {
           "shape": ""
          }
         },
         "name": "",
         "offsetgroup": "",
         "orientation": "v",
         "showlegend": false,
         "type": "histogram",
         "x": [
          20,
          5,
          83,
          80,
          57,
          20,
          15,
          75,
          49,
          85,
          91,
          84,
          8,
          32,
          18,
          17,
          69,
          58,
          63,
          75,
          14,
          88,
          8,
          5,
          11,
          66,
          3,
          55,
          19,
          3,
          90,
          5,
          8,
          73,
          89,
          62,
          17,
          69,
          87,
          17,
          50,
          72,
          32,
          60,
          2,
          2,
          31,
          80,
          17,
          2,
          18,
          78,
          99,
          33,
          65,
          12,
          2,
          2,
          4,
          49,
          2,
          2,
          6,
          18,
          39,
          1,
          2,
          1,
          54,
          39,
          14,
          24,
          50,
          49,
          65,
          3,
          50,
          2,
          24,
          32,
          2,
          2,
          32,
          60,
          14,
          18,
          0,
          44,
          49,
          16,
          32,
          2,
          2,
          18,
          2,
          101,
          42,
          2,
          10,
          34,
          2,
          7,
          63,
          61,
          2,
          18,
          18,
          18,
          35,
          1,
          50,
          2,
          18,
          18,
          27,
          2,
          6,
          32,
          2,
          49,
          128,
          13,
          2,
          78,
          18,
          50,
          2,
          21,
          49,
          61,
          71,
          2,
          2,
          2,
          2,
          2,
          35,
          23,
          2,
          60,
          2,
          80,
          2,
          2,
          6,
          18,
          18,
          58,
          2,
          51,
          22,
          53,
          2,
          55,
          2,
          23,
          2,
          58,
          18,
          62,
          18,
          32,
          2,
          72,
          2,
          3,
          13,
          18,
          63,
          2,
          2,
          7,
          60,
          32,
          32,
          32,
          38,
          17,
          56,
          2,
          67,
          25,
          55,
          14,
          2,
          47,
          34,
          2,
          69,
          2,
          49,
          5,
          10,
          1,
          84,
          34,
          18,
          18,
          2,
          2,
          18,
          2,
          2,
          35,
          70,
          67,
          4,
          75,
          2,
          15,
          32,
          2,
          2,
          2,
          62,
          2,
          41,
          3,
          54,
          90,
          2,
          2,
          2,
          75,
          18,
          2,
          2,
          50,
          70,
          20,
          2,
          2,
          2,
          14,
          20,
          23,
          45,
          18,
          58,
          97,
          71,
          44,
          57,
          4,
          3,
          57,
          2,
          90,
          63,
          2,
          63,
          56,
          2,
          2,
          2,
          2,
          35,
          2,
          20,
          63,
          25,
          2,
          32,
          18,
          6,
          60,
          2,
          55,
          2,
          27,
          32,
          70,
          18,
          2,
          124,
          24,
          16,
          2,
          80,
          62,
          20,
          2,
          2,
          63,
          2,
          0,
          25,
          7,
          2,
          2,
          18,
          2,
          83,
          103,
          2,
          11,
          18,
          2,
          2,
          2,
          2,
          93,
          2,
          18,
          66,
          63,
          55,
          2,
          2,
          74,
          41,
          18,
          2,
          80,
          2,
          18,
          49,
          4,
          45,
          2,
          49,
          18,
          3,
          70,
          18,
          32,
          16,
          2,
          42,
          2,
          32,
          18,
          63,
          51,
          2,
          2,
          2,
          2,
          18,
          84,
          2,
          82,
          2,
          55,
          2,
          18,
          2,
          32,
          2,
          2,
          87,
          4,
          2,
          59,
          52,
          1,
          7,
          2,
          2,
          49,
          20,
          18,
          32,
          22,
          2,
          2,
          22,
          2,
          67,
          2,
          32,
          2,
          18,
          2,
          79,
          73,
          2,
          1,
          2,
          32,
          2,
          4,
          10,
          31,
          32,
          2,
          2,
          32,
          67,
          18,
          48,
          80,
          103,
          2,
          2,
          8,
          5,
          114,
          32,
          63,
          2,
          2,
          2,
          2,
          32,
          8,
          23,
          2,
          2,
          63,
          2,
          18,
          36,
          10,
          63,
          36,
          38,
          8,
          7,
          11,
          18,
          2,
          66,
          2,
          2,
          5,
          83,
          2,
          7,
          64,
          53,
          32,
          2,
          4,
          76,
          32,
          2,
          9,
          2,
          26,
          1,
          78,
          2,
          68,
          59,
          32,
          8,
          32,
          18,
          2,
          2,
          18,
          32,
          90,
          28,
          2,
          7,
          38,
          2,
          25,
          2,
          2,
          3,
          38,
          18,
          34,
          2,
          18,
          1,
          18,
          32,
          45,
          80,
          45,
          2,
          2,
          59,
          49,
          18,
          20,
          2,
          2,
          75,
          32,
          22,
          18,
          27,
          11,
          5,
          32,
          64,
          73,
          2,
          7,
          4,
          34,
          44,
          76,
          62,
          11,
          10,
          36,
          48,
          60,
          85,
          7,
          4,
          10,
          26,
          38,
          75,
          5,
          21,
          16,
          44,
          4,
          4,
          74,
          52,
          5,
          11,
          10,
          10,
          117,
          50,
          6,
          6,
          41,
          3,
          70,
          11,
          25,
          42,
          1,
          81,
          88,
          11,
          4,
          74,
          84,
          7,
          5,
          3,
          53,
          74,
          8,
          11,
          4,
          4,
          53,
          79,
          9,
          2,
          12,
          50,
          99,
          75,
          11,
          51,
          80,
          70,
          5,
          11,
          94,
          17,
          16,
          35,
          4,
          11,
          4,
          20,
          7,
          30,
          44,
          8,
          80,
          6,
          21,
          49,
          59,
          24,
          8,
          35,
          82,
          11,
          81,
          13,
          3,
          51,
          12,
          8,
          2,
          68,
          8,
          28,
          55,
          4,
          53,
          16,
          130,
          73,
          19,
          19,
          2,
          65,
          11,
          119,
          25,
          45,
          36,
          6,
          4,
          1,
          45,
          92,
          29,
          3,
          25,
          17,
          7,
          64,
          11,
          45,
          11,
          5,
          4,
          78,
          7,
          4,
          57,
          9,
          2,
          57,
          54,
          11,
          5,
          11,
          26,
          42,
          11,
          64,
          11,
          65,
          5,
          1,
          75,
          55,
          84,
          73,
          29,
          0,
          23,
          11,
          8,
          25,
          3,
          8,
          15,
          6,
          99,
          71,
          1,
          37,
          51,
          13,
          8,
          13,
          42,
          1,
          69,
          97,
          74,
          1,
          4,
          13,
          13,
          3,
          10,
          11,
          6,
          1,
          11,
          26,
          84,
          96,
          91,
          86,
          12,
          29,
          73,
          20,
          1,
          58,
          72,
          10,
          5,
          4,
          59,
          7,
          4,
          22,
          46,
          60,
          39,
          120,
          67,
          13,
          13,
          64,
          25,
          15,
          9,
          1,
          8,
          24,
          15,
          51,
          7,
          2,
          40,
          11,
          87,
          6,
          33,
          25,
          64,
          77,
          85,
          61,
          27,
          33,
          11,
          9,
          91,
          90,
          2,
          4,
          99,
          2,
          11,
          12,
          20,
          11,
          89,
          11,
          11,
          7,
          72,
          51,
          74,
          123,
          31,
          4,
          48,
          8,
          129,
          11,
          4,
          73,
          11,
          25,
          11,
          5,
          10,
          69,
          29,
          26,
          10,
          26,
          117,
          4,
          2,
          12,
          20,
          2,
          58,
          1,
          4,
          82,
          12,
          4,
          6,
          84,
          127,
          64,
          0,
          71,
          39,
          1,
          1,
          16,
          55,
          1,
          7,
          1,
          8,
          58,
          4,
          24,
          39,
          11,
          11,
          29,
          21,
          4,
          4,
          27,
          6,
          22,
          32,
          5,
          95,
          50,
          34,
          57,
          18,
          64,
          48,
          13,
          70,
          8,
          8,
          89,
          42,
          8,
          68,
          6,
          60,
          83,
          8,
          3,
          11,
          5,
          72,
          64,
          1,
          81,
          11,
          16,
          11,
          11,
          55,
          11,
          103,
          1,
          4,
          9,
          71,
          81,
          7,
          101,
          7,
          10,
          94,
          90,
          11,
          4,
          70,
          11,
          13,
          9,
          51,
          50,
          8,
          25,
          80,
          9,
          86,
          92,
          36,
          84,
          78,
          34,
          1,
          1,
          21,
          6,
          8,
          1,
          6,
          11,
          118,
          12,
          7,
          116,
          1,
          5,
          81,
          4,
          0,
          85,
          4,
          76,
          4,
          43,
          87,
          11,
          46,
          52,
          8,
          31,
          17,
          0,
          1,
          6,
          33,
          5,
          11,
          2,
          69,
          73,
          73,
          8,
          25,
          4,
          17,
          62,
          5,
          5,
          57,
          123,
          0,
          38,
          4,
          22,
          2,
          67,
          11,
          11,
          26,
          76,
          3,
          11,
          11,
          27,
          50,
          81,
          4,
          64,
          25,
          12,
          79,
          1,
          28,
          11,
          29,
          125,
          30,
          53,
          68,
          51,
          5,
          45,
          45,
          90,
          10,
          15,
          1,
          8,
          121,
          69,
          75,
          13,
          9,
          16,
          39,
          5,
          24,
          6,
          7,
          47,
          6,
          8,
          73,
          47,
          45,
          87,
          18,
          11,
          1,
          5,
          8,
          3,
          0,
          9,
          58,
          22,
          6,
          10,
          23,
          2,
          10,
          95,
          5,
          9,
          55,
          85,
          0,
          66,
          1,
          4,
          51,
          4,
          55,
          68,
          74,
          42,
          74,
          4,
          78,
          19,
          5,
          90,
          89,
          42,
          26,
          84,
          5,
          4,
          33,
          3,
          67,
          8,
          12,
          4,
          4,
          11,
          56,
          70,
          5,
          1,
          40,
          4,
          64,
          26,
          18,
          3,
          0,
          11,
          65,
          4,
          82,
          55,
          13,
          4,
          45,
          80,
          45,
          28,
          4,
          49,
          10,
          4,
          4,
          91,
          13,
          33,
          3,
          92,
          75,
          28,
          82,
          49,
          30,
          10,
          11,
          69,
          30,
          2,
          39,
          106,
          10,
          99,
          73,
          44,
          52,
          32,
          29,
          2,
          92,
          1,
          6,
          2,
          65,
          4,
          11,
          12,
          89,
          88,
          113,
          88,
          4,
          18,
          15,
          68,
          9,
          4,
          53,
          11,
          8,
          4,
          4,
          7,
          8,
          120,
          12,
          104,
          103,
          4,
          4,
          11,
          8,
          12,
          90,
          5,
          11,
          13,
          4,
          92,
          19,
          19,
          26,
          8,
          19,
          53,
          4,
          91,
          81,
          75,
          79,
          11,
          11,
          72,
          32,
          4,
          85,
          70,
          59,
          12,
          1,
          53,
          11,
          11,
          81,
          11,
          89,
          57,
          117,
          2,
          81,
          87,
          1,
          39,
          17,
          4,
          7,
          10,
          10,
          8,
          80,
          68,
          41,
          39,
          83,
          91,
          1,
          11,
          8,
          53,
          79,
          4,
          4,
          10,
          130,
          30,
          3,
          80,
          39,
          4,
          36,
          82,
          11,
          57,
          45,
          5,
          10,
          37,
          32,
          11,
          4,
          73,
          21,
          11,
          10,
          10,
          9,
          59,
          88,
          81,
          113,
          50,
          64,
          6,
          25,
          7,
          34,
          51,
          6,
          17,
          8,
          23,
          33,
          4,
          4,
          5,
          11,
          25,
          17,
          46,
          6,
          47,
          82,
          11,
          63,
          54,
          90,
          42,
          113,
          4,
          5,
          8,
          76,
          11,
          79,
          38,
          26,
          91,
          25,
          4,
          49,
          51,
          3,
          12,
          1,
          66,
          89,
          12,
          4,
          4,
          1,
          8,
          2,
          11,
          11,
          78,
          47,
          4,
          60,
          9,
          39,
          23,
          50,
          6,
          32,
          16,
          1,
          34,
          127,
          81,
          93,
          1,
          1,
          11,
          11,
          0,
          39,
          67,
          91,
          123,
          12,
          19,
          44,
          2,
          4,
          1,
          0,
          1,
          41,
          5,
          4,
          85,
          4,
          101,
          90,
          9,
          13,
          26,
          11,
          4,
          72,
          40,
          102,
          4,
          4,
          92,
          5,
          39,
          39,
          11,
          4,
          108,
          4,
          9,
          4,
          18,
          12,
          4,
          1,
          113,
          11,
          4,
          8,
          29,
          50,
          4,
          16,
          19,
          9,
          11,
          10,
          7,
          10,
          6,
          39,
          126,
          37,
          8,
          9,
          48,
          2,
          55,
          5,
          34,
          67,
          41,
          12,
          2,
          4,
          4,
          48,
          90,
          11,
          32,
          11,
          3,
          4,
          119,
          50,
          67,
          5,
          3,
          115,
          4,
          42,
          5,
          2,
          2,
          122,
          8,
          14,
          4,
          4,
          1,
          1,
          2,
          79,
          54,
          75,
          2,
          52,
          2,
          4,
          4,
          2,
          22,
          4,
          4,
          42,
          2,
          4,
          3,
          3,
          21,
          24,
          4,
          4,
          83,
          2,
          57,
          4,
          6,
          6,
          4,
          1,
          26,
          41,
          26,
          62,
          4,
          7,
          99,
          18,
          1,
          25,
          26,
          4,
          87,
          4,
          2,
          34,
          8,
          53,
          5,
          19,
          24,
          22,
          92,
          1,
          2,
          57,
          40,
          4,
          18,
          32,
          4,
          4,
          12,
          2,
          11,
          3,
          124,
          1,
          4,
          57,
          11,
          10,
          4,
          6,
          4,
          1,
          32,
          39,
          62,
          4,
          74,
          4,
          1,
          29,
          4,
          0,
          73,
          0,
          5,
          6,
          24,
          32,
          46,
          53,
          3,
          5,
          32,
          4,
          5,
          4,
          23,
          122,
          9,
          93,
          17,
          63,
          34,
          2,
          4,
          4,
          4,
          2,
          85,
          89,
          1,
          3,
          19,
          4,
          4,
          2,
          18,
          49,
          4,
          15,
          95,
          8,
          1,
          4,
          4,
          22,
          41,
          25,
          4,
          45,
          18,
          18,
          25,
          27,
          25,
          4,
          64,
          4,
          17,
          2,
          4,
          24,
          16,
          67,
          1,
          4,
          1,
          25,
          72,
          4,
          4,
          1,
          4,
          26,
          3,
          4,
          53,
          38,
          116,
          1,
          15,
          4,
          65,
          4,
          25,
          0,
          4,
          2,
          4,
          11,
          99,
          51,
          9,
          5,
          4,
          11,
          4,
          4,
          96,
          25,
          64,
          3,
          4,
          53,
          4,
          112,
          1,
          3,
          6,
          6,
          60,
          11,
          3,
          15,
          4,
          38,
          54,
          4,
          4,
          3,
          3,
          2,
          4,
          4,
          23,
          3,
          1,
          18,
          67,
          16,
          4,
          3,
          4,
          10,
          63,
          1,
          2,
          8,
          82,
          6,
          100,
          4,
          4,
          1,
          2,
          32,
          4,
          19,
          27,
          4,
          4,
          1,
          69,
          1,
          1,
          96,
          109,
          1,
          67,
          10,
          0,
          51,
          1,
          2,
          54,
          2,
          5,
          2,
          33,
          4,
          25,
          5,
          6,
          4,
          4,
          64,
          46,
          67,
          1,
          3,
          2,
          4,
          4,
          25,
          4,
          8,
          42,
          3,
          53,
          16,
          103,
          19,
          1,
          32,
          0,
          76,
          18,
          2,
          65,
          32,
          5,
          5,
          4,
          4,
          0,
          2,
          10,
          4,
          2,
          22,
          13,
          32,
          3,
          1,
          1,
          4,
          5,
          53,
          4,
          2,
          25,
          1,
          4,
          1,
          3,
          29,
          15,
          60,
          4,
          37,
          53,
          40,
          22,
          21,
          75,
          25,
          16,
          2,
          125,
          4,
          1,
          64,
          19,
          2,
          37,
          106,
          17,
          3,
          60,
          27,
          0,
          25,
          4,
          4,
          6,
          46,
          10,
          53,
          0,
          28,
          74,
          4,
          8,
          2,
          41,
          41,
          4,
          47,
          67,
          4,
          71,
          2,
          10,
          9,
          6,
          64,
          27,
          16,
          4,
          60,
          0,
          11,
          0,
          1,
          2,
          3,
          71,
          6,
          3,
          40,
          40,
          29,
          2,
          68,
          4,
          6,
          27,
          62,
          1,
          26,
          26,
          4,
          1,
          11,
          60,
          1,
          4,
          19,
          53,
          3,
          2,
          109,
          32,
          92,
          2,
          40,
          4,
          61,
          21,
          4,
          23,
          95,
          4,
          125,
          51,
          39,
          70,
          47,
          6,
          6,
          18,
          4,
          2,
          2,
          31,
          67,
          23,
          87,
          4,
          2,
          16,
          26,
          99,
          4,
          4,
          48,
          34,
          64,
          18,
          31,
          2,
          40,
          25,
          1,
          32,
          61,
          85,
          32,
          47,
          48,
          2,
          27,
          4,
          4,
          4,
          3,
          60,
          35,
          128,
          39,
          3,
          4,
          2,
          2,
          4,
          95,
          63,
          4,
          32,
          69,
          1,
          9,
          2,
          15,
          4,
          29,
          0,
          125,
          2,
          11,
          4,
          4,
          48,
          2,
          82,
          4,
          9,
          32,
          0,
          63,
          68,
          4,
          4,
          2,
          35,
          2,
          4,
          4,
          1,
          25,
          4,
          70,
          4,
          3,
          4,
          2,
          4,
          23,
          62,
          49,
          14,
          43,
          4,
          4,
          52,
          25,
          3,
          2,
          2,
          2,
          1,
          4,
          4,
          2,
          3,
          3,
          46,
          19,
          65,
          18,
          87,
          23,
          6,
          0,
          46,
          1,
          2,
          67,
          4,
          1,
          4,
          35,
          1,
          12,
          2,
          4,
          87,
          4,
          11,
          5,
          24,
          0,
          3,
          42,
          18,
          11,
          6,
          60,
          18,
          2,
          2,
          43,
          6,
          2,
          82,
          32,
          11,
          11,
          22,
          2,
          11,
          25,
          2,
          78,
          4,
          2,
          4,
          4,
          3,
          23,
          102,
          1,
          32,
          16,
          28,
          0,
          4,
          46,
          4,
          4,
          46,
          16,
          124,
          4,
          4,
          0,
          4,
          5,
          5,
          64,
          1,
          3,
          23,
          26,
          24,
          64,
          2,
          95,
          18,
          37,
          17,
          4,
          3,
          2,
          2,
          3,
          4,
          47,
          77,
          2,
          3,
          2,
          1,
          3,
          24,
          0,
          17,
          4,
          18,
          4,
          85,
          62,
          2,
          25,
          4,
          3,
          18,
          43,
          7,
          5,
          32,
          3,
          95,
          4,
          18,
          3,
          4,
          58,
          15,
          3,
          118,
          4,
          0,
          32,
          2,
          15,
          89,
          72,
          11,
          6,
          54,
          2,
          2,
          3,
          4,
          61,
          44,
          16,
          46,
          73,
          2,
          54,
          24,
          57,
          67,
          5,
          4,
          3,
          81,
          6,
          25,
          4,
          39,
          72,
          7,
          4,
          65,
          18,
          31,
          52,
          6,
          2,
          1,
          3,
          1,
          53,
          32,
          2,
          41,
          70,
          90,
          4,
          5,
          75,
          4,
          45,
          10,
          18,
          4,
          4,
          1,
          5,
          2,
          1,
          82,
          3,
          53,
          4,
          1,
          44,
          5,
          1,
          4,
          10,
          2,
          1,
          4,
          4,
          2,
          1,
          0,
          18,
          17,
          10,
          11,
          4,
          4,
          4,
          11,
          2,
          44,
          43,
          6,
          4,
          7,
          14
         ],
         "xaxis": "x",
         "yaxis": "y"
        }
       ],
       "layout": {
        "barmode": "relative",
        "legend": {
         "tracegroupgap": 0
        },
        "template": {
         "data": {
          "bar": [
           {
            "error_x": {
             "color": "#2a3f5f"
            },
            "error_y": {
             "color": "#2a3f5f"
            },
            "marker": {
             "line": {
              "color": "#E5ECF6",
              "width": 0.5
             },
             "pattern": {
              "fillmode": "overlay",
              "size": 10,
              "solidity": 0.2
             }
            },
            "type": "bar"
           }
          ],
          "barpolar": [
           {
            "marker": {
             "line": {
              "color": "#E5ECF6",
              "width": 0.5
             },
             "pattern": {
              "fillmode": "overlay",
              "size": 10,
              "solidity": 0.2
             }
            },
            "type": "barpolar"
           }
          ],
          "carpet": [
           {
            "aaxis": {
             "endlinecolor": "#2a3f5f",
             "gridcolor": "white",
             "linecolor": "white",
             "minorgridcolor": "white",
             "startlinecolor": "#2a3f5f"
            },
            "baxis": {
             "endlinecolor": "#2a3f5f",
             "gridcolor": "white",
             "linecolor": "white",
             "minorgridcolor": "white",
             "startlinecolor": "#2a3f5f"
            },
            "type": "carpet"
           }
          ],
          "choropleth": [
           {
            "colorbar": {
             "outlinewidth": 0,
             "ticks": ""
            },
            "type": "choropleth"
           }
          ],
          "contour": [
           {
            "colorbar": {
             "outlinewidth": 0,
             "ticks": ""
            },
            "colorscale": [
             [
              0,
              "#0d0887"
             ],
             [
              0.1111111111111111,
              "#46039f"
             ],
             [
              0.2222222222222222,
              "#7201a8"
             ],
             [
              0.3333333333333333,
              "#9c179e"
             ],
             [
              0.4444444444444444,
              "#bd3786"
             ],
             [
              0.5555555555555556,
              "#d8576b"
             ],
             [
              0.6666666666666666,
              "#ed7953"
             ],
             [
              0.7777777777777778,
              "#fb9f3a"
             ],
             [
              0.8888888888888888,
              "#fdca26"
             ],
             [
              1,
              "#f0f921"
             ]
            ],
            "type": "contour"
           }
          ],
          "contourcarpet": [
           {
            "colorbar": {
             "outlinewidth": 0,
             "ticks": ""
            },
            "type": "contourcarpet"
           }
          ],
          "heatmap": [
           {
            "colorbar": {
             "outlinewidth": 0,
             "ticks": ""
            },
            "colorscale": [
             [
              0,
              "#0d0887"
             ],
             [
              0.1111111111111111,
              "#46039f"
             ],
             [
              0.2222222222222222,
              "#7201a8"
             ],
             [
              0.3333333333333333,
              "#9c179e"
             ],
             [
              0.4444444444444444,
              "#bd3786"
             ],
             [
              0.5555555555555556,
              "#d8576b"
             ],
             [
              0.6666666666666666,
              "#ed7953"
             ],
             [
              0.7777777777777778,
              "#fb9f3a"
             ],
             [
              0.8888888888888888,
              "#fdca26"
             ],
             [
              1,
              "#f0f921"
             ]
            ],
            "type": "heatmap"
           }
          ],
          "heatmapgl": [
           {
            "colorbar": {
             "outlinewidth": 0,
             "ticks": ""
            },
            "colorscale": [
             [
              0,
              "#0d0887"
             ],
             [
              0.1111111111111111,
              "#46039f"
             ],
             [
              0.2222222222222222,
              "#7201a8"
             ],
             [
              0.3333333333333333,
              "#9c179e"
             ],
             [
              0.4444444444444444,
              "#bd3786"
             ],
             [
              0.5555555555555556,
              "#d8576b"
             ],
             [
              0.6666666666666666,
              "#ed7953"
             ],
             [
              0.7777777777777778,
              "#fb9f3a"
             ],
             [
              0.8888888888888888,
              "#fdca26"
             ],
             [
              1,
              "#f0f921"
             ]
            ],
            "type": "heatmapgl"
           }
          ],
          "histogram": [
           {
            "marker": {
             "pattern": {
              "fillmode": "overlay",
              "size": 10,
              "solidity": 0.2
             }
            },
            "type": "histogram"
           }
          ],
          "histogram2d": [
           {
            "colorbar": {
             "outlinewidth": 0,
             "ticks": ""
            },
            "colorscale": [
             [
              0,
              "#0d0887"
             ],
             [
              0.1111111111111111,
              "#46039f"
             ],
             [
              0.2222222222222222,
              "#7201a8"
             ],
             [
              0.3333333333333333,
              "#9c179e"
             ],
             [
              0.4444444444444444,
              "#bd3786"
             ],
             [
              0.5555555555555556,
              "#d8576b"
             ],
             [
              0.6666666666666666,
              "#ed7953"
             ],
             [
              0.7777777777777778,
              "#fb9f3a"
             ],
             [
              0.8888888888888888,
              "#fdca26"
             ],
             [
              1,
              "#f0f921"
             ]
            ],
            "type": "histogram2d"
           }
          ],
          "histogram2dcontour": [
           {
            "colorbar": {
             "outlinewidth": 0,
             "ticks": ""
            },
            "colorscale": [
             [
              0,
              "#0d0887"
             ],
             [
              0.1111111111111111,
              "#46039f"
             ],
             [
              0.2222222222222222,
              "#7201a8"
             ],
             [
              0.3333333333333333,
              "#9c179e"
             ],
             [
              0.4444444444444444,
              "#bd3786"
             ],
             [
              0.5555555555555556,
              "#d8576b"
             ],
             [
              0.6666666666666666,
              "#ed7953"
             ],
             [
              0.7777777777777778,
              "#fb9f3a"
             ],
             [
              0.8888888888888888,
              "#fdca26"
             ],
             [
              1,
              "#f0f921"
             ]
            ],
            "type": "histogram2dcontour"
           }
          ],
          "mesh3d": [
           {
            "colorbar": {
             "outlinewidth": 0,
             "ticks": ""
            },
            "type": "mesh3d"
           }
          ],
          "parcoords": [
           {
            "line": {
             "colorbar": {
              "outlinewidth": 0,
              "ticks": ""
             }
            },
            "type": "parcoords"
           }
          ],
          "pie": [
           {
            "automargin": true,
            "type": "pie"
           }
          ],
          "scatter": [
           {
            "fillpattern": {
             "fillmode": "overlay",
             "size": 10,
             "solidity": 0.2
            },
            "type": "scatter"
           }
          ],
          "scatter3d": [
           {
            "line": {
             "colorbar": {
              "outlinewidth": 0,
              "ticks": ""
             }
            },
            "marker": {
             "colorbar": {
              "outlinewidth": 0,
              "ticks": ""
             }
            },
            "type": "scatter3d"
           }
          ],
          "scattercarpet": [
           {
            "marker": {
             "colorbar": {
              "outlinewidth": 0,
              "ticks": ""
             }
            },
            "type": "scattercarpet"
           }
          ],
          "scattergeo": [
           {
            "marker": {
             "colorbar": {
              "outlinewidth": 0,
              "ticks": ""
             }
            },
            "type": "scattergeo"
           }
          ],
          "scattergl": [
           {
            "marker": {
             "colorbar": {
              "outlinewidth": 0,
              "ticks": ""
             }
            },
            "type": "scattergl"
           }
          ],
          "scattermapbox": [
           {
            "marker": {
             "colorbar": {
              "outlinewidth": 0,
              "ticks": ""
             }
            },
            "type": "scattermapbox"
           }
          ],
          "scatterpolar": [
           {
            "marker": {
             "colorbar": {
              "outlinewidth": 0,
              "ticks": ""
             }
            },
            "type": "scatterpolar"
           }
          ],
          "scatterpolargl": [
           {
            "marker": {
             "colorbar": {
              "outlinewidth": 0,
              "ticks": ""
             }
            },
            "type": "scatterpolargl"
           }
          ],
          "scatterternary": [
           {
            "marker": {
             "colorbar": {
              "outlinewidth": 0,
              "ticks": ""
             }
            },
            "type": "scatterternary"
           }
          ],
          "surface": [
           {
            "colorbar": {
             "outlinewidth": 0,
             "ticks": ""
            },
            "colorscale": [
             [
              0,
              "#0d0887"
             ],
             [
              0.1111111111111111,
              "#46039f"
             ],
             [
              0.2222222222222222,
              "#7201a8"
             ],
             [
              0.3333333333333333,
              "#9c179e"
             ],
             [
              0.4444444444444444,
              "#bd3786"
             ],
             [
              0.5555555555555556,
              "#d8576b"
             ],
             [
              0.6666666666666666,
              "#ed7953"
             ],
             [
              0.7777777777777778,
              "#fb9f3a"
             ],
             [
              0.8888888888888888,
              "#fdca26"
             ],
             [
              1,
              "#f0f921"
             ]
            ],
            "type": "surface"
           }
          ],
          "table": [
           {
            "cells": {
             "fill": {
              "color": "#EBF0F8"
             },
             "line": {
              "color": "white"
             }
            },
            "header": {
             "fill": {
              "color": "#C8D4E3"
             },
             "line": {
              "color": "white"
             }
            },
            "type": "table"
           }
          ]
         },
         "layout": {
          "annotationdefaults": {
           "arrowcolor": "#2a3f5f",
           "arrowhead": 0,
           "arrowwidth": 1
          },
          "autotypenumbers": "strict",
          "coloraxis": {
           "colorbar": {
            "outlinewidth": 0,
            "ticks": ""
           }
          },
          "colorscale": {
           "diverging": [
            [
             0,
             "#8e0152"
            ],
            [
             0.1,
             "#c51b7d"
            ],
            [
             0.2,
             "#de77ae"
            ],
            [
             0.3,
             "#f1b6da"
            ],
            [
             0.4,
             "#fde0ef"
            ],
            [
             0.5,
             "#f7f7f7"
            ],
            [
             0.6,
             "#e6f5d0"
            ],
            [
             0.7,
             "#b8e186"
            ],
            [
             0.8,
             "#7fbc41"
            ],
            [
             0.9,
             "#4d9221"
            ],
            [
             1,
             "#276419"
            ]
           ],
           "sequential": [
            [
             0,
             "#0d0887"
            ],
            [
             0.1111111111111111,
             "#46039f"
            ],
            [
             0.2222222222222222,
             "#7201a8"
            ],
            [
             0.3333333333333333,
             "#9c179e"
            ],
            [
             0.4444444444444444,
             "#bd3786"
            ],
            [
             0.5555555555555556,
             "#d8576b"
            ],
            [
             0.6666666666666666,
             "#ed7953"
            ],
            [
             0.7777777777777778,
             "#fb9f3a"
            ],
            [
             0.8888888888888888,
             "#fdca26"
            ],
            [
             1,
             "#f0f921"
            ]
           ],
           "sequentialminus": [
            [
             0,
             "#0d0887"
            ],
            [
             0.1111111111111111,
             "#46039f"
            ],
            [
             0.2222222222222222,
             "#7201a8"
            ],
            [
             0.3333333333333333,
             "#9c179e"
            ],
            [
             0.4444444444444444,
             "#bd3786"
            ],
            [
             0.5555555555555556,
             "#d8576b"
            ],
            [
             0.6666666666666666,
             "#ed7953"
            ],
            [
             0.7777777777777778,
             "#fb9f3a"
            ],
            [
             0.8888888888888888,
             "#fdca26"
            ],
            [
             1,
             "#f0f921"
            ]
           ]
          },
          "colorway": [
           "#636efa",
           "#EF553B",
           "#00cc96",
           "#ab63fa",
           "#FFA15A",
           "#19d3f3",
           "#FF6692",
           "#B6E880",
           "#FF97FF",
           "#FECB52"
          ],
          "font": {
           "color": "#2a3f5f"
          },
          "geo": {
           "bgcolor": "white",
           "lakecolor": "white",
           "landcolor": "#E5ECF6",
           "showlakes": true,
           "showland": true,
           "subunitcolor": "white"
          },
          "hoverlabel": {
           "align": "left"
          },
          "hovermode": "closest",
          "mapbox": {
           "style": "light"
          },
          "paper_bgcolor": "white",
          "plot_bgcolor": "#E5ECF6",
          "polar": {
           "angularaxis": {
            "gridcolor": "white",
            "linecolor": "white",
            "ticks": ""
           },
           "bgcolor": "#E5ECF6",
           "radialaxis": {
            "gridcolor": "white",
            "linecolor": "white",
            "ticks": ""
           }
          },
          "scene": {
           "xaxis": {
            "backgroundcolor": "#E5ECF6",
            "gridcolor": "white",
            "gridwidth": 2,
            "linecolor": "white",
            "showbackground": true,
            "ticks": "",
            "zerolinecolor": "white"
           },
           "yaxis": {
            "backgroundcolor": "#E5ECF6",
            "gridcolor": "white",
            "gridwidth": 2,
            "linecolor": "white",
            "showbackground": true,
            "ticks": "",
            "zerolinecolor": "white"
           },
           "zaxis": {
            "backgroundcolor": "#E5ECF6",
            "gridcolor": "white",
            "gridwidth": 2,
            "linecolor": "white",
            "showbackground": true,
            "ticks": "",
            "zerolinecolor": "white"
           }
          },
          "shapedefaults": {
           "line": {
            "color": "#2a3f5f"
           }
          },
          "ternary": {
           "aaxis": {
            "gridcolor": "white",
            "linecolor": "white",
            "ticks": ""
           },
           "baxis": {
            "gridcolor": "white",
            "linecolor": "white",
            "ticks": ""
           },
           "bgcolor": "#E5ECF6",
           "caxis": {
            "gridcolor": "white",
            "linecolor": "white",
            "ticks": ""
           }
          },
          "title": {
           "x": 0.05
          },
          "xaxis": {
           "automargin": true,
           "gridcolor": "white",
           "linecolor": "white",
           "ticks": "",
           "title": {
            "standoff": 15
           },
           "zerolinecolor": "white",
           "zerolinewidth": 2
          },
          "yaxis": {
           "automargin": true,
           "gridcolor": "white",
           "linecolor": "white",
           "ticks": "",
           "title": {
            "standoff": 15
           },
           "zerolinecolor": "white",
           "zerolinewidth": 2
          }
         }
        },
        "title": {
         "text": "Diference in days between creation and update"
        },
        "xaxis": {
         "anchor": "y",
         "domain": [
          0,
          1
         ],
         "title": {
          "text": "how_old_was_last_update"
         }
        },
        "yaxis": {
         "anchor": "x",
         "domain": [
          0,
          1
         ],
         "title": {
          "text": "count"
         }
        }
       }
      }
     },
     "metadata": {},
     "output_type": "display_data"
    }
   ],
   "source": [
    "# raw_payments_schedule_backend_table.filter(\"payment_date=3\").join(\n",
    "#     cleaned_backend_table, on=\"user_id\", how=\"left\"\n",
    "# ).show()\n",
    "\n",
    "te =all_backend_table_truth.withColumn(\"dif_creation_update\",\n",
    "    spark_f.date_diff(spark_f.col(\"updated_at\"), spark_f.col(\"creation_date\"))\n",
    ")\n",
    "\n",
    "histogram(\n",
    "    te,\n",
    "    \"how_old_was_last_update\",\n",
    "    \"Diference in days between creation and update\",\n",
    ")\n",
    "\n"
   ]
  },
  {
   "cell_type": "code",
   "execution_count": 190,
   "metadata": {},
   "outputs": [
    {
     "data": {
      "application/vnd.plotly.v1+json": {
       "config": {
        "plotlyServerURL": "https://plot.ly"
       },
       "data": [
        {
         "alignmentgroup": "True",
         "bingroup": "x",
         "hovertemplate": "updated_at=%{x}<br>count=%{y}<extra></extra>",
         "legendgroup": "",
         "marker": {
          "color": "#636efa",
          "pattern": {
           "shape": ""
          }
         },
         "name": "",
         "offsetgroup": "",
         "orientation": "v",
         "showlegend": false,
         "type": "histogram",
         "x": [
          "2024-11-30T12:09:46",
          "2024-11-30T12:06:59.545684",
          "2024-12-01T05:00:26.463878",
          "2024-12-01T05:01:49.419853",
          "2024-12-01T05:00:31.401708",
          "2024-12-01T05:00:36.482433",
          "2024-12-01T05:01:49.556916",
          "2024-11-29T15:01:27",
          "2024-12-01T05:00:39.677223",
          "2024-12-01T05:01:42.959573",
          "2024-12-02T13:39:14",
          "2024-12-01T05:00:27.551085",
          "2024-12-02T10:09:20.830518",
          "2024-11-30T13:29:01",
          "2024-12-01T05:00:42.630646",
          "2024-12-01T05:00:40.115843",
          "2024-12-01T05:01:44.702512",
          "2024-12-03T09:28:10",
          "2024-12-01T05:01:49.556383",
          "2024-12-01T05:01:49.639187",
          "2024-12-01T05:01:54.359421",
          "2024-12-01T05:00:28.686725",
          "2024-12-01T05:00:39.661977",
          "2024-12-01T05:01:47.146570",
          "2024-12-02T17:55:43",
          "2024-12-01T05:00:40.130118",
          "2024-12-01T05:01:44.699560",
          "2024-12-01T05:01:48.480936",
          "2024-12-01T05:00:33.818306",
          "2024-12-01T05:03:44.567381",
          "2024-12-01T05:00:32.979274",
          "2024-12-01T15:22:43",
          "2024-12-01T05:01:45.945191",
          "2024-12-01T05:00:34.793722",
          "2024-12-01T05:01:50.754244",
          "2024-12-01T05:00:29.774003",
          "2024-12-01T05:00:37.510483",
          "2024-12-01T05:01:49.549293",
          "2024-12-01T05:00:40.100406",
          "2024-12-01T05:01:47.101076",
          "2024-12-01T05:00:31.007362",
          "2024-12-01T05:00:31.821368",
          "2024-12-01T05:00:42.124743",
          "2024-12-01T05:00:29.007143",
          "2024-12-01T12:52:36.289111",
          "2024-11-30T14:10:12.049706",
          "2024-12-01T05:00:35.097234",
          "2024-12-01T05:01:47.869506",
          "2024-12-01T05:00:31.871266",
          "2024-12-01T05:00:34.525043",
          "2024-12-01T05:00:29.212946",
          "2024-12-01T05:01:44.313910",
          "2024-12-02T19:10:41.765623",
          "2024-12-01T05:01:46.445896",
          "2024-12-01T05:00:27.052360",
          "2024-12-01T05:01:52.584863",
          "2024-12-01T05:01:48.263892",
          "2024-11-29T15:25:51.330455",
          "2024-12-01T05:01:47.575071",
          "2024-12-01T05:00:32.970075",
          "2024-12-01T05:01:51.525985",
          "2024-12-01T05:01:48.120084",
          "2024-12-01T05:00:39.920810",
          "2024-11-30T13:28:33",
          "2024-12-01T05:00:40.555019",
          "2024-12-01T05:01:55.446348",
          "2024-12-01T05:00:41.145561",
          "2024-12-01T05:01:52.456226",
          "2024-12-01T05:01:44.250428",
          "2024-12-01T05:00:33.841805",
          "2024-12-01T05:00:38.228900",
          "2024-12-01T05:00:36.676448",
          "2024-11-29T20:34:01.521570",
          "2024-11-30T13:29:11",
          "2024-12-01T05:00:40.236481",
          "2024-12-01T05:00:27.557682",
          "2024-12-01T05:00:27.701554",
          "2024-12-01T05:00:28.514607",
          "2024-12-01T05:00:29.034582",
          "2024-12-01T05:00:40.437892",
          "2024-12-01T05:00:30.420879",
          "2024-12-01T05:00:26.064952",
          "2024-12-01T05:01:43.866175",
          "2024-12-01T05:01:48.741871",
          "2024-12-01T05:00:40.159042",
          "2024-12-01T05:01:52.869917",
          "2024-12-01T05:00:27.953916",
          "2024-12-01T05:01:45.732350",
          "2024-12-01T05:00:29.017544",
          "2024-12-03T02:14:13",
          "2024-12-01T05:01:48.014914",
          "2024-12-01T05:01:49.922482",
          "2024-12-01T05:00:28.407953",
          "2024-12-01T05:01:46.740356",
          "2024-12-01T05:00:39.606313",
          "2024-12-01T05:00:31.810347",
          "2024-12-01T05:01:50.633899",
          "2024-12-01T05:01:45.397513",
          "2024-12-01T05:00:30.964633",
          "2024-12-01T05:00:32.099670",
          "2024-12-01T05:00:30.963768",
          "2024-12-01T05:01:49.163878",
          "2024-12-01T05:00:27.904374",
          "2024-11-29T03:40:15.018891",
          "2024-12-01T05:01:47.996439",
          "2024-11-30T14:10:02.990562",
          "2024-12-01T05:01:45.620190",
          "2024-12-01T05:01:52.877045",
          "2024-12-01T05:00:40.170072",
          "2024-12-01T05:00:34.350862",
          "2024-12-01T13:28:32",
          "2024-12-01T05:01:49.187562",
          "2024-12-01T05:01:43.024877",
          "2024-12-01T05:00:29.373109",
          "2024-12-01T05:00:31.642249",
          "2024-12-01T05:00:32.369938",
          "2024-12-01T05:01:53.813200",
          "2024-12-01T05:00:37.580790",
          "2024-11-29T15:25:28.390787",
          "2024-12-01T05:00:27.642697",
          "2024-12-02T17:55:53",
          "2024-12-01T05:00:30.232579",
          "2024-12-01T05:01:50.252267",
          "2024-12-01T05:00:40.299599",
          "2024-12-01T05:00:32.707582",
          "2024-12-01T05:01:46.500858",
          "2024-12-01T05:00:36.411403",
          "2024-12-01T05:01:56.420340",
          "2024-12-01T05:01:51.455697",
          "2024-12-01T05:01:48.220463",
          "2024-12-02T20:38:50",
          "2024-12-01T05:00:28.998751",
          "2024-12-01T05:00:27.907389",
          "2024-11-29T14:31:09.507327",
          "2024-12-01T05:00:38.486235",
          "2024-12-01T05:01:47.376489",
          "2024-12-01T05:00:36.427596",
          "2024-12-01T05:01:49.792369",
          "2024-12-01T05:00:29.505626",
          "2024-12-01T05:01:44.077833",
          "2024-12-01T05:01:50.926265",
          "2024-12-01T05:01:50.577611",
          "2024-12-01T02:42:52.348504",
          "2024-12-01T05:00:34.285398",
          "2024-12-01T05:01:43.373425",
          "2024-12-01T05:00:25.973213",
          "2024-12-01T05:00:30.468236",
          "2024-12-01T05:00:35.002747",
          "2024-12-01T05:01:50.625592",
          "2024-12-01T05:01:51.491525",
          "2024-11-29T16:42:13.817670",
          "2024-12-01T05:00:31.589791",
          "2024-12-01T05:00:35.011741",
          "2024-12-02T13:40:16",
          "2024-12-01T05:01:47.671102",
          "2024-12-01T05:00:27.300956",
          "2024-12-01T05:00:25.901753",
          "2024-12-01T05:00:25.743757",
          "2024-12-01T05:01:53.987770",
          "2024-12-01T05:00:33.721338",
          "2024-12-01T05:01:48.388906",
          "2024-11-30T13:28:50",
          "2024-12-01T05:01:45.040508",
          "2024-12-02T19:45:12",
          "2024-12-01T05:00:28.881540",
          "2024-12-01T05:00:36.790269",
          "2024-12-01T05:01:46.740440",
          "2024-12-01T05:01:49.376083",
          "2024-12-01T20:39:39",
          "2024-11-29T05:00:26.888126",
          "2024-11-29T05:00:36.206495",
          "2024-11-29T01:39:06.712115",
          "2024-11-29T05:00:35.037158",
          "2024-11-30T23:53:19",
          "2024-12-02T05:00:30.985314",
          "2024-11-29T05:00:56.856596",
          "2024-11-30T20:18:33.251675",
          "2024-11-29T05:00:40.717908",
          "2024-11-29T11:38:58.521778",
          "2024-12-01T01:55:51.168734",
          "2024-11-29T05:00:39.508743",
          "2024-11-29T22:02:14",
          "2024-11-30T20:37:34",
          "2024-12-01T03:40:43.196302",
          "2024-11-29T12:28:27",
          "2024-12-01T05:11:50.630258",
          "2024-11-29T05:00:32.124359",
          "2024-12-02T20:39:26.133906",
          "2024-11-30T05:00:29.530065",
          "2024-11-29T05:00:33.163303",
          "2024-11-29T05:00:30.167375",
          "2024-12-01T22:03:51.913237",
          "2024-12-02T05:00:26.428951",
          "2024-12-03T00:16:53",
          "2024-11-30T12:02:53.521933",
          "2024-12-02T05:00:24.793456",
          "2024-12-02T05:00:23.262220",
          "2024-12-02T05:00:24.054454",
          "2024-11-29T05:00:41.410660",
          "2024-11-30T10:37:39.085657",
          "2024-12-02T20:39:17.154264",
          "2024-12-02T05:00:22.328205",
          "2024-11-29T05:00:26.158771",
          "2024-11-29T05:00:31.225087",
          "2024-12-02T14:24:38.183616",
          "2024-12-01T22:19:57",
          "2024-12-01T05:00:35.054734",
          "2024-11-29T05:00:43.154134",
          "2024-12-01T20:23:46.267634",
          "2024-11-29T05:00:36.709283",
          "2024-11-29T05:00:26.164769",
          "2024-11-29T16:22:34",
          "2024-12-01T01:56:08.407899",
          "2024-12-01T05:00:39.444472",
          "2024-12-02T05:00:24.891473",
          "2024-11-29T19:29:42",
          "2024-11-29T05:00:27.247608",
          "2024-12-03T07:00:32.055809",
          "2024-12-02T09:46:09.066979",
          "2024-12-02T05:00:31.243531",
          "2024-12-02T15:41:08",
          "2024-12-02T18:36:03",
          "2024-11-29T12:31:03",
          "2024-11-29T05:00:35.106722",
          "2024-11-29T05:00:46.292972",
          "2024-11-30T05:00:28.638942",
          "2024-12-02T05:00:38.872027",
          "2024-12-02T14:20:57",
          "2024-11-29T05:00:28.265067",
          "2024-11-29T05:00:25.737983",
          "2024-12-02T05:00:24.470852",
          "2024-12-02T22:43:51",
          "2024-12-02T11:17:51.231072",
          "2024-12-02T05:00:24.428658",
          "2024-11-29T05:00:40.916538",
          "2024-12-03T01:17:57",
          "2024-11-29T05:00:41.931315",
          "2024-11-29T05:00:32.970956",
          "2024-12-03T00:20:28",
          "2024-12-02T20:50:11",
          "2024-12-01T05:00:30.693104",
          "2024-11-29T05:00:31.596739",
          "2024-12-03T05:00:34.347187",
          "2024-11-29T12:47:41",
          "2024-12-01T05:01:45.073487",
          "2024-11-30T05:00:28.223281",
          "2024-11-29T05:00:23.175551",
          "2024-12-02T05:00:24.034196",
          "2024-12-02T23:09:17",
          "2024-12-02T05:00:29.313686",
          "2024-11-30T22:55:34",
          "2024-12-03T00:20:03",
          "2024-12-01T05:01:47.174786",
          "2024-12-03T05:00:26.987818",
          "2024-12-02T00:02:53.529548",
          "2024-11-29T05:00:40.558765",
          "2024-11-29T05:00:41.608932",
          "2024-11-29T05:00:42.496621",
          "2024-11-29T05:00:35.605805",
          "2024-11-30T05:00:35.362576",
          "2024-11-29T05:00:35.361866",
          "2024-11-29T05:00:39.530616",
          "2024-12-02T05:00:23.969996",
          "2024-11-29T10:06:40",
          "2024-11-30T05:00:26.981485",
          "2024-12-03T00:20:50",
          "2024-11-29T05:00:39.362551",
          "2024-11-29T05:00:47.435316",
          "2024-11-29T05:00:43.116164",
          "2024-11-29T19:29:08.374852",
          "2024-11-29T05:00:42.573689",
          "2024-11-30T05:00:30.218592",
          "2024-12-01T22:19:35",
          "2024-12-01T05:01:43.042103",
          "2024-12-02T18:25:57.707051",
          "2024-12-01T05:00:40.167809",
          "2024-11-29T05:00:38.018977",
          "2024-11-29T05:00:24.639337",
          "2024-11-29T16:22:22",
          "2024-11-29T05:00:32.214166",
          "2024-11-29T05:00:32.913562",
          "2024-11-29T05:00:41.480297",
          "2024-11-29T11:59:58",
          "2024-11-29T21:04:00",
          "2024-11-29T05:00:35.233025",
          "2024-11-29T05:00:34.020275",
          "2024-12-02T11:32:03",
          "2024-12-01T05:00:30.419463",
          "2024-12-02T05:00:30.693558",
          "2024-11-29T05:00:33.464498",
          "2024-12-02T11:31:49",
          "2024-11-29T05:00:35.362537",
          "2024-11-29T21:06:35",
          "2024-11-30T05:00:27.774539",
          "2024-11-29T05:00:35.828866",
          "2024-11-29T05:00:38.465457",
          "2024-11-29T11:38:43",
          "2024-11-29T05:01:21.777475",
          "2024-11-29T05:00:31.560201",
          "2024-11-29T05:00:31.685738",
          "2024-11-30T18:50:44.578649",
          "2024-12-02T05:00:38.052691",
          "2024-11-29T05:00:44.507417",
          "2024-11-29T12:34:36",
          "2024-12-02T18:25:46.786019",
          "2024-12-01T20:36:06",
          "2024-11-29T05:00:32.922042",
          "2024-12-02T05:00:30.718517",
          "2024-12-02T05:00:24.411075",
          "2024-12-02T05:00:25.925265",
          "2024-12-03T07:00:34.804481",
          "2024-12-01T05:01:49.326953",
          "2024-11-29T05:00:26.515422",
          "2024-12-02T05:00:23.345169",
          "2024-12-03T01:18:17",
          "2024-12-02T05:00:31.268521",
          "2024-11-29T05:00:40.974694",
          "2024-11-29T05:01:17.462826",
          "2024-11-29T12:29:34",
          "2024-11-29T05:00:38.543781",
          "2024-11-29T05:00:38.073897",
          "2024-11-29T05:00:32.233389",
          "2024-11-29T05:00:35.143965",
          "2024-11-29T05:00:25.936471",
          "2024-11-29T22:16:02.416147",
          "2024-12-02T05:00:29.579775",
          "2024-11-29T05:00:31.378074",
          "2024-11-29T05:00:54.973036",
          "2024-12-01T05:00:35.062968",
          "2024-12-01T18:04:43",
          "2024-11-29T05:00:31.701752",
          "2024-11-29T11:59:27",
          "2024-11-30T12:22:00",
          "2024-11-29T21:02:56",
          "2024-11-30T05:00:27.002450",
          "2024-11-29T05:00:26.095789",
          "2024-12-01T23:14:13.037931",
          "2024-12-01T15:53:06.824619",
          "2024-11-29T05:00:31.051212",
          "2024-11-29T05:00:42.994950",
          "2024-12-02T05:00:31.079495",
          "2024-12-02T05:00:31.207115",
          "2024-12-01T05:00:28.715074",
          "2024-12-01T05:00:27.332126",
          "2024-12-01T05:01:46.574670",
          "2024-11-29T21:34:02.287961",
          "2024-11-29T05:00:38.788716",
          "2024-12-01T05:01:46.874068",
          "2024-11-29T05:00:44.712100",
          "2024-11-29T05:00:31.583762",
          "2024-12-01T05:01:50.977139",
          "2024-11-29T05:00:43.199442",
          "2024-11-30T05:00:30.652919",
          "2024-11-30T05:00:31.054351",
          "2024-11-29T05:00:36.553030",
          "2024-11-29T05:00:40.912066",
          "2024-12-01T05:01:48.438606",
          "2024-11-29T18:28:50.455895",
          "2024-11-29T05:00:33.659709",
          "2024-12-02T05:00:31.868426",
          "2024-11-29T05:00:27.302353",
          "2024-12-02T05:00:32.351496",
          "2024-11-29T05:00:32.729977",
          "2024-11-29T05:00:45.907524",
          "2024-12-01T05:01:44.167800",
          "2024-12-02T05:00:38.139818",
          "2024-12-01T05:00:28.525406",
          "2024-11-29T05:00:33.602541",
          "2024-11-29T05:00:40.959932",
          "2024-11-29T05:00:34.319697",
          "2024-12-01T05:01:45.674829",
          "2024-11-30T05:00:32.954405",
          "2024-12-02T05:00:31.873545",
          "2024-11-29T05:00:50.884657",
          "2024-11-29T05:00:36.260812",
          "2024-11-29T05:00:44.133693",
          "2024-12-02T05:00:28.933468",
          "2024-11-29T05:00:42.157223",
          "2024-11-29T05:00:34.198186",
          "2024-12-02T15:35:45",
          "2024-11-29T05:00:40.688973",
          "2024-12-03T05:00:31.426717",
          "2024-12-03T05:00:29.511125",
          "2024-11-30T05:00:31.650975",
          "2024-11-29T05:00:31.216013",
          "2024-11-29T05:00:46.046994",
          "2024-12-01T05:00:37.395310",
          "2024-11-29T05:00:31.938697",
          "2024-11-29T05:00:26.070978",
          "2024-11-29T05:00:36.015685",
          "2024-12-01T16:39:28",
          "2024-12-02T05:00:24.816015",
          "2024-11-30T20:28:44",
          "2024-11-29T05:00:32.886429",
          "2024-11-29T05:00:34.881458",
          "2024-12-01T05:00:38.642979",
          "2024-11-29T05:00:31.170773",
          "2024-12-02T09:46:51",
          "2024-11-29T05:00:35.183667",
          "2024-11-29T05:00:43.744927",
          "2024-11-29T05:00:39.534102",
          "2024-11-29T05:00:41.224497",
          "2024-11-29T05:00:38.823384",
          "2024-12-01T05:01:48.488342",
          "2024-11-29T05:00:36.325417",
          "2024-12-02T05:00:35.183788",
          "2024-11-29T05:00:38.493070",
          "2024-12-02T05:00:29.754075",
          "2024-11-29T05:00:37.797280",
          "2024-11-29T17:30:48",
          "2024-12-02T05:00:31.600938",
          "2024-11-29T05:00:26.562639",
          "2024-11-30T05:00:32.039877",
          "2024-11-29T05:00:26.002233",
          "2024-12-02T05:00:30.673625",
          "2024-11-29T05:00:41.943409",
          "2024-11-29T05:00:34.391004",
          "2024-12-03T05:00:28.429968",
          "2024-11-29T05:00:26.296559",
          "2024-12-01T05:00:29.923124",
          "2024-11-29T05:00:36.130680",
          "2024-11-29T05:00:41.227900",
          "2024-11-29T05:00:33.020425",
          "2024-11-29T05:00:38.801423",
          "2024-11-30T05:00:31.874392",
          "2024-11-29T05:00:46.336704",
          "2024-11-29T05:00:26.037185",
          "2024-12-02T05:00:31.173567",
          "2024-11-30T05:39:14.902575",
          "2024-11-30T05:00:34.272038",
          "2024-11-29T05:00:41.343647",
          "2024-11-29T05:00:25.932940",
          "2024-11-29T05:00:33.800264",
          "2024-11-30T05:00:32.310078",
          "2024-11-30T15:07:04.356093",
          "2024-12-01T05:01:47.868770",
          "2024-11-29T05:00:44.572531",
          "2024-11-29T05:00:33.415980",
          "2024-11-30T05:00:34.544944",
          "2024-12-02T05:00:37.368096",
          "2024-11-29T05:00:41.554317",
          "2024-11-30T05:00:29.909090",
          "2024-11-29T05:00:41.153984",
          "2024-12-02T05:00:31.805970",
          "2024-12-01T05:01:49.035700",
          "2024-11-29T05:00:41.510992",
          "2024-11-29T05:00:32.325866",
          "2024-12-02T05:00:30.575270",
          "2024-12-01T05:01:52.049954",
          "2024-11-29T05:00:40.146448",
          "2024-11-29T05:00:26.228690",
          "2024-11-29T05:00:36.710734",
          "2024-12-02T05:00:30.490857",
          "2024-12-02T05:00:30.066430",
          "2024-12-02T05:00:42.536842",
          "2024-12-02T05:00:35.276788",
          "2024-12-03T05:00:26.580487",
          "2024-12-02T05:00:55.085398",
          "2024-12-01T20:40:00",
          "2024-12-01T05:01:52.098690",
          "2024-12-01T05:01:48.334710",
          "2024-11-29T05:00:42.671912",
          "2024-11-29T05:00:42.298978",
          "2024-11-29T05:00:33.917790",
          "2024-12-02T05:00:24.576497",
          "2024-11-30T18:00:31.592143",
          "2024-12-01T05:00:31.892861",
          "2024-11-29T05:00:32.302281",
          "2024-11-29T05:00:36.310378",
          "2024-11-29T05:00:34.907852",
          "2024-11-30T05:00:29.503988",
          "2024-12-02T05:00:31.968350",
          "2024-12-03T03:39:37",
          "2024-12-01T20:39:19",
          "2024-11-29T05:00:38.864272",
          "2024-11-29T05:00:34.740041",
          "2024-12-03T05:00:28.597316",
          "2024-12-01T05:00:29.791231",
          "2024-11-29T05:00:40.406288",
          "2024-12-01T15:52:57.957491",
          "2024-11-30T22:19:02.871997",
          "2024-12-02T17:49:34.839477",
          "2024-12-02T05:00:31.665246",
          "2024-11-29T05:00:26.730207",
          "2024-11-29T05:00:37.382854",
          "2024-12-01T05:01:47.747661",
          "2024-12-02T05:00:31.669162",
          "2024-11-29T05:00:45.205484",
          "2024-12-02T16:33:07.979965",
          "2024-11-30T12:05:05.503289",
          "2024-11-29T05:00:28.151433",
          "2024-12-01T05:01:48.490941",
          "2024-11-29T12:08:23.436401",
          "2024-12-02T05:00:35.843012",
          "2024-12-01T05:00:29.314171",
          "2024-11-30T05:00:31.954347",
          "2024-12-03T07:00:27.456187",
          "2024-11-29T05:00:43.089602",
          "2024-11-29T20:53:08",
          "2024-12-03T05:00:27.839762",
          "2024-11-29T05:00:32.646348",
          "2024-12-01T05:01:50.882183",
          "2024-11-29T05:00:45.560417",
          "2024-11-29T05:00:43.085333",
          "2024-12-01T05:00:26.539064",
          "2024-11-29T05:00:35.000259",
          "2024-12-03T05:00:30.208406",
          "2024-12-03T05:00:30.563271",
          "2024-12-02T05:00:31.078977",
          "2024-12-01T05:01:44.424804",
          "2024-11-30T05:00:40.553036",
          "2024-11-30T05:00:28.380269",
          "2024-12-01T05:00:54.769455",
          "2024-11-29T12:08:31.395150",
          "2024-12-02T05:00:30.917147",
          "2024-11-29T05:00:31.347708",
          "2024-12-02T23:25:24",
          "2024-12-02T05:00:24.679338",
          "2024-11-29T05:00:41.936057",
          "2024-11-30T14:32:29.529370",
          "2024-12-01T05:00:29.859306",
          "2024-12-01T05:00:31.754762",
          "2024-11-29T05:00:26.062494",
          "2024-11-29T05:00:35.120222",
          "2024-11-29T05:00:51.078001",
          "2024-11-29T05:00:40.480803",
          "2024-12-01T05:01:55.103153",
          "2024-12-01T05:00:31.520452",
          "2024-11-29T05:00:25.948149",
          "2024-12-01T15:53:24.319839",
          "2024-11-29T05:00:31.873177",
          "2024-11-29T05:01:27.453309",
          "2024-12-01T05:00:27.144900",
          "2024-12-02T05:00:29.119182",
          "2024-12-01T05:01:44.903576",
          "2024-11-29T05:00:27.195827",
          "2024-11-29T05:00:26.137776",
          "2024-11-29T05:00:41.453546",
          "2024-11-30T17:15:03.707720",
          "2024-11-30T05:00:32.774878",
          "2024-11-29T05:00:51.224563",
          "2024-12-01T05:01:46.043792",
          "2024-12-01T18:57:14.843580",
          "2024-11-29T05:01:16.584912",
          "2024-11-29T05:00:32.710756",
          "2024-12-02T05:00:22.459603",
          "2024-12-01T05:00:39.123630",
          "2024-11-29T05:00:33.587061",
          "2024-12-03T01:43:44.703051",
          "2024-12-01T05:00:30.286830",
          "2024-11-29T05:00:38.992447",
          "2024-11-29T05:00:27.367532",
          "2024-12-01T05:00:29.124341",
          "2024-11-29T05:00:42.252332",
          "2024-12-03T07:00:31.890469",
          "2024-11-29T21:20:33.736874",
          "2024-11-29T05:00:34.414152",
          "2024-12-01T18:05:16.179088",
          "2024-12-01T23:45:33",
          "2024-11-29T05:00:38.763235",
          "2024-11-29T05:00:41.681782",
          "2024-12-02T05:00:32.199798",
          "2024-11-29T05:00:36.218995",
          "2024-11-29T05:00:25.099711",
          "2024-11-30T05:00:30.187662",
          "2024-11-29T05:00:37.188421",
          "2024-12-01T05:01:47.458372",
          "2024-11-29T05:00:32.345111",
          "2024-11-29T05:01:17.381494",
          "2024-11-29T05:00:26.241684",
          "2024-11-30T05:00:31.682676",
          "2024-12-01T05:00:39.829524",
          "2024-12-01T05:00:29.599458",
          "2024-12-01T05:01:44.641522",
          "2024-12-02T05:00:30.400343",
          "2024-11-29T05:00:44.813049",
          "2024-11-29T05:00:40.924926",
          "2024-12-01T05:01:45.888183",
          "2024-11-30T05:00:29.966890",
          "2024-11-30T05:00:27.016776",
          "2024-12-03T09:57:12.950212",
          "2024-12-02T05:00:51.168061",
          "2024-12-01T05:00:26.711597",
          "2024-11-29T05:00:38.519409",
          "2024-12-02T05:00:22.426403",
          "2024-11-29T05:00:26.163497",
          "2024-12-02T05:00:30.023968",
          "2024-12-01T05:00:37.869913",
          "2024-11-29T05:00:44.634945",
          "2024-11-29T05:00:36.353434",
          "2024-12-03T05:00:28.476109",
          "2024-11-30T05:00:27.218075",
          "2024-12-01T05:01:49.136679",
          "2024-12-01T05:00:30.373092",
          "2024-12-01T05:01:48.448603",
          "2024-12-01T05:01:43.760503",
          "2024-12-01T00:13:31.902576",
          "2024-11-29T05:00:25.280064",
          "2024-12-01T05:00:29.825870",
          "2024-11-29T05:00:28.340002",
          "2024-11-29T05:00:31.649614",
          "2024-11-30T05:00:30.500119",
          "2024-12-02T05:00:24.791087",
          "2024-12-03T00:54:46.996212",
          "2024-11-29T05:00:42.879006",
          "2024-11-29T05:00:43.551962",
          "2024-11-29T22:42:43.939971",
          "2024-11-29T05:00:35.828083",
          "2024-11-29T05:01:17.857054",
          "2024-12-03T05:00:29.774392",
          "2024-11-29T05:00:36.517544",
          "2024-12-02T05:00:29.879325",
          "2024-11-30T05:00:28.679261",
          "2024-12-01T05:00:37.545971",
          "2024-11-29T05:00:41.465515",
          "2024-11-30T14:48:14.898816",
          "2024-12-01T05:00:38.299457",
          "2024-12-01T05:00:33.963601",
          "2024-11-30T03:45:02.803179",
          "2024-11-29T05:00:26.084788",
          "2024-12-01T05:00:31.858237",
          "2024-11-30T05:00:28.835160",
          "2024-12-01T05:01:45.708563",
          "2024-12-02T05:00:29.400727",
          "2024-11-30T05:00:31.206441",
          "2024-12-03T03:36:34",
          "2024-11-29T05:00:27.159409",
          "2024-11-29T05:00:34.671828",
          "2024-12-01T05:01:42.903924",
          "2024-11-29T05:00:35.747388",
          "2024-11-30T23:46:27",
          "2024-11-30T17:14:28.705738",
          "2024-11-29T05:01:18.942677",
          "2024-11-30T05:00:27.799993",
          "2024-11-29T05:00:24.159556",
          "2024-11-30T05:00:31.058778",
          "2024-11-29T05:00:29.614590",
          "2024-12-03T05:00:29.452930",
          "2024-12-01T05:01:46.525069",
          "2024-12-01T05:00:28.524175",
          "2024-12-01T05:00:40.480711",
          "2024-11-30T05:00:28.915332",
          "2024-11-29T05:00:34.558689",
          "2024-12-01T05:01:44.199921",
          "2024-11-29T05:00:40.940697",
          "2024-11-30T05:00:32.815297",
          "2024-11-29T05:00:32.310625",
          "2024-11-29T05:00:38.900506",
          "2024-12-01T05:00:32.391006",
          "2024-12-02T05:00:30.303539",
          "2024-11-30T05:00:29.199604",
          "2024-12-02T05:00:30.719159",
          "2024-12-01T05:00:32.784187",
          "2024-11-29T05:00:34.076523",
          "2024-11-29T05:01:21.807495",
          "2024-11-29T05:00:27.259032",
          "2024-11-29T05:00:45.598264",
          "2024-12-02T05:00:30.993664",
          "2024-12-01T05:00:30.002797",
          "2024-12-02T05:00:31.808243",
          "2024-11-30T05:00:28.389651",
          "2024-11-29T05:00:31.672623",
          "2024-12-02T05:00:33.162013",
          "2024-12-02T05:00:45.268884",
          "2024-11-29T05:00:36.334928",
          "2024-12-01T05:01:44.700817",
          "2024-12-02T04:34:33",
          "2024-11-29T05:00:38.026579",
          "2024-11-29T05:01:16.766194",
          "2024-12-01T05:01:47.400646",
          "2024-12-02T05:00:32.004630",
          "2024-12-03T10:07:41.058458",
          "2024-11-29T19:48:54",
          "2024-11-29T05:01:18.555925",
          "2024-11-29T05:00:33.110388",
          "2024-12-01T05:01:45.439067",
          "2024-11-29T05:00:40.672390"
         ],
         "xaxis": "x",
         "yaxis": "y"
        }
       ],
       "layout": {
        "barmode": "relative",
        "legend": {
         "tracegroupgap": 0
        },
        "template": {
         "data": {
          "bar": [
           {
            "error_x": {
             "color": "#2a3f5f"
            },
            "error_y": {
             "color": "#2a3f5f"
            },
            "marker": {
             "line": {
              "color": "#E5ECF6",
              "width": 0.5
             },
             "pattern": {
              "fillmode": "overlay",
              "size": 10,
              "solidity": 0.2
             }
            },
            "type": "bar"
           }
          ],
          "barpolar": [
           {
            "marker": {
             "line": {
              "color": "#E5ECF6",
              "width": 0.5
             },
             "pattern": {
              "fillmode": "overlay",
              "size": 10,
              "solidity": 0.2
             }
            },
            "type": "barpolar"
           }
          ],
          "carpet": [
           {
            "aaxis": {
             "endlinecolor": "#2a3f5f",
             "gridcolor": "white",
             "linecolor": "white",
             "minorgridcolor": "white",
             "startlinecolor": "#2a3f5f"
            },
            "baxis": {
             "endlinecolor": "#2a3f5f",
             "gridcolor": "white",
             "linecolor": "white",
             "minorgridcolor": "white",
             "startlinecolor": "#2a3f5f"
            },
            "type": "carpet"
           }
          ],
          "choropleth": [
           {
            "colorbar": {
             "outlinewidth": 0,
             "ticks": ""
            },
            "type": "choropleth"
           }
          ],
          "contour": [
           {
            "colorbar": {
             "outlinewidth": 0,
             "ticks": ""
            },
            "colorscale": [
             [
              0,
              "#0d0887"
             ],
             [
              0.1111111111111111,
              "#46039f"
             ],
             [
              0.2222222222222222,
              "#7201a8"
             ],
             [
              0.3333333333333333,
              "#9c179e"
             ],
             [
              0.4444444444444444,
              "#bd3786"
             ],
             [
              0.5555555555555556,
              "#d8576b"
             ],
             [
              0.6666666666666666,
              "#ed7953"
             ],
             [
              0.7777777777777778,
              "#fb9f3a"
             ],
             [
              0.8888888888888888,
              "#fdca26"
             ],
             [
              1,
              "#f0f921"
             ]
            ],
            "type": "contour"
           }
          ],
          "contourcarpet": [
           {
            "colorbar": {
             "outlinewidth": 0,
             "ticks": ""
            },
            "type": "contourcarpet"
           }
          ],
          "heatmap": [
           {
            "colorbar": {
             "outlinewidth": 0,
             "ticks": ""
            },
            "colorscale": [
             [
              0,
              "#0d0887"
             ],
             [
              0.1111111111111111,
              "#46039f"
             ],
             [
              0.2222222222222222,
              "#7201a8"
             ],
             [
              0.3333333333333333,
              "#9c179e"
             ],
             [
              0.4444444444444444,
              "#bd3786"
             ],
             [
              0.5555555555555556,
              "#d8576b"
             ],
             [
              0.6666666666666666,
              "#ed7953"
             ],
             [
              0.7777777777777778,
              "#fb9f3a"
             ],
             [
              0.8888888888888888,
              "#fdca26"
             ],
             [
              1,
              "#f0f921"
             ]
            ],
            "type": "heatmap"
           }
          ],
          "heatmapgl": [
           {
            "colorbar": {
             "outlinewidth": 0,
             "ticks": ""
            },
            "colorscale": [
             [
              0,
              "#0d0887"
             ],
             [
              0.1111111111111111,
              "#46039f"
             ],
             [
              0.2222222222222222,
              "#7201a8"
             ],
             [
              0.3333333333333333,
              "#9c179e"
             ],
             [
              0.4444444444444444,
              "#bd3786"
             ],
             [
              0.5555555555555556,
              "#d8576b"
             ],
             [
              0.6666666666666666,
              "#ed7953"
             ],
             [
              0.7777777777777778,
              "#fb9f3a"
             ],
             [
              0.8888888888888888,
              "#fdca26"
             ],
             [
              1,
              "#f0f921"
             ]
            ],
            "type": "heatmapgl"
           }
          ],
          "histogram": [
           {
            "marker": {
             "pattern": {
              "fillmode": "overlay",
              "size": 10,
              "solidity": 0.2
             }
            },
            "type": "histogram"
           }
          ],
          "histogram2d": [
           {
            "colorbar": {
             "outlinewidth": 0,
             "ticks": ""
            },
            "colorscale": [
             [
              0,
              "#0d0887"
             ],
             [
              0.1111111111111111,
              "#46039f"
             ],
             [
              0.2222222222222222,
              "#7201a8"
             ],
             [
              0.3333333333333333,
              "#9c179e"
             ],
             [
              0.4444444444444444,
              "#bd3786"
             ],
             [
              0.5555555555555556,
              "#d8576b"
             ],
             [
              0.6666666666666666,
              "#ed7953"
             ],
             [
              0.7777777777777778,
              "#fb9f3a"
             ],
             [
              0.8888888888888888,
              "#fdca26"
             ],
             [
              1,
              "#f0f921"
             ]
            ],
            "type": "histogram2d"
           }
          ],
          "histogram2dcontour": [
           {
            "colorbar": {
             "outlinewidth": 0,
             "ticks": ""
            },
            "colorscale": [
             [
              0,
              "#0d0887"
             ],
             [
              0.1111111111111111,
              "#46039f"
             ],
             [
              0.2222222222222222,
              "#7201a8"
             ],
             [
              0.3333333333333333,
              "#9c179e"
             ],
             [
              0.4444444444444444,
              "#bd3786"
             ],
             [
              0.5555555555555556,
              "#d8576b"
             ],
             [
              0.6666666666666666,
              "#ed7953"
             ],
             [
              0.7777777777777778,
              "#fb9f3a"
             ],
             [
              0.8888888888888888,
              "#fdca26"
             ],
             [
              1,
              "#f0f921"
             ]
            ],
            "type": "histogram2dcontour"
           }
          ],
          "mesh3d": [
           {
            "colorbar": {
             "outlinewidth": 0,
             "ticks": ""
            },
            "type": "mesh3d"
           }
          ],
          "parcoords": [
           {
            "line": {
             "colorbar": {
              "outlinewidth": 0,
              "ticks": ""
             }
            },
            "type": "parcoords"
           }
          ],
          "pie": [
           {
            "automargin": true,
            "type": "pie"
           }
          ],
          "scatter": [
           {
            "fillpattern": {
             "fillmode": "overlay",
             "size": 10,
             "solidity": 0.2
            },
            "type": "scatter"
           }
          ],
          "scatter3d": [
           {
            "line": {
             "colorbar": {
              "outlinewidth": 0,
              "ticks": ""
             }
            },
            "marker": {
             "colorbar": {
              "outlinewidth": 0,
              "ticks": ""
             }
            },
            "type": "scatter3d"
           }
          ],
          "scattercarpet": [
           {
            "marker": {
             "colorbar": {
              "outlinewidth": 0,
              "ticks": ""
             }
            },
            "type": "scattercarpet"
           }
          ],
          "scattergeo": [
           {
            "marker": {
             "colorbar": {
              "outlinewidth": 0,
              "ticks": ""
             }
            },
            "type": "scattergeo"
           }
          ],
          "scattergl": [
           {
            "marker": {
             "colorbar": {
              "outlinewidth": 0,
              "ticks": ""
             }
            },
            "type": "scattergl"
           }
          ],
          "scattermapbox": [
           {
            "marker": {
             "colorbar": {
              "outlinewidth": 0,
              "ticks": ""
             }
            },
            "type": "scattermapbox"
           }
          ],
          "scatterpolar": [
           {
            "marker": {
             "colorbar": {
              "outlinewidth": 0,
              "ticks": ""
             }
            },
            "type": "scatterpolar"
           }
          ],
          "scatterpolargl": [
           {
            "marker": {
             "colorbar": {
              "outlinewidth": 0,
              "ticks": ""
             }
            },
            "type": "scatterpolargl"
           }
          ],
          "scatterternary": [
           {
            "marker": {
             "colorbar": {
              "outlinewidth": 0,
              "ticks": ""
             }
            },
            "type": "scatterternary"
           }
          ],
          "surface": [
           {
            "colorbar": {
             "outlinewidth": 0,
             "ticks": ""
            },
            "colorscale": [
             [
              0,
              "#0d0887"
             ],
             [
              0.1111111111111111,
              "#46039f"
             ],
             [
              0.2222222222222222,
              "#7201a8"
             ],
             [
              0.3333333333333333,
              "#9c179e"
             ],
             [
              0.4444444444444444,
              "#bd3786"
             ],
             [
              0.5555555555555556,
              "#d8576b"
             ],
             [
              0.6666666666666666,
              "#ed7953"
             ],
             [
              0.7777777777777778,
              "#fb9f3a"
             ],
             [
              0.8888888888888888,
              "#fdca26"
             ],
             [
              1,
              "#f0f921"
             ]
            ],
            "type": "surface"
           }
          ],
          "table": [
           {
            "cells": {
             "fill": {
              "color": "#EBF0F8"
             },
             "line": {
              "color": "white"
             }
            },
            "header": {
             "fill": {
              "color": "#C8D4E3"
             },
             "line": {
              "color": "white"
             }
            },
            "type": "table"
           }
          ]
         },
         "layout": {
          "annotationdefaults": {
           "arrowcolor": "#2a3f5f",
           "arrowhead": 0,
           "arrowwidth": 1
          },
          "autotypenumbers": "strict",
          "coloraxis": {
           "colorbar": {
            "outlinewidth": 0,
            "ticks": ""
           }
          },
          "colorscale": {
           "diverging": [
            [
             0,
             "#8e0152"
            ],
            [
             0.1,
             "#c51b7d"
            ],
            [
             0.2,
             "#de77ae"
            ],
            [
             0.3,
             "#f1b6da"
            ],
            [
             0.4,
             "#fde0ef"
            ],
            [
             0.5,
             "#f7f7f7"
            ],
            [
             0.6,
             "#e6f5d0"
            ],
            [
             0.7,
             "#b8e186"
            ],
            [
             0.8,
             "#7fbc41"
            ],
            [
             0.9,
             "#4d9221"
            ],
            [
             1,
             "#276419"
            ]
           ],
           "sequential": [
            [
             0,
             "#0d0887"
            ],
            [
             0.1111111111111111,
             "#46039f"
            ],
            [
             0.2222222222222222,
             "#7201a8"
            ],
            [
             0.3333333333333333,
             "#9c179e"
            ],
            [
             0.4444444444444444,
             "#bd3786"
            ],
            [
             0.5555555555555556,
             "#d8576b"
            ],
            [
             0.6666666666666666,
             "#ed7953"
            ],
            [
             0.7777777777777778,
             "#fb9f3a"
            ],
            [
             0.8888888888888888,
             "#fdca26"
            ],
            [
             1,
             "#f0f921"
            ]
           ],
           "sequentialminus": [
            [
             0,
             "#0d0887"
            ],
            [
             0.1111111111111111,
             "#46039f"
            ],
            [
             0.2222222222222222,
             "#7201a8"
            ],
            [
             0.3333333333333333,
             "#9c179e"
            ],
            [
             0.4444444444444444,
             "#bd3786"
            ],
            [
             0.5555555555555556,
             "#d8576b"
            ],
            [
             0.6666666666666666,
             "#ed7953"
            ],
            [
             0.7777777777777778,
             "#fb9f3a"
            ],
            [
             0.8888888888888888,
             "#fdca26"
            ],
            [
             1,
             "#f0f921"
            ]
           ]
          },
          "colorway": [
           "#636efa",
           "#EF553B",
           "#00cc96",
           "#ab63fa",
           "#FFA15A",
           "#19d3f3",
           "#FF6692",
           "#B6E880",
           "#FF97FF",
           "#FECB52"
          ],
          "font": {
           "color": "#2a3f5f"
          },
          "geo": {
           "bgcolor": "white",
           "lakecolor": "white",
           "landcolor": "#E5ECF6",
           "showlakes": true,
           "showland": true,
           "subunitcolor": "white"
          },
          "hoverlabel": {
           "align": "left"
          },
          "hovermode": "closest",
          "mapbox": {
           "style": "light"
          },
          "paper_bgcolor": "white",
          "plot_bgcolor": "#E5ECF6",
          "polar": {
           "angularaxis": {
            "gridcolor": "white",
            "linecolor": "white",
            "ticks": ""
           },
           "bgcolor": "#E5ECF6",
           "radialaxis": {
            "gridcolor": "white",
            "linecolor": "white",
            "ticks": ""
           }
          },
          "scene": {
           "xaxis": {
            "backgroundcolor": "#E5ECF6",
            "gridcolor": "white",
            "gridwidth": 2,
            "linecolor": "white",
            "showbackground": true,
            "ticks": "",
            "zerolinecolor": "white"
           },
           "yaxis": {
            "backgroundcolor": "#E5ECF6",
            "gridcolor": "white",
            "gridwidth": 2,
            "linecolor": "white",
            "showbackground": true,
            "ticks": "",
            "zerolinecolor": "white"
           },
           "zaxis": {
            "backgroundcolor": "#E5ECF6",
            "gridcolor": "white",
            "gridwidth": 2,
            "linecolor": "white",
            "showbackground": true,
            "ticks": "",
            "zerolinecolor": "white"
           }
          },
          "shapedefaults": {
           "line": {
            "color": "#2a3f5f"
           }
          },
          "ternary": {
           "aaxis": {
            "gridcolor": "white",
            "linecolor": "white",
            "ticks": ""
           },
           "baxis": {
            "gridcolor": "white",
            "linecolor": "white",
            "ticks": ""
           },
           "bgcolor": "#E5ECF6",
           "caxis": {
            "gridcolor": "white",
            "linecolor": "white",
            "ticks": ""
           }
          },
          "title": {
           "x": 0.05
          },
          "xaxis": {
           "automargin": true,
           "gridcolor": "white",
           "linecolor": "white",
           "ticks": "",
           "title": {
            "standoff": 15
           },
           "zerolinecolor": "white",
           "zerolinewidth": 2
          },
          "yaxis": {
           "automargin": true,
           "gridcolor": "white",
           "linecolor": "white",
           "ticks": "",
           "title": {
            "standoff": 15
           },
           "zerolinecolor": "white",
           "zerolinewidth": 2
          }
         }
        },
        "title": {
         "text": "ate"
        },
        "xaxis": {
         "anchor": "y",
         "domain": [
          0,
          1
         ],
         "title": {
          "text": "updated_at"
         }
        },
        "yaxis": {
         "anchor": "x",
         "domain": [
          0,
          1
         ],
         "title": {
          "text": "count"
         }
        }
       }
      }
     },
     "metadata": {},
     "output_type": "display_data"
    }
   ],
   "source": [
    "tt=te.filter(\"how_old_was_last_update <= 4\")\n",
    "histogram(\n",
    "    tt,\n",
    "    \"updated_at\",\n",
    "    \"ate\",\n",
    ")"
   ]
  },
  {
   "cell_type": "markdown",
   "metadata": {},
   "source": []
  }
 ],
 "metadata": {
  "kernelspec": {
   "display_name": ".venv",
   "language": "python",
   "name": "python3"
  },
  "language_info": {
   "codemirror_mode": {
    "name": "ipython",
    "version": 3
   },
   "file_extension": ".py",
   "mimetype": "text/x-python",
   "name": "python",
   "nbconvert_exporter": "python",
   "pygments_lexer": "ipython3",
   "version": "3.12.3"
  }
 },
 "nbformat": 4,
 "nbformat_minor": 2
}
